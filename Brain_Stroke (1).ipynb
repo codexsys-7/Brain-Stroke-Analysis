{
 "cells": [
  {
   "cell_type": "markdown",
   "metadata": {
    "id": "q-n9h7SpUQoI"
   },
   "source": [
    "# **Brain Stroke Prediction Using Machine Learning and Data Sciecne.**\n",
    "\n"
   ]
  },
  {
   "cell_type": "markdown",
   "metadata": {
    "id": "Rdctd9COUGWU"
   },
   "source": [
    "### **Importing Necessary Libraries.**"
   ]
  },
  {
   "cell_type": "code",
   "execution_count": 1,
   "metadata": {},
   "outputs": [
    {
     "name": "stdout",
     "output_type": "stream",
     "text": [
      "Requirement already satisfied: autoviz in c:\\users\\ab\\appdata\\local\\programs\\python\\python38\\lib\\site-packages (0.0.81)\n",
      "Requirement already satisfied: pandas in c:\\users\\ab\\appdata\\local\\programs\\python\\python38\\lib\\site-packages (from autoviz) (1.1.5)\n",
      "Requirement already satisfied: statsmodels in c:\\users\\ab\\appdata\\local\\programs\\python\\python38\\lib\\site-packages (from autoviz) (0.12.1)\n",
      "Requirement already satisfied: ipython in c:\\users\\ab\\appdata\\local\\programs\\python\\python38\\lib\\site-packages (from autoviz) (7.19.0)\n",
      "Requirement already satisfied: xgboost in c:\\users\\ab\\appdata\\local\\programs\\python\\python38\\lib\\site-packages (from autoviz) (1.4.1)\n",
      "Requirement already satisfied: scikit-learn in c:\\users\\ab\\appdata\\local\\programs\\python\\python38\\lib\\site-packages (from autoviz) (0.24.0)\n",
      "Requirement already satisfied: seaborn in c:\\users\\ab\\appdata\\local\\programs\\python\\python38\\lib\\site-packages (from autoviz) (0.11.1)\n",
      "Requirement already satisfied: matplotlib in c:\\users\\ab\\appdata\\local\\programs\\python\\python38\\lib\\site-packages (from autoviz) (3.3.3)\n",
      "Requirement already satisfied: jupyter in c:\\users\\ab\\appdata\\local\\programs\\python\\python38\\lib\\site-packages (from autoviz) (1.0.0)\n",
      "Requirement already satisfied: colorama in c:\\users\\ab\\appdata\\local\\programs\\python\\python38\\lib\\site-packages (from ipython->autoviz) (0.4.4)\n",
      "Requirement already satisfied: pygments in c:\\users\\ab\\appdata\\local\\programs\\python\\python38\\lib\\site-packages (from ipython->autoviz) (2.7.3)\n",
      "Requirement already satisfied: backcall in c:\\users\\ab\\appdata\\local\\programs\\python\\python38\\lib\\site-packages (from ipython->autoviz) (0.2.0)\n",
      "Requirement already satisfied: setuptools>=18.5 in c:\\users\\ab\\appdata\\local\\programs\\python\\python38\\lib\\site-packages (from ipython->autoviz) (51.1.1)\n",
      "Requirement already satisfied: decorator in c:\\users\\ab\\appdata\\local\\programs\\python\\python38\\lib\\site-packages (from ipython->autoviz) (4.4.2)\n",
      "Requirement already satisfied: prompt-toolkit!=3.0.0,!=3.0.1,<3.1.0,>=2.0.0 in c:\\users\\ab\\appdata\\local\\programs\\python\\python38\\lib\\site-packages (from ipython->autoviz) (3.0.8)\n",
      "Requirement already satisfied: jedi>=0.10 in c:\\users\\ab\\appdata\\local\\programs\\python\\python38\\lib\\site-packages (from ipython->autoviz) (0.17.2)\n",
      "Requirement already satisfied: pickleshare in c:\\users\\ab\\appdata\\local\\programs\\python\\python38\\lib\\site-packages (from ipython->autoviz) (0.7.5)\n",
      "Requirement already satisfied: traitlets>=4.2 in c:\\users\\ab\\appdata\\local\\programs\\python\\python38\\lib\\site-packages (from ipython->autoviz) (5.0.5)\n",
      "Requirement already satisfied: parso<0.8.0,>=0.7.0 in c:\\users\\ab\\appdata\\local\\programs\\python\\python38\\lib\\site-packages (from jedi>=0.10->ipython->autoviz) (0.7.1)\n",
      "Requirement already satisfied: wcwidth in c:\\users\\ab\\appdata\\local\\programs\\python\\python38\\lib\\site-packages (from prompt-toolkit!=3.0.0,!=3.0.1,<3.1.0,>=2.0.0->ipython->autoviz) (0.2.5)\n",
      "Requirement already satisfied: ipython-genutils in c:\\users\\ab\\appdata\\local\\programs\\python\\python38\\lib\\site-packages (from traitlets>=4.2->ipython->autoviz) (0.2.0)\n",
      "Requirement already satisfied: notebook in c:\\users\\ab\\appdata\\local\\programs\\python\\python38\\lib\\site-packages (from jupyter->autoviz) (6.1.6)\n",
      "Requirement already satisfied: nbconvert in c:\\users\\ab\\appdata\\local\\programs\\python\\python38\\lib\\site-packages (from jupyter->autoviz) (5.6.1)\n",
      "Requirement already satisfied: ipykernel in c:\\users\\ab\\appdata\\local\\programs\\python\\python38\\lib\\site-packages (from jupyter->autoviz) (5.4.2)\n",
      "Requirement already satisfied: jupyter-console in c:\\users\\ab\\appdata\\local\\programs\\python\\python38\\lib\\site-packages (from jupyter->autoviz) (6.2.0)\n",
      "Requirement already satisfied: ipywidgets in c:\\users\\ab\\appdata\\local\\programs\\python\\python38\\lib\\site-packages (from jupyter->autoviz) (7.5.1)\n",
      "Requirement already satisfied: qtconsole in c:\\users\\ab\\appdata\\local\\programs\\python\\python38\\lib\\site-packages (from jupyter->autoviz) (5.0.1)\n",
      "Requirement already satisfied: tornado>=4.2 in c:\\users\\ab\\appdata\\local\\programs\\python\\python38\\lib\\site-packages (from ipykernel->jupyter->autoviz) (6.1)\n",
      "Requirement already satisfied: jupyter-client in c:\\users\\ab\\appdata\\local\\programs\\python\\python38\\lib\\site-packages (from ipykernel->jupyter->autoviz) (6.1.7)\n",
      "Requirement already satisfied: nbformat>=4.2.0 in c:\\users\\ab\\appdata\\local\\programs\\python\\python38\\lib\\site-packages (from ipywidgets->jupyter->autoviz) (5.0.8)\n",
      "Requirement already satisfied: widgetsnbextension~=3.5.0 in c:\\users\\ab\\appdata\\local\\programs\\python\\python38\\lib\\site-packages (from ipywidgets->jupyter->autoviz) (3.5.1)\n",
      "Requirement already satisfied: jupyter-core in c:\\users\\ab\\appdata\\local\\programs\\python\\python38\\lib\\site-packages (from nbformat>=4.2.0->ipywidgets->jupyter->autoviz) (4.7.0)\n",
      "Requirement already satisfied: jsonschema!=2.5.0,>=2.4 in c:\\users\\ab\\appdata\\local\\programs\\python\\python38\\lib\\site-packages (from nbformat>=4.2.0->ipywidgets->jupyter->autoviz) (3.2.0)\n",
      "Requirement already satisfied: pyrsistent>=0.14.0 in c:\\users\\ab\\appdata\\local\\programs\\python\\python38\\lib\\site-packages (from jsonschema!=2.5.0,>=2.4->nbformat>=4.2.0->ipywidgets->jupyter->autoviz) (0.17.3)\n",
      "Requirement already satisfied: attrs>=17.4.0 in c:\\users\\ab\\appdata\\local\\programs\\python\\python38\\lib\\site-packages (from jsonschema!=2.5.0,>=2.4->nbformat>=4.2.0->ipywidgets->jupyter->autoviz) (20.3.0)\n",
      "Requirement already satisfied: six>=1.11.0 in c:\\users\\ab\\appdata\\local\\programs\\python\\python38\\lib\\site-packages (from jsonschema!=2.5.0,>=2.4->nbformat>=4.2.0->ipywidgets->jupyter->autoviz) (1.15.0)\n",
      "Requirement already satisfied: terminado>=0.8.3 in c:\\users\\ab\\appdata\\local\\programs\\python\\python38\\lib\\site-packages (from notebook->jupyter->autoviz) (0.9.1)\n",
      "Note: you may need to restart the kernel to use updated packages.Requirement already satisfied: jinja2 in c:\\users\\ab\\appdata\\local\\programs\\python\\python38\\lib\\site-packages (from notebook->jupyter->autoviz) (2.11.2)\n",
      "Requirement already satisfied: Send2Trash in c:\\users\\ab\\appdata\\local\\programs\\python\\python38\\lib\\site-packages (from notebook->jupyter->autoviz) (1.5.0)\n",
      "Requirement already satisfied: pyzmq>=17 in c:\\users\\ab\\appdata\\local\\programs\\python\\python38\\lib\\site-packages (from notebook->jupyter->autoviz) (20.0.0)\n",
      "Requirement already satisfied: prometheus-client in c:\\users\\ab\\appdata\\local\\programs\\python\\python38\\lib\\site-packages (from notebook->jupyter->autoviz) (0.9.0)\n",
      "Requirement already satisfied: argon2-cffi in c:\\users\\ab\\appdata\\local\\programs\\python\\python38\\lib\\site-packages (from notebook->jupyter->autoviz) (20.1.0)\n",
      "Requirement already satisfied: python-dateutil>=2.1 in c:\\users\\ab\\appdata\\local\\programs\\python\\python38\\lib\\site-packages (from jupyter-client->ipykernel->jupyter->autoviz) (2.8.1)\n",
      "Requirement already satisfied: pywin32>=1.0 in c:\\users\\ab\\appdata\\local\\programs\\python\\python38\\lib\\site-packages (from jupyter-core->nbformat>=4.2.0->ipywidgets->jupyter->autoviz) (300)\n",
      "Requirement already satisfied: pywinpty>=0.5 in c:\\users\\ab\\appdata\\local\\programs\\python\\python38\\lib\\site-packages (from terminado>=0.8.3->notebook->jupyter->autoviz) (0.5.7)\n"
     ]
    },
    {
     "name": "stderr",
     "output_type": "stream",
     "text": [
      "WARNING: You are using pip version 21.1.2; however, version 21.1.3 is available.\n",
      "You should consider upgrading via the 'c:\\users\\ab\\appdata\\local\\programs\\python\\python38\\python.exe -m pip install --upgrade pip' command.\n"
     ]
    },
    {
     "name": "stdout",
     "output_type": "stream",
     "text": [
      "\n",
      "Requirement already satisfied: cffi>=1.0.0 in c:\\users\\ab\\appdata\\local\\programs\\python\\python38\\lib\\site-packages (from argon2-cffi->notebook->jupyter->autoviz) (1.14.4)\n",
      "Requirement already satisfied: pycparser in c:\\users\\ab\\appdata\\local\\programs\\python\\python38\\lib\\site-packages (from cffi>=1.0.0->argon2-cffi->notebook->jupyter->autoviz) (2.20)\n",
      "Requirement already satisfied: MarkupSafe>=0.23 in c:\\users\\ab\\appdata\\local\\programs\\python\\python38\\lib\\site-packages (from jinja2->notebook->jupyter->autoviz) (1.1.1)\n",
      "Requirement already satisfied: numpy>=1.15 in c:\\users\\ab\\appdata\\local\\programs\\python\\python38\\lib\\site-packages (from matplotlib->autoviz) (1.19.3)\n",
      "Requirement already satisfied: pyparsing!=2.0.4,!=2.1.2,!=2.1.6,>=2.0.3 in c:\\users\\ab\\appdata\\local\\programs\\python\\python38\\lib\\site-packages (from matplotlib->autoviz) (2.4.7)\n",
      "Requirement already satisfied: kiwisolver>=1.0.1 in c:\\users\\ab\\appdata\\local\\programs\\python\\python38\\lib\\site-packages (from matplotlib->autoviz) (1.3.1)\n",
      "Requirement already satisfied: cycler>=0.10 in c:\\users\\ab\\appdata\\local\\programs\\python\\python38\\lib\\site-packages (from matplotlib->autoviz) (0.10.0)\n",
      "Requirement already satisfied: pillow>=6.2.0 in c:\\users\\ab\\appdata\\local\\programs\\python\\python38\\lib\\site-packages (from matplotlib->autoviz) (8.0.1)\n",
      "Requirement already satisfied: defusedxml in c:\\users\\ab\\appdata\\local\\programs\\python\\python38\\lib\\site-packages (from nbconvert->jupyter->autoviz) (0.6.0)\n",
      "Requirement already satisfied: pandocfilters>=1.4.1 in c:\\users\\ab\\appdata\\local\\programs\\python\\python38\\lib\\site-packages (from nbconvert->jupyter->autoviz) (1.4.3)\n",
      "Requirement already satisfied: entrypoints>=0.2.2 in c:\\users\\ab\\appdata\\local\\programs\\python\\python38\\lib\\site-packages (from nbconvert->jupyter->autoviz) (0.3)\n",
      "Requirement already satisfied: testpath in c:\\users\\ab\\appdata\\local\\programs\\python\\python38\\lib\\site-packages (from nbconvert->jupyter->autoviz) (0.4.4)\n",
      "Requirement already satisfied: bleach in c:\\users\\ab\\appdata\\local\\programs\\python\\python38\\lib\\site-packages (from nbconvert->jupyter->autoviz) (3.2.1)\n",
      "Requirement already satisfied: mistune<2,>=0.8.1 in c:\\users\\ab\\appdata\\local\\programs\\python\\python38\\lib\\site-packages (from nbconvert->jupyter->autoviz) (0.8.4)\n",
      "Requirement already satisfied: packaging in c:\\users\\ab\\appdata\\local\\programs\\python\\python38\\lib\\site-packages (from bleach->nbconvert->jupyter->autoviz) (20.8)\n",
      "Requirement already satisfied: webencodings in c:\\users\\ab\\appdata\\local\\programs\\python\\python38\\lib\\site-packages (from bleach->nbconvert->jupyter->autoviz) (0.5.1)\n",
      "Requirement already satisfied: pytz>=2017.2 in c:\\users\\ab\\appdata\\local\\programs\\python\\python38\\lib\\site-packages (from pandas->autoviz) (2020.4)\n",
      "Requirement already satisfied: qtpy in c:\\users\\ab\\appdata\\local\\programs\\python\\python38\\lib\\site-packages (from qtconsole->jupyter->autoviz) (1.9.0)\n",
      "Requirement already satisfied: scipy>=0.19.1 in c:\\users\\ab\\appdata\\local\\programs\\python\\python38\\lib\\site-packages (from scikit-learn->autoviz) (1.5.4)\n",
      "Requirement already satisfied: joblib>=0.11 in c:\\users\\ab\\appdata\\local\\programs\\python\\python38\\lib\\site-packages (from scikit-learn->autoviz) (1.0.0)\n",
      "Requirement already satisfied: threadpoolctl>=2.0.0 in c:\\users\\ab\\appdata\\local\\programs\\python\\python38\\lib\\site-packages (from scikit-learn->autoviz) (2.1.0)\n",
      "Requirement already satisfied: patsy>=0.5 in c:\\users\\ab\\appdata\\local\\programs\\python\\python38\\lib\\site-packages (from statsmodels->autoviz) (0.5.1)\n"
     ]
    }
   ],
   "source": [
    "pip install autoviz"
   ]
  },
  {
   "cell_type": "code",
   "execution_count": 2,
   "metadata": {
    "id": "Lat5MI180U34"
   },
   "outputs": [
    {
     "name": "stdout",
     "output_type": "stream",
     "text": [
      "Imported AutoViz_Class version: 0.0.81. Call using:\n",
      "    from autoviz.AutoViz_Class import AutoViz_Class\n",
      "    AV = AutoViz_Class()\n",
      "    AV.AutoViz(filename, sep=',', depVar='', dfte=None, header=0, verbose=0,\n",
      "                            lowess=False,chart_format='svg',max_rows_analyzed=150000,max_cols_analyzed=30)\n",
      "Note: verbose=0 or 1 generates charts and displays them in your local Jupyter notebook.\n",
      "      verbose=2 saves plots in your local machine under AutoViz_Plots directory and does not display charts.\n"
     ]
    }
   ],
   "source": [
    "import pandas as pd\n",
    "import matplotlib.pyplot as plt\n",
    "%matplotlib inline\n",
    "plt.style.use('dark_background')\n",
    "import seaborn as sns\n",
    "import numpy as np\n",
    "from sklearn.model_selection import train_test_split\n",
    "from sklearn.metrics import confusion_matrix,classification_report, accuracy_score, precision_recall_curve,precision_score,recall_score,f1_score, roc_auc_score, roc_curve, auc\n",
    "from sklearn.preprocessing import StandardScaler\n",
    "from statsmodels.stats.outliers_influence import variance_inflation_factor\n",
    "from imblearn.over_sampling import RandomOverSampler,SMOTE\n",
    "from imblearn.combine import SMOTETomek\n",
    "from collections import Counter\n",
    "import warnings\n",
    "warnings.filterwarnings(action='ignore')\n",
    "import time\n",
    "from numpy import arange\n",
    "import autoviz\n",
    "from autoviz.AutoViz_Class import AutoViz_Class\n",
    "#for interactive console\n",
    "import ipywidgets\n",
    "import ipywidgets as widgets\n",
    "from ipywidgets import interact\n",
    "from ipywidgets import interact_manual"
   ]
  },
  {
   "cell_type": "markdown",
   "metadata": {
    "id": "5ZQNVa6DUi_d"
   },
   "source": [
    "### Import the Data Set from the neccesay location.\n",
    "The Data set consists of 40000+ entries of Patients Regarding Brain Stroke symptoms.\n",
    "There are total of 12 columns including target_column.\n",
    "1. id\n",
    "2. gender\n",
    "3. age\n",
    "4. hypertension\n",
    "5. heart_disease\n",
    "6. ever_married\n",
    "7. work_type\n",
    "8. Residence_type\n",
    "9. avg_glucose_level\n",
    "10. bmi\n",
    "11. smoking_status\n",
    "12. stroke(target_column)"
   ]
  },
  {
   "cell_type": "code",
   "execution_count": 3,
   "metadata": {
    "id": "5sxg86wUzSUB"
   },
   "outputs": [],
   "source": [
    "dodge = pd.read_csv('train_strokes.csv')"
   ]
  },
  {
   "cell_type": "code",
   "execution_count": 4,
   "metadata": {
    "cellView": "code",
    "colab": {
     "base_uri": "https://localhost:8080/",
     "height": 196
    },
    "id": "7wVWTBTo0Zyb",
    "outputId": "8b778b73-c6fb-48b3-f9d2-6fd880218e1d"
   },
   "outputs": [
    {
     "data": {
      "text/html": [
       "<div>\n",
       "<style scoped>\n",
       "    .dataframe tbody tr th:only-of-type {\n",
       "        vertical-align: middle;\n",
       "    }\n",
       "\n",
       "    .dataframe tbody tr th {\n",
       "        vertical-align: top;\n",
       "    }\n",
       "\n",
       "    .dataframe thead th {\n",
       "        text-align: right;\n",
       "    }\n",
       "</style>\n",
       "<table border=\"1\" class=\"dataframe\">\n",
       "  <thead>\n",
       "    <tr style=\"text-align: right;\">\n",
       "      <th></th>\n",
       "      <th>id</th>\n",
       "      <th>gender</th>\n",
       "      <th>age</th>\n",
       "      <th>hypertension</th>\n",
       "      <th>heart_disease</th>\n",
       "      <th>ever_married</th>\n",
       "      <th>work_type</th>\n",
       "      <th>Residence_type</th>\n",
       "      <th>avg_glucose_level</th>\n",
       "      <th>bmi</th>\n",
       "      <th>smoking_status</th>\n",
       "      <th>stroke</th>\n",
       "    </tr>\n",
       "  </thead>\n",
       "  <tbody>\n",
       "    <tr>\n",
       "      <th>0</th>\n",
       "      <td>30669</td>\n",
       "      <td>Male</td>\n",
       "      <td>3.0</td>\n",
       "      <td>0</td>\n",
       "      <td>0</td>\n",
       "      <td>No</td>\n",
       "      <td>children</td>\n",
       "      <td>Rural</td>\n",
       "      <td>95.12</td>\n",
       "      <td>18.0</td>\n",
       "      <td>NaN</td>\n",
       "      <td>0</td>\n",
       "    </tr>\n",
       "    <tr>\n",
       "      <th>1</th>\n",
       "      <td>30468</td>\n",
       "      <td>Male</td>\n",
       "      <td>58.0</td>\n",
       "      <td>1</td>\n",
       "      <td>0</td>\n",
       "      <td>Yes</td>\n",
       "      <td>Private</td>\n",
       "      <td>Urban</td>\n",
       "      <td>87.96</td>\n",
       "      <td>39.2</td>\n",
       "      <td>never smoked</td>\n",
       "      <td>0</td>\n",
       "    </tr>\n",
       "    <tr>\n",
       "      <th>2</th>\n",
       "      <td>16523</td>\n",
       "      <td>Female</td>\n",
       "      <td>8.0</td>\n",
       "      <td>0</td>\n",
       "      <td>0</td>\n",
       "      <td>No</td>\n",
       "      <td>Private</td>\n",
       "      <td>Urban</td>\n",
       "      <td>110.89</td>\n",
       "      <td>17.6</td>\n",
       "      <td>NaN</td>\n",
       "      <td>0</td>\n",
       "    </tr>\n",
       "    <tr>\n",
       "      <th>3</th>\n",
       "      <td>56543</td>\n",
       "      <td>Female</td>\n",
       "      <td>70.0</td>\n",
       "      <td>0</td>\n",
       "      <td>0</td>\n",
       "      <td>Yes</td>\n",
       "      <td>Private</td>\n",
       "      <td>Rural</td>\n",
       "      <td>69.04</td>\n",
       "      <td>35.9</td>\n",
       "      <td>formerly smoked</td>\n",
       "      <td>0</td>\n",
       "    </tr>\n",
       "    <tr>\n",
       "      <th>4</th>\n",
       "      <td>46136</td>\n",
       "      <td>Male</td>\n",
       "      <td>14.0</td>\n",
       "      <td>0</td>\n",
       "      <td>0</td>\n",
       "      <td>No</td>\n",
       "      <td>Never_worked</td>\n",
       "      <td>Rural</td>\n",
       "      <td>161.28</td>\n",
       "      <td>19.1</td>\n",
       "      <td>NaN</td>\n",
       "      <td>0</td>\n",
       "    </tr>\n",
       "  </tbody>\n",
       "</table>\n",
       "</div>"
      ],
      "text/plain": [
       "      id  gender   age  hypertension  heart_disease ever_married  \\\n",
       "0  30669    Male   3.0             0              0           No   \n",
       "1  30468    Male  58.0             1              0          Yes   \n",
       "2  16523  Female   8.0             0              0           No   \n",
       "3  56543  Female  70.0             0              0          Yes   \n",
       "4  46136    Male  14.0             0              0           No   \n",
       "\n",
       "      work_type Residence_type  avg_glucose_level   bmi   smoking_status  \\\n",
       "0      children          Rural              95.12  18.0              NaN   \n",
       "1       Private          Urban              87.96  39.2     never smoked   \n",
       "2       Private          Urban             110.89  17.6              NaN   \n",
       "3       Private          Rural              69.04  35.9  formerly smoked   \n",
       "4  Never_worked          Rural             161.28  19.1              NaN   \n",
       "\n",
       "   stroke  \n",
       "0       0  \n",
       "1       0  \n",
       "2       0  \n",
       "3       0  \n",
       "4       0  "
      ]
     },
     "execution_count": 4,
     "metadata": {},
     "output_type": "execute_result"
    }
   ],
   "source": [
    "# head() helps us to view the first 5 entries in our dataset.\n",
    "\n",
    "dodge.head()"
   ]
  },
  {
   "cell_type": "code",
   "execution_count": 5,
   "metadata": {
    "colab": {
     "base_uri": "https://localhost:8080/"
    },
    "id": "92vIqC6Y21mY",
    "outputId": "34b8e529-d96c-44e1-908c-29e21f73d54b"
   },
   "outputs": [
    {
     "name": "stdout",
     "output_type": "stream",
     "text": [
      "<class 'pandas.core.frame.DataFrame'>\n",
      "RangeIndex: 43400 entries, 0 to 43399\n",
      "Data columns (total 12 columns):\n",
      " #   Column             Non-Null Count  Dtype  \n",
      "---  ------             --------------  -----  \n",
      " 0   id                 43400 non-null  int64  \n",
      " 1   gender             43400 non-null  object \n",
      " 2   age                43400 non-null  float64\n",
      " 3   hypertension       43400 non-null  int64  \n",
      " 4   heart_disease      43400 non-null  int64  \n",
      " 5   ever_married       43400 non-null  object \n",
      " 6   work_type          43400 non-null  object \n",
      " 7   Residence_type     43400 non-null  object \n",
      " 8   avg_glucose_level  43400 non-null  float64\n",
      " 9   bmi                41938 non-null  float64\n",
      " 10  smoking_status     30108 non-null  object \n",
      " 11  stroke             43400 non-null  int64  \n",
      "dtypes: float64(3), int64(4), object(5)\n",
      "memory usage: 4.0+ MB\n"
     ]
    }
   ],
   "source": [
    "# info() gives us the count and dtype, also helps us to identify whether there are any null values or not.\n",
    "\n",
    "dodge.info()"
   ]
  },
  {
   "cell_type": "code",
   "execution_count": 6,
   "metadata": {
    "colab": {
     "base_uri": "https://localhost:8080/",
     "height": 286
    },
    "id": "LjcqNnr2bH9o",
    "outputId": "93f9fa88-dc31-45f5-af1c-dde8df2a1855"
   },
   "outputs": [
    {
     "data": {
      "text/html": [
       "<div>\n",
       "<style scoped>\n",
       "    .dataframe tbody tr th:only-of-type {\n",
       "        vertical-align: middle;\n",
       "    }\n",
       "\n",
       "    .dataframe tbody tr th {\n",
       "        vertical-align: top;\n",
       "    }\n",
       "\n",
       "    .dataframe thead th {\n",
       "        text-align: right;\n",
       "    }\n",
       "</style>\n",
       "<table border=\"1\" class=\"dataframe\">\n",
       "  <thead>\n",
       "    <tr style=\"text-align: right;\">\n",
       "      <th></th>\n",
       "      <th>id</th>\n",
       "      <th>age</th>\n",
       "      <th>hypertension</th>\n",
       "      <th>heart_disease</th>\n",
       "      <th>avg_glucose_level</th>\n",
       "      <th>bmi</th>\n",
       "      <th>stroke</th>\n",
       "    </tr>\n",
       "  </thead>\n",
       "  <tbody>\n",
       "    <tr>\n",
       "      <th>count</th>\n",
       "      <td>43400.000000</td>\n",
       "      <td>43400.000000</td>\n",
       "      <td>43400.000000</td>\n",
       "      <td>43400.000000</td>\n",
       "      <td>43400.000000</td>\n",
       "      <td>41938.000000</td>\n",
       "      <td>43400.000000</td>\n",
       "    </tr>\n",
       "    <tr>\n",
       "      <th>mean</th>\n",
       "      <td>36326.142350</td>\n",
       "      <td>42.217894</td>\n",
       "      <td>0.093571</td>\n",
       "      <td>0.047512</td>\n",
       "      <td>104.482750</td>\n",
       "      <td>28.605038</td>\n",
       "      <td>0.018041</td>\n",
       "    </tr>\n",
       "    <tr>\n",
       "      <th>std</th>\n",
       "      <td>21072.134879</td>\n",
       "      <td>22.519649</td>\n",
       "      <td>0.291235</td>\n",
       "      <td>0.212733</td>\n",
       "      <td>43.111751</td>\n",
       "      <td>7.770020</td>\n",
       "      <td>0.133103</td>\n",
       "    </tr>\n",
       "    <tr>\n",
       "      <th>min</th>\n",
       "      <td>1.000000</td>\n",
       "      <td>0.080000</td>\n",
       "      <td>0.000000</td>\n",
       "      <td>0.000000</td>\n",
       "      <td>55.000000</td>\n",
       "      <td>10.100000</td>\n",
       "      <td>0.000000</td>\n",
       "    </tr>\n",
       "    <tr>\n",
       "      <th>25%</th>\n",
       "      <td>18038.500000</td>\n",
       "      <td>24.000000</td>\n",
       "      <td>0.000000</td>\n",
       "      <td>0.000000</td>\n",
       "      <td>77.540000</td>\n",
       "      <td>23.200000</td>\n",
       "      <td>0.000000</td>\n",
       "    </tr>\n",
       "    <tr>\n",
       "      <th>50%</th>\n",
       "      <td>36351.500000</td>\n",
       "      <td>44.000000</td>\n",
       "      <td>0.000000</td>\n",
       "      <td>0.000000</td>\n",
       "      <td>91.580000</td>\n",
       "      <td>27.700000</td>\n",
       "      <td>0.000000</td>\n",
       "    </tr>\n",
       "    <tr>\n",
       "      <th>75%</th>\n",
       "      <td>54514.250000</td>\n",
       "      <td>60.000000</td>\n",
       "      <td>0.000000</td>\n",
       "      <td>0.000000</td>\n",
       "      <td>112.070000</td>\n",
       "      <td>32.900000</td>\n",
       "      <td>0.000000</td>\n",
       "    </tr>\n",
       "    <tr>\n",
       "      <th>max</th>\n",
       "      <td>72943.000000</td>\n",
       "      <td>82.000000</td>\n",
       "      <td>1.000000</td>\n",
       "      <td>1.000000</td>\n",
       "      <td>291.050000</td>\n",
       "      <td>97.600000</td>\n",
       "      <td>1.000000</td>\n",
       "    </tr>\n",
       "  </tbody>\n",
       "</table>\n",
       "</div>"
      ],
      "text/plain": [
       "                 id           age  hypertension  heart_disease  \\\n",
       "count  43400.000000  43400.000000  43400.000000   43400.000000   \n",
       "mean   36326.142350     42.217894      0.093571       0.047512   \n",
       "std    21072.134879     22.519649      0.291235       0.212733   \n",
       "min        1.000000      0.080000      0.000000       0.000000   \n",
       "25%    18038.500000     24.000000      0.000000       0.000000   \n",
       "50%    36351.500000     44.000000      0.000000       0.000000   \n",
       "75%    54514.250000     60.000000      0.000000       0.000000   \n",
       "max    72943.000000     82.000000      1.000000       1.000000   \n",
       "\n",
       "       avg_glucose_level           bmi        stroke  \n",
       "count       43400.000000  41938.000000  43400.000000  \n",
       "mean          104.482750     28.605038      0.018041  \n",
       "std            43.111751      7.770020      0.133103  \n",
       "min            55.000000     10.100000      0.000000  \n",
       "25%            77.540000     23.200000      0.000000  \n",
       "50%            91.580000     27.700000      0.000000  \n",
       "75%           112.070000     32.900000      0.000000  \n",
       "max           291.050000     97.600000      1.000000  "
      ]
     },
     "execution_count": 6,
     "metadata": {},
     "output_type": "execute_result"
    }
   ],
   "source": [
    "# describe() gives us a breif description about the columns(count, min, max, mean, median etc)\n",
    "\n",
    "dodge.describe()"
   ]
  },
  {
   "cell_type": "code",
   "execution_count": 7,
   "metadata": {
    "colab": {
     "base_uri": "https://localhost:8080/",
     "height": 166
    },
    "id": "qP5f83YmbLPG",
    "outputId": "a4038dee-b026-4808-cfd3-b0d40a2a21b9"
   },
   "outputs": [
    {
     "data": {
      "text/html": [
       "<div>\n",
       "<style scoped>\n",
       "    .dataframe tbody tr th:only-of-type {\n",
       "        vertical-align: middle;\n",
       "    }\n",
       "\n",
       "    .dataframe tbody tr th {\n",
       "        vertical-align: top;\n",
       "    }\n",
       "\n",
       "    .dataframe thead th {\n",
       "        text-align: right;\n",
       "    }\n",
       "</style>\n",
       "<table border=\"1\" class=\"dataframe\">\n",
       "  <thead>\n",
       "    <tr style=\"text-align: right;\">\n",
       "      <th></th>\n",
       "      <th>gender</th>\n",
       "      <th>ever_married</th>\n",
       "      <th>work_type</th>\n",
       "      <th>Residence_type</th>\n",
       "      <th>smoking_status</th>\n",
       "    </tr>\n",
       "  </thead>\n",
       "  <tbody>\n",
       "    <tr>\n",
       "      <th>count</th>\n",
       "      <td>43400</td>\n",
       "      <td>43400</td>\n",
       "      <td>43400</td>\n",
       "      <td>43400</td>\n",
       "      <td>30108</td>\n",
       "    </tr>\n",
       "    <tr>\n",
       "      <th>unique</th>\n",
       "      <td>3</td>\n",
       "      <td>2</td>\n",
       "      <td>5</td>\n",
       "      <td>2</td>\n",
       "      <td>3</td>\n",
       "    </tr>\n",
       "    <tr>\n",
       "      <th>top</th>\n",
       "      <td>Female</td>\n",
       "      <td>Yes</td>\n",
       "      <td>Private</td>\n",
       "      <td>Urban</td>\n",
       "      <td>never smoked</td>\n",
       "    </tr>\n",
       "    <tr>\n",
       "      <th>freq</th>\n",
       "      <td>25665</td>\n",
       "      <td>27938</td>\n",
       "      <td>24834</td>\n",
       "      <td>21756</td>\n",
       "      <td>16053</td>\n",
       "    </tr>\n",
       "  </tbody>\n",
       "</table>\n",
       "</div>"
      ],
      "text/plain": [
       "        gender ever_married work_type Residence_type smoking_status\n",
       "count    43400        43400     43400          43400          30108\n",
       "unique       3            2         5              2              3\n",
       "top     Female          Yes   Private          Urban   never smoked\n",
       "freq     25665        27938     24834          21756          16053"
      ]
     },
     "execution_count": 7,
     "metadata": {},
     "output_type": "execute_result"
    }
   ],
   "source": [
    "# In the case of object columns we get(count, unique values, top, freq)\n",
    "dodge.describe(include = 'object')"
   ]
  },
  {
   "cell_type": "markdown",
   "metadata": {
    "id": "45KVCn1vZZeP"
   },
   "source": [
    "### **Exploring Target Variable.**"
   ]
  },
  {
   "cell_type": "code",
   "execution_count": 8,
   "metadata": {
    "colab": {
     "base_uri": "https://localhost:8080/"
    },
    "id": "D5-6klAL21qr",
    "outputId": "71a5a1bd-654e-4a4e-d087-47bf4351e789"
   },
   "outputs": [
    {
     "data": {
      "text/plain": [
       "0    42617\n",
       "1      783\n",
       "Name: stroke, dtype: int64"
      ]
     },
     "execution_count": 8,
     "metadata": {},
     "output_type": "execute_result"
    }
   ],
   "source": [
    "dodge['stroke'].value_counts()"
   ]
  },
  {
   "cell_type": "code",
   "execution_count": 9,
   "metadata": {
    "colab": {
     "base_uri": "https://localhost:8080/"
    },
    "id": "a5UlarOk21s4",
    "outputId": "3a3ffabb-a061-4d3e-ca4f-42ec7d9a7fea"
   },
   "outputs": [
    {
     "data": {
      "text/plain": [
       "0"
      ]
     },
     "execution_count": 9,
     "metadata": {},
     "output_type": "execute_result"
    }
   ],
   "source": [
    "# There arent any null values, but\n",
    "dodge['stroke'].isnull().sum()"
   ]
  },
  {
   "cell_type": "code",
   "execution_count": 10,
   "metadata": {
    "colab": {
     "base_uri": "https://localhost:8080/",
     "height": 402
    },
    "id": "9wJoDnOHW-5y",
    "outputId": "f5a9cd3d-4328-44e0-b6da-501509eaed03"
   },
   "outputs": [],
   "source": [
    "# This plot tell's about, how the distribution of target class is spreaded.\n",
    "# we can see that the target classes are highly imbalanced with 0->42617, 1->783, so we need to balance these target classes which we will see in the later part.\n",
    "# countplot() helps us to visualize the count the classes.\n",
    "\n",
    "plt.figure(figsize = (6,4), dpi = 100)\n",
    "sns.countplot(dodge['stroke'])\n",
    "plt.xlabel('Stroke Status')\n",
    "plt.ylabel('Count')\n",
    "plt.title('Distribution of Target Classes')\n",
    "plt.show()"
   ]
  },
  {
   "cell_type": "markdown",
   "metadata": {
    "id": "0n1F9JPmcw3v"
   },
   "source": [
    "### **Exploring Independent Numerical Columns.**\n",
    "\n",
    "\n",
    "1. Cleaning\n",
    "2. Treating Missing values\n",
    "3. Anamoly Detection and Reduction\n",
    "\n"
   ]
  },
  {
   "cell_type": "code",
   "execution_count": 11,
   "metadata": {
    "id": "mQ2IVVuy21xi"
   },
   "outputs": [],
   "source": [
    "numerical = ['age', 'hypertension', 'heart_disease', 'avg_glucose_level', 'bmi']\n",
    "#dodge[numerical[0]]"
   ]
  },
  {
   "cell_type": "markdown",
   "metadata": {
    "id": "-WBhg97JeEsl"
   },
   "source": [
    "##### Treating missing values present in the column dodge['bmi'], no other numerical columns has missing values.\n",
    "\n",
    "\n",
    "\n"
   ]
  },
  {
   "cell_type": "code",
   "execution_count": 12,
   "metadata": {
    "colab": {
     "base_uri": "https://localhost:8080/"
    },
    "id": "QkjoIr_9B78O",
    "outputId": "1422fe92-4cca-4074-e383-006ca3463eef"
   },
   "outputs": [
    {
     "data": {
      "text/plain": [
       "1462"
      ]
     },
     "execution_count": 12,
     "metadata": {},
     "output_type": "execute_result"
    }
   ],
   "source": [
    "dodge['bmi'].isnull().sum()"
   ]
  },
  {
   "cell_type": "code",
   "execution_count": 13,
   "metadata": {
    "id": "THe6d0DhB8A8"
   },
   "outputs": [],
   "source": [
    "dodge['bmi'] = dodge['bmi'].fillna(dodge['bmi'].mean())"
   ]
  },
  {
   "cell_type": "code",
   "execution_count": 14,
   "metadata": {
    "colab": {
     "base_uri": "https://localhost:8080/"
    },
    "id": "uqHyJHD3B8DJ",
    "outputId": "e757f929-60d3-4a09-92ec-db41b7879e6b"
   },
   "outputs": [
    {
     "data": {
      "text/plain": [
       "0"
      ]
     },
     "execution_count": 14,
     "metadata": {},
     "output_type": "execute_result"
    }
   ],
   "source": [
    "dodge['bmi'].isnull().sum()"
   ]
  },
  {
   "cell_type": "markdown",
   "metadata": {
    "id": "w1U9FJZodvFR"
   },
   "source": [
    "##### Exploring each numerical column using describe()\n",
    "\n",
    "\n",
    "\n"
   ]
  },
  {
   "cell_type": "code",
   "execution_count": 15,
   "metadata": {
    "colab": {
     "base_uri": "https://localhost:8080/"
    },
    "id": "BBT3p8-Rf8oK",
    "outputId": "253ab2fb-72f5-4be6-b7bd-c92dfa12625f"
   },
   "outputs": [
    {
     "name": "stdout",
     "output_type": "stream",
     "text": [
      "count    43400.000000\n",
      "mean        42.217894\n",
      "std         22.519649\n",
      "min          0.080000\n",
      "25%         24.000000\n",
      "50%         44.000000\n",
      "75%         60.000000\n",
      "max         82.000000\n",
      "Name: age, dtype: float64\n",
      "count    43400.000000\n",
      "mean         0.093571\n",
      "std          0.291235\n",
      "min          0.000000\n",
      "25%          0.000000\n",
      "50%          0.000000\n",
      "75%          0.000000\n",
      "max          1.000000\n",
      "Name: hypertension, dtype: float64\n",
      "count    43400.000000\n",
      "mean         0.047512\n",
      "std          0.212733\n",
      "min          0.000000\n",
      "25%          0.000000\n",
      "50%          0.000000\n",
      "75%          0.000000\n",
      "max          1.000000\n",
      "Name: heart_disease, dtype: float64\n",
      "count    43400.000000\n",
      "mean       104.482750\n",
      "std         43.111751\n",
      "min         55.000000\n",
      "25%         77.540000\n",
      "50%         91.580000\n",
      "75%        112.070000\n",
      "max        291.050000\n",
      "Name: avg_glucose_level, dtype: float64\n",
      "count    43400.000000\n",
      "mean        28.605038\n",
      "std          7.638023\n",
      "min         10.100000\n",
      "25%         23.400000\n",
      "50%         28.100000\n",
      "75%         32.600000\n",
      "max         97.600000\n",
      "Name: bmi, dtype: float64\n"
     ]
    }
   ],
   "source": [
    "for i in numerical:\n",
    "  print(dodge[i].describe())"
   ]
  },
  {
   "cell_type": "code",
   "execution_count": null,
   "metadata": {
    "id": "zP0eFAA8f8qw"
   },
   "outputs": [],
   "source": []
  },
  {
   "cell_type": "markdown",
   "metadata": {
    "id": "NrDX_1Cyegcp"
   },
   "source": [
    "##### Anamoly Detection and Reduction in Numericals. "
   ]
  },
  {
   "cell_type": "markdown",
   "metadata": {
    "id": "N7R0jZ0pexca"
   },
   "source": [
    "1. age"
   ]
  },
  {
   "cell_type": "code",
   "execution_count": 16,
   "metadata": {
    "colab": {
     "base_uri": "https://localhost:8080/"
    },
    "id": "IATrGw72etry",
    "outputId": "ab18a919-1fb2-4877-b58c-dba7f51300e9"
   },
   "outputs": [
    {
     "data": {
      "text/plain": [
       "count    43400.000000\n",
       "mean        42.217894\n",
       "std         22.519649\n",
       "min          0.080000\n",
       "25%         24.000000\n",
       "50%         44.000000\n",
       "75%         60.000000\n",
       "max         82.000000\n",
       "Name: age, dtype: float64"
      ]
     },
     "execution_count": 16,
     "metadata": {},
     "output_type": "execute_result"
    }
   ],
   "source": [
    "dodge['age'].describe()"
   ]
  },
  {
   "cell_type": "code",
   "execution_count": 17,
   "metadata": {
    "colab": {
     "base_uri": "https://localhost:8080/"
    },
    "id": "56GDFvaUpxiy",
    "outputId": "02d990bf-43fa-46fb-eb98-7171398b852d"
   },
   "outputs": [
    {
     "data": {
      "text/plain": [
       "51.00    738\n",
       "52.00    721\n",
       "53.00    701\n",
       "78.00    698\n",
       "50.00    694\n",
       "        ... \n",
       "0.48      37\n",
       "0.40      35\n",
       "1.00      34\n",
       "0.16      26\n",
       "0.08      17\n",
       "Name: age, Length: 104, dtype: int64"
      ]
     },
     "execution_count": 17,
     "metadata": {},
     "output_type": "execute_result"
    }
   ],
   "source": [
    "dodge['age'].value_counts()"
   ]
  },
  {
   "cell_type": "markdown",
   "metadata": {
    "id": "Fi7bMPXkfJIC"
   },
   "source": [
    "##### Function to check the Anamolies in the column using upper_limit and lower_limit.\n",
    "\n",
    "\n",
    "1. If the upper_limit > max(df['col']), then we replace the upper_limit with the max value.\n",
    "2. Similarly, if the lower_limit < min(df['col']), we replace the lower_limit with the min value.\n",
    "\n"
   ]
  },
  {
   "cell_type": "code",
   "execution_count": 18,
   "metadata": {
    "id": "sHfx5ZRZfYAw"
   },
   "outputs": [],
   "source": [
    "anamolies = []\n",
    "def outliers(data):\n",
    "  random_state_mean = np.mean(data)\n",
    "  random_state_std = np.std(data)\n",
    "  anamoly = random_state_std * 3\n",
    "\n",
    "  upper_limit = random_state_mean + anamoly\n",
    "  lower_limit = random_state_mean - anamoly\n",
    "  lp_lower_limit = 1.00\n",
    "  up_upper_limit = max(dodge['age'])\n",
    "  print(upper_limit)\n",
    "  print(lower_limit)\n",
    "\n",
    "  print(lp_lower_limit)\n",
    "  print(up_upper_limit)\n",
    "\n",
    "  for i in data:\n",
    "      if i < lp_lower_limit or i > up_upper_limit:\n",
    "        anamolies.append(i)"
   ]
  },
  {
   "cell_type": "code",
   "execution_count": 19,
   "metadata": {
    "colab": {
     "base_uri": "https://localhost:8080/"
    },
    "id": "3L7esL2si3_z",
    "outputId": "b8b9454e-c087-4a29-a0af-d56728f4d3dd"
   },
   "outputs": [
    {
     "name": "stdout",
     "output_type": "stream",
     "text": [
      "109.7760617173718\n",
      "-25.340273698938617\n",
      "1.0\n",
      "82.0\n",
      "496\n"
     ]
    }
   ],
   "source": [
    "outliers(dodge['age'])\n",
    "print(len(anamolies))"
   ]
  },
  {
   "cell_type": "code",
   "execution_count": 20,
   "metadata": {
    "colab": {
     "base_uri": "https://localhost:8080/"
    },
    "id": "-wh-bNeRrcVr",
    "outputId": "d4935f6d-9dc2-4f91-8af2-6635efdb5ec8"
   },
   "outputs": [
    {
     "data": {
      "text/plain": [
       "(43400, 12)"
      ]
     },
     "execution_count": 20,
     "metadata": {},
     "output_type": "execute_result"
    }
   ],
   "source": [
    "dodge.shape"
   ]
  },
  {
   "cell_type": "markdown",
   "metadata": {
    "id": "oAQWTc2IgHYB"
   },
   "source": [
    "Here all the values below 1 are termed as outliers, although in rarest of cases Intrauterine stroke occur to unborn childre in the womb.\n",
    "\n",
    "But in this project we drop those values, but in future we can even work on these values.\n",
    "\n"
   ]
  },
  {
   "cell_type": "code",
   "execution_count": 21,
   "metadata": {
    "colab": {
     "base_uri": "https://localhost:8080/",
     "height": 404
    },
    "id": "y-XD5xyLVhRq",
    "outputId": "81f189bd-158c-42e2-a007-1e94d871aced"
   },
   "outputs": [
    {
     "data": {
      "text/html": [
       "<div>\n",
       "<style scoped>\n",
       "    .dataframe tbody tr th:only-of-type {\n",
       "        vertical-align: middle;\n",
       "    }\n",
       "\n",
       "    .dataframe tbody tr th {\n",
       "        vertical-align: top;\n",
       "    }\n",
       "\n",
       "    .dataframe thead th {\n",
       "        text-align: right;\n",
       "    }\n",
       "</style>\n",
       "<table border=\"1\" class=\"dataframe\">\n",
       "  <thead>\n",
       "    <tr style=\"text-align: right;\">\n",
       "      <th></th>\n",
       "      <th>id</th>\n",
       "      <th>gender</th>\n",
       "      <th>age</th>\n",
       "      <th>hypertension</th>\n",
       "      <th>heart_disease</th>\n",
       "      <th>ever_married</th>\n",
       "      <th>work_type</th>\n",
       "      <th>Residence_type</th>\n",
       "      <th>avg_glucose_level</th>\n",
       "      <th>bmi</th>\n",
       "      <th>smoking_status</th>\n",
       "      <th>stroke</th>\n",
       "    </tr>\n",
       "  </thead>\n",
       "  <tbody>\n",
       "    <tr>\n",
       "      <th>116</th>\n",
       "      <td>7559</td>\n",
       "      <td>Female</td>\n",
       "      <td>0.64</td>\n",
       "      <td>0</td>\n",
       "      <td>0</td>\n",
       "      <td>No</td>\n",
       "      <td>children</td>\n",
       "      <td>Urban</td>\n",
       "      <td>83.82</td>\n",
       "      <td>24.9</td>\n",
       "      <td>NaN</td>\n",
       "      <td>0</td>\n",
       "    </tr>\n",
       "    <tr>\n",
       "      <th>129</th>\n",
       "      <td>22706</td>\n",
       "      <td>Female</td>\n",
       "      <td>0.88</td>\n",
       "      <td>0</td>\n",
       "      <td>0</td>\n",
       "      <td>No</td>\n",
       "      <td>children</td>\n",
       "      <td>Rural</td>\n",
       "      <td>88.11</td>\n",
       "      <td>15.5</td>\n",
       "      <td>NaN</td>\n",
       "      <td>0</td>\n",
       "    </tr>\n",
       "    <tr>\n",
       "      <th>323</th>\n",
       "      <td>61511</td>\n",
       "      <td>Female</td>\n",
       "      <td>0.32</td>\n",
       "      <td>0</td>\n",
       "      <td>0</td>\n",
       "      <td>No</td>\n",
       "      <td>children</td>\n",
       "      <td>Rural</td>\n",
       "      <td>73.71</td>\n",
       "      <td>16.2</td>\n",
       "      <td>NaN</td>\n",
       "      <td>0</td>\n",
       "    </tr>\n",
       "    <tr>\n",
       "      <th>746</th>\n",
       "      <td>54747</td>\n",
       "      <td>Male</td>\n",
       "      <td>0.88</td>\n",
       "      <td>0</td>\n",
       "      <td>0</td>\n",
       "      <td>No</td>\n",
       "      <td>children</td>\n",
       "      <td>Rural</td>\n",
       "      <td>157.57</td>\n",
       "      <td>19.2</td>\n",
       "      <td>NaN</td>\n",
       "      <td>0</td>\n",
       "    </tr>\n",
       "    <tr>\n",
       "      <th>761</th>\n",
       "      <td>53279</td>\n",
       "      <td>Male</td>\n",
       "      <td>0.24</td>\n",
       "      <td>0</td>\n",
       "      <td>0</td>\n",
       "      <td>No</td>\n",
       "      <td>children</td>\n",
       "      <td>Rural</td>\n",
       "      <td>118.87</td>\n",
       "      <td>16.3</td>\n",
       "      <td>NaN</td>\n",
       "      <td>0</td>\n",
       "    </tr>\n",
       "    <tr>\n",
       "      <th>...</th>\n",
       "      <td>...</td>\n",
       "      <td>...</td>\n",
       "      <td>...</td>\n",
       "      <td>...</td>\n",
       "      <td>...</td>\n",
       "      <td>...</td>\n",
       "      <td>...</td>\n",
       "      <td>...</td>\n",
       "      <td>...</td>\n",
       "      <td>...</td>\n",
       "      <td>...</td>\n",
       "      <td>...</td>\n",
       "    </tr>\n",
       "    <tr>\n",
       "      <th>43031</th>\n",
       "      <td>2698</td>\n",
       "      <td>Female</td>\n",
       "      <td>0.32</td>\n",
       "      <td>0</td>\n",
       "      <td>0</td>\n",
       "      <td>No</td>\n",
       "      <td>children</td>\n",
       "      <td>Urban</td>\n",
       "      <td>91.86</td>\n",
       "      <td>17.6</td>\n",
       "      <td>NaN</td>\n",
       "      <td>0</td>\n",
       "    </tr>\n",
       "    <tr>\n",
       "      <th>43106</th>\n",
       "      <td>51999</td>\n",
       "      <td>Male</td>\n",
       "      <td>0.32</td>\n",
       "      <td>0</td>\n",
       "      <td>0</td>\n",
       "      <td>No</td>\n",
       "      <td>children</td>\n",
       "      <td>Urban</td>\n",
       "      <td>90.38</td>\n",
       "      <td>16.1</td>\n",
       "      <td>NaN</td>\n",
       "      <td>0</td>\n",
       "    </tr>\n",
       "    <tr>\n",
       "      <th>43220</th>\n",
       "      <td>36634</td>\n",
       "      <td>Female</td>\n",
       "      <td>0.08</td>\n",
       "      <td>0</td>\n",
       "      <td>0</td>\n",
       "      <td>No</td>\n",
       "      <td>children</td>\n",
       "      <td>Rural</td>\n",
       "      <td>125.11</td>\n",
       "      <td>12.1</td>\n",
       "      <td>NaN</td>\n",
       "      <td>0</td>\n",
       "    </tr>\n",
       "    <tr>\n",
       "      <th>43296</th>\n",
       "      <td>52578</td>\n",
       "      <td>Male</td>\n",
       "      <td>0.56</td>\n",
       "      <td>0</td>\n",
       "      <td>0</td>\n",
       "      <td>No</td>\n",
       "      <td>children</td>\n",
       "      <td>Rural</td>\n",
       "      <td>78.07</td>\n",
       "      <td>21.9</td>\n",
       "      <td>NaN</td>\n",
       "      <td>0</td>\n",
       "    </tr>\n",
       "    <tr>\n",
       "      <th>43330</th>\n",
       "      <td>18634</td>\n",
       "      <td>Female</td>\n",
       "      <td>0.72</td>\n",
       "      <td>0</td>\n",
       "      <td>0</td>\n",
       "      <td>No</td>\n",
       "      <td>children</td>\n",
       "      <td>Urban</td>\n",
       "      <td>87.74</td>\n",
       "      <td>16.6</td>\n",
       "      <td>NaN</td>\n",
       "      <td>0</td>\n",
       "    </tr>\n",
       "  </tbody>\n",
       "</table>\n",
       "<p>496 rows × 12 columns</p>\n",
       "</div>"
      ],
      "text/plain": [
       "          id  gender   age  hypertension  heart_disease ever_married  \\\n",
       "116     7559  Female  0.64             0              0           No   \n",
       "129    22706  Female  0.88             0              0           No   \n",
       "323    61511  Female  0.32             0              0           No   \n",
       "746    54747    Male  0.88             0              0           No   \n",
       "761    53279    Male  0.24             0              0           No   \n",
       "...      ...     ...   ...           ...            ...          ...   \n",
       "43031   2698  Female  0.32             0              0           No   \n",
       "43106  51999    Male  0.32             0              0           No   \n",
       "43220  36634  Female  0.08             0              0           No   \n",
       "43296  52578    Male  0.56             0              0           No   \n",
       "43330  18634  Female  0.72             0              0           No   \n",
       "\n",
       "      work_type Residence_type  avg_glucose_level   bmi smoking_status  stroke  \n",
       "116    children          Urban              83.82  24.9            NaN       0  \n",
       "129    children          Rural              88.11  15.5            NaN       0  \n",
       "323    children          Rural              73.71  16.2            NaN       0  \n",
       "746    children          Rural             157.57  19.2            NaN       0  \n",
       "761    children          Rural             118.87  16.3            NaN       0  \n",
       "...         ...            ...                ...   ...            ...     ...  \n",
       "43031  children          Urban              91.86  17.6            NaN       0  \n",
       "43106  children          Urban              90.38  16.1            NaN       0  \n",
       "43220  children          Rural             125.11  12.1            NaN       0  \n",
       "43296  children          Rural              78.07  21.9            NaN       0  \n",
       "43330  children          Urban              87.74  16.6            NaN       0  \n",
       "\n",
       "[496 rows x 12 columns]"
      ]
     },
     "execution_count": 21,
     "metadata": {},
     "output_type": "execute_result"
    }
   ],
   "source": [
    "dodge[dodge['age'] < 1.00]"
   ]
  },
  {
   "cell_type": "code",
   "execution_count": 22,
   "metadata": {
    "colab": {
     "base_uri": "https://localhost:8080/"
    },
    "id": "xUlW2odDF3cN",
    "outputId": "e8a38158-d823-44ad-95e4-a98d30ff7fd7"
   },
   "outputs": [
    {
     "data": {
      "text/plain": [
       "Int64Index([  116,   129,   323,   746,   761,   861,   975,  1087,  1375,\n",
       "             1389,\n",
       "            ...\n",
       "            42637, 42862, 42880, 42881, 42982, 43031, 43106, 43220, 43296,\n",
       "            43330],\n",
       "           dtype='int64', length=496)"
      ]
     },
     "execution_count": 22,
     "metadata": {},
     "output_type": "execute_result"
    }
   ],
   "source": [
    "dodge[dodge['age'] < 1.00].index"
   ]
  },
  {
   "cell_type": "code",
   "execution_count": 23,
   "metadata": {
    "id": "3y07HnH9F3dv"
   },
   "outputs": [],
   "source": [
    "chevy = dodge.drop(index = dodge[dodge['age'] < 1.00].index, axis = 0, inplace=True)"
   ]
  },
  {
   "cell_type": "code",
   "execution_count": 24,
   "metadata": {
    "id": "CAKu20dBBfyV"
   },
   "outputs": [],
   "source": [
    "dodge.drop(index = dodge[(dodge.age > 1.0) & (dodge.age < 2.0)].index, axis = 0, inplace = True)"
   ]
  },
  {
   "cell_type": "code",
   "execution_count": 25,
   "metadata": {
    "colab": {
     "base_uri": "https://localhost:8080/"
    },
    "id": "bppkMXn2F38U",
    "outputId": "cd339755-09d9-43c1-a7f7-da1b9acb77a0"
   },
   "outputs": [
    {
     "data": {
      "text/plain": [
       "(42309, 12)"
      ]
     },
     "execution_count": 25,
     "metadata": {},
     "output_type": "execute_result"
    }
   ],
   "source": [
    "dodge.shape"
   ]
  },
  {
   "cell_type": "code",
   "execution_count": null,
   "metadata": {
    "id": "iFkEq84hhs9a"
   },
   "outputs": [],
   "source": []
  },
  {
   "cell_type": "markdown",
   "metadata": {
    "id": "Nd8790bAhlzU"
   },
   "source": [
    "2. avg_glucose_level(Average Glucose Level)"
   ]
  },
  {
   "cell_type": "code",
   "execution_count": 26,
   "metadata": {
    "id": "yp80lcHGWDq1"
   },
   "outputs": [],
   "source": [
    "anamolies = []\n",
    "def outliers(data):\n",
    "  random_state_mean = np.mean(data)\n",
    "  random_state_std = np.std(data)\n",
    "  anamoly = random_state_std * 3\n",
    "\n",
    "  upper_limit = random_state_mean + anamoly\n",
    "  lower_limit = random_state_mean - anamoly\n",
    "  ll_p = min(dodge['avg_glucose_level'])\n",
    "\n",
    "  print(upper_limit)\n",
    "  print(lower_limit)\n",
    "  print(ll_p)\n",
    "  for i in data:\n",
    "    if i < ll_p or i > upper_limit:\n",
    "      anamolies.append(i)"
   ]
  },
  {
   "cell_type": "code",
   "execution_count": 27,
   "metadata": {
    "colab": {
     "base_uri": "https://localhost:8080/"
    },
    "id": "BmPeNQp4WIEW",
    "outputId": "cecd2ed8-f6e9-472c-8b17-60f1a7fcdba2"
   },
   "outputs": [
    {
     "name": "stdout",
     "output_type": "stream",
     "text": [
      "235.13454455171652\n",
      "-25.55617162869774\n",
      "55.0\n",
      "575\n"
     ]
    }
   ],
   "source": [
    "outliers(dodge['avg_glucose_level'])\n",
    "print(len(anamolies))"
   ]
  },
  {
   "cell_type": "code",
   "execution_count": 28,
   "metadata": {
    "colab": {
     "base_uri": "https://localhost:8080/"
    },
    "id": "-AeG7IZxgBCr",
    "outputId": "69bc1e38-20d6-4008-ae92-ea653db2ba95"
   },
   "outputs": [
    {
     "data": {
      "text/plain": [
       "count    42309.000000\n",
       "mean       104.789186\n",
       "std         43.448966\n",
       "min         55.000000\n",
       "25%         77.570000\n",
       "50%         91.650000\n",
       "75%        112.260000\n",
       "max        291.050000\n",
       "Name: avg_glucose_level, dtype: float64"
      ]
     },
     "execution_count": 28,
     "metadata": {},
     "output_type": "execute_result"
    }
   ],
   "source": [
    "dodge['avg_glucose_level'].describe()"
   ]
  },
  {
   "cell_type": "code",
   "execution_count": 29,
   "metadata": {
    "colab": {
     "base_uri": "https://localhost:8080/",
     "height": 404
    },
    "id": "mOqmjbCoirDT",
    "outputId": "48c59766-027f-489f-ec69-8ab33109dea2"
   },
   "outputs": [
    {
     "data": {
      "text/html": [
       "<div>\n",
       "<style scoped>\n",
       "    .dataframe tbody tr th:only-of-type {\n",
       "        vertical-align: middle;\n",
       "    }\n",
       "\n",
       "    .dataframe tbody tr th {\n",
       "        vertical-align: top;\n",
       "    }\n",
       "\n",
       "    .dataframe thead th {\n",
       "        text-align: right;\n",
       "    }\n",
       "</style>\n",
       "<table border=\"1\" class=\"dataframe\">\n",
       "  <thead>\n",
       "    <tr style=\"text-align: right;\">\n",
       "      <th></th>\n",
       "      <th>id</th>\n",
       "      <th>gender</th>\n",
       "      <th>age</th>\n",
       "      <th>hypertension</th>\n",
       "      <th>heart_disease</th>\n",
       "      <th>ever_married</th>\n",
       "      <th>work_type</th>\n",
       "      <th>Residence_type</th>\n",
       "      <th>avg_glucose_level</th>\n",
       "      <th>bmi</th>\n",
       "      <th>smoking_status</th>\n",
       "      <th>stroke</th>\n",
       "    </tr>\n",
       "  </thead>\n",
       "  <tbody>\n",
       "    <tr>\n",
       "      <th>7</th>\n",
       "      <td>41413</td>\n",
       "      <td>Female</td>\n",
       "      <td>75.0</td>\n",
       "      <td>0</td>\n",
       "      <td>1</td>\n",
       "      <td>Yes</td>\n",
       "      <td>Self-employed</td>\n",
       "      <td>Rural</td>\n",
       "      <td>243.53</td>\n",
       "      <td>27.000000</td>\n",
       "      <td>never smoked</td>\n",
       "      <td>0</td>\n",
       "    </tr>\n",
       "    <tr>\n",
       "      <th>54</th>\n",
       "      <td>18518</td>\n",
       "      <td>Male</td>\n",
       "      <td>66.0</td>\n",
       "      <td>0</td>\n",
       "      <td>0</td>\n",
       "      <td>Yes</td>\n",
       "      <td>Private</td>\n",
       "      <td>Rural</td>\n",
       "      <td>242.30</td>\n",
       "      <td>35.300000</td>\n",
       "      <td>smokes</td>\n",
       "      <td>0</td>\n",
       "    </tr>\n",
       "    <tr>\n",
       "      <th>77</th>\n",
       "      <td>4480</td>\n",
       "      <td>Male</td>\n",
       "      <td>76.0</td>\n",
       "      <td>0</td>\n",
       "      <td>0</td>\n",
       "      <td>Yes</td>\n",
       "      <td>Private</td>\n",
       "      <td>Rural</td>\n",
       "      <td>234.58</td>\n",
       "      <td>34.300000</td>\n",
       "      <td>formerly smoked</td>\n",
       "      <td>0</td>\n",
       "    </tr>\n",
       "    <tr>\n",
       "      <th>78</th>\n",
       "      <td>2982</td>\n",
       "      <td>Female</td>\n",
       "      <td>57.0</td>\n",
       "      <td>1</td>\n",
       "      <td>0</td>\n",
       "      <td>Yes</td>\n",
       "      <td>Private</td>\n",
       "      <td>Rural</td>\n",
       "      <td>235.85</td>\n",
       "      <td>40.100000</td>\n",
       "      <td>never smoked</td>\n",
       "      <td>0</td>\n",
       "    </tr>\n",
       "    <tr>\n",
       "      <th>83</th>\n",
       "      <td>59368</td>\n",
       "      <td>Female</td>\n",
       "      <td>78.0</td>\n",
       "      <td>0</td>\n",
       "      <td>0</td>\n",
       "      <td>Yes</td>\n",
       "      <td>Private</td>\n",
       "      <td>Urban</td>\n",
       "      <td>243.50</td>\n",
       "      <td>26.100000</td>\n",
       "      <td>never smoked</td>\n",
       "      <td>0</td>\n",
       "    </tr>\n",
       "    <tr>\n",
       "      <th>...</th>\n",
       "      <td>...</td>\n",
       "      <td>...</td>\n",
       "      <td>...</td>\n",
       "      <td>...</td>\n",
       "      <td>...</td>\n",
       "      <td>...</td>\n",
       "      <td>...</td>\n",
       "      <td>...</td>\n",
       "      <td>...</td>\n",
       "      <td>...</td>\n",
       "      <td>...</td>\n",
       "      <td>...</td>\n",
       "    </tr>\n",
       "    <tr>\n",
       "      <th>43228</th>\n",
       "      <td>27207</td>\n",
       "      <td>Male</td>\n",
       "      <td>41.0</td>\n",
       "      <td>1</td>\n",
       "      <td>0</td>\n",
       "      <td>Yes</td>\n",
       "      <td>Private</td>\n",
       "      <td>Rural</td>\n",
       "      <td>271.01</td>\n",
       "      <td>25.800000</td>\n",
       "      <td>NaN</td>\n",
       "      <td>0</td>\n",
       "    </tr>\n",
       "    <tr>\n",
       "      <th>43279</th>\n",
       "      <td>49997</td>\n",
       "      <td>Male</td>\n",
       "      <td>67.0</td>\n",
       "      <td>0</td>\n",
       "      <td>0</td>\n",
       "      <td>Yes</td>\n",
       "      <td>Self-employed</td>\n",
       "      <td>Rural</td>\n",
       "      <td>242.61</td>\n",
       "      <td>47.000000</td>\n",
       "      <td>NaN</td>\n",
       "      <td>0</td>\n",
       "    </tr>\n",
       "    <tr>\n",
       "      <th>43283</th>\n",
       "      <td>29575</td>\n",
       "      <td>Female</td>\n",
       "      <td>30.0</td>\n",
       "      <td>0</td>\n",
       "      <td>0</td>\n",
       "      <td>No</td>\n",
       "      <td>Self-employed</td>\n",
       "      <td>Urban</td>\n",
       "      <td>258.24</td>\n",
       "      <td>28.605038</td>\n",
       "      <td>never smoked</td>\n",
       "      <td>0</td>\n",
       "    </tr>\n",
       "    <tr>\n",
       "      <th>43287</th>\n",
       "      <td>22198</td>\n",
       "      <td>Male</td>\n",
       "      <td>66.0</td>\n",
       "      <td>0</td>\n",
       "      <td>0</td>\n",
       "      <td>Yes</td>\n",
       "      <td>Private</td>\n",
       "      <td>Rural</td>\n",
       "      <td>238.23</td>\n",
       "      <td>33.300000</td>\n",
       "      <td>formerly smoked</td>\n",
       "      <td>0</td>\n",
       "    </tr>\n",
       "    <tr>\n",
       "      <th>43358</th>\n",
       "      <td>40203</td>\n",
       "      <td>Male</td>\n",
       "      <td>78.0</td>\n",
       "      <td>0</td>\n",
       "      <td>0</td>\n",
       "      <td>Yes</td>\n",
       "      <td>Self-employed</td>\n",
       "      <td>Rural</td>\n",
       "      <td>248.93</td>\n",
       "      <td>21.600000</td>\n",
       "      <td>formerly smoked</td>\n",
       "      <td>0</td>\n",
       "    </tr>\n",
       "  </tbody>\n",
       "</table>\n",
       "<p>617 rows × 12 columns</p>\n",
       "</div>"
      ],
      "text/plain": [
       "          id  gender   age  hypertension  heart_disease ever_married  \\\n",
       "7      41413  Female  75.0             0              1          Yes   \n",
       "54     18518    Male  66.0             0              0          Yes   \n",
       "77      4480    Male  76.0             0              0          Yes   \n",
       "78      2982  Female  57.0             1              0          Yes   \n",
       "83     59368  Female  78.0             0              0          Yes   \n",
       "...      ...     ...   ...           ...            ...          ...   \n",
       "43228  27207    Male  41.0             1              0          Yes   \n",
       "43279  49997    Male  67.0             0              0          Yes   \n",
       "43283  29575  Female  30.0             0              0           No   \n",
       "43287  22198    Male  66.0             0              0          Yes   \n",
       "43358  40203    Male  78.0             0              0          Yes   \n",
       "\n",
       "           work_type Residence_type  avg_glucose_level        bmi  \\\n",
       "7      Self-employed          Rural             243.53  27.000000   \n",
       "54           Private          Rural             242.30  35.300000   \n",
       "77           Private          Rural             234.58  34.300000   \n",
       "78           Private          Rural             235.85  40.100000   \n",
       "83           Private          Urban             243.50  26.100000   \n",
       "...              ...            ...                ...        ...   \n",
       "43228        Private          Rural             271.01  25.800000   \n",
       "43279  Self-employed          Rural             242.61  47.000000   \n",
       "43283  Self-employed          Urban             258.24  28.605038   \n",
       "43287        Private          Rural             238.23  33.300000   \n",
       "43358  Self-employed          Rural             248.93  21.600000   \n",
       "\n",
       "        smoking_status  stroke  \n",
       "7         never smoked       0  \n",
       "54              smokes       0  \n",
       "77     formerly smoked       0  \n",
       "78        never smoked       0  \n",
       "83        never smoked       0  \n",
       "...                ...     ...  \n",
       "43228              NaN       0  \n",
       "43279              NaN       0  \n",
       "43283     never smoked       0  \n",
       "43287  formerly smoked       0  \n",
       "43358  formerly smoked       0  \n",
       "\n",
       "[617 rows x 12 columns]"
      ]
     },
     "execution_count": 29,
     "metadata": {},
     "output_type": "execute_result"
    }
   ],
   "source": [
    "dodge[dodge['avg_glucose_level'] > 234.40827023316058 ]"
   ]
  },
  {
   "cell_type": "code",
   "execution_count": 30,
   "metadata": {
    "colab": {
     "base_uri": "https://localhost:8080/"
    },
    "id": "uBoAEwQrkJcq",
    "outputId": "045548ea-33e4-428d-9a8e-1d46f65cdf1b"
   },
   "outputs": [
    {
     "data": {
      "text/plain": [
       "Int64Index([    7,    54,    77,    78,    83,    96,   139,   310,   322,\n",
       "              469,\n",
       "            ...\n",
       "            43140, 43144, 43155, 43175, 43188, 43228, 43279, 43283, 43287,\n",
       "            43358],\n",
       "           dtype='int64', length=617)"
      ]
     },
     "execution_count": 30,
     "metadata": {},
     "output_type": "execute_result"
    }
   ],
   "source": [
    "dodge[dodge['avg_glucose_level'] > 234.40827023316058].index"
   ]
  },
  {
   "cell_type": "code",
   "execution_count": 31,
   "metadata": {
    "id": "oJtOTle6lCBp"
   },
   "outputs": [],
   "source": [
    "dodge.drop(index = dodge[dodge['avg_glucose_level'] > 234.40827023316058].index, axis = 0, inplace = True)"
   ]
  },
  {
   "cell_type": "code",
   "execution_count": 32,
   "metadata": {
    "colab": {
     "base_uri": "https://localhost:8080/"
    },
    "id": "Qnb2gdsWlPsJ",
    "outputId": "0e5501a9-2682-4f42-a394-ddb41f41c9a9"
   },
   "outputs": [
    {
     "data": {
      "text/plain": [
       "(41692, 12)"
      ]
     },
     "execution_count": 32,
     "metadata": {},
     "output_type": "execute_result"
    }
   ],
   "source": [
    "dodge.shape"
   ]
  },
  {
   "cell_type": "markdown",
   "metadata": {
    "id": "rVGAMPJfh-lO"
   },
   "source": [
    "3. bmi(Body Mass Index)"
   ]
  },
  {
   "cell_type": "code",
   "execution_count": 33,
   "metadata": {
    "id": "zvr7-sJ6lPub"
   },
   "outputs": [],
   "source": [
    "anamolies = []\n",
    "def outliers(data):\n",
    "  random_state_mean = np.mean(data)\n",
    "  random_state_std = np.std(data)\n",
    "  anamoly = random_state_std * 3\n",
    "\n",
    "  upper_limit = random_state_mean + anamoly\n",
    "  lower_limit = random_state_mean - anamoly\n",
    "  lll_p = min(dodge['bmi'])\n",
    "\n",
    "  print(upper_limit)\n",
    "  print(lower_limit)\n",
    "  print(lll_p)\n",
    "  for i in data:\n",
    "    if i < lll_p or i > upper_limit:\n",
    "      anamolies.append(i)"
   ]
  },
  {
   "cell_type": "code",
   "execution_count": 34,
   "metadata": {
    "colab": {
     "base_uri": "https://localhost:8080/"
    },
    "id": "TarKzxc2luUA",
    "outputId": "b352e511-61d8-44aa-c208-84fc4ca88868"
   },
   "outputs": [
    {
     "name": "stdout",
     "output_type": "stream",
     "text": [
      "51.34051370653113\n",
      "6.268167446955189\n",
      "10.1\n",
      "431\n"
     ]
    }
   ],
   "source": [
    "outliers(dodge['bmi'])\n",
    "print(len(anamolies))"
   ]
  },
  {
   "cell_type": "code",
   "execution_count": 35,
   "metadata": {
    "colab": {
     "base_uri": "https://localhost:8080/"
    },
    "id": "qMD4YPuxm3cV",
    "outputId": "3b58e1f7-b8bc-4684-f051-0e29de53338f"
   },
   "outputs": [
    {
     "data": {
      "text/plain": [
       "count    41692.000000\n",
       "mean        28.804341\n",
       "std          7.512148\n",
       "min         10.100000\n",
       "25%         23.700000\n",
       "50%         28.200000\n",
       "75%         32.700000\n",
       "max         97.600000\n",
       "Name: bmi, dtype: float64"
      ]
     },
     "execution_count": 35,
     "metadata": {},
     "output_type": "execute_result"
    }
   ],
   "source": [
    "dodge['bmi'].describe()"
   ]
  },
  {
   "cell_type": "code",
   "execution_count": 36,
   "metadata": {
    "colab": {
     "base_uri": "https://localhost:8080/",
     "height": 404
    },
    "id": "rCrXgiKXmZG4",
    "outputId": "83510897-27f9-49cd-8081-a9950c51c79c"
   },
   "outputs": [
    {
     "data": {
      "text/html": [
       "<div>\n",
       "<style scoped>\n",
       "    .dataframe tbody tr th:only-of-type {\n",
       "        vertical-align: middle;\n",
       "    }\n",
       "\n",
       "    .dataframe tbody tr th {\n",
       "        vertical-align: top;\n",
       "    }\n",
       "\n",
       "    .dataframe thead th {\n",
       "        text-align: right;\n",
       "    }\n",
       "</style>\n",
       "<table border=\"1\" class=\"dataframe\">\n",
       "  <thead>\n",
       "    <tr style=\"text-align: right;\">\n",
       "      <th></th>\n",
       "      <th>id</th>\n",
       "      <th>gender</th>\n",
       "      <th>age</th>\n",
       "      <th>hypertension</th>\n",
       "      <th>heart_disease</th>\n",
       "      <th>ever_married</th>\n",
       "      <th>work_type</th>\n",
       "      <th>Residence_type</th>\n",
       "      <th>avg_glucose_level</th>\n",
       "      <th>bmi</th>\n",
       "      <th>smoking_status</th>\n",
       "      <th>stroke</th>\n",
       "    </tr>\n",
       "  </thead>\n",
       "  <tbody>\n",
       "    <tr>\n",
       "      <th>9</th>\n",
       "      <td>28674</td>\n",
       "      <td>Female</td>\n",
       "      <td>74.0</td>\n",
       "      <td>1</td>\n",
       "      <td>0</td>\n",
       "      <td>Yes</td>\n",
       "      <td>Self-employed</td>\n",
       "      <td>Urban</td>\n",
       "      <td>205.84</td>\n",
       "      <td>54.6</td>\n",
       "      <td>never smoked</td>\n",
       "      <td>0</td>\n",
       "    </tr>\n",
       "    <tr>\n",
       "      <th>21</th>\n",
       "      <td>72911</td>\n",
       "      <td>Female</td>\n",
       "      <td>57.0</td>\n",
       "      <td>1</td>\n",
       "      <td>0</td>\n",
       "      <td>Yes</td>\n",
       "      <td>Private</td>\n",
       "      <td>Rural</td>\n",
       "      <td>129.54</td>\n",
       "      <td>60.9</td>\n",
       "      <td>smokes</td>\n",
       "      <td>0</td>\n",
       "    </tr>\n",
       "    <tr>\n",
       "      <th>86</th>\n",
       "      <td>1703</td>\n",
       "      <td>Female</td>\n",
       "      <td>52.0</td>\n",
       "      <td>0</td>\n",
       "      <td>0</td>\n",
       "      <td>Yes</td>\n",
       "      <td>Private</td>\n",
       "      <td>Urban</td>\n",
       "      <td>82.24</td>\n",
       "      <td>54.7</td>\n",
       "      <td>formerly smoked</td>\n",
       "      <td>0</td>\n",
       "    </tr>\n",
       "    <tr>\n",
       "      <th>111</th>\n",
       "      <td>66333</td>\n",
       "      <td>Male</td>\n",
       "      <td>52.0</td>\n",
       "      <td>0</td>\n",
       "      <td>0</td>\n",
       "      <td>Yes</td>\n",
       "      <td>Self-employed</td>\n",
       "      <td>Urban</td>\n",
       "      <td>78.40</td>\n",
       "      <td>64.8</td>\n",
       "      <td>never smoked</td>\n",
       "      <td>0</td>\n",
       "    </tr>\n",
       "    <tr>\n",
       "      <th>184</th>\n",
       "      <td>53144</td>\n",
       "      <td>Female</td>\n",
       "      <td>52.0</td>\n",
       "      <td>0</td>\n",
       "      <td>1</td>\n",
       "      <td>Yes</td>\n",
       "      <td>Private</td>\n",
       "      <td>Urban</td>\n",
       "      <td>72.79</td>\n",
       "      <td>54.7</td>\n",
       "      <td>never smoked</td>\n",
       "      <td>0</td>\n",
       "    </tr>\n",
       "    <tr>\n",
       "      <th>...</th>\n",
       "      <td>...</td>\n",
       "      <td>...</td>\n",
       "      <td>...</td>\n",
       "      <td>...</td>\n",
       "      <td>...</td>\n",
       "      <td>...</td>\n",
       "      <td>...</td>\n",
       "      <td>...</td>\n",
       "      <td>...</td>\n",
       "      <td>...</td>\n",
       "      <td>...</td>\n",
       "      <td>...</td>\n",
       "    </tr>\n",
       "    <tr>\n",
       "      <th>43025</th>\n",
       "      <td>14846</td>\n",
       "      <td>Male</td>\n",
       "      <td>50.0</td>\n",
       "      <td>1</td>\n",
       "      <td>0</td>\n",
       "      <td>Yes</td>\n",
       "      <td>Govt_job</td>\n",
       "      <td>Rural</td>\n",
       "      <td>75.29</td>\n",
       "      <td>52.0</td>\n",
       "      <td>never smoked</td>\n",
       "      <td>0</td>\n",
       "    </tr>\n",
       "    <tr>\n",
       "      <th>43087</th>\n",
       "      <td>70198</td>\n",
       "      <td>Male</td>\n",
       "      <td>78.0</td>\n",
       "      <td>1</td>\n",
       "      <td>0</td>\n",
       "      <td>Yes</td>\n",
       "      <td>Private</td>\n",
       "      <td>Rural</td>\n",
       "      <td>135.73</td>\n",
       "      <td>89.0</td>\n",
       "      <td>never smoked</td>\n",
       "      <td>0</td>\n",
       "    </tr>\n",
       "    <tr>\n",
       "      <th>43239</th>\n",
       "      <td>36167</td>\n",
       "      <td>Male</td>\n",
       "      <td>21.0</td>\n",
       "      <td>0</td>\n",
       "      <td>0</td>\n",
       "      <td>No</td>\n",
       "      <td>Private</td>\n",
       "      <td>Urban</td>\n",
       "      <td>83.78</td>\n",
       "      <td>54.9</td>\n",
       "      <td>never smoked</td>\n",
       "      <td>0</td>\n",
       "    </tr>\n",
       "    <tr>\n",
       "      <th>43355</th>\n",
       "      <td>57237</td>\n",
       "      <td>Female</td>\n",
       "      <td>46.0</td>\n",
       "      <td>0</td>\n",
       "      <td>0</td>\n",
       "      <td>Yes</td>\n",
       "      <td>Private</td>\n",
       "      <td>Rural</td>\n",
       "      <td>99.81</td>\n",
       "      <td>53.2</td>\n",
       "      <td>NaN</td>\n",
       "      <td>0</td>\n",
       "    </tr>\n",
       "    <tr>\n",
       "      <th>43396</th>\n",
       "      <td>5450</td>\n",
       "      <td>Female</td>\n",
       "      <td>56.0</td>\n",
       "      <td>0</td>\n",
       "      <td>0</td>\n",
       "      <td>Yes</td>\n",
       "      <td>Govt_job</td>\n",
       "      <td>Urban</td>\n",
       "      <td>213.61</td>\n",
       "      <td>55.4</td>\n",
       "      <td>formerly smoked</td>\n",
       "      <td>0</td>\n",
       "    </tr>\n",
       "  </tbody>\n",
       "</table>\n",
       "<p>431 rows × 12 columns</p>\n",
       "</div>"
      ],
      "text/plain": [
       "          id  gender   age  hypertension  heart_disease ever_married  \\\n",
       "9      28674  Female  74.0             1              0          Yes   \n",
       "21     72911  Female  57.0             1              0          Yes   \n",
       "86      1703  Female  52.0             0              0          Yes   \n",
       "111    66333    Male  52.0             0              0          Yes   \n",
       "184    53144  Female  52.0             0              1          Yes   \n",
       "...      ...     ...   ...           ...            ...          ...   \n",
       "43025  14846    Male  50.0             1              0          Yes   \n",
       "43087  70198    Male  78.0             1              0          Yes   \n",
       "43239  36167    Male  21.0             0              0           No   \n",
       "43355  57237  Female  46.0             0              0          Yes   \n",
       "43396   5450  Female  56.0             0              0          Yes   \n",
       "\n",
       "           work_type Residence_type  avg_glucose_level   bmi   smoking_status  \\\n",
       "9      Self-employed          Urban             205.84  54.6     never smoked   \n",
       "21           Private          Rural             129.54  60.9           smokes   \n",
       "86           Private          Urban              82.24  54.7  formerly smoked   \n",
       "111    Self-employed          Urban              78.40  64.8     never smoked   \n",
       "184          Private          Urban              72.79  54.7     never smoked   \n",
       "...              ...            ...                ...   ...              ...   \n",
       "43025       Govt_job          Rural              75.29  52.0     never smoked   \n",
       "43087        Private          Rural             135.73  89.0     never smoked   \n",
       "43239        Private          Urban              83.78  54.9     never smoked   \n",
       "43355        Private          Rural              99.81  53.2              NaN   \n",
       "43396       Govt_job          Urban             213.61  55.4  formerly smoked   \n",
       "\n",
       "       stroke  \n",
       "9           0  \n",
       "21          0  \n",
       "86          0  \n",
       "111         0  \n",
       "184         0  \n",
       "...       ...  \n",
       "43025       0  \n",
       "43087       0  \n",
       "43239       0  \n",
       "43355       0  \n",
       "43396       0  \n",
       "\n",
       "[431 rows x 12 columns]"
      ]
     },
     "execution_count": 36,
     "metadata": {},
     "output_type": "execute_result"
    }
   ],
   "source": [
    "dodge[dodge['bmi'] > 51.35486554902225]"
   ]
  },
  {
   "cell_type": "code",
   "execution_count": 37,
   "metadata": {
    "colab": {
     "base_uri": "https://localhost:8080/"
    },
    "id": "dwjwFv6XmZJQ",
    "outputId": "2a937339-56fa-49e6-cb50-567bfd421ab6"
   },
   "outputs": [
    {
     "data": {
      "text/plain": [
       "Int64Index([    9,    21,    86,   111,   184,   220,   297,   302,   396,\n",
       "              422,\n",
       "            ...\n",
       "            42560, 42589, 42604, 42831, 42977, 43025, 43087, 43239, 43355,\n",
       "            43396],\n",
       "           dtype='int64', length=431)"
      ]
     },
     "execution_count": 37,
     "metadata": {},
     "output_type": "execute_result"
    }
   ],
   "source": [
    "dodge[dodge['bmi'] > 51.35486554902225].index"
   ]
  },
  {
   "cell_type": "code",
   "execution_count": 38,
   "metadata": {
    "id": "Ys016jdgl92u"
   },
   "outputs": [],
   "source": [
    "dodge.drop(index = dodge[dodge['bmi'] > 51.35486554902225].index, axis = 0, inplace = True)"
   ]
  },
  {
   "cell_type": "code",
   "execution_count": 39,
   "metadata": {
    "colab": {
     "base_uri": "https://localhost:8080/"
    },
    "id": "-_CMR2A9luYY",
    "outputId": "097e55c9-4dee-4a45-e156-de7100f56975"
   },
   "outputs": [
    {
     "data": {
      "text/plain": [
       "(41261, 12)"
      ]
     },
     "execution_count": 39,
     "metadata": {},
     "output_type": "execute_result"
    }
   ],
   "source": [
    "dodge.shape"
   ]
  },
  {
   "cell_type": "markdown",
   "metadata": {
    "id": "ImbBoSqRiZ6H"
   },
   "source": [
    "Checking Null Values in the Dataset.\n",
    "\n",
    "Except smoking_status, every column is free from null values.\n",
    "\n"
   ]
  },
  {
   "cell_type": "code",
   "execution_count": 40,
   "metadata": {
    "colab": {
     "base_uri": "https://localhost:8080/"
    },
    "id": "AEkAzVByncnT",
    "outputId": "0e08938c-7ec3-4290-f277-942b4c624c4c"
   },
   "outputs": [
    {
     "data": {
      "text/plain": [
       "id                       0\n",
       "gender                   0\n",
       "age                      0\n",
       "hypertension             0\n",
       "heart_disease            0\n",
       "ever_married             0\n",
       "work_type                0\n",
       "Residence_type           0\n",
       "avg_glucose_level        0\n",
       "bmi                      0\n",
       "smoking_status       12015\n",
       "stroke                   0\n",
       "dtype: int64"
      ]
     },
     "execution_count": 40,
     "metadata": {},
     "output_type": "execute_result"
    }
   ],
   "source": [
    "dodge.isnull().sum()"
   ]
  },
  {
   "cell_type": "markdown",
   "metadata": {
    "id": "-cSBf4YwnvBu"
   },
   "source": [
    "### **Exploring Independent Categorical(Object/String) Columns.**\n",
    "\n",
    "\n",
    "1. Cleaning\n",
    "2. Treating Missing values\n",
    "\n"
   ]
  },
  {
   "cell_type": "code",
   "execution_count": 41,
   "metadata": {
    "id": "HGXf3Su7nuZs"
   },
   "outputs": [],
   "source": [
    "categorical = ['gender', 'ever_married', 'work_type', 'Residence_type', 'smoking_status']"
   ]
  },
  {
   "cell_type": "code",
   "execution_count": 42,
   "metadata": {
    "colab": {
     "base_uri": "https://localhost:8080/"
    },
    "id": "W3y0R9mOnuc6",
    "outputId": "39596925-1e94-4c2d-bd86-2a5dd94ec7bb"
   },
   "outputs": [
    {
     "name": "stdout",
     "output_type": "stream",
     "text": [
      "count      41261\n",
      "unique         3\n",
      "top       Female\n",
      "freq       24498\n",
      "Name: gender, dtype: object\n",
      "count     41261\n",
      "unique        2\n",
      "top         Yes\n",
      "freq      27051\n",
      "Name: ever_married, dtype: object\n",
      "count       41261\n",
      "unique          5\n",
      "top       Private\n",
      "freq        24195\n",
      "Name: work_type, dtype: object\n",
      "count     41261\n",
      "unique        2\n",
      "top       Urban\n",
      "freq      20664\n",
      "Name: Residence_type, dtype: object\n",
      "count            29246\n",
      "unique               3\n",
      "top       never smoked\n",
      "freq             15655\n",
      "Name: smoking_status, dtype: object\n"
     ]
    }
   ],
   "source": [
    "for i in categorical:\n",
    "  print(dodge[i].describe())"
   ]
  },
  {
   "cell_type": "code",
   "execution_count": 43,
   "metadata": {
    "colab": {
     "base_uri": "https://localhost:8080/",
     "height": 166
    },
    "id": "K13hUli7nuen",
    "outputId": "922b165d-531e-4224-d777-b8359d21098b"
   },
   "outputs": [
    {
     "data": {
      "text/html": [
       "<div>\n",
       "<style scoped>\n",
       "    .dataframe tbody tr th:only-of-type {\n",
       "        vertical-align: middle;\n",
       "    }\n",
       "\n",
       "    .dataframe tbody tr th {\n",
       "        vertical-align: top;\n",
       "    }\n",
       "\n",
       "    .dataframe thead th {\n",
       "        text-align: right;\n",
       "    }\n",
       "</style>\n",
       "<table border=\"1\" class=\"dataframe\">\n",
       "  <thead>\n",
       "    <tr style=\"text-align: right;\">\n",
       "      <th></th>\n",
       "      <th>gender</th>\n",
       "      <th>ever_married</th>\n",
       "      <th>work_type</th>\n",
       "      <th>Residence_type</th>\n",
       "      <th>smoking_status</th>\n",
       "    </tr>\n",
       "  </thead>\n",
       "  <tbody>\n",
       "    <tr>\n",
       "      <th>count</th>\n",
       "      <td>41261</td>\n",
       "      <td>41261</td>\n",
       "      <td>41261</td>\n",
       "      <td>41261</td>\n",
       "      <td>29246</td>\n",
       "    </tr>\n",
       "    <tr>\n",
       "      <th>unique</th>\n",
       "      <td>3</td>\n",
       "      <td>2</td>\n",
       "      <td>5</td>\n",
       "      <td>2</td>\n",
       "      <td>3</td>\n",
       "    </tr>\n",
       "    <tr>\n",
       "      <th>top</th>\n",
       "      <td>Female</td>\n",
       "      <td>Yes</td>\n",
       "      <td>Private</td>\n",
       "      <td>Urban</td>\n",
       "      <td>never smoked</td>\n",
       "    </tr>\n",
       "    <tr>\n",
       "      <th>freq</th>\n",
       "      <td>24498</td>\n",
       "      <td>27051</td>\n",
       "      <td>24195</td>\n",
       "      <td>20664</td>\n",
       "      <td>15655</td>\n",
       "    </tr>\n",
       "  </tbody>\n",
       "</table>\n",
       "</div>"
      ],
      "text/plain": [
       "        gender ever_married work_type Residence_type smoking_status\n",
       "count    41261        41261     41261          41261          29246\n",
       "unique       3            2         5              2              3\n",
       "top     Female          Yes   Private          Urban   never smoked\n",
       "freq     24498        27051     24195          20664          15655"
      ]
     },
     "execution_count": 43,
     "metadata": {},
     "output_type": "execute_result"
    }
   ],
   "source": [
    "dodge.describe(include = 'object')"
   ]
  },
  {
   "cell_type": "code",
   "execution_count": 44,
   "metadata": {
    "colab": {
     "base_uri": "https://localhost:8080/"
    },
    "id": "27nC7WH1nugY",
    "outputId": "380dcd34-4184-41ba-d10b-efe022644227"
   },
   "outputs": [
    {
     "data": {
      "text/plain": [
       "never smoked       15655\n",
       "formerly smoked     7222\n",
       "smokes              6369\n",
       "Name: smoking_status, dtype: int64"
      ]
     },
     "execution_count": 44,
     "metadata": {},
     "output_type": "execute_result"
    }
   ],
   "source": [
    "dodge['smoking_status'].value_counts()"
   ]
  },
  {
   "cell_type": "code",
   "execution_count": 45,
   "metadata": {
    "colab": {
     "base_uri": "https://localhost:8080/",
     "height": 395
    },
    "id": "psP3_ncRNOpk",
    "outputId": "5f968cdb-f926-4e1d-b1e8-660e1be82ef3"
   },
   "outputs": [
    {
     "data": {
      "text/html": [
       "<div>\n",
       "<style scoped>\n",
       "    .dataframe tbody tr th:only-of-type {\n",
       "        vertical-align: middle;\n",
       "    }\n",
       "\n",
       "    .dataframe tbody tr th {\n",
       "        vertical-align: top;\n",
       "    }\n",
       "\n",
       "    .dataframe thead th {\n",
       "        text-align: right;\n",
       "    }\n",
       "</style>\n",
       "<table border=\"1\" class=\"dataframe\">\n",
       "  <thead>\n",
       "    <tr style=\"text-align: right;\">\n",
       "      <th></th>\n",
       "      <th>id</th>\n",
       "      <th>gender</th>\n",
       "      <th>age</th>\n",
       "      <th>hypertension</th>\n",
       "      <th>heart_disease</th>\n",
       "      <th>ever_married</th>\n",
       "      <th>work_type</th>\n",
       "      <th>Residence_type</th>\n",
       "      <th>avg_glucose_level</th>\n",
       "      <th>bmi</th>\n",
       "      <th>smoking_status</th>\n",
       "      <th>stroke</th>\n",
       "    </tr>\n",
       "  </thead>\n",
       "  <tbody>\n",
       "    <tr>\n",
       "      <th>count</th>\n",
       "      <td>41261.000000</td>\n",
       "      <td>41261</td>\n",
       "      <td>41261.000000</td>\n",
       "      <td>41261.000000</td>\n",
       "      <td>41261.000000</td>\n",
       "      <td>41261</td>\n",
       "      <td>41261</td>\n",
       "      <td>41261</td>\n",
       "      <td>41261.000000</td>\n",
       "      <td>41261.000000</td>\n",
       "      <td>29246</td>\n",
       "      <td>41261.000000</td>\n",
       "    </tr>\n",
       "    <tr>\n",
       "      <th>unique</th>\n",
       "      <td>NaN</td>\n",
       "      <td>3</td>\n",
       "      <td>NaN</td>\n",
       "      <td>NaN</td>\n",
       "      <td>NaN</td>\n",
       "      <td>2</td>\n",
       "      <td>5</td>\n",
       "      <td>2</td>\n",
       "      <td>NaN</td>\n",
       "      <td>NaN</td>\n",
       "      <td>3</td>\n",
       "      <td>NaN</td>\n",
       "    </tr>\n",
       "    <tr>\n",
       "      <th>top</th>\n",
       "      <td>NaN</td>\n",
       "      <td>Female</td>\n",
       "      <td>NaN</td>\n",
       "      <td>NaN</td>\n",
       "      <td>NaN</td>\n",
       "      <td>Yes</td>\n",
       "      <td>Private</td>\n",
       "      <td>Urban</td>\n",
       "      <td>NaN</td>\n",
       "      <td>NaN</td>\n",
       "      <td>never smoked</td>\n",
       "      <td>NaN</td>\n",
       "    </tr>\n",
       "    <tr>\n",
       "      <th>freq</th>\n",
       "      <td>NaN</td>\n",
       "      <td>24498</td>\n",
       "      <td>NaN</td>\n",
       "      <td>NaN</td>\n",
       "      <td>NaN</td>\n",
       "      <td>27051</td>\n",
       "      <td>24195</td>\n",
       "      <td>20664</td>\n",
       "      <td>NaN</td>\n",
       "      <td>NaN</td>\n",
       "      <td>15655</td>\n",
       "      <td>NaN</td>\n",
       "    </tr>\n",
       "    <tr>\n",
       "      <th>mean</th>\n",
       "      <td>36315.893992</td>\n",
       "      <td>NaN</td>\n",
       "      <td>42.998134</td>\n",
       "      <td>0.092533</td>\n",
       "      <td>0.046945</td>\n",
       "      <td>NaN</td>\n",
       "      <td>NaN</td>\n",
       "      <td>NaN</td>\n",
       "      <td>102.504529</td>\n",
       "      <td>28.509461</td>\n",
       "      <td>NaN</td>\n",
       "      <td>0.018032</td>\n",
       "    </tr>\n",
       "    <tr>\n",
       "      <th>std</th>\n",
       "      <td>21080.388177</td>\n",
       "      <td>NaN</td>\n",
       "      <td>21.848829</td>\n",
       "      <td>0.289780</td>\n",
       "      <td>0.211524</td>\n",
       "      <td>NaN</td>\n",
       "      <td>NaN</td>\n",
       "      <td>NaN</td>\n",
       "      <td>39.968402</td>\n",
       "      <td>6.942450</td>\n",
       "      <td>NaN</td>\n",
       "      <td>0.133067</td>\n",
       "    </tr>\n",
       "    <tr>\n",
       "      <th>min</th>\n",
       "      <td>1.000000</td>\n",
       "      <td>NaN</td>\n",
       "      <td>1.000000</td>\n",
       "      <td>0.000000</td>\n",
       "      <td>0.000000</td>\n",
       "      <td>NaN</td>\n",
       "      <td>NaN</td>\n",
       "      <td>NaN</td>\n",
       "      <td>55.000000</td>\n",
       "      <td>10.100000</td>\n",
       "      <td>NaN</td>\n",
       "      <td>0.000000</td>\n",
       "    </tr>\n",
       "    <tr>\n",
       "      <th>25%</th>\n",
       "      <td>18007.000000</td>\n",
       "      <td>NaN</td>\n",
       "      <td>25.000000</td>\n",
       "      <td>0.000000</td>\n",
       "      <td>0.000000</td>\n",
       "      <td>NaN</td>\n",
       "      <td>NaN</td>\n",
       "      <td>NaN</td>\n",
       "      <td>77.370000</td>\n",
       "      <td>23.700000</td>\n",
       "      <td>NaN</td>\n",
       "      <td>0.000000</td>\n",
       "    </tr>\n",
       "    <tr>\n",
       "      <th>50%</th>\n",
       "      <td>36315.000000</td>\n",
       "      <td>NaN</td>\n",
       "      <td>44.000000</td>\n",
       "      <td>0.000000</td>\n",
       "      <td>0.000000</td>\n",
       "      <td>NaN</td>\n",
       "      <td>NaN</td>\n",
       "      <td>NaN</td>\n",
       "      <td>91.170000</td>\n",
       "      <td>28.100000</td>\n",
       "      <td>NaN</td>\n",
       "      <td>0.000000</td>\n",
       "    </tr>\n",
       "    <tr>\n",
       "      <th>75%</th>\n",
       "      <td>54539.000000</td>\n",
       "      <td>NaN</td>\n",
       "      <td>60.000000</td>\n",
       "      <td>0.000000</td>\n",
       "      <td>0.000000</td>\n",
       "      <td>NaN</td>\n",
       "      <td>NaN</td>\n",
       "      <td>NaN</td>\n",
       "      <td>110.770000</td>\n",
       "      <td>32.500000</td>\n",
       "      <td>NaN</td>\n",
       "      <td>0.000000</td>\n",
       "    </tr>\n",
       "    <tr>\n",
       "      <th>max</th>\n",
       "      <td>72943.000000</td>\n",
       "      <td>NaN</td>\n",
       "      <td>82.000000</td>\n",
       "      <td>1.000000</td>\n",
       "      <td>1.000000</td>\n",
       "      <td>NaN</td>\n",
       "      <td>NaN</td>\n",
       "      <td>NaN</td>\n",
       "      <td>234.380000</td>\n",
       "      <td>51.300000</td>\n",
       "      <td>NaN</td>\n",
       "      <td>1.000000</td>\n",
       "    </tr>\n",
       "  </tbody>\n",
       "</table>\n",
       "</div>"
      ],
      "text/plain": [
       "                  id  gender           age  hypertension  heart_disease  \\\n",
       "count   41261.000000   41261  41261.000000  41261.000000   41261.000000   \n",
       "unique           NaN       3           NaN           NaN            NaN   \n",
       "top              NaN  Female           NaN           NaN            NaN   \n",
       "freq             NaN   24498           NaN           NaN            NaN   \n",
       "mean    36315.893992     NaN     42.998134      0.092533       0.046945   \n",
       "std     21080.388177     NaN     21.848829      0.289780       0.211524   \n",
       "min         1.000000     NaN      1.000000      0.000000       0.000000   \n",
       "25%     18007.000000     NaN     25.000000      0.000000       0.000000   \n",
       "50%     36315.000000     NaN     44.000000      0.000000       0.000000   \n",
       "75%     54539.000000     NaN     60.000000      0.000000       0.000000   \n",
       "max     72943.000000     NaN     82.000000      1.000000       1.000000   \n",
       "\n",
       "       ever_married work_type Residence_type  avg_glucose_level           bmi  \\\n",
       "count         41261     41261          41261       41261.000000  41261.000000   \n",
       "unique            2         5              2                NaN           NaN   \n",
       "top             Yes   Private          Urban                NaN           NaN   \n",
       "freq          27051     24195          20664                NaN           NaN   \n",
       "mean            NaN       NaN            NaN         102.504529     28.509461   \n",
       "std             NaN       NaN            NaN          39.968402      6.942450   \n",
       "min             NaN       NaN            NaN          55.000000     10.100000   \n",
       "25%             NaN       NaN            NaN          77.370000     23.700000   \n",
       "50%             NaN       NaN            NaN          91.170000     28.100000   \n",
       "75%             NaN       NaN            NaN         110.770000     32.500000   \n",
       "max             NaN       NaN            NaN         234.380000     51.300000   \n",
       "\n",
       "       smoking_status        stroke  \n",
       "count           29246  41261.000000  \n",
       "unique              3           NaN  \n",
       "top      never smoked           NaN  \n",
       "freq            15655           NaN  \n",
       "mean              NaN      0.018032  \n",
       "std               NaN      0.133067  \n",
       "min               NaN      0.000000  \n",
       "25%               NaN      0.000000  \n",
       "50%               NaN      0.000000  \n",
       "75%               NaN      0.000000  \n",
       "max               NaN      1.000000  "
      ]
     },
     "execution_count": 45,
     "metadata": {},
     "output_type": "execute_result"
    }
   ],
   "source": [
    "dodge.describe(include = 'all')"
   ]
  },
  {
   "cell_type": "markdown",
   "metadata": {
    "id": "SHoWSl3cjO4l"
   },
   "source": [
    "Treating Missing values in Object columns using,\n",
    "1. mean/median/mode\n",
    "2. Based on frequency Distribution."
   ]
  },
  {
   "cell_type": "code",
   "execution_count": 46,
   "metadata": {
    "colab": {
     "base_uri": "https://localhost:8080/"
    },
    "id": "osFJYlwLQEqu",
    "outputId": "23292133-54c3-4e63-e1a9-46856518d0a2"
   },
   "outputs": [
    {
     "data": {
      "text/plain": [
       "0    never smoked\n",
       "dtype: object"
      ]
     },
     "execution_count": 46,
     "metadata": {},
     "output_type": "execute_result"
    }
   ],
   "source": [
    "dodge['smoking_status'].mode()"
   ]
  },
  {
   "cell_type": "code",
   "execution_count": 47,
   "metadata": {
    "id": "9uM-Lf-QN9CV"
   },
   "outputs": [],
   "source": [
    "dodge['smoking_status'].fillna('never smoked',inplace = True)"
   ]
  },
  {
   "cell_type": "code",
   "execution_count": 48,
   "metadata": {
    "colab": {
     "base_uri": "https://localhost:8080/"
    },
    "id": "sxj4l6-RQdQa",
    "outputId": "4802ec10-71ef-4468-96e2-3426cb250802"
   },
   "outputs": [
    {
     "data": {
      "text/plain": [
       "0"
      ]
     },
     "execution_count": 48,
     "metadata": {},
     "output_type": "execute_result"
    }
   ],
   "source": [
    "dodge['smoking_status'].isnull().sum()"
   ]
  },
  {
   "cell_type": "markdown",
   "metadata": {
    "id": "bHxGX2iDjxHO"
   },
   "source": [
    "Hence all our data is now cleaned and ready for Analysis."
   ]
  },
  {
   "cell_type": "code",
   "execution_count": 49,
   "metadata": {
    "colab": {
     "base_uri": "https://localhost:8080/"
    },
    "id": "tiu0AHhRSLV2",
    "outputId": "f2143cfd-a678-4cc4-a215-99e52dce9f12"
   },
   "outputs": [
    {
     "name": "stdout",
     "output_type": "stream",
     "text": [
      "<class 'pandas.core.frame.DataFrame'>\n",
      "Int64Index: 41261 entries, 0 to 43399\n",
      "Data columns (total 12 columns):\n",
      " #   Column             Non-Null Count  Dtype  \n",
      "---  ------             --------------  -----  \n",
      " 0   id                 41261 non-null  int64  \n",
      " 1   gender             41261 non-null  object \n",
      " 2   age                41261 non-null  float64\n",
      " 3   hypertension       41261 non-null  int64  \n",
      " 4   heart_disease      41261 non-null  int64  \n",
      " 5   ever_married       41261 non-null  object \n",
      " 6   work_type          41261 non-null  object \n",
      " 7   Residence_type     41261 non-null  object \n",
      " 8   avg_glucose_level  41261 non-null  float64\n",
      " 9   bmi                41261 non-null  float64\n",
      " 10  smoking_status     41261 non-null  object \n",
      " 11  stroke             41261 non-null  int64  \n",
      "dtypes: float64(3), int64(4), object(5)\n",
      "memory usage: 4.1+ MB\n"
     ]
    }
   ],
   "source": [
    "dodge.info()"
   ]
  },
  {
   "cell_type": "code",
   "execution_count": 50,
   "metadata": {
    "colab": {
     "base_uri": "https://localhost:8080/",
     "height": 196
    },
    "id": "OIvfO7MDVxXs",
    "outputId": "4864eb60-e418-4602-9717-b2f3f04e9ef2"
   },
   "outputs": [
    {
     "data": {
      "text/html": [
       "<div>\n",
       "<style scoped>\n",
       "    .dataframe tbody tr th:only-of-type {\n",
       "        vertical-align: middle;\n",
       "    }\n",
       "\n",
       "    .dataframe tbody tr th {\n",
       "        vertical-align: top;\n",
       "    }\n",
       "\n",
       "    .dataframe thead th {\n",
       "        text-align: right;\n",
       "    }\n",
       "</style>\n",
       "<table border=\"1\" class=\"dataframe\">\n",
       "  <thead>\n",
       "    <tr style=\"text-align: right;\">\n",
       "      <th></th>\n",
       "      <th>id</th>\n",
       "      <th>gender</th>\n",
       "      <th>age</th>\n",
       "      <th>hypertension</th>\n",
       "      <th>heart_disease</th>\n",
       "      <th>ever_married</th>\n",
       "      <th>work_type</th>\n",
       "      <th>Residence_type</th>\n",
       "      <th>avg_glucose_level</th>\n",
       "      <th>bmi</th>\n",
       "      <th>smoking_status</th>\n",
       "      <th>stroke</th>\n",
       "    </tr>\n",
       "  </thead>\n",
       "  <tbody>\n",
       "    <tr>\n",
       "      <th>0</th>\n",
       "      <td>30669</td>\n",
       "      <td>Male</td>\n",
       "      <td>3.0</td>\n",
       "      <td>0</td>\n",
       "      <td>0</td>\n",
       "      <td>No</td>\n",
       "      <td>children</td>\n",
       "      <td>Rural</td>\n",
       "      <td>95.12</td>\n",
       "      <td>18.0</td>\n",
       "      <td>never smoked</td>\n",
       "      <td>0</td>\n",
       "    </tr>\n",
       "    <tr>\n",
       "      <th>1</th>\n",
       "      <td>30468</td>\n",
       "      <td>Male</td>\n",
       "      <td>58.0</td>\n",
       "      <td>1</td>\n",
       "      <td>0</td>\n",
       "      <td>Yes</td>\n",
       "      <td>Private</td>\n",
       "      <td>Urban</td>\n",
       "      <td>87.96</td>\n",
       "      <td>39.2</td>\n",
       "      <td>never smoked</td>\n",
       "      <td>0</td>\n",
       "    </tr>\n",
       "    <tr>\n",
       "      <th>2</th>\n",
       "      <td>16523</td>\n",
       "      <td>Female</td>\n",
       "      <td>8.0</td>\n",
       "      <td>0</td>\n",
       "      <td>0</td>\n",
       "      <td>No</td>\n",
       "      <td>Private</td>\n",
       "      <td>Urban</td>\n",
       "      <td>110.89</td>\n",
       "      <td>17.6</td>\n",
       "      <td>never smoked</td>\n",
       "      <td>0</td>\n",
       "    </tr>\n",
       "    <tr>\n",
       "      <th>3</th>\n",
       "      <td>56543</td>\n",
       "      <td>Female</td>\n",
       "      <td>70.0</td>\n",
       "      <td>0</td>\n",
       "      <td>0</td>\n",
       "      <td>Yes</td>\n",
       "      <td>Private</td>\n",
       "      <td>Rural</td>\n",
       "      <td>69.04</td>\n",
       "      <td>35.9</td>\n",
       "      <td>formerly smoked</td>\n",
       "      <td>0</td>\n",
       "    </tr>\n",
       "    <tr>\n",
       "      <th>4</th>\n",
       "      <td>46136</td>\n",
       "      <td>Male</td>\n",
       "      <td>14.0</td>\n",
       "      <td>0</td>\n",
       "      <td>0</td>\n",
       "      <td>No</td>\n",
       "      <td>Never_worked</td>\n",
       "      <td>Rural</td>\n",
       "      <td>161.28</td>\n",
       "      <td>19.1</td>\n",
       "      <td>never smoked</td>\n",
       "      <td>0</td>\n",
       "    </tr>\n",
       "  </tbody>\n",
       "</table>\n",
       "</div>"
      ],
      "text/plain": [
       "      id  gender   age  hypertension  heart_disease ever_married  \\\n",
       "0  30669    Male   3.0             0              0           No   \n",
       "1  30468    Male  58.0             1              0          Yes   \n",
       "2  16523  Female   8.0             0              0           No   \n",
       "3  56543  Female  70.0             0              0          Yes   \n",
       "4  46136    Male  14.0             0              0           No   \n",
       "\n",
       "      work_type Residence_type  avg_glucose_level   bmi   smoking_status  \\\n",
       "0      children          Rural              95.12  18.0     never smoked   \n",
       "1       Private          Urban              87.96  39.2     never smoked   \n",
       "2       Private          Urban             110.89  17.6     never smoked   \n",
       "3       Private          Rural              69.04  35.9  formerly smoked   \n",
       "4  Never_worked          Rural             161.28  19.1     never smoked   \n",
       "\n",
       "   stroke  \n",
       "0       0  \n",
       "1       0  \n",
       "2       0  \n",
       "3       0  \n",
       "4       0  "
      ]
     },
     "execution_count": 50,
     "metadata": {},
     "output_type": "execute_result"
    }
   ],
   "source": [
    "dodge.head()"
   ]
  },
  {
   "cell_type": "markdown",
   "metadata": {
    "id": "wE_5g8IreE72"
   },
   "source": [
    "### **Exploratory Data Analysis.** \n",
    "Exploratory Data Analysis helps us the understand the insights and extract the patterns from the dataset, which might be helpful to explain about the problem statement given to our clients.\n",
    "This can also be done by using traditional python code, But Visualizing the data looks more eye catching than looking at some numbers and letters.\n",
    "so, hence we are going to use various plots and graphs to visualize, which comes from the libraries such as,\n",
    "seaborn and matplotlib.pyplot.\n",
    "1. bar\n",
    "2. countplot\n",
    "3. piechart\n",
    "4. hist\n",
    "5. box\n",
    "6. scatterplot\n",
    "\n",
    "Apart from this we have also used and auto visualization tool, \"autoviz\""
   ]
  },
  {
   "cell_type": "code",
   "execution_count": 51,
   "metadata": {
    "colab": {
     "base_uri": "https://localhost:8080/"
    },
    "id": "Y71bYAbgd2Dt",
    "outputId": "ed27daf1-3992-42cd-9c47-5bc95db56042"
   },
   "outputs": [
    {
     "data": {
      "text/plain": [
       "id                   0\n",
       "gender               0\n",
       "age                  0\n",
       "hypertension         0\n",
       "heart_disease        0\n",
       "ever_married         0\n",
       "work_type            0\n",
       "Residence_type       0\n",
       "avg_glucose_level    0\n",
       "bmi                  0\n",
       "smoking_status       0\n",
       "stroke               0\n",
       "dtype: int64"
      ]
     },
     "execution_count": 51,
     "metadata": {},
     "output_type": "execute_result"
    }
   ],
   "source": [
    "dodge.isnull().sum()"
   ]
  },
  {
   "cell_type": "code",
   "execution_count": 52,
   "metadata": {
    "id": "DTMkT1TGd2GT"
   },
   "outputs": [],
   "source": [
    "dodge.drop(columns = 'id', inplace=True)"
   ]
  },
  {
   "cell_type": "code",
   "execution_count": 53,
   "metadata": {
    "colab": {
     "base_uri": "https://localhost:8080/",
     "height": 196
    },
    "id": "dYFFs6g5d2I6",
    "outputId": "858a0d02-8f7f-4983-8579-d04c22b1f23d"
   },
   "outputs": [
    {
     "data": {
      "text/html": [
       "<div>\n",
       "<style scoped>\n",
       "    .dataframe tbody tr th:only-of-type {\n",
       "        vertical-align: middle;\n",
       "    }\n",
       "\n",
       "    .dataframe tbody tr th {\n",
       "        vertical-align: top;\n",
       "    }\n",
       "\n",
       "    .dataframe thead th {\n",
       "        text-align: right;\n",
       "    }\n",
       "</style>\n",
       "<table border=\"1\" class=\"dataframe\">\n",
       "  <thead>\n",
       "    <tr style=\"text-align: right;\">\n",
       "      <th></th>\n",
       "      <th>gender</th>\n",
       "      <th>age</th>\n",
       "      <th>hypertension</th>\n",
       "      <th>heart_disease</th>\n",
       "      <th>ever_married</th>\n",
       "      <th>work_type</th>\n",
       "      <th>Residence_type</th>\n",
       "      <th>avg_glucose_level</th>\n",
       "      <th>bmi</th>\n",
       "      <th>smoking_status</th>\n",
       "      <th>stroke</th>\n",
       "    </tr>\n",
       "  </thead>\n",
       "  <tbody>\n",
       "    <tr>\n",
       "      <th>0</th>\n",
       "      <td>Male</td>\n",
       "      <td>3.0</td>\n",
       "      <td>0</td>\n",
       "      <td>0</td>\n",
       "      <td>No</td>\n",
       "      <td>children</td>\n",
       "      <td>Rural</td>\n",
       "      <td>95.12</td>\n",
       "      <td>18.0</td>\n",
       "      <td>never smoked</td>\n",
       "      <td>0</td>\n",
       "    </tr>\n",
       "    <tr>\n",
       "      <th>1</th>\n",
       "      <td>Male</td>\n",
       "      <td>58.0</td>\n",
       "      <td>1</td>\n",
       "      <td>0</td>\n",
       "      <td>Yes</td>\n",
       "      <td>Private</td>\n",
       "      <td>Urban</td>\n",
       "      <td>87.96</td>\n",
       "      <td>39.2</td>\n",
       "      <td>never smoked</td>\n",
       "      <td>0</td>\n",
       "    </tr>\n",
       "    <tr>\n",
       "      <th>2</th>\n",
       "      <td>Female</td>\n",
       "      <td>8.0</td>\n",
       "      <td>0</td>\n",
       "      <td>0</td>\n",
       "      <td>No</td>\n",
       "      <td>Private</td>\n",
       "      <td>Urban</td>\n",
       "      <td>110.89</td>\n",
       "      <td>17.6</td>\n",
       "      <td>never smoked</td>\n",
       "      <td>0</td>\n",
       "    </tr>\n",
       "    <tr>\n",
       "      <th>3</th>\n",
       "      <td>Female</td>\n",
       "      <td>70.0</td>\n",
       "      <td>0</td>\n",
       "      <td>0</td>\n",
       "      <td>Yes</td>\n",
       "      <td>Private</td>\n",
       "      <td>Rural</td>\n",
       "      <td>69.04</td>\n",
       "      <td>35.9</td>\n",
       "      <td>formerly smoked</td>\n",
       "      <td>0</td>\n",
       "    </tr>\n",
       "    <tr>\n",
       "      <th>4</th>\n",
       "      <td>Male</td>\n",
       "      <td>14.0</td>\n",
       "      <td>0</td>\n",
       "      <td>0</td>\n",
       "      <td>No</td>\n",
       "      <td>Never_worked</td>\n",
       "      <td>Rural</td>\n",
       "      <td>161.28</td>\n",
       "      <td>19.1</td>\n",
       "      <td>never smoked</td>\n",
       "      <td>0</td>\n",
       "    </tr>\n",
       "  </tbody>\n",
       "</table>\n",
       "</div>"
      ],
      "text/plain": [
       "   gender   age  hypertension  heart_disease ever_married     work_type  \\\n",
       "0    Male   3.0             0              0           No      children   \n",
       "1    Male  58.0             1              0          Yes       Private   \n",
       "2  Female   8.0             0              0           No       Private   \n",
       "3  Female  70.0             0              0          Yes       Private   \n",
       "4    Male  14.0             0              0           No  Never_worked   \n",
       "\n",
       "  Residence_type  avg_glucose_level   bmi   smoking_status  stroke  \n",
       "0          Rural              95.12  18.0     never smoked       0  \n",
       "1          Urban              87.96  39.2     never smoked       0  \n",
       "2          Urban             110.89  17.6     never smoked       0  \n",
       "3          Rural              69.04  35.9  formerly smoked       0  \n",
       "4          Rural             161.28  19.1     never smoked       0  "
      ]
     },
     "execution_count": 53,
     "metadata": {},
     "output_type": "execute_result"
    }
   ],
   "source": [
    "dodge.head()"
   ]
  },
  {
   "cell_type": "markdown",
   "metadata": {
    "id": "VxqgbITHsiJK"
   },
   "source": [
    "\n",
    "-> pd.crosstab() function is a very useful and most advanced fuction in the python dataframe, it helps us to compare 2 variables, due to which we can plot the distribution of thsoe variables. "
   ]
  },
  {
   "cell_type": "markdown",
   "metadata": {
    "id": "GrifN6S5yXa0"
   },
   "source": [
    "1. Bar plot for crosstab distribution between gender and stroke."
   ]
  },
  {
   "cell_type": "code",
   "execution_count": 54,
   "metadata": {
    "colab": {
     "base_uri": "https://localhost:8080/",
     "height": 307
    },
    "id": "b2sm0taZrnP5",
    "outputId": "e1b3a075-a445-4b56-c4dd-25c6dd40566b"
   },
   "outputs": [],
   "source": [
    "plt.figure(figsize = (8,6))\n",
    "x = pd.crosstab(dodge['gender'], dodge['stroke'])\n",
    "x.plot(kind = 'bar')\n",
    "#x.div(x.sum(1).astype(float), axis = 0).plot(kind='bar', stacked = False)\n",
    "plt.xlabel('Gender_distribution')\n",
    "plt.ylabel('Count')\n",
    "plt.title('Gender Distribution over Target Class')\n",
    "plt.show()\n",
    "\n"
   ]
  },
  {
   "cell_type": "markdown",
   "metadata": {
    "id": "BBK9Sf_fykpB"
   },
   "source": [
    "2. Pie Chart for distribution of gender."
   ]
  },
  {
   "cell_type": "code",
   "execution_count": 55,
   "metadata": {
    "colab": {
     "base_uri": "https://localhost:8080/",
     "height": 325
    },
    "id": "F2Q8OaWFlrfY",
    "outputId": "1e3e65d4-97ab-4d3d-8d01-c21e5066e30d"
   },
   "outputs": [],
   "source": [
    "# PIE CHART for dodge['gender'] column.\n",
    "\n",
    "plt.figure(figsize = (8,6), dpi = 90)\n",
    "labels = dodge['gender'].value_counts().index\n",
    "sizes = dodge['gender'].value_counts()\n",
    "explode = [0,0,0.1]\n",
    "colors = plt.cm.autumn(np.linspace(0,1,3))\n",
    "plt.pie(sizes, colors=colors, labels=labels, explode=explode, shadow =True, startangle=90, autopct = '%.2f%%' )\n",
    "plt.title('Gender',fontsize=12)\n",
    "plt.legend()\n",
    "plt.show()"
   ]
  },
  {
   "cell_type": "markdown",
   "metadata": {
    "id": "wNuxuhqDzcZi"
   },
   "source": [
    "3. Bar chart for gender-hypertentsion distribution."
   ]
  },
  {
   "cell_type": "code",
   "execution_count": 56,
   "metadata": {
    "colab": {
     "base_uri": "https://localhost:8080/",
     "height": 769
    },
    "id": "0_e78ocWxRlu",
    "outputId": "b35d801a-3db5-4eb3-d678-fb71e95ca75f"
   },
   "outputs": [],
   "source": [
    "plt.figure(figsize = (8,6), dpi = 90)\n",
    "x = pd.crosstab(dodge['gender'],dodge['hypertension'])\n",
    "x.plot(kind = 'bar')\n",
    "plt.xlabel('Gender')\n",
    "plt.ylabel('Hypertension')\n",
    "plt.title(\"Gender_Hypertension_Distribution\")\n",
    "plt.show()"
   ]
  },
  {
   "cell_type": "markdown",
   "metadata": {
    "id": "M9cbaGyszziD"
   },
   "source": [
    "4. Bar Chart for age-hypertension distribution "
   ]
  },
  {
   "cell_type": "code",
   "execution_count": 57,
   "metadata": {
    "colab": {
     "base_uri": "https://localhost:8080/",
     "height": 739
    },
    "id": "tacg0Y7qz0PP",
    "outputId": "7e456b4c-d089-4f5f-9f94-d8eef1d8a7c9"
   },
   "outputs": [],
   "source": [
    "plt.rcParams['figure.figsize'] = (20,12)\n",
    "x = pd.crosstab(dodge['age'], dodge['hypertension'])\n",
    "x.plot(kind = 'bar')\n",
    "plt.xlabel('Age')\n",
    "plt.ylabel('Count')\n",
    "plt.title(\"Age Hypertension Distrubition\")\n",
    "plt.show()"
   ]
  },
  {
   "cell_type": "markdown",
   "metadata": {
    "id": "fezMx25F0QIl"
   },
   "source": [
    "5. Bar Chart for gender-heart_disease distribution"
   ]
  },
  {
   "cell_type": "code",
   "execution_count": 58,
   "metadata": {
    "colab": {
     "base_uri": "https://localhost:8080/",
     "height": 755
    },
    "id": "rs5Z5Waj1PUm",
    "outputId": "a5ac228e-1064-4e82-ce97-c99b3956f47a"
   },
   "outputs": [],
   "source": [
    "plt.figure(figsize=(12,10))\n",
    "ab = pd.crosstab(dodge['gender'], dodge['heart_disease'])\n",
    "ab.plot(kind = 'bar')\n",
    "plt.show()"
   ]
  },
  {
   "cell_type": "markdown",
   "metadata": {
    "id": "QCPEoAIE0hpA"
   },
   "source": [
    "6. age-stroke distribution"
   ]
  },
  {
   "cell_type": "code",
   "execution_count": 59,
   "metadata": {
    "colab": {
     "base_uri": "https://localhost:8080/",
     "height": 739
    },
    "id": "eiH2VYlO-802",
    "outputId": "c0c33be4-003c-4eeb-fb41-a121fb344843"
   },
   "outputs": [],
   "source": [
    "plt.rcParams['figure.figsize'] = (20,12)\n",
    "x = pd.crosstab(dodge['age'], dodge['stroke'])\n",
    "x.plot(kind = 'bar')\n",
    "plt.xlabel('Age')\n",
    "plt.ylabel('Count')\n",
    "plt.title(\"Age_Stroke Distrubition\")\n",
    "plt.show()"
   ]
  },
  {
   "cell_type": "markdown",
   "metadata": {
    "id": "JmqNHTDa0xDK"
   },
   "source": [
    "7. age-heart_disease distribution."
   ]
  },
  {
   "cell_type": "code",
   "execution_count": 60,
   "metadata": {
    "colab": {
     "base_uri": "https://localhost:8080/",
     "height": 739
    },
    "id": "yFQ1d18A-84e",
    "outputId": "0d747661-ad49-43f6-c97b-32c9eaeee003"
   },
   "outputs": [],
   "source": [
    "plt.rcParams['figure.figsize'] = (20,12)\n",
    "#plt.figure(figsize =(13,6))\n",
    "x = pd.crosstab(dodge['age'], dodge['heart_disease'])\n",
    "x.plot(kind = 'bar')\n",
    "plt.xlabel('Age')\n",
    "plt.ylabel('Count')\n",
    "plt.title(\"Age Heart_Disease Distrubition\")\n",
    "plt.show()"
   ]
  },
  {
   "cell_type": "markdown",
   "metadata": {
    "id": "RLxn-neN2q0k"
   },
   "source": [
    "8. Distribution of people getting stroke with respect to whether they are married or not."
   ]
  },
  {
   "cell_type": "code",
   "execution_count": 61,
   "metadata": {
    "colab": {
     "base_uri": "https://localhost:8080/",
     "height": 384
    },
    "id": "trgCZCTE2lip",
    "outputId": "97681494-846d-4c24-a0e5-131e46dda9d5"
   },
   "outputs": [],
   "source": [
    "plt.rcParams['figure.figsize'] = (8,6)\n",
    "h = pd.crosstab(dodge['ever_married'], dodge['stroke'])\n",
    "h.plot(kind ='bar')\n",
    "plt.show()"
   ]
  },
  {
   "cell_type": "markdown",
   "metadata": {
    "id": "uvgnvhT631ZG"
   },
   "source": [
    "9. Scatterplot for avg_glucose level and bmi with hue as stroke, hue is an additional parameter which seperates the values using different colors."
   ]
  },
  {
   "cell_type": "code",
   "execution_count": 62,
   "metadata": {
    "colab": {
     "base_uri": "https://localhost:8080/",
     "height": 383
    },
    "id": "YVh-EIvU30Gk",
    "outputId": "7b062fed-a6a0-42b2-d5b7-8799ba42aafe"
   },
   "outputs": [],
   "source": [
    "plt.rcParams['figure.figsize'] = (20,12)\n",
    "sns.relplot(dodge['avg_glucose_level'], dodge['bmi'], hue = dodge['stroke'], kind = 'scatter')\n",
    "plt.xlabel('Avg_Glucose_Level')\n",
    "plt.ylabel('BMI')\n",
    "plt.show()"
   ]
  },
  {
   "cell_type": "markdown",
   "metadata": {
    "id": "ThA5G1yc59O_"
   },
   "source": [
    "10. Countplot() for checking distribution of work_type."
   ]
  },
  {
   "cell_type": "code",
   "execution_count": 63,
   "metadata": {
    "colab": {
     "base_uri": "https://localhost:8080/",
     "height": 620
    },
    "id": "sO8NMhvG58P2",
    "outputId": "d8e3d3be-198f-4bfb-e72b-06494746bdb4"
   },
   "outputs": [],
   "source": [
    "plt.figure(figsize = (12,10))\n",
    "sns.countplot(dodge['work_type'], color ='red')\n",
    "plt.xlabel(\"Work Type\")\n",
    "plt.ylabel('Count')\n",
    "plt.title(\"Distribution of Work_type\")\n",
    "plt.show()"
   ]
  },
  {
   "cell_type": "markdown",
   "metadata": {
    "id": "ab3AoEdp6c1X"
   },
   "source": [
    "11. Distribution of work_type with respect to stroke occurence."
   ]
  },
  {
   "cell_type": "code",
   "execution_count": 64,
   "metadata": {
    "colab": {
     "base_uri": "https://localhost:8080/",
     "height": 458
    },
    "id": "Mh6syn2Z58Ux",
    "outputId": "5e57ebb4-25e6-4588-b185-b05e7b2753b4"
   },
   "outputs": [],
   "source": [
    "plt.rcParams['figure.figsize'] = (8,6)\n",
    "h = pd.crosstab(dodge['work_type'], dodge['stroke'])\n",
    "h.plot(kind ='bar')\n",
    "plt.xlabel(\"Work_type\")\n",
    "plt.ylabel(\"Count\")\n",
    "plt.title(\"Distribution of Work_type and stroke\")\n",
    "plt.show()"
   ]
  },
  {
   "cell_type": "markdown",
   "metadata": {
    "colab": {
     "base_uri": "https://localhost:8080/",
     "height": 1000
    },
    "id": "vpkREgk784CJ",
    "outputId": "33cec381-f9cb-4a3a-c487-b61af71ecfdc"
   },
   "source": [
    "autovis = AV.AutoViz(filename = 'train_strokes.csv', sep=',')\n",
    "autovis"
   ]
  },
  {
   "cell_type": "markdown",
   "metadata": {
    "id": "QJUxZMJ81M6H"
   },
   "source": [
    "### **Exploring data using traditional python code, with the help of interactive widgets.**"
   ]
  },
  {
   "cell_type": "code",
   "execution_count": 65,
   "metadata": {
    "id": "1VHcpPMiDz65"
   },
   "outputs": [],
   "source": [
    "abg = dodge[['hypertension', 'heart_disease']].groupby(['hypertension']).count().style.background_gradient(cmap = 'viridis')"
   ]
  },
  {
   "cell_type": "markdown",
   "metadata": {
    "id": "_mP6byDW4-ge"
   },
   "source": [
    "Sum of Heart Disease values with respect to hypertension, This can be easily eaxplained by crosstab()"
   ]
  },
  {
   "cell_type": "code",
   "execution_count": 66,
   "metadata": {
    "colab": {
     "base_uri": "https://localhost:8080/",
     "height": 97
    },
    "id": "W3NHDefzekoh",
    "outputId": "72150d2b-e654-411b-d044-67c6dedb8329"
   },
   "outputs": [
    {
     "data": {
      "text/html": [
       "<style  type=\"text/css\" >\n",
       "#T_cb555aa7_dc97_11eb_abb8_9408533a2c26row0_col0{\n",
       "            background-color:  #fde725;\n",
       "            color:  #000000;\n",
       "        }#T_cb555aa7_dc97_11eb_abb8_9408533a2c26row1_col0{\n",
       "            background-color:  #440154;\n",
       "            color:  #f1f1f1;\n",
       "        }</style><table id=\"T_cb555aa7_dc97_11eb_abb8_9408533a2c26\" ><thead>    <tr>        <th class=\"blank level0\" ></th>        <th class=\"col_heading level0 col0\" >heart_disease</th>    </tr>    <tr>        <th class=\"index_name level0\" >hypertension</th>        <th class=\"blank\" ></th>    </tr></thead><tbody>\n",
       "                <tr>\n",
       "                        <th id=\"T_cb555aa7_dc97_11eb_abb8_9408533a2c26level0_row0\" class=\"row_heading level0 row0\" >0</th>\n",
       "                        <td id=\"T_cb555aa7_dc97_11eb_abb8_9408533a2c26row0_col0\" class=\"data row0 col0\" >37443</td>\n",
       "            </tr>\n",
       "            <tr>\n",
       "                        <th id=\"T_cb555aa7_dc97_11eb_abb8_9408533a2c26level0_row1\" class=\"row_heading level0 row1\" >1</th>\n",
       "                        <td id=\"T_cb555aa7_dc97_11eb_abb8_9408533a2c26row1_col0\" class=\"data row1 col0\" >3818</td>\n",
       "            </tr>\n",
       "    </tbody></table>"
      ],
      "text/plain": [
       "<pandas.io.formats.style.Styler at 0x14d67743ac0>"
      ]
     },
     "execution_count": 66,
     "metadata": {},
     "output_type": "execute_result"
    }
   ],
   "source": [
    "abg"
   ]
  },
  {
   "cell_type": "code",
   "execution_count": 67,
   "metadata": {
    "colab": {
     "base_uri": "https://localhost:8080/",
     "height": 137
    },
    "id": "pK9y-6Az5eyC",
    "outputId": "e863a1d1-2be5-420b-8f45-b521bceba1a8"
   },
   "outputs": [
    {
     "data": {
      "text/html": [
       "<div>\n",
       "<style scoped>\n",
       "    .dataframe tbody tr th:only-of-type {\n",
       "        vertical-align: middle;\n",
       "    }\n",
       "\n",
       "    .dataframe tbody tr th {\n",
       "        vertical-align: top;\n",
       "    }\n",
       "\n",
       "    .dataframe thead th {\n",
       "        text-align: right;\n",
       "    }\n",
       "</style>\n",
       "<table border=\"1\" class=\"dataframe\">\n",
       "  <thead>\n",
       "    <tr style=\"text-align: right;\">\n",
       "      <th>heart_disease</th>\n",
       "      <th>0</th>\n",
       "      <th>1</th>\n",
       "    </tr>\n",
       "    <tr>\n",
       "      <th>hypertension</th>\n",
       "      <th></th>\n",
       "      <th></th>\n",
       "    </tr>\n",
       "  </thead>\n",
       "  <tbody>\n",
       "    <tr>\n",
       "      <th>0</th>\n",
       "      <td>35984</td>\n",
       "      <td>1459</td>\n",
       "    </tr>\n",
       "    <tr>\n",
       "      <th>1</th>\n",
       "      <td>3340</td>\n",
       "      <td>478</td>\n",
       "    </tr>\n",
       "  </tbody>\n",
       "</table>\n",
       "</div>"
      ],
      "text/plain": [
       "heart_disease      0     1\n",
       "hypertension              \n",
       "0              35984  1459\n",
       "1               3340   478"
      ]
     },
     "execution_count": 67,
     "metadata": {},
     "output_type": "execute_result"
    }
   ],
   "source": [
    "dre = pd.crosstab(dodge['hypertension'], dodge['heart_disease'])\n",
    "dre"
   ]
  },
  {
   "cell_type": "markdown",
   "metadata": {
    "id": "DaXKeGXQ3SwN"
   },
   "source": [
    "@interact -> The interact function (ipywidgets.interact) automatically creates user interface (UI) controls for exploring code and data interactively.\n",
    "\n",
    "The function gets called each time the slider is moved."
   ]
  },
  {
   "cell_type": "code",
   "execution_count": 68,
   "metadata": {
    "colab": {
     "base_uri": "https://localhost:8080/",
     "height": 149,
     "referenced_widgets": [
      "c1e5118a8a5242089de58d0c3fe2e2f1",
      "fa14e642b20a401f8499520ef7f86387",
      "4d9ddfbbacae45b5b2c3fa063e7eaff5",
      "27e75da9f1e34f8eb3e0884e1b6f2ea2",
      "d145ebd2d9c54c659845418f61fb3533",
      "cd016d972b7a48f88fe1febfbe97c9c6",
      "cf5aebff80b74791b5a519c08edeb32d"
     ]
    },
    "id": "z-ZYa1axephy",
    "outputId": "c11f3e25-b347-44a7-856b-d74ad4ec4738"
   },
   "outputs": [
    {
     "data": {
      "application/vnd.jupyter.widget-view+json": {
       "model_id": "17e08ba83561461c9ddeef2b69f91aee",
       "version_major": 2,
       "version_minor": 0
      },
      "text/plain": [
       "interactive(children=(IntSlider(value=50, description='x', max=150, min=-50), Output()), _dom_classes=('widget…"
      ]
     },
     "metadata": {},
     "output_type": "display_data"
    },
    {
     "data": {
      "text/plain": [
       "0    40517\n",
       "1      744\n",
       "Name: stroke, dtype: int64"
      ]
     },
     "execution_count": 68,
     "metadata": {},
     "output_type": "execute_result"
    }
   ],
   "source": [
    "@interact\n",
    "def abc(x = 50):\n",
    "  y = dodge[dodge['avg_glucose_level'] > x]\n",
    "  return y['stroke'].value_counts()\n",
    "abc()"
   ]
  },
  {
   "cell_type": "code",
   "execution_count": 69,
   "metadata": {
    "colab": {
     "base_uri": "https://localhost:8080/",
     "height": 181,
     "referenced_widgets": [
      "1bba7f7b8ed640b6accc1ec73983bc6e",
      "b548ea5a78644897b485eeabcf918235",
      "32ed08fc61a04f9d85267a703eab6eff",
      "20ad565ce83748e58fc19d79335b5cc1",
      "be05d086221348d59c7483c2ad0718ce",
      "5173b2474d484655918025c31e069096",
      "f8a6f57b06ec4084af5c1e3c7ee299e3",
      "e44d5e7b19c947d1a22c6c7ff3d4c900",
      "cb44c997d457457382face2b0e35d5d9",
      "2e18f4e5ea9b46f1bfc3c9cd6dd39436"
     ]
    },
    "id": "WCQ_KEUli-VT",
    "outputId": "90d5e46d-fa3e-492b-9a48-6699141da055"
   },
   "outputs": [
    {
     "data": {
      "application/vnd.jupyter.widget-view+json": {
       "model_id": "d3ab61b21b834472b04f4d0702d91ccd",
       "version_major": 2,
       "version_minor": 0
      },
      "text/plain": [
       "interactive(children=(IntSlider(value=0, description='x', max=1), IntSlider(value=0, description='y', max=1), …"
      ]
     },
     "metadata": {},
     "output_type": "display_data"
    },
    {
     "data": {
      "text/plain": [
       "0    35541\n",
       "1      443\n",
       "Name: stroke, dtype: int64"
      ]
     },
     "execution_count": 69,
     "metadata": {},
     "output_type": "execute_result"
    }
   ],
   "source": [
    "@interact\n",
    "def hyp_heart(x=0, y=0):\n",
    "  g = dodge[(dodge['hypertension'] == x) & (dodge['heart_disease'] == y)]\n",
    "  return g['stroke'].value_counts()\n",
    "hyp_heart()"
   ]
  },
  {
   "cell_type": "code",
   "execution_count": 70,
   "metadata": {
    "colab": {
     "base_uri": "https://localhost:8080/",
     "height": 314,
     "referenced_widgets": [
      "2d73a6f328614118be403563e78aac25",
      "1fa8ff77509e4dea8c03b984565cc69a",
      "320f3ffbb38c4b3a886249b901d3cc5e",
      "052e89522c564edfa223a4a84e11882a",
      "2f9f3eca65384d26a4cbd777071152f6",
      "9ca72a505eb24f99b255665695ea3fc0",
      "66841691f1164381abcf14eb5785c969",
      "3a35a08570cd4c8a8fa2145f4ada1b5e",
      "6996087ac3ba472da2073bc69b8a4b91",
      "e9e4e7432c7d4131a1e692ebe379b9d8",
      "525f24465db54eeb9ddca3dff4574d1c",
      "0cd36ffc96f343319fa2059a6dd7110e",
      "bd3b2977ae534dbaa4d8d5c1100455f7"
     ]
    },
    "id": "BswjgwLIltF-",
    "outputId": "fcc3042f-6ba7-40f9-cea6-dbc867e2b419"
   },
   "outputs": [
    {
     "data": {
      "application/vnd.jupyter.widget-view+json": {
       "model_id": "a6fc2a9d8d9849cab33fa50f3a8f7a5d",
       "version_major": 2,
       "version_minor": 0
      },
      "text/plain": [
       "interactive(children=(IntSlider(value=0, description='x', max=1), IntSlider(value=0, description='y', max=1), …"
      ]
     },
     "metadata": {},
     "output_type": "display_data"
    },
    {
     "data": {
      "text/plain": [
       "(0    13690\n",
       " 1       44\n",
       " Name: stroke, dtype: int64,\n",
       " never smoked       11124\n",
       " smokes              1437\n",
       " formerly smoked     1173\n",
       " Name: smoking_status, dtype: int64)"
      ]
     },
     "execution_count": 70,
     "metadata": {},
     "output_type": "execute_result"
    }
   ],
   "source": [
    "@interact\n",
    "def hy_he_eve(x=0,y=0,z='No'):\n",
    "  j = dodge[(dodge['hypertension'] == x) & (dodge['heart_disease'] == y) & (dodge['ever_married'] == z)]\n",
    "  return j['stroke'].value_counts(), j['smoking_status'].value_counts()\n",
    "hy_he_eve()"
   ]
  },
  {
   "cell_type": "markdown",
   "metadata": {
    "id": "KsMqqA7XD4gs"
   },
   "source": [
    "### **Feature Transformation.**\n",
    "Feature Transformation is the technique of transforming the variable into other form like Strings -> Numeric, splitting the Date Column in to pieces etc.\n",
    "\n",
    "Types of encoding.\n",
    "1. Nominal Encoding.\n",
    "  *   one hot encoding -> Creating Dummy variables.\n",
    "  *   one hot encoding with multi categories(more than 20 categories)\n",
    "  *   mean encoding\n",
    "\n",
    "\n",
    "2. Ordinal Encoding.\n",
    "  * Label Encoder\n",
    "  * target_guided_encoding\n",
    "\n",
    "-> For the columns with less than 5 categories we can manually perform encoding, usinf map().\n",
    "\n",
    "-> For Columns with more than 20 Categories we can perform one hot encoding with multi categories, where we tend to select the top categories based on their value_counts().\n"
   ]
  },
  {
   "cell_type": "code",
   "execution_count": 71,
   "metadata": {
    "colab": {
     "base_uri": "https://localhost:8080/",
     "height": 196
    },
    "id": "k6k27EbjD01-",
    "outputId": "bc49306b-b7af-456d-8316-5cc72c8db024"
   },
   "outputs": [
    {
     "data": {
      "text/html": [
       "<div>\n",
       "<style scoped>\n",
       "    .dataframe tbody tr th:only-of-type {\n",
       "        vertical-align: middle;\n",
       "    }\n",
       "\n",
       "    .dataframe tbody tr th {\n",
       "        vertical-align: top;\n",
       "    }\n",
       "\n",
       "    .dataframe thead th {\n",
       "        text-align: right;\n",
       "    }\n",
       "</style>\n",
       "<table border=\"1\" class=\"dataframe\">\n",
       "  <thead>\n",
       "    <tr style=\"text-align: right;\">\n",
       "      <th></th>\n",
       "      <th>gender</th>\n",
       "      <th>age</th>\n",
       "      <th>hypertension</th>\n",
       "      <th>heart_disease</th>\n",
       "      <th>ever_married</th>\n",
       "      <th>work_type</th>\n",
       "      <th>Residence_type</th>\n",
       "      <th>avg_glucose_level</th>\n",
       "      <th>bmi</th>\n",
       "      <th>smoking_status</th>\n",
       "      <th>stroke</th>\n",
       "    </tr>\n",
       "  </thead>\n",
       "  <tbody>\n",
       "    <tr>\n",
       "      <th>0</th>\n",
       "      <td>Male</td>\n",
       "      <td>3.0</td>\n",
       "      <td>0</td>\n",
       "      <td>0</td>\n",
       "      <td>No</td>\n",
       "      <td>children</td>\n",
       "      <td>Rural</td>\n",
       "      <td>95.12</td>\n",
       "      <td>18.0</td>\n",
       "      <td>never smoked</td>\n",
       "      <td>0</td>\n",
       "    </tr>\n",
       "    <tr>\n",
       "      <th>1</th>\n",
       "      <td>Male</td>\n",
       "      <td>58.0</td>\n",
       "      <td>1</td>\n",
       "      <td>0</td>\n",
       "      <td>Yes</td>\n",
       "      <td>Private</td>\n",
       "      <td>Urban</td>\n",
       "      <td>87.96</td>\n",
       "      <td>39.2</td>\n",
       "      <td>never smoked</td>\n",
       "      <td>0</td>\n",
       "    </tr>\n",
       "    <tr>\n",
       "      <th>2</th>\n",
       "      <td>Female</td>\n",
       "      <td>8.0</td>\n",
       "      <td>0</td>\n",
       "      <td>0</td>\n",
       "      <td>No</td>\n",
       "      <td>Private</td>\n",
       "      <td>Urban</td>\n",
       "      <td>110.89</td>\n",
       "      <td>17.6</td>\n",
       "      <td>never smoked</td>\n",
       "      <td>0</td>\n",
       "    </tr>\n",
       "    <tr>\n",
       "      <th>3</th>\n",
       "      <td>Female</td>\n",
       "      <td>70.0</td>\n",
       "      <td>0</td>\n",
       "      <td>0</td>\n",
       "      <td>Yes</td>\n",
       "      <td>Private</td>\n",
       "      <td>Rural</td>\n",
       "      <td>69.04</td>\n",
       "      <td>35.9</td>\n",
       "      <td>formerly smoked</td>\n",
       "      <td>0</td>\n",
       "    </tr>\n",
       "    <tr>\n",
       "      <th>4</th>\n",
       "      <td>Male</td>\n",
       "      <td>14.0</td>\n",
       "      <td>0</td>\n",
       "      <td>0</td>\n",
       "      <td>No</td>\n",
       "      <td>Never_worked</td>\n",
       "      <td>Rural</td>\n",
       "      <td>161.28</td>\n",
       "      <td>19.1</td>\n",
       "      <td>never smoked</td>\n",
       "      <td>0</td>\n",
       "    </tr>\n",
       "  </tbody>\n",
       "</table>\n",
       "</div>"
      ],
      "text/plain": [
       "   gender   age  hypertension  heart_disease ever_married     work_type  \\\n",
       "0    Male   3.0             0              0           No      children   \n",
       "1    Male  58.0             1              0          Yes       Private   \n",
       "2  Female   8.0             0              0           No       Private   \n",
       "3  Female  70.0             0              0          Yes       Private   \n",
       "4    Male  14.0             0              0           No  Never_worked   \n",
       "\n",
       "  Residence_type  avg_glucose_level   bmi   smoking_status  stroke  \n",
       "0          Rural              95.12  18.0     never smoked       0  \n",
       "1          Urban              87.96  39.2     never smoked       0  \n",
       "2          Urban             110.89  17.6     never smoked       0  \n",
       "3          Rural              69.04  35.9  formerly smoked       0  \n",
       "4          Rural             161.28  19.1     never smoked       0  "
      ]
     },
     "execution_count": 71,
     "metadata": {},
     "output_type": "execute_result"
    }
   ],
   "source": [
    "dodge.head()"
   ]
  },
  {
   "cell_type": "code",
   "execution_count": 72,
   "metadata": {
    "colab": {
     "base_uri": "https://localhost:8080/"
    },
    "id": "AAorvzLrD1Ha",
    "outputId": "8ca3328a-ccdc-4fd9-bef9-ed49cd163af7"
   },
   "outputs": [
    {
     "data": {
      "text/plain": [
       "array(['never smoked', 'formerly smoked', 'smokes'], dtype=object)"
      ]
     },
     "execution_count": 72,
     "metadata": {},
     "output_type": "execute_result"
    }
   ],
   "source": [
    "dodge['smoking_status'].unique()"
   ]
  },
  {
   "cell_type": "code",
   "execution_count": 73,
   "metadata": {
    "id": "aQPOEtgJI8BE"
   },
   "outputs": [],
   "source": [
    "mapping = {'Male':2, 'Female':1, 'Other':0}\n",
    "mapping1 = {'No':0, 'Yes':1}\n",
    "mapping2 = {'never smoked':0, 'formerly smoked':1, 'smokes':2}"
   ]
  },
  {
   "cell_type": "code",
   "execution_count": 74,
   "metadata": {
    "id": "zVZ0M4STOFLX"
   },
   "outputs": [],
   "source": [
    "dodge['gender'] = dodge['gender'].map(mapping)"
   ]
  },
  {
   "cell_type": "code",
   "execution_count": 75,
   "metadata": {
    "id": "ok6zw5p7OGLY"
   },
   "outputs": [],
   "source": [
    "dodge['ever_married'] = dodge['ever_married'].map(mapping1)"
   ]
  },
  {
   "cell_type": "code",
   "execution_count": 76,
   "metadata": {
    "id": "A3brqipEOL69"
   },
   "outputs": [],
   "source": [
    "dodge['smoking_status'] = dodge['smoking_status'].map(mapping2)"
   ]
  },
  {
   "cell_type": "code",
   "execution_count": 77,
   "metadata": {
    "colab": {
     "base_uri": "https://localhost:8080/",
     "height": 196
    },
    "id": "xwzVDZKWORKn",
    "outputId": "68297399-b955-4033-e5d4-47e5ef8de3c5"
   },
   "outputs": [
    {
     "data": {
      "text/html": [
       "<div>\n",
       "<style scoped>\n",
       "    .dataframe tbody tr th:only-of-type {\n",
       "        vertical-align: middle;\n",
       "    }\n",
       "\n",
       "    .dataframe tbody tr th {\n",
       "        vertical-align: top;\n",
       "    }\n",
       "\n",
       "    .dataframe thead th {\n",
       "        text-align: right;\n",
       "    }\n",
       "</style>\n",
       "<table border=\"1\" class=\"dataframe\">\n",
       "  <thead>\n",
       "    <tr style=\"text-align: right;\">\n",
       "      <th></th>\n",
       "      <th>gender</th>\n",
       "      <th>smoking_status</th>\n",
       "      <th>ever_married</th>\n",
       "    </tr>\n",
       "  </thead>\n",
       "  <tbody>\n",
       "    <tr>\n",
       "      <th>0</th>\n",
       "      <td>2</td>\n",
       "      <td>0</td>\n",
       "      <td>0</td>\n",
       "    </tr>\n",
       "    <tr>\n",
       "      <th>1</th>\n",
       "      <td>2</td>\n",
       "      <td>0</td>\n",
       "      <td>1</td>\n",
       "    </tr>\n",
       "    <tr>\n",
       "      <th>2</th>\n",
       "      <td>1</td>\n",
       "      <td>0</td>\n",
       "      <td>0</td>\n",
       "    </tr>\n",
       "    <tr>\n",
       "      <th>3</th>\n",
       "      <td>1</td>\n",
       "      <td>1</td>\n",
       "      <td>1</td>\n",
       "    </tr>\n",
       "    <tr>\n",
       "      <th>4</th>\n",
       "      <td>2</td>\n",
       "      <td>0</td>\n",
       "      <td>0</td>\n",
       "    </tr>\n",
       "  </tbody>\n",
       "</table>\n",
       "</div>"
      ],
      "text/plain": [
       "   gender  smoking_status  ever_married\n",
       "0       2               0             0\n",
       "1       2               0             1\n",
       "2       1               0             0\n",
       "3       1               1             1\n",
       "4       2               0             0"
      ]
     },
     "execution_count": 77,
     "metadata": {},
     "output_type": "execute_result"
    }
   ],
   "source": [
    "dodge[['gender', 'smoking_status', 'ever_married']].head()"
   ]
  },
  {
   "cell_type": "code",
   "execution_count": 78,
   "metadata": {
    "colab": {
     "base_uri": "https://localhost:8080/"
    },
    "id": "KPFLdb7JOjiM",
    "outputId": "f1feeccb-091b-42a2-aec7-b09b63c7e2fb"
   },
   "outputs": [
    {
     "data": {
      "text/plain": [
       "array(['children', 'Private', 'Never_worked', 'Govt_job', 'Self-employed'],\n",
       "      dtype=object)"
      ]
     },
     "execution_count": 78,
     "metadata": {},
     "output_type": "execute_result"
    }
   ],
   "source": [
    "dodge['work_type'].unique()"
   ]
  },
  {
   "cell_type": "code",
   "execution_count": 79,
   "metadata": {
    "colab": {
     "base_uri": "https://localhost:8080/"
    },
    "id": "wxERE6j_QX1A",
    "outputId": "21562771-3639-4183-b56a-bc1a965adc97"
   },
   "outputs": [
    {
     "data": {
      "text/plain": [
       "array(['Rural', 'Urban'], dtype=object)"
      ]
     },
     "execution_count": 79,
     "metadata": {},
     "output_type": "execute_result"
    }
   ],
   "source": [
    "dodge['Residence_type'].unique()"
   ]
  },
  {
   "cell_type": "code",
   "execution_count": 80,
   "metadata": {
    "id": "Bn7QsHUDmEYN"
   },
   "outputs": [],
   "source": [
    "dodge['home_town'] = pd.get_dummies(dodge['Residence_type'], drop_first = True)"
   ]
  },
  {
   "cell_type": "markdown",
   "metadata": {
    "id": "1gZVWWkrCYaZ"
   },
   "source": [
    "Creating a new dataframe withe respect to work_type."
   ]
  },
  {
   "cell_type": "code",
   "execution_count": 81,
   "metadata": {
    "id": "e5DFnKUUq-H2"
   },
   "outputs": [],
   "source": [
    "f150 = pd.get_dummies(dodge['work_type'], drop_first = True)"
   ]
  },
  {
   "cell_type": "markdown",
   "metadata": {
    "id": "kP4NFanIChNs"
   },
   "source": [
    "Merging 2 DataFrames(dodge,f150) with the default join."
   ]
  },
  {
   "cell_type": "code",
   "execution_count": 82,
   "metadata": {
    "id": "-sRQa44grQoR"
   },
   "outputs": [],
   "source": [
    "camero = pd.concat([dodge,f150], axis = 1)"
   ]
  },
  {
   "cell_type": "code",
   "execution_count": 83,
   "metadata": {
    "colab": {
     "base_uri": "https://localhost:8080/",
     "height": 233
    },
    "id": "uXm9hQo5sddh",
    "outputId": "4d334445-16f4-4189-ce41-0eb2721d8a96"
   },
   "outputs": [
    {
     "data": {
      "text/html": [
       "<div>\n",
       "<style scoped>\n",
       "    .dataframe tbody tr th:only-of-type {\n",
       "        vertical-align: middle;\n",
       "    }\n",
       "\n",
       "    .dataframe tbody tr th {\n",
       "        vertical-align: top;\n",
       "    }\n",
       "\n",
       "    .dataframe thead th {\n",
       "        text-align: right;\n",
       "    }\n",
       "</style>\n",
       "<table border=\"1\" class=\"dataframe\">\n",
       "  <thead>\n",
       "    <tr style=\"text-align: right;\">\n",
       "      <th></th>\n",
       "      <th>gender</th>\n",
       "      <th>age</th>\n",
       "      <th>hypertension</th>\n",
       "      <th>heart_disease</th>\n",
       "      <th>ever_married</th>\n",
       "      <th>work_type</th>\n",
       "      <th>Residence_type</th>\n",
       "      <th>avg_glucose_level</th>\n",
       "      <th>bmi</th>\n",
       "      <th>smoking_status</th>\n",
       "      <th>stroke</th>\n",
       "      <th>home_town</th>\n",
       "      <th>Never_worked</th>\n",
       "      <th>Private</th>\n",
       "      <th>Self-employed</th>\n",
       "      <th>children</th>\n",
       "    </tr>\n",
       "  </thead>\n",
       "  <tbody>\n",
       "    <tr>\n",
       "      <th>0</th>\n",
       "      <td>2</td>\n",
       "      <td>3.0</td>\n",
       "      <td>0</td>\n",
       "      <td>0</td>\n",
       "      <td>0</td>\n",
       "      <td>children</td>\n",
       "      <td>Rural</td>\n",
       "      <td>95.12</td>\n",
       "      <td>18.0</td>\n",
       "      <td>0</td>\n",
       "      <td>0</td>\n",
       "      <td>0</td>\n",
       "      <td>0</td>\n",
       "      <td>0</td>\n",
       "      <td>0</td>\n",
       "      <td>1</td>\n",
       "    </tr>\n",
       "    <tr>\n",
       "      <th>1</th>\n",
       "      <td>2</td>\n",
       "      <td>58.0</td>\n",
       "      <td>1</td>\n",
       "      <td>0</td>\n",
       "      <td>1</td>\n",
       "      <td>Private</td>\n",
       "      <td>Urban</td>\n",
       "      <td>87.96</td>\n",
       "      <td>39.2</td>\n",
       "      <td>0</td>\n",
       "      <td>0</td>\n",
       "      <td>1</td>\n",
       "      <td>0</td>\n",
       "      <td>1</td>\n",
       "      <td>0</td>\n",
       "      <td>0</td>\n",
       "    </tr>\n",
       "    <tr>\n",
       "      <th>2</th>\n",
       "      <td>1</td>\n",
       "      <td>8.0</td>\n",
       "      <td>0</td>\n",
       "      <td>0</td>\n",
       "      <td>0</td>\n",
       "      <td>Private</td>\n",
       "      <td>Urban</td>\n",
       "      <td>110.89</td>\n",
       "      <td>17.6</td>\n",
       "      <td>0</td>\n",
       "      <td>0</td>\n",
       "      <td>1</td>\n",
       "      <td>0</td>\n",
       "      <td>1</td>\n",
       "      <td>0</td>\n",
       "      <td>0</td>\n",
       "    </tr>\n",
       "    <tr>\n",
       "      <th>3</th>\n",
       "      <td>1</td>\n",
       "      <td>70.0</td>\n",
       "      <td>0</td>\n",
       "      <td>0</td>\n",
       "      <td>1</td>\n",
       "      <td>Private</td>\n",
       "      <td>Rural</td>\n",
       "      <td>69.04</td>\n",
       "      <td>35.9</td>\n",
       "      <td>1</td>\n",
       "      <td>0</td>\n",
       "      <td>0</td>\n",
       "      <td>0</td>\n",
       "      <td>1</td>\n",
       "      <td>0</td>\n",
       "      <td>0</td>\n",
       "    </tr>\n",
       "    <tr>\n",
       "      <th>4</th>\n",
       "      <td>2</td>\n",
       "      <td>14.0</td>\n",
       "      <td>0</td>\n",
       "      <td>0</td>\n",
       "      <td>0</td>\n",
       "      <td>Never_worked</td>\n",
       "      <td>Rural</td>\n",
       "      <td>161.28</td>\n",
       "      <td>19.1</td>\n",
       "      <td>0</td>\n",
       "      <td>0</td>\n",
       "      <td>0</td>\n",
       "      <td>1</td>\n",
       "      <td>0</td>\n",
       "      <td>0</td>\n",
       "      <td>0</td>\n",
       "    </tr>\n",
       "  </tbody>\n",
       "</table>\n",
       "</div>"
      ],
      "text/plain": [
       "   gender   age  hypertension  heart_disease  ever_married     work_type  \\\n",
       "0       2   3.0             0              0             0      children   \n",
       "1       2  58.0             1              0             1       Private   \n",
       "2       1   8.0             0              0             0       Private   \n",
       "3       1  70.0             0              0             1       Private   \n",
       "4       2  14.0             0              0             0  Never_worked   \n",
       "\n",
       "  Residence_type  avg_glucose_level   bmi  smoking_status  stroke  home_town  \\\n",
       "0          Rural              95.12  18.0               0       0          0   \n",
       "1          Urban              87.96  39.2               0       0          1   \n",
       "2          Urban             110.89  17.6               0       0          1   \n",
       "3          Rural              69.04  35.9               1       0          0   \n",
       "4          Rural             161.28  19.1               0       0          0   \n",
       "\n",
       "   Never_worked  Private  Self-employed  children  \n",
       "0             0        0              0         1  \n",
       "1             0        1              0         0  \n",
       "2             0        1              0         0  \n",
       "3             0        1              0         0  \n",
       "4             1        0              0         0  "
      ]
     },
     "execution_count": 83,
     "metadata": {},
     "output_type": "execute_result"
    }
   ],
   "source": [
    "camero.head()"
   ]
  },
  {
   "cell_type": "code",
   "execution_count": 84,
   "metadata": {
    "id": "ehoSoi1NstpQ"
   },
   "outputs": [],
   "source": [
    "camero.rename(columns = {'Never_worked':'w_t_n_w', 'Private':'w_t_p', 'Self-employed':'w_t_s_e', 'children':'w_t_c'}, inplace = True)"
   ]
  },
  {
   "cell_type": "markdown",
   "metadata": {
    "id": "JBt8JP3aCyn3"
   },
   "source": [
    "Droping the columns ['work_type', 'Residence_type'], as we have already created dummy variables for them."
   ]
  },
  {
   "cell_type": "code",
   "execution_count": 85,
   "metadata": {
    "id": "B3OSy6jkuA_a"
   },
   "outputs": [],
   "source": [
    "camero.drop(columns = ['work_type','Residence_type'], inplace = True)"
   ]
  },
  {
   "cell_type": "code",
   "execution_count": 86,
   "metadata": {
    "colab": {
     "base_uri": "https://localhost:8080/",
     "height": 196
    },
    "id": "DMh2nncSuiXg",
    "outputId": "3b758796-1c6b-43df-fc1c-ba6c1a5efc52"
   },
   "outputs": [
    {
     "data": {
      "text/html": [
       "<div>\n",
       "<style scoped>\n",
       "    .dataframe tbody tr th:only-of-type {\n",
       "        vertical-align: middle;\n",
       "    }\n",
       "\n",
       "    .dataframe tbody tr th {\n",
       "        vertical-align: top;\n",
       "    }\n",
       "\n",
       "    .dataframe thead th {\n",
       "        text-align: right;\n",
       "    }\n",
       "</style>\n",
       "<table border=\"1\" class=\"dataframe\">\n",
       "  <thead>\n",
       "    <tr style=\"text-align: right;\">\n",
       "      <th></th>\n",
       "      <th>gender</th>\n",
       "      <th>age</th>\n",
       "      <th>hypertension</th>\n",
       "      <th>heart_disease</th>\n",
       "      <th>ever_married</th>\n",
       "      <th>avg_glucose_level</th>\n",
       "      <th>bmi</th>\n",
       "      <th>smoking_status</th>\n",
       "      <th>stroke</th>\n",
       "      <th>home_town</th>\n",
       "      <th>w_t_n_w</th>\n",
       "      <th>w_t_p</th>\n",
       "      <th>w_t_s_e</th>\n",
       "      <th>w_t_c</th>\n",
       "    </tr>\n",
       "  </thead>\n",
       "  <tbody>\n",
       "    <tr>\n",
       "      <th>0</th>\n",
       "      <td>2</td>\n",
       "      <td>3.0</td>\n",
       "      <td>0</td>\n",
       "      <td>0</td>\n",
       "      <td>0</td>\n",
       "      <td>95.12</td>\n",
       "      <td>18.0</td>\n",
       "      <td>0</td>\n",
       "      <td>0</td>\n",
       "      <td>0</td>\n",
       "      <td>0</td>\n",
       "      <td>0</td>\n",
       "      <td>0</td>\n",
       "      <td>1</td>\n",
       "    </tr>\n",
       "    <tr>\n",
       "      <th>1</th>\n",
       "      <td>2</td>\n",
       "      <td>58.0</td>\n",
       "      <td>1</td>\n",
       "      <td>0</td>\n",
       "      <td>1</td>\n",
       "      <td>87.96</td>\n",
       "      <td>39.2</td>\n",
       "      <td>0</td>\n",
       "      <td>0</td>\n",
       "      <td>1</td>\n",
       "      <td>0</td>\n",
       "      <td>1</td>\n",
       "      <td>0</td>\n",
       "      <td>0</td>\n",
       "    </tr>\n",
       "    <tr>\n",
       "      <th>2</th>\n",
       "      <td>1</td>\n",
       "      <td>8.0</td>\n",
       "      <td>0</td>\n",
       "      <td>0</td>\n",
       "      <td>0</td>\n",
       "      <td>110.89</td>\n",
       "      <td>17.6</td>\n",
       "      <td>0</td>\n",
       "      <td>0</td>\n",
       "      <td>1</td>\n",
       "      <td>0</td>\n",
       "      <td>1</td>\n",
       "      <td>0</td>\n",
       "      <td>0</td>\n",
       "    </tr>\n",
       "    <tr>\n",
       "      <th>3</th>\n",
       "      <td>1</td>\n",
       "      <td>70.0</td>\n",
       "      <td>0</td>\n",
       "      <td>0</td>\n",
       "      <td>1</td>\n",
       "      <td>69.04</td>\n",
       "      <td>35.9</td>\n",
       "      <td>1</td>\n",
       "      <td>0</td>\n",
       "      <td>0</td>\n",
       "      <td>0</td>\n",
       "      <td>1</td>\n",
       "      <td>0</td>\n",
       "      <td>0</td>\n",
       "    </tr>\n",
       "    <tr>\n",
       "      <th>4</th>\n",
       "      <td>2</td>\n",
       "      <td>14.0</td>\n",
       "      <td>0</td>\n",
       "      <td>0</td>\n",
       "      <td>0</td>\n",
       "      <td>161.28</td>\n",
       "      <td>19.1</td>\n",
       "      <td>0</td>\n",
       "      <td>0</td>\n",
       "      <td>0</td>\n",
       "      <td>1</td>\n",
       "      <td>0</td>\n",
       "      <td>0</td>\n",
       "      <td>0</td>\n",
       "    </tr>\n",
       "  </tbody>\n",
       "</table>\n",
       "</div>"
      ],
      "text/plain": [
       "   gender   age  hypertension  heart_disease  ever_married  avg_glucose_level  \\\n",
       "0       2   3.0             0              0             0              95.12   \n",
       "1       2  58.0             1              0             1              87.96   \n",
       "2       1   8.0             0              0             0             110.89   \n",
       "3       1  70.0             0              0             1              69.04   \n",
       "4       2  14.0             0              0             0             161.28   \n",
       "\n",
       "    bmi  smoking_status  stroke  home_town  w_t_n_w  w_t_p  w_t_s_e  w_t_c  \n",
       "0  18.0               0       0          0        0      0        0      1  \n",
       "1  39.2               0       0          1        0      1        0      0  \n",
       "2  17.6               0       0          1        0      1        0      0  \n",
       "3  35.9               1       0          0        0      1        0      0  \n",
       "4  19.1               0       0          0        1      0        0      0  "
      ]
     },
     "execution_count": 86,
     "metadata": {},
     "output_type": "execute_result"
    }
   ],
   "source": [
    "camero.head()"
   ]
  },
  {
   "cell_type": "code",
   "execution_count": 87,
   "metadata": {
    "colab": {
     "base_uri": "https://localhost:8080/"
    },
    "id": "YkJGUMrAu7xz",
    "outputId": "a14e779c-62e1-4d63-b8df-51cc5be764cc"
   },
   "outputs": [
    {
     "name": "stdout",
     "output_type": "stream",
     "text": [
      "<class 'pandas.core.frame.DataFrame'>\n",
      "Int64Index: 41261 entries, 0 to 43399\n",
      "Data columns (total 14 columns):\n",
      " #   Column             Non-Null Count  Dtype  \n",
      "---  ------             --------------  -----  \n",
      " 0   gender             41261 non-null  int64  \n",
      " 1   age                41261 non-null  float64\n",
      " 2   hypertension       41261 non-null  int64  \n",
      " 3   heart_disease      41261 non-null  int64  \n",
      " 4   ever_married       41261 non-null  int64  \n",
      " 5   avg_glucose_level  41261 non-null  float64\n",
      " 6   bmi                41261 non-null  float64\n",
      " 7   smoking_status     41261 non-null  int64  \n",
      " 8   stroke             41261 non-null  int64  \n",
      " 9   home_town          41261 non-null  uint8  \n",
      " 10  w_t_n_w            41261 non-null  uint8  \n",
      " 11  w_t_p              41261 non-null  uint8  \n",
      " 12  w_t_s_e            41261 non-null  uint8  \n",
      " 13  w_t_c              41261 non-null  uint8  \n",
      "dtypes: float64(3), int64(6), uint8(5)\n",
      "memory usage: 4.6 MB\n"
     ]
    }
   ],
   "source": [
    "camero.info()"
   ]
  },
  {
   "cell_type": "markdown",
   "metadata": {
    "id": "uUhM_InUFUNL"
   },
   "source": [
    "### **Feature Scaling**\n",
    "Feature Scaling is the technique to scale down all the values in the datset to same level, so that there will be no partiality while we train the model like bmi -> 56 getting high priority than heart_disease -> 0, so in order to remove this error, feature scaling is done.\n",
    "\n",
    "Feature Scaling Tools.\n",
    "1. Standardisation (values are centered around the mean with unit standard deviation.)\n",
    "2. Normalisation/min_max scaling.(values range from 0 to 1)"
   ]
  },
  {
   "cell_type": "markdown",
   "metadata": {
    "id": "V7xWNXrTFTSZ"
   },
   "source": [
    "StandardScaler(), which is a Standardization tool."
   ]
  },
  {
   "cell_type": "code",
   "execution_count": 88,
   "metadata": {
    "colab": {
     "base_uri": "https://localhost:8080/",
     "height": 196
    },
    "id": "vLndohHECAvy",
    "outputId": "ecf9f870-20fe-4208-cae9-27dc28114cd5"
   },
   "outputs": [
    {
     "data": {
      "text/html": [
       "<div>\n",
       "<style scoped>\n",
       "    .dataframe tbody tr th:only-of-type {\n",
       "        vertical-align: middle;\n",
       "    }\n",
       "\n",
       "    .dataframe tbody tr th {\n",
       "        vertical-align: top;\n",
       "    }\n",
       "\n",
       "    .dataframe thead th {\n",
       "        text-align: right;\n",
       "    }\n",
       "</style>\n",
       "<table border=\"1\" class=\"dataframe\">\n",
       "  <thead>\n",
       "    <tr style=\"text-align: right;\">\n",
       "      <th></th>\n",
       "      <th>gender</th>\n",
       "      <th>age</th>\n",
       "      <th>hypertension</th>\n",
       "      <th>heart_disease</th>\n",
       "      <th>ever_married</th>\n",
       "      <th>avg_glucose_level</th>\n",
       "      <th>bmi</th>\n",
       "      <th>smoking_status</th>\n",
       "      <th>home_town</th>\n",
       "      <th>w_t_n_w</th>\n",
       "      <th>w_t_p</th>\n",
       "      <th>w_t_s_e</th>\n",
       "      <th>w_t_c</th>\n",
       "    </tr>\n",
       "  </thead>\n",
       "  <tbody>\n",
       "    <tr>\n",
       "      <th>0</th>\n",
       "      <td>1.208899</td>\n",
       "      <td>-1.830699</td>\n",
       "      <td>-0.319325</td>\n",
       "      <td>-0.22194</td>\n",
       "      <td>-1.379732</td>\n",
       "      <td>-0.184761</td>\n",
       "      <td>-1.513815</td>\n",
       "      <td>-0.647332</td>\n",
       "      <td>-1.001625</td>\n",
       "      <td>-0.065637</td>\n",
       "      <td>-1.190685</td>\n",
       "      <td>-0.435028</td>\n",
       "      <td>2.675967</td>\n",
       "    </tr>\n",
       "    <tr>\n",
       "      <th>1</th>\n",
       "      <td>1.208899</td>\n",
       "      <td>0.686629</td>\n",
       "      <td>3.131608</td>\n",
       "      <td>-0.22194</td>\n",
       "      <td>0.724779</td>\n",
       "      <td>-0.363905</td>\n",
       "      <td>1.539898</td>\n",
       "      <td>-0.647332</td>\n",
       "      <td>0.998378</td>\n",
       "      <td>-0.065637</td>\n",
       "      <td>0.839853</td>\n",
       "      <td>-0.435028</td>\n",
       "      <td>-0.373697</td>\n",
       "    </tr>\n",
       "    <tr>\n",
       "      <th>2</th>\n",
       "      <td>-0.825374</td>\n",
       "      <td>-1.601851</td>\n",
       "      <td>-0.319325</td>\n",
       "      <td>-0.22194</td>\n",
       "      <td>-1.379732</td>\n",
       "      <td>0.209805</td>\n",
       "      <td>-1.571433</td>\n",
       "      <td>-0.647332</td>\n",
       "      <td>0.998378</td>\n",
       "      <td>-0.065637</td>\n",
       "      <td>0.839853</td>\n",
       "      <td>-0.435028</td>\n",
       "      <td>-0.373697</td>\n",
       "    </tr>\n",
       "    <tr>\n",
       "      <th>3</th>\n",
       "      <td>-0.825374</td>\n",
       "      <td>1.235865</td>\n",
       "      <td>-0.319325</td>\n",
       "      <td>-0.22194</td>\n",
       "      <td>0.724779</td>\n",
       "      <td>-0.837285</td>\n",
       "      <td>1.064556</td>\n",
       "      <td>0.690823</td>\n",
       "      <td>-1.001625</td>\n",
       "      <td>-0.065637</td>\n",
       "      <td>0.839853</td>\n",
       "      <td>-0.435028</td>\n",
       "      <td>-0.373697</td>\n",
       "    </tr>\n",
       "    <tr>\n",
       "      <th>4</th>\n",
       "      <td>1.208899</td>\n",
       "      <td>-1.327233</td>\n",
       "      <td>-0.319325</td>\n",
       "      <td>-0.22194</td>\n",
       "      <td>-1.379732</td>\n",
       "      <td>1.470566</td>\n",
       "      <td>-1.355368</td>\n",
       "      <td>-0.647332</td>\n",
       "      <td>-1.001625</td>\n",
       "      <td>15.235255</td>\n",
       "      <td>-1.190685</td>\n",
       "      <td>-0.435028</td>\n",
       "      <td>-0.373697</td>\n",
       "    </tr>\n",
       "  </tbody>\n",
       "</table>\n",
       "</div>"
      ],
      "text/plain": [
       "     gender       age  hypertension  heart_disease  ever_married  \\\n",
       "0  1.208899 -1.830699     -0.319325       -0.22194     -1.379732   \n",
       "1  1.208899  0.686629      3.131608       -0.22194      0.724779   \n",
       "2 -0.825374 -1.601851     -0.319325       -0.22194     -1.379732   \n",
       "3 -0.825374  1.235865     -0.319325       -0.22194      0.724779   \n",
       "4  1.208899 -1.327233     -0.319325       -0.22194     -1.379732   \n",
       "\n",
       "   avg_glucose_level       bmi  smoking_status  home_town    w_t_n_w  \\\n",
       "0          -0.184761 -1.513815       -0.647332  -1.001625  -0.065637   \n",
       "1          -0.363905  1.539898       -0.647332   0.998378  -0.065637   \n",
       "2           0.209805 -1.571433       -0.647332   0.998378  -0.065637   \n",
       "3          -0.837285  1.064556        0.690823  -1.001625  -0.065637   \n",
       "4           1.470566 -1.355368       -0.647332  -1.001625  15.235255   \n",
       "\n",
       "      w_t_p   w_t_s_e     w_t_c  \n",
       "0 -1.190685 -0.435028  2.675967  \n",
       "1  0.839853 -0.435028 -0.373697  \n",
       "2  0.839853 -0.435028 -0.373697  \n",
       "3  0.839853 -0.435028 -0.373697  \n",
       "4 -1.190685 -0.435028 -0.373697  "
      ]
     },
     "execution_count": 88,
     "metadata": {},
     "output_type": "execute_result"
    }
   ],
   "source": [
    "se = StandardScaler()\n",
    "abh = se.fit_transform(camero.drop(columns=['stroke']))\n",
    "mercury = pd.DataFrame(data = abh, columns = camero.drop(columns = ['stroke']).columns)\n",
    "mercury.head()"
   ]
  },
  {
   "cell_type": "markdown",
   "metadata": {
    "id": "OZYRO7c1FwzY"
   },
   "source": [
    "### **Feature Selection**\n",
    "Selecting the best features which best contribute to our model."
   ]
  },
  {
   "cell_type": "code",
   "execution_count": 89,
   "metadata": {
    "colab": {
     "base_uri": "https://localhost:8080/",
     "height": 777
    },
    "id": "UtfUucrLFaqu",
    "outputId": "c6661144-7b97-4fe6-e570-986ffbb6e72e"
   },
   "outputs": [],
   "source": [
    "plt.rcParams['figure.figsize'] = (20,12)\n",
    "corr = mercury.corr()\n",
    "sns.heatmap(corr, annot=True, cmap='autumn')\n",
    "plt.show()"
   ]
  },
  {
   "cell_type": "markdown",
   "metadata": {
    "id": "fe32aVCgGbJW"
   },
   "source": [
    "Function to select the best features with some threshold value."
   ]
  },
  {
   "cell_type": "code",
   "execution_count": 90,
   "metadata": {
    "colab": {
     "base_uri": "https://localhost:8080/"
    },
    "id": "ZUtU7oJDFavH",
    "outputId": "ef9f3283-5e4a-4641-80a9-800ab50621d4"
   },
   "outputs": [
    {
     "name": "stdout",
     "output_type": "stream",
     "text": [
      "1\n"
     ]
    },
    {
     "data": {
      "text/plain": [
       "[Index(['ever_married', 'age'], dtype='object')]"
      ]
     },
     "execution_count": 90,
     "metadata": {},
     "output_type": "execute_result"
    }
   ],
   "source": [
    "def correlation(dataset,threshold):\n",
    "    corr_list = []\n",
    "    corr_matrix = dataset.corr()\n",
    "    for i in range(len(corr_matrix.columns)):\n",
    "        for j in range(i):\n",
    "            if abs(corr_matrix.iloc[i,j] > threshold):\n",
    "                column = corr_matrix.columns[[i,j]]\n",
    "                corr_list.append(column)\n",
    "    print(len(corr_list))\n",
    "    return corr_list\n",
    "correlation(mercury,0.6)"
   ]
  },
  {
   "cell_type": "markdown",
   "metadata": {
    "id": "oKS9IWhAGqNS"
   },
   "source": [
    "Although, we can see ['ever_married', 'age'] are somewhat correlated, but where as if we use 'Variance Inflation Factor\", we ended up with fixing the Multicollinearirty.\n",
    "\n",
    "variance_inflation_factor -> it is used to remove multicollinearity between variables by removing as few variables as possible."
   ]
  },
  {
   "cell_type": "code",
   "execution_count": 91,
   "metadata": {
    "colab": {
     "base_uri": "https://localhost:8080/"
    },
    "id": "HIOv31frEDkL",
    "outputId": "2755e034-d5b2-43f8-fc6a-dce4766094df"
   },
   "outputs": [
    {
     "data": {
      "text/plain": [
       "gender               1.022118\n",
       "age                  2.637361\n",
       "hypertension         1.098485\n",
       "heart_disease        1.096197\n",
       "ever_married         1.950928\n",
       "avg_glucose_level    1.081189\n",
       "bmi                  1.287565\n",
       "smoking_status       1.069008\n",
       "home_town            1.000213\n",
       "w_t_n_w              1.051573\n",
       "w_t_p                2.336830\n",
       "w_t_s_e              1.949642\n",
       "w_t_c                2.712860\n",
       "dtype: float64"
      ]
     },
     "execution_count": 91,
     "metadata": {},
     "output_type": "execute_result"
    }
   ],
   "source": [
    "vif = variance_inflation_factor \n",
    "earth1 = pd.Series([vif(mercury.values, i) for i in range(mercury.shape[1])], index = mercury.columns)\n",
    "earth1"
   ]
  },
  {
   "cell_type": "markdown",
   "metadata": {
    "id": "E2WSZ11xIFom"
   },
   "source": [
    "Function to check and remove multicollinearity between independent variables."
   ]
  },
  {
   "cell_type": "code",
   "execution_count": 92,
   "metadata": {
    "id": "GFoh54qeAPm-"
   },
   "outputs": [],
   "source": [
    "def mc(data):\n",
    "  earth = pd.Series([vif(data.values, i) for i in range(data.shape[1])], index = data.columns)\n",
    "  if earth.max() > 6:\n",
    "    print(earth[earth == earth.max()].index[0], 'Has Been Removed.')\n",
    "    data = data.drop(columns = earth[earth == earth.max()].index[0])\n",
    "  else:\n",
    "    print(\"MultiCollinearity Has Been Removed.\")\n",
    "    return data"
   ]
  },
  {
   "cell_type": "code",
   "execution_count": 93,
   "metadata": {
    "colab": {
     "base_uri": "https://localhost:8080/",
     "height": 280
    },
    "id": "3W_kefk3APqq",
    "outputId": "74b5ce45-9b01-4348-f4f5-54526669266e"
   },
   "outputs": [
    {
     "name": "stdout",
     "output_type": "stream",
     "text": [
      "MultiCollinearity Has Been Removed.\n",
      "MultiCollinearity Has Been Removed.\n",
      "MultiCollinearity Has Been Removed.\n",
      "MultiCollinearity Has Been Removed.\n",
      "MultiCollinearity Has Been Removed.\n"
     ]
    },
    {
     "data": {
      "text/html": [
       "<div>\n",
       "<style scoped>\n",
       "    .dataframe tbody tr th:only-of-type {\n",
       "        vertical-align: middle;\n",
       "    }\n",
       "\n",
       "    .dataframe tbody tr th {\n",
       "        vertical-align: top;\n",
       "    }\n",
       "\n",
       "    .dataframe thead th {\n",
       "        text-align: right;\n",
       "    }\n",
       "</style>\n",
       "<table border=\"1\" class=\"dataframe\">\n",
       "  <thead>\n",
       "    <tr style=\"text-align: right;\">\n",
       "      <th></th>\n",
       "      <th>gender</th>\n",
       "      <th>age</th>\n",
       "      <th>hypertension</th>\n",
       "      <th>heart_disease</th>\n",
       "      <th>ever_married</th>\n",
       "      <th>avg_glucose_level</th>\n",
       "      <th>bmi</th>\n",
       "      <th>smoking_status</th>\n",
       "      <th>home_town</th>\n",
       "      <th>w_t_n_w</th>\n",
       "      <th>w_t_p</th>\n",
       "      <th>w_t_s_e</th>\n",
       "      <th>w_t_c</th>\n",
       "    </tr>\n",
       "  </thead>\n",
       "  <tbody>\n",
       "    <tr>\n",
       "      <th>0</th>\n",
       "      <td>1.208899</td>\n",
       "      <td>-1.830699</td>\n",
       "      <td>-0.319325</td>\n",
       "      <td>-0.22194</td>\n",
       "      <td>-1.379732</td>\n",
       "      <td>-0.184761</td>\n",
       "      <td>-1.513815</td>\n",
       "      <td>-0.647332</td>\n",
       "      <td>-1.001625</td>\n",
       "      <td>-0.065637</td>\n",
       "      <td>-1.190685</td>\n",
       "      <td>-0.435028</td>\n",
       "      <td>2.675967</td>\n",
       "    </tr>\n",
       "    <tr>\n",
       "      <th>1</th>\n",
       "      <td>1.208899</td>\n",
       "      <td>0.686629</td>\n",
       "      <td>3.131608</td>\n",
       "      <td>-0.22194</td>\n",
       "      <td>0.724779</td>\n",
       "      <td>-0.363905</td>\n",
       "      <td>1.539898</td>\n",
       "      <td>-0.647332</td>\n",
       "      <td>0.998378</td>\n",
       "      <td>-0.065637</td>\n",
       "      <td>0.839853</td>\n",
       "      <td>-0.435028</td>\n",
       "      <td>-0.373697</td>\n",
       "    </tr>\n",
       "    <tr>\n",
       "      <th>2</th>\n",
       "      <td>-0.825374</td>\n",
       "      <td>-1.601851</td>\n",
       "      <td>-0.319325</td>\n",
       "      <td>-0.22194</td>\n",
       "      <td>-1.379732</td>\n",
       "      <td>0.209805</td>\n",
       "      <td>-1.571433</td>\n",
       "      <td>-0.647332</td>\n",
       "      <td>0.998378</td>\n",
       "      <td>-0.065637</td>\n",
       "      <td>0.839853</td>\n",
       "      <td>-0.435028</td>\n",
       "      <td>-0.373697</td>\n",
       "    </tr>\n",
       "    <tr>\n",
       "      <th>3</th>\n",
       "      <td>-0.825374</td>\n",
       "      <td>1.235865</td>\n",
       "      <td>-0.319325</td>\n",
       "      <td>-0.22194</td>\n",
       "      <td>0.724779</td>\n",
       "      <td>-0.837285</td>\n",
       "      <td>1.064556</td>\n",
       "      <td>0.690823</td>\n",
       "      <td>-1.001625</td>\n",
       "      <td>-0.065637</td>\n",
       "      <td>0.839853</td>\n",
       "      <td>-0.435028</td>\n",
       "      <td>-0.373697</td>\n",
       "    </tr>\n",
       "    <tr>\n",
       "      <th>4</th>\n",
       "      <td>1.208899</td>\n",
       "      <td>-1.327233</td>\n",
       "      <td>-0.319325</td>\n",
       "      <td>-0.22194</td>\n",
       "      <td>-1.379732</td>\n",
       "      <td>1.470566</td>\n",
       "      <td>-1.355368</td>\n",
       "      <td>-0.647332</td>\n",
       "      <td>-1.001625</td>\n",
       "      <td>15.235255</td>\n",
       "      <td>-1.190685</td>\n",
       "      <td>-0.435028</td>\n",
       "      <td>-0.373697</td>\n",
       "    </tr>\n",
       "  </tbody>\n",
       "</table>\n",
       "</div>"
      ],
      "text/plain": [
       "     gender       age  hypertension  heart_disease  ever_married  \\\n",
       "0  1.208899 -1.830699     -0.319325       -0.22194     -1.379732   \n",
       "1  1.208899  0.686629      3.131608       -0.22194      0.724779   \n",
       "2 -0.825374 -1.601851     -0.319325       -0.22194     -1.379732   \n",
       "3 -0.825374  1.235865     -0.319325       -0.22194      0.724779   \n",
       "4  1.208899 -1.327233     -0.319325       -0.22194     -1.379732   \n",
       "\n",
       "   avg_glucose_level       bmi  smoking_status  home_town    w_t_n_w  \\\n",
       "0          -0.184761 -1.513815       -0.647332  -1.001625  -0.065637   \n",
       "1          -0.363905  1.539898       -0.647332   0.998378  -0.065637   \n",
       "2           0.209805 -1.571433       -0.647332   0.998378  -0.065637   \n",
       "3          -0.837285  1.064556        0.690823  -1.001625  -0.065637   \n",
       "4           1.470566 -1.355368       -0.647332  -1.001625  15.235255   \n",
       "\n",
       "      w_t_p   w_t_s_e     w_t_c  \n",
       "0 -1.190685 -0.435028  2.675967  \n",
       "1  0.839853 -0.435028 -0.373697  \n",
       "2  0.839853 -0.435028 -0.373697  \n",
       "3  0.839853 -0.435028 -0.373697  \n",
       "4 -1.190685 -0.435028 -0.373697  "
      ]
     },
     "execution_count": 93,
     "metadata": {},
     "output_type": "execute_result"
    }
   ],
   "source": [
    "for i in range(5):\n",
    "  mercury = mc(mercury)\n",
    "mercury.head()"
   ]
  },
  {
   "cell_type": "markdown",
   "metadata": {
    "id": "F4Z58wPwPRxp"
   },
   "source": [
    "### **Splitting Data**\n",
    "Splitting the dataset \n",
    "\n",
    "1. target_var\n",
    "2. Independent_var"
   ]
  },
  {
   "cell_type": "code",
   "execution_count": 94,
   "metadata": {
    "id": "4KOeQyFrPQj4"
   },
   "outputs": [],
   "source": [
    "target_var = camero['stroke']\n",
    "inde_vars = camero.drop(columns=['stroke'], axis = 1)"
   ]
  },
  {
   "cell_type": "markdown",
   "metadata": {
    "id": "JaZsSI4aKf-l"
   },
   "source": [
    "### **Handling Imbalanced Dataset.**"
   ]
  },
  {
   "cell_type": "code",
   "execution_count": 95,
   "metadata": {
    "colab": {
     "base_uri": "https://localhost:8080/",
     "height": 196
    },
    "id": "sscKjAaaKe-7",
    "outputId": "bbcc98ce-7609-4864-85af-6add8a545b15"
   },
   "outputs": [
    {
     "data": {
      "text/html": [
       "<div>\n",
       "<style scoped>\n",
       "    .dataframe tbody tr th:only-of-type {\n",
       "        vertical-align: middle;\n",
       "    }\n",
       "\n",
       "    .dataframe tbody tr th {\n",
       "        vertical-align: top;\n",
       "    }\n",
       "\n",
       "    .dataframe thead th {\n",
       "        text-align: right;\n",
       "    }\n",
       "</style>\n",
       "<table border=\"1\" class=\"dataframe\">\n",
       "  <thead>\n",
       "    <tr style=\"text-align: right;\">\n",
       "      <th></th>\n",
       "      <th>gender</th>\n",
       "      <th>age</th>\n",
       "      <th>hypertension</th>\n",
       "      <th>heart_disease</th>\n",
       "      <th>ever_married</th>\n",
       "      <th>avg_glucose_level</th>\n",
       "      <th>bmi</th>\n",
       "      <th>smoking_status</th>\n",
       "      <th>stroke</th>\n",
       "      <th>home_town</th>\n",
       "      <th>w_t_n_w</th>\n",
       "      <th>w_t_p</th>\n",
       "      <th>w_t_s_e</th>\n",
       "      <th>w_t_c</th>\n",
       "    </tr>\n",
       "  </thead>\n",
       "  <tbody>\n",
       "    <tr>\n",
       "      <th>0</th>\n",
       "      <td>2</td>\n",
       "      <td>3.0</td>\n",
       "      <td>0</td>\n",
       "      <td>0</td>\n",
       "      <td>0</td>\n",
       "      <td>95.12</td>\n",
       "      <td>18.0</td>\n",
       "      <td>0</td>\n",
       "      <td>0</td>\n",
       "      <td>0</td>\n",
       "      <td>0</td>\n",
       "      <td>0</td>\n",
       "      <td>0</td>\n",
       "      <td>1</td>\n",
       "    </tr>\n",
       "    <tr>\n",
       "      <th>1</th>\n",
       "      <td>2</td>\n",
       "      <td>58.0</td>\n",
       "      <td>1</td>\n",
       "      <td>0</td>\n",
       "      <td>1</td>\n",
       "      <td>87.96</td>\n",
       "      <td>39.2</td>\n",
       "      <td>0</td>\n",
       "      <td>0</td>\n",
       "      <td>1</td>\n",
       "      <td>0</td>\n",
       "      <td>1</td>\n",
       "      <td>0</td>\n",
       "      <td>0</td>\n",
       "    </tr>\n",
       "    <tr>\n",
       "      <th>2</th>\n",
       "      <td>1</td>\n",
       "      <td>8.0</td>\n",
       "      <td>0</td>\n",
       "      <td>0</td>\n",
       "      <td>0</td>\n",
       "      <td>110.89</td>\n",
       "      <td>17.6</td>\n",
       "      <td>0</td>\n",
       "      <td>0</td>\n",
       "      <td>1</td>\n",
       "      <td>0</td>\n",
       "      <td>1</td>\n",
       "      <td>0</td>\n",
       "      <td>0</td>\n",
       "    </tr>\n",
       "    <tr>\n",
       "      <th>3</th>\n",
       "      <td>1</td>\n",
       "      <td>70.0</td>\n",
       "      <td>0</td>\n",
       "      <td>0</td>\n",
       "      <td>1</td>\n",
       "      <td>69.04</td>\n",
       "      <td>35.9</td>\n",
       "      <td>1</td>\n",
       "      <td>0</td>\n",
       "      <td>0</td>\n",
       "      <td>0</td>\n",
       "      <td>1</td>\n",
       "      <td>0</td>\n",
       "      <td>0</td>\n",
       "    </tr>\n",
       "    <tr>\n",
       "      <th>4</th>\n",
       "      <td>2</td>\n",
       "      <td>14.0</td>\n",
       "      <td>0</td>\n",
       "      <td>0</td>\n",
       "      <td>0</td>\n",
       "      <td>161.28</td>\n",
       "      <td>19.1</td>\n",
       "      <td>0</td>\n",
       "      <td>0</td>\n",
       "      <td>0</td>\n",
       "      <td>1</td>\n",
       "      <td>0</td>\n",
       "      <td>0</td>\n",
       "      <td>0</td>\n",
       "    </tr>\n",
       "  </tbody>\n",
       "</table>\n",
       "</div>"
      ],
      "text/plain": [
       "   gender   age  hypertension  heart_disease  ever_married  avg_glucose_level  \\\n",
       "0       2   3.0             0              0             0              95.12   \n",
       "1       2  58.0             1              0             1              87.96   \n",
       "2       1   8.0             0              0             0             110.89   \n",
       "3       1  70.0             0              0             1              69.04   \n",
       "4       2  14.0             0              0             0             161.28   \n",
       "\n",
       "    bmi  smoking_status  stroke  home_town  w_t_n_w  w_t_p  w_t_s_e  w_t_c  \n",
       "0  18.0               0       0          0        0      0        0      1  \n",
       "1  39.2               0       0          1        0      1        0      0  \n",
       "2  17.6               0       0          1        0      1        0      0  \n",
       "3  35.9               1       0          0        0      1        0      0  \n",
       "4  19.1               0       0          0        1      0        0      0  "
      ]
     },
     "execution_count": 95,
     "metadata": {},
     "output_type": "execute_result"
    }
   ],
   "source": [
    "camero.head()"
   ]
  },
  {
   "cell_type": "code",
   "execution_count": 96,
   "metadata": {
    "id": "C9Q4j_qGNiZU"
   },
   "outputs": [],
   "source": [
    "## Using SMOTEK"
   ]
  },
  {
   "cell_type": "code",
   "execution_count": 97,
   "metadata": {
    "id": "K-wdn1vtTa8A"
   },
   "outputs": [],
   "source": [
    "so = SMOTE()\n",
    "x_resample,y_resample = so.fit_sample(inde_vars, target_var.values.ravel())\n",
    "brad = pd.DataFrame(data=x_resample, columns = inde_vars.columns)"
   ]
  },
  {
   "cell_type": "code",
   "execution_count": 98,
   "metadata": {
    "colab": {
     "base_uri": "https://localhost:8080/"
    },
    "id": "EfJX8BRUTbkR",
    "outputId": "1b6cd2e5-bff2-4257-873d-d15f24e8b5e9"
   },
   "outputs": [
    {
     "name": "stdout",
     "output_type": "stream",
     "text": [
      "Before Resampling Target_Variable: \n",
      "0    40517\n",
      "1      744\n",
      "Name: stroke, dtype: int64\n",
      "After Resampling Target_Variable:\n",
      "1    40517\n",
      "0    40517\n",
      "Name: 0, dtype: int64\n"
     ]
    }
   ],
   "source": [
    "#Before resampling\n",
    "print(\"Before Resampling Target_Variable: \")\n",
    "print(target_var.value_counts())\n",
    "\n",
    "# After resampling\n",
    "y_resample = pd.DataFrame(y_resample)\n",
    "print(\"After Resampling Target_Variable:\")\n",
    "print(y_resample[0].value_counts())"
   ]
  },
  {
   "cell_type": "markdown",
   "metadata": {
    "id": "Rcz4mz4SVJXn"
   },
   "source": [
    "### **Train Test Split.**"
   ]
  },
  {
   "cell_type": "code",
   "execution_count": 99,
   "metadata": {
    "colab": {
     "base_uri": "https://localhost:8080/"
    },
    "id": "yQUinilwVIfD",
    "outputId": "7bd8f6eb-af3a-47e1-e1d9-fbacdac6297d"
   },
   "outputs": [
    {
     "name": "stdout",
     "output_type": "stream",
     "text": [
      "(56723, 13)\n",
      "(56723, 1)\n",
      "(24311, 13)\n",
      "(24311, 1)\n"
     ]
    }
   ],
   "source": [
    "#using SMOTETOMEK \n",
    "x_train,x_test,y_train,y_test = train_test_split(x_resample, y_resample, test_size = 0.3, random_state = 0)\n",
    "print(x_train.shape)\n",
    "print(y_train.shape)\n",
    "print(x_test.shape)\n",
    "print(y_test.shape)"
   ]
  },
  {
   "cell_type": "code",
   "execution_count": null,
   "metadata": {
    "id": "Bv_gAforVQ0B"
   },
   "outputs": [],
   "source": []
  },
  {
   "cell_type": "markdown",
   "metadata": {
    "id": "TLPl73LeUzwR"
   },
   "source": [
    "### **Feature Scaling Balanced Data.**\n",
    "\n"
   ]
  },
  {
   "cell_type": "code",
   "execution_count": 100,
   "metadata": {
    "id": "jlGrjXWvUyfF"
   },
   "outputs": [],
   "source": [
    "x_train_ss = se.fit_transform(x_train)\n",
    "x_test_ss = se.transform(x_test)"
   ]
  },
  {
   "cell_type": "code",
   "execution_count": null,
   "metadata": {
    "id": "XnmOt8opUymX"
   },
   "outputs": [],
   "source": []
  },
  {
   "cell_type": "markdown",
   "metadata": {
    "id": "-pUY-XfvYnbl"
   },
   "source": [
    "## **Building Predictive Models.**\n",
    "1. Decision Tree\n",
    "2. Random Forest\n",
    "3. Logistic Regression\n",
    "4. Naive Bayes\n",
    "5. XG Boost "
   ]
  },
  {
   "cell_type": "code",
   "execution_count": 101,
   "metadata": {
    "colab": {
     "base_uri": "https://localhost:8080/"
    },
    "id": "oawIuwhSYtzS",
    "outputId": "e959499b-73fe-4e14-a7fe-64380a9e1f30"
   },
   "outputs": [
    {
     "name": "stdout",
     "output_type": "stream",
     "text": [
      "The Training Accuracy of x_train and y_train is 1.0\n",
      "The Testing Accuracy of x_test and y_test is 0.9518736374480687\n"
     ]
    }
   ],
   "source": [
    "from sklearn.tree import DecisionTreeClassifier\n",
    "model = DecisionTreeClassifier()\n",
    "model.fit(x_train_ss,y_train)\n",
    "predictions = model.predict(x_test_ss)\n",
    "\n",
    "print('The Training Accuracy of x_train and y_train is', model.score(x_train_ss,y_train))\n",
    "print(\"The Testing Accuracy of x_test and y_test is\", model.score(x_test_ss,y_test))"
   ]
  },
  {
   "cell_type": "code",
   "execution_count": 102,
   "metadata": {
    "colab": {
     "base_uri": "https://localhost:8080/"
    },
    "id": "-tGsvMyWA4lj",
    "outputId": "6fb6923d-87ef-4af3-c3f7-77a0360a530e"
   },
   "outputs": [
    {
     "name": "stdout",
     "output_type": "stream",
     "text": [
      "[[11242   422]\n",
      " [  748 11899]]\n"
     ]
    }
   ],
   "source": [
    "print(confusion_matrix(predictions,y_test))"
   ]
  },
  {
   "cell_type": "code",
   "execution_count": 103,
   "metadata": {
    "colab": {
     "base_uri": "https://localhost:8080/"
    },
    "id": "boXcjWMsPnMf",
    "outputId": "a3301fd4-c159-4769-96bb-90ba40174a41"
   },
   "outputs": [
    {
     "name": "stdout",
     "output_type": "stream",
     "text": [
      "              precision    recall  f1-score   support\n",
      "\n",
      "           0       0.94      0.96      0.95     11664\n",
      "           1       0.97      0.94      0.95     12647\n",
      "\n",
      "    accuracy                           0.95     24311\n",
      "   macro avg       0.95      0.95      0.95     24311\n",
      "weighted avg       0.95      0.95      0.95     24311\n",
      "\n"
     ]
    }
   ],
   "source": [
    "print(classification_report(predictions,y_test))"
   ]
  },
  {
   "cell_type": "code",
   "execution_count": 104,
   "metadata": {
    "colab": {
     "base_uri": "https://localhost:8080/"
    },
    "id": "fizpqTFORsO_",
    "outputId": "2b955a5e-7b34-4449-de2b-21e2247570b2"
   },
   "outputs": [
    {
     "name": "stdout",
     "output_type": "stream",
     "text": [
      "0.9518736374480687\n"
     ]
    }
   ],
   "source": [
    "print(accuracy_score(predictions, y_test))"
   ]
  },
  {
   "cell_type": "code",
   "execution_count": 105,
   "metadata": {
    "colab": {
     "base_uri": "https://localhost:8080/"
    },
    "id": "1rWC4p-YTf6n",
    "outputId": "866c23f7-6808-4e0b-a9b2-75b4c8345e09"
   },
   "outputs": [
    {
     "name": "stdout",
     "output_type": "stream",
     "text": [
      "Train: [ 5646  5651  5653 ... 56720 56721 56722] Validation [   0    1    2 ... 5689 5691 5693]\n",
      "Train: [    0     1     2 ... 56720 56721 56722] Validation [ 5646  5651  5653 ... 11348 11352 11353]\n",
      "Train: [    0     1     2 ... 56720 56721 56722] Validation [11338 11343 11344 ... 17100 17101 17102]\n",
      "Train: [    0     1     2 ... 56720 56721 56722] Validation [16944 16945 16948 ... 22755 22758 22759]\n",
      "Train: [    0     1     2 ... 56720 56721 56722] Validation [22614 22616 22617 ... 28391 28392 28394]\n",
      "Train: [    0     1     2 ... 56720 56721 56722] Validation [28336 28337 28341 ... 34094 34095 34097]\n",
      "Train: [    0     1     2 ... 56720 56721 56722] Validation [33968 33969 33970 ... 39745 39746 39749]\n",
      "Train: [    0     1     2 ... 56720 56721 56722] Validation [39661 39664 39668 ... 45394 45395 45397]\n",
      "Train: [    0     1     2 ... 56720 56721 56722] Validation [45362 45364 45365 ... 51056 51058 51063]\n",
      "Train: [    0     1     2 ... 51056 51058 51063] Validation [51043 51044 51045 ... 56720 56721 56722]\n",
      "[0.9457077384100123, 0.9451789176802398, 0.9509959457077384, 0.9488716502115656, 0.9522214386459803, 0.9474612129760226, 0.9515162200282088, 0.9474612129760226, 0.9478138222849083, 0.9451692524682651]\n"
     ]
    }
   ],
   "source": [
    "x = pd.DataFrame(data = x_train_ss, columns = inde_vars.columns)\n",
    "y = y_train\n",
    "from sklearn.model_selection import  StratifiedKFold\n",
    "accuracy = []\n",
    "skf = StratifiedKFold(n_splits = 10, random_state = None)\n",
    "skf.get_n_splits(x,y)\n",
    "for train_index, test_index in skf.split(x,y):\n",
    "  print('Train:', train_index, 'Validation',test_index)\n",
    "  x1_train,x1_test = x.iloc[train_index],x.iloc[test_index]\n",
    "  y1_train,y1_test = y.iloc[train_index],y.iloc[test_index]\n",
    "  model.fit(x1_train,y1_train)\n",
    "  pred = model.predict(x1_test)\n",
    "  score = accuracy_score(pred,y1_test)\n",
    "  accuracy.append(score)\n",
    "print(accuracy)"
   ]
  },
  {
   "cell_type": "code",
   "execution_count": 106,
   "metadata": {
    "id": "gpe9_dSRTgBV"
   },
   "outputs": [],
   "source": [
    "arr = np.array(accuracy)"
   ]
  },
  {
   "cell_type": "code",
   "execution_count": 107,
   "metadata": {
    "colab": {
     "base_uri": "https://localhost:8080/"
    },
    "id": "i_pY23Y7TgEf",
    "outputId": "86c40ddd-87f3-49a8-bbe8-b47eab875b6d"
   },
   "outputs": [
    {
     "data": {
      "text/plain": [
       "0.9482397411388964"
      ]
     },
     "execution_count": 107,
     "metadata": {},
     "output_type": "execute_result"
    }
   ],
   "source": [
    "np.mean(arr)"
   ]
  },
  {
   "cell_type": "code",
   "execution_count": 108,
   "metadata": {
    "id": "ahag-FWt5dAl"
   },
   "outputs": [],
   "source": [
    "## HYper Parameter Tuning to overcome Overfitting Problem."
   ]
  },
  {
   "cell_type": "code",
   "execution_count": 109,
   "metadata": {
    "id": "Zo0ZCw6ETgG6"
   },
   "outputs": [],
   "source": [
    "def cal_score(model, x1,y1,x2,y2):\n",
    "  model.fit(x1,y1)\n",
    "  p = model.predict(x1)\n",
    "  f1 = f1_score(y1, p)\n",
    "  p1 = model.predict(x2)\n",
    "  f2 = f1_score(y2,p1)\n",
    "  return f1,f2"
   ]
  },
  {
   "cell_type": "code",
   "execution_count": 110,
   "metadata": {
    "id": "qi3SAMdl0CuM"
   },
   "outputs": [],
   "source": [
    "def effect(train, test, x_axis, title):\n",
    "  plt.figure(figsize = (12,10), dpi = 100)\n",
    "  plt.plot(x_axis, train, color = 'red', label = 'train_score')\n",
    "  plt.plot(x_axis, test, color = 'blue', label = 'test_score')\n",
    "  plt.legend()\n",
    "  plt.show()"
   ]
  },
  {
   "cell_type": "code",
   "execution_count": 111,
   "metadata": {
    "colab": {
     "base_uri": "https://localhost:8080/",
     "height": 815
    },
    "id": "bQYH4a8z0Cxr",
    "outputId": "dd05a543-1422-4497-afee-4e818db5bbe9"
   },
   "outputs": [],
   "source": [
    "max_depth = [i for i in range(1,50)]\n",
    "train = []\n",
    "test = []\n",
    "for i in max_depth:\n",
    "  model =DecisionTreeClassifier(max_depth=i, random_state=50)\n",
    "  f1,f2 = cal_score(model, x_train, y_train, x_test, y_test)\n",
    "  train.append(f1)\n",
    "  test.append(f2)\n",
    "effect(train,test, range(1,50), 'Max_Depth')"
   ]
  },
  {
   "cell_type": "code",
   "execution_count": 112,
   "metadata": {
    "colab": {
     "base_uri": "https://localhost:8080/",
     "height": 815
    },
    "id": "fiD7W2P90C2s",
    "outputId": "dbc300b7-59dd-4497-dde1-e581b3428ced"
   },
   "outputs": [],
   "source": [
    "min_samples = [i for i in range(2,5000,25)]\n",
    "train = []\n",
    "test = []\n",
    "for i in min_samples:\n",
    "  model =DecisionTreeClassifier(max_depth=20, random_state=50, min_samples_split=i)\n",
    "  f1,f2 = cal_score(model, x_train, y_train, x_test, y_test)\n",
    "  train.append(f1)\n",
    "  test.append(f2)\n",
    "effect(train,test, range(2,5000,25), 'Min_Samples_Split')"
   ]
  },
  {
   "cell_type": "code",
   "execution_count": 113,
   "metadata": {
    "colab": {
     "base_uri": "https://localhost:8080/",
     "height": 815
    },
    "id": "1W2efX204Yyw",
    "outputId": "b7288dc4-94c7-4d77-9701-905b531b4cc2"
   },
   "outputs": [],
   "source": [
    "max_leaf = [i for i in range(2,200,10)]\n",
    "train = []\n",
    "test = []\n",
    "for i in max_leaf:\n",
    "  model =DecisionTreeClassifier(max_depth=20,min_samples_split=4250,max_leaf_nodes=i, random_state=50)\n",
    "  f1,f2 = cal_score(model, x_train, y_train, x_test, y_test)\n",
    "  train.append(f1)\n",
    "  test.append(f2)\n",
    "effect(train,test, range(2,200,10), 'Max_Leaf_Nodes')"
   ]
  },
  {
   "cell_type": "code",
   "execution_count": null,
   "metadata": {
    "id": "2P2SQMJq4Y7E"
   },
   "outputs": [],
   "source": []
  },
  {
   "cell_type": "code",
   "execution_count": 114,
   "metadata": {
    "id": "EAddhtgH4Y-r"
   },
   "outputs": [],
   "source": [
    "def cal_score1(model, x1,y1,x2,y2):\n",
    "  model.fit(x1,y1)\n",
    "  p = model.predict(x1)\n",
    "  false_positive_rate, true_positive_rate, thresholds = roc_curve(y1, p)\n",
    "  roc_auc_1 = auc(false_positive_rate, true_positive_rate)\n",
    "  p1 = model.predict(x2)\n",
    "  false_positive_rate, true_positive_rate, thresholds = roc_curve(y2, p1)\n",
    "  roc_auc_2 = auc(false_positive_rate, true_positive_rate)\n",
    "  return roc_auc_1,roc_auc_2"
   ]
  },
  {
   "cell_type": "code",
   "execution_count": 115,
   "metadata": {
    "id": "wHH-7CmS0C6h"
   },
   "outputs": [],
   "source": [
    "def effect1(train, test, x_axis, title):\n",
    "  plt.figure(figsize = (12,10), dpi = 100)\n",
    "  plt.plot(x_axis, train, color = 'red', label = 'train_score')\n",
    "  plt.plot(x_axis, test, color = 'blue', label = 'test_score')\n",
    "  plt.legend()\n",
    "  plt.show()"
   ]
  },
  {
   "cell_type": "code",
   "execution_count": 116,
   "metadata": {
    "colab": {
     "base_uri": "https://localhost:8080/",
     "height": 815
    },
    "id": "Pep1K7pr-sHy",
    "outputId": "e5547535-c1fa-4454-9bb3-69a1e0b8e03a"
   },
   "outputs": [],
   "source": [
    "max_depth = [i for i in range(1,100)]\n",
    "train = []\n",
    "test = []\n",
    "for i in max_depth:\n",
    "  model =DecisionTreeClassifier(max_depth=i, random_state=50)\n",
    "  roc_auc_1,roc_auc_2 = cal_score1(model, x_train, y_train, x_test, y_test)\n",
    "  train.append(roc_auc_1)\n",
    "  test.append(roc_auc_2)\n",
    "effect1(train,test, range(1,100), 'Max_Depth')"
   ]
  },
  {
   "cell_type": "code",
   "execution_count": 117,
   "metadata": {
    "colab": {
     "base_uri": "https://localhost:8080/",
     "height": 815
    },
    "id": "11qZTJqw-sLe",
    "outputId": "6f86692a-8f3a-4ed7-af0f-12a5333559c5"
   },
   "outputs": [],
   "source": [
    "min_sample_leaff = [i for i in range(25,4000,25)]\n",
    "train = []\n",
    "test = []\n",
    "for i in min_sample_leaff:\n",
    "  model =DecisionTreeClassifier(max_depth=20, min_samples_leaf=i, random_state=50)\n",
    "  roc_auc_1,roc_auc_2 = cal_score1(model, x_train, y_train, x_test, y_test)\n",
    "  train.append(roc_auc_1)\n",
    "  test.append(roc_auc_2)\n",
    "effect1(train,test, range(25,4000,25), 'Min_Samples_Leaf')"
   ]
  },
  {
   "cell_type": "code",
   "execution_count": 118,
   "metadata": {
    "colab": {
     "base_uri": "https://localhost:8080/",
     "height": 815
    },
    "id": "u8WirR3I-sPv",
    "outputId": "5f748e9d-0996-4481-ac13-73ddb7e8b8f7"
   },
   "outputs": [],
   "source": [
    "max_leaf_node = [i for i in range(2,200,10)]\n",
    "train = []\n",
    "test = []\n",
    "for i in max_leaf_node:\n",
    "  model =DecisionTreeClassifier(max_depth=20,max_leaf_nodes=i, min_samples_leaf=3700, random_state=50)\n",
    "  roc_auc_1,roc_auc_2 = cal_score1(model, x_train, y_train, x_test, y_test)\n",
    "  train.append(roc_auc_1)\n",
    "  test.append(roc_auc_2)\n",
    "effect1(train,test, range(2,200,10), 'Max_Leaf_Nodes')"
   ]
  },
  {
   "cell_type": "code",
   "execution_count": 119,
   "metadata": {
    "id": "OVnmsQaQ-sbi"
   },
   "outputs": [],
   "source": [
    "modified_model = DecisionTreeClassifier(max_depth = 18, min_samples_split=4250, min_samples_leaf=3700, max_leaf_nodes=21)\n",
    "modified_model.fit(x_train_ss, y_train)\n",
    "pr = modified_model.predict(x_test_ss)"
   ]
  },
  {
   "cell_type": "code",
   "execution_count": 120,
   "metadata": {
    "colab": {
     "base_uri": "https://localhost:8080/"
    },
    "id": "bNjYNGkE-seg",
    "outputId": "20f54752-634b-4522-88e4-4229ab2f94c1"
   },
   "outputs": [
    {
     "name": "stdout",
     "output_type": "stream",
     "text": [
      "0.7843731819544101\n",
      "0.7823207601497265\n",
      "0.7823207601497265\n"
     ]
    }
   ],
   "source": [
    "print(modified_model.score(x_train_ss,y_train))\n",
    "print(modified_model.score(x_test_ss, y_test))\n",
    "print(accuracy_score(pr,y_test))"
   ]
  },
  {
   "cell_type": "code",
   "execution_count": null,
   "metadata": {
    "id": "oFZqeVduZRzR"
   },
   "outputs": [],
   "source": []
  },
  {
   "cell_type": "code",
   "execution_count": null,
   "metadata": {},
   "outputs": [],
   "source": []
  },
  {
   "cell_type": "code",
   "execution_count": null,
   "metadata": {},
   "outputs": [],
   "source": []
  },
  {
   "cell_type": "code",
   "execution_count": null,
   "metadata": {},
   "outputs": [],
   "source": []
  },
  {
   "cell_type": "code",
   "execution_count": null,
   "metadata": {},
   "outputs": [],
   "source": []
  },
  {
   "cell_type": "code",
   "execution_count": null,
   "metadata": {},
   "outputs": [],
   "source": []
  },
  {
   "cell_type": "code",
   "execution_count": null,
   "metadata": {},
   "outputs": [],
   "source": []
  },
  {
   "cell_type": "code",
   "execution_count": null,
   "metadata": {},
   "outputs": [],
   "source": []
  },
  {
   "cell_type": "code",
   "execution_count": null,
   "metadata": {},
   "outputs": [],
   "source": []
  },
  {
   "cell_type": "code",
   "execution_count": 121,
   "metadata": {
    "id": "FfQ8AdA9TgJb"
   },
   "outputs": [],
   "source": [
    "## LOgistic Regression()"
   ]
  },
  {
   "cell_type": "code",
   "execution_count": 122,
   "metadata": {
    "id": "AnUurakSRsSF"
   },
   "outputs": [],
   "source": [
    "from sklearn.linear_model import LogisticRegression\n",
    "lg = LogisticRegression()\n",
    "model1 = lg.fit(x_train_ss, y_train)\n",
    "y_predict = model1.predict(x_test_ss)\n",
    "predicted_values = model1.predict_proba(x_test_ss)"
   ]
  },
  {
   "cell_type": "code",
   "execution_count": 123,
   "metadata": {
    "colab": {
     "base_uri": "https://localhost:8080/"
    },
    "id": "zLqNTCulmbO8",
    "outputId": "7f3b1a65-1b7b-42c7-ec44-8612eac7af25"
   },
   "outputs": [
    {
     "data": {
      "text/plain": [
       "0.8233909585260937"
      ]
     },
     "execution_count": 123,
     "metadata": {},
     "output_type": "execute_result"
    }
   ],
   "source": [
    "recall_score(y_test, y_predict)"
   ]
  },
  {
   "cell_type": "code",
   "execution_count": 124,
   "metadata": {
    "colab": {
     "base_uri": "https://localhost:8080/"
    },
    "id": "z0MzAw9LmxnH",
    "outputId": "34d2146a-208c-4f69-8db8-b2593d426b27"
   },
   "outputs": [
    {
     "data": {
      "text/plain": [
       "0.8149903598971723"
      ]
     },
     "execution_count": 124,
     "metadata": {},
     "output_type": "execute_result"
    }
   ],
   "source": [
    "precision_score(y_test,y_predict)"
   ]
  },
  {
   "cell_type": "code",
   "execution_count": 125,
   "metadata": {
    "colab": {
     "base_uri": "https://localhost:8080/"
    },
    "id": "mQemKkwvmxqF",
    "outputId": "663cb14c-e136-40cc-b8d0-c41e9ee24b78"
   },
   "outputs": [
    {
     "data": {
      "text/plain": [
       "0.8191691226936898"
      ]
     },
     "execution_count": 125,
     "metadata": {},
     "output_type": "execute_result"
    }
   ],
   "source": [
    "f1_score(y_test,y_predict)"
   ]
  },
  {
   "cell_type": "code",
   "execution_count": 126,
   "metadata": {
    "id": "spqDPl6upuqU"
   },
   "outputs": [],
   "source": [
    "y_testt = y_test.squeeze()"
   ]
  },
  {
   "cell_type": "code",
   "execution_count": 127,
   "metadata": {
    "id": "Fpt-_FpVoCuu"
   },
   "outputs": [],
   "source": [
    "precision_points, recall_points, threshold_points = precision_recall_curve(y_testt, predicted_values[:,1]) "
   ]
  },
  {
   "cell_type": "code",
   "execution_count": 128,
   "metadata": {
    "colab": {
     "base_uri": "https://localhost:8080/"
    },
    "id": "xVYPwEm_rCTh",
    "outputId": "5a5cb4d7-a696-427b-d628-69409f82a7b4"
   },
   "outputs": [
    {
     "data": {
      "text/plain": [
       "((22630,), (22630,), (22629,))"
      ]
     },
     "execution_count": 128,
     "metadata": {},
     "output_type": "execute_result"
    }
   ],
   "source": [
    "precision_points.shape, recall_points.shape, threshold_points.shape"
   ]
  },
  {
   "cell_type": "code",
   "execution_count": 129,
   "metadata": {
    "colab": {
     "base_uri": "https://localhost:8080/"
    },
    "id": "uMYjxe_4sWYR",
    "outputId": "4e2cef86-6d26-4448-b25a-94447efcce5b"
   },
   "outputs": [
    {
     "data": {
      "text/plain": [
       "array([0.54447832, 0.54445819, 0.54448226, ..., 1.        , 1.        ,\n",
       "       1.        ])"
      ]
     },
     "execution_count": 129,
     "metadata": {},
     "output_type": "execute_result"
    }
   ],
   "source": [
    "precision_points"
   ]
  },
  {
   "cell_type": "code",
   "execution_count": 130,
   "metadata": {
    "colab": {
     "base_uri": "https://localhost:8080/"
    },
    "id": "4pWwPKxUsWcA",
    "outputId": "1123d0a8-4f32-4081-a626-8dbe48b522d0"
   },
   "outputs": [
    {
     "data": {
      "text/plain": [
       "array([1.00000000e+00, 9.99918838e-01, 9.99918838e-01, ...,\n",
       "       1.62324487e-04, 8.11622433e-05, 0.00000000e+00])"
      ]
     },
     "execution_count": 130,
     "metadata": {},
     "output_type": "execute_result"
    }
   ],
   "source": [
    "recall_points"
   ]
  },
  {
   "cell_type": "code",
   "execution_count": 131,
   "metadata": {
    "colab": {
     "base_uri": "https://localhost:8080/"
    },
    "id": "2GGC6iIZsWfn",
    "outputId": "a7d71c30-3ab5-4eb8-d57f-dcd41f5a6cbc"
   },
   "outputs": [
    {
     "data": {
      "text/plain": [
       "array([0.00919393, 0.00922398, 0.00922728, ..., 0.99547383, 0.99551362,\n",
       "       0.99560247])"
      ]
     },
     "execution_count": 131,
     "metadata": {},
     "output_type": "execute_result"
    }
   ],
   "source": [
    "threshold_points"
   ]
  },
  {
   "cell_type": "code",
   "execution_count": 132,
   "metadata": {
    "colab": {
     "base_uri": "https://localhost:8080/",
     "height": 815
    },
    "id": "HJgbP4ueonZn",
    "outputId": "62d27c50-aa0c-4c1b-99b1-92d90c2a6b7c"
   },
   "outputs": [],
   "source": [
    "plt.figure(figsize = (12,10), dpi = 100)\n",
    "plt.plot(threshold_points, recall_points[:-1], color = 'red')\n",
    "plt.plot(threshold_points, precision_points[:-1], color = 'blue')\n",
    "plt.show()"
   ]
  },
  {
   "cell_type": "code",
   "execution_count": 133,
   "metadata": {
    "colab": {
     "base_uri": "https://localhost:8080/"
    },
    "id": "I2iTYcj5ongU",
    "outputId": "bdacd524-f423-4eca-c9b0-e07c7d7a5565"
   },
   "outputs": [
    {
     "data": {
      "text/plain": [
       "((5894,), (5894,), (5894,))"
      ]
     },
     "execution_count": 133,
     "metadata": {},
     "output_type": "execute_result"
    }
   ],
   "source": [
    "tpr,fpr, threshold = roc_curve(y_testt, predicted_values[:,1])\n",
    "tpr.shape, fpr.shape, threshold.shape"
   ]
  },
  {
   "cell_type": "code",
   "execution_count": 134,
   "metadata": {
    "colab": {
     "base_uri": "https://localhost:8080/",
     "height": 852
    },
    "id": "l77NAgnoonj2",
    "outputId": "b9944677-10b9-4ed8-9e03-36f6ef896b9d"
   },
   "outputs": [
    {
     "name": "stdout",
     "output_type": "stream",
     "text": [
      "0.9053927809196839\n"
     ]
    }
   ],
   "source": [
    "plt.figure(figsize = (12,10), dpi = 100)\n",
    "plt.plot(tpr,fpr, color = 'red')\n",
    "plt.plot([0,1],[0,1], color = 'blue')\n",
    "plt.title(\"roc_curve\")\n",
    "plt.show()\n",
    "\n",
    "print(roc_auc_score(y_test, predicted_values[:,1]))"
   ]
  },
  {
   "cell_type": "code",
   "execution_count": 135,
   "metadata": {
    "colab": {
     "base_uri": "https://localhost:8080/"
    },
    "id": "F5wBt-C6RsV2",
    "outputId": "da917923-d223-498d-a0cd-0448cdc5f0fd"
   },
   "outputs": [
    {
     "name": "stdout",
     "output_type": "stream",
     "text": [
      "Training Accuracy  0.8209368333832837\n",
      "Testing Accuracy  0.8157624120768376\n"
     ]
    }
   ],
   "source": [
    "print(\"Training Accuracy \", model1.score(x_train_ss,y_train))\n",
    "print(\"Testing Accuracy \", model1.score(x_test_ss,y_test))"
   ]
  },
  {
   "cell_type": "code",
   "execution_count": 136,
   "metadata": {
    "colab": {
     "base_uri": "https://localhost:8080/"
    },
    "id": "ZYmTuvH1RsZD",
    "outputId": "1338b2b6-36a8-4369-a52c-3bc36bd429ba"
   },
   "outputs": [
    {
     "name": "stdout",
     "output_type": "stream",
     "text": [
      "              precision    recall  f1-score   support\n",
      "\n",
      "           0       0.81      0.82      0.81     11863\n",
      "           1       0.82      0.81      0.82     12448\n",
      "\n",
      "    accuracy                           0.82     24311\n",
      "   macro avg       0.82      0.82      0.82     24311\n",
      "weighted avg       0.82      0.82      0.82     24311\n",
      "\n"
     ]
    }
   ],
   "source": [
    "print(classification_report(y_predict, y_test))"
   ]
  },
  {
   "cell_type": "code",
   "execution_count": 137,
   "metadata": {
    "colab": {
     "base_uri": "https://localhost:8080/"
    },
    "id": "k4BFP3JLRsbg",
    "outputId": "26c20731-c475-433e-9c7d-3cbe7224197d"
   },
   "outputs": [
    {
     "name": "stdout",
     "output_type": "stream",
     "text": [
      "[[ 9687  2176]\n",
      " [ 2303 10145]]\n"
     ]
    }
   ],
   "source": [
    "print(confusion_matrix(y_predict, y_test))"
   ]
  },
  {
   "cell_type": "code",
   "execution_count": 138,
   "metadata": {
    "colab": {
     "base_uri": "https://localhost:8080/"
    },
    "id": "AVbkBKAFS_Gr",
    "outputId": "bf6f4390-83c7-4db7-fbe5-e99cb65f69a6"
   },
   "outputs": [
    {
     "name": "stdout",
     "output_type": "stream",
     "text": [
      "0.8157624120768376\n"
     ]
    }
   ],
   "source": [
    "print(accuracy_score(y_predict,y_test))"
   ]
  },
  {
   "cell_type": "code",
   "execution_count": 139,
   "metadata": {
    "colab": {
     "base_uri": "https://localhost:8080/"
    },
    "id": "leln-h0wZKm3",
    "outputId": "c2e3aa40-bd09-403b-bbe1-544182fa3113"
   },
   "outputs": [
    {
     "name": "stdout",
     "output_type": "stream",
     "text": [
      "Train: [ 5646  5651  5653 ... 56720 56721 56722] Validation [   0    1    2 ... 5689 5691 5693]\n",
      "Train: [    0     1     2 ... 56720 56721 56722] Validation [ 5646  5651  5653 ... 11348 11352 11353]\n",
      "Train: [    0     1     2 ... 56720 56721 56722] Validation [11338 11343 11344 ... 17100 17101 17102]\n",
      "Train: [    0     1     2 ... 56720 56721 56722] Validation [16944 16945 16948 ... 22755 22758 22759]\n",
      "Train: [    0     1     2 ... 56720 56721 56722] Validation [22614 22616 22617 ... 28391 28392 28394]\n",
      "Train: [    0     1     2 ... 56720 56721 56722] Validation [28336 28337 28341 ... 34094 34095 34097]\n",
      "Train: [    0     1     2 ... 56720 56721 56722] Validation [33968 33969 33970 ... 39745 39746 39749]\n",
      "Train: [    0     1     2 ... 56720 56721 56722] Validation [39661 39664 39668 ... 45394 45395 45397]\n",
      "Train: [    0     1     2 ... 56720 56721 56722] Validation [45362 45364 45365 ... 51056 51058 51063]\n",
      "Train: [    0     1     2 ... 51056 51058 51063] Validation [51043 51044 51045 ... 56720 56721 56722]\n",
      "[0.825136612021858, 0.8200246783007227, 0.8205534990304953, 0.8222849083215797, 0.8187588152327221, 0.808885754583921, 0.8222849083215797, 0.8206981664315938, 0.8251057827926658, 0.8222849083215797]\n"
     ]
    }
   ],
   "source": [
    "x = pd.DataFrame(data = x_train_ss, columns = inde_vars.columns)\n",
    "y = y_train\n",
    "from sklearn.model_selection import  StratifiedKFold\n",
    "accuracy1 = []\n",
    "skf = StratifiedKFold(n_splits = 10, random_state = None)\n",
    "skf.get_n_splits(x,y)\n",
    "for train_index, test_index in skf.split(x,y):\n",
    "  print('Train:', train_index, 'Validation',test_index)\n",
    "  x1_train,x1_test = x.iloc[train_index],x.iloc[test_index]\n",
    "  y1_train,y1_test = y.iloc[train_index],y.iloc[test_index]\n",
    "  model1.fit(x1_train,y1_train)\n",
    "  pred = model1.predict(x1_test)\n",
    "  score = accuracy_score(pred,y1_test)\n",
    "  accuracy1.append(score)\n",
    "print(accuracy1)"
   ]
  },
  {
   "cell_type": "markdown",
   "metadata": {
    "id": "KH6ivQh2lQDH"
   },
   "source": [
    "#### Hyper Parameter Tuning Logistic Regression() using GridSearchCV() "
   ]
  },
  {
   "cell_type": "code",
   "execution_count": null,
   "metadata": {},
   "outputs": [],
   "source": []
  },
  {
   "cell_type": "code",
   "execution_count": null,
   "metadata": {},
   "outputs": [],
   "source": []
  },
  {
   "cell_type": "code",
   "execution_count": null,
   "metadata": {},
   "outputs": [],
   "source": []
  },
  {
   "cell_type": "code",
   "execution_count": null,
   "metadata": {},
   "outputs": [],
   "source": []
  },
  {
   "cell_type": "code",
   "execution_count": null,
   "metadata": {},
   "outputs": [],
   "source": []
  },
  {
   "cell_type": "code",
   "execution_count": null,
   "metadata": {},
   "outputs": [],
   "source": []
  },
  {
   "cell_type": "code",
   "execution_count": null,
   "metadata": {},
   "outputs": [],
   "source": []
  },
  {
   "cell_type": "code",
   "execution_count": 140,
   "metadata": {
    "id": "S7MqvJoaxoAM"
   },
   "outputs": [],
   "source": [
    "## Random Forest"
   ]
  },
  {
   "cell_type": "code",
   "execution_count": 141,
   "metadata": {
    "id": "XYyHUzPJxoDn"
   },
   "outputs": [],
   "source": [
    "from sklearn.ensemble import RandomForestClassifier\n",
    "re = RandomForestClassifier()\n",
    "model3 = re.fit(x_train_ss, y_train)\n",
    "re_pred = model3.predict(x_test_ss)"
   ]
  },
  {
   "cell_type": "code",
   "execution_count": 142,
   "metadata": {
    "colab": {
     "base_uri": "https://localhost:8080/"
    },
    "id": "P4R4A47BxoHY",
    "outputId": "92b58f81-6239-4148-c86e-17b7debb79e8"
   },
   "outputs": [
    {
     "name": "stdout",
     "output_type": "stream",
     "text": [
      "trianing accuracy is 1.0\n",
      "Testing Accuracy is 0.970054707745465\n",
      "0.970054707745465\n"
     ]
    }
   ],
   "source": [
    "print(\"trianing accuracy is\", model3.score(x_train_ss, y_train))\n",
    "print('Testing Accuracy is', model3.score(x_test_ss, y_test))\n",
    "print(accuracy_score(y_test, re_pred))"
   ]
  },
  {
   "cell_type": "code",
   "execution_count": 143,
   "metadata": {
    "colab": {
     "base_uri": "https://localhost:8080/"
    },
    "id": "jNE4aioIxoLi",
    "outputId": "64a721c0-bf34-4d11-db88-f075764343de"
   },
   "outputs": [
    {
     "name": "stdout",
     "output_type": "stream",
     "text": [
      "[[11526   464]\n",
      " [  264 12057]]\n"
     ]
    }
   ],
   "source": [
    "print(confusion_matrix(y_test, re_pred))"
   ]
  },
  {
   "cell_type": "code",
   "execution_count": 144,
   "metadata": {
    "colab": {
     "base_uri": "https://localhost:8080/"
    },
    "id": "H2yL0qQNxoPD",
    "outputId": "c0a21355-4955-41aa-813c-2e8f66bbfd53"
   },
   "outputs": [
    {
     "name": "stdout",
     "output_type": "stream",
     "text": [
      "              precision    recall  f1-score   support\n",
      "\n",
      "           0       0.98      0.96      0.97     11990\n",
      "           1       0.96      0.98      0.97     12321\n",
      "\n",
      "    accuracy                           0.97     24311\n",
      "   macro avg       0.97      0.97      0.97     24311\n",
      "weighted avg       0.97      0.97      0.97     24311\n",
      "\n"
     ]
    }
   ],
   "source": [
    "print(classification_report(y_test, re_pred))"
   ]
  },
  {
   "cell_type": "code",
   "execution_count": 145,
   "metadata": {
    "colab": {
     "base_uri": "https://localhost:8080/"
    },
    "id": "4lHOUyXQxoSF",
    "outputId": "f5cf956e-d11d-4a19-dcac-74c10768d268"
   },
   "outputs": [
    {
     "data": {
      "text/plain": [
       "0.9785731677623569"
      ]
     },
     "execution_count": 145,
     "metadata": {},
     "output_type": "execute_result"
    }
   ],
   "source": [
    "recall_score(y_test, re_pred)"
   ]
  },
  {
   "cell_type": "code",
   "execution_count": 146,
   "metadata": {
    "colab": {
     "base_uri": "https://localhost:8080/"
    },
    "id": "YhozV8bcxoVJ",
    "outputId": "56820530-ec48-4e13-e815-9377cf217f5a"
   },
   "outputs": [
    {
     "data": {
      "text/plain": [
       "0.9629422570082262"
      ]
     },
     "execution_count": 146,
     "metadata": {},
     "output_type": "execute_result"
    }
   ],
   "source": [
    "precision_score(y_test, re_pred)"
   ]
  },
  {
   "cell_type": "code",
   "execution_count": 147,
   "metadata": {
    "colab": {
     "base_uri": "https://localhost:8080/"
    },
    "id": "YuEPmUmbxoYH",
    "outputId": "fd7a5727-aefa-43ce-b9d8-dfbccdf064ff"
   },
   "outputs": [
    {
     "data": {
      "text/plain": [
       "0.9706947910796233"
      ]
     },
     "execution_count": 147,
     "metadata": {},
     "output_type": "execute_result"
    }
   ],
   "source": [
    "f1_score(y_test, re_pred)"
   ]
  },
  {
   "cell_type": "code",
   "execution_count": 148,
   "metadata": {
    "colab": {
     "base_uri": "https://localhost:8080/"
    },
    "id": "2qzcKEhgxobp",
    "outputId": "17be54ee-8d35-4457-df32-70cde4eb8ef4"
   },
   "outputs": [
    {
     "name": "stdout",
     "output_type": "stream",
     "text": [
      "Train: [ 5646  5651  5653 ... 56720 56721 56722] Validation [   0    1    2 ... 5689 5691 5693]\n",
      "Train: [    0     1     2 ... 56720 56721 56722] Validation [ 5646  5651  5653 ... 11348 11352 11353]\n",
      "Train: [    0     1     2 ... 56720 56721 56722] Validation [11338 11343 11344 ... 17100 17101 17102]\n",
      "Train: [    0     1     2 ... 56720 56721 56722] Validation [16944 16945 16948 ... 22755 22758 22759]\n",
      "Train: [    0     1     2 ... 56720 56721 56722] Validation [22614 22616 22617 ... 28391 28392 28394]\n",
      "Train: [    0     1     2 ... 56720 56721 56722] Validation [28336 28337 28341 ... 34094 34095 34097]\n",
      "Train: [    0     1     2 ... 56720 56721 56722] Validation [33968 33969 33970 ... 39745 39746 39749]\n",
      "Train: [    0     1     2 ... 56720 56721 56722] Validation [39661 39664 39668 ... 45394 45395 45397]\n",
      "Train: [    0     1     2 ... 56720 56721 56722] Validation [45362 45364 45365 ... 51056 51058 51063]\n",
      "Train: [    0     1     2 ... 51056 51058 51063] Validation [51043 51044 51045 ... 56720 56721 56722]\n",
      "[0.968975850520007, 0.9659791997179623, 0.9707385862859157, 0.9717912552891397, 0.9675599435825106, 0.9691466854724965, 0.9700282087447109, 0.9719675599435825, 0.9654442877291961, 0.9661495063469676]\n"
     ]
    }
   ],
   "source": [
    "x = pd.DataFrame(data = x_train_ss, columns = inde_vars.columns)\n",
    "y = y_train\n",
    "from sklearn.model_selection import  StratifiedKFold\n",
    "accuracy2 = []\n",
    "skf = StratifiedKFold(n_splits = 10, random_state = None)\n",
    "skf.get_n_splits(x,y)\n",
    "for train_index, test_index in skf.split(x,y):\n",
    "  print('Train:', train_index, 'Validation',test_index)\n",
    "  x1_train,x1_test = x.iloc[train_index],x.iloc[test_index]\n",
    "  y1_train,y1_test = y.iloc[train_index],y.iloc[test_index]\n",
    "  model3.fit(x1_train,y1_train)\n",
    "  pred = model3.predict(x1_test)\n",
    "  score = accuracy_score(pred,y1_test)\n",
    "  accuracy2.append(score)\n",
    "print(accuracy2)"
   ]
  },
  {
   "cell_type": "code",
   "execution_count": null,
   "metadata": {
    "id": "L_itOt58xoed"
   },
   "outputs": [],
   "source": []
  },
  {
   "cell_type": "code",
   "execution_count": null,
   "metadata": {
    "id": "GrmEDxApjhqH"
   },
   "outputs": [],
   "source": []
  },
  {
   "cell_type": "markdown",
   "metadata": {
    "id": "-WFo2vuikX2D"
   },
   "source": [
    "### **Testing the Model**"
   ]
  },
  {
   "cell_type": "code",
   "execution_count": 149,
   "metadata": {
    "id": "U1hNCR8ajhug"
   },
   "outputs": [],
   "source": [
    "ford = pd.read_csv(\"healthcare-dataset-stroke-data.csv\")"
   ]
  },
  {
   "cell_type": "code",
   "execution_count": 150,
   "metadata": {
    "colab": {
     "base_uri": "https://localhost:8080/",
     "height": 196
    },
    "id": "ODb6JpaJjhzz",
    "outputId": "0eabf060-7641-4a45-d9fa-a23b7873ad0f"
   },
   "outputs": [
    {
     "data": {
      "text/html": [
       "<div>\n",
       "<style scoped>\n",
       "    .dataframe tbody tr th:only-of-type {\n",
       "        vertical-align: middle;\n",
       "    }\n",
       "\n",
       "    .dataframe tbody tr th {\n",
       "        vertical-align: top;\n",
       "    }\n",
       "\n",
       "    .dataframe thead th {\n",
       "        text-align: right;\n",
       "    }\n",
       "</style>\n",
       "<table border=\"1\" class=\"dataframe\">\n",
       "  <thead>\n",
       "    <tr style=\"text-align: right;\">\n",
       "      <th></th>\n",
       "      <th>id</th>\n",
       "      <th>gender</th>\n",
       "      <th>age</th>\n",
       "      <th>hypertension</th>\n",
       "      <th>heart_disease</th>\n",
       "      <th>ever_married</th>\n",
       "      <th>work_type</th>\n",
       "      <th>Residence_type</th>\n",
       "      <th>avg_glucose_level</th>\n",
       "      <th>bmi</th>\n",
       "      <th>smoking_status</th>\n",
       "      <th>stroke</th>\n",
       "    </tr>\n",
       "  </thead>\n",
       "  <tbody>\n",
       "    <tr>\n",
       "      <th>0</th>\n",
       "      <td>9046</td>\n",
       "      <td>Male</td>\n",
       "      <td>67.0</td>\n",
       "      <td>0</td>\n",
       "      <td>1</td>\n",
       "      <td>Yes</td>\n",
       "      <td>Private</td>\n",
       "      <td>Urban</td>\n",
       "      <td>228.69</td>\n",
       "      <td>36.6</td>\n",
       "      <td>formerly smoked</td>\n",
       "      <td>1</td>\n",
       "    </tr>\n",
       "    <tr>\n",
       "      <th>1</th>\n",
       "      <td>51676</td>\n",
       "      <td>Female</td>\n",
       "      <td>61.0</td>\n",
       "      <td>0</td>\n",
       "      <td>0</td>\n",
       "      <td>Yes</td>\n",
       "      <td>Self-employed</td>\n",
       "      <td>Rural</td>\n",
       "      <td>202.21</td>\n",
       "      <td>NaN</td>\n",
       "      <td>never smoked</td>\n",
       "      <td>1</td>\n",
       "    </tr>\n",
       "    <tr>\n",
       "      <th>2</th>\n",
       "      <td>31112</td>\n",
       "      <td>Male</td>\n",
       "      <td>80.0</td>\n",
       "      <td>0</td>\n",
       "      <td>1</td>\n",
       "      <td>Yes</td>\n",
       "      <td>Private</td>\n",
       "      <td>Rural</td>\n",
       "      <td>105.92</td>\n",
       "      <td>32.5</td>\n",
       "      <td>never smoked</td>\n",
       "      <td>1</td>\n",
       "    </tr>\n",
       "    <tr>\n",
       "      <th>3</th>\n",
       "      <td>60182</td>\n",
       "      <td>Female</td>\n",
       "      <td>49.0</td>\n",
       "      <td>0</td>\n",
       "      <td>0</td>\n",
       "      <td>Yes</td>\n",
       "      <td>Private</td>\n",
       "      <td>Urban</td>\n",
       "      <td>171.23</td>\n",
       "      <td>34.4</td>\n",
       "      <td>smokes</td>\n",
       "      <td>1</td>\n",
       "    </tr>\n",
       "    <tr>\n",
       "      <th>4</th>\n",
       "      <td>1665</td>\n",
       "      <td>Female</td>\n",
       "      <td>79.0</td>\n",
       "      <td>1</td>\n",
       "      <td>0</td>\n",
       "      <td>Yes</td>\n",
       "      <td>Self-employed</td>\n",
       "      <td>Rural</td>\n",
       "      <td>174.12</td>\n",
       "      <td>24.0</td>\n",
       "      <td>never smoked</td>\n",
       "      <td>1</td>\n",
       "    </tr>\n",
       "  </tbody>\n",
       "</table>\n",
       "</div>"
      ],
      "text/plain": [
       "      id  gender   age  hypertension  heart_disease ever_married  \\\n",
       "0   9046    Male  67.0             0              1          Yes   \n",
       "1  51676  Female  61.0             0              0          Yes   \n",
       "2  31112    Male  80.0             0              1          Yes   \n",
       "3  60182  Female  49.0             0              0          Yes   \n",
       "4   1665  Female  79.0             1              0          Yes   \n",
       "\n",
       "       work_type Residence_type  avg_glucose_level   bmi   smoking_status  \\\n",
       "0        Private          Urban             228.69  36.6  formerly smoked   \n",
       "1  Self-employed          Rural             202.21   NaN     never smoked   \n",
       "2        Private          Rural             105.92  32.5     never smoked   \n",
       "3        Private          Urban             171.23  34.4           smokes   \n",
       "4  Self-employed          Rural             174.12  24.0     never smoked   \n",
       "\n",
       "   stroke  \n",
       "0       1  \n",
       "1       1  \n",
       "2       1  \n",
       "3       1  \n",
       "4       1  "
      ]
     },
     "execution_count": 150,
     "metadata": {},
     "output_type": "execute_result"
    }
   ],
   "source": [
    "ford.head()"
   ]
  },
  {
   "cell_type": "code",
   "execution_count": 151,
   "metadata": {
    "colab": {
     "base_uri": "https://localhost:8080/"
    },
    "id": "-Mi1tktwzS0S",
    "outputId": "61eb74ae-3b9e-4953-a2ee-ce744667c06f"
   },
   "outputs": [
    {
     "name": "stdout",
     "output_type": "stream",
     "text": [
      "<class 'pandas.core.frame.DataFrame'>\n",
      "RangeIndex: 5110 entries, 0 to 5109\n",
      "Data columns (total 12 columns):\n",
      " #   Column             Non-Null Count  Dtype  \n",
      "---  ------             --------------  -----  \n",
      " 0   id                 5110 non-null   int64  \n",
      " 1   gender             5110 non-null   object \n",
      " 2   age                5110 non-null   float64\n",
      " 3   hypertension       5110 non-null   int64  \n",
      " 4   heart_disease      5110 non-null   int64  \n",
      " 5   ever_married       5110 non-null   object \n",
      " 6   work_type          5110 non-null   object \n",
      " 7   Residence_type     5110 non-null   object \n",
      " 8   avg_glucose_level  5110 non-null   float64\n",
      " 9   bmi                4909 non-null   float64\n",
      " 10  smoking_status     5110 non-null   object \n",
      " 11  stroke             5110 non-null   int64  \n",
      "dtypes: float64(3), int64(4), object(5)\n",
      "memory usage: 479.2+ KB\n"
     ]
    }
   ],
   "source": [
    "ford.info()"
   ]
  },
  {
   "cell_type": "code",
   "execution_count": 152,
   "metadata": {
    "id": "vntqRpBdjh3q"
   },
   "outputs": [],
   "source": [
    "ford.drop(index = ford[(ford.age > 1.0) & (ford.age < 2.0)].index, axis = 0, inplace = True)"
   ]
  },
  {
   "cell_type": "code",
   "execution_count": 153,
   "metadata": {
    "colab": {
     "base_uri": "https://localhost:8080/"
    },
    "id": "Whw-dqe_mI8e",
    "outputId": "72bee981-8d59-4e17-b52a-12412d8c1360"
   },
   "outputs": [
    {
     "data": {
      "text/plain": [
       "(5038, 12)"
      ]
     },
     "execution_count": 153,
     "metadata": {},
     "output_type": "execute_result"
    }
   ],
   "source": [
    "ford.shape"
   ]
  },
  {
   "cell_type": "code",
   "execution_count": 154,
   "metadata": {
    "id": "u6JCO_4Fzzne"
   },
   "outputs": [],
   "source": [
    "anamolies = []\n",
    "def outliers(data):\n",
    "  random_state_mean = np.mean(data)\n",
    "  random_state_std = np.std(data)\n",
    "  anamoly = random_state_std * 3\n",
    "\n",
    "  upper_limit = random_state_mean + anamoly\n",
    "  lower_limit = random_state_mean - anamoly\n",
    "  uu =  max(ford['avg_glucose_level'])\n",
    "  ll = min(ford['avg_glucose_level'])\n",
    "\n",
    "  print(upper_limit)\n",
    "  print(lower_limit)\n",
    "  for i in data:\n",
    "    if i < ll or i > uu:\n",
    "      anamolies.append(i)"
   ]
  },
  {
   "cell_type": "code",
   "execution_count": 155,
   "metadata": {
    "colab": {
     "base_uri": "https://localhost:8080/"
    },
    "id": "dgPO1LfkzzrH",
    "outputId": "3fb64640-adfd-44ec-9553-2f14ee6d7826"
   },
   "outputs": [
    {
     "name": "stdout",
     "output_type": "stream",
     "text": [
      "242.64307272917313\n",
      "-30.033838906227473\n",
      "0\n"
     ]
    }
   ],
   "source": [
    "outliers(ford['avg_glucose_level'])\n",
    "print(len(anamolies))"
   ]
  },
  {
   "cell_type": "code",
   "execution_count": 156,
   "metadata": {
    "colab": {
     "base_uri": "https://localhost:8080/"
    },
    "id": "hrh4XqIOzzu5",
    "outputId": "a4aa2fbf-4ed2-4a28-9ed5-3928daa94715"
   },
   "outputs": [
    {
     "data": {
      "text/plain": [
       "count    41261.000000\n",
       "mean       102.504529\n",
       "std         39.968402\n",
       "min         55.000000\n",
       "25%         77.370000\n",
       "50%         91.170000\n",
       "75%        110.770000\n",
       "max        234.380000\n",
       "Name: avg_glucose_level, dtype: float64"
      ]
     },
     "execution_count": 156,
     "metadata": {},
     "output_type": "execute_result"
    }
   ],
   "source": [
    "dodge['avg_glucose_level'].describe()"
   ]
  },
  {
   "cell_type": "code",
   "execution_count": 157,
   "metadata": {
    "id": "gkwn8mGXzzze"
   },
   "outputs": [],
   "source": [
    "anamolies = []\n",
    "def outliers(data):\n",
    "  random_state_mean = np.mean(data)\n",
    "  random_state_std = np.std(data)\n",
    "  anamoly = random_state_std * 3\n",
    "\n",
    "  upper_limit = random_state_mean + anamoly\n",
    "  lower_limit = random_state_mean - anamoly\n",
    "  ll = min(ford['bmi'])\n",
    "\n",
    "  print(upper_limit)\n",
    "  print(lower_limit)\n",
    "  for i in data:\n",
    "    if i < ll or i > upper_limit:\n",
    "      anamolies.append(i)"
   ]
  },
  {
   "cell_type": "code",
   "execution_count": 158,
   "metadata": {
    "colab": {
     "base_uri": "https://localhost:8080/"
    },
    "id": "XbwOeBxd4MkY",
    "outputId": "94fdfbbb-c453-4a6b-9984-cdcd42c200fe"
   },
   "outputs": [
    {
     "name": "stdout",
     "output_type": "stream",
     "text": [
      "52.45615973942819\n",
      "5.616289661645759\n",
      "58\n"
     ]
    }
   ],
   "source": [
    "outliers(ford['bmi'])\n",
    "print(len(anamolies))"
   ]
  },
  {
   "cell_type": "code",
   "execution_count": 159,
   "metadata": {
    "colab": {
     "base_uri": "https://localhost:8080/",
     "height": 1000
    },
    "id": "eVa1-3cL7czG",
    "outputId": "8e68a749-eb4e-493d-93d5-282e613b27ba"
   },
   "outputs": [
    {
     "data": {
      "text/html": [
       "<div>\n",
       "<style scoped>\n",
       "    .dataframe tbody tr th:only-of-type {\n",
       "        vertical-align: middle;\n",
       "    }\n",
       "\n",
       "    .dataframe tbody tr th {\n",
       "        vertical-align: top;\n",
       "    }\n",
       "\n",
       "    .dataframe thead th {\n",
       "        text-align: right;\n",
       "    }\n",
       "</style>\n",
       "<table border=\"1\" class=\"dataframe\">\n",
       "  <thead>\n",
       "    <tr style=\"text-align: right;\">\n",
       "      <th></th>\n",
       "      <th>id</th>\n",
       "      <th>gender</th>\n",
       "      <th>age</th>\n",
       "      <th>hypertension</th>\n",
       "      <th>heart_disease</th>\n",
       "      <th>ever_married</th>\n",
       "      <th>work_type</th>\n",
       "      <th>Residence_type</th>\n",
       "      <th>avg_glucose_level</th>\n",
       "      <th>bmi</th>\n",
       "      <th>smoking_status</th>\n",
       "      <th>stroke</th>\n",
       "    </tr>\n",
       "  </thead>\n",
       "  <tbody>\n",
       "    <tr>\n",
       "      <th>113</th>\n",
       "      <td>41069</td>\n",
       "      <td>Female</td>\n",
       "      <td>45.0</td>\n",
       "      <td>0</td>\n",
       "      <td>0</td>\n",
       "      <td>Yes</td>\n",
       "      <td>Private</td>\n",
       "      <td>Rural</td>\n",
       "      <td>224.10</td>\n",
       "      <td>56.6</td>\n",
       "      <td>never smoked</td>\n",
       "      <td>1</td>\n",
       "    </tr>\n",
       "    <tr>\n",
       "      <th>258</th>\n",
       "      <td>28674</td>\n",
       "      <td>Female</td>\n",
       "      <td>74.0</td>\n",
       "      <td>1</td>\n",
       "      <td>0</td>\n",
       "      <td>Yes</td>\n",
       "      <td>Self-employed</td>\n",
       "      <td>Urban</td>\n",
       "      <td>205.84</td>\n",
       "      <td>54.6</td>\n",
       "      <td>never smoked</td>\n",
       "      <td>0</td>\n",
       "    </tr>\n",
       "    <tr>\n",
       "      <th>270</th>\n",
       "      <td>72911</td>\n",
       "      <td>Female</td>\n",
       "      <td>57.0</td>\n",
       "      <td>1</td>\n",
       "      <td>0</td>\n",
       "      <td>Yes</td>\n",
       "      <td>Private</td>\n",
       "      <td>Rural</td>\n",
       "      <td>129.54</td>\n",
       "      <td>60.9</td>\n",
       "      <td>smokes</td>\n",
       "      <td>0</td>\n",
       "    </tr>\n",
       "    <tr>\n",
       "      <th>333</th>\n",
       "      <td>1703</td>\n",
       "      <td>Female</td>\n",
       "      <td>52.0</td>\n",
       "      <td>0</td>\n",
       "      <td>0</td>\n",
       "      <td>Yes</td>\n",
       "      <td>Private</td>\n",
       "      <td>Urban</td>\n",
       "      <td>82.24</td>\n",
       "      <td>54.7</td>\n",
       "      <td>formerly smoked</td>\n",
       "      <td>0</td>\n",
       "    </tr>\n",
       "    <tr>\n",
       "      <th>358</th>\n",
       "      <td>66333</td>\n",
       "      <td>Male</td>\n",
       "      <td>52.0</td>\n",
       "      <td>0</td>\n",
       "      <td>0</td>\n",
       "      <td>Yes</td>\n",
       "      <td>Self-employed</td>\n",
       "      <td>Urban</td>\n",
       "      <td>78.40</td>\n",
       "      <td>64.8</td>\n",
       "      <td>never smoked</td>\n",
       "      <td>0</td>\n",
       "    </tr>\n",
       "    <tr>\n",
       "      <th>430</th>\n",
       "      <td>53144</td>\n",
       "      <td>Female</td>\n",
       "      <td>52.0</td>\n",
       "      <td>0</td>\n",
       "      <td>1</td>\n",
       "      <td>Yes</td>\n",
       "      <td>Private</td>\n",
       "      <td>Urban</td>\n",
       "      <td>72.79</td>\n",
       "      <td>54.7</td>\n",
       "      <td>never smoked</td>\n",
       "      <td>0</td>\n",
       "    </tr>\n",
       "    <tr>\n",
       "      <th>466</th>\n",
       "      <td>1307</td>\n",
       "      <td>Female</td>\n",
       "      <td>61.0</td>\n",
       "      <td>1</td>\n",
       "      <td>0</td>\n",
       "      <td>Yes</td>\n",
       "      <td>Private</td>\n",
       "      <td>Rural</td>\n",
       "      <td>170.05</td>\n",
       "      <td>60.2</td>\n",
       "      <td>smokes</td>\n",
       "      <td>0</td>\n",
       "    </tr>\n",
       "    <tr>\n",
       "      <th>544</th>\n",
       "      <td>545</td>\n",
       "      <td>Male</td>\n",
       "      <td>42.0</td>\n",
       "      <td>0</td>\n",
       "      <td>0</td>\n",
       "      <td>Yes</td>\n",
       "      <td>Private</td>\n",
       "      <td>Rural</td>\n",
       "      <td>210.48</td>\n",
       "      <td>71.9</td>\n",
       "      <td>never smoked</td>\n",
       "      <td>0</td>\n",
       "    </tr>\n",
       "    <tr>\n",
       "      <th>637</th>\n",
       "      <td>3130</td>\n",
       "      <td>Female</td>\n",
       "      <td>56.0</td>\n",
       "      <td>0</td>\n",
       "      <td>0</td>\n",
       "      <td>Yes</td>\n",
       "      <td>Private</td>\n",
       "      <td>Rural</td>\n",
       "      <td>112.43</td>\n",
       "      <td>54.6</td>\n",
       "      <td>never smoked</td>\n",
       "      <td>0</td>\n",
       "    </tr>\n",
       "    <tr>\n",
       "      <th>662</th>\n",
       "      <td>23551</td>\n",
       "      <td>Male</td>\n",
       "      <td>28.0</td>\n",
       "      <td>0</td>\n",
       "      <td>0</td>\n",
       "      <td>Yes</td>\n",
       "      <td>Private</td>\n",
       "      <td>Urban</td>\n",
       "      <td>87.43</td>\n",
       "      <td>55.7</td>\n",
       "      <td>Unknown</td>\n",
       "      <td>0</td>\n",
       "    </tr>\n",
       "    <tr>\n",
       "      <th>672</th>\n",
       "      <td>31145</td>\n",
       "      <td>Female</td>\n",
       "      <td>17.0</td>\n",
       "      <td>0</td>\n",
       "      <td>0</td>\n",
       "      <td>No</td>\n",
       "      <td>Private</td>\n",
       "      <td>Urban</td>\n",
       "      <td>67.81</td>\n",
       "      <td>55.7</td>\n",
       "      <td>never smoked</td>\n",
       "      <td>0</td>\n",
       "    </tr>\n",
       "    <tr>\n",
       "      <th>715</th>\n",
       "      <td>3590</td>\n",
       "      <td>Female</td>\n",
       "      <td>28.0</td>\n",
       "      <td>1</td>\n",
       "      <td>0</td>\n",
       "      <td>No</td>\n",
       "      <td>Private</td>\n",
       "      <td>Rural</td>\n",
       "      <td>80.40</td>\n",
       "      <td>57.5</td>\n",
       "      <td>never smoked</td>\n",
       "      <td>0</td>\n",
       "    </tr>\n",
       "    <tr>\n",
       "      <th>761</th>\n",
       "      <td>4169</td>\n",
       "      <td>Female</td>\n",
       "      <td>37.0</td>\n",
       "      <td>0</td>\n",
       "      <td>0</td>\n",
       "      <td>No</td>\n",
       "      <td>Private</td>\n",
       "      <td>Rural</td>\n",
       "      <td>92.78</td>\n",
       "      <td>54.2</td>\n",
       "      <td>never smoked</td>\n",
       "      <td>0</td>\n",
       "    </tr>\n",
       "    <tr>\n",
       "      <th>928</th>\n",
       "      <td>41097</td>\n",
       "      <td>Female</td>\n",
       "      <td>23.0</td>\n",
       "      <td>1</td>\n",
       "      <td>0</td>\n",
       "      <td>No</td>\n",
       "      <td>Private</td>\n",
       "      <td>Urban</td>\n",
       "      <td>70.03</td>\n",
       "      <td>78.0</td>\n",
       "      <td>smokes</td>\n",
       "      <td>0</td>\n",
       "    </tr>\n",
       "    <tr>\n",
       "      <th>1061</th>\n",
       "      <td>8332</td>\n",
       "      <td>Female</td>\n",
       "      <td>50.0</td>\n",
       "      <td>0</td>\n",
       "      <td>0</td>\n",
       "      <td>Yes</td>\n",
       "      <td>Private</td>\n",
       "      <td>Rural</td>\n",
       "      <td>206.25</td>\n",
       "      <td>53.4</td>\n",
       "      <td>formerly smoked</td>\n",
       "      <td>0</td>\n",
       "    </tr>\n",
       "    <tr>\n",
       "      <th>1077</th>\n",
       "      <td>15220</td>\n",
       "      <td>Female</td>\n",
       "      <td>53.0</td>\n",
       "      <td>1</td>\n",
       "      <td>0</td>\n",
       "      <td>Yes</td>\n",
       "      <td>Private</td>\n",
       "      <td>Urban</td>\n",
       "      <td>87.03</td>\n",
       "      <td>55.2</td>\n",
       "      <td>formerly smoked</td>\n",
       "      <td>0</td>\n",
       "    </tr>\n",
       "    <tr>\n",
       "      <th>1304</th>\n",
       "      <td>6040</td>\n",
       "      <td>Female</td>\n",
       "      <td>46.0</td>\n",
       "      <td>0</td>\n",
       "      <td>0</td>\n",
       "      <td>No</td>\n",
       "      <td>Private</td>\n",
       "      <td>Rural</td>\n",
       "      <td>79.63</td>\n",
       "      <td>55.0</td>\n",
       "      <td>Unknown</td>\n",
       "      <td>0</td>\n",
       "    </tr>\n",
       "    <tr>\n",
       "      <th>1322</th>\n",
       "      <td>35913</td>\n",
       "      <td>Female</td>\n",
       "      <td>55.0</td>\n",
       "      <td>1</td>\n",
       "      <td>0</td>\n",
       "      <td>Yes</td>\n",
       "      <td>Private</td>\n",
       "      <td>Urban</td>\n",
       "      <td>206.40</td>\n",
       "      <td>54.8</td>\n",
       "      <td>never smoked</td>\n",
       "      <td>0</td>\n",
       "    </tr>\n",
       "    <tr>\n",
       "      <th>1532</th>\n",
       "      <td>19735</td>\n",
       "      <td>Female</td>\n",
       "      <td>59.0</td>\n",
       "      <td>0</td>\n",
       "      <td>0</td>\n",
       "      <td>Yes</td>\n",
       "      <td>Private</td>\n",
       "      <td>Rural</td>\n",
       "      <td>79.18</td>\n",
       "      <td>52.8</td>\n",
       "      <td>formerly smoked</td>\n",
       "      <td>0</td>\n",
       "    </tr>\n",
       "    <tr>\n",
       "      <th>1559</th>\n",
       "      <td>37759</td>\n",
       "      <td>Female</td>\n",
       "      <td>53.0</td>\n",
       "      <td>0</td>\n",
       "      <td>0</td>\n",
       "      <td>Yes</td>\n",
       "      <td>Private</td>\n",
       "      <td>Rural</td>\n",
       "      <td>72.63</td>\n",
       "      <td>66.8</td>\n",
       "      <td>Unknown</td>\n",
       "      <td>0</td>\n",
       "    </tr>\n",
       "    <tr>\n",
       "      <th>1564</th>\n",
       "      <td>3178</td>\n",
       "      <td>Female</td>\n",
       "      <td>25.0</td>\n",
       "      <td>0</td>\n",
       "      <td>0</td>\n",
       "      <td>Yes</td>\n",
       "      <td>Private</td>\n",
       "      <td>Rural</td>\n",
       "      <td>68.78</td>\n",
       "      <td>55.1</td>\n",
       "      <td>formerly smoked</td>\n",
       "      <td>0</td>\n",
       "    </tr>\n",
       "    <tr>\n",
       "      <th>1584</th>\n",
       "      <td>6372</td>\n",
       "      <td>Female</td>\n",
       "      <td>32.0</td>\n",
       "      <td>0</td>\n",
       "      <td>0</td>\n",
       "      <td>Yes</td>\n",
       "      <td>Private</td>\n",
       "      <td>Urban</td>\n",
       "      <td>97.14</td>\n",
       "      <td>55.9</td>\n",
       "      <td>never smoked</td>\n",
       "      <td>0</td>\n",
       "    </tr>\n",
       "    <tr>\n",
       "      <th>1595</th>\n",
       "      <td>2898</td>\n",
       "      <td>Male</td>\n",
       "      <td>46.0</td>\n",
       "      <td>0</td>\n",
       "      <td>0</td>\n",
       "      <td>Yes</td>\n",
       "      <td>Private</td>\n",
       "      <td>Urban</td>\n",
       "      <td>87.66</td>\n",
       "      <td>57.3</td>\n",
       "      <td>never smoked</td>\n",
       "      <td>0</td>\n",
       "    </tr>\n",
       "    <tr>\n",
       "      <th>1660</th>\n",
       "      <td>8960</td>\n",
       "      <td>Female</td>\n",
       "      <td>42.0</td>\n",
       "      <td>0</td>\n",
       "      <td>0</td>\n",
       "      <td>No</td>\n",
       "      <td>Self-employed</td>\n",
       "      <td>Rural</td>\n",
       "      <td>73.41</td>\n",
       "      <td>56.0</td>\n",
       "      <td>smokes</td>\n",
       "      <td>0</td>\n",
       "    </tr>\n",
       "    <tr>\n",
       "      <th>1898</th>\n",
       "      <td>25405</td>\n",
       "      <td>Male</td>\n",
       "      <td>62.0</td>\n",
       "      <td>0</td>\n",
       "      <td>0</td>\n",
       "      <td>Yes</td>\n",
       "      <td>Govt_job</td>\n",
       "      <td>Urban</td>\n",
       "      <td>187.52</td>\n",
       "      <td>57.7</td>\n",
       "      <td>never smoked</td>\n",
       "      <td>0</td>\n",
       "    </tr>\n",
       "    <tr>\n",
       "      <th>2071</th>\n",
       "      <td>61242</td>\n",
       "      <td>Female</td>\n",
       "      <td>41.0</td>\n",
       "      <td>1</td>\n",
       "      <td>0</td>\n",
       "      <td>Yes</td>\n",
       "      <td>Govt_job</td>\n",
       "      <td>Rural</td>\n",
       "      <td>107.50</td>\n",
       "      <td>54.0</td>\n",
       "      <td>never smoked</td>\n",
       "      <td>0</td>\n",
       "    </tr>\n",
       "    <tr>\n",
       "      <th>2081</th>\n",
       "      <td>5355</td>\n",
       "      <td>Male</td>\n",
       "      <td>63.0</td>\n",
       "      <td>0</td>\n",
       "      <td>0</td>\n",
       "      <td>Yes</td>\n",
       "      <td>Govt_job</td>\n",
       "      <td>Rural</td>\n",
       "      <td>231.69</td>\n",
       "      <td>56.1</td>\n",
       "      <td>formerly smoked</td>\n",
       "      <td>0</td>\n",
       "    </tr>\n",
       "    <tr>\n",
       "      <th>2128</th>\n",
       "      <td>56420</td>\n",
       "      <td>Male</td>\n",
       "      <td>17.0</td>\n",
       "      <td>1</td>\n",
       "      <td>0</td>\n",
       "      <td>No</td>\n",
       "      <td>Private</td>\n",
       "      <td>Rural</td>\n",
       "      <td>61.67</td>\n",
       "      <td>97.6</td>\n",
       "      <td>Unknown</td>\n",
       "      <td>0</td>\n",
       "    </tr>\n",
       "    <tr>\n",
       "      <th>2136</th>\n",
       "      <td>59745</td>\n",
       "      <td>Female</td>\n",
       "      <td>27.0</td>\n",
       "      <td>0</td>\n",
       "      <td>0</td>\n",
       "      <td>Yes</td>\n",
       "      <td>Private</td>\n",
       "      <td>Urban</td>\n",
       "      <td>76.74</td>\n",
       "      <td>53.9</td>\n",
       "      <td>Unknown</td>\n",
       "      <td>0</td>\n",
       "    </tr>\n",
       "    <tr>\n",
       "      <th>2330</th>\n",
       "      <td>32365</td>\n",
       "      <td>Male</td>\n",
       "      <td>42.0</td>\n",
       "      <td>0</td>\n",
       "      <td>0</td>\n",
       "      <td>Yes</td>\n",
       "      <td>Private</td>\n",
       "      <td>Rural</td>\n",
       "      <td>89.22</td>\n",
       "      <td>53.8</td>\n",
       "      <td>Unknown</td>\n",
       "      <td>0</td>\n",
       "    </tr>\n",
       "    <tr>\n",
       "      <th>2441</th>\n",
       "      <td>3668</td>\n",
       "      <td>Female</td>\n",
       "      <td>65.0</td>\n",
       "      <td>0</td>\n",
       "      <td>0</td>\n",
       "      <td>Yes</td>\n",
       "      <td>Govt_job</td>\n",
       "      <td>Urban</td>\n",
       "      <td>84.47</td>\n",
       "      <td>52.7</td>\n",
       "      <td>smokes</td>\n",
       "      <td>0</td>\n",
       "    </tr>\n",
       "    <tr>\n",
       "      <th>2545</th>\n",
       "      <td>19504</td>\n",
       "      <td>Female</td>\n",
       "      <td>66.0</td>\n",
       "      <td>0</td>\n",
       "      <td>0</td>\n",
       "      <td>Yes</td>\n",
       "      <td>Private</td>\n",
       "      <td>Rural</td>\n",
       "      <td>87.84</td>\n",
       "      <td>52.8</td>\n",
       "      <td>Unknown</td>\n",
       "      <td>0</td>\n",
       "    </tr>\n",
       "    <tr>\n",
       "      <th>2555</th>\n",
       "      <td>7171</td>\n",
       "      <td>Female</td>\n",
       "      <td>56.0</td>\n",
       "      <td>0</td>\n",
       "      <td>0</td>\n",
       "      <td>Yes</td>\n",
       "      <td>Govt_job</td>\n",
       "      <td>Urban</td>\n",
       "      <td>102.51</td>\n",
       "      <td>55.7</td>\n",
       "      <td>Unknown</td>\n",
       "      <td>0</td>\n",
       "    </tr>\n",
       "    <tr>\n",
       "      <th>2567</th>\n",
       "      <td>65564</td>\n",
       "      <td>Female</td>\n",
       "      <td>48.0</td>\n",
       "      <td>0</td>\n",
       "      <td>0</td>\n",
       "      <td>Yes</td>\n",
       "      <td>Private</td>\n",
       "      <td>Urban</td>\n",
       "      <td>57.43</td>\n",
       "      <td>53.5</td>\n",
       "      <td>formerly smoked</td>\n",
       "      <td>0</td>\n",
       "    </tr>\n",
       "    <tr>\n",
       "      <th>2764</th>\n",
       "      <td>20292</td>\n",
       "      <td>Female</td>\n",
       "      <td>24.0</td>\n",
       "      <td>0</td>\n",
       "      <td>0</td>\n",
       "      <td>Yes</td>\n",
       "      <td>Private</td>\n",
       "      <td>Urban</td>\n",
       "      <td>85.55</td>\n",
       "      <td>63.3</td>\n",
       "      <td>never smoked</td>\n",
       "      <td>0</td>\n",
       "    </tr>\n",
       "    <tr>\n",
       "      <th>2815</th>\n",
       "      <td>50215</td>\n",
       "      <td>Male</td>\n",
       "      <td>42.0</td>\n",
       "      <td>0</td>\n",
       "      <td>0</td>\n",
       "      <td>No</td>\n",
       "      <td>Govt_job</td>\n",
       "      <td>Rural</td>\n",
       "      <td>59.83</td>\n",
       "      <td>52.8</td>\n",
       "      <td>never smoked</td>\n",
       "      <td>0</td>\n",
       "    </tr>\n",
       "    <tr>\n",
       "      <th>2840</th>\n",
       "      <td>65895</td>\n",
       "      <td>Female</td>\n",
       "      <td>52.0</td>\n",
       "      <td>0</td>\n",
       "      <td>0</td>\n",
       "      <td>Yes</td>\n",
       "      <td>Private</td>\n",
       "      <td>Urban</td>\n",
       "      <td>98.27</td>\n",
       "      <td>61.2</td>\n",
       "      <td>Unknown</td>\n",
       "      <td>0</td>\n",
       "    </tr>\n",
       "    <tr>\n",
       "      <th>3060</th>\n",
       "      <td>32604</td>\n",
       "      <td>Male</td>\n",
       "      <td>49.0</td>\n",
       "      <td>0</td>\n",
       "      <td>0</td>\n",
       "      <td>Yes</td>\n",
       "      <td>Self-employed</td>\n",
       "      <td>Rural</td>\n",
       "      <td>215.81</td>\n",
       "      <td>58.1</td>\n",
       "      <td>never smoked</td>\n",
       "      <td>0</td>\n",
       "    </tr>\n",
       "    <tr>\n",
       "      <th>3243</th>\n",
       "      <td>11111</td>\n",
       "      <td>Female</td>\n",
       "      <td>66.0</td>\n",
       "      <td>1</td>\n",
       "      <td>0</td>\n",
       "      <td>Yes</td>\n",
       "      <td>Govt_job</td>\n",
       "      <td>Urban</td>\n",
       "      <td>205.01</td>\n",
       "      <td>52.7</td>\n",
       "      <td>formerly smoked</td>\n",
       "      <td>0</td>\n",
       "    </tr>\n",
       "    <tr>\n",
       "      <th>3508</th>\n",
       "      <td>65154</td>\n",
       "      <td>Female</td>\n",
       "      <td>30.0</td>\n",
       "      <td>0</td>\n",
       "      <td>0</td>\n",
       "      <td>Yes</td>\n",
       "      <td>Private</td>\n",
       "      <td>Urban</td>\n",
       "      <td>112.19</td>\n",
       "      <td>53.4</td>\n",
       "      <td>never smoked</td>\n",
       "      <td>0</td>\n",
       "    </tr>\n",
       "    <tr>\n",
       "      <th>3588</th>\n",
       "      <td>23047</td>\n",
       "      <td>Male</td>\n",
       "      <td>43.0</td>\n",
       "      <td>0</td>\n",
       "      <td>0</td>\n",
       "      <td>Yes</td>\n",
       "      <td>Private</td>\n",
       "      <td>Urban</td>\n",
       "      <td>100.16</td>\n",
       "      <td>59.7</td>\n",
       "      <td>never smoked</td>\n",
       "      <td>0</td>\n",
       "    </tr>\n",
       "    <tr>\n",
       "      <th>3606</th>\n",
       "      <td>14872</td>\n",
       "      <td>Male</td>\n",
       "      <td>45.0</td>\n",
       "      <td>1</td>\n",
       "      <td>0</td>\n",
       "      <td>Yes</td>\n",
       "      <td>Self-employed</td>\n",
       "      <td>Rural</td>\n",
       "      <td>239.19</td>\n",
       "      <td>52.5</td>\n",
       "      <td>Unknown</td>\n",
       "      <td>0</td>\n",
       "    </tr>\n",
       "    <tr>\n",
       "      <th>3688</th>\n",
       "      <td>38575</td>\n",
       "      <td>Male</td>\n",
       "      <td>58.0</td>\n",
       "      <td>1</td>\n",
       "      <td>0</td>\n",
       "      <td>Yes</td>\n",
       "      <td>Self-employed</td>\n",
       "      <td>Rural</td>\n",
       "      <td>209.15</td>\n",
       "      <td>52.9</td>\n",
       "      <td>formerly smoked</td>\n",
       "      <td>0</td>\n",
       "    </tr>\n",
       "    <tr>\n",
       "      <th>3702</th>\n",
       "      <td>7730</td>\n",
       "      <td>Male</td>\n",
       "      <td>31.0</td>\n",
       "      <td>0</td>\n",
       "      <td>0</td>\n",
       "      <td>No</td>\n",
       "      <td>Private</td>\n",
       "      <td>Rural</td>\n",
       "      <td>94.96</td>\n",
       "      <td>54.7</td>\n",
       "      <td>smokes</td>\n",
       "      <td>0</td>\n",
       "    </tr>\n",
       "    <tr>\n",
       "      <th>3825</th>\n",
       "      <td>72784</td>\n",
       "      <td>Female</td>\n",
       "      <td>52.0</td>\n",
       "      <td>0</td>\n",
       "      <td>0</td>\n",
       "      <td>Yes</td>\n",
       "      <td>Private</td>\n",
       "      <td>Rural</td>\n",
       "      <td>118.46</td>\n",
       "      <td>61.6</td>\n",
       "      <td>smokes</td>\n",
       "      <td>0</td>\n",
       "    </tr>\n",
       "    <tr>\n",
       "      <th>3909</th>\n",
       "      <td>4077</td>\n",
       "      <td>Male</td>\n",
       "      <td>49.0</td>\n",
       "      <td>0</td>\n",
       "      <td>0</td>\n",
       "      <td>Yes</td>\n",
       "      <td>Private</td>\n",
       "      <td>Urban</td>\n",
       "      <td>219.70</td>\n",
       "      <td>53.8</td>\n",
       "      <td>Unknown</td>\n",
       "      <td>0</td>\n",
       "    </tr>\n",
       "    <tr>\n",
       "      <th>3931</th>\n",
       "      <td>27660</td>\n",
       "      <td>Female</td>\n",
       "      <td>73.0</td>\n",
       "      <td>1</td>\n",
       "      <td>0</td>\n",
       "      <td>No</td>\n",
       "      <td>Self-employed</td>\n",
       "      <td>Rural</td>\n",
       "      <td>198.30</td>\n",
       "      <td>54.3</td>\n",
       "      <td>formerly smoked</td>\n",
       "      <td>0</td>\n",
       "    </tr>\n",
       "    <tr>\n",
       "      <th>3980</th>\n",
       "      <td>11192</td>\n",
       "      <td>Female</td>\n",
       "      <td>45.0</td>\n",
       "      <td>0</td>\n",
       "      <td>0</td>\n",
       "      <td>Yes</td>\n",
       "      <td>Private</td>\n",
       "      <td>Rural</td>\n",
       "      <td>218.10</td>\n",
       "      <td>55.0</td>\n",
       "      <td>smokes</td>\n",
       "      <td>0</td>\n",
       "    </tr>\n",
       "    <tr>\n",
       "      <th>4154</th>\n",
       "      <td>47668</td>\n",
       "      <td>Female</td>\n",
       "      <td>49.0</td>\n",
       "      <td>0</td>\n",
       "      <td>0</td>\n",
       "      <td>Yes</td>\n",
       "      <td>Private</td>\n",
       "      <td>Rural</td>\n",
       "      <td>125.63</td>\n",
       "      <td>57.2</td>\n",
       "      <td>Unknown</td>\n",
       "      <td>0</td>\n",
       "    </tr>\n",
       "    <tr>\n",
       "      <th>4188</th>\n",
       "      <td>70670</td>\n",
       "      <td>Female</td>\n",
       "      <td>27.0</td>\n",
       "      <td>0</td>\n",
       "      <td>0</td>\n",
       "      <td>Yes</td>\n",
       "      <td>Private</td>\n",
       "      <td>Rural</td>\n",
       "      <td>57.96</td>\n",
       "      <td>64.4</td>\n",
       "      <td>never smoked</td>\n",
       "      <td>0</td>\n",
       "    </tr>\n",
       "    <tr>\n",
       "      <th>4209</th>\n",
       "      <td>51856</td>\n",
       "      <td>Male</td>\n",
       "      <td>38.0</td>\n",
       "      <td>1</td>\n",
       "      <td>0</td>\n",
       "      <td>Yes</td>\n",
       "      <td>Private</td>\n",
       "      <td>Rural</td>\n",
       "      <td>56.90</td>\n",
       "      <td>92.0</td>\n",
       "      <td>never smoked</td>\n",
       "      <td>0</td>\n",
       "    </tr>\n",
       "    <tr>\n",
       "      <th>4225</th>\n",
       "      <td>14658</td>\n",
       "      <td>Female</td>\n",
       "      <td>37.0</td>\n",
       "      <td>0</td>\n",
       "      <td>0</td>\n",
       "      <td>Yes</td>\n",
       "      <td>Private</td>\n",
       "      <td>Rural</td>\n",
       "      <td>77.10</td>\n",
       "      <td>55.9</td>\n",
       "      <td>Unknown</td>\n",
       "      <td>0</td>\n",
       "    </tr>\n",
       "    <tr>\n",
       "      <th>4351</th>\n",
       "      <td>63915</td>\n",
       "      <td>Female</td>\n",
       "      <td>39.0</td>\n",
       "      <td>0</td>\n",
       "      <td>0</td>\n",
       "      <td>Yes</td>\n",
       "      <td>Private</td>\n",
       "      <td>Urban</td>\n",
       "      <td>87.39</td>\n",
       "      <td>57.9</td>\n",
       "      <td>never smoked</td>\n",
       "      <td>0</td>\n",
       "    </tr>\n",
       "    <tr>\n",
       "      <th>4407</th>\n",
       "      <td>49277</td>\n",
       "      <td>Female</td>\n",
       "      <td>34.0</td>\n",
       "      <td>0</td>\n",
       "      <td>0</td>\n",
       "      <td>No</td>\n",
       "      <td>Private</td>\n",
       "      <td>Urban</td>\n",
       "      <td>70.87</td>\n",
       "      <td>55.7</td>\n",
       "      <td>formerly smoked</td>\n",
       "      <td>0</td>\n",
       "    </tr>\n",
       "    <tr>\n",
       "      <th>4475</th>\n",
       "      <td>60675</td>\n",
       "      <td>Female</td>\n",
       "      <td>48.0</td>\n",
       "      <td>1</td>\n",
       "      <td>0</td>\n",
       "      <td>Yes</td>\n",
       "      <td>Govt_job</td>\n",
       "      <td>Rural</td>\n",
       "      <td>221.08</td>\n",
       "      <td>57.2</td>\n",
       "      <td>never smoked</td>\n",
       "      <td>0</td>\n",
       "    </tr>\n",
       "    <tr>\n",
       "      <th>4838</th>\n",
       "      <td>5131</td>\n",
       "      <td>Female</td>\n",
       "      <td>51.0</td>\n",
       "      <td>0</td>\n",
       "      <td>0</td>\n",
       "      <td>Yes</td>\n",
       "      <td>Private</td>\n",
       "      <td>Urban</td>\n",
       "      <td>107.72</td>\n",
       "      <td>60.9</td>\n",
       "      <td>Unknown</td>\n",
       "      <td>0</td>\n",
       "    </tr>\n",
       "    <tr>\n",
       "      <th>4906</th>\n",
       "      <td>72696</td>\n",
       "      <td>Female</td>\n",
       "      <td>53.0</td>\n",
       "      <td>0</td>\n",
       "      <td>0</td>\n",
       "      <td>Yes</td>\n",
       "      <td>Private</td>\n",
       "      <td>Urban</td>\n",
       "      <td>70.51</td>\n",
       "      <td>54.1</td>\n",
       "      <td>never smoked</td>\n",
       "      <td>0</td>\n",
       "    </tr>\n",
       "    <tr>\n",
       "      <th>4952</th>\n",
       "      <td>16245</td>\n",
       "      <td>Male</td>\n",
       "      <td>51.0</td>\n",
       "      <td>1</td>\n",
       "      <td>0</td>\n",
       "      <td>Yes</td>\n",
       "      <td>Self-employed</td>\n",
       "      <td>Rural</td>\n",
       "      <td>211.83</td>\n",
       "      <td>56.6</td>\n",
       "      <td>never smoked</td>\n",
       "      <td>0</td>\n",
       "    </tr>\n",
       "  </tbody>\n",
       "</table>\n",
       "</div>"
      ],
      "text/plain": [
       "         id  gender   age  hypertension  heart_disease ever_married  \\\n",
       "113   41069  Female  45.0             0              0          Yes   \n",
       "258   28674  Female  74.0             1              0          Yes   \n",
       "270   72911  Female  57.0             1              0          Yes   \n",
       "333    1703  Female  52.0             0              0          Yes   \n",
       "358   66333    Male  52.0             0              0          Yes   \n",
       "430   53144  Female  52.0             0              1          Yes   \n",
       "466    1307  Female  61.0             1              0          Yes   \n",
       "544     545    Male  42.0             0              0          Yes   \n",
       "637    3130  Female  56.0             0              0          Yes   \n",
       "662   23551    Male  28.0             0              0          Yes   \n",
       "672   31145  Female  17.0             0              0           No   \n",
       "715    3590  Female  28.0             1              0           No   \n",
       "761    4169  Female  37.0             0              0           No   \n",
       "928   41097  Female  23.0             1              0           No   \n",
       "1061   8332  Female  50.0             0              0          Yes   \n",
       "1077  15220  Female  53.0             1              0          Yes   \n",
       "1304   6040  Female  46.0             0              0           No   \n",
       "1322  35913  Female  55.0             1              0          Yes   \n",
       "1532  19735  Female  59.0             0              0          Yes   \n",
       "1559  37759  Female  53.0             0              0          Yes   \n",
       "1564   3178  Female  25.0             0              0          Yes   \n",
       "1584   6372  Female  32.0             0              0          Yes   \n",
       "1595   2898    Male  46.0             0              0          Yes   \n",
       "1660   8960  Female  42.0             0              0           No   \n",
       "1898  25405    Male  62.0             0              0          Yes   \n",
       "2071  61242  Female  41.0             1              0          Yes   \n",
       "2081   5355    Male  63.0             0              0          Yes   \n",
       "2128  56420    Male  17.0             1              0           No   \n",
       "2136  59745  Female  27.0             0              0          Yes   \n",
       "2330  32365    Male  42.0             0              0          Yes   \n",
       "2441   3668  Female  65.0             0              0          Yes   \n",
       "2545  19504  Female  66.0             0              0          Yes   \n",
       "2555   7171  Female  56.0             0              0          Yes   \n",
       "2567  65564  Female  48.0             0              0          Yes   \n",
       "2764  20292  Female  24.0             0              0          Yes   \n",
       "2815  50215    Male  42.0             0              0           No   \n",
       "2840  65895  Female  52.0             0              0          Yes   \n",
       "3060  32604    Male  49.0             0              0          Yes   \n",
       "3243  11111  Female  66.0             1              0          Yes   \n",
       "3508  65154  Female  30.0             0              0          Yes   \n",
       "3588  23047    Male  43.0             0              0          Yes   \n",
       "3606  14872    Male  45.0             1              0          Yes   \n",
       "3688  38575    Male  58.0             1              0          Yes   \n",
       "3702   7730    Male  31.0             0              0           No   \n",
       "3825  72784  Female  52.0             0              0          Yes   \n",
       "3909   4077    Male  49.0             0              0          Yes   \n",
       "3931  27660  Female  73.0             1              0           No   \n",
       "3980  11192  Female  45.0             0              0          Yes   \n",
       "4154  47668  Female  49.0             0              0          Yes   \n",
       "4188  70670  Female  27.0             0              0          Yes   \n",
       "4209  51856    Male  38.0             1              0          Yes   \n",
       "4225  14658  Female  37.0             0              0          Yes   \n",
       "4351  63915  Female  39.0             0              0          Yes   \n",
       "4407  49277  Female  34.0             0              0           No   \n",
       "4475  60675  Female  48.0             1              0          Yes   \n",
       "4838   5131  Female  51.0             0              0          Yes   \n",
       "4906  72696  Female  53.0             0              0          Yes   \n",
       "4952  16245    Male  51.0             1              0          Yes   \n",
       "\n",
       "          work_type Residence_type  avg_glucose_level   bmi   smoking_status  \\\n",
       "113         Private          Rural             224.10  56.6     never smoked   \n",
       "258   Self-employed          Urban             205.84  54.6     never smoked   \n",
       "270         Private          Rural             129.54  60.9           smokes   \n",
       "333         Private          Urban              82.24  54.7  formerly smoked   \n",
       "358   Self-employed          Urban              78.40  64.8     never smoked   \n",
       "430         Private          Urban              72.79  54.7     never smoked   \n",
       "466         Private          Rural             170.05  60.2           smokes   \n",
       "544         Private          Rural             210.48  71.9     never smoked   \n",
       "637         Private          Rural             112.43  54.6     never smoked   \n",
       "662         Private          Urban              87.43  55.7          Unknown   \n",
       "672         Private          Urban              67.81  55.7     never smoked   \n",
       "715         Private          Rural              80.40  57.5     never smoked   \n",
       "761         Private          Rural              92.78  54.2     never smoked   \n",
       "928         Private          Urban              70.03  78.0           smokes   \n",
       "1061        Private          Rural             206.25  53.4  formerly smoked   \n",
       "1077        Private          Urban              87.03  55.2  formerly smoked   \n",
       "1304        Private          Rural              79.63  55.0          Unknown   \n",
       "1322        Private          Urban             206.40  54.8     never smoked   \n",
       "1532        Private          Rural              79.18  52.8  formerly smoked   \n",
       "1559        Private          Rural              72.63  66.8          Unknown   \n",
       "1564        Private          Rural              68.78  55.1  formerly smoked   \n",
       "1584        Private          Urban              97.14  55.9     never smoked   \n",
       "1595        Private          Urban              87.66  57.3     never smoked   \n",
       "1660  Self-employed          Rural              73.41  56.0           smokes   \n",
       "1898       Govt_job          Urban             187.52  57.7     never smoked   \n",
       "2071       Govt_job          Rural             107.50  54.0     never smoked   \n",
       "2081       Govt_job          Rural             231.69  56.1  formerly smoked   \n",
       "2128        Private          Rural              61.67  97.6          Unknown   \n",
       "2136        Private          Urban              76.74  53.9          Unknown   \n",
       "2330        Private          Rural              89.22  53.8          Unknown   \n",
       "2441       Govt_job          Urban              84.47  52.7           smokes   \n",
       "2545        Private          Rural              87.84  52.8          Unknown   \n",
       "2555       Govt_job          Urban             102.51  55.7          Unknown   \n",
       "2567        Private          Urban              57.43  53.5  formerly smoked   \n",
       "2764        Private          Urban              85.55  63.3     never smoked   \n",
       "2815       Govt_job          Rural              59.83  52.8     never smoked   \n",
       "2840        Private          Urban              98.27  61.2          Unknown   \n",
       "3060  Self-employed          Rural             215.81  58.1     never smoked   \n",
       "3243       Govt_job          Urban             205.01  52.7  formerly smoked   \n",
       "3508        Private          Urban             112.19  53.4     never smoked   \n",
       "3588        Private          Urban             100.16  59.7     never smoked   \n",
       "3606  Self-employed          Rural             239.19  52.5          Unknown   \n",
       "3688  Self-employed          Rural             209.15  52.9  formerly smoked   \n",
       "3702        Private          Rural              94.96  54.7           smokes   \n",
       "3825        Private          Rural             118.46  61.6           smokes   \n",
       "3909        Private          Urban             219.70  53.8          Unknown   \n",
       "3931  Self-employed          Rural             198.30  54.3  formerly smoked   \n",
       "3980        Private          Rural             218.10  55.0           smokes   \n",
       "4154        Private          Rural             125.63  57.2          Unknown   \n",
       "4188        Private          Rural              57.96  64.4     never smoked   \n",
       "4209        Private          Rural              56.90  92.0     never smoked   \n",
       "4225        Private          Rural              77.10  55.9          Unknown   \n",
       "4351        Private          Urban              87.39  57.9     never smoked   \n",
       "4407        Private          Urban              70.87  55.7  formerly smoked   \n",
       "4475       Govt_job          Rural             221.08  57.2     never smoked   \n",
       "4838        Private          Urban             107.72  60.9          Unknown   \n",
       "4906        Private          Urban              70.51  54.1     never smoked   \n",
       "4952  Self-employed          Rural             211.83  56.6     never smoked   \n",
       "\n",
       "      stroke  \n",
       "113        1  \n",
       "258        0  \n",
       "270        0  \n",
       "333        0  \n",
       "358        0  \n",
       "430        0  \n",
       "466        0  \n",
       "544        0  \n",
       "637        0  \n",
       "662        0  \n",
       "672        0  \n",
       "715        0  \n",
       "761        0  \n",
       "928        0  \n",
       "1061       0  \n",
       "1077       0  \n",
       "1304       0  \n",
       "1322       0  \n",
       "1532       0  \n",
       "1559       0  \n",
       "1564       0  \n",
       "1584       0  \n",
       "1595       0  \n",
       "1660       0  \n",
       "1898       0  \n",
       "2071       0  \n",
       "2081       0  \n",
       "2128       0  \n",
       "2136       0  \n",
       "2330       0  \n",
       "2441       0  \n",
       "2545       0  \n",
       "2555       0  \n",
       "2567       0  \n",
       "2764       0  \n",
       "2815       0  \n",
       "2840       0  \n",
       "3060       0  \n",
       "3243       0  \n",
       "3508       0  \n",
       "3588       0  \n",
       "3606       0  \n",
       "3688       0  \n",
       "3702       0  \n",
       "3825       0  \n",
       "3909       0  \n",
       "3931       0  \n",
       "3980       0  \n",
       "4154       0  \n",
       "4188       0  \n",
       "4209       0  \n",
       "4225       0  \n",
       "4351       0  \n",
       "4407       0  \n",
       "4475       0  \n",
       "4838       0  \n",
       "4906       0  \n",
       "4952       0  "
      ]
     },
     "execution_count": 159,
     "metadata": {},
     "output_type": "execute_result"
    }
   ],
   "source": [
    "ford[ford['bmi'] > 52.45615973942819]"
   ]
  },
  {
   "cell_type": "code",
   "execution_count": 160,
   "metadata": {
    "id": "y0mZJd9l8B01"
   },
   "outputs": [],
   "source": [
    "ford.drop(index = ford[ford['bmi'] > 52.45615973942819].index, axis = 0, inplace = True)"
   ]
  },
  {
   "cell_type": "code",
   "execution_count": 161,
   "metadata": {
    "colab": {
     "base_uri": "https://localhost:8080/"
    },
    "id": "mvKhk-V885CZ",
    "outputId": "07f94f33-b438-424c-f1c0-7243dc19cb88"
   },
   "outputs": [
    {
     "data": {
      "text/plain": [
       "(4980, 12)"
      ]
     },
     "execution_count": 161,
     "metadata": {},
     "output_type": "execute_result"
    }
   ],
   "source": [
    "ford.shape"
   ]
  },
  {
   "cell_type": "code",
   "execution_count": 162,
   "metadata": {
    "colab": {
     "base_uri": "https://localhost:8080/"
    },
    "id": "Uly4rpo185Fn",
    "outputId": "ccc84558-8d09-4557-c688-d067934a0c3c"
   },
   "outputs": [
    {
     "data": {
      "text/plain": [
       "id                     0\n",
       "gender                 0\n",
       "age                    0\n",
       "hypertension           0\n",
       "heart_disease          0\n",
       "ever_married           0\n",
       "work_type              0\n",
       "Residence_type         0\n",
       "avg_glucose_level      0\n",
       "bmi                  196\n",
       "smoking_status         0\n",
       "stroke                 0\n",
       "dtype: int64"
      ]
     },
     "execution_count": 162,
     "metadata": {},
     "output_type": "execute_result"
    }
   ],
   "source": [
    "ford.isnull().sum()"
   ]
  },
  {
   "cell_type": "code",
   "execution_count": 163,
   "metadata": {
    "colab": {
     "base_uri": "https://localhost:8080/"
    },
    "id": "46lL3JSx85I5",
    "outputId": "3b345fbf-ae28-46c9-c234-f00537a11733"
   },
   "outputs": [
    {
     "data": {
      "text/plain": [
       "28.681291806020063"
      ]
     },
     "execution_count": 163,
     "metadata": {},
     "output_type": "execute_result"
    }
   ],
   "source": [
    "ford['bmi'].mean()"
   ]
  },
  {
   "cell_type": "code",
   "execution_count": 164,
   "metadata": {
    "id": "G_SNe4ec85Nq"
   },
   "outputs": [],
   "source": [
    "ford['bmi'].fillna(ford['bmi'].mean(), inplace = True)"
   ]
  },
  {
   "cell_type": "code",
   "execution_count": 165,
   "metadata": {
    "colab": {
     "base_uri": "https://localhost:8080/"
    },
    "id": "jGrTDqYH85Qu",
    "outputId": "ef2f7eec-4f96-4839-f248-f1d3d171f307"
   },
   "outputs": [
    {
     "data": {
      "text/plain": [
       "0"
      ]
     },
     "execution_count": 165,
     "metadata": {},
     "output_type": "execute_result"
    }
   ],
   "source": [
    "ford['bmi'].isnull().sum()"
   ]
  },
  {
   "cell_type": "code",
   "execution_count": 166,
   "metadata": {
    "colab": {
     "base_uri": "https://localhost:8080/"
    },
    "id": "9-1JVgQZ_iK7",
    "outputId": "060d631c-6eb0-4012-a97e-bda47afef142"
   },
   "outputs": [
    {
     "data": {
      "text/plain": [
       "0       formerly smoked\n",
       "1          never smoked\n",
       "2          never smoked\n",
       "3                smokes\n",
       "4          never smoked\n",
       "             ...       \n",
       "5105       never smoked\n",
       "5106       never smoked\n",
       "5107       never smoked\n",
       "5108    formerly smoked\n",
       "5109       never smoked\n",
       "Name: smoking_status, Length: 4980, dtype: object"
      ]
     },
     "execution_count": 166,
     "metadata": {},
     "output_type": "execute_result"
    }
   ],
   "source": [
    "ford['smoking_status'].replace('Unknown', 'never smoked')"
   ]
  },
  {
   "cell_type": "code",
   "execution_count": 167,
   "metadata": {
    "colab": {
     "base_uri": "https://localhost:8080/"
    },
    "id": "3Ogn9mJM9nxt",
    "outputId": "ff5fccdc-9724-4adb-9036-0b952df28621"
   },
   "outputs": [
    {
     "name": "stdout",
     "output_type": "stream",
     "text": [
      "<class 'pandas.core.frame.DataFrame'>\n",
      "Int64Index: 4980 entries, 0 to 5109\n",
      "Data columns (total 12 columns):\n",
      " #   Column             Non-Null Count  Dtype  \n",
      "---  ------             --------------  -----  \n",
      " 0   id                 4980 non-null   int64  \n",
      " 1   gender             4980 non-null   object \n",
      " 2   age                4980 non-null   float64\n",
      " 3   hypertension       4980 non-null   int64  \n",
      " 4   heart_disease      4980 non-null   int64  \n",
      " 5   ever_married       4980 non-null   object \n",
      " 6   work_type          4980 non-null   object \n",
      " 7   Residence_type     4980 non-null   object \n",
      " 8   avg_glucose_level  4980 non-null   float64\n",
      " 9   bmi                4980 non-null   float64\n",
      " 10  smoking_status     4980 non-null   object \n",
      " 11  stroke             4980 non-null   int64  \n",
      "dtypes: float64(3), int64(4), object(5)\n",
      "memory usage: 505.8+ KB\n"
     ]
    }
   ],
   "source": [
    "ford.info()"
   ]
  },
  {
   "cell_type": "code",
   "execution_count": 168,
   "metadata": {
    "id": "BZA96yUR85TD"
   },
   "outputs": [],
   "source": [
    "ford.drop(columns = ['id'], axis=1, inplace = True)"
   ]
  },
  {
   "cell_type": "code",
   "execution_count": 169,
   "metadata": {
    "id": "XFQYI0gu85Z1"
   },
   "outputs": [],
   "source": [
    "ford['smoking_status'].replace({'Unknown':'never smoked'}, inplace = True)"
   ]
  },
  {
   "cell_type": "code",
   "execution_count": 170,
   "metadata": {
    "id": "ZRxTSJE-AChQ"
   },
   "outputs": [],
   "source": [
    "ford['gender'] = ford['gender'].map(mapping)"
   ]
  },
  {
   "cell_type": "code",
   "execution_count": 171,
   "metadata": {
    "id": "2heRvW25AsLf"
   },
   "outputs": [],
   "source": [
    "ford['ever_married'] = ford['ever_married'].map(mapping1)"
   ]
  },
  {
   "cell_type": "code",
   "execution_count": 172,
   "metadata": {
    "id": "_3tQvd30AsOu"
   },
   "outputs": [],
   "source": [
    "ford['smoking_status'] = ford['smoking_status'].map(mapping2)"
   ]
  },
  {
   "cell_type": "code",
   "execution_count": 173,
   "metadata": {
    "colab": {
     "base_uri": "https://localhost:8080/",
     "height": 196
    },
    "id": "H6lgV4LdAsSB",
    "outputId": "d309e446-11e8-47af-85cf-72125e731c85"
   },
   "outputs": [
    {
     "data": {
      "text/html": [
       "<div>\n",
       "<style scoped>\n",
       "    .dataframe tbody tr th:only-of-type {\n",
       "        vertical-align: middle;\n",
       "    }\n",
       "\n",
       "    .dataframe tbody tr th {\n",
       "        vertical-align: top;\n",
       "    }\n",
       "\n",
       "    .dataframe thead th {\n",
       "        text-align: right;\n",
       "    }\n",
       "</style>\n",
       "<table border=\"1\" class=\"dataframe\">\n",
       "  <thead>\n",
       "    <tr style=\"text-align: right;\">\n",
       "      <th></th>\n",
       "      <th>gender</th>\n",
       "      <th>smoking_status</th>\n",
       "      <th>ever_married</th>\n",
       "    </tr>\n",
       "  </thead>\n",
       "  <tbody>\n",
       "    <tr>\n",
       "      <th>0</th>\n",
       "      <td>2</td>\n",
       "      <td>1</td>\n",
       "      <td>1</td>\n",
       "    </tr>\n",
       "    <tr>\n",
       "      <th>1</th>\n",
       "      <td>1</td>\n",
       "      <td>0</td>\n",
       "      <td>1</td>\n",
       "    </tr>\n",
       "    <tr>\n",
       "      <th>2</th>\n",
       "      <td>2</td>\n",
       "      <td>0</td>\n",
       "      <td>1</td>\n",
       "    </tr>\n",
       "    <tr>\n",
       "      <th>3</th>\n",
       "      <td>1</td>\n",
       "      <td>2</td>\n",
       "      <td>1</td>\n",
       "    </tr>\n",
       "    <tr>\n",
       "      <th>4</th>\n",
       "      <td>1</td>\n",
       "      <td>0</td>\n",
       "      <td>1</td>\n",
       "    </tr>\n",
       "  </tbody>\n",
       "</table>\n",
       "</div>"
      ],
      "text/plain": [
       "   gender  smoking_status  ever_married\n",
       "0       2               1             1\n",
       "1       1               0             1\n",
       "2       2               0             1\n",
       "3       1               2             1\n",
       "4       1               0             1"
      ]
     },
     "execution_count": 173,
     "metadata": {},
     "output_type": "execute_result"
    }
   ],
   "source": [
    "ford[['gender', 'smoking_status', 'ever_married']].head()"
   ]
  },
  {
   "cell_type": "code",
   "execution_count": 174,
   "metadata": {
    "colab": {
     "base_uri": "https://localhost:8080/"
    },
    "id": "NLe35XC5AsW1",
    "outputId": "c4cb7641-35b7-4319-95a4-161ac2ea4364"
   },
   "outputs": [
    {
     "data": {
      "text/plain": [
       "array(['Private', 'Self-employed', 'Govt_job', 'children', 'Never_worked'],\n",
       "      dtype=object)"
      ]
     },
     "execution_count": 174,
     "metadata": {},
     "output_type": "execute_result"
    }
   ],
   "source": [
    "ford['work_type'].unique()"
   ]
  },
  {
   "cell_type": "code",
   "execution_count": 175,
   "metadata": {
    "colab": {
     "base_uri": "https://localhost:8080/"
    },
    "id": "VM3401BkAsai",
    "outputId": "831f8355-125e-42a6-ee22-9dcb95c5c71a"
   },
   "outputs": [
    {
     "data": {
      "text/plain": [
       "array(['Urban', 'Rural'], dtype=object)"
      ]
     },
     "execution_count": 175,
     "metadata": {},
     "output_type": "execute_result"
    }
   ],
   "source": [
    "ford['Residence_type'].unique()"
   ]
  },
  {
   "cell_type": "code",
   "execution_count": 176,
   "metadata": {
    "id": "9IcBNrz2Asd1"
   },
   "outputs": [],
   "source": [
    "ford['home_town'] = pd.get_dummies(ford['Residence_type'], drop_first = True)"
   ]
  },
  {
   "cell_type": "code",
   "execution_count": 177,
   "metadata": {
    "id": "Hw2qlgWIBnbU"
   },
   "outputs": [],
   "source": [
    "rap = pd.get_dummies(ford['work_type'], drop_first = True)"
   ]
  },
  {
   "cell_type": "code",
   "execution_count": 178,
   "metadata": {
    "id": "ySFHY0QtBneu"
   },
   "outputs": [],
   "source": [
    "cam = pd.concat([ford,rap], axis = 1)"
   ]
  },
  {
   "cell_type": "code",
   "execution_count": 179,
   "metadata": {
    "colab": {
     "base_uri": "https://localhost:8080/",
     "height": 266
    },
    "id": "zKVUGR5YBnjy",
    "outputId": "056dbd2a-cfcf-4707-d9d6-ac9609dd2367"
   },
   "outputs": [
    {
     "data": {
      "text/html": [
       "<div>\n",
       "<style scoped>\n",
       "    .dataframe tbody tr th:only-of-type {\n",
       "        vertical-align: middle;\n",
       "    }\n",
       "\n",
       "    .dataframe tbody tr th {\n",
       "        vertical-align: top;\n",
       "    }\n",
       "\n",
       "    .dataframe thead th {\n",
       "        text-align: right;\n",
       "    }\n",
       "</style>\n",
       "<table border=\"1\" class=\"dataframe\">\n",
       "  <thead>\n",
       "    <tr style=\"text-align: right;\">\n",
       "      <th></th>\n",
       "      <th>gender</th>\n",
       "      <th>age</th>\n",
       "      <th>hypertension</th>\n",
       "      <th>heart_disease</th>\n",
       "      <th>ever_married</th>\n",
       "      <th>work_type</th>\n",
       "      <th>Residence_type</th>\n",
       "      <th>avg_glucose_level</th>\n",
       "      <th>bmi</th>\n",
       "      <th>smoking_status</th>\n",
       "      <th>stroke</th>\n",
       "      <th>home_town</th>\n",
       "      <th>Never_worked</th>\n",
       "      <th>Private</th>\n",
       "      <th>Self-employed</th>\n",
       "      <th>children</th>\n",
       "    </tr>\n",
       "  </thead>\n",
       "  <tbody>\n",
       "    <tr>\n",
       "      <th>0</th>\n",
       "      <td>2</td>\n",
       "      <td>67.0</td>\n",
       "      <td>0</td>\n",
       "      <td>1</td>\n",
       "      <td>1</td>\n",
       "      <td>Private</td>\n",
       "      <td>Urban</td>\n",
       "      <td>228.69</td>\n",
       "      <td>36.600000</td>\n",
       "      <td>1</td>\n",
       "      <td>1</td>\n",
       "      <td>1</td>\n",
       "      <td>0</td>\n",
       "      <td>1</td>\n",
       "      <td>0</td>\n",
       "      <td>0</td>\n",
       "    </tr>\n",
       "    <tr>\n",
       "      <th>1</th>\n",
       "      <td>1</td>\n",
       "      <td>61.0</td>\n",
       "      <td>0</td>\n",
       "      <td>0</td>\n",
       "      <td>1</td>\n",
       "      <td>Self-employed</td>\n",
       "      <td>Rural</td>\n",
       "      <td>202.21</td>\n",
       "      <td>28.681292</td>\n",
       "      <td>0</td>\n",
       "      <td>1</td>\n",
       "      <td>0</td>\n",
       "      <td>0</td>\n",
       "      <td>0</td>\n",
       "      <td>1</td>\n",
       "      <td>0</td>\n",
       "    </tr>\n",
       "    <tr>\n",
       "      <th>2</th>\n",
       "      <td>2</td>\n",
       "      <td>80.0</td>\n",
       "      <td>0</td>\n",
       "      <td>1</td>\n",
       "      <td>1</td>\n",
       "      <td>Private</td>\n",
       "      <td>Rural</td>\n",
       "      <td>105.92</td>\n",
       "      <td>32.500000</td>\n",
       "      <td>0</td>\n",
       "      <td>1</td>\n",
       "      <td>0</td>\n",
       "      <td>0</td>\n",
       "      <td>1</td>\n",
       "      <td>0</td>\n",
       "      <td>0</td>\n",
       "    </tr>\n",
       "    <tr>\n",
       "      <th>3</th>\n",
       "      <td>1</td>\n",
       "      <td>49.0</td>\n",
       "      <td>0</td>\n",
       "      <td>0</td>\n",
       "      <td>1</td>\n",
       "      <td>Private</td>\n",
       "      <td>Urban</td>\n",
       "      <td>171.23</td>\n",
       "      <td>34.400000</td>\n",
       "      <td>2</td>\n",
       "      <td>1</td>\n",
       "      <td>1</td>\n",
       "      <td>0</td>\n",
       "      <td>1</td>\n",
       "      <td>0</td>\n",
       "      <td>0</td>\n",
       "    </tr>\n",
       "    <tr>\n",
       "      <th>4</th>\n",
       "      <td>1</td>\n",
       "      <td>79.0</td>\n",
       "      <td>1</td>\n",
       "      <td>0</td>\n",
       "      <td>1</td>\n",
       "      <td>Self-employed</td>\n",
       "      <td>Rural</td>\n",
       "      <td>174.12</td>\n",
       "      <td>24.000000</td>\n",
       "      <td>0</td>\n",
       "      <td>1</td>\n",
       "      <td>0</td>\n",
       "      <td>0</td>\n",
       "      <td>0</td>\n",
       "      <td>1</td>\n",
       "      <td>0</td>\n",
       "    </tr>\n",
       "  </tbody>\n",
       "</table>\n",
       "</div>"
      ],
      "text/plain": [
       "   gender   age  hypertension  heart_disease  ever_married      work_type  \\\n",
       "0       2  67.0             0              1             1        Private   \n",
       "1       1  61.0             0              0             1  Self-employed   \n",
       "2       2  80.0             0              1             1        Private   \n",
       "3       1  49.0             0              0             1        Private   \n",
       "4       1  79.0             1              0             1  Self-employed   \n",
       "\n",
       "  Residence_type  avg_glucose_level        bmi  smoking_status  stroke  \\\n",
       "0          Urban             228.69  36.600000               1       1   \n",
       "1          Rural             202.21  28.681292               0       1   \n",
       "2          Rural             105.92  32.500000               0       1   \n",
       "3          Urban             171.23  34.400000               2       1   \n",
       "4          Rural             174.12  24.000000               0       1   \n",
       "\n",
       "   home_town  Never_worked  Private  Self-employed  children  \n",
       "0          1             0        1              0         0  \n",
       "1          0             0        0              1         0  \n",
       "2          0             0        1              0         0  \n",
       "3          1             0        1              0         0  \n",
       "4          0             0        0              1         0  "
      ]
     },
     "execution_count": 179,
     "metadata": {},
     "output_type": "execute_result"
    }
   ],
   "source": [
    "cam.head()"
   ]
  },
  {
   "cell_type": "code",
   "execution_count": 180,
   "metadata": {
    "id": "3RJ4LHD1B6-9"
   },
   "outputs": [],
   "source": [
    "cam.rename(columns = {'Never_worked':'w_t_n_w', 'Private':'w_t_p', 'Self-employed':'w_t_s_e', 'children':'w_t_c'}, inplace = True)"
   ]
  },
  {
   "cell_type": "code",
   "execution_count": 181,
   "metadata": {
    "id": "lfUr67ZPB7DD"
   },
   "outputs": [],
   "source": [
    "cam.drop(columns = ['work_type','Residence_type'], inplace = True)"
   ]
  },
  {
   "cell_type": "code",
   "execution_count": 182,
   "metadata": {
    "colab": {
     "base_uri": "https://localhost:8080/",
     "height": 196
    },
    "id": "7jjkdE-PB7G0",
    "outputId": "acdf4e2c-c3fa-487d-98ed-7b41ca9b8321"
   },
   "outputs": [
    {
     "data": {
      "text/html": [
       "<div>\n",
       "<style scoped>\n",
       "    .dataframe tbody tr th:only-of-type {\n",
       "        vertical-align: middle;\n",
       "    }\n",
       "\n",
       "    .dataframe tbody tr th {\n",
       "        vertical-align: top;\n",
       "    }\n",
       "\n",
       "    .dataframe thead th {\n",
       "        text-align: right;\n",
       "    }\n",
       "</style>\n",
       "<table border=\"1\" class=\"dataframe\">\n",
       "  <thead>\n",
       "    <tr style=\"text-align: right;\">\n",
       "      <th></th>\n",
       "      <th>gender</th>\n",
       "      <th>age</th>\n",
       "      <th>hypertension</th>\n",
       "      <th>heart_disease</th>\n",
       "      <th>ever_married</th>\n",
       "      <th>avg_glucose_level</th>\n",
       "      <th>bmi</th>\n",
       "      <th>smoking_status</th>\n",
       "      <th>stroke</th>\n",
       "      <th>home_town</th>\n",
       "      <th>w_t_n_w</th>\n",
       "      <th>w_t_p</th>\n",
       "      <th>w_t_s_e</th>\n",
       "      <th>w_t_c</th>\n",
       "    </tr>\n",
       "  </thead>\n",
       "  <tbody>\n",
       "    <tr>\n",
       "      <th>0</th>\n",
       "      <td>2</td>\n",
       "      <td>67.0</td>\n",
       "      <td>0</td>\n",
       "      <td>1</td>\n",
       "      <td>1</td>\n",
       "      <td>228.69</td>\n",
       "      <td>36.600000</td>\n",
       "      <td>1</td>\n",
       "      <td>1</td>\n",
       "      <td>1</td>\n",
       "      <td>0</td>\n",
       "      <td>1</td>\n",
       "      <td>0</td>\n",
       "      <td>0</td>\n",
       "    </tr>\n",
       "    <tr>\n",
       "      <th>1</th>\n",
       "      <td>1</td>\n",
       "      <td>61.0</td>\n",
       "      <td>0</td>\n",
       "      <td>0</td>\n",
       "      <td>1</td>\n",
       "      <td>202.21</td>\n",
       "      <td>28.681292</td>\n",
       "      <td>0</td>\n",
       "      <td>1</td>\n",
       "      <td>0</td>\n",
       "      <td>0</td>\n",
       "      <td>0</td>\n",
       "      <td>1</td>\n",
       "      <td>0</td>\n",
       "    </tr>\n",
       "    <tr>\n",
       "      <th>2</th>\n",
       "      <td>2</td>\n",
       "      <td>80.0</td>\n",
       "      <td>0</td>\n",
       "      <td>1</td>\n",
       "      <td>1</td>\n",
       "      <td>105.92</td>\n",
       "      <td>32.500000</td>\n",
       "      <td>0</td>\n",
       "      <td>1</td>\n",
       "      <td>0</td>\n",
       "      <td>0</td>\n",
       "      <td>1</td>\n",
       "      <td>0</td>\n",
       "      <td>0</td>\n",
       "    </tr>\n",
       "    <tr>\n",
       "      <th>3</th>\n",
       "      <td>1</td>\n",
       "      <td>49.0</td>\n",
       "      <td>0</td>\n",
       "      <td>0</td>\n",
       "      <td>1</td>\n",
       "      <td>171.23</td>\n",
       "      <td>34.400000</td>\n",
       "      <td>2</td>\n",
       "      <td>1</td>\n",
       "      <td>1</td>\n",
       "      <td>0</td>\n",
       "      <td>1</td>\n",
       "      <td>0</td>\n",
       "      <td>0</td>\n",
       "    </tr>\n",
       "    <tr>\n",
       "      <th>4</th>\n",
       "      <td>1</td>\n",
       "      <td>79.0</td>\n",
       "      <td>1</td>\n",
       "      <td>0</td>\n",
       "      <td>1</td>\n",
       "      <td>174.12</td>\n",
       "      <td>24.000000</td>\n",
       "      <td>0</td>\n",
       "      <td>1</td>\n",
       "      <td>0</td>\n",
       "      <td>0</td>\n",
       "      <td>0</td>\n",
       "      <td>1</td>\n",
       "      <td>0</td>\n",
       "    </tr>\n",
       "  </tbody>\n",
       "</table>\n",
       "</div>"
      ],
      "text/plain": [
       "   gender   age  hypertension  heart_disease  ever_married  avg_glucose_level  \\\n",
       "0       2  67.0             0              1             1             228.69   \n",
       "1       1  61.0             0              0             1             202.21   \n",
       "2       2  80.0             0              1             1             105.92   \n",
       "3       1  49.0             0              0             1             171.23   \n",
       "4       1  79.0             1              0             1             174.12   \n",
       "\n",
       "         bmi  smoking_status  stroke  home_town  w_t_n_w  w_t_p  w_t_s_e  \\\n",
       "0  36.600000               1       1          1        0      1        0   \n",
       "1  28.681292               0       1          0        0      0        1   \n",
       "2  32.500000               0       1          0        0      1        0   \n",
       "3  34.400000               2       1          1        0      1        0   \n",
       "4  24.000000               0       1          0        0      0        1   \n",
       "\n",
       "   w_t_c  \n",
       "0      0  \n",
       "1      0  \n",
       "2      0  \n",
       "3      0  \n",
       "4      0  "
      ]
     },
     "execution_count": 182,
     "metadata": {},
     "output_type": "execute_result"
    }
   ],
   "source": [
    "cam.head()"
   ]
  },
  {
   "cell_type": "code",
   "execution_count": null,
   "metadata": {
    "id": "JqOW47-aJ--3"
   },
   "outputs": [],
   "source": []
  },
  {
   "cell_type": "code",
   "execution_count": 183,
   "metadata": {
    "id": "ZKhf4BgGB7K7"
   },
   "outputs": [],
   "source": [
    "target = cam['stroke']\n",
    "original = cam.drop(columns = ['stroke'])"
   ]
  },
  {
   "cell_type": "code",
   "execution_count": 184,
   "metadata": {
    "id": "MwPnVsI7J6xt"
   },
   "outputs": [],
   "source": [
    "resampled_x,resampled_y = so.fit_resample(original,target.values.ravel())\n",
    "pitt = pd.DataFrame(data = resampled_x, columns=original.columns)"
   ]
  },
  {
   "cell_type": "code",
   "execution_count": 185,
   "metadata": {
    "colab": {
     "base_uri": "https://localhost:8080/"
    },
    "id": "YSoF4RupKTMy",
    "outputId": "312cc984-d2db-4efd-c495-7425997ddd49"
   },
   "outputs": [
    {
     "name": "stdout",
     "output_type": "stream",
     "text": [
      "Before Resampling Target_Variable: \n",
      "0    4733\n",
      "1     247\n",
      "Name: stroke, dtype: int64\n",
      "After Resampling Target_Variable:\n",
      "1    4733\n",
      "0    4733\n",
      "Name: 0, dtype: int64\n"
     ]
    }
   ],
   "source": [
    "#Before resampling\n",
    "print(\"Before Resampling Target_Variable: \")\n",
    "print(target.value_counts())\n",
    "\n",
    "# After resampling\n",
    "resampled_y = pd.DataFrame(resampled_y)\n",
    "print(\"After Resampling Target_Variable:\")\n",
    "print(resampled_y[0].value_counts())"
   ]
  },
  {
   "cell_type": "code",
   "execution_count": null,
   "metadata": {
    "id": "CgXFAV9yKTQF"
   },
   "outputs": [],
   "source": []
  },
  {
   "cell_type": "code",
   "execution_count": 186,
   "metadata": {
    "id": "C9WPS1D-DCj8"
   },
   "outputs": [],
   "source": [
    "fish = se.fit_transform(resampled_x)\n",
    "lucas = pd.DataFrame(data = fish, columns = original.columns)"
   ]
  },
  {
   "cell_type": "code",
   "execution_count": 187,
   "metadata": {
    "colab": {
     "base_uri": "https://localhost:8080/",
     "height": 196
    },
    "id": "3LcYqxVBDCnZ",
    "outputId": "0cdd1800-79b4-4dd7-c4fd-f55f373eb2d1"
   },
   "outputs": [
    {
     "data": {
      "text/html": [
       "<div>\n",
       "<style scoped>\n",
       "    .dataframe tbody tr th:only-of-type {\n",
       "        vertical-align: middle;\n",
       "    }\n",
       "\n",
       "    .dataframe tbody tr th {\n",
       "        vertical-align: top;\n",
       "    }\n",
       "\n",
       "    .dataframe thead th {\n",
       "        text-align: right;\n",
       "    }\n",
       "</style>\n",
       "<table border=\"1\" class=\"dataframe\">\n",
       "  <thead>\n",
       "    <tr style=\"text-align: right;\">\n",
       "      <th></th>\n",
       "      <th>gender</th>\n",
       "      <th>age</th>\n",
       "      <th>hypertension</th>\n",
       "      <th>heart_disease</th>\n",
       "      <th>ever_married</th>\n",
       "      <th>avg_glucose_level</th>\n",
       "      <th>bmi</th>\n",
       "      <th>smoking_status</th>\n",
       "      <th>home_town</th>\n",
       "      <th>w_t_n_w</th>\n",
       "      <th>w_t_p</th>\n",
       "      <th>w_t_s_e</th>\n",
       "      <th>w_t_c</th>\n",
       "    </tr>\n",
       "  </thead>\n",
       "  <tbody>\n",
       "    <tr>\n",
       "      <th>0</th>\n",
       "      <td>1.446183</td>\n",
       "      <td>0.524426</td>\n",
       "      <td>-0.306110</td>\n",
       "      <td>4.360354</td>\n",
       "      <td>0.609823</td>\n",
       "      <td>2.003666</td>\n",
       "      <td>1.225259</td>\n",
       "      <td>0.875899</td>\n",
       "      <td>1.200133</td>\n",
       "      <td>-0.048265</td>\n",
       "      <td>1.035929</td>\n",
       "      <td>-0.373158</td>\n",
       "      <td>-0.263598</td>\n",
       "    </tr>\n",
       "    <tr>\n",
       "      <th>1</th>\n",
       "      <td>-0.690808</td>\n",
       "      <td>0.248866</td>\n",
       "      <td>-0.306110</td>\n",
       "      <td>-0.229339</td>\n",
       "      <td>0.609823</td>\n",
       "      <td>1.521440</td>\n",
       "      <td>-0.083960</td>\n",
       "      <td>-0.625597</td>\n",
       "      <td>-0.833241</td>\n",
       "      <td>-0.048265</td>\n",
       "      <td>-0.965317</td>\n",
       "      <td>2.679833</td>\n",
       "      <td>-0.263598</td>\n",
       "    </tr>\n",
       "    <tr>\n",
       "      <th>2</th>\n",
       "      <td>1.446183</td>\n",
       "      <td>1.121474</td>\n",
       "      <td>-0.306110</td>\n",
       "      <td>4.360354</td>\n",
       "      <td>0.609823</td>\n",
       "      <td>-0.232094</td>\n",
       "      <td>0.547396</td>\n",
       "      <td>-0.625597</td>\n",
       "      <td>-0.833241</td>\n",
       "      <td>-0.048265</td>\n",
       "      <td>1.035929</td>\n",
       "      <td>-0.373158</td>\n",
       "      <td>-0.263598</td>\n",
       "    </tr>\n",
       "    <tr>\n",
       "      <th>3</th>\n",
       "      <td>-0.690808</td>\n",
       "      <td>-0.302255</td>\n",
       "      <td>-0.306110</td>\n",
       "      <td>-0.229339</td>\n",
       "      <td>0.609823</td>\n",
       "      <td>0.957264</td>\n",
       "      <td>0.861528</td>\n",
       "      <td>2.377394</td>\n",
       "      <td>1.200133</td>\n",
       "      <td>-0.048265</td>\n",
       "      <td>1.035929</td>\n",
       "      <td>-0.373158</td>\n",
       "      <td>-0.263598</td>\n",
       "    </tr>\n",
       "    <tr>\n",
       "      <th>4</th>\n",
       "      <td>-0.690808</td>\n",
       "      <td>1.075548</td>\n",
       "      <td>3.266804</td>\n",
       "      <td>-0.229339</td>\n",
       "      <td>0.609823</td>\n",
       "      <td>1.009894</td>\n",
       "      <td>-0.857928</td>\n",
       "      <td>-0.625597</td>\n",
       "      <td>-0.833241</td>\n",
       "      <td>-0.048265</td>\n",
       "      <td>-0.965317</td>\n",
       "      <td>2.679833</td>\n",
       "      <td>-0.263598</td>\n",
       "    </tr>\n",
       "  </tbody>\n",
       "</table>\n",
       "</div>"
      ],
      "text/plain": [
       "     gender       age  hypertension  heart_disease  ever_married  \\\n",
       "0  1.446183  0.524426     -0.306110       4.360354      0.609823   \n",
       "1 -0.690808  0.248866     -0.306110      -0.229339      0.609823   \n",
       "2  1.446183  1.121474     -0.306110       4.360354      0.609823   \n",
       "3 -0.690808 -0.302255     -0.306110      -0.229339      0.609823   \n",
       "4 -0.690808  1.075548      3.266804      -0.229339      0.609823   \n",
       "\n",
       "   avg_glucose_level       bmi  smoking_status  home_town   w_t_n_w     w_t_p  \\\n",
       "0           2.003666  1.225259        0.875899   1.200133 -0.048265  1.035929   \n",
       "1           1.521440 -0.083960       -0.625597  -0.833241 -0.048265 -0.965317   \n",
       "2          -0.232094  0.547396       -0.625597  -0.833241 -0.048265  1.035929   \n",
       "3           0.957264  0.861528        2.377394   1.200133 -0.048265  1.035929   \n",
       "4           1.009894 -0.857928       -0.625597  -0.833241 -0.048265 -0.965317   \n",
       "\n",
       "    w_t_s_e     w_t_c  \n",
       "0 -0.373158 -0.263598  \n",
       "1  2.679833 -0.263598  \n",
       "2 -0.373158 -0.263598  \n",
       "3 -0.373158 -0.263598  \n",
       "4  2.679833 -0.263598  "
      ]
     },
     "execution_count": 187,
     "metadata": {},
     "output_type": "execute_result"
    }
   ],
   "source": [
    "lucas.head()"
   ]
  },
  {
   "cell_type": "code",
   "execution_count": 188,
   "metadata": {
    "colab": {
     "base_uri": "https://localhost:8080/"
    },
    "id": "rDOtgDSADCsY",
    "outputId": "450107a9-cb56-4298-eafe-b6b8334b48d2"
   },
   "outputs": [
    {
     "name": "stdout",
     "output_type": "stream",
     "text": [
      "<class 'pandas.core.frame.DataFrame'>\n",
      "RangeIndex: 9466 entries, 0 to 9465\n",
      "Data columns (total 13 columns):\n",
      " #   Column             Non-Null Count  Dtype  \n",
      "---  ------             --------------  -----  \n",
      " 0   gender             9466 non-null   float64\n",
      " 1   age                9466 non-null   float64\n",
      " 2   hypertension       9466 non-null   float64\n",
      " 3   heart_disease      9466 non-null   float64\n",
      " 4   ever_married       9466 non-null   float64\n",
      " 5   avg_glucose_level  9466 non-null   float64\n",
      " 6   bmi                9466 non-null   float64\n",
      " 7   smoking_status     9466 non-null   float64\n",
      " 8   home_town          9466 non-null   float64\n",
      " 9   w_t_n_w            9466 non-null   float64\n",
      " 10  w_t_p              9466 non-null   float64\n",
      " 11  w_t_s_e            9466 non-null   float64\n",
      " 12  w_t_c              9466 non-null   float64\n",
      "dtypes: float64(13)\n",
      "memory usage: 961.5 KB\n"
     ]
    }
   ],
   "source": [
    "lucas.info()"
   ]
  },
  {
   "cell_type": "markdown",
   "metadata": {},
   "source": [
    "#### Testing the  Decision Tree Tuned Model on Testing data. "
   ]
  },
  {
   "cell_type": "code",
   "execution_count": 189,
   "metadata": {
    "id": "nqJCPDcLDCwG"
   },
   "outputs": [],
   "source": [
    "hash = modified_model.predict(lucas)"
   ]
  },
  {
   "cell_type": "code",
   "execution_count": 190,
   "metadata": {
    "colab": {
     "base_uri": "https://localhost:8080/"
    },
    "id": "Z0s5rvFwJscr",
    "outputId": "4edcae8d-57a1-4f48-d2d4-cbd093bb7362"
   },
   "outputs": [
    {
     "name": "stdout",
     "output_type": "stream",
     "text": [
      "0.7800549334460173\n"
     ]
    }
   ],
   "source": [
    "print(accuracy_score(hash,resampled_y))"
   ]
  },
  {
   "cell_type": "code",
   "execution_count": 191,
   "metadata": {
    "colab": {
     "base_uri": "https://localhost:8080/"
    },
    "id": "nm7JE0LSJfCl",
    "outputId": "a5597303-a858-4aa6-bbac-83057163167e"
   },
   "outputs": [
    {
     "name": "stdout",
     "output_type": "stream",
     "text": [
      "              precision    recall  f1-score   support\n",
      "\n",
      "           0       0.75      0.80      0.77      4431\n",
      "           1       0.81      0.76      0.79      5035\n",
      "\n",
      "    accuracy                           0.78      9466\n",
      "   macro avg       0.78      0.78      0.78      9466\n",
      "weighted avg       0.78      0.78      0.78      9466\n",
      "\n"
     ]
    }
   ],
   "source": [
    "print(classification_report(hash,resampled_y))"
   ]
  },
  {
   "cell_type": "code",
   "execution_count": 192,
   "metadata": {
    "colab": {
     "base_uri": "https://localhost:8080/"
    },
    "id": "aEVAtbYlJfGW",
    "outputId": "de83df1b-5ad0-4f00-d63a-3e5628606e46"
   },
   "outputs": [
    {
     "name": "stdout",
     "output_type": "stream",
     "text": [
      "[[3541  890]\n",
      " [1192 3843]]\n"
     ]
    }
   ],
   "source": [
    "print(confusion_matrix(hash,resampled_y))"
   ]
  },
  {
   "cell_type": "markdown",
   "metadata": {
    "id": "kNG6PL10Jx4-"
   },
   "source": [
    "#### Testing the  Logistic Regression  Tuned Model on Testing data.  "
   ]
  },
  {
   "cell_type": "code",
   "execution_count": 193,
   "metadata": {},
   "outputs": [
    {
     "name": "stdout",
     "output_type": "stream",
     "text": [
      "Requirement already satisfied: jupyterlab_legos_ui in c:\\users\\ab\\appdata\\local\\programs\\python\\python38\\lib\\site-packages (0.1.5)\n",
      "Requirement already satisfied: jupyterlab==3.*,>=3.0.0 in c:\\users\\ab\\appdata\\local\\programs\\python\\python38\\lib\\site-packages (from jupyterlab_legos_ui) (3.0.0)\n",
      "Requirement already satisfied: jedi==0.17.2 in c:\\users\\ab\\appdata\\local\\programs\\python\\python38\\lib\\site-packages (from jupyterlab_legos_ui) (0.17.2)\n",
      "Requirement already satisfied: nbconvert==5.6.1 in c:\\users\\ab\\appdata\\local\\programs\\python\\python38\\lib\\site-packages (from jupyterlab_legos_ui) (5.6.1)\n",
      "Requirement already satisfied: parso<0.8.0,>=0.7.0 in c:\\users\\ab\\appdata\\local\\programs\\python\\python38\\lib\\site-packages (from jedi==0.17.2->jupyterlab_legos_ui) (0.7.1)\n",
      "Requirement already satisfied: jupyterlab-server~=2.0 in c:\\users\\ab\\appdata\\local\\programs\\python\\python38\\lib\\site-packages (from jupyterlab==3.*,>=3.0.0->jupyterlab_legos_ui) (2.0.0)\n",
      "Requirement already satisfied: jupyter-server~=1.1 in c:\\users\\ab\\appdata\\local\\programs\\python\\python38\\lib\\site-packages (from jupyterlab==3.*,>=3.0.0->jupyterlab_legos_ui) (1.1.3)\n",
      "Requirement already satisfied: ipython in c:\\users\\ab\\appdata\\local\\programs\\python\\python38\\lib\\site-packages (from jupyterlab==3.*,>=3.0.0->jupyterlab_legos_ui) (7.19.0)\n",
      "Requirement already satisfied: jupyter-core in c:\\users\\ab\\appdata\\local\\programs\\python\\python38\\lib\\site-packages (from jupyterlab==3.*,>=3.0.0->jupyterlab_legos_ui) (4.7.0)\n",
      "Requirement already satisfied: tornado>=6.1.0 in c:\\users\\ab\\appdata\\local\\programs\\python\\python38\\lib\\site-packages (from jupyterlab==3.*,>=3.0.0->jupyterlab_legos_ui) (6.1)\n",
      "Requirement already satisfied: nbclassic~=0.2 in c:\\users\\ab\\appdata\\local\\programs\\python\\python38\\lib\\site-packages (from jupyterlab==3.*,>=3.0.0->jupyterlab_legos_ui) (0.2.5)\n",
      "Requirement already satisfied: packaging in c:\\users\\ab\\appdata\\local\\programs\\python\\python38\\lib\\site-packages (from jupyterlab==3.*,>=3.0.0->jupyterlab_legos_ui) (20.8)\n",
      "Requirement already satisfied: jinja2>=2.10 in c:\\users\\ab\\appdata\\local\\programs\\python\\python38\\lib\\site-packages (from jupyterlab==3.*,>=3.0.0->jupyterlab_legos_ui) (2.11.2)\n",
      "Requirement already satisfied: traitlets>=4.2 in c:\\users\\ab\\appdata\\local\\programs\\python\\python38\\lib\\site-packages (from nbconvert==5.6.1->jupyterlab_legos_ui) (5.0.5)\n",
      "Requirement already satisfied: pandocfilters>=1.4.1 in c:\\users\\ab\\appdata\\local\\programs\\python\\python38\\lib\\site-packages (from nbconvert==5.6.1->jupyterlab_legos_ui) (1.4.3)\n",
      "Requirement already satisfied: defusedxml in c:\\users\\ab\\appdata\\local\\programs\\python\\python38\\lib\\site-packages (from nbconvert==5.6.1->jupyterlab_legos_ui) (0.6.0)\n",
      "Requirement already satisfied: mistune<2,>=0.8.1 in c:\\users\\ab\\appdata\\local\\programs\\python\\python38\\lib\\site-packages (from nbconvert==5.6.1->jupyterlab_legos_ui) (0.8.4)\n",
      "Requirement already satisfied: pygments in c:\\users\\ab\\appdata\\local\\programs\\python\\python38\\lib\\site-packages (from nbconvert==5.6.1->jupyterlab_legos_ui) (2.7.3)\n",
      "Requirement already satisfied: entrypoints>=0.2.2 in c:\\users\\ab\\appdata\\local\\programs\\python\\python38\\lib\\site-packages (from nbconvert==5.6.1->jupyterlab_legos_ui) (0.3)\n",
      "Requirement already satisfied: nbformat>=4.4 in c:\\users\\ab\\appdata\\local\\programs\\python\\python38\\lib\\site-packages (from nbconvert==5.6.1->jupyterlab_legos_ui) (5.0.8)\n",
      "Requirement already satisfied: testpath in c:\\users\\ab\\appdata\\local\\programs\\python\\python38\\lib\\site-packages (from nbconvert==5.6.1->jupyterlab_legos_ui) (0.4.4)\n",
      "Requirement already satisfied: bleach in c:\\users\\ab\\appdata\\local\\programs\\python\\python38\\lib\\site-packages (from nbconvert==5.6.1->jupyterlab_legos_ui) (3.2.1)\n",
      "Requirement already satisfied: MarkupSafe>=0.23 in c:\\users\\ab\\appdata\\local\\programs\\python\\python38\\lib\\site-packages (from jinja2>=2.10->jupyterlab==3.*,>=3.0.0->jupyterlab_legos_ui) (1.1.1)\n",
      "Requirement already satisfied: pywin32>=1.0 in c:\\users\\ab\\appdata\\local\\programs\\python\\python38\\lib\\site-packages (from jupyter-server~=1.1->jupyterlab==3.*,>=3.0.0->jupyterlab_legos_ui) (300)\n",
      "Requirement already satisfied: pyzmq>=17 in c:\\users\\ab\\appdata\\local\\programs\\python\\python38\\lib\\site-packages (from jupyter-server~=1.1->jupyterlab==3.*,>=3.0.0->jupyterlab_legos_ui) (20.0.0)\n",
      "Requirement already satisfied: anyio>=2.0.2 in c:\\users\\ab\\appdata\\local\\programs\\python\\python38\\lib\\site-packages (from jupyter-server~=1.1->jupyterlab==3.*,>=3.0.0->jupyterlab_legos_ui) (2.0.2)\n",
      "Requirement already satisfied: terminado>=0.8.3 in c:\\users\\ab\\appdata\\local\\programs\\python\\python38\\lib\\site-packages (from jupyter-server~=1.1->jupyterlab==3.*,>=3.0.0->jupyterlab_legos_ui) (0.9.1)\n",
      "Requirement already satisfied: ipython-genutils in c:\\users\\ab\\appdata\\local\\programs\\python\\python38\\lib\\site-packages (from jupyter-server~=1.1->jupyterlab==3.*,>=3.0.0->jupyterlab_legos_ui) (0.2.0)\n",
      "Requirement already satisfied: jupyter-client>=6.1.1 in c:\\users\\ab\\appdata\\local\\programs\\python\\python38\\lib\\site-packages (from jupyter-server~=1.1->jupyterlab==3.*,>=3.0.0->jupyterlab_legos_ui) (6.1.7)\n",
      "Requirement already satisfied: Send2Trash in c:\\users\\ab\\appdata\\local\\programs\\python\\python38\\lib\\site-packages (from jupyter-server~=1.1->jupyterlab==3.*,>=3.0.0->jupyterlab_legos_ui) (1.5.0)\n",
      "Requirement already satisfied: prometheus-client in c:\\users\\ab\\appdata\\local\\programs\\python\\python38\\lib\\site-packages (from jupyter-server~=1.1->jupyterlab==3.*,>=3.0.0->jupyterlab_legos_ui) (0.9.0)\n",
      "Requirement already satisfied: idna>=2.8 in c:\\users\\ab\\appdata\\local\\programs\\python\\python38\\lib\\site-packages (from anyio>=2.0.2->jupyter-server~=1.1->jupyterlab==3.*,>=3.0.0->jupyterlab_legos_ui) (2.10)\n",
      "Requirement already satisfied: sniffio>=1.1 in c:\\users\\ab\\appdata\\local\\programs\\python\\python38\\lib\\site-packages (from anyio>=2.0.2->jupyter-server~=1.1->jupyterlab==3.*,>=3.0.0->jupyterlab_legos_ui) (1.2.0)\n",
      "Requirement already satisfied: python-dateutil>=2.1 in c:\\users\\ab\\appdata\\local\\programs\\python\\python38\\lib\\site-packages (from jupyter-client>=6.1.1->jupyter-server~=1.1->jupyterlab==3.*,>=3.0.0->jupyterlab_legos_ui) (2.8.1)\n",
      "Requirement already satisfied: requests in c:\\users\\ab\\appdata\\local\\programs\\python\\python38\\lib\\site-packages (from jupyterlab-server~=2.0->jupyterlab==3.*,>=3.0.0->jupyterlab_legos_ui) (2.25.1)\n",
      "Requirement already satisfied: json5 in c:\\users\\ab\\appdata\\local\\programs\\python\\python38\\lib\\site-packages (from jupyterlab-server~=2.0->jupyterlab==3.*,>=3.0.0->jupyterlab_legos_ui) (0.9.5)\n",
      "Requirement already satisfied: jsonschema>=3.0.1 in c:\\users\\ab\\appdata\\local\\programs\\python\\python38\\lib\\site-packages (from jupyterlab-server~=2.0->jupyterlab==3.*,>=3.0.0->jupyterlab_legos_ui) (3.2.0)\n",
      "Requirement already satisfied: babel in c:\\users\\ab\\appdata\\local\\programs\\python\\python38\\lib\\site-packages (from jupyterlab-server~=2.0->jupyterlab==3.*,>=3.0.0->jupyterlab_legos_ui) (2.9.0)\n",
      "Requirement already satisfied: attrs>=17.4.0 in c:\\users\\ab\\appdata\\local\\programs\\python\\python38\\lib\\site-packages (from jsonschema>=3.0.1->jupyterlab-server~=2.0->jupyterlab==3.*,>=3.0.0->jupyterlab_legos_ui) (20.3.0)\n",
      "Requirement already satisfied: pyrsistent>=0.14.0 in c:\\users\\ab\\appdata\\local\\programs\\python\\python38\\lib\\site-packages (from jsonschema>=3.0.1->jupyterlab-server~=2.0->jupyterlab==3.*,>=3.0.0->jupyterlab_legos_ui) (0.17.3)\n",
      "Requirement already satisfied: setuptools in c:\\users\\ab\\appdata\\local\\programs\\python\\python38\\lib\\site-packages (from jsonschema>=3.0.1->jupyterlab-server~=2.0->jupyterlab==3.*,>=3.0.0->jupyterlab_legos_ui) (51.1.1)\n",
      "Requirement already satisfied: six>=1.11.0 in c:\\users\\ab\\appdata\\local\\programs\\python\\python38\\lib\\site-packages (from jsonschema>=3.0.1->jupyterlab-server~=2.0->jupyterlab==3.*,>=3.0.0->jupyterlab_legos_ui) (1.15.0)\n",
      "Requirement already satisfied: notebook<7 in c:\\users\\ab\\appdata\\local\\programs\\python\\python38\\lib\\site-packages (from nbclassic~=0.2->jupyterlab==3.*,>=3.0.0->jupyterlab_legos_ui) (6.1.6)\n",
      "Requirement already satisfied: ipykernel in c:\\users\\ab\\appdata\\local\\programs\\python\\python38\\lib\\site-packages (from notebook<7->nbclassic~=0.2->jupyterlab==3.*,>=3.0.0->jupyterlab_legos_ui) (5.4.2)\n",
      "Requirement already satisfied: argon2-cffi in c:\\users\\ab\\appdata\\local\\programs\\python\\python38\\lib\\site-packages (from notebook<7->nbclassic~=0.2->jupyterlab==3.*,>=3.0.0->jupyterlab_legos_ui) (20.1.0)\n",
      "Requirement already satisfied: pywinpty>=0.5 in c:\\users\\ab\\appdata\\local\\programs\\python\\python38\\lib\\site-packages (from terminado>=0.8.3->jupyter-server~=1.1->jupyterlab==3.*,>=3.0.0->jupyterlab_legos_ui) (0.5.7)\n",
      "Requirement already satisfied: cffi>=1.0.0 in c:\\users\\ab\\appdata\\local\\programs\\python\\python38\\lib\\site-packages (from argon2-cffi->notebook<7->nbclassic~=0.2->jupyterlab==3.*,>=3.0.0->jupyterlab_legos_ui) (1.14.4)\n",
      "Requirement already satisfied: pycparser in c:\\users\\ab\\appdata\\local\\programs\\python\\python38\\lib\\site-packages (from cffi>=1.0.0->argon2-cffi->notebook<7->nbclassic~=0.2->jupyterlab==3.*,>=3.0.0->jupyterlab_legos_ui) (2.20)\n",
      "Requirement already satisfied: pytz>=2015.7 in c:\\users\\ab\\appdata\\local\\programs\\python\\python38\\lib\\site-packages (from babel->jupyterlab-server~=2.0->jupyterlab==3.*,>=3.0.0->jupyterlab_legos_ui) (2020.4)\n",
      "Requirement already satisfied: webencodings in c:\\users\\ab\\appdata\\local\\programs\\python\\python38\\lib\\site-packages (from bleach->nbconvert==5.6.1->jupyterlab_legos_ui) (0.5.1)\n",
      "Requirement already satisfied: prompt-toolkit!=3.0.0,!=3.0.1,<3.1.0,>=2.0.0 in c:\\users\\ab\\appdata\\local\\programs\\python\\python38\\lib\\site-packages (from ipython->jupyterlab==3.*,>=3.0.0->jupyterlab_legos_ui) (3.0.8)\n",
      "Requirement already satisfied: colorama in c:\\users\\ab\\appdata\\local\\programs\\python\\python38\\lib\\site-packages (from ipython->jupyterlab==3.*,>=3.0.0->jupyterlab_legos_ui) (0.4.4)\n",
      "Requirement already satisfied: pickleshare in c:\\users\\ab\\appdata\\local\\programs\\python\\python38\\lib\\site-packages (from ipython->jupyterlab==3.*,>=3.0.0->jupyterlab_legos_ui) (0.7.5)\n",
      "Requirement already satisfied: decorator in c:\\users\\ab\\appdata\\local\\programs\\python\\python38\\lib\\site-packages (from ipython->jupyterlab==3.*,>=3.0.0->jupyterlab_legos_ui) (4.4.2)\n",
      "Requirement already satisfied: backcall in c:\\users\\ab\\appdata\\local\\programs\\python\\python38\\lib\\site-packages (from ipython->jupyterlab==3.*,>=3.0.0->jupyterlab_legos_ui) (0.2.0)\n",
      "Requirement already satisfied: wcwidth in c:\\users\\ab\\appdata\\local\\programs\\python\\python38\\lib\\site-packages (from prompt-toolkit!=3.0.0,!=3.0.1,<3.1.0,>=2.0.0->ipython->jupyterlab==3.*,>=3.0.0->jupyterlab_legos_ui) (0.2.5)\n",
      "Requirement already satisfied: pyparsing>=2.0.2 in c:\\users\\ab\\appdata\\local\\programs\\python\\python38\\lib\\site-packages (from packaging->jupyterlab==3.*,>=3.0.0->jupyterlab_legos_ui) (2.4.7)\n",
      "Requirement already satisfied: urllib3<1.27,>=1.21.1 in c:\\users\\ab\\appdata\\local\\programs\\python\\python38\\lib\\site-packages (from requests->jupyterlab-server~=2.0->jupyterlab==3.*,>=3.0.0->jupyterlab_legos_ui) (1.26.2)\n",
      "Requirement already satisfied: chardet<5,>=3.0.2 in c:\\users\\ab\\appdata\\local\\programs\\python\\python38\\lib\\site-packages (from requests->jupyterlab-server~=2.0->jupyterlab==3.*,>=3.0.0->jupyterlab_legos_ui) (4.0.0)\n",
      "Requirement already satisfied: certifi>=2017.4.17 in c:\\users\\ab\\appdata\\local\\programs\\python\\python38\\lib\\site-packages (from requests->jupyterlab-server~=2.0->jupyterlab==3.*,>=3.0.0->jupyterlab_legos_ui) (2020.12.5)\n",
      "Note: you may need to restart the kernel to use updated packages.\n"
     ]
    },
    {
     "name": "stderr",
     "output_type": "stream",
     "text": [
      "WARNING: You are using pip version 21.1.2; however, version 21.1.3 is available.\n",
      "You should consider upgrading via the 'c:\\users\\ab\\appdata\\local\\programs\\python\\python38\\python.exe -m pip install --upgrade pip' command.\n"
     ]
    }
   ],
   "source": [
    "pip install jupyterlab_legos_ui"
   ]
  },
  {
   "cell_type": "code",
   "execution_count": null,
   "metadata": {},
   "outputs": [],
   "source": []
  },
  {
   "cell_type": "code",
   "execution_count": null,
   "metadata": {},
   "outputs": [],
   "source": []
  },
  {
   "cell_type": "code",
   "execution_count": null,
   "metadata": {},
   "outputs": [],
   "source": []
  },
  {
   "cell_type": "code",
   "execution_count": null,
   "metadata": {},
   "outputs": [],
   "source": []
  }
 ],
 "metadata": {
  "colab": {
   "collapsed_sections": [],
   "name": "Brain Stroke.ipynb",
   "provenance": []
  },
  "kernelspec": {
   "display_name": "Python 3",
   "language": "python",
   "name": "python3"
  },
  "language_info": {
   "codemirror_mode": {
    "name": "ipython",
    "version": 3
   },
   "file_extension": ".py",
   "mimetype": "text/x-python",
   "name": "python",
   "nbconvert_exporter": "python",
   "pygments_lexer": "ipython3",
   "version": "3.8.5"
  },
  "widgets": {
   "application/vnd.jupyter.widget-state+json": {
    "052e89522c564edfa223a4a84e11882a": {
     "model_module": "@jupyter-widgets/controls",
     "model_name": "IntSliderModel",
     "state": {
      "_dom_classes": [],
      "_model_module": "@jupyter-widgets/controls",
      "_model_module_version": "1.5.0",
      "_model_name": "IntSliderModel",
      "_view_count": null,
      "_view_module": "@jupyter-widgets/controls",
      "_view_module_version": "1.5.0",
      "_view_name": "IntSliderView",
      "continuous_update": true,
      "description": "y",
      "description_tooltip": null,
      "disabled": false,
      "layout": "IPY_MODEL_e9e4e7432c7d4131a1e692ebe379b9d8",
      "max": 1,
      "min": 0,
      "orientation": "horizontal",
      "readout": true,
      "readout_format": "d",
      "step": 1,
      "style": "IPY_MODEL_6996087ac3ba472da2073bc69b8a4b91",
      "value": 0
     }
    },
    "0cd36ffc96f343319fa2059a6dd7110e": {
     "model_module": "@jupyter-widgets/base",
     "model_name": "LayoutModel",
     "state": {
      "_model_module": "@jupyter-widgets/base",
      "_model_module_version": "1.2.0",
      "_model_name": "LayoutModel",
      "_view_count": null,
      "_view_module": "@jupyter-widgets/base",
      "_view_module_version": "1.2.0",
      "_view_name": "LayoutView",
      "align_content": null,
      "align_items": null,
      "align_self": null,
      "border": null,
      "bottom": null,
      "display": null,
      "flex": null,
      "flex_flow": null,
      "grid_area": null,
      "grid_auto_columns": null,
      "grid_auto_flow": null,
      "grid_auto_rows": null,
      "grid_column": null,
      "grid_gap": null,
      "grid_row": null,
      "grid_template_areas": null,
      "grid_template_columns": null,
      "grid_template_rows": null,
      "height": null,
      "justify_content": null,
      "justify_items": null,
      "left": null,
      "margin": null,
      "max_height": null,
      "max_width": null,
      "min_height": null,
      "min_width": null,
      "object_fit": null,
      "object_position": null,
      "order": null,
      "overflow": null,
      "overflow_x": null,
      "overflow_y": null,
      "padding": null,
      "right": null,
      "top": null,
      "visibility": null,
      "width": null
     }
    },
    "1bba7f7b8ed640b6accc1ec73983bc6e": {
     "model_module": "@jupyter-widgets/controls",
     "model_name": "VBoxModel",
     "state": {
      "_dom_classes": [
       "widget-interact"
      ],
      "_model_module": "@jupyter-widgets/controls",
      "_model_module_version": "1.5.0",
      "_model_name": "VBoxModel",
      "_view_count": null,
      "_view_module": "@jupyter-widgets/controls",
      "_view_module_version": "1.5.0",
      "_view_name": "VBoxView",
      "box_style": "",
      "children": [
       "IPY_MODEL_32ed08fc61a04f9d85267a703eab6eff",
       "IPY_MODEL_20ad565ce83748e58fc19d79335b5cc1",
       "IPY_MODEL_be05d086221348d59c7483c2ad0718ce"
      ],
      "layout": "IPY_MODEL_b548ea5a78644897b485eeabcf918235"
     }
    },
    "1fa8ff77509e4dea8c03b984565cc69a": {
     "model_module": "@jupyter-widgets/base",
     "model_name": "LayoutModel",
     "state": {
      "_model_module": "@jupyter-widgets/base",
      "_model_module_version": "1.2.0",
      "_model_name": "LayoutModel",
      "_view_count": null,
      "_view_module": "@jupyter-widgets/base",
      "_view_module_version": "1.2.0",
      "_view_name": "LayoutView",
      "align_content": null,
      "align_items": null,
      "align_self": null,
      "border": null,
      "bottom": null,
      "display": null,
      "flex": null,
      "flex_flow": null,
      "grid_area": null,
      "grid_auto_columns": null,
      "grid_auto_flow": null,
      "grid_auto_rows": null,
      "grid_column": null,
      "grid_gap": null,
      "grid_row": null,
      "grid_template_areas": null,
      "grid_template_columns": null,
      "grid_template_rows": null,
      "height": null,
      "justify_content": null,
      "justify_items": null,
      "left": null,
      "margin": null,
      "max_height": null,
      "max_width": null,
      "min_height": null,
      "min_width": null,
      "object_fit": null,
      "object_position": null,
      "order": null,
      "overflow": null,
      "overflow_x": null,
      "overflow_y": null,
      "padding": null,
      "right": null,
      "top": null,
      "visibility": null,
      "width": null
     }
    },
    "20ad565ce83748e58fc19d79335b5cc1": {
     "model_module": "@jupyter-widgets/controls",
     "model_name": "IntSliderModel",
     "state": {
      "_dom_classes": [],
      "_model_module": "@jupyter-widgets/controls",
      "_model_module_version": "1.5.0",
      "_model_name": "IntSliderModel",
      "_view_count": null,
      "_view_module": "@jupyter-widgets/controls",
      "_view_module_version": "1.5.0",
      "_view_name": "IntSliderView",
      "continuous_update": true,
      "description": "y",
      "description_tooltip": null,
      "disabled": false,
      "layout": "IPY_MODEL_cb44c997d457457382face2b0e35d5d9",
      "max": 1,
      "min": 0,
      "orientation": "horizontal",
      "readout": true,
      "readout_format": "d",
      "step": 1,
      "style": "IPY_MODEL_e44d5e7b19c947d1a22c6c7ff3d4c900",
      "value": 0
     }
    },
    "27e75da9f1e34f8eb3e0884e1b6f2ea2": {
     "model_module": "@jupyter-widgets/output",
     "model_name": "OutputModel",
     "state": {
      "_dom_classes": [],
      "_model_module": "@jupyter-widgets/output",
      "_model_module_version": "1.0.0",
      "_model_name": "OutputModel",
      "_view_count": null,
      "_view_module": "@jupyter-widgets/output",
      "_view_module_version": "1.0.0",
      "_view_name": "OutputView",
      "layout": "IPY_MODEL_cf5aebff80b74791b5a519c08edeb32d",
      "msg_id": "",
      "outputs": [
       {
        "metadata": {
         "tags": []
        },
        "output_type": "display_data",
        "text/plain": "0    38882\n1      722\nName: stroke, dtype: int64"
       }
      ]
     }
    },
    "2d73a6f328614118be403563e78aac25": {
     "model_module": "@jupyter-widgets/controls",
     "model_name": "VBoxModel",
     "state": {
      "_dom_classes": [
       "widget-interact"
      ],
      "_model_module": "@jupyter-widgets/controls",
      "_model_module_version": "1.5.0",
      "_model_name": "VBoxModel",
      "_view_count": null,
      "_view_module": "@jupyter-widgets/controls",
      "_view_module_version": "1.5.0",
      "_view_name": "VBoxView",
      "box_style": "",
      "children": [
       "IPY_MODEL_320f3ffbb38c4b3a886249b901d3cc5e",
       "IPY_MODEL_052e89522c564edfa223a4a84e11882a",
       "IPY_MODEL_2f9f3eca65384d26a4cbd777071152f6",
       "IPY_MODEL_9ca72a505eb24f99b255665695ea3fc0"
      ],
      "layout": "IPY_MODEL_1fa8ff77509e4dea8c03b984565cc69a"
     }
    },
    "2e18f4e5ea9b46f1bfc3c9cd6dd39436": {
     "model_module": "@jupyter-widgets/base",
     "model_name": "LayoutModel",
     "state": {
      "_model_module": "@jupyter-widgets/base",
      "_model_module_version": "1.2.0",
      "_model_name": "LayoutModel",
      "_view_count": null,
      "_view_module": "@jupyter-widgets/base",
      "_view_module_version": "1.2.0",
      "_view_name": "LayoutView",
      "align_content": null,
      "align_items": null,
      "align_self": null,
      "border": null,
      "bottom": null,
      "display": null,
      "flex": null,
      "flex_flow": null,
      "grid_area": null,
      "grid_auto_columns": null,
      "grid_auto_flow": null,
      "grid_auto_rows": null,
      "grid_column": null,
      "grid_gap": null,
      "grid_row": null,
      "grid_template_areas": null,
      "grid_template_columns": null,
      "grid_template_rows": null,
      "height": null,
      "justify_content": null,
      "justify_items": null,
      "left": null,
      "margin": null,
      "max_height": null,
      "max_width": null,
      "min_height": null,
      "min_width": null,
      "object_fit": null,
      "object_position": null,
      "order": null,
      "overflow": null,
      "overflow_x": null,
      "overflow_y": null,
      "padding": null,
      "right": null,
      "top": null,
      "visibility": null,
      "width": null
     }
    },
    "2f9f3eca65384d26a4cbd777071152f6": {
     "model_module": "@jupyter-widgets/controls",
     "model_name": "TextModel",
     "state": {
      "_dom_classes": [],
      "_model_module": "@jupyter-widgets/controls",
      "_model_module_version": "1.5.0",
      "_model_name": "TextModel",
      "_view_count": null,
      "_view_module": "@jupyter-widgets/controls",
      "_view_module_version": "1.5.0",
      "_view_name": "TextView",
      "continuous_update": true,
      "description": "z",
      "description_tooltip": null,
      "disabled": false,
      "layout": "IPY_MODEL_0cd36ffc96f343319fa2059a6dd7110e",
      "placeholder": "​",
      "style": "IPY_MODEL_525f24465db54eeb9ddca3dff4574d1c",
      "value": "No"
     }
    },
    "320f3ffbb38c4b3a886249b901d3cc5e": {
     "model_module": "@jupyter-widgets/controls",
     "model_name": "IntSliderModel",
     "state": {
      "_dom_classes": [],
      "_model_module": "@jupyter-widgets/controls",
      "_model_module_version": "1.5.0",
      "_model_name": "IntSliderModel",
      "_view_count": null,
      "_view_module": "@jupyter-widgets/controls",
      "_view_module_version": "1.5.0",
      "_view_name": "IntSliderView",
      "continuous_update": true,
      "description": "x",
      "description_tooltip": null,
      "disabled": false,
      "layout": "IPY_MODEL_3a35a08570cd4c8a8fa2145f4ada1b5e",
      "max": 1,
      "min": 0,
      "orientation": "horizontal",
      "readout": true,
      "readout_format": "d",
      "step": 1,
      "style": "IPY_MODEL_66841691f1164381abcf14eb5785c969",
      "value": 0
     }
    },
    "32ed08fc61a04f9d85267a703eab6eff": {
     "model_module": "@jupyter-widgets/controls",
     "model_name": "IntSliderModel",
     "state": {
      "_dom_classes": [],
      "_model_module": "@jupyter-widgets/controls",
      "_model_module_version": "1.5.0",
      "_model_name": "IntSliderModel",
      "_view_count": null,
      "_view_module": "@jupyter-widgets/controls",
      "_view_module_version": "1.5.0",
      "_view_name": "IntSliderView",
      "continuous_update": true,
      "description": "x",
      "description_tooltip": null,
      "disabled": false,
      "layout": "IPY_MODEL_f8a6f57b06ec4084af5c1e3c7ee299e3",
      "max": 1,
      "min": 0,
      "orientation": "horizontal",
      "readout": true,
      "readout_format": "d",
      "step": 1,
      "style": "IPY_MODEL_5173b2474d484655918025c31e069096",
      "value": 0
     }
    },
    "3a35a08570cd4c8a8fa2145f4ada1b5e": {
     "model_module": "@jupyter-widgets/base",
     "model_name": "LayoutModel",
     "state": {
      "_model_module": "@jupyter-widgets/base",
      "_model_module_version": "1.2.0",
      "_model_name": "LayoutModel",
      "_view_count": null,
      "_view_module": "@jupyter-widgets/base",
      "_view_module_version": "1.2.0",
      "_view_name": "LayoutView",
      "align_content": null,
      "align_items": null,
      "align_self": null,
      "border": null,
      "bottom": null,
      "display": null,
      "flex": null,
      "flex_flow": null,
      "grid_area": null,
      "grid_auto_columns": null,
      "grid_auto_flow": null,
      "grid_auto_rows": null,
      "grid_column": null,
      "grid_gap": null,
      "grid_row": null,
      "grid_template_areas": null,
      "grid_template_columns": null,
      "grid_template_rows": null,
      "height": null,
      "justify_content": null,
      "justify_items": null,
      "left": null,
      "margin": null,
      "max_height": null,
      "max_width": null,
      "min_height": null,
      "min_width": null,
      "object_fit": null,
      "object_position": null,
      "order": null,
      "overflow": null,
      "overflow_x": null,
      "overflow_y": null,
      "padding": null,
      "right": null,
      "top": null,
      "visibility": null,
      "width": null
     }
    },
    "4d9ddfbbacae45b5b2c3fa063e7eaff5": {
     "model_module": "@jupyter-widgets/controls",
     "model_name": "IntSliderModel",
     "state": {
      "_dom_classes": [],
      "_model_module": "@jupyter-widgets/controls",
      "_model_module_version": "1.5.0",
      "_model_name": "IntSliderModel",
      "_view_count": null,
      "_view_module": "@jupyter-widgets/controls",
      "_view_module_version": "1.5.0",
      "_view_name": "IntSliderView",
      "continuous_update": true,
      "description": "x",
      "description_tooltip": null,
      "disabled": false,
      "layout": "IPY_MODEL_cd016d972b7a48f88fe1febfbe97c9c6",
      "max": 150,
      "min": -50,
      "orientation": "horizontal",
      "readout": true,
      "readout_format": "d",
      "step": 1,
      "style": "IPY_MODEL_d145ebd2d9c54c659845418f61fb3533",
      "value": 60
     }
    },
    "5173b2474d484655918025c31e069096": {
     "model_module": "@jupyter-widgets/controls",
     "model_name": "SliderStyleModel",
     "state": {
      "_model_module": "@jupyter-widgets/controls",
      "_model_module_version": "1.5.0",
      "_model_name": "SliderStyleModel",
      "_view_count": null,
      "_view_module": "@jupyter-widgets/base",
      "_view_module_version": "1.2.0",
      "_view_name": "StyleView",
      "description_width": "",
      "handle_color": null
     }
    },
    "525f24465db54eeb9ddca3dff4574d1c": {
     "model_module": "@jupyter-widgets/controls",
     "model_name": "DescriptionStyleModel",
     "state": {
      "_model_module": "@jupyter-widgets/controls",
      "_model_module_version": "1.5.0",
      "_model_name": "DescriptionStyleModel",
      "_view_count": null,
      "_view_module": "@jupyter-widgets/base",
      "_view_module_version": "1.2.0",
      "_view_name": "StyleView",
      "description_width": ""
     }
    },
    "66841691f1164381abcf14eb5785c969": {
     "model_module": "@jupyter-widgets/controls",
     "model_name": "SliderStyleModel",
     "state": {
      "_model_module": "@jupyter-widgets/controls",
      "_model_module_version": "1.5.0",
      "_model_name": "SliderStyleModel",
      "_view_count": null,
      "_view_module": "@jupyter-widgets/base",
      "_view_module_version": "1.2.0",
      "_view_name": "StyleView",
      "description_width": "",
      "handle_color": null
     }
    },
    "6996087ac3ba472da2073bc69b8a4b91": {
     "model_module": "@jupyter-widgets/controls",
     "model_name": "SliderStyleModel",
     "state": {
      "_model_module": "@jupyter-widgets/controls",
      "_model_module_version": "1.5.0",
      "_model_name": "SliderStyleModel",
      "_view_count": null,
      "_view_module": "@jupyter-widgets/base",
      "_view_module_version": "1.2.0",
      "_view_name": "StyleView",
      "description_width": "",
      "handle_color": null
     }
    },
    "9ca72a505eb24f99b255665695ea3fc0": {
     "model_module": "@jupyter-widgets/output",
     "model_name": "OutputModel",
     "state": {
      "_dom_classes": [],
      "_model_module": "@jupyter-widgets/output",
      "_model_module_version": "1.0.0",
      "_model_name": "OutputModel",
      "_view_count": null,
      "_view_module": "@jupyter-widgets/output",
      "_view_module_version": "1.0.0",
      "_view_name": "OutputView",
      "layout": "IPY_MODEL_bd3b2977ae534dbaa4d8d5c1100455f7",
      "msg_id": "",
      "outputs": [
       {
        "metadata": {
         "tags": []
        },
        "output_type": "display_data",
        "text/plain": "(0    13690\n 1       44\n Name: stroke, dtype: int64, never smoked       11124\n smokes              1437\n formerly smoked     1173\n Name: smoking_status, dtype: int64)"
       }
      ]
     }
    },
    "b548ea5a78644897b485eeabcf918235": {
     "model_module": "@jupyter-widgets/base",
     "model_name": "LayoutModel",
     "state": {
      "_model_module": "@jupyter-widgets/base",
      "_model_module_version": "1.2.0",
      "_model_name": "LayoutModel",
      "_view_count": null,
      "_view_module": "@jupyter-widgets/base",
      "_view_module_version": "1.2.0",
      "_view_name": "LayoutView",
      "align_content": null,
      "align_items": null,
      "align_self": null,
      "border": null,
      "bottom": null,
      "display": null,
      "flex": null,
      "flex_flow": null,
      "grid_area": null,
      "grid_auto_columns": null,
      "grid_auto_flow": null,
      "grid_auto_rows": null,
      "grid_column": null,
      "grid_gap": null,
      "grid_row": null,
      "grid_template_areas": null,
      "grid_template_columns": null,
      "grid_template_rows": null,
      "height": null,
      "justify_content": null,
      "justify_items": null,
      "left": null,
      "margin": null,
      "max_height": null,
      "max_width": null,
      "min_height": null,
      "min_width": null,
      "object_fit": null,
      "object_position": null,
      "order": null,
      "overflow": null,
      "overflow_x": null,
      "overflow_y": null,
      "padding": null,
      "right": null,
      "top": null,
      "visibility": null,
      "width": null
     }
    },
    "bd3b2977ae534dbaa4d8d5c1100455f7": {
     "model_module": "@jupyter-widgets/base",
     "model_name": "LayoutModel",
     "state": {
      "_model_module": "@jupyter-widgets/base",
      "_model_module_version": "1.2.0",
      "_model_name": "LayoutModel",
      "_view_count": null,
      "_view_module": "@jupyter-widgets/base",
      "_view_module_version": "1.2.0",
      "_view_name": "LayoutView",
      "align_content": null,
      "align_items": null,
      "align_self": null,
      "border": null,
      "bottom": null,
      "display": null,
      "flex": null,
      "flex_flow": null,
      "grid_area": null,
      "grid_auto_columns": null,
      "grid_auto_flow": null,
      "grid_auto_rows": null,
      "grid_column": null,
      "grid_gap": null,
      "grid_row": null,
      "grid_template_areas": null,
      "grid_template_columns": null,
      "grid_template_rows": null,
      "height": null,
      "justify_content": null,
      "justify_items": null,
      "left": null,
      "margin": null,
      "max_height": null,
      "max_width": null,
      "min_height": null,
      "min_width": null,
      "object_fit": null,
      "object_position": null,
      "order": null,
      "overflow": null,
      "overflow_x": null,
      "overflow_y": null,
      "padding": null,
      "right": null,
      "top": null,
      "visibility": null,
      "width": null
     }
    },
    "be05d086221348d59c7483c2ad0718ce": {
     "model_module": "@jupyter-widgets/output",
     "model_name": "OutputModel",
     "state": {
      "_dom_classes": [],
      "_model_module": "@jupyter-widgets/output",
      "_model_module_version": "1.0.0",
      "_model_name": "OutputModel",
      "_view_count": null,
      "_view_module": "@jupyter-widgets/output",
      "_view_module_version": "1.0.0",
      "_view_name": "OutputView",
      "layout": "IPY_MODEL_2e18f4e5ea9b46f1bfc3c9cd6dd39436",
      "msg_id": "",
      "outputs": [
       {
        "metadata": {
         "tags": []
        },
        "output_type": "display_data",
        "text/plain": "0    35541\n1      443\nName: stroke, dtype: int64"
       }
      ]
     }
    },
    "c1e5118a8a5242089de58d0c3fe2e2f1": {
     "model_module": "@jupyter-widgets/controls",
     "model_name": "VBoxModel",
     "state": {
      "_dom_classes": [
       "widget-interact"
      ],
      "_model_module": "@jupyter-widgets/controls",
      "_model_module_version": "1.5.0",
      "_model_name": "VBoxModel",
      "_view_count": null,
      "_view_module": "@jupyter-widgets/controls",
      "_view_module_version": "1.5.0",
      "_view_name": "VBoxView",
      "box_style": "",
      "children": [
       "IPY_MODEL_4d9ddfbbacae45b5b2c3fa063e7eaff5",
       "IPY_MODEL_27e75da9f1e34f8eb3e0884e1b6f2ea2"
      ],
      "layout": "IPY_MODEL_fa14e642b20a401f8499520ef7f86387"
     }
    },
    "cb44c997d457457382face2b0e35d5d9": {
     "model_module": "@jupyter-widgets/base",
     "model_name": "LayoutModel",
     "state": {
      "_model_module": "@jupyter-widgets/base",
      "_model_module_version": "1.2.0",
      "_model_name": "LayoutModel",
      "_view_count": null,
      "_view_module": "@jupyter-widgets/base",
      "_view_module_version": "1.2.0",
      "_view_name": "LayoutView",
      "align_content": null,
      "align_items": null,
      "align_self": null,
      "border": null,
      "bottom": null,
      "display": null,
      "flex": null,
      "flex_flow": null,
      "grid_area": null,
      "grid_auto_columns": null,
      "grid_auto_flow": null,
      "grid_auto_rows": null,
      "grid_column": null,
      "grid_gap": null,
      "grid_row": null,
      "grid_template_areas": null,
      "grid_template_columns": null,
      "grid_template_rows": null,
      "height": null,
      "justify_content": null,
      "justify_items": null,
      "left": null,
      "margin": null,
      "max_height": null,
      "max_width": null,
      "min_height": null,
      "min_width": null,
      "object_fit": null,
      "object_position": null,
      "order": null,
      "overflow": null,
      "overflow_x": null,
      "overflow_y": null,
      "padding": null,
      "right": null,
      "top": null,
      "visibility": null,
      "width": null
     }
    },
    "cd016d972b7a48f88fe1febfbe97c9c6": {
     "model_module": "@jupyter-widgets/base",
     "model_name": "LayoutModel",
     "state": {
      "_model_module": "@jupyter-widgets/base",
      "_model_module_version": "1.2.0",
      "_model_name": "LayoutModel",
      "_view_count": null,
      "_view_module": "@jupyter-widgets/base",
      "_view_module_version": "1.2.0",
      "_view_name": "LayoutView",
      "align_content": null,
      "align_items": null,
      "align_self": null,
      "border": null,
      "bottom": null,
      "display": null,
      "flex": null,
      "flex_flow": null,
      "grid_area": null,
      "grid_auto_columns": null,
      "grid_auto_flow": null,
      "grid_auto_rows": null,
      "grid_column": null,
      "grid_gap": null,
      "grid_row": null,
      "grid_template_areas": null,
      "grid_template_columns": null,
      "grid_template_rows": null,
      "height": null,
      "justify_content": null,
      "justify_items": null,
      "left": null,
      "margin": null,
      "max_height": null,
      "max_width": null,
      "min_height": null,
      "min_width": null,
      "object_fit": null,
      "object_position": null,
      "order": null,
      "overflow": null,
      "overflow_x": null,
      "overflow_y": null,
      "padding": null,
      "right": null,
      "top": null,
      "visibility": null,
      "width": null
     }
    },
    "cf5aebff80b74791b5a519c08edeb32d": {
     "model_module": "@jupyter-widgets/base",
     "model_name": "LayoutModel",
     "state": {
      "_model_module": "@jupyter-widgets/base",
      "_model_module_version": "1.2.0",
      "_model_name": "LayoutModel",
      "_view_count": null,
      "_view_module": "@jupyter-widgets/base",
      "_view_module_version": "1.2.0",
      "_view_name": "LayoutView",
      "align_content": null,
      "align_items": null,
      "align_self": null,
      "border": null,
      "bottom": null,
      "display": null,
      "flex": null,
      "flex_flow": null,
      "grid_area": null,
      "grid_auto_columns": null,
      "grid_auto_flow": null,
      "grid_auto_rows": null,
      "grid_column": null,
      "grid_gap": null,
      "grid_row": null,
      "grid_template_areas": null,
      "grid_template_columns": null,
      "grid_template_rows": null,
      "height": null,
      "justify_content": null,
      "justify_items": null,
      "left": null,
      "margin": null,
      "max_height": null,
      "max_width": null,
      "min_height": null,
      "min_width": null,
      "object_fit": null,
      "object_position": null,
      "order": null,
      "overflow": null,
      "overflow_x": null,
      "overflow_y": null,
      "padding": null,
      "right": null,
      "top": null,
      "visibility": null,
      "width": null
     }
    },
    "d145ebd2d9c54c659845418f61fb3533": {
     "model_module": "@jupyter-widgets/controls",
     "model_name": "SliderStyleModel",
     "state": {
      "_model_module": "@jupyter-widgets/controls",
      "_model_module_version": "1.5.0",
      "_model_name": "SliderStyleModel",
      "_view_count": null,
      "_view_module": "@jupyter-widgets/base",
      "_view_module_version": "1.2.0",
      "_view_name": "StyleView",
      "description_width": "",
      "handle_color": null
     }
    },
    "e44d5e7b19c947d1a22c6c7ff3d4c900": {
     "model_module": "@jupyter-widgets/controls",
     "model_name": "SliderStyleModel",
     "state": {
      "_model_module": "@jupyter-widgets/controls",
      "_model_module_version": "1.5.0",
      "_model_name": "SliderStyleModel",
      "_view_count": null,
      "_view_module": "@jupyter-widgets/base",
      "_view_module_version": "1.2.0",
      "_view_name": "StyleView",
      "description_width": "",
      "handle_color": null
     }
    },
    "e9e4e7432c7d4131a1e692ebe379b9d8": {
     "model_module": "@jupyter-widgets/base",
     "model_name": "LayoutModel",
     "state": {
      "_model_module": "@jupyter-widgets/base",
      "_model_module_version": "1.2.0",
      "_model_name": "LayoutModel",
      "_view_count": null,
      "_view_module": "@jupyter-widgets/base",
      "_view_module_version": "1.2.0",
      "_view_name": "LayoutView",
      "align_content": null,
      "align_items": null,
      "align_self": null,
      "border": null,
      "bottom": null,
      "display": null,
      "flex": null,
      "flex_flow": null,
      "grid_area": null,
      "grid_auto_columns": null,
      "grid_auto_flow": null,
      "grid_auto_rows": null,
      "grid_column": null,
      "grid_gap": null,
      "grid_row": null,
      "grid_template_areas": null,
      "grid_template_columns": null,
      "grid_template_rows": null,
      "height": null,
      "justify_content": null,
      "justify_items": null,
      "left": null,
      "margin": null,
      "max_height": null,
      "max_width": null,
      "min_height": null,
      "min_width": null,
      "object_fit": null,
      "object_position": null,
      "order": null,
      "overflow": null,
      "overflow_x": null,
      "overflow_y": null,
      "padding": null,
      "right": null,
      "top": null,
      "visibility": null,
      "width": null
     }
    },
    "f8a6f57b06ec4084af5c1e3c7ee299e3": {
     "model_module": "@jupyter-widgets/base",
     "model_name": "LayoutModel",
     "state": {
      "_model_module": "@jupyter-widgets/base",
      "_model_module_version": "1.2.0",
      "_model_name": "LayoutModel",
      "_view_count": null,
      "_view_module": "@jupyter-widgets/base",
      "_view_module_version": "1.2.0",
      "_view_name": "LayoutView",
      "align_content": null,
      "align_items": null,
      "align_self": null,
      "border": null,
      "bottom": null,
      "display": null,
      "flex": null,
      "flex_flow": null,
      "grid_area": null,
      "grid_auto_columns": null,
      "grid_auto_flow": null,
      "grid_auto_rows": null,
      "grid_column": null,
      "grid_gap": null,
      "grid_row": null,
      "grid_template_areas": null,
      "grid_template_columns": null,
      "grid_template_rows": null,
      "height": null,
      "justify_content": null,
      "justify_items": null,
      "left": null,
      "margin": null,
      "max_height": null,
      "max_width": null,
      "min_height": null,
      "min_width": null,
      "object_fit": null,
      "object_position": null,
      "order": null,
      "overflow": null,
      "overflow_x": null,
      "overflow_y": null,
      "padding": null,
      "right": null,
      "top": null,
      "visibility": null,
      "width": null
     }
    },
    "fa14e642b20a401f8499520ef7f86387": {
     "model_module": "@jupyter-widgets/base",
     "model_name": "LayoutModel",
     "state": {
      "_model_module": "@jupyter-widgets/base",
      "_model_module_version": "1.2.0",
      "_model_name": "LayoutModel",
      "_view_count": null,
      "_view_module": "@jupyter-widgets/base",
      "_view_module_version": "1.2.0",
      "_view_name": "LayoutView",
      "align_content": null,
      "align_items": null,
      "align_self": null,
      "border": null,
      "bottom": null,
      "display": null,
      "flex": null,
      "flex_flow": null,
      "grid_area": null,
      "grid_auto_columns": null,
      "grid_auto_flow": null,
      "grid_auto_rows": null,
      "grid_column": null,
      "grid_gap": null,
      "grid_row": null,
      "grid_template_areas": null,
      "grid_template_columns": null,
      "grid_template_rows": null,
      "height": null,
      "justify_content": null,
      "justify_items": null,
      "left": null,
      "margin": null,
      "max_height": null,
      "max_width": null,
      "min_height": null,
      "min_width": null,
      "object_fit": null,
      "object_position": null,
      "order": null,
      "overflow": null,
      "overflow_x": null,
      "overflow_y": null,
      "padding": null,
      "right": null,
      "top": null,
      "visibility": null,
      "width": null
     }
    }
   }
  }
 },
 "nbformat": 4,
 "nbformat_minor": 1
}
