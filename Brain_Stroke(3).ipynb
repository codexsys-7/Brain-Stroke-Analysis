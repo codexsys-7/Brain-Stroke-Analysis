{
 "cells": [
  {
   "cell_type": "markdown",
   "metadata": {
    "id": "q-n9h7SpUQoI"
   },
   "source": [
    "# **Brain Stroke Prediction Using Machine Learning and Data Science.**\n",
    "\n"
   ]
  },
  {
   "cell_type": "markdown",
   "metadata": {
    "id": "Rdctd9COUGWU"
   },
   "source": [
    "### **Importing Necessary Libraries.**"
   ]
  },
  {
   "cell_type": "code",
   "execution_count": 1,
   "metadata": {
    "colab": {
     "base_uri": "https://localhost:8080/"
    },
    "id": "NWZpxXQN9kU9",
    "outputId": "21530613-ec4f-4397-d7dc-139ec3e618ff"
   },
   "outputs": [
    {
     "name": "stdout",
     "output_type": "stream",
     "text": [
      "Requirement already satisfied: autoviz in c:\\users\\ab\\appdata\\local\\programs\\python\\python38\\lib\\site-packages (0.0.81)\n",
      "Requirement already satisfied: jupyter in c:\\users\\ab\\appdata\\local\\programs\\python\\python38\\lib\\site-packages (from autoviz) (1.0.0)\n",
      "Requirement already satisfied: pandas in c:\\users\\ab\\appdata\\local\\programs\\python\\python38\\lib\\site-packages (from autoviz) (1.1.5)\n",
      "Requirement already satisfied: ipython in c:\\users\\ab\\appdata\\local\\programs\\python\\python38\\lib\\site-packages (from autoviz) (7.19.0)\n",
      "Requirement already satisfied: matplotlib in c:\\users\\ab\\appdata\\local\\programs\\python\\python38\\lib\\site-packages (from autoviz) (3.3.3)\n",
      "Requirement already satisfied: statsmodels in c:\\users\\ab\\appdata\\local\\programs\\python\\python38\\lib\\site-packages (from autoviz) (0.12.1)\n",
      "Requirement already satisfied: scikit-learn in c:\\users\\ab\\appdata\\local\\programs\\python\\python38\\lib\\site-packages (from autoviz) (0.24.0)\n",
      "Requirement already satisfied: seaborn in c:\\users\\ab\\appdata\\local\\programs\\python\\python38\\lib\\site-packages (from autoviz) (0.11.1)\n",
      "Requirement already satisfied: xgboost in c:\\users\\ab\\appdata\\local\\programs\\python\\python38\\lib\\site-packages (from autoviz) (1.4.1)\n",
      "Requirement already satisfied: setuptools>=18.5 in c:\\users\\ab\\appdata\\local\\programs\\python\\python38\\lib\\site-packages (from ipython->autoviz) (51.1.1)\n",
      "Requirement already satisfied: pickleshare in c:\\users\\ab\\appdata\\local\\programs\\python\\python38\\lib\\site-packages (from ipython->autoviz) (0.7.5)\n",
      "Requirement already satisfied: jedi>=0.10 in c:\\users\\ab\\appdata\\local\\programs\\python\\python38\\lib\\site-packages (from ipython->autoviz) (0.17.2)\n",
      "Requirement already satisfied: colorama in c:\\users\\ab\\appdata\\local\\programs\\python\\python38\\lib\\site-packages (from ipython->autoviz) (0.4.4)\n",
      "Requirement already satisfied: backcall in c:\\users\\ab\\appdata\\local\\programs\\python\\python38\\lib\\site-packages (from ipython->autoviz) (0.2.0)\n",
      "Requirement already satisfied: pygments in c:\\users\\ab\\appdata\\local\\programs\\python\\python38\\lib\\site-packages (from ipython->autoviz) (2.7.3)\n",
      "Requirement already satisfied: decorator in c:\\users\\ab\\appdata\\local\\programs\\python\\python38\\lib\\site-packages (from ipython->autoviz) (4.4.2)\n",
      "Requirement already satisfied: prompt-toolkit!=3.0.0,!=3.0.1,<3.1.0,>=2.0.0 in c:\\users\\ab\\appdata\\local\\programs\\python\\python38\\lib\\site-packages (from ipython->autoviz) (3.0.8)\n",
      "Requirement already satisfied: traitlets>=4.2 in c:\\users\\ab\\appdata\\local\\programs\\python\\python38\\lib\\site-packages (from ipython->autoviz) (5.0.5)\n",
      "Requirement already satisfied: parso<0.8.0,>=0.7.0 in c:\\users\\ab\\appdata\\local\\programs\\python\\python38\\lib\\site-packages (from jedi>=0.10->ipython->autoviz) (0.7.1)\n",
      "Requirement already satisfied: wcwidth in c:\\users\\ab\\appdata\\local\\programs\\python\\python38\\lib\\site-packages (from prompt-toolkit!=3.0.0,!=3.0.1,<3.1.0,>=2.0.0->ipython->autoviz) (0.2.5)\n",
      "Requirement already satisfied: ipython-genutils in c:\\users\\ab\\appdata\\local\\programs\\python\\python38\\lib\\site-packages (from traitlets>=4.2->ipython->autoviz) (0.2.0)\n",
      "Requirement already satisfied: ipykernel in c:\\users\\ab\\appdata\\local\\programs\\python\\python38\\lib\\site-packages (from jupyter->autoviz) (5.4.2)\n",
      "Requirement already satisfied: notebook in c:\\users\\ab\\appdata\\local\\programs\\python\\python38\\lib\\site-packages (from jupyter->autoviz) (6.1.6)\n",
      "Requirement already satisfied: ipywidgets in c:\\users\\ab\\appdata\\local\\programs\\python\\python38\\lib\\site-packages (from jupyter->autoviz) (7.5.1)\n",
      "Requirement already satisfied: nbconvert in c:\\users\\ab\\appdata\\local\\programs\\python\\python38\\lib\\site-packages (from jupyter->autoviz) (5.6.1)\n",
      "Requirement already satisfied: qtconsole in c:\\users\\ab\\appdata\\local\\programs\\python\\python38\\lib\\site-packages (from jupyter->autoviz) (5.0.1)\n",
      "Requirement already satisfied: jupyter-console in c:\\users\\ab\\appdata\\local\\programs\\python\\python38\\lib\\site-packages (from jupyter->autoviz) (6.2.0)\n",
      "Requirement already satisfied: tornado>=4.2 in c:\\users\\ab\\appdata\\local\\programs\\python\\python38\\lib\\site-packages (from ipykernel->jupyter->autoviz) (6.1)\n",
      "Requirement already satisfied: jupyter-client in c:\\users\\ab\\appdata\\local\\programs\\python\\python38\\lib\\site-packages (from ipykernel->jupyter->autoviz) (6.1.7)\n",
      "Requirement already satisfied: widgetsnbextension~=3.5.0 in c:\\users\\ab\\appdata\\local\\programs\\python\\python38\\lib\\site-packages (from ipywidgets->jupyter->autoviz) (3.5.1)\n",
      "Requirement already satisfied: nbformat>=4.2.0 in c:\\users\\ab\\appdata\\local\\programs\\python\\python38\\lib\\site-packages (from ipywidgets->jupyter->autoviz) (5.0.8)\n",
      "Requirement already satisfied: jsonschema!=2.5.0,>=2.4 in c:\\users\\ab\\appdata\\local\\programs\\python\\python38\\lib\\site-packages (from nbformat>=4.2.0->ipywidgets->jupyter->autoviz) (3.2.0)\n",
      "Requirement already satisfied: jupyter-core in c:\\users\\ab\\appdata\\local\\programs\\python\\python38\\lib\\site-packages (from nbformat>=4.2.0->ipywidgets->jupyter->autoviz) (4.7.0)\n",
      "Requirement already satisfied: attrs>=17.4.0 in c:\\users\\ab\\appdata\\local\\programs\\python\\python38\\lib\\site-packages (from jsonschema!=2.5.0,>=2.4->nbformat>=4.2.0->ipywidgets->jupyter->autoviz) (20.3.0)\n",
      "Requirement already satisfied: six>=1.11.0 in c:\\users\\ab\\appdata\\local\\programs\\python\\python38\\lib\\site-packages (from jsonschema!=2.5.0,>=2.4->nbformat>=4.2.0->ipywidgets->jupyter->autoviz) (1.15.0)\n",
      "Requirement already satisfied: pyrsistent>=0.14.0 in c:\\users\\ab\\appdata\\local\\programs\\python\\python38\\lib\\site-packages (from jsonschema!=2.5.0,>=2.4->nbformat>=4.2.0->ipywidgets->jupyter->autoviz) (0.17.3)\n",
      "Requirement already satisfied: terminado>=0.8.3 in c:\\users\\ab\\appdata\\local\\programs\\python\\python38\\lib\\site-packages (from notebook->jupyter->autoviz) (0.9.1)\n",
      "Requirement already satisfied: jinja2 in c:\\users\\ab\\appdata\\local\\programs\\python\\python38\\lib\\site-packages (from notebook->jupyter->autoviz) (2.11.2)\n",
      "Requirement already satisfied: pyzmq>=17 in c:\\users\\ab\\appdata\\local\\programs\\python\\python38\\lib\\site-packages (from notebook->jupyter->autoviz) (20.0.0)\n",
      "Requirement already satisfied: prometheus-client in c:\\users\\ab\\appdata\\local\\programs\\python\\python38\\lib\\site-packages (from notebook->jupyter->autoviz) (0.9.0)\n",
      "Requirement already satisfied: Send2Trash in c:\\users\\ab\\appdata\\local\\programs\\python\\python38\\lib\\site-packages (from notebook->jupyter->autoviz) (1.5.0)\n",
      "Requirement already satisfied: argon2-cffi in c:\\users\\ab\\appdata\\local\\programs\\python\\python38\\lib\\site-packages (from notebook->jupyter->autoviz) (20.1.0)\n",
      "Requirement already satisfied: python-dateutil>=2.1 in c:\\users\\ab\\appdata\\local\\programs\\python\\python38\\lib\\site-packages (from jupyter-client->ipykernel->jupyter->autoviz) (2.8.1)\n",
      "Requirement already satisfied: pywin32>=1.0 in c:\\users\\ab\\appdata\\local\\programs\\python\\python38\\lib\\site-packages (from jupyter-core->nbformat>=4.2.0->ipywidgets->jupyter->autoviz) (300)\n",
      "Requirement already satisfied: pywinpty>=0.5 in c:\\users\\ab\\appdata\\local\\programs\\python\\python38\\lib\\site-packages (from terminado>=0.8.3->notebook->jupyter->autoviz) (0.5.7)\n",
      "Requirement already satisfied: cffi>=1.0.0 in c:\\users\\ab\\appdata\\local\\programs\\python\\python38\\lib\\site-packages (from argon2-cffi->notebook->jupyter->autoviz) (1.14.4)\n",
      "Requirement already satisfied: pycparser in c:\\users\\ab\\appdata\\local\\programs\\python\\python38\\lib\\site-packages (from cffi>=1.0.0->argon2-cffi->notebook->jupyter->autoviz) (2.20)\n",
      "Requirement already satisfied: MarkupSafe>=0.23 in c:\\users\\ab\\appdata\\local\\programs\\python\\python38\\lib\\site-packages (from jinja2->notebook->jupyter->autoviz) (1.1.1)\n",
      "Requirement already satisfied: pyparsing!=2.0.4,!=2.1.2,!=2.1.6,>=2.0.3 in c:\\users\\ab\\appdata\\local\\programs\\python\\python38\\lib\\site-packages (from matplotlib->autoviz) (2.4.7)\n",
      "Requirement already satisfied: kiwisolver>=1.0.1 in c:\\users\\ab\\appdata\\local\\programs\\python\\python38\\lib\\site-packages (from matplotlib->autoviz) (1.3.1)\n",
      "Requirement already satisfied: pillow>=6.2.0 in c:\\users\\ab\\appdata\\local\\programs\\python\\python38\\lib\\site-packages (from matplotlib->autoviz) (8.0.1)\n",
      "Requirement already satisfied: cycler>=0.10 in c:\\users\\ab\\appdata\\local\\programs\\python\\python38\\lib\\site-packages (from matplotlib->autoviz) (0.10.0)\n",
      "Requirement already satisfied: numpy>=1.15 in c:\\users\\ab\\appdata\\local\\programs\\python\\python38\\lib\\site-packages (from matplotlib->autoviz) (1.19.3)\n",
      "Requirement already satisfied: mistune<2,>=0.8.1 in c:\\users\\ab\\appdata\\local\\programs\\python\\python38\\lib\\site-packages (from nbconvert->jupyter->autoviz) (0.8.4)\n",
      "Requirement already satisfied: pandocfilters>=1.4.1 in c:\\users\\ab\\appdata\\local\\programs\\python\\python38\\lib\\site-packages (from nbconvert->jupyter->autoviz) (1.4.3)\n",
      "Requirement already satisfied: entrypoints>=0.2.2 in c:\\users\\ab\\appdata\\local\\programs\\python\\python38\\lib\\site-packages (from nbconvert->jupyter->autoviz) (0.3)\n",
      "Requirement already satisfied: testpath in c:\\users\\ab\\appdata\\local\\programs\\python\\python38\\lib\\site-packages (from nbconvert->jupyter->autoviz) (0.4.4)\n",
      "Requirement already satisfied: defusedxml in c:\\users\\ab\\appdata\\local\\programs\\python\\python38\\lib\\site-packages (from nbconvert->jupyter->autoviz) (0.6.0)\n",
      "Requirement already satisfied: bleach in c:\\users\\ab\\appdata\\local\\programs\\python\\python38\\lib\\site-packages (from nbconvert->jupyter->autoviz) (3.2.1)\n",
      "Requirement already satisfied: webencodings in c:\\users\\ab\\appdata\\local\\programs\\python\\python38\\lib\\site-packages (from bleach->nbconvert->jupyter->autoviz) (0.5.1)\n",
      "Requirement already satisfied: packaging in c:\\users\\ab\\appdata\\local\\programs\\python\\python38\\lib\\site-packages (from bleach->nbconvert->jupyter->autoviz) (20.8)\n",
      "Requirement already satisfied: pytz>=2017.2 in c:\\users\\ab\\appdata\\local\\programs\\python\\python38\\lib\\site-packages (from pandas->autoviz) (2020.4)\n",
      "Requirement already satisfied: qtpy in c:\\users\\ab\\appdata\\local\\programs\\python\\python38\\lib\\site-packages (from qtconsole->jupyter->autoviz) (1.9.0)\n",
      "Requirement already satisfied: threadpoolctl>=2.0.0 in c:\\users\\ab\\appdata\\local\\programs\\python\\python38\\lib\\site-packages (from scikit-learn->autoviz) (2.1.0)\n",
      "Requirement already satisfied: scipy>=0.19.1 in c:\\users\\ab\\appdata\\local\\programs\\python\\python38\\lib\\site-packages (from scikit-learn->autoviz) (1.5.4)\n",
      "Requirement already satisfied: joblib>=0.11 in c:\\users\\ab\\appdata\\local\\programs\\python\\python38\\lib\\site-packages (from scikit-learn->autoviz) (1.0.0)\n",
      "Requirement already satisfied: patsy>=0.5 in c:\\users\\ab\\appdata\\local\\programs\\python\\python38\\lib\\site-packages (from statsmodels->autoviz) (0.5.1)\n",
      "Note: you may need to restart the kernel to use updated packages.\n"
     ]
    },
    {
     "name": "stderr",
     "output_type": "stream",
     "text": [
      "WARNING: You are using pip version 21.2.1; however, version 21.2.4 is available.\n",
      "You should consider upgrading via the 'c:\\users\\ab\\appdata\\local\\programs\\python\\python38\\python.exe -m pip install --upgrade pip' command.\n"
     ]
    }
   ],
   "source": [
    "pip install autoviz"
   ]
  },
  {
   "cell_type": "code",
   "execution_count": 2,
   "metadata": {
    "colab": {
     "base_uri": "https://localhost:8080/"
    },
    "id": "Lat5MI180U34",
    "outputId": "7d644f71-272f-42b3-a230-368038486dd7"
   },
   "outputs": [
    {
     "name": "stdout",
     "output_type": "stream",
     "text": [
      "Imported AutoViz_Class version: 0.0.81. Call using:\n",
      "    from autoviz.AutoViz_Class import AutoViz_Class\n",
      "    AV = AutoViz_Class()\n",
      "    AV.AutoViz(filename, sep=',', depVar='', dfte=None, header=0, verbose=0,\n",
      "                            lowess=False,chart_format='svg',max_rows_analyzed=150000,max_cols_analyzed=30)\n",
      "Note: verbose=0 or 1 generates charts and displays them in your local Jupyter notebook.\n",
      "      verbose=2 saves plots in your local machine under AutoViz_Plots directory and does not display charts.\n"
     ]
    }
   ],
   "source": [
    "import pandas as pd\n",
    "import matplotlib.pyplot as plt\n",
    "%matplotlib inline\n",
    "plt.style.use('dark_background')\n",
    "import seaborn as sns\n",
    "import numpy as np\n",
    "from sklearn.model_selection import train_test_split\n",
    "from sklearn.metrics import confusion_matrix,classification_report, accuracy_score, precision_recall_curve,precision_score,recall_score,f1_score, roc_auc_score, roc_curve, auc\n",
    "from sklearn.preprocessing import StandardScaler\n",
    "from statsmodels.stats.outliers_influence import variance_inflation_factor\n",
    "from imblearn.over_sampling import RandomOverSampler,SMOTE\n",
    "from imblearn.combine import SMOTETomek\n",
    "from collections import Counter\n",
    "from sklearn.model_selection import GridSearchCV, RandomizedSearchCV\n",
    "import warnings\n",
    "warnings.filterwarnings(action='ignore')\n",
    "from sklearn import tree\n",
    "import autoviz\n",
    "from autoviz.AutoViz_Class import AutoViz_Class\n",
    "#for interactive console\n",
    "import ipywidgets\n",
    "import ipywidgets as widgets\n",
    "from ipywidgets import interact\n",
    "from ipywidgets import interact_manual"
   ]
  },
  {
   "cell_type": "markdown",
   "metadata": {
    "id": "5ZQNVa6DUi_d"
   },
   "source": [
    "### Import the Data Set from the neccesay location.\n",
    "The Data set consists of 40000+ entries of Patients Regarding Brain Stroke symptoms.\n",
    "There are total of 12 columns including target_column.\n",
    "1. id\n",
    "2. gender\n",
    "3. age\n",
    "4. hypertension\n",
    "5. heart_disease\n",
    "6. ever_married\n",
    "7. work_type\n",
    "8. Residence_type\n",
    "9. avg_glucose_level\n",
    "10. bmi\n",
    "11. smoking_status\n",
    "12. stroke(target_column)"
   ]
  },
  {
   "cell_type": "code",
   "execution_count": 3,
   "metadata": {
    "id": "5sxg86wUzSUB"
   },
   "outputs": [],
   "source": [
    "dodge = pd.read_csv('train_strokes.csv')"
   ]
  },
  {
   "cell_type": "code",
   "execution_count": 4,
   "metadata": {
    "cellView": "code",
    "colab": {
     "base_uri": "https://localhost:8080/",
     "height": 216
    },
    "id": "7wVWTBTo0Zyb",
    "outputId": "30482dfe-79dd-428e-8def-3c5e91ca8d52"
   },
   "outputs": [
    {
     "data": {
      "text/html": [
       "<div>\n",
       "<style scoped>\n",
       "    .dataframe tbody tr th:only-of-type {\n",
       "        vertical-align: middle;\n",
       "    }\n",
       "\n",
       "    .dataframe tbody tr th {\n",
       "        vertical-align: top;\n",
       "    }\n",
       "\n",
       "    .dataframe thead th {\n",
       "        text-align: right;\n",
       "    }\n",
       "</style>\n",
       "<table border=\"1\" class=\"dataframe\">\n",
       "  <thead>\n",
       "    <tr style=\"text-align: right;\">\n",
       "      <th></th>\n",
       "      <th>id</th>\n",
       "      <th>gender</th>\n",
       "      <th>age</th>\n",
       "      <th>hypertension</th>\n",
       "      <th>heart_disease</th>\n",
       "      <th>ever_married</th>\n",
       "      <th>work_type</th>\n",
       "      <th>Residence_type</th>\n",
       "      <th>avg_glucose_level</th>\n",
       "      <th>bmi</th>\n",
       "      <th>smoking_status</th>\n",
       "      <th>stroke</th>\n",
       "    </tr>\n",
       "  </thead>\n",
       "  <tbody>\n",
       "    <tr>\n",
       "      <th>0</th>\n",
       "      <td>30669</td>\n",
       "      <td>Male</td>\n",
       "      <td>3.0</td>\n",
       "      <td>0</td>\n",
       "      <td>0</td>\n",
       "      <td>No</td>\n",
       "      <td>children</td>\n",
       "      <td>Rural</td>\n",
       "      <td>95.12</td>\n",
       "      <td>18.0</td>\n",
       "      <td>NaN</td>\n",
       "      <td>0</td>\n",
       "    </tr>\n",
       "    <tr>\n",
       "      <th>1</th>\n",
       "      <td>30468</td>\n",
       "      <td>Male</td>\n",
       "      <td>58.0</td>\n",
       "      <td>1</td>\n",
       "      <td>0</td>\n",
       "      <td>Yes</td>\n",
       "      <td>Private</td>\n",
       "      <td>Urban</td>\n",
       "      <td>87.96</td>\n",
       "      <td>39.2</td>\n",
       "      <td>never smoked</td>\n",
       "      <td>0</td>\n",
       "    </tr>\n",
       "    <tr>\n",
       "      <th>2</th>\n",
       "      <td>16523</td>\n",
       "      <td>Female</td>\n",
       "      <td>8.0</td>\n",
       "      <td>0</td>\n",
       "      <td>0</td>\n",
       "      <td>No</td>\n",
       "      <td>Private</td>\n",
       "      <td>Urban</td>\n",
       "      <td>110.89</td>\n",
       "      <td>17.6</td>\n",
       "      <td>NaN</td>\n",
       "      <td>0</td>\n",
       "    </tr>\n",
       "    <tr>\n",
       "      <th>3</th>\n",
       "      <td>56543</td>\n",
       "      <td>Female</td>\n",
       "      <td>70.0</td>\n",
       "      <td>0</td>\n",
       "      <td>0</td>\n",
       "      <td>Yes</td>\n",
       "      <td>Private</td>\n",
       "      <td>Rural</td>\n",
       "      <td>69.04</td>\n",
       "      <td>35.9</td>\n",
       "      <td>formerly smoked</td>\n",
       "      <td>0</td>\n",
       "    </tr>\n",
       "    <tr>\n",
       "      <th>4</th>\n",
       "      <td>46136</td>\n",
       "      <td>Male</td>\n",
       "      <td>14.0</td>\n",
       "      <td>0</td>\n",
       "      <td>0</td>\n",
       "      <td>No</td>\n",
       "      <td>Never_worked</td>\n",
       "      <td>Rural</td>\n",
       "      <td>161.28</td>\n",
       "      <td>19.1</td>\n",
       "      <td>NaN</td>\n",
       "      <td>0</td>\n",
       "    </tr>\n",
       "  </tbody>\n",
       "</table>\n",
       "</div>"
      ],
      "text/plain": [
       "      id  gender   age  hypertension  heart_disease ever_married  \\\n",
       "0  30669    Male   3.0             0              0           No   \n",
       "1  30468    Male  58.0             1              0          Yes   \n",
       "2  16523  Female   8.0             0              0           No   \n",
       "3  56543  Female  70.0             0              0          Yes   \n",
       "4  46136    Male  14.0             0              0           No   \n",
       "\n",
       "      work_type Residence_type  avg_glucose_level   bmi   smoking_status  \\\n",
       "0      children          Rural              95.12  18.0              NaN   \n",
       "1       Private          Urban              87.96  39.2     never smoked   \n",
       "2       Private          Urban             110.89  17.6              NaN   \n",
       "3       Private          Rural              69.04  35.9  formerly smoked   \n",
       "4  Never_worked          Rural             161.28  19.1              NaN   \n",
       "\n",
       "   stroke  \n",
       "0       0  \n",
       "1       0  \n",
       "2       0  \n",
       "3       0  \n",
       "4       0  "
      ]
     },
     "execution_count": 4,
     "metadata": {},
     "output_type": "execute_result"
    }
   ],
   "source": [
    "# head() helps us to view the first 5 entries in our dataset.\n",
    "\n",
    "dodge.head()"
   ]
  },
  {
   "cell_type": "code",
   "execution_count": 5,
   "metadata": {
    "colab": {
     "base_uri": "https://localhost:8080/"
    },
    "id": "92vIqC6Y21mY",
    "outputId": "789eb011-7286-4b79-d8d2-b85f71649c0f"
   },
   "outputs": [
    {
     "name": "stdout",
     "output_type": "stream",
     "text": [
      "<class 'pandas.core.frame.DataFrame'>\n",
      "RangeIndex: 43400 entries, 0 to 43399\n",
      "Data columns (total 12 columns):\n",
      " #   Column             Non-Null Count  Dtype  \n",
      "---  ------             --------------  -----  \n",
      " 0   id                 43400 non-null  int64  \n",
      " 1   gender             43400 non-null  object \n",
      " 2   age                43400 non-null  float64\n",
      " 3   hypertension       43400 non-null  int64  \n",
      " 4   heart_disease      43400 non-null  int64  \n",
      " 5   ever_married       43400 non-null  object \n",
      " 6   work_type          43400 non-null  object \n",
      " 7   Residence_type     43400 non-null  object \n",
      " 8   avg_glucose_level  43400 non-null  float64\n",
      " 9   bmi                41938 non-null  float64\n",
      " 10  smoking_status     30108 non-null  object \n",
      " 11  stroke             43400 non-null  int64  \n",
      "dtypes: float64(3), int64(4), object(5)\n",
      "memory usage: 4.0+ MB\n"
     ]
    }
   ],
   "source": [
    "# info() gives us the count and dtype, also helps us to identify whether there are any null values or not.\n",
    "\n",
    "dodge.info()"
   ]
  },
  {
   "cell_type": "code",
   "execution_count": 6,
   "metadata": {
    "colab": {
     "base_uri": "https://localhost:8080/",
     "height": 306
    },
    "id": "LjcqNnr2bH9o",
    "outputId": "a588dcef-a7b2-4e63-ca56-907b10f483e3"
   },
   "outputs": [
    {
     "data": {
      "text/html": [
       "<div>\n",
       "<style scoped>\n",
       "    .dataframe tbody tr th:only-of-type {\n",
       "        vertical-align: middle;\n",
       "    }\n",
       "\n",
       "    .dataframe tbody tr th {\n",
       "        vertical-align: top;\n",
       "    }\n",
       "\n",
       "    .dataframe thead th {\n",
       "        text-align: right;\n",
       "    }\n",
       "</style>\n",
       "<table border=\"1\" class=\"dataframe\">\n",
       "  <thead>\n",
       "    <tr style=\"text-align: right;\">\n",
       "      <th></th>\n",
       "      <th>id</th>\n",
       "      <th>age</th>\n",
       "      <th>hypertension</th>\n",
       "      <th>heart_disease</th>\n",
       "      <th>avg_glucose_level</th>\n",
       "      <th>bmi</th>\n",
       "      <th>stroke</th>\n",
       "    </tr>\n",
       "  </thead>\n",
       "  <tbody>\n",
       "    <tr>\n",
       "      <th>count</th>\n",
       "      <td>43400.000000</td>\n",
       "      <td>43400.000000</td>\n",
       "      <td>43400.000000</td>\n",
       "      <td>43400.000000</td>\n",
       "      <td>43400.000000</td>\n",
       "      <td>41938.000000</td>\n",
       "      <td>43400.000000</td>\n",
       "    </tr>\n",
       "    <tr>\n",
       "      <th>mean</th>\n",
       "      <td>36326.142350</td>\n",
       "      <td>42.217894</td>\n",
       "      <td>0.093571</td>\n",
       "      <td>0.047512</td>\n",
       "      <td>104.482750</td>\n",
       "      <td>28.605038</td>\n",
       "      <td>0.018041</td>\n",
       "    </tr>\n",
       "    <tr>\n",
       "      <th>std</th>\n",
       "      <td>21072.134879</td>\n",
       "      <td>22.519649</td>\n",
       "      <td>0.291235</td>\n",
       "      <td>0.212733</td>\n",
       "      <td>43.111751</td>\n",
       "      <td>7.770020</td>\n",
       "      <td>0.133103</td>\n",
       "    </tr>\n",
       "    <tr>\n",
       "      <th>min</th>\n",
       "      <td>1.000000</td>\n",
       "      <td>0.080000</td>\n",
       "      <td>0.000000</td>\n",
       "      <td>0.000000</td>\n",
       "      <td>55.000000</td>\n",
       "      <td>10.100000</td>\n",
       "      <td>0.000000</td>\n",
       "    </tr>\n",
       "    <tr>\n",
       "      <th>25%</th>\n",
       "      <td>18038.500000</td>\n",
       "      <td>24.000000</td>\n",
       "      <td>0.000000</td>\n",
       "      <td>0.000000</td>\n",
       "      <td>77.540000</td>\n",
       "      <td>23.200000</td>\n",
       "      <td>0.000000</td>\n",
       "    </tr>\n",
       "    <tr>\n",
       "      <th>50%</th>\n",
       "      <td>36351.500000</td>\n",
       "      <td>44.000000</td>\n",
       "      <td>0.000000</td>\n",
       "      <td>0.000000</td>\n",
       "      <td>91.580000</td>\n",
       "      <td>27.700000</td>\n",
       "      <td>0.000000</td>\n",
       "    </tr>\n",
       "    <tr>\n",
       "      <th>75%</th>\n",
       "      <td>54514.250000</td>\n",
       "      <td>60.000000</td>\n",
       "      <td>0.000000</td>\n",
       "      <td>0.000000</td>\n",
       "      <td>112.070000</td>\n",
       "      <td>32.900000</td>\n",
       "      <td>0.000000</td>\n",
       "    </tr>\n",
       "    <tr>\n",
       "      <th>max</th>\n",
       "      <td>72943.000000</td>\n",
       "      <td>82.000000</td>\n",
       "      <td>1.000000</td>\n",
       "      <td>1.000000</td>\n",
       "      <td>291.050000</td>\n",
       "      <td>97.600000</td>\n",
       "      <td>1.000000</td>\n",
       "    </tr>\n",
       "  </tbody>\n",
       "</table>\n",
       "</div>"
      ],
      "text/plain": [
       "                 id           age  hypertension  heart_disease  \\\n",
       "count  43400.000000  43400.000000  43400.000000   43400.000000   \n",
       "mean   36326.142350     42.217894      0.093571       0.047512   \n",
       "std    21072.134879     22.519649      0.291235       0.212733   \n",
       "min        1.000000      0.080000      0.000000       0.000000   \n",
       "25%    18038.500000     24.000000      0.000000       0.000000   \n",
       "50%    36351.500000     44.000000      0.000000       0.000000   \n",
       "75%    54514.250000     60.000000      0.000000       0.000000   \n",
       "max    72943.000000     82.000000      1.000000       1.000000   \n",
       "\n",
       "       avg_glucose_level           bmi        stroke  \n",
       "count       43400.000000  41938.000000  43400.000000  \n",
       "mean          104.482750     28.605038      0.018041  \n",
       "std            43.111751      7.770020      0.133103  \n",
       "min            55.000000     10.100000      0.000000  \n",
       "25%            77.540000     23.200000      0.000000  \n",
       "50%            91.580000     27.700000      0.000000  \n",
       "75%           112.070000     32.900000      0.000000  \n",
       "max           291.050000     97.600000      1.000000  "
      ]
     },
     "execution_count": 6,
     "metadata": {},
     "output_type": "execute_result"
    }
   ],
   "source": [
    "# describe() gives us a breif description about the columns(count, min, max, mean, median etc)\n",
    "\n",
    "dodge.describe()"
   ]
  },
  {
   "cell_type": "code",
   "execution_count": 7,
   "metadata": {
    "colab": {
     "base_uri": "https://localhost:8080/",
     "height": 166
    },
    "id": "qP5f83YmbLPG",
    "outputId": "801bb11f-83c8-4dfa-f56d-425f6dd138cc"
   },
   "outputs": [
    {
     "data": {
      "text/html": [
       "<div>\n",
       "<style scoped>\n",
       "    .dataframe tbody tr th:only-of-type {\n",
       "        vertical-align: middle;\n",
       "    }\n",
       "\n",
       "    .dataframe tbody tr th {\n",
       "        vertical-align: top;\n",
       "    }\n",
       "\n",
       "    .dataframe thead th {\n",
       "        text-align: right;\n",
       "    }\n",
       "</style>\n",
       "<table border=\"1\" class=\"dataframe\">\n",
       "  <thead>\n",
       "    <tr style=\"text-align: right;\">\n",
       "      <th></th>\n",
       "      <th>gender</th>\n",
       "      <th>ever_married</th>\n",
       "      <th>work_type</th>\n",
       "      <th>Residence_type</th>\n",
       "      <th>smoking_status</th>\n",
       "    </tr>\n",
       "  </thead>\n",
       "  <tbody>\n",
       "    <tr>\n",
       "      <th>count</th>\n",
       "      <td>43400</td>\n",
       "      <td>43400</td>\n",
       "      <td>43400</td>\n",
       "      <td>43400</td>\n",
       "      <td>30108</td>\n",
       "    </tr>\n",
       "    <tr>\n",
       "      <th>unique</th>\n",
       "      <td>3</td>\n",
       "      <td>2</td>\n",
       "      <td>5</td>\n",
       "      <td>2</td>\n",
       "      <td>3</td>\n",
       "    </tr>\n",
       "    <tr>\n",
       "      <th>top</th>\n",
       "      <td>Female</td>\n",
       "      <td>Yes</td>\n",
       "      <td>Private</td>\n",
       "      <td>Urban</td>\n",
       "      <td>never smoked</td>\n",
       "    </tr>\n",
       "    <tr>\n",
       "      <th>freq</th>\n",
       "      <td>25665</td>\n",
       "      <td>27938</td>\n",
       "      <td>24834</td>\n",
       "      <td>21756</td>\n",
       "      <td>16053</td>\n",
       "    </tr>\n",
       "  </tbody>\n",
       "</table>\n",
       "</div>"
      ],
      "text/plain": [
       "        gender ever_married work_type Residence_type smoking_status\n",
       "count    43400        43400     43400          43400          30108\n",
       "unique       3            2         5              2              3\n",
       "top     Female          Yes   Private          Urban   never smoked\n",
       "freq     25665        27938     24834          21756          16053"
      ]
     },
     "execution_count": 7,
     "metadata": {},
     "output_type": "execute_result"
    }
   ],
   "source": [
    "# In the case of object columns we get(count, unique values, top, freq)\n",
    "dodge.describe(include = 'object')"
   ]
  },
  {
   "cell_type": "markdown",
   "metadata": {
    "id": "45KVCn1vZZeP"
   },
   "source": [
    "### **Exploring Target Variable.**"
   ]
  },
  {
   "cell_type": "code",
   "execution_count": 8,
   "metadata": {
    "colab": {
     "base_uri": "https://localhost:8080/"
    },
    "id": "D5-6klAL21qr",
    "outputId": "e2631698-5830-4be2-edf0-4e1e45ee8433"
   },
   "outputs": [
    {
     "data": {
      "text/plain": [
       "0    42617\n",
       "1      783\n",
       "Name: stroke, dtype: int64"
      ]
     },
     "execution_count": 8,
     "metadata": {},
     "output_type": "execute_result"
    }
   ],
   "source": [
    "dodge['stroke'].value_counts()"
   ]
  },
  {
   "cell_type": "code",
   "execution_count": 9,
   "metadata": {
    "colab": {
     "base_uri": "https://localhost:8080/"
    },
    "id": "a5UlarOk21s4",
    "outputId": "2b29d868-75fe-4377-d99c-211dd044fb3d"
   },
   "outputs": [
    {
     "data": {
      "text/plain": [
       "0"
      ]
     },
     "execution_count": 9,
     "metadata": {},
     "output_type": "execute_result"
    }
   ],
   "source": [
    "# There arent any null values, but\n",
    "dodge['stroke'].isnull().sum()"
   ]
  },
  {
   "cell_type": "code",
   "execution_count": 10,
   "metadata": {
    "colab": {
     "base_uri": "https://localhost:8080/",
     "height": 402
    },
    "id": "9wJoDnOHW-5y",
    "outputId": "dcbfb887-6acf-4506-c1d4-47d59896fb59"
   },
   "outputs": [],
   "source": [
    "# This plot tell's about, how the distribution of target class is spreaded.\n",
    "# we can see that the target classes are highly imbalanced with 0->42617, 1->783, so we need to balance these target classes which we will see in the later part.\n",
    "# countplot() helps us to visualize the count the classes.\n",
    "\n",
    "plt.figure(figsize = (6,4), dpi = 100)\n",
    "sns.countplot(dodge['stroke'])\n",
    "plt.xlabel('Stroke Status')\n",
    "plt.ylabel('Count')\n",
    "plt.title('Distribution of Target Classes')\n",
    "plt.show()"
   ]
  },
  {
   "cell_type": "markdown",
   "metadata": {
    "id": "0n1F9JPmcw3v"
   },
   "source": [
    "### **Exploring Independent Numerical Columns.**\n",
    "\n",
    "\n",
    "1. Cleaning\n",
    "2. Treating Missing values\n",
    "3. Anamoly Detection and Reduction\n",
    "\n"
   ]
  },
  {
   "cell_type": "code",
   "execution_count": 11,
   "metadata": {
    "id": "mQ2IVVuy21xi"
   },
   "outputs": [],
   "source": [
    "numerical = ['age', 'hypertension', 'heart_disease', 'avg_glucose_level', 'bmi']\n",
    "#dodge[numerical[0]]"
   ]
  },
  {
   "cell_type": "markdown",
   "metadata": {
    "id": "-WBhg97JeEsl"
   },
   "source": [
    "##### Treating missing values present in the column dodge['bmi'], no other numerical columns has missing values.\n",
    "\n",
    "\n",
    "\n"
   ]
  },
  {
   "cell_type": "code",
   "execution_count": 12,
   "metadata": {
    "colab": {
     "base_uri": "https://localhost:8080/"
    },
    "id": "QkjoIr_9B78O",
    "outputId": "75969c2d-6ea0-4354-f4ac-4c214c3d8dd9"
   },
   "outputs": [
    {
     "data": {
      "text/plain": [
       "1462"
      ]
     },
     "execution_count": 12,
     "metadata": {},
     "output_type": "execute_result"
    }
   ],
   "source": [
    "dodge['bmi'].isnull().sum()"
   ]
  },
  {
   "cell_type": "code",
   "execution_count": 13,
   "metadata": {
    "id": "THe6d0DhB8A8"
   },
   "outputs": [],
   "source": [
    "dodge['bmi'] = dodge['bmi'].fillna(dodge['bmi'].mean())"
   ]
  },
  {
   "cell_type": "code",
   "execution_count": 14,
   "metadata": {
    "colab": {
     "base_uri": "https://localhost:8080/"
    },
    "id": "uqHyJHD3B8DJ",
    "outputId": "1b7c55fa-cd7a-4ee8-8ad2-23428ac8bf25"
   },
   "outputs": [
    {
     "data": {
      "text/plain": [
       "0"
      ]
     },
     "execution_count": 14,
     "metadata": {},
     "output_type": "execute_result"
    }
   ],
   "source": [
    "dodge['bmi'].isnull().sum()"
   ]
  },
  {
   "cell_type": "markdown",
   "metadata": {
    "id": "w1U9FJZodvFR"
   },
   "source": [
    "##### Exploring each numerical column using describe()\n",
    "\n",
    "\n",
    "\n"
   ]
  },
  {
   "cell_type": "code",
   "execution_count": 15,
   "metadata": {
    "colab": {
     "base_uri": "https://localhost:8080/"
    },
    "id": "BBT3p8-Rf8oK",
    "outputId": "84c73fe5-ff09-432e-b6ec-f4338704968b"
   },
   "outputs": [
    {
     "name": "stdout",
     "output_type": "stream",
     "text": [
      "count    43400.000000\n",
      "mean        42.217894\n",
      "std         22.519649\n",
      "min          0.080000\n",
      "25%         24.000000\n",
      "50%         44.000000\n",
      "75%         60.000000\n",
      "max         82.000000\n",
      "Name: age, dtype: float64\n",
      "count    43400.000000\n",
      "mean         0.093571\n",
      "std          0.291235\n",
      "min          0.000000\n",
      "25%          0.000000\n",
      "50%          0.000000\n",
      "75%          0.000000\n",
      "max          1.000000\n",
      "Name: hypertension, dtype: float64\n",
      "count    43400.000000\n",
      "mean         0.047512\n",
      "std          0.212733\n",
      "min          0.000000\n",
      "25%          0.000000\n",
      "50%          0.000000\n",
      "75%          0.000000\n",
      "max          1.000000\n",
      "Name: heart_disease, dtype: float64\n",
      "count    43400.000000\n",
      "mean       104.482750\n",
      "std         43.111751\n",
      "min         55.000000\n",
      "25%         77.540000\n",
      "50%         91.580000\n",
      "75%        112.070000\n",
      "max        291.050000\n",
      "Name: avg_glucose_level, dtype: float64\n",
      "count    43400.000000\n",
      "mean        28.605038\n",
      "std          7.638023\n",
      "min         10.100000\n",
      "25%         23.400000\n",
      "50%         28.100000\n",
      "75%         32.600000\n",
      "max         97.600000\n",
      "Name: bmi, dtype: float64\n"
     ]
    }
   ],
   "source": [
    "for i in numerical:\n",
    "  print(dodge[i].describe())"
   ]
  },
  {
   "cell_type": "code",
   "execution_count": null,
   "metadata": {
    "id": "zP0eFAA8f8qw"
   },
   "outputs": [],
   "source": []
  },
  {
   "cell_type": "markdown",
   "metadata": {
    "id": "NrDX_1Cyegcp"
   },
   "source": [
    "##### Anamoly Detection and Reduction in Numericals. "
   ]
  },
  {
   "cell_type": "markdown",
   "metadata": {
    "id": "N7R0jZ0pexca"
   },
   "source": [
    "1. age"
   ]
  },
  {
   "cell_type": "code",
   "execution_count": 16,
   "metadata": {
    "colab": {
     "base_uri": "https://localhost:8080/"
    },
    "id": "IATrGw72etry",
    "outputId": "043a7c57-99df-4b6e-a4ee-67ddf91cb27a"
   },
   "outputs": [
    {
     "data": {
      "text/plain": [
       "count    43400.000000\n",
       "mean        42.217894\n",
       "std         22.519649\n",
       "min          0.080000\n",
       "25%         24.000000\n",
       "50%         44.000000\n",
       "75%         60.000000\n",
       "max         82.000000\n",
       "Name: age, dtype: float64"
      ]
     },
     "execution_count": 16,
     "metadata": {},
     "output_type": "execute_result"
    }
   ],
   "source": [
    "dodge['age'].describe()"
   ]
  },
  {
   "cell_type": "code",
   "execution_count": 17,
   "metadata": {
    "colab": {
     "base_uri": "https://localhost:8080/"
    },
    "id": "56GDFvaUpxiy",
    "outputId": "13b000e7-8d41-4611-9c5f-4773388ab615"
   },
   "outputs": [
    {
     "data": {
      "text/plain": [
       "51.00    738\n",
       "52.00    721\n",
       "53.00    701\n",
       "78.00    698\n",
       "50.00    694\n",
       "        ... \n",
       "0.48      37\n",
       "0.40      35\n",
       "1.00      34\n",
       "0.16      26\n",
       "0.08      17\n",
       "Name: age, Length: 104, dtype: int64"
      ]
     },
     "execution_count": 17,
     "metadata": {},
     "output_type": "execute_result"
    }
   ],
   "source": [
    "dodge['age'].value_counts()"
   ]
  },
  {
   "cell_type": "markdown",
   "metadata": {
    "id": "Fi7bMPXkfJIC"
   },
   "source": [
    "##### Function to check the Anamolies in the column using upper_limit and lower_limit.\n",
    "\n",
    "\n",
    "1. If the upper_limit > max(df['col']), then we replace the upper_limit with the max value.\n",
    "2. Similarly, if the lower_limit < min(df['col']), we replace the lower_limit with the min value.\n",
    "\n"
   ]
  },
  {
   "cell_type": "code",
   "execution_count": 18,
   "metadata": {
    "id": "sHfx5ZRZfYAw"
   },
   "outputs": [],
   "source": [
    "anamolies = []\n",
    "def outliers(data):\n",
    "  random_state_mean = np.mean(data)\n",
    "  random_state_std = np.std(data)\n",
    "  anamoly = random_state_std * 3\n",
    "\n",
    "  upper_limit = random_state_mean + anamoly\n",
    "  lower_limit = random_state_mean - anamoly\n",
    "  lp_lower_limit = 1.00\n",
    "  up_upper_limit = max(dodge['age'])\n",
    "  print(upper_limit)\n",
    "  print(lower_limit)\n",
    "\n",
    "  print(lp_lower_limit)\n",
    "  print(up_upper_limit)\n",
    "\n",
    "  for i in data:\n",
    "      if i < lp_lower_limit or i > up_upper_limit:\n",
    "        anamolies.append(i)"
   ]
  },
  {
   "cell_type": "code",
   "execution_count": 19,
   "metadata": {
    "colab": {
     "base_uri": "https://localhost:8080/"
    },
    "id": "3L7esL2si3_z",
    "outputId": "745ed128-618a-40be-bf54-ee3a434e3fc2"
   },
   "outputs": [
    {
     "name": "stdout",
     "output_type": "stream",
     "text": [
      "109.7760617173718\n",
      "-25.340273698938617\n",
      "1.0\n",
      "82.0\n",
      "496\n"
     ]
    }
   ],
   "source": [
    "outliers(dodge['age'])\n",
    "print(len(anamolies))"
   ]
  },
  {
   "cell_type": "code",
   "execution_count": 20,
   "metadata": {
    "colab": {
     "base_uri": "https://localhost:8080/"
    },
    "id": "-wh-bNeRrcVr",
    "outputId": "b5068bdf-418d-45ac-a0e1-d8d18dcca215"
   },
   "outputs": [
    {
     "data": {
      "text/plain": [
       "(43400, 12)"
      ]
     },
     "execution_count": 20,
     "metadata": {},
     "output_type": "execute_result"
    }
   ],
   "source": [
    "dodge.shape"
   ]
  },
  {
   "cell_type": "markdown",
   "metadata": {
    "id": "oAQWTc2IgHYB"
   },
   "source": [
    "Here all the values below 1 are termed as outliers, although in rarest of cases Intrauterine stroke occur to unborn childre in the womb.\n",
    "\n",
    "But in this project we drop those values, but in future we can even work on these values.\n",
    "\n"
   ]
  },
  {
   "cell_type": "code",
   "execution_count": 21,
   "metadata": {
    "colab": {
     "base_uri": "https://localhost:8080/",
     "height": 424
    },
    "id": "y-XD5xyLVhRq",
    "outputId": "d895b2ef-cef8-4968-f6ad-515ab9dee3ba"
   },
   "outputs": [
    {
     "data": {
      "text/html": [
       "<div>\n",
       "<style scoped>\n",
       "    .dataframe tbody tr th:only-of-type {\n",
       "        vertical-align: middle;\n",
       "    }\n",
       "\n",
       "    .dataframe tbody tr th {\n",
       "        vertical-align: top;\n",
       "    }\n",
       "\n",
       "    .dataframe thead th {\n",
       "        text-align: right;\n",
       "    }\n",
       "</style>\n",
       "<table border=\"1\" class=\"dataframe\">\n",
       "  <thead>\n",
       "    <tr style=\"text-align: right;\">\n",
       "      <th></th>\n",
       "      <th>id</th>\n",
       "      <th>gender</th>\n",
       "      <th>age</th>\n",
       "      <th>hypertension</th>\n",
       "      <th>heart_disease</th>\n",
       "      <th>ever_married</th>\n",
       "      <th>work_type</th>\n",
       "      <th>Residence_type</th>\n",
       "      <th>avg_glucose_level</th>\n",
       "      <th>bmi</th>\n",
       "      <th>smoking_status</th>\n",
       "      <th>stroke</th>\n",
       "    </tr>\n",
       "  </thead>\n",
       "  <tbody>\n",
       "    <tr>\n",
       "      <th>116</th>\n",
       "      <td>7559</td>\n",
       "      <td>Female</td>\n",
       "      <td>0.64</td>\n",
       "      <td>0</td>\n",
       "      <td>0</td>\n",
       "      <td>No</td>\n",
       "      <td>children</td>\n",
       "      <td>Urban</td>\n",
       "      <td>83.82</td>\n",
       "      <td>24.9</td>\n",
       "      <td>NaN</td>\n",
       "      <td>0</td>\n",
       "    </tr>\n",
       "    <tr>\n",
       "      <th>129</th>\n",
       "      <td>22706</td>\n",
       "      <td>Female</td>\n",
       "      <td>0.88</td>\n",
       "      <td>0</td>\n",
       "      <td>0</td>\n",
       "      <td>No</td>\n",
       "      <td>children</td>\n",
       "      <td>Rural</td>\n",
       "      <td>88.11</td>\n",
       "      <td>15.5</td>\n",
       "      <td>NaN</td>\n",
       "      <td>0</td>\n",
       "    </tr>\n",
       "    <tr>\n",
       "      <th>323</th>\n",
       "      <td>61511</td>\n",
       "      <td>Female</td>\n",
       "      <td>0.32</td>\n",
       "      <td>0</td>\n",
       "      <td>0</td>\n",
       "      <td>No</td>\n",
       "      <td>children</td>\n",
       "      <td>Rural</td>\n",
       "      <td>73.71</td>\n",
       "      <td>16.2</td>\n",
       "      <td>NaN</td>\n",
       "      <td>0</td>\n",
       "    </tr>\n",
       "    <tr>\n",
       "      <th>746</th>\n",
       "      <td>54747</td>\n",
       "      <td>Male</td>\n",
       "      <td>0.88</td>\n",
       "      <td>0</td>\n",
       "      <td>0</td>\n",
       "      <td>No</td>\n",
       "      <td>children</td>\n",
       "      <td>Rural</td>\n",
       "      <td>157.57</td>\n",
       "      <td>19.2</td>\n",
       "      <td>NaN</td>\n",
       "      <td>0</td>\n",
       "    </tr>\n",
       "    <tr>\n",
       "      <th>761</th>\n",
       "      <td>53279</td>\n",
       "      <td>Male</td>\n",
       "      <td>0.24</td>\n",
       "      <td>0</td>\n",
       "      <td>0</td>\n",
       "      <td>No</td>\n",
       "      <td>children</td>\n",
       "      <td>Rural</td>\n",
       "      <td>118.87</td>\n",
       "      <td>16.3</td>\n",
       "      <td>NaN</td>\n",
       "      <td>0</td>\n",
       "    </tr>\n",
       "    <tr>\n",
       "      <th>...</th>\n",
       "      <td>...</td>\n",
       "      <td>...</td>\n",
       "      <td>...</td>\n",
       "      <td>...</td>\n",
       "      <td>...</td>\n",
       "      <td>...</td>\n",
       "      <td>...</td>\n",
       "      <td>...</td>\n",
       "      <td>...</td>\n",
       "      <td>...</td>\n",
       "      <td>...</td>\n",
       "      <td>...</td>\n",
       "    </tr>\n",
       "    <tr>\n",
       "      <th>43031</th>\n",
       "      <td>2698</td>\n",
       "      <td>Female</td>\n",
       "      <td>0.32</td>\n",
       "      <td>0</td>\n",
       "      <td>0</td>\n",
       "      <td>No</td>\n",
       "      <td>children</td>\n",
       "      <td>Urban</td>\n",
       "      <td>91.86</td>\n",
       "      <td>17.6</td>\n",
       "      <td>NaN</td>\n",
       "      <td>0</td>\n",
       "    </tr>\n",
       "    <tr>\n",
       "      <th>43106</th>\n",
       "      <td>51999</td>\n",
       "      <td>Male</td>\n",
       "      <td>0.32</td>\n",
       "      <td>0</td>\n",
       "      <td>0</td>\n",
       "      <td>No</td>\n",
       "      <td>children</td>\n",
       "      <td>Urban</td>\n",
       "      <td>90.38</td>\n",
       "      <td>16.1</td>\n",
       "      <td>NaN</td>\n",
       "      <td>0</td>\n",
       "    </tr>\n",
       "    <tr>\n",
       "      <th>43220</th>\n",
       "      <td>36634</td>\n",
       "      <td>Female</td>\n",
       "      <td>0.08</td>\n",
       "      <td>0</td>\n",
       "      <td>0</td>\n",
       "      <td>No</td>\n",
       "      <td>children</td>\n",
       "      <td>Rural</td>\n",
       "      <td>125.11</td>\n",
       "      <td>12.1</td>\n",
       "      <td>NaN</td>\n",
       "      <td>0</td>\n",
       "    </tr>\n",
       "    <tr>\n",
       "      <th>43296</th>\n",
       "      <td>52578</td>\n",
       "      <td>Male</td>\n",
       "      <td>0.56</td>\n",
       "      <td>0</td>\n",
       "      <td>0</td>\n",
       "      <td>No</td>\n",
       "      <td>children</td>\n",
       "      <td>Rural</td>\n",
       "      <td>78.07</td>\n",
       "      <td>21.9</td>\n",
       "      <td>NaN</td>\n",
       "      <td>0</td>\n",
       "    </tr>\n",
       "    <tr>\n",
       "      <th>43330</th>\n",
       "      <td>18634</td>\n",
       "      <td>Female</td>\n",
       "      <td>0.72</td>\n",
       "      <td>0</td>\n",
       "      <td>0</td>\n",
       "      <td>No</td>\n",
       "      <td>children</td>\n",
       "      <td>Urban</td>\n",
       "      <td>87.74</td>\n",
       "      <td>16.6</td>\n",
       "      <td>NaN</td>\n",
       "      <td>0</td>\n",
       "    </tr>\n",
       "  </tbody>\n",
       "</table>\n",
       "<p>496 rows × 12 columns</p>\n",
       "</div>"
      ],
      "text/plain": [
       "          id  gender   age  hypertension  heart_disease ever_married  \\\n",
       "116     7559  Female  0.64             0              0           No   \n",
       "129    22706  Female  0.88             0              0           No   \n",
       "323    61511  Female  0.32             0              0           No   \n",
       "746    54747    Male  0.88             0              0           No   \n",
       "761    53279    Male  0.24             0              0           No   \n",
       "...      ...     ...   ...           ...            ...          ...   \n",
       "43031   2698  Female  0.32             0              0           No   \n",
       "43106  51999    Male  0.32             0              0           No   \n",
       "43220  36634  Female  0.08             0              0           No   \n",
       "43296  52578    Male  0.56             0              0           No   \n",
       "43330  18634  Female  0.72             0              0           No   \n",
       "\n",
       "      work_type Residence_type  avg_glucose_level   bmi smoking_status  stroke  \n",
       "116    children          Urban              83.82  24.9            NaN       0  \n",
       "129    children          Rural              88.11  15.5            NaN       0  \n",
       "323    children          Rural              73.71  16.2            NaN       0  \n",
       "746    children          Rural             157.57  19.2            NaN       0  \n",
       "761    children          Rural             118.87  16.3            NaN       0  \n",
       "...         ...            ...                ...   ...            ...     ...  \n",
       "43031  children          Urban              91.86  17.6            NaN       0  \n",
       "43106  children          Urban              90.38  16.1            NaN       0  \n",
       "43220  children          Rural             125.11  12.1            NaN       0  \n",
       "43296  children          Rural              78.07  21.9            NaN       0  \n",
       "43330  children          Urban              87.74  16.6            NaN       0  \n",
       "\n",
       "[496 rows x 12 columns]"
      ]
     },
     "execution_count": 21,
     "metadata": {},
     "output_type": "execute_result"
    }
   ],
   "source": [
    "dodge[dodge['age'] < 1.00]"
   ]
  },
  {
   "cell_type": "code",
   "execution_count": 22,
   "metadata": {
    "colab": {
     "base_uri": "https://localhost:8080/"
    },
    "id": "xUlW2odDF3cN",
    "outputId": "7f2b3787-1b5c-4326-f88b-20a1c3a8a0b6"
   },
   "outputs": [
    {
     "data": {
      "text/plain": [
       "Int64Index([  116,   129,   323,   746,   761,   861,   975,  1087,  1375,\n",
       "             1389,\n",
       "            ...\n",
       "            42637, 42862, 42880, 42881, 42982, 43031, 43106, 43220, 43296,\n",
       "            43330],\n",
       "           dtype='int64', length=496)"
      ]
     },
     "execution_count": 22,
     "metadata": {},
     "output_type": "execute_result"
    }
   ],
   "source": [
    "dodge[dodge['age'] < 1.00].index"
   ]
  },
  {
   "cell_type": "code",
   "execution_count": 23,
   "metadata": {
    "id": "3y07HnH9F3dv"
   },
   "outputs": [],
   "source": [
    "chevy = dodge.drop(index = dodge[dodge['age'] < 1.00].index, axis = 0, inplace=True)"
   ]
  },
  {
   "cell_type": "code",
   "execution_count": 24,
   "metadata": {
    "id": "CAKu20dBBfyV"
   },
   "outputs": [],
   "source": [
    "dodge.drop(index = dodge[(dodge.age > 1.0) & (dodge.age < 2.0)].index, axis = 0, inplace = True)"
   ]
  },
  {
   "cell_type": "code",
   "execution_count": 25,
   "metadata": {
    "colab": {
     "base_uri": "https://localhost:8080/"
    },
    "id": "bppkMXn2F38U",
    "outputId": "ceab5fda-254a-4e60-af88-56f451a21ad2"
   },
   "outputs": [
    {
     "data": {
      "text/plain": [
       "(42309, 12)"
      ]
     },
     "execution_count": 25,
     "metadata": {},
     "output_type": "execute_result"
    }
   ],
   "source": [
    "dodge.shape"
   ]
  },
  {
   "cell_type": "code",
   "execution_count": null,
   "metadata": {
    "id": "iFkEq84hhs9a"
   },
   "outputs": [],
   "source": []
  },
  {
   "cell_type": "markdown",
   "metadata": {
    "id": "Nd8790bAhlzU"
   },
   "source": [
    "2. avg_glucose_level(Average Glucose Level)"
   ]
  },
  {
   "cell_type": "code",
   "execution_count": 26,
   "metadata": {
    "id": "yp80lcHGWDq1"
   },
   "outputs": [],
   "source": [
    "anamolies = []\n",
    "def outliers(data):\n",
    "  random_state_mean = np.mean(data)\n",
    "  random_state_std = np.std(data)\n",
    "  anamoly = random_state_std * 3\n",
    "\n",
    "  upper_limit = random_state_mean + anamoly\n",
    "  lower_limit = random_state_mean - anamoly\n",
    "  ll_p = min(dodge['avg_glucose_level'])\n",
    "\n",
    "  print(upper_limit)\n",
    "  print(lower_limit)\n",
    "  print(ll_p)\n",
    "  for i in data:\n",
    "    if i < ll_p or i > upper_limit:\n",
    "      anamolies.append(i)"
   ]
  },
  {
   "cell_type": "code",
   "execution_count": 27,
   "metadata": {
    "colab": {
     "base_uri": "https://localhost:8080/"
    },
    "id": "BmPeNQp4WIEW",
    "outputId": "81607080-1e53-4963-869f-6c8665bd86ff"
   },
   "outputs": [
    {
     "name": "stdout",
     "output_type": "stream",
     "text": [
      "235.13454455171652\n",
      "-25.55617162869774\n",
      "55.0\n",
      "575\n"
     ]
    }
   ],
   "source": [
    "outliers(dodge['avg_glucose_level'])\n",
    "print(len(anamolies))"
   ]
  },
  {
   "cell_type": "code",
   "execution_count": 28,
   "metadata": {
    "colab": {
     "base_uri": "https://localhost:8080/"
    },
    "id": "-AeG7IZxgBCr",
    "outputId": "bee91825-a52d-4f52-d360-95c49df2f641"
   },
   "outputs": [
    {
     "data": {
      "text/plain": [
       "count    42309.000000\n",
       "mean       104.789186\n",
       "std         43.448966\n",
       "min         55.000000\n",
       "25%         77.570000\n",
       "50%         91.650000\n",
       "75%        112.260000\n",
       "max        291.050000\n",
       "Name: avg_glucose_level, dtype: float64"
      ]
     },
     "execution_count": 28,
     "metadata": {},
     "output_type": "execute_result"
    }
   ],
   "source": [
    "dodge['avg_glucose_level'].describe()"
   ]
  },
  {
   "cell_type": "code",
   "execution_count": 29,
   "metadata": {
    "colab": {
     "base_uri": "https://localhost:8080/",
     "height": 491
    },
    "id": "mOqmjbCoirDT",
    "outputId": "e31ca6d3-d124-4e02-b3fc-39967e4fcbd7"
   },
   "outputs": [
    {
     "data": {
      "text/html": [
       "<div>\n",
       "<style scoped>\n",
       "    .dataframe tbody tr th:only-of-type {\n",
       "        vertical-align: middle;\n",
       "    }\n",
       "\n",
       "    .dataframe tbody tr th {\n",
       "        vertical-align: top;\n",
       "    }\n",
       "\n",
       "    .dataframe thead th {\n",
       "        text-align: right;\n",
       "    }\n",
       "</style>\n",
       "<table border=\"1\" class=\"dataframe\">\n",
       "  <thead>\n",
       "    <tr style=\"text-align: right;\">\n",
       "      <th></th>\n",
       "      <th>id</th>\n",
       "      <th>gender</th>\n",
       "      <th>age</th>\n",
       "      <th>hypertension</th>\n",
       "      <th>heart_disease</th>\n",
       "      <th>ever_married</th>\n",
       "      <th>work_type</th>\n",
       "      <th>Residence_type</th>\n",
       "      <th>avg_glucose_level</th>\n",
       "      <th>bmi</th>\n",
       "      <th>smoking_status</th>\n",
       "      <th>stroke</th>\n",
       "    </tr>\n",
       "  </thead>\n",
       "  <tbody>\n",
       "    <tr>\n",
       "      <th>7</th>\n",
       "      <td>41413</td>\n",
       "      <td>Female</td>\n",
       "      <td>75.0</td>\n",
       "      <td>0</td>\n",
       "      <td>1</td>\n",
       "      <td>Yes</td>\n",
       "      <td>Self-employed</td>\n",
       "      <td>Rural</td>\n",
       "      <td>243.53</td>\n",
       "      <td>27.000000</td>\n",
       "      <td>never smoked</td>\n",
       "      <td>0</td>\n",
       "    </tr>\n",
       "    <tr>\n",
       "      <th>54</th>\n",
       "      <td>18518</td>\n",
       "      <td>Male</td>\n",
       "      <td>66.0</td>\n",
       "      <td>0</td>\n",
       "      <td>0</td>\n",
       "      <td>Yes</td>\n",
       "      <td>Private</td>\n",
       "      <td>Rural</td>\n",
       "      <td>242.30</td>\n",
       "      <td>35.300000</td>\n",
       "      <td>smokes</td>\n",
       "      <td>0</td>\n",
       "    </tr>\n",
       "    <tr>\n",
       "      <th>77</th>\n",
       "      <td>4480</td>\n",
       "      <td>Male</td>\n",
       "      <td>76.0</td>\n",
       "      <td>0</td>\n",
       "      <td>0</td>\n",
       "      <td>Yes</td>\n",
       "      <td>Private</td>\n",
       "      <td>Rural</td>\n",
       "      <td>234.58</td>\n",
       "      <td>34.300000</td>\n",
       "      <td>formerly smoked</td>\n",
       "      <td>0</td>\n",
       "    </tr>\n",
       "    <tr>\n",
       "      <th>78</th>\n",
       "      <td>2982</td>\n",
       "      <td>Female</td>\n",
       "      <td>57.0</td>\n",
       "      <td>1</td>\n",
       "      <td>0</td>\n",
       "      <td>Yes</td>\n",
       "      <td>Private</td>\n",
       "      <td>Rural</td>\n",
       "      <td>235.85</td>\n",
       "      <td>40.100000</td>\n",
       "      <td>never smoked</td>\n",
       "      <td>0</td>\n",
       "    </tr>\n",
       "    <tr>\n",
       "      <th>83</th>\n",
       "      <td>59368</td>\n",
       "      <td>Female</td>\n",
       "      <td>78.0</td>\n",
       "      <td>0</td>\n",
       "      <td>0</td>\n",
       "      <td>Yes</td>\n",
       "      <td>Private</td>\n",
       "      <td>Urban</td>\n",
       "      <td>243.50</td>\n",
       "      <td>26.100000</td>\n",
       "      <td>never smoked</td>\n",
       "      <td>0</td>\n",
       "    </tr>\n",
       "    <tr>\n",
       "      <th>...</th>\n",
       "      <td>...</td>\n",
       "      <td>...</td>\n",
       "      <td>...</td>\n",
       "      <td>...</td>\n",
       "      <td>...</td>\n",
       "      <td>...</td>\n",
       "      <td>...</td>\n",
       "      <td>...</td>\n",
       "      <td>...</td>\n",
       "      <td>...</td>\n",
       "      <td>...</td>\n",
       "      <td>...</td>\n",
       "    </tr>\n",
       "    <tr>\n",
       "      <th>43228</th>\n",
       "      <td>27207</td>\n",
       "      <td>Male</td>\n",
       "      <td>41.0</td>\n",
       "      <td>1</td>\n",
       "      <td>0</td>\n",
       "      <td>Yes</td>\n",
       "      <td>Private</td>\n",
       "      <td>Rural</td>\n",
       "      <td>271.01</td>\n",
       "      <td>25.800000</td>\n",
       "      <td>NaN</td>\n",
       "      <td>0</td>\n",
       "    </tr>\n",
       "    <tr>\n",
       "      <th>43279</th>\n",
       "      <td>49997</td>\n",
       "      <td>Male</td>\n",
       "      <td>67.0</td>\n",
       "      <td>0</td>\n",
       "      <td>0</td>\n",
       "      <td>Yes</td>\n",
       "      <td>Self-employed</td>\n",
       "      <td>Rural</td>\n",
       "      <td>242.61</td>\n",
       "      <td>47.000000</td>\n",
       "      <td>NaN</td>\n",
       "      <td>0</td>\n",
       "    </tr>\n",
       "    <tr>\n",
       "      <th>43283</th>\n",
       "      <td>29575</td>\n",
       "      <td>Female</td>\n",
       "      <td>30.0</td>\n",
       "      <td>0</td>\n",
       "      <td>0</td>\n",
       "      <td>No</td>\n",
       "      <td>Self-employed</td>\n",
       "      <td>Urban</td>\n",
       "      <td>258.24</td>\n",
       "      <td>28.605038</td>\n",
       "      <td>never smoked</td>\n",
       "      <td>0</td>\n",
       "    </tr>\n",
       "    <tr>\n",
       "      <th>43287</th>\n",
       "      <td>22198</td>\n",
       "      <td>Male</td>\n",
       "      <td>66.0</td>\n",
       "      <td>0</td>\n",
       "      <td>0</td>\n",
       "      <td>Yes</td>\n",
       "      <td>Private</td>\n",
       "      <td>Rural</td>\n",
       "      <td>238.23</td>\n",
       "      <td>33.300000</td>\n",
       "      <td>formerly smoked</td>\n",
       "      <td>0</td>\n",
       "    </tr>\n",
       "    <tr>\n",
       "      <th>43358</th>\n",
       "      <td>40203</td>\n",
       "      <td>Male</td>\n",
       "      <td>78.0</td>\n",
       "      <td>0</td>\n",
       "      <td>0</td>\n",
       "      <td>Yes</td>\n",
       "      <td>Self-employed</td>\n",
       "      <td>Rural</td>\n",
       "      <td>248.93</td>\n",
       "      <td>21.600000</td>\n",
       "      <td>formerly smoked</td>\n",
       "      <td>0</td>\n",
       "    </tr>\n",
       "  </tbody>\n",
       "</table>\n",
       "<p>617 rows × 12 columns</p>\n",
       "</div>"
      ],
      "text/plain": [
       "          id  gender   age  hypertension  heart_disease ever_married  \\\n",
       "7      41413  Female  75.0             0              1          Yes   \n",
       "54     18518    Male  66.0             0              0          Yes   \n",
       "77      4480    Male  76.0             0              0          Yes   \n",
       "78      2982  Female  57.0             1              0          Yes   \n",
       "83     59368  Female  78.0             0              0          Yes   \n",
       "...      ...     ...   ...           ...            ...          ...   \n",
       "43228  27207    Male  41.0             1              0          Yes   \n",
       "43279  49997    Male  67.0             0              0          Yes   \n",
       "43283  29575  Female  30.0             0              0           No   \n",
       "43287  22198    Male  66.0             0              0          Yes   \n",
       "43358  40203    Male  78.0             0              0          Yes   \n",
       "\n",
       "           work_type Residence_type  avg_glucose_level        bmi  \\\n",
       "7      Self-employed          Rural             243.53  27.000000   \n",
       "54           Private          Rural             242.30  35.300000   \n",
       "77           Private          Rural             234.58  34.300000   \n",
       "78           Private          Rural             235.85  40.100000   \n",
       "83           Private          Urban             243.50  26.100000   \n",
       "...              ...            ...                ...        ...   \n",
       "43228        Private          Rural             271.01  25.800000   \n",
       "43279  Self-employed          Rural             242.61  47.000000   \n",
       "43283  Self-employed          Urban             258.24  28.605038   \n",
       "43287        Private          Rural             238.23  33.300000   \n",
       "43358  Self-employed          Rural             248.93  21.600000   \n",
       "\n",
       "        smoking_status  stroke  \n",
       "7         never smoked       0  \n",
       "54              smokes       0  \n",
       "77     formerly smoked       0  \n",
       "78        never smoked       0  \n",
       "83        never smoked       0  \n",
       "...                ...     ...  \n",
       "43228              NaN       0  \n",
       "43279              NaN       0  \n",
       "43283     never smoked       0  \n",
       "43287  formerly smoked       0  \n",
       "43358  formerly smoked       0  \n",
       "\n",
       "[617 rows x 12 columns]"
      ]
     },
     "execution_count": 29,
     "metadata": {},
     "output_type": "execute_result"
    }
   ],
   "source": [
    "dodge[dodge['avg_glucose_level'] > 234.40827023316058 ]"
   ]
  },
  {
   "cell_type": "code",
   "execution_count": 30,
   "metadata": {
    "colab": {
     "base_uri": "https://localhost:8080/"
    },
    "id": "uBoAEwQrkJcq",
    "outputId": "c843c0e1-a4da-408c-ab4c-832773faabe2"
   },
   "outputs": [
    {
     "data": {
      "text/plain": [
       "Int64Index([    7,    54,    77,    78,    83,    96,   139,   310,   322,\n",
       "              469,\n",
       "            ...\n",
       "            43140, 43144, 43155, 43175, 43188, 43228, 43279, 43283, 43287,\n",
       "            43358],\n",
       "           dtype='int64', length=617)"
      ]
     },
     "execution_count": 30,
     "metadata": {},
     "output_type": "execute_result"
    }
   ],
   "source": [
    "dodge[dodge['avg_glucose_level'] > 234.40827023316058].index"
   ]
  },
  {
   "cell_type": "code",
   "execution_count": 31,
   "metadata": {
    "id": "oJtOTle6lCBp"
   },
   "outputs": [],
   "source": [
    "dodge.drop(index = dodge[dodge['avg_glucose_level'] > 234.40827023316058].index, axis = 0, inplace = True)"
   ]
  },
  {
   "cell_type": "code",
   "execution_count": 32,
   "metadata": {
    "colab": {
     "base_uri": "https://localhost:8080/"
    },
    "id": "Qnb2gdsWlPsJ",
    "outputId": "0c29c7d9-caf2-4a92-974f-0bce6fee6f50"
   },
   "outputs": [
    {
     "data": {
      "text/plain": [
       "(41692, 12)"
      ]
     },
     "execution_count": 32,
     "metadata": {},
     "output_type": "execute_result"
    }
   ],
   "source": [
    "dodge.shape"
   ]
  },
  {
   "cell_type": "markdown",
   "metadata": {
    "id": "rVGAMPJfh-lO"
   },
   "source": [
    "3. bmi(Body Mass Index)"
   ]
  },
  {
   "cell_type": "code",
   "execution_count": 33,
   "metadata": {
    "id": "zvr7-sJ6lPub"
   },
   "outputs": [],
   "source": [
    "anamolies = []\n",
    "def outliers(data):\n",
    "  random_state_mean = np.mean(data)\n",
    "  random_state_std = np.std(data)\n",
    "  anamoly = random_state_std * 3\n",
    "\n",
    "  upper_limit = random_state_mean + anamoly\n",
    "  lower_limit = random_state_mean - anamoly\n",
    "  lll_p = min(dodge['bmi'])\n",
    "\n",
    "  print(upper_limit)\n",
    "  print(lower_limit)\n",
    "  print(lll_p)\n",
    "  for i in data:\n",
    "    if i < lll_p or i > upper_limit:\n",
    "      anamolies.append(i)"
   ]
  },
  {
   "cell_type": "code",
   "execution_count": 34,
   "metadata": {
    "colab": {
     "base_uri": "https://localhost:8080/"
    },
    "id": "TarKzxc2luUA",
    "outputId": "f3dc252d-18c2-48a8-c61e-058486631741"
   },
   "outputs": [
    {
     "name": "stdout",
     "output_type": "stream",
     "text": [
      "51.34051370653113\n",
      "6.268167446955189\n",
      "10.1\n",
      "431\n"
     ]
    }
   ],
   "source": [
    "outliers(dodge['bmi'])\n",
    "print(len(anamolies))"
   ]
  },
  {
   "cell_type": "code",
   "execution_count": 35,
   "metadata": {
    "colab": {
     "base_uri": "https://localhost:8080/"
    },
    "id": "qMD4YPuxm3cV",
    "outputId": "49c6f2b5-3ed4-47f0-a471-896572b57f48"
   },
   "outputs": [
    {
     "data": {
      "text/plain": [
       "count    41692.000000\n",
       "mean        28.804341\n",
       "std          7.512148\n",
       "min         10.100000\n",
       "25%         23.700000\n",
       "50%         28.200000\n",
       "75%         32.700000\n",
       "max         97.600000\n",
       "Name: bmi, dtype: float64"
      ]
     },
     "execution_count": 35,
     "metadata": {},
     "output_type": "execute_result"
    }
   ],
   "source": [
    "dodge['bmi'].describe()"
   ]
  },
  {
   "cell_type": "code",
   "execution_count": 36,
   "metadata": {
    "colab": {
     "base_uri": "https://localhost:8080/",
     "height": 458
    },
    "id": "rCrXgiKXmZG4",
    "outputId": "22bba17c-c049-4ca0-e2a9-26a679a48eb3"
   },
   "outputs": [
    {
     "data": {
      "text/html": [
       "<div>\n",
       "<style scoped>\n",
       "    .dataframe tbody tr th:only-of-type {\n",
       "        vertical-align: middle;\n",
       "    }\n",
       "\n",
       "    .dataframe tbody tr th {\n",
       "        vertical-align: top;\n",
       "    }\n",
       "\n",
       "    .dataframe thead th {\n",
       "        text-align: right;\n",
       "    }\n",
       "</style>\n",
       "<table border=\"1\" class=\"dataframe\">\n",
       "  <thead>\n",
       "    <tr style=\"text-align: right;\">\n",
       "      <th></th>\n",
       "      <th>id</th>\n",
       "      <th>gender</th>\n",
       "      <th>age</th>\n",
       "      <th>hypertension</th>\n",
       "      <th>heart_disease</th>\n",
       "      <th>ever_married</th>\n",
       "      <th>work_type</th>\n",
       "      <th>Residence_type</th>\n",
       "      <th>avg_glucose_level</th>\n",
       "      <th>bmi</th>\n",
       "      <th>smoking_status</th>\n",
       "      <th>stroke</th>\n",
       "    </tr>\n",
       "  </thead>\n",
       "  <tbody>\n",
       "    <tr>\n",
       "      <th>9</th>\n",
       "      <td>28674</td>\n",
       "      <td>Female</td>\n",
       "      <td>74.0</td>\n",
       "      <td>1</td>\n",
       "      <td>0</td>\n",
       "      <td>Yes</td>\n",
       "      <td>Self-employed</td>\n",
       "      <td>Urban</td>\n",
       "      <td>205.84</td>\n",
       "      <td>54.6</td>\n",
       "      <td>never smoked</td>\n",
       "      <td>0</td>\n",
       "    </tr>\n",
       "    <tr>\n",
       "      <th>21</th>\n",
       "      <td>72911</td>\n",
       "      <td>Female</td>\n",
       "      <td>57.0</td>\n",
       "      <td>1</td>\n",
       "      <td>0</td>\n",
       "      <td>Yes</td>\n",
       "      <td>Private</td>\n",
       "      <td>Rural</td>\n",
       "      <td>129.54</td>\n",
       "      <td>60.9</td>\n",
       "      <td>smokes</td>\n",
       "      <td>0</td>\n",
       "    </tr>\n",
       "    <tr>\n",
       "      <th>86</th>\n",
       "      <td>1703</td>\n",
       "      <td>Female</td>\n",
       "      <td>52.0</td>\n",
       "      <td>0</td>\n",
       "      <td>0</td>\n",
       "      <td>Yes</td>\n",
       "      <td>Private</td>\n",
       "      <td>Urban</td>\n",
       "      <td>82.24</td>\n",
       "      <td>54.7</td>\n",
       "      <td>formerly smoked</td>\n",
       "      <td>0</td>\n",
       "    </tr>\n",
       "    <tr>\n",
       "      <th>111</th>\n",
       "      <td>66333</td>\n",
       "      <td>Male</td>\n",
       "      <td>52.0</td>\n",
       "      <td>0</td>\n",
       "      <td>0</td>\n",
       "      <td>Yes</td>\n",
       "      <td>Self-employed</td>\n",
       "      <td>Urban</td>\n",
       "      <td>78.40</td>\n",
       "      <td>64.8</td>\n",
       "      <td>never smoked</td>\n",
       "      <td>0</td>\n",
       "    </tr>\n",
       "    <tr>\n",
       "      <th>184</th>\n",
       "      <td>53144</td>\n",
       "      <td>Female</td>\n",
       "      <td>52.0</td>\n",
       "      <td>0</td>\n",
       "      <td>1</td>\n",
       "      <td>Yes</td>\n",
       "      <td>Private</td>\n",
       "      <td>Urban</td>\n",
       "      <td>72.79</td>\n",
       "      <td>54.7</td>\n",
       "      <td>never smoked</td>\n",
       "      <td>0</td>\n",
       "    </tr>\n",
       "    <tr>\n",
       "      <th>...</th>\n",
       "      <td>...</td>\n",
       "      <td>...</td>\n",
       "      <td>...</td>\n",
       "      <td>...</td>\n",
       "      <td>...</td>\n",
       "      <td>...</td>\n",
       "      <td>...</td>\n",
       "      <td>...</td>\n",
       "      <td>...</td>\n",
       "      <td>...</td>\n",
       "      <td>...</td>\n",
       "      <td>...</td>\n",
       "    </tr>\n",
       "    <tr>\n",
       "      <th>43025</th>\n",
       "      <td>14846</td>\n",
       "      <td>Male</td>\n",
       "      <td>50.0</td>\n",
       "      <td>1</td>\n",
       "      <td>0</td>\n",
       "      <td>Yes</td>\n",
       "      <td>Govt_job</td>\n",
       "      <td>Rural</td>\n",
       "      <td>75.29</td>\n",
       "      <td>52.0</td>\n",
       "      <td>never smoked</td>\n",
       "      <td>0</td>\n",
       "    </tr>\n",
       "    <tr>\n",
       "      <th>43087</th>\n",
       "      <td>70198</td>\n",
       "      <td>Male</td>\n",
       "      <td>78.0</td>\n",
       "      <td>1</td>\n",
       "      <td>0</td>\n",
       "      <td>Yes</td>\n",
       "      <td>Private</td>\n",
       "      <td>Rural</td>\n",
       "      <td>135.73</td>\n",
       "      <td>89.0</td>\n",
       "      <td>never smoked</td>\n",
       "      <td>0</td>\n",
       "    </tr>\n",
       "    <tr>\n",
       "      <th>43239</th>\n",
       "      <td>36167</td>\n",
       "      <td>Male</td>\n",
       "      <td>21.0</td>\n",
       "      <td>0</td>\n",
       "      <td>0</td>\n",
       "      <td>No</td>\n",
       "      <td>Private</td>\n",
       "      <td>Urban</td>\n",
       "      <td>83.78</td>\n",
       "      <td>54.9</td>\n",
       "      <td>never smoked</td>\n",
       "      <td>0</td>\n",
       "    </tr>\n",
       "    <tr>\n",
       "      <th>43355</th>\n",
       "      <td>57237</td>\n",
       "      <td>Female</td>\n",
       "      <td>46.0</td>\n",
       "      <td>0</td>\n",
       "      <td>0</td>\n",
       "      <td>Yes</td>\n",
       "      <td>Private</td>\n",
       "      <td>Rural</td>\n",
       "      <td>99.81</td>\n",
       "      <td>53.2</td>\n",
       "      <td>NaN</td>\n",
       "      <td>0</td>\n",
       "    </tr>\n",
       "    <tr>\n",
       "      <th>43396</th>\n",
       "      <td>5450</td>\n",
       "      <td>Female</td>\n",
       "      <td>56.0</td>\n",
       "      <td>0</td>\n",
       "      <td>0</td>\n",
       "      <td>Yes</td>\n",
       "      <td>Govt_job</td>\n",
       "      <td>Urban</td>\n",
       "      <td>213.61</td>\n",
       "      <td>55.4</td>\n",
       "      <td>formerly smoked</td>\n",
       "      <td>0</td>\n",
       "    </tr>\n",
       "  </tbody>\n",
       "</table>\n",
       "<p>431 rows × 12 columns</p>\n",
       "</div>"
      ],
      "text/plain": [
       "          id  gender   age  hypertension  heart_disease ever_married  \\\n",
       "9      28674  Female  74.0             1              0          Yes   \n",
       "21     72911  Female  57.0             1              0          Yes   \n",
       "86      1703  Female  52.0             0              0          Yes   \n",
       "111    66333    Male  52.0             0              0          Yes   \n",
       "184    53144  Female  52.0             0              1          Yes   \n",
       "...      ...     ...   ...           ...            ...          ...   \n",
       "43025  14846    Male  50.0             1              0          Yes   \n",
       "43087  70198    Male  78.0             1              0          Yes   \n",
       "43239  36167    Male  21.0             0              0           No   \n",
       "43355  57237  Female  46.0             0              0          Yes   \n",
       "43396   5450  Female  56.0             0              0          Yes   \n",
       "\n",
       "           work_type Residence_type  avg_glucose_level   bmi   smoking_status  \\\n",
       "9      Self-employed          Urban             205.84  54.6     never smoked   \n",
       "21           Private          Rural             129.54  60.9           smokes   \n",
       "86           Private          Urban              82.24  54.7  formerly smoked   \n",
       "111    Self-employed          Urban              78.40  64.8     never smoked   \n",
       "184          Private          Urban              72.79  54.7     never smoked   \n",
       "...              ...            ...                ...   ...              ...   \n",
       "43025       Govt_job          Rural              75.29  52.0     never smoked   \n",
       "43087        Private          Rural             135.73  89.0     never smoked   \n",
       "43239        Private          Urban              83.78  54.9     never smoked   \n",
       "43355        Private          Rural              99.81  53.2              NaN   \n",
       "43396       Govt_job          Urban             213.61  55.4  formerly smoked   \n",
       "\n",
       "       stroke  \n",
       "9           0  \n",
       "21          0  \n",
       "86          0  \n",
       "111         0  \n",
       "184         0  \n",
       "...       ...  \n",
       "43025       0  \n",
       "43087       0  \n",
       "43239       0  \n",
       "43355       0  \n",
       "43396       0  \n",
       "\n",
       "[431 rows x 12 columns]"
      ]
     },
     "execution_count": 36,
     "metadata": {},
     "output_type": "execute_result"
    }
   ],
   "source": [
    "dodge[dodge['bmi'] > 51.35486554902225]"
   ]
  },
  {
   "cell_type": "code",
   "execution_count": 37,
   "metadata": {
    "colab": {
     "base_uri": "https://localhost:8080/"
    },
    "id": "dwjwFv6XmZJQ",
    "outputId": "f682f5dd-06b3-4ba2-8246-ec95415b52ba"
   },
   "outputs": [
    {
     "data": {
      "text/plain": [
       "Int64Index([    9,    21,    86,   111,   184,   220,   297,   302,   396,\n",
       "              422,\n",
       "            ...\n",
       "            42560, 42589, 42604, 42831, 42977, 43025, 43087, 43239, 43355,\n",
       "            43396],\n",
       "           dtype='int64', length=431)"
      ]
     },
     "execution_count": 37,
     "metadata": {},
     "output_type": "execute_result"
    }
   ],
   "source": [
    "dodge[dodge['bmi'] > 51.35486554902225].index"
   ]
  },
  {
   "cell_type": "code",
   "execution_count": 38,
   "metadata": {
    "id": "Ys016jdgl92u"
   },
   "outputs": [],
   "source": [
    "dodge.drop(index = dodge[dodge['bmi'] > 51.35486554902225].index, axis = 0, inplace = True)"
   ]
  },
  {
   "cell_type": "code",
   "execution_count": 39,
   "metadata": {
    "colab": {
     "base_uri": "https://localhost:8080/"
    },
    "id": "-_CMR2A9luYY",
    "outputId": "00c38020-94be-4f2b-be01-703a14c0248f"
   },
   "outputs": [
    {
     "data": {
      "text/plain": [
       "(41261, 12)"
      ]
     },
     "execution_count": 39,
     "metadata": {},
     "output_type": "execute_result"
    }
   ],
   "source": [
    "dodge.shape"
   ]
  },
  {
   "cell_type": "markdown",
   "metadata": {
    "id": "ImbBoSqRiZ6H"
   },
   "source": [
    "Checking Null Values in the Dataset.\n",
    "\n",
    "Except smoking_status, every column is free from null values.\n",
    "\n"
   ]
  },
  {
   "cell_type": "code",
   "execution_count": 40,
   "metadata": {
    "colab": {
     "base_uri": "https://localhost:8080/"
    },
    "id": "AEkAzVByncnT",
    "outputId": "d88e5171-74da-498b-d540-e3fc67112ac9"
   },
   "outputs": [
    {
     "data": {
      "text/plain": [
       "id                       0\n",
       "gender                   0\n",
       "age                      0\n",
       "hypertension             0\n",
       "heart_disease            0\n",
       "ever_married             0\n",
       "work_type                0\n",
       "Residence_type           0\n",
       "avg_glucose_level        0\n",
       "bmi                      0\n",
       "smoking_status       12015\n",
       "stroke                   0\n",
       "dtype: int64"
      ]
     },
     "execution_count": 40,
     "metadata": {},
     "output_type": "execute_result"
    }
   ],
   "source": [
    "dodge.isnull().sum()"
   ]
  },
  {
   "cell_type": "markdown",
   "metadata": {
    "id": "-cSBf4YwnvBu"
   },
   "source": [
    "### **Exploring Independent Categorical(Object/String) Columns.**\n",
    "\n",
    "\n",
    "1. Cleaning\n",
    "2. Treating Missing values\n",
    "\n"
   ]
  },
  {
   "cell_type": "code",
   "execution_count": 41,
   "metadata": {
    "id": "HGXf3Su7nuZs"
   },
   "outputs": [],
   "source": [
    "categorical = ['gender', 'ever_married', 'work_type', 'Residence_type', 'smoking_status']"
   ]
  },
  {
   "cell_type": "code",
   "execution_count": 42,
   "metadata": {
    "colab": {
     "base_uri": "https://localhost:8080/"
    },
    "id": "W3y0R9mOnuc6",
    "outputId": "d4c0d347-9afe-42b8-a4ca-bd80f27ae525"
   },
   "outputs": [
    {
     "name": "stdout",
     "output_type": "stream",
     "text": [
      "count      41261\n",
      "unique         3\n",
      "top       Female\n",
      "freq       24498\n",
      "Name: gender, dtype: object\n",
      "count     41261\n",
      "unique        2\n",
      "top         Yes\n",
      "freq      27051\n",
      "Name: ever_married, dtype: object\n",
      "count       41261\n",
      "unique          5\n",
      "top       Private\n",
      "freq        24195\n",
      "Name: work_type, dtype: object\n",
      "count     41261\n",
      "unique        2\n",
      "top       Urban\n",
      "freq      20664\n",
      "Name: Residence_type, dtype: object\n",
      "count            29246\n",
      "unique               3\n",
      "top       never smoked\n",
      "freq             15655\n",
      "Name: smoking_status, dtype: object\n"
     ]
    }
   ],
   "source": [
    "for i in categorical:\n",
    "  print(dodge[i].describe())"
   ]
  },
  {
   "cell_type": "code",
   "execution_count": 43,
   "metadata": {
    "colab": {
     "base_uri": "https://localhost:8080/",
     "height": 166
    },
    "id": "K13hUli7nuen",
    "outputId": "59c91c55-cb87-4c43-87ee-66df6195733d"
   },
   "outputs": [
    {
     "data": {
      "text/html": [
       "<div>\n",
       "<style scoped>\n",
       "    .dataframe tbody tr th:only-of-type {\n",
       "        vertical-align: middle;\n",
       "    }\n",
       "\n",
       "    .dataframe tbody tr th {\n",
       "        vertical-align: top;\n",
       "    }\n",
       "\n",
       "    .dataframe thead th {\n",
       "        text-align: right;\n",
       "    }\n",
       "</style>\n",
       "<table border=\"1\" class=\"dataframe\">\n",
       "  <thead>\n",
       "    <tr style=\"text-align: right;\">\n",
       "      <th></th>\n",
       "      <th>gender</th>\n",
       "      <th>ever_married</th>\n",
       "      <th>work_type</th>\n",
       "      <th>Residence_type</th>\n",
       "      <th>smoking_status</th>\n",
       "    </tr>\n",
       "  </thead>\n",
       "  <tbody>\n",
       "    <tr>\n",
       "      <th>count</th>\n",
       "      <td>41261</td>\n",
       "      <td>41261</td>\n",
       "      <td>41261</td>\n",
       "      <td>41261</td>\n",
       "      <td>29246</td>\n",
       "    </tr>\n",
       "    <tr>\n",
       "      <th>unique</th>\n",
       "      <td>3</td>\n",
       "      <td>2</td>\n",
       "      <td>5</td>\n",
       "      <td>2</td>\n",
       "      <td>3</td>\n",
       "    </tr>\n",
       "    <tr>\n",
       "      <th>top</th>\n",
       "      <td>Female</td>\n",
       "      <td>Yes</td>\n",
       "      <td>Private</td>\n",
       "      <td>Urban</td>\n",
       "      <td>never smoked</td>\n",
       "    </tr>\n",
       "    <tr>\n",
       "      <th>freq</th>\n",
       "      <td>24498</td>\n",
       "      <td>27051</td>\n",
       "      <td>24195</td>\n",
       "      <td>20664</td>\n",
       "      <td>15655</td>\n",
       "    </tr>\n",
       "  </tbody>\n",
       "</table>\n",
       "</div>"
      ],
      "text/plain": [
       "        gender ever_married work_type Residence_type smoking_status\n",
       "count    41261        41261     41261          41261          29246\n",
       "unique       3            2         5              2              3\n",
       "top     Female          Yes   Private          Urban   never smoked\n",
       "freq     24498        27051     24195          20664          15655"
      ]
     },
     "execution_count": 43,
     "metadata": {},
     "output_type": "execute_result"
    }
   ],
   "source": [
    "dodge.describe(include = 'object')"
   ]
  },
  {
   "cell_type": "code",
   "execution_count": 44,
   "metadata": {
    "colab": {
     "base_uri": "https://localhost:8080/"
    },
    "id": "27nC7WH1nugY",
    "outputId": "e530455e-7217-4bcd-f8a1-14333bbe71c0"
   },
   "outputs": [
    {
     "data": {
      "text/plain": [
       "never smoked       15655\n",
       "formerly smoked     7222\n",
       "smokes              6369\n",
       "Name: smoking_status, dtype: int64"
      ]
     },
     "execution_count": 44,
     "metadata": {},
     "output_type": "execute_result"
    }
   ],
   "source": [
    "dodge['smoking_status'].value_counts()"
   ]
  },
  {
   "cell_type": "code",
   "execution_count": 45,
   "metadata": {
    "colab": {
     "base_uri": "https://localhost:8080/",
     "height": 395
    },
    "id": "psP3_ncRNOpk",
    "outputId": "c148fdb0-b485-47b6-d576-20830d4beb3d"
   },
   "outputs": [
    {
     "data": {
      "text/html": [
       "<div>\n",
       "<style scoped>\n",
       "    .dataframe tbody tr th:only-of-type {\n",
       "        vertical-align: middle;\n",
       "    }\n",
       "\n",
       "    .dataframe tbody tr th {\n",
       "        vertical-align: top;\n",
       "    }\n",
       "\n",
       "    .dataframe thead th {\n",
       "        text-align: right;\n",
       "    }\n",
       "</style>\n",
       "<table border=\"1\" class=\"dataframe\">\n",
       "  <thead>\n",
       "    <tr style=\"text-align: right;\">\n",
       "      <th></th>\n",
       "      <th>id</th>\n",
       "      <th>gender</th>\n",
       "      <th>age</th>\n",
       "      <th>hypertension</th>\n",
       "      <th>heart_disease</th>\n",
       "      <th>ever_married</th>\n",
       "      <th>work_type</th>\n",
       "      <th>Residence_type</th>\n",
       "      <th>avg_glucose_level</th>\n",
       "      <th>bmi</th>\n",
       "      <th>smoking_status</th>\n",
       "      <th>stroke</th>\n",
       "    </tr>\n",
       "  </thead>\n",
       "  <tbody>\n",
       "    <tr>\n",
       "      <th>count</th>\n",
       "      <td>41261.000000</td>\n",
       "      <td>41261</td>\n",
       "      <td>41261.000000</td>\n",
       "      <td>41261.000000</td>\n",
       "      <td>41261.000000</td>\n",
       "      <td>41261</td>\n",
       "      <td>41261</td>\n",
       "      <td>41261</td>\n",
       "      <td>41261.000000</td>\n",
       "      <td>41261.000000</td>\n",
       "      <td>29246</td>\n",
       "      <td>41261.000000</td>\n",
       "    </tr>\n",
       "    <tr>\n",
       "      <th>unique</th>\n",
       "      <td>NaN</td>\n",
       "      <td>3</td>\n",
       "      <td>NaN</td>\n",
       "      <td>NaN</td>\n",
       "      <td>NaN</td>\n",
       "      <td>2</td>\n",
       "      <td>5</td>\n",
       "      <td>2</td>\n",
       "      <td>NaN</td>\n",
       "      <td>NaN</td>\n",
       "      <td>3</td>\n",
       "      <td>NaN</td>\n",
       "    </tr>\n",
       "    <tr>\n",
       "      <th>top</th>\n",
       "      <td>NaN</td>\n",
       "      <td>Female</td>\n",
       "      <td>NaN</td>\n",
       "      <td>NaN</td>\n",
       "      <td>NaN</td>\n",
       "      <td>Yes</td>\n",
       "      <td>Private</td>\n",
       "      <td>Urban</td>\n",
       "      <td>NaN</td>\n",
       "      <td>NaN</td>\n",
       "      <td>never smoked</td>\n",
       "      <td>NaN</td>\n",
       "    </tr>\n",
       "    <tr>\n",
       "      <th>freq</th>\n",
       "      <td>NaN</td>\n",
       "      <td>24498</td>\n",
       "      <td>NaN</td>\n",
       "      <td>NaN</td>\n",
       "      <td>NaN</td>\n",
       "      <td>27051</td>\n",
       "      <td>24195</td>\n",
       "      <td>20664</td>\n",
       "      <td>NaN</td>\n",
       "      <td>NaN</td>\n",
       "      <td>15655</td>\n",
       "      <td>NaN</td>\n",
       "    </tr>\n",
       "    <tr>\n",
       "      <th>mean</th>\n",
       "      <td>36315.893992</td>\n",
       "      <td>NaN</td>\n",
       "      <td>42.998134</td>\n",
       "      <td>0.092533</td>\n",
       "      <td>0.046945</td>\n",
       "      <td>NaN</td>\n",
       "      <td>NaN</td>\n",
       "      <td>NaN</td>\n",
       "      <td>102.504529</td>\n",
       "      <td>28.509461</td>\n",
       "      <td>NaN</td>\n",
       "      <td>0.018032</td>\n",
       "    </tr>\n",
       "    <tr>\n",
       "      <th>std</th>\n",
       "      <td>21080.388177</td>\n",
       "      <td>NaN</td>\n",
       "      <td>21.848829</td>\n",
       "      <td>0.289780</td>\n",
       "      <td>0.211524</td>\n",
       "      <td>NaN</td>\n",
       "      <td>NaN</td>\n",
       "      <td>NaN</td>\n",
       "      <td>39.968402</td>\n",
       "      <td>6.942450</td>\n",
       "      <td>NaN</td>\n",
       "      <td>0.133067</td>\n",
       "    </tr>\n",
       "    <tr>\n",
       "      <th>min</th>\n",
       "      <td>1.000000</td>\n",
       "      <td>NaN</td>\n",
       "      <td>1.000000</td>\n",
       "      <td>0.000000</td>\n",
       "      <td>0.000000</td>\n",
       "      <td>NaN</td>\n",
       "      <td>NaN</td>\n",
       "      <td>NaN</td>\n",
       "      <td>55.000000</td>\n",
       "      <td>10.100000</td>\n",
       "      <td>NaN</td>\n",
       "      <td>0.000000</td>\n",
       "    </tr>\n",
       "    <tr>\n",
       "      <th>25%</th>\n",
       "      <td>18007.000000</td>\n",
       "      <td>NaN</td>\n",
       "      <td>25.000000</td>\n",
       "      <td>0.000000</td>\n",
       "      <td>0.000000</td>\n",
       "      <td>NaN</td>\n",
       "      <td>NaN</td>\n",
       "      <td>NaN</td>\n",
       "      <td>77.370000</td>\n",
       "      <td>23.700000</td>\n",
       "      <td>NaN</td>\n",
       "      <td>0.000000</td>\n",
       "    </tr>\n",
       "    <tr>\n",
       "      <th>50%</th>\n",
       "      <td>36315.000000</td>\n",
       "      <td>NaN</td>\n",
       "      <td>44.000000</td>\n",
       "      <td>0.000000</td>\n",
       "      <td>0.000000</td>\n",
       "      <td>NaN</td>\n",
       "      <td>NaN</td>\n",
       "      <td>NaN</td>\n",
       "      <td>91.170000</td>\n",
       "      <td>28.100000</td>\n",
       "      <td>NaN</td>\n",
       "      <td>0.000000</td>\n",
       "    </tr>\n",
       "    <tr>\n",
       "      <th>75%</th>\n",
       "      <td>54539.000000</td>\n",
       "      <td>NaN</td>\n",
       "      <td>60.000000</td>\n",
       "      <td>0.000000</td>\n",
       "      <td>0.000000</td>\n",
       "      <td>NaN</td>\n",
       "      <td>NaN</td>\n",
       "      <td>NaN</td>\n",
       "      <td>110.770000</td>\n",
       "      <td>32.500000</td>\n",
       "      <td>NaN</td>\n",
       "      <td>0.000000</td>\n",
       "    </tr>\n",
       "    <tr>\n",
       "      <th>max</th>\n",
       "      <td>72943.000000</td>\n",
       "      <td>NaN</td>\n",
       "      <td>82.000000</td>\n",
       "      <td>1.000000</td>\n",
       "      <td>1.000000</td>\n",
       "      <td>NaN</td>\n",
       "      <td>NaN</td>\n",
       "      <td>NaN</td>\n",
       "      <td>234.380000</td>\n",
       "      <td>51.300000</td>\n",
       "      <td>NaN</td>\n",
       "      <td>1.000000</td>\n",
       "    </tr>\n",
       "  </tbody>\n",
       "</table>\n",
       "</div>"
      ],
      "text/plain": [
       "                  id  gender           age  hypertension  heart_disease  \\\n",
       "count   41261.000000   41261  41261.000000  41261.000000   41261.000000   \n",
       "unique           NaN       3           NaN           NaN            NaN   \n",
       "top              NaN  Female           NaN           NaN            NaN   \n",
       "freq             NaN   24498           NaN           NaN            NaN   \n",
       "mean    36315.893992     NaN     42.998134      0.092533       0.046945   \n",
       "std     21080.388177     NaN     21.848829      0.289780       0.211524   \n",
       "min         1.000000     NaN      1.000000      0.000000       0.000000   \n",
       "25%     18007.000000     NaN     25.000000      0.000000       0.000000   \n",
       "50%     36315.000000     NaN     44.000000      0.000000       0.000000   \n",
       "75%     54539.000000     NaN     60.000000      0.000000       0.000000   \n",
       "max     72943.000000     NaN     82.000000      1.000000       1.000000   \n",
       "\n",
       "       ever_married work_type Residence_type  avg_glucose_level           bmi  \\\n",
       "count         41261     41261          41261       41261.000000  41261.000000   \n",
       "unique            2         5              2                NaN           NaN   \n",
       "top             Yes   Private          Urban                NaN           NaN   \n",
       "freq          27051     24195          20664                NaN           NaN   \n",
       "mean            NaN       NaN            NaN         102.504529     28.509461   \n",
       "std             NaN       NaN            NaN          39.968402      6.942450   \n",
       "min             NaN       NaN            NaN          55.000000     10.100000   \n",
       "25%             NaN       NaN            NaN          77.370000     23.700000   \n",
       "50%             NaN       NaN            NaN          91.170000     28.100000   \n",
       "75%             NaN       NaN            NaN         110.770000     32.500000   \n",
       "max             NaN       NaN            NaN         234.380000     51.300000   \n",
       "\n",
       "       smoking_status        stroke  \n",
       "count           29246  41261.000000  \n",
       "unique              3           NaN  \n",
       "top      never smoked           NaN  \n",
       "freq            15655           NaN  \n",
       "mean              NaN      0.018032  \n",
       "std               NaN      0.133067  \n",
       "min               NaN      0.000000  \n",
       "25%               NaN      0.000000  \n",
       "50%               NaN      0.000000  \n",
       "75%               NaN      0.000000  \n",
       "max               NaN      1.000000  "
      ]
     },
     "execution_count": 45,
     "metadata": {},
     "output_type": "execute_result"
    }
   ],
   "source": [
    "dodge.describe(include = 'all')"
   ]
  },
  {
   "cell_type": "markdown",
   "metadata": {
    "id": "SHoWSl3cjO4l"
   },
   "source": [
    "Treating Missing values in Object columns using,\n",
    "1. mean/median/mode\n",
    "2. Based on frequency Distribution."
   ]
  },
  {
   "cell_type": "code",
   "execution_count": 46,
   "metadata": {
    "colab": {
     "base_uri": "https://localhost:8080/"
    },
    "id": "osFJYlwLQEqu",
    "outputId": "25a839ac-9281-4cee-ee08-118104b743c6"
   },
   "outputs": [
    {
     "data": {
      "text/plain": [
       "0    never smoked\n",
       "dtype: object"
      ]
     },
     "execution_count": 46,
     "metadata": {},
     "output_type": "execute_result"
    }
   ],
   "source": [
    "dodge['smoking_status'].mode()"
   ]
  },
  {
   "cell_type": "code",
   "execution_count": 47,
   "metadata": {
    "id": "9uM-Lf-QN9CV"
   },
   "outputs": [],
   "source": [
    "dodge['smoking_status'].fillna('never smoked',inplace = True)"
   ]
  },
  {
   "cell_type": "code",
   "execution_count": 48,
   "metadata": {
    "colab": {
     "base_uri": "https://localhost:8080/"
    },
    "id": "sxj4l6-RQdQa",
    "outputId": "f68cdcfd-a6cc-4a56-d753-6810b36ecd3a"
   },
   "outputs": [
    {
     "data": {
      "text/plain": [
       "0"
      ]
     },
     "execution_count": 48,
     "metadata": {},
     "output_type": "execute_result"
    }
   ],
   "source": [
    "dodge['smoking_status'].isnull().sum()"
   ]
  },
  {
   "cell_type": "markdown",
   "metadata": {
    "id": "bHxGX2iDjxHO"
   },
   "source": [
    "Hence all our data is now cleaned and ready for Analysis."
   ]
  },
  {
   "cell_type": "code",
   "execution_count": 49,
   "metadata": {
    "colab": {
     "base_uri": "https://localhost:8080/"
    },
    "id": "tiu0AHhRSLV2",
    "outputId": "10816460-45e5-4b49-ea37-d5f396b6b951"
   },
   "outputs": [
    {
     "name": "stdout",
     "output_type": "stream",
     "text": [
      "<class 'pandas.core.frame.DataFrame'>\n",
      "Int64Index: 41261 entries, 0 to 43399\n",
      "Data columns (total 12 columns):\n",
      " #   Column             Non-Null Count  Dtype  \n",
      "---  ------             --------------  -----  \n",
      " 0   id                 41261 non-null  int64  \n",
      " 1   gender             41261 non-null  object \n",
      " 2   age                41261 non-null  float64\n",
      " 3   hypertension       41261 non-null  int64  \n",
      " 4   heart_disease      41261 non-null  int64  \n",
      " 5   ever_married       41261 non-null  object \n",
      " 6   work_type          41261 non-null  object \n",
      " 7   Residence_type     41261 non-null  object \n",
      " 8   avg_glucose_level  41261 non-null  float64\n",
      " 9   bmi                41261 non-null  float64\n",
      " 10  smoking_status     41261 non-null  object \n",
      " 11  stroke             41261 non-null  int64  \n",
      "dtypes: float64(3), int64(4), object(5)\n",
      "memory usage: 4.1+ MB\n"
     ]
    }
   ],
   "source": [
    "dodge.info()"
   ]
  },
  {
   "cell_type": "code",
   "execution_count": 50,
   "metadata": {
    "colab": {
     "base_uri": "https://localhost:8080/",
     "height": 216
    },
    "id": "OIvfO7MDVxXs",
    "outputId": "eb029af2-d1d1-4eaf-8273-1c8e73fd0e39"
   },
   "outputs": [
    {
     "data": {
      "text/html": [
       "<div>\n",
       "<style scoped>\n",
       "    .dataframe tbody tr th:only-of-type {\n",
       "        vertical-align: middle;\n",
       "    }\n",
       "\n",
       "    .dataframe tbody tr th {\n",
       "        vertical-align: top;\n",
       "    }\n",
       "\n",
       "    .dataframe thead th {\n",
       "        text-align: right;\n",
       "    }\n",
       "</style>\n",
       "<table border=\"1\" class=\"dataframe\">\n",
       "  <thead>\n",
       "    <tr style=\"text-align: right;\">\n",
       "      <th></th>\n",
       "      <th>id</th>\n",
       "      <th>gender</th>\n",
       "      <th>age</th>\n",
       "      <th>hypertension</th>\n",
       "      <th>heart_disease</th>\n",
       "      <th>ever_married</th>\n",
       "      <th>work_type</th>\n",
       "      <th>Residence_type</th>\n",
       "      <th>avg_glucose_level</th>\n",
       "      <th>bmi</th>\n",
       "      <th>smoking_status</th>\n",
       "      <th>stroke</th>\n",
       "    </tr>\n",
       "  </thead>\n",
       "  <tbody>\n",
       "    <tr>\n",
       "      <th>0</th>\n",
       "      <td>30669</td>\n",
       "      <td>Male</td>\n",
       "      <td>3.0</td>\n",
       "      <td>0</td>\n",
       "      <td>0</td>\n",
       "      <td>No</td>\n",
       "      <td>children</td>\n",
       "      <td>Rural</td>\n",
       "      <td>95.12</td>\n",
       "      <td>18.0</td>\n",
       "      <td>never smoked</td>\n",
       "      <td>0</td>\n",
       "    </tr>\n",
       "    <tr>\n",
       "      <th>1</th>\n",
       "      <td>30468</td>\n",
       "      <td>Male</td>\n",
       "      <td>58.0</td>\n",
       "      <td>1</td>\n",
       "      <td>0</td>\n",
       "      <td>Yes</td>\n",
       "      <td>Private</td>\n",
       "      <td>Urban</td>\n",
       "      <td>87.96</td>\n",
       "      <td>39.2</td>\n",
       "      <td>never smoked</td>\n",
       "      <td>0</td>\n",
       "    </tr>\n",
       "    <tr>\n",
       "      <th>2</th>\n",
       "      <td>16523</td>\n",
       "      <td>Female</td>\n",
       "      <td>8.0</td>\n",
       "      <td>0</td>\n",
       "      <td>0</td>\n",
       "      <td>No</td>\n",
       "      <td>Private</td>\n",
       "      <td>Urban</td>\n",
       "      <td>110.89</td>\n",
       "      <td>17.6</td>\n",
       "      <td>never smoked</td>\n",
       "      <td>0</td>\n",
       "    </tr>\n",
       "    <tr>\n",
       "      <th>3</th>\n",
       "      <td>56543</td>\n",
       "      <td>Female</td>\n",
       "      <td>70.0</td>\n",
       "      <td>0</td>\n",
       "      <td>0</td>\n",
       "      <td>Yes</td>\n",
       "      <td>Private</td>\n",
       "      <td>Rural</td>\n",
       "      <td>69.04</td>\n",
       "      <td>35.9</td>\n",
       "      <td>formerly smoked</td>\n",
       "      <td>0</td>\n",
       "    </tr>\n",
       "    <tr>\n",
       "      <th>4</th>\n",
       "      <td>46136</td>\n",
       "      <td>Male</td>\n",
       "      <td>14.0</td>\n",
       "      <td>0</td>\n",
       "      <td>0</td>\n",
       "      <td>No</td>\n",
       "      <td>Never_worked</td>\n",
       "      <td>Rural</td>\n",
       "      <td>161.28</td>\n",
       "      <td>19.1</td>\n",
       "      <td>never smoked</td>\n",
       "      <td>0</td>\n",
       "    </tr>\n",
       "  </tbody>\n",
       "</table>\n",
       "</div>"
      ],
      "text/plain": [
       "      id  gender   age  hypertension  heart_disease ever_married  \\\n",
       "0  30669    Male   3.0             0              0           No   \n",
       "1  30468    Male  58.0             1              0          Yes   \n",
       "2  16523  Female   8.0             0              0           No   \n",
       "3  56543  Female  70.0             0              0          Yes   \n",
       "4  46136    Male  14.0             0              0           No   \n",
       "\n",
       "      work_type Residence_type  avg_glucose_level   bmi   smoking_status  \\\n",
       "0      children          Rural              95.12  18.0     never smoked   \n",
       "1       Private          Urban              87.96  39.2     never smoked   \n",
       "2       Private          Urban             110.89  17.6     never smoked   \n",
       "3       Private          Rural              69.04  35.9  formerly smoked   \n",
       "4  Never_worked          Rural             161.28  19.1     never smoked   \n",
       "\n",
       "   stroke  \n",
       "0       0  \n",
       "1       0  \n",
       "2       0  \n",
       "3       0  \n",
       "4       0  "
      ]
     },
     "execution_count": 50,
     "metadata": {},
     "output_type": "execute_result"
    }
   ],
   "source": [
    "dodge.head()"
   ]
  },
  {
   "cell_type": "markdown",
   "metadata": {
    "id": "wE_5g8IreE72"
   },
   "source": [
    "### **Exploratory Data Analysis.** \n",
    "Exploratory Data Analysis helps us the understand the insights and extract the patterns from the dataset, which might be helpful to explain about the problem statement given to our clients.\n",
    "This can also be done by using traditional python code, But Visualizing the data looks more eye catching than looking at some numbers and letters.\n",
    "so, hence we are going to use various plots and graphs to visualize, which comes from the libraries such as,\n",
    "seaborn and matplotlib.pyplot.\n",
    "1. bar\n",
    "2. countplot\n",
    "3. piechart\n",
    "4. hist\n",
    "5. box\n",
    "6. scatterplot\n",
    "\n",
    "Apart from this we have also used and auto visualization tool, \"autoviz\""
   ]
  },
  {
   "cell_type": "code",
   "execution_count": 51,
   "metadata": {
    "colab": {
     "base_uri": "https://localhost:8080/"
    },
    "id": "Y71bYAbgd2Dt",
    "outputId": "a99fae25-33a5-4a31-f3c5-704adffd3cf8"
   },
   "outputs": [
    {
     "data": {
      "text/plain": [
       "id                   0\n",
       "gender               0\n",
       "age                  0\n",
       "hypertension         0\n",
       "heart_disease        0\n",
       "ever_married         0\n",
       "work_type            0\n",
       "Residence_type       0\n",
       "avg_glucose_level    0\n",
       "bmi                  0\n",
       "smoking_status       0\n",
       "stroke               0\n",
       "dtype: int64"
      ]
     },
     "execution_count": 51,
     "metadata": {},
     "output_type": "execute_result"
    }
   ],
   "source": [
    "dodge.isnull().sum()"
   ]
  },
  {
   "cell_type": "code",
   "execution_count": 52,
   "metadata": {
    "id": "DTMkT1TGd2GT"
   },
   "outputs": [],
   "source": [
    "dodge.drop(columns = 'id', inplace=True)"
   ]
  },
  {
   "cell_type": "code",
   "execution_count": 53,
   "metadata": {
    "colab": {
     "base_uri": "https://localhost:8080/",
     "height": 216
    },
    "id": "dYFFs6g5d2I6",
    "outputId": "15482bb9-6f6f-4d8c-df36-497cea8811e1"
   },
   "outputs": [
    {
     "data": {
      "text/html": [
       "<div>\n",
       "<style scoped>\n",
       "    .dataframe tbody tr th:only-of-type {\n",
       "        vertical-align: middle;\n",
       "    }\n",
       "\n",
       "    .dataframe tbody tr th {\n",
       "        vertical-align: top;\n",
       "    }\n",
       "\n",
       "    .dataframe thead th {\n",
       "        text-align: right;\n",
       "    }\n",
       "</style>\n",
       "<table border=\"1\" class=\"dataframe\">\n",
       "  <thead>\n",
       "    <tr style=\"text-align: right;\">\n",
       "      <th></th>\n",
       "      <th>gender</th>\n",
       "      <th>age</th>\n",
       "      <th>hypertension</th>\n",
       "      <th>heart_disease</th>\n",
       "      <th>ever_married</th>\n",
       "      <th>work_type</th>\n",
       "      <th>Residence_type</th>\n",
       "      <th>avg_glucose_level</th>\n",
       "      <th>bmi</th>\n",
       "      <th>smoking_status</th>\n",
       "      <th>stroke</th>\n",
       "    </tr>\n",
       "  </thead>\n",
       "  <tbody>\n",
       "    <tr>\n",
       "      <th>0</th>\n",
       "      <td>Male</td>\n",
       "      <td>3.0</td>\n",
       "      <td>0</td>\n",
       "      <td>0</td>\n",
       "      <td>No</td>\n",
       "      <td>children</td>\n",
       "      <td>Rural</td>\n",
       "      <td>95.12</td>\n",
       "      <td>18.0</td>\n",
       "      <td>never smoked</td>\n",
       "      <td>0</td>\n",
       "    </tr>\n",
       "    <tr>\n",
       "      <th>1</th>\n",
       "      <td>Male</td>\n",
       "      <td>58.0</td>\n",
       "      <td>1</td>\n",
       "      <td>0</td>\n",
       "      <td>Yes</td>\n",
       "      <td>Private</td>\n",
       "      <td>Urban</td>\n",
       "      <td>87.96</td>\n",
       "      <td>39.2</td>\n",
       "      <td>never smoked</td>\n",
       "      <td>0</td>\n",
       "    </tr>\n",
       "    <tr>\n",
       "      <th>2</th>\n",
       "      <td>Female</td>\n",
       "      <td>8.0</td>\n",
       "      <td>0</td>\n",
       "      <td>0</td>\n",
       "      <td>No</td>\n",
       "      <td>Private</td>\n",
       "      <td>Urban</td>\n",
       "      <td>110.89</td>\n",
       "      <td>17.6</td>\n",
       "      <td>never smoked</td>\n",
       "      <td>0</td>\n",
       "    </tr>\n",
       "    <tr>\n",
       "      <th>3</th>\n",
       "      <td>Female</td>\n",
       "      <td>70.0</td>\n",
       "      <td>0</td>\n",
       "      <td>0</td>\n",
       "      <td>Yes</td>\n",
       "      <td>Private</td>\n",
       "      <td>Rural</td>\n",
       "      <td>69.04</td>\n",
       "      <td>35.9</td>\n",
       "      <td>formerly smoked</td>\n",
       "      <td>0</td>\n",
       "    </tr>\n",
       "    <tr>\n",
       "      <th>4</th>\n",
       "      <td>Male</td>\n",
       "      <td>14.0</td>\n",
       "      <td>0</td>\n",
       "      <td>0</td>\n",
       "      <td>No</td>\n",
       "      <td>Never_worked</td>\n",
       "      <td>Rural</td>\n",
       "      <td>161.28</td>\n",
       "      <td>19.1</td>\n",
       "      <td>never smoked</td>\n",
       "      <td>0</td>\n",
       "    </tr>\n",
       "  </tbody>\n",
       "</table>\n",
       "</div>"
      ],
      "text/plain": [
       "   gender   age  hypertension  heart_disease ever_married     work_type  \\\n",
       "0    Male   3.0             0              0           No      children   \n",
       "1    Male  58.0             1              0          Yes       Private   \n",
       "2  Female   8.0             0              0           No       Private   \n",
       "3  Female  70.0             0              0          Yes       Private   \n",
       "4    Male  14.0             0              0           No  Never_worked   \n",
       "\n",
       "  Residence_type  avg_glucose_level   bmi   smoking_status  stroke  \n",
       "0          Rural              95.12  18.0     never smoked       0  \n",
       "1          Urban              87.96  39.2     never smoked       0  \n",
       "2          Urban             110.89  17.6     never smoked       0  \n",
       "3          Rural              69.04  35.9  formerly smoked       0  \n",
       "4          Rural             161.28  19.1     never smoked       0  "
      ]
     },
     "execution_count": 53,
     "metadata": {},
     "output_type": "execute_result"
    }
   ],
   "source": [
    "dodge.head()"
   ]
  },
  {
   "cell_type": "markdown",
   "metadata": {
    "id": "VxqgbITHsiJK"
   },
   "source": [
    "\n",
    "-> pd.crosstab() function is a very useful and most advanced fuction in the python dataframe, it helps us to compare 2 variables, due to which we can plot the distribution of thsoe variables. "
   ]
  },
  {
   "cell_type": "markdown",
   "metadata": {
    "id": "GrifN6S5yXa0"
   },
   "source": [
    "1. Bar plot for crosstab distribution between gender and stroke."
   ]
  },
  {
   "cell_type": "code",
   "execution_count": 54,
   "metadata": {
    "colab": {
     "base_uri": "https://localhost:8080/",
     "height": 416
    },
    "id": "b2sm0taZrnP5",
    "outputId": "e6f2476b-b69a-42a3-ad98-dbf801b03708"
   },
   "outputs": [],
   "source": [
    "plt.figure(figsize = (8,6))\n",
    "x = pd.crosstab(dodge['gender'], dodge['stroke'])\n",
    "x.plot(kind = 'bar')\n",
    "#x.div(x.sum(1).astype(float), axis = 0).plot(kind='bar', stacked = False)\n",
    "plt.xlabel('Gender_distribution')\n",
    "plt.ylabel('Count')\n",
    "plt.title('Gender Distribution over Target Class')\n",
    "plt.show()\n",
    "\n"
   ]
  },
  {
   "cell_type": "markdown",
   "metadata": {
    "id": "BBK9Sf_fykpB"
   },
   "source": [
    "2. Pie Chart for distribution of gender."
   ]
  },
  {
   "cell_type": "code",
   "execution_count": 55,
   "metadata": {
    "colab": {
     "base_uri": "https://localhost:8080/",
     "height": 461
    },
    "id": "F2Q8OaWFlrfY",
    "outputId": "4d188e95-d1b1-4414-f5ba-a86c24f998c2"
   },
   "outputs": [],
   "source": [
    "# PIE CHART for dodge['gender'] column.\n",
    "\n",
    "plt.figure(figsize = (8,6), dpi = 90)\n",
    "labels = dodge['gender'].value_counts().index\n",
    "sizes = dodge['gender'].value_counts()\n",
    "explode = [0,0,0.1]\n",
    "colors = plt.cm.autumn(np.linspace(0,1,3))\n",
    "plt.pie(sizes, colors=colors, labels=labels, explode=explode, shadow =True, startangle=90, autopct = '%.2f%%' )\n",
    "plt.title('Gender',fontsize=12)\n",
    "plt.legend()\n",
    "plt.show()"
   ]
  },
  {
   "cell_type": "markdown",
   "metadata": {
    "id": "wNuxuhqDzcZi"
   },
   "source": [
    "3. Bar chart for gender-hypertentsion distribution."
   ]
  },
  {
   "cell_type": "code",
   "execution_count": 56,
   "metadata": {
    "colab": {
     "base_uri": "https://localhost:8080/",
     "height": 416
    },
    "id": "0_e78ocWxRlu",
    "outputId": "e36cf509-90f5-434b-a9ec-1abae0a01f4e"
   },
   "outputs": [],
   "source": [
    "plt.figure(figsize = (8,6), dpi = 90)\n",
    "x = pd.crosstab(dodge['gender'],dodge['hypertension'])\n",
    "x.plot(kind = 'bar')\n",
    "plt.xlabel('Gender')\n",
    "plt.ylabel('Hypertension')\n",
    "plt.title(\"Gender_Hypertension_Distribution\")\n",
    "plt.show()"
   ]
  },
  {
   "cell_type": "markdown",
   "metadata": {
    "id": "M9cbaGyszziD"
   },
   "source": [
    "4. Bar Chart for age-hypertension distribution "
   ]
  },
  {
   "cell_type": "code",
   "execution_count": 57,
   "metadata": {
    "colab": {
     "base_uri": "https://localhost:8080/",
     "height": 406
    },
    "id": "tacg0Y7qz0PP",
    "outputId": "6b36a116-71c7-403b-c283-6e7759e3a400"
   },
   "outputs": [],
   "source": [
    "plt.rcParams['figure.figsize'] = (20,12)\n",
    "x = pd.crosstab(dodge['age'], dodge['hypertension'])\n",
    "x.plot(kind = 'bar')\n",
    "plt.xlabel('Age')\n",
    "plt.ylabel('Count')\n",
    "plt.title(\"Age Hypertension Distrubition\")\n",
    "plt.show()"
   ]
  },
  {
   "cell_type": "markdown",
   "metadata": {
    "id": "fezMx25F0QIl"
   },
   "source": [
    "5. Bar Chart for gender-heart_disease distribution"
   ]
  },
  {
   "cell_type": "code",
   "execution_count": 58,
   "metadata": {
    "colab": {
     "base_uri": "https://localhost:8080/",
     "height": 423
    },
    "id": "rs5Z5Waj1PUm",
    "outputId": "f76116f9-cf97-4d73-a846-720a70829402"
   },
   "outputs": [],
   "source": [
    "plt.figure(figsize=(12,10))\n",
    "ab = pd.crosstab(dodge['gender'], dodge['heart_disease'])\n",
    "ab.plot(kind = 'bar')\n",
    "plt.show()"
   ]
  },
  {
   "cell_type": "markdown",
   "metadata": {
    "id": "QCPEoAIE0hpA"
   },
   "source": [
    "6. age-stroke distribution"
   ]
  },
  {
   "cell_type": "code",
   "execution_count": 59,
   "metadata": {
    "colab": {
     "base_uri": "https://localhost:8080/",
     "height": 406
    },
    "id": "eiH2VYlO-802",
    "outputId": "c024cec8-236f-4d05-8880-af3c6c4fa792"
   },
   "outputs": [],
   "source": [
    "plt.rcParams['figure.figsize'] = (20,12)\n",
    "x = pd.crosstab(dodge['age'], dodge['stroke'])\n",
    "x.plot(kind = 'bar')\n",
    "plt.xlabel('Age')\n",
    "plt.ylabel('Count')\n",
    "plt.title(\"Age_Stroke Distrubition\")\n",
    "plt.show()"
   ]
  },
  {
   "cell_type": "markdown",
   "metadata": {
    "id": "JmqNHTDa0xDK"
   },
   "source": [
    "7. age-heart_disease distribution."
   ]
  },
  {
   "cell_type": "code",
   "execution_count": 60,
   "metadata": {
    "colab": {
     "base_uri": "https://localhost:8080/",
     "height": 406
    },
    "id": "yFQ1d18A-84e",
    "outputId": "0f66f9a8-d424-49c9-b00c-baaf30755963"
   },
   "outputs": [],
   "source": [
    "plt.rcParams['figure.figsize'] = (20,12)\n",
    "#plt.figure(figsize =(13,6))\n",
    "x = pd.crosstab(dodge['age'], dodge['heart_disease'])\n",
    "x.plot(kind = 'bar')\n",
    "plt.xlabel('Age')\n",
    "plt.ylabel('Count')\n",
    "plt.title(\"Age Heart_Disease Distrubition\")\n",
    "plt.show()"
   ]
  },
  {
   "cell_type": "markdown",
   "metadata": {
    "id": "RLxn-neN2q0k"
   },
   "source": [
    "8. Distribution of people getting stroke with respect to whether they are married or not."
   ]
  },
  {
   "cell_type": "code",
   "execution_count": 61,
   "metadata": {
    "colab": {
     "base_uri": "https://localhost:8080/",
     "height": 394
    },
    "id": "trgCZCTE2lip",
    "outputId": "3f21b0e3-967f-4df2-93a8-71cbf55219d0"
   },
   "outputs": [],
   "source": [
    "plt.rcParams['figure.figsize'] = (8,6)\n",
    "h = pd.crosstab(dodge['ever_married'], dodge['stroke'])\n",
    "h.plot(kind ='bar')\n",
    "plt.show()"
   ]
  },
  {
   "cell_type": "markdown",
   "metadata": {
    "id": "uvgnvhT631ZG"
   },
   "source": [
    "9. Scatterplot for avg_glucose level and bmi with hue as stroke, hue is an additional parameter which seperates the values using different colors."
   ]
  },
  {
   "cell_type": "code",
   "execution_count": 62,
   "metadata": {
    "colab": {
     "base_uri": "https://localhost:8080/",
     "height": 379
    },
    "id": "YVh-EIvU30Gk",
    "outputId": "83532996-3c7f-46d0-b508-8084158343e2"
   },
   "outputs": [],
   "source": [
    "plt.rcParams['figure.figsize'] = (20,12)\n",
    "sns.relplot(dodge['avg_glucose_level'], dodge['bmi'], hue = dodge['stroke'], kind = 'scatter')\n",
    "plt.xlabel('Avg_Glucose_Level')\n",
    "plt.ylabel('BMI')\n",
    "plt.show()"
   ]
  },
  {
   "cell_type": "markdown",
   "metadata": {
    "id": "ThA5G1yc59O_"
   },
   "source": [
    "10. Countplot() for checking distribution of work_type."
   ]
  },
  {
   "cell_type": "code",
   "execution_count": 63,
   "metadata": {
    "colab": {
     "base_uri": "https://localhost:8080/",
     "height": 535
    },
    "id": "sO8NMhvG58P2",
    "outputId": "2f29f3f2-3396-4825-c723-fc04d3f58fd0"
   },
   "outputs": [],
   "source": [
    "plt.figure(figsize = (12,10))\n",
    "sns.countplot(dodge['work_type'], color ='red')\n",
    "plt.xlabel(\"Work Type\")\n",
    "plt.ylabel('Count')\n",
    "plt.title(\"Distribution of Work_type\")\n",
    "plt.show()"
   ]
  },
  {
   "cell_type": "markdown",
   "metadata": {
    "id": "ab3AoEdp6c1X"
   },
   "source": [
    "11. Distribution of work_type with respect to stroke occurence."
   ]
  },
  {
   "cell_type": "code",
   "execution_count": 64,
   "metadata": {
    "colab": {
     "base_uri": "https://localhost:8080/",
     "height": 458
    },
    "id": "Mh6syn2Z58Ux",
    "outputId": "974da0f8-8133-4054-bb94-61a62b6203e0"
   },
   "outputs": [],
   "source": [
    "plt.rcParams['figure.figsize'] = (8,6)\n",
    "h = pd.crosstab(dodge['work_type'], dodge['stroke'])\n",
    "h.plot(kind ='bar')\n",
    "plt.xlabel(\"Work_type\")\n",
    "plt.ylabel(\"Count\")\n",
    "plt.title(\"Distribution of Work_type and stroke\")\n",
    "plt.show()"
   ]
  },
  {
   "cell_type": "code",
   "execution_count": 65,
   "metadata": {
    "colab": {
     "base_uri": "https://localhost:8080/",
     "height": 1000
    },
    "id": "vpkREgk784CJ",
    "outputId": "3036d1f8-11d9-4230-98a2-dd7bacdb354d"
   },
   "outputs": [
    {
     "name": "stdout",
     "output_type": "stream",
     "text": [
      "File encoding decoder utf-8 does not work for this file\n",
      "File encoding decoder iso-8859-11 does not work for this file\n",
      "File encoding decoder cpl252 does not work for this file\n",
      "File encoding decoder latin1 does not work for this file\n",
      "None of the decoders work...\n",
      "Not able to read or load file. Please check your inputs and try again...\n"
     ]
    }
   ],
   "source": [
    "AV = AutoViz_Class()\n",
    "autovis = AV.AutoViz(filename = '/content/drive/MyDrive/MAIN PROJECT/Brain Stroke Prediction/strokes.csv', sep=',', depVar='', dfte=None, header=0, verbose=1,\n",
    "                            lowess=False,chart_format='svg',max_rows_analyzed=150000,max_cols_analyzed=30)\n",
    "autovis"
   ]
  },
  {
   "cell_type": "markdown",
   "metadata": {
    "id": "QJUxZMJ81M6H"
   },
   "source": [
    "### **Exploring data using traditional python code, with the help of interactive widgets.**"
   ]
  },
  {
   "cell_type": "code",
   "execution_count": 66,
   "metadata": {
    "id": "1VHcpPMiDz65"
   },
   "outputs": [],
   "source": [
    "abg = dodge[['hypertension', 'heart_disease']].groupby(['hypertension']).count().style.background_gradient(cmap = 'viridis')"
   ]
  },
  {
   "cell_type": "markdown",
   "metadata": {
    "id": "_mP6byDW4-ge"
   },
   "source": [
    "Sum of Heart Disease values with respect to hypertension, This can be easily eaxplained by crosstab()"
   ]
  },
  {
   "cell_type": "code",
   "execution_count": 67,
   "metadata": {
    "colab": {
     "base_uri": "https://localhost:8080/",
     "height": 97
    },
    "id": "W3NHDefzekoh",
    "outputId": "235b731b-1540-4e19-c510-3c2c93f75388"
   },
   "outputs": [
    {
     "data": {
      "text/html": [
       "<style  type=\"text/css\" >\n",
       "#T_d435ab37_2030_11ec_8ce5_9408533a2c26row0_col0{\n",
       "            background-color:  #fde725;\n",
       "            color:  #000000;\n",
       "        }#T_d435ab37_2030_11ec_8ce5_9408533a2c26row1_col0{\n",
       "            background-color:  #440154;\n",
       "            color:  #f1f1f1;\n",
       "        }</style><table id=\"T_d435ab37_2030_11ec_8ce5_9408533a2c26\" ><thead>    <tr>        <th class=\"blank level0\" ></th>        <th class=\"col_heading level0 col0\" >heart_disease</th>    </tr>    <tr>        <th class=\"index_name level0\" >hypertension</th>        <th class=\"blank\" ></th>    </tr></thead><tbody>\n",
       "                <tr>\n",
       "                        <th id=\"T_d435ab37_2030_11ec_8ce5_9408533a2c26level0_row0\" class=\"row_heading level0 row0\" >0</th>\n",
       "                        <td id=\"T_d435ab37_2030_11ec_8ce5_9408533a2c26row0_col0\" class=\"data row0 col0\" >37443</td>\n",
       "            </tr>\n",
       "            <tr>\n",
       "                        <th id=\"T_d435ab37_2030_11ec_8ce5_9408533a2c26level0_row1\" class=\"row_heading level0 row1\" >1</th>\n",
       "                        <td id=\"T_d435ab37_2030_11ec_8ce5_9408533a2c26row1_col0\" class=\"data row1 col0\" >3818</td>\n",
       "            </tr>\n",
       "    </tbody></table>"
      ],
      "text/plain": [
       "<pandas.io.formats.style.Styler at 0x191dc7a6d90>"
      ]
     },
     "execution_count": 67,
     "metadata": {},
     "output_type": "execute_result"
    }
   ],
   "source": [
    "abg"
   ]
  },
  {
   "cell_type": "code",
   "execution_count": 68,
   "metadata": {
    "colab": {
     "base_uri": "https://localhost:8080/",
     "height": 137
    },
    "id": "pK9y-6Az5eyC",
    "outputId": "ac6eb8da-c3f0-497c-af34-eb8a47ce11e0"
   },
   "outputs": [
    {
     "data": {
      "text/html": [
       "<div>\n",
       "<style scoped>\n",
       "    .dataframe tbody tr th:only-of-type {\n",
       "        vertical-align: middle;\n",
       "    }\n",
       "\n",
       "    .dataframe tbody tr th {\n",
       "        vertical-align: top;\n",
       "    }\n",
       "\n",
       "    .dataframe thead th {\n",
       "        text-align: right;\n",
       "    }\n",
       "</style>\n",
       "<table border=\"1\" class=\"dataframe\">\n",
       "  <thead>\n",
       "    <tr style=\"text-align: right;\">\n",
       "      <th>heart_disease</th>\n",
       "      <th>0</th>\n",
       "      <th>1</th>\n",
       "    </tr>\n",
       "    <tr>\n",
       "      <th>hypertension</th>\n",
       "      <th></th>\n",
       "      <th></th>\n",
       "    </tr>\n",
       "  </thead>\n",
       "  <tbody>\n",
       "    <tr>\n",
       "      <th>0</th>\n",
       "      <td>35984</td>\n",
       "      <td>1459</td>\n",
       "    </tr>\n",
       "    <tr>\n",
       "      <th>1</th>\n",
       "      <td>3340</td>\n",
       "      <td>478</td>\n",
       "    </tr>\n",
       "  </tbody>\n",
       "</table>\n",
       "</div>"
      ],
      "text/plain": [
       "heart_disease      0     1\n",
       "hypertension              \n",
       "0              35984  1459\n",
       "1               3340   478"
      ]
     },
     "execution_count": 68,
     "metadata": {},
     "output_type": "execute_result"
    }
   ],
   "source": [
    "dre = pd.crosstab(dodge['hypertension'], dodge['heart_disease'])\n",
    "dre"
   ]
  },
  {
   "cell_type": "markdown",
   "metadata": {
    "id": "DaXKeGXQ3SwN"
   },
   "source": [
    "@interact -> The interact function (ipywidgets.interact) automatically creates user interface (UI) controls for exploring code and data interactively.\n",
    "\n",
    "The function gets called each time the slider is moved."
   ]
  },
  {
   "cell_type": "code",
   "execution_count": 69,
   "metadata": {
    "colab": {
     "base_uri": "https://localhost:8080/",
     "height": 149,
     "referenced_widgets": [
      "b4a3461284c149dd9821abf4254a32bb",
      "24f83a56e5534315ace24ad0690b2d1f",
      "24f0802dc17a4a71a0f38964e696c77b",
      "22b071299c634ab0bca153fab8566cf3",
      "a099d674f608490593239135153116dc",
      "11280940cb0a44f8a7ca49d36a7cf7bc",
      "feb417b7116c49c5ab164b548d0fa5db"
     ]
    },
    "id": "z-ZYa1axephy",
    "outputId": "862fae5e-cb88-4c09-d677-40531fd80b1b"
   },
   "outputs": [
    {
     "data": {
      "application/vnd.jupyter.widget-view+json": {
       "model_id": "10e72ca37e8f418ebe998b0de065eee2",
       "version_major": 2,
       "version_minor": 0
      },
      "text/plain": [
       "interactive(children=(IntSlider(value=50, description='x', max=150, min=-50), Output()), _dom_classes=('widget…"
      ]
     },
     "metadata": {},
     "output_type": "display_data"
    },
    {
     "data": {
      "text/plain": [
       "0    40517\n",
       "1      744\n",
       "Name: stroke, dtype: int64"
      ]
     },
     "execution_count": 69,
     "metadata": {},
     "output_type": "execute_result"
    }
   ],
   "source": [
    "@interact\n",
    "def abc(x = 50):\n",
    "  y = dodge[dodge['avg_glucose_level'] > x]\n",
    "  return y['stroke'].value_counts()\n",
    "abc()"
   ]
  },
  {
   "cell_type": "code",
   "execution_count": 70,
   "metadata": {
    "colab": {
     "base_uri": "https://localhost:8080/",
     "height": 181,
     "referenced_widgets": [
      "0d0c7792f18a4dc78b16899b8ba1e836",
      "e9c134cfdb1e44c0b8a29193c1b8345a",
      "f1276eabed6442e78e4da7bf11e30ae3",
      "1eda3ae4cac34a66a9c8aff3a581f2c7",
      "ae0ab557cfef4baca8262cfbb23ac127",
      "340e7330d72c45dbb4470f6908f75009",
      "f30bad1aecfe4b8eb404d3ea983bc5f1",
      "cfe50982ad3148a7942139d5e24f2657",
      "3096c62d00c7451581dc6a687cde6f87",
      "50f0fe8585654963b06f3db317d5e397"
     ]
    },
    "id": "WCQ_KEUli-VT",
    "outputId": "3c1305ed-5268-46ef-d0d0-f15a8508873b"
   },
   "outputs": [
    {
     "data": {
      "application/vnd.jupyter.widget-view+json": {
       "model_id": "ff4a44ee735c4a27b3eb6368943c2cd3",
       "version_major": 2,
       "version_minor": 0
      },
      "text/plain": [
       "interactive(children=(IntSlider(value=0, description='x', max=1), IntSlider(value=0, description='y', max=1), …"
      ]
     },
     "metadata": {},
     "output_type": "display_data"
    },
    {
     "data": {
      "text/plain": [
       "0    35541\n",
       "1      443\n",
       "Name: stroke, dtype: int64"
      ]
     },
     "execution_count": 70,
     "metadata": {},
     "output_type": "execute_result"
    }
   ],
   "source": [
    "@interact\n",
    "def hyp_heart(x=0, y=0):\n",
    "  g = dodge[(dodge['hypertension'] == x) & (dodge['heart_disease'] == y)]\n",
    "  return g['stroke'].value_counts()\n",
    "hyp_heart()"
   ]
  },
  {
   "cell_type": "code",
   "execution_count": 71,
   "metadata": {
    "colab": {
     "base_uri": "https://localhost:8080/",
     "height": 314,
     "referenced_widgets": [
      "080814b3dbb943bbac76effbb278c18d",
      "bf64e4218d58401cb8fecda96bb2a6e6",
      "4db1563313db4050aa8ee72667bfd441",
      "d571424507114dfcb3328ca44daf2ea0",
      "af292204c2a04df09c4d5978c4d8a222",
      "b35c3e2e3c5b40069c9c6919cacd4557",
      "2a28bfabe36241adbf5ce9f0131efb77",
      "b1162eec5afe42bca3336ae121563766",
      "6f5e0f79e43d48b5949674fb727708b8",
      "fe02b2671fa54e2e990aced02dda32e6",
      "9b69f8b31d614c82acfc44c3bbf15990",
      "64a489bb0aa0435c959ebb58afb6d200",
      "475e7c81d52948be80e6154de06f28a4"
     ]
    },
    "id": "BswjgwLIltF-",
    "outputId": "f72a2637-3b38-45ab-bffd-51d2312a30c5"
   },
   "outputs": [
    {
     "data": {
      "application/vnd.jupyter.widget-view+json": {
       "model_id": "9cc8c2f4b7074e7e81651a98c64695bf",
       "version_major": 2,
       "version_minor": 0
      },
      "text/plain": [
       "interactive(children=(IntSlider(value=0, description='x', max=1), IntSlider(value=0, description='y', max=1), …"
      ]
     },
     "metadata": {},
     "output_type": "display_data"
    },
    {
     "data": {
      "text/plain": [
       "(0    13690\n",
       " 1       44\n",
       " Name: stroke, dtype: int64,\n",
       " never smoked       11124\n",
       " smokes              1437\n",
       " formerly smoked     1173\n",
       " Name: smoking_status, dtype: int64)"
      ]
     },
     "execution_count": 71,
     "metadata": {},
     "output_type": "execute_result"
    }
   ],
   "source": [
    "@interact\n",
    "def hy_he_eve(x=0,y=0,z='No'):\n",
    "  j = dodge[(dodge['hypertension'] == x) & (dodge['heart_disease'] == y) & (dodge['ever_married'] == z)]\n",
    "  return j['stroke'].value_counts(), j['smoking_status'].value_counts()\n",
    "hy_he_eve()"
   ]
  },
  {
   "cell_type": "code",
   "execution_count": null,
   "metadata": {},
   "outputs": [],
   "source": []
  },
  {
   "cell_type": "code",
   "execution_count": null,
   "metadata": {},
   "outputs": [],
   "source": []
  },
  {
   "cell_type": "code",
   "execution_count": 73,
   "metadata": {},
   "outputs": [
    {
     "data": {
      "text/html": [
       "<div>\n",
       "<style scoped>\n",
       "    .dataframe tbody tr th:only-of-type {\n",
       "        vertical-align: middle;\n",
       "    }\n",
       "\n",
       "    .dataframe tbody tr th {\n",
       "        vertical-align: top;\n",
       "    }\n",
       "\n",
       "    .dataframe thead th {\n",
       "        text-align: right;\n",
       "    }\n",
       "</style>\n",
       "<table border=\"1\" class=\"dataframe\">\n",
       "  <thead>\n",
       "    <tr style=\"text-align: right;\">\n",
       "      <th></th>\n",
       "      <th>gender</th>\n",
       "      <th>age</th>\n",
       "      <th>hypertension</th>\n",
       "      <th>heart_disease</th>\n",
       "      <th>ever_married</th>\n",
       "      <th>work_type</th>\n",
       "      <th>Residence_type</th>\n",
       "      <th>avg_glucose_level</th>\n",
       "      <th>bmi</th>\n",
       "      <th>smoking_status</th>\n",
       "      <th>stroke</th>\n",
       "    </tr>\n",
       "  </thead>\n",
       "  <tbody>\n",
       "    <tr>\n",
       "      <th>0</th>\n",
       "      <td>Male</td>\n",
       "      <td>3.0</td>\n",
       "      <td>0</td>\n",
       "      <td>0</td>\n",
       "      <td>No</td>\n",
       "      <td>children</td>\n",
       "      <td>Rural</td>\n",
       "      <td>95.12</td>\n",
       "      <td>18.0</td>\n",
       "      <td>never smoked</td>\n",
       "      <td>0</td>\n",
       "    </tr>\n",
       "    <tr>\n",
       "      <th>1</th>\n",
       "      <td>Male</td>\n",
       "      <td>58.0</td>\n",
       "      <td>1</td>\n",
       "      <td>0</td>\n",
       "      <td>Yes</td>\n",
       "      <td>Private</td>\n",
       "      <td>Urban</td>\n",
       "      <td>87.96</td>\n",
       "      <td>39.2</td>\n",
       "      <td>never smoked</td>\n",
       "      <td>0</td>\n",
       "    </tr>\n",
       "    <tr>\n",
       "      <th>2</th>\n",
       "      <td>Female</td>\n",
       "      <td>8.0</td>\n",
       "      <td>0</td>\n",
       "      <td>0</td>\n",
       "      <td>No</td>\n",
       "      <td>Private</td>\n",
       "      <td>Urban</td>\n",
       "      <td>110.89</td>\n",
       "      <td>17.6</td>\n",
       "      <td>never smoked</td>\n",
       "      <td>0</td>\n",
       "    </tr>\n",
       "    <tr>\n",
       "      <th>3</th>\n",
       "      <td>Female</td>\n",
       "      <td>70.0</td>\n",
       "      <td>0</td>\n",
       "      <td>0</td>\n",
       "      <td>Yes</td>\n",
       "      <td>Private</td>\n",
       "      <td>Rural</td>\n",
       "      <td>69.04</td>\n",
       "      <td>35.9</td>\n",
       "      <td>formerly smoked</td>\n",
       "      <td>0</td>\n",
       "    </tr>\n",
       "    <tr>\n",
       "      <th>4</th>\n",
       "      <td>Male</td>\n",
       "      <td>14.0</td>\n",
       "      <td>0</td>\n",
       "      <td>0</td>\n",
       "      <td>No</td>\n",
       "      <td>Never_worked</td>\n",
       "      <td>Rural</td>\n",
       "      <td>161.28</td>\n",
       "      <td>19.1</td>\n",
       "      <td>never smoked</td>\n",
       "      <td>0</td>\n",
       "    </tr>\n",
       "  </tbody>\n",
       "</table>\n",
       "</div>"
      ],
      "text/plain": [
       "   gender   age  hypertension  heart_disease ever_married     work_type  \\\n",
       "0    Male   3.0             0              0           No      children   \n",
       "1    Male  58.0             1              0          Yes       Private   \n",
       "2  Female   8.0             0              0           No       Private   \n",
       "3  Female  70.0             0              0          Yes       Private   \n",
       "4    Male  14.0             0              0           No  Never_worked   \n",
       "\n",
       "  Residence_type  avg_glucose_level   bmi   smoking_status  stroke  \n",
       "0          Rural              95.12  18.0     never smoked       0  \n",
       "1          Urban              87.96  39.2     never smoked       0  \n",
       "2          Urban             110.89  17.6     never smoked       0  \n",
       "3          Rural              69.04  35.9  formerly smoked       0  \n",
       "4          Rural             161.28  19.1     never smoked       0  "
      ]
     },
     "execution_count": 73,
     "metadata": {},
     "output_type": "execute_result"
    }
   ],
   "source": [
    "dodge.head()"
   ]
  },
  {
   "cell_type": "code",
   "execution_count": 77,
   "metadata": {},
   "outputs": [
    {
     "name": "stdout",
     "output_type": "stream",
     "text": [
      "<class 'pandas.core.frame.DataFrame'>\n",
      "Int64Index: 41261 entries, 0 to 43399\n",
      "Data columns (total 11 columns):\n",
      " #   Column             Non-Null Count  Dtype  \n",
      "---  ------             --------------  -----  \n",
      " 0   gender             41261 non-null  object \n",
      " 1   age                41261 non-null  float64\n",
      " 2   hypertension       41261 non-null  int64  \n",
      " 3   heart_disease      41261 non-null  int64  \n",
      " 4   ever_married       41261 non-null  object \n",
      " 5   work_type          41261 non-null  object \n",
      " 6   Residence_type     41261 non-null  object \n",
      " 7   avg_glucose_level  41261 non-null  float64\n",
      " 8   bmi                41261 non-null  float64\n",
      " 9   smoking_status     41261 non-null  object \n",
      " 10  stroke             41261 non-null  int64  \n",
      "dtypes: float64(3), int64(3), object(5)\n",
      "memory usage: 5.0+ MB\n"
     ]
    }
   ],
   "source": [
    "dodge.info()"
   ]
  },
  {
   "cell_type": "code",
   "execution_count": 78,
   "metadata": {},
   "outputs": [],
   "source": [
    "tarr = dodge['stroke']\n",
    "varr  = dodge.drop(columns = ['stroke'], axis = 1)"
   ]
  },
  {
   "cell_type": "code",
   "execution_count": 79,
   "metadata": {},
   "outputs": [],
   "source": [
    "from imblearn.over_sampling import RandomOverSampler "
   ]
  },
  {
   "cell_type": "code",
   "execution_count": 80,
   "metadata": {},
   "outputs": [],
   "source": [
    "os = RandomOverSampler(1.0)\n",
    "x_ree,y_ree = os.fit_resample(varr, tarr)"
   ]
  },
  {
   "cell_type": "code",
   "execution_count": 82,
   "metadata": {},
   "outputs": [],
   "source": [
    "week = pd.DataFrame(data = x_ree, columns = x_ree.columns)"
   ]
  },
  {
   "cell_type": "code",
   "execution_count": 83,
   "metadata": {},
   "outputs": [],
   "source": [
    "week['stroke'] = y_ree"
   ]
  },
  {
   "cell_type": "code",
   "execution_count": 84,
   "metadata": {},
   "outputs": [],
   "source": [
    "week.to_csv('clean_balanced_data.csv')"
   ]
  },
  {
   "cell_type": "code",
   "execution_count": null,
   "metadata": {},
   "outputs": [],
   "source": []
  },
  {
   "cell_type": "code",
   "execution_count": null,
   "metadata": {},
   "outputs": [],
   "source": []
  },
  {
   "cell_type": "markdown",
   "metadata": {
    "id": "KsMqqA7XD4gs"
   },
   "source": [
    "### **Feature Transformation.**\n",
    "Feature Transformation is the technique of transforming the variable into other form like Strings -> Numeric, splitting the Date Column in to pieces etc.\n",
    "\n",
    "Types of encoding.\n",
    "1. Nominal Encoding.\n",
    "  *   one hot encoding -> Creating Dummy variables.\n",
    "  *   one hot encoding with multi categories(more than 20 categories)\n",
    "  *   mean encoding\n",
    "\n",
    "\n",
    "2. Ordinal Encoding.\n",
    "  * Label Encoder\n",
    "  * target_guided_encoding\n",
    "\n",
    "-> For the columns with less than 5 categories we can manually perform encoding, usinf map().\n",
    "\n",
    "-> For Columns with more than 20 Categories we can perform one hot encoding with multi categories, where we tend to select the top categories based on their value_counts().\n"
   ]
  },
  {
   "cell_type": "code",
   "execution_count": null,
   "metadata": {
    "colab": {
     "base_uri": "https://localhost:8080/",
     "height": 216
    },
    "id": "k6k27EbjD01-",
    "outputId": "71b3c5d9-d077-48df-8d56-1652e765a0f7"
   },
   "outputs": [],
   "source": [
    "dodge.head()"
   ]
  },
  {
   "cell_type": "code",
   "execution_count": null,
   "metadata": {
    "colab": {
     "base_uri": "https://localhost:8080/"
    },
    "id": "AAorvzLrD1Ha",
    "outputId": "91d38106-3f93-4b05-ffa5-e9a47d4682ba"
   },
   "outputs": [],
   "source": [
    "dodge['smoking_status'].unique()"
   ]
  },
  {
   "cell_type": "code",
   "execution_count": null,
   "metadata": {
    "id": "aQPOEtgJI8BE"
   },
   "outputs": [],
   "source": [
    "mapping = {'Male':2, 'Female':1, 'Other':0}\n",
    "mapping1 = {'No':0, 'Yes':1}\n",
    "mapping2 = {'never smoked':0, 'formerly smoked':1, 'smokes':2}"
   ]
  },
  {
   "cell_type": "code",
   "execution_count": null,
   "metadata": {
    "id": "zVZ0M4STOFLX"
   },
   "outputs": [],
   "source": [
    "dodge['gender'] = dodge['gender'].map(mapping)"
   ]
  },
  {
   "cell_type": "code",
   "execution_count": null,
   "metadata": {
    "id": "ok6zw5p7OGLY"
   },
   "outputs": [],
   "source": [
    "dodge['ever_married'] = dodge['ever_married'].map(mapping1)"
   ]
  },
  {
   "cell_type": "code",
   "execution_count": null,
   "metadata": {
    "id": "A3brqipEOL69"
   },
   "outputs": [],
   "source": [
    "dodge['smoking_status'] = dodge['smoking_status'].map(mapping2)"
   ]
  },
  {
   "cell_type": "code",
   "execution_count": null,
   "metadata": {
    "colab": {
     "base_uri": "https://localhost:8080/",
     "height": 196
    },
    "id": "xwzVDZKWORKn",
    "outputId": "f2481fe6-b673-4aed-c069-4094dcc07a38"
   },
   "outputs": [],
   "source": [
    "dodge[['gender', 'smoking_status', 'ever_married']].head()"
   ]
  },
  {
   "cell_type": "code",
   "execution_count": null,
   "metadata": {
    "colab": {
     "base_uri": "https://localhost:8080/"
    },
    "id": "KPFLdb7JOjiM",
    "outputId": "43f394f2-024c-47d1-de60-6afa1bdc515b"
   },
   "outputs": [],
   "source": [
    "dodge['work_type'].unique()"
   ]
  },
  {
   "cell_type": "code",
   "execution_count": null,
   "metadata": {
    "colab": {
     "base_uri": "https://localhost:8080/"
    },
    "id": "wxERE6j_QX1A",
    "outputId": "d9514ced-1e9f-4936-b5bd-c9b3321f7f2c"
   },
   "outputs": [],
   "source": [
    "dodge['Residence_type'].unique()"
   ]
  },
  {
   "cell_type": "code",
   "execution_count": null,
   "metadata": {
    "id": "Bn7QsHUDmEYN"
   },
   "outputs": [],
   "source": [
    "dodge['home_town'] = pd.get_dummies(dodge['Residence_type'], drop_first = True)"
   ]
  },
  {
   "cell_type": "markdown",
   "metadata": {
    "id": "1gZVWWkrCYaZ"
   },
   "source": [
    "Creating a new dataframe withe respect to work_type."
   ]
  },
  {
   "cell_type": "code",
   "execution_count": null,
   "metadata": {
    "id": "e5DFnKUUq-H2"
   },
   "outputs": [],
   "source": [
    "f150 = pd.get_dummies(dodge['work_type'], drop_first = True)"
   ]
  },
  {
   "cell_type": "markdown",
   "metadata": {
    "id": "kP4NFanIChNs"
   },
   "source": [
    "Merging 2 DataFrames(dodge,f150) with the default join."
   ]
  },
  {
   "cell_type": "code",
   "execution_count": null,
   "metadata": {
    "id": "-sRQa44grQoR"
   },
   "outputs": [],
   "source": [
    "camero = pd.concat([dodge,f150], axis = 1)"
   ]
  },
  {
   "cell_type": "code",
   "execution_count": null,
   "metadata": {
    "colab": {
     "base_uri": "https://localhost:8080/",
     "height": 233
    },
    "id": "uXm9hQo5sddh",
    "outputId": "e0b26ad9-fee2-48a6-f384-4663bd8c81a9"
   },
   "outputs": [],
   "source": [
    "camero.head()"
   ]
  },
  {
   "cell_type": "code",
   "execution_count": null,
   "metadata": {
    "id": "ehoSoi1NstpQ"
   },
   "outputs": [],
   "source": [
    "camero.rename(columns = {'Never_worked':'w_t_n_w', 'Private':'w_t_p', 'Self-employed':'w_t_s_e', 'children':'w_t_c'}, inplace = True)"
   ]
  },
  {
   "cell_type": "markdown",
   "metadata": {
    "id": "JBt8JP3aCyn3"
   },
   "source": [
    "Droping the columns ['work_type', 'Residence_type'], as we have already created dummy variables for them."
   ]
  },
  {
   "cell_type": "code",
   "execution_count": null,
   "metadata": {
    "id": "B3OSy6jkuA_a"
   },
   "outputs": [],
   "source": [
    "camero.drop(columns = ['work_type','Residence_type'], inplace = True)"
   ]
  },
  {
   "cell_type": "code",
   "execution_count": null,
   "metadata": {
    "colab": {
     "base_uri": "https://localhost:8080/",
     "height": 216
    },
    "id": "DMh2nncSuiXg",
    "outputId": "941ce2c9-00f5-4cf1-b1b9-f42395aa3134"
   },
   "outputs": [],
   "source": [
    "camero.head()"
   ]
  },
  {
   "cell_type": "code",
   "execution_count": null,
   "metadata": {
    "colab": {
     "base_uri": "https://localhost:8080/"
    },
    "id": "YkJGUMrAu7xz",
    "outputId": "e96bc176-fedb-48df-ab06-6a266f0b329f"
   },
   "outputs": [],
   "source": [
    "camero.info()"
   ]
  },
  {
   "cell_type": "code",
   "execution_count": null,
   "metadata": {},
   "outputs": [],
   "source": [
    "camero.head()"
   ]
  },
  {
   "cell_type": "code",
   "execution_count": null,
   "metadata": {},
   "outputs": [],
   "source": []
  },
  {
   "cell_type": "code",
   "execution_count": null,
   "metadata": {},
   "outputs": [],
   "source": [
    "tar = camero['stroke']\n",
    "tom = camero.drop(columns = ['stroke','home_town','w_t_n_w','w_t_p','w_t_s_e','w_t_c'], axis = 1)"
   ]
  },
  {
   "cell_type": "code",
   "execution_count": null,
   "metadata": {},
   "outputs": [],
   "source": [
    "tom['stroke'] = tar"
   ]
  },
  {
   "cell_type": "code",
   "execution_count": null,
   "metadata": {},
   "outputs": [],
   "source": [
    "tom.head()"
   ]
  },
  {
   "cell_type": "code",
   "execution_count": null,
   "metadata": {},
   "outputs": [],
   "source": [
    "tom.to_csv('clean_data.csv')"
   ]
  },
  {
   "cell_type": "code",
   "execution_count": null,
   "metadata": {},
   "outputs": [],
   "source": []
  },
  {
   "cell_type": "code",
   "execution_count": null,
   "metadata": {},
   "outputs": [],
   "source": [
    "os = RandomOverSampler(1.0)\n",
    "x_re,y_re = os.fit_resample(tom,tar)"
   ]
  },
  {
   "cell_type": "code",
   "execution_count": null,
   "metadata": {},
   "outputs": [],
   "source": [
    "x_re.info()"
   ]
  },
  {
   "cell_type": "code",
   "execution_count": null,
   "metadata": {},
   "outputs": [],
   "source": [
    "brady = pd.DataFrame(data = x_re, columns = tom.columns)"
   ]
  },
  {
   "cell_type": "code",
   "execution_count": null,
   "metadata": {},
   "outputs": [],
   "source": [
    "brady['stroke'] = y_re"
   ]
  },
  {
   "cell_type": "code",
   "execution_count": null,
   "metadata": {},
   "outputs": [],
   "source": [
    "pd.DataFrame(brady)"
   ]
  },
  {
   "cell_type": "code",
   "execution_count": null,
   "metadata": {},
   "outputs": [],
   "source": [
    "brady.to_csv('balanced_data.csv')"
   ]
  },
  {
   "cell_type": "raw",
   "metadata": {},
   "source": []
  },
  {
   "cell_type": "markdown",
   "metadata": {
    "id": "uUhM_InUFUNL"
   },
   "source": [
    "### **Feature Scaling**\n",
    "Feature Scaling is the technique to scale down all the values in the datset to same level, so that there will be no partiality while we train the model like bmi -> 56 getting high priority than heart_disease -> 0, so in order to remove this error, feature scaling is done.\n",
    "\n",
    "Feature Scaling Tools.\n",
    "1. Standardisation (values are centered around the mean with unit standard deviation.)\n",
    "2. Normalisation/min_max scaling.(values range from 0 to 1)"
   ]
  },
  {
   "cell_type": "markdown",
   "metadata": {
    "id": "V7xWNXrTFTSZ"
   },
   "source": [
    "StandardScaler(), which is a Standardization tool."
   ]
  },
  {
   "cell_type": "code",
   "execution_count": null,
   "metadata": {
    "colab": {
     "base_uri": "https://localhost:8080/",
     "height": 216
    },
    "id": "vLndohHECAvy",
    "outputId": "23c2ece0-9c5c-4dff-93b5-b997be4216bf"
   },
   "outputs": [],
   "source": [
    "se = StandardScaler()\n",
    "abh = se.fit_transform(camero.drop(columns=['stroke']))\n",
    "mercury = pd.DataFrame(data = abh, columns = camero.drop(columns = ['stroke']).columns)\n",
    "mercury.head()"
   ]
  },
  {
   "cell_type": "markdown",
   "metadata": {
    "id": "OZYRO7c1FwzY"
   },
   "source": [
    "### **Feature Selection**\n",
    "Selecting the best features which best contribute to our model."
   ]
  },
  {
   "cell_type": "code",
   "execution_count": null,
   "metadata": {
    "colab": {
     "base_uri": "https://localhost:8080/",
     "height": 448
    },
    "id": "UtfUucrLFaqu",
    "outputId": "acb9c1f7-e7ad-4b4f-c979-8c68d798e0cd"
   },
   "outputs": [],
   "source": [
    "plt.rcParams['figure.figsize'] = (20,12)\n",
    "corr = mercury.corr()\n",
    "sns.heatmap(corr, annot=True, cmap='autumn')\n",
    "plt.show()"
   ]
  },
  {
   "cell_type": "markdown",
   "metadata": {
    "id": "fe32aVCgGbJW"
   },
   "source": [
    "Function to select the best features with some threshold value."
   ]
  },
  {
   "cell_type": "code",
   "execution_count": null,
   "metadata": {
    "colab": {
     "base_uri": "https://localhost:8080/"
    },
    "id": "ZUtU7oJDFavH",
    "outputId": "a40dc5e4-26f2-4b3d-aca8-8a3b740087c2"
   },
   "outputs": [],
   "source": [
    "def correlation(dataset,threshold):\n",
    "    corr_list = []\n",
    "    corr_matrix = dataset.corr()\n",
    "    for i in range(len(corr_matrix.columns)):\n",
    "        for j in range(i):\n",
    "            if abs(corr_matrix.iloc[i,j] > threshold):\n",
    "                column = corr_matrix.columns[[i,j]]\n",
    "                corr_list.append(column)\n",
    "    print(len(corr_list))\n",
    "    return corr_list\n",
    "correlation(mercury,0.6)"
   ]
  },
  {
   "cell_type": "markdown",
   "metadata": {
    "id": "oKS9IWhAGqNS"
   },
   "source": [
    "Although, we can see ['ever_married', 'age'] are somewhat correlated, but where as if we use 'Variance Inflation Factor\", we ended up with fixing the Multicollinearirty.\n",
    "\n",
    "variance_inflation_factor -> it is used to remove multicollinearity between variables by removing as few variables as possible."
   ]
  },
  {
   "cell_type": "code",
   "execution_count": null,
   "metadata": {
    "colab": {
     "base_uri": "https://localhost:8080/"
    },
    "id": "HIOv31frEDkL",
    "outputId": "d9432ad8-17b4-478b-d30c-f2d0f262d5ab"
   },
   "outputs": [],
   "source": [
    "vif = variance_inflation_factor \n",
    "earth1 = pd.Series([vif(mercury.values, i) for i in range(mercury.shape[1])], index = mercury.columns)\n",
    "earth1"
   ]
  },
  {
   "cell_type": "markdown",
   "metadata": {
    "id": "E2WSZ11xIFom"
   },
   "source": [
    "Function to check and remove multicollinearity between independent variables."
   ]
  },
  {
   "cell_type": "code",
   "execution_count": null,
   "metadata": {
    "id": "GFoh54qeAPm-"
   },
   "outputs": [],
   "source": [
    "def mc(data):\n",
    "  earth = pd.Series([vif(data.values, i) for i in range(data.shape[1])], index = data.columns)\n",
    "  if earth.max() > 6:\n",
    "    print(earth[earth == earth.max()].index[0], 'Has Been Removed.')\n",
    "    data = data.drop(columns = earth[earth == earth.max()].index[0])\n",
    "  else:\n",
    "    print(\"MultiCollinearity Has Been Removed.\")\n",
    "    return data"
   ]
  },
  {
   "cell_type": "code",
   "execution_count": null,
   "metadata": {
    "colab": {
     "base_uri": "https://localhost:8080/",
     "height": 300
    },
    "id": "3W_kefk3APqq",
    "outputId": "77d53f81-7a8f-4212-8c14-4b94466e7b83"
   },
   "outputs": [],
   "source": [
    "for i in range(5):\n",
    "  mercury = mc(mercury)\n",
    "mercury.head()"
   ]
  },
  {
   "cell_type": "markdown",
   "metadata": {
    "id": "F4Z58wPwPRxp"
   },
   "source": [
    "### **Splitting Data**\n",
    "Splitting the dataset \n",
    "\n",
    "1. target_var\n",
    "2. Independent_var"
   ]
  },
  {
   "cell_type": "code",
   "execution_count": null,
   "metadata": {
    "id": "4KOeQyFrPQj4"
   },
   "outputs": [],
   "source": [
    "target_var = camero['stroke']\n",
    "inde_vars = camero.drop(columns=['stroke'], axis = 1)"
   ]
  },
  {
   "cell_type": "code",
   "execution_count": null,
   "metadata": {
    "colab": {
     "base_uri": "https://localhost:8080/"
    },
    "id": "eBlZ68ck9J_X",
    "outputId": "30f088b2-22f1-49a3-e0bc-d00dd7729ba5"
   },
   "outputs": [],
   "source": [
    "target_var"
   ]
  },
  {
   "cell_type": "code",
   "execution_count": null,
   "metadata": {
    "colab": {
     "base_uri": "https://localhost:8080/",
     "height": 216
    },
    "id": "SfbIc_775UVq",
    "outputId": "ea3e0e85-4935-4b3b-8006-c748c6e8ac6f"
   },
   "outputs": [],
   "source": [
    "inde_vars.head()"
   ]
  },
  {
   "cell_type": "markdown",
   "metadata": {
    "id": "JaZsSI4aKf-l"
   },
   "source": [
    "### **Handling Imbalanced Dataset.**\n",
    "As we saw the target_calss was highly imbalanced, so we try to balance the target_class using Oversampling method, using \"SMOTETomek\" tool."
   ]
  },
  {
   "cell_type": "code",
   "execution_count": null,
   "metadata": {
    "colab": {
     "base_uri": "https://localhost:8080/",
     "height": 216
    },
    "id": "sscKjAaaKe-7",
    "outputId": "a14a7eb5-cfd1-470f-9408-5fd904978d78"
   },
   "outputs": [],
   "source": [
    "camero.head()"
   ]
  },
  {
   "cell_type": "code",
   "execution_count": null,
   "metadata": {
    "id": "K-wdn1vtTa8A"
   },
   "outputs": [],
   "source": [
    "so = SMOTETomek()\n",
    "x_resample,y_resample = so.fit_sample(inde_vars, target_var.values.ravel())\n",
    "brad = pd.DataFrame(data=x_resample, columns = inde_vars.columns)"
   ]
  },
  {
   "cell_type": "code",
   "execution_count": null,
   "metadata": {
    "colab": {
     "base_uri": "https://localhost:8080/"
    },
    "id": "EfJX8BRUTbkR",
    "outputId": "fd03a2ae-9094-4b3a-8c1f-d33a9618682a"
   },
   "outputs": [],
   "source": [
    "#Before resampling\n",
    "print(\"Before Resampling Target_Variable: \")\n",
    "print(target_var.value_counts())\n",
    "\n",
    "# After resampling\n",
    "y_resample = pd.DataFrame(y_resample)\n",
    "print(\"After Resampling Target_Variable:\")\n",
    "print(y_resample[0].value_counts())"
   ]
  },
  {
   "cell_type": "code",
   "execution_count": null,
   "metadata": {},
   "outputs": [],
   "source": []
  },
  {
   "cell_type": "code",
   "execution_count": null,
   "metadata": {},
   "outputs": [],
   "source": []
  },
  {
   "cell_type": "markdown",
   "metadata": {
    "id": "Rcz4mz4SVJXn"
   },
   "source": [
    "### **Train Test Split.**\n",
    "Splitting the data into train and test datasets."
   ]
  },
  {
   "cell_type": "code",
   "execution_count": null,
   "metadata": {
    "colab": {
     "base_uri": "https://localhost:8080/"
    },
    "id": "yQUinilwVIfD",
    "outputId": "48330e55-e599-418c-8ae7-6a0da690d98e"
   },
   "outputs": [],
   "source": [
    "x_train,x_test,y_train,y_test = train_test_split(x_resample, y_resample, test_size = 0.3, random_state = 50)\n",
    "print(x_train.shape)\n",
    "print(y_train.shape)\n",
    "print(x_test.shape)\n",
    "print(y_test.shape)"
   ]
  },
  {
   "cell_type": "markdown",
   "metadata": {
    "id": "TLPl73LeUzwR"
   },
   "source": [
    "### **Feature Scaling Balanced Data.**\n",
    "Now, as we have balanced our data, we need to perform feature scaling to the banlanced data.\n"
   ]
  },
  {
   "cell_type": "code",
   "execution_count": null,
   "metadata": {
    "id": "jlGrjXWvUyfF"
   },
   "outputs": [],
   "source": [
    "x_train_ss = se.fit_transform(x_train)\n",
    "x_test_ss = se.transform(x_test)"
   ]
  },
  {
   "cell_type": "markdown",
   "metadata": {
    "id": "-pUY-XfvYnbl"
   },
   "source": [
    "## **Building Predictive Models.**\n",
    "1. Decision Tree\n",
    "2. Random Forest\n",
    "3. Logistic Regression\n",
    "4. Naive Bayes\n",
    "5. XG Boost "
   ]
  },
  {
   "cell_type": "code",
   "execution_count": null,
   "metadata": {
    "id": "GBJmW0RO4ybN"
   },
   "outputs": [],
   "source": []
  },
  {
   "cell_type": "markdown",
   "metadata": {
    "id": "UQrZl11k49Lg"
   },
   "source": [
    "### **Decision Tree Classifier**"
   ]
  },
  {
   "cell_type": "code",
   "execution_count": null,
   "metadata": {
    "colab": {
     "base_uri": "https://localhost:8080/"
    },
    "id": "oawIuwhSYtzS",
    "outputId": "2129f7ce-7e76-47f6-eaff-187a641a5f44"
   },
   "outputs": [],
   "source": [
    "from sklearn.tree import DecisionTreeClassifier\n",
    "model = DecisionTreeClassifier()\n",
    "model.fit(x_train_ss,y_train)\n",
    "predictions = model.predict(x_test_ss)\n",
    "\n",
    "print('The Training Accuracy of x_train and y_train is', model.score(x_train_ss,y_train))\n",
    "print(\"The Testing Accuracy of x_test and y_test is\", model.score(x_test_ss,y_test))"
   ]
  },
  {
   "cell_type": "code",
   "execution_count": null,
   "metadata": {
    "colab": {
     "base_uri": "https://localhost:8080/"
    },
    "id": "-tGsvMyWA4lj",
    "outputId": "f050e66f-8e65-4691-b91e-467e2022d38b"
   },
   "outputs": [],
   "source": [
    "print(confusion_matrix(predictions,y_test))"
   ]
  },
  {
   "cell_type": "code",
   "execution_count": null,
   "metadata": {
    "colab": {
     "base_uri": "https://localhost:8080/"
    },
    "id": "boXcjWMsPnMf",
    "outputId": "80c01521-88ea-489f-f477-2e5cddc93ee7"
   },
   "outputs": [],
   "source": [
    "print(classification_report(predictions,y_test))"
   ]
  },
  {
   "cell_type": "code",
   "execution_count": null,
   "metadata": {
    "colab": {
     "base_uri": "https://localhost:8080/"
    },
    "id": "fizpqTFORsO_",
    "outputId": "fb7209f6-b781-4c76-a0de-f957c9d9133e"
   },
   "outputs": [],
   "source": [
    "print(accuracy_score(predictions, y_test))"
   ]
  },
  {
   "cell_type": "code",
   "execution_count": null,
   "metadata": {
    "colab": {
     "base_uri": "https://localhost:8080/",
     "height": 1000
    },
    "id": "2CYxyMXy6-9-",
    "outputId": "53faea4e-4df4-44a5-eec9-147815f6b036"
   },
   "outputs": [],
   "source": [
    "plt.figure(figsize = (15,10))\n",
    "tree.plot_tree(model, filled = True)"
   ]
  },
  {
   "cell_type": "markdown",
   "metadata": {
    "id": "Ve_lW3_O6_bG"
   },
   "source": [
    "### **Cross Validation**\n",
    "Performing cross validation on the dataset using StratifiedKFold and calculating the mean Accuracy that can be achieved by the model."
   ]
  },
  {
   "cell_type": "code",
   "execution_count": null,
   "metadata": {
    "colab": {
     "base_uri": "https://localhost:8080/"
    },
    "id": "1rWC4p-YTf6n",
    "outputId": "06aabb9e-9c0b-4f7f-a5c3-a8a60dab090e"
   },
   "outputs": [],
   "source": [
    "x = pd.DataFrame(data = x_train_ss, columns = inde_vars.columns)\n",
    "y = y_train\n",
    "from sklearn.model_selection import  StratifiedKFold\n",
    "accuracy = []\n",
    "skf = StratifiedKFold(n_splits = 10, random_state = None)\n",
    "skf.get_n_splits(x,y)\n",
    "for train_index, test_index in skf.split(x,y):\n",
    "  print('Train:', train_index, 'Validation',test_index)\n",
    "  x1_train,x1_test = x.iloc[train_index],x.iloc[test_index]\n",
    "  y1_train,y1_test = y.iloc[train_index],y.iloc[test_index]\n",
    "  model.fit(x1_train,y1_train)\n",
    "  pred = model.predict(x1_test)\n",
    "  score = accuracy_score(pred,y1_test)\n",
    "  accuracy.append(score)\n",
    "print(accuracy)"
   ]
  },
  {
   "cell_type": "code",
   "execution_count": null,
   "metadata": {
    "id": "gpe9_dSRTgBV"
   },
   "outputs": [],
   "source": [
    "arr = np.array(accuracy)"
   ]
  },
  {
   "cell_type": "code",
   "execution_count": null,
   "metadata": {
    "colab": {
     "base_uri": "https://localhost:8080/"
    },
    "id": "i_pY23Y7TgEf",
    "outputId": "030025e5-0952-424e-8ee2-881e2b4e999c"
   },
   "outputs": [],
   "source": [
    "np.mean(arr)"
   ]
  },
  {
   "cell_type": "markdown",
   "metadata": {
    "id": "76gWzz4x8M_P"
   },
   "source": [
    "#### **Hyper Parameter Tuning the model to overcome Overfitting model.**\n",
    "Determining the parameters by plotting f1_score metrics.\n",
    "1. Function to calculate f1_score.\n",
    "2. Function to plot the f1_score that we have calculated.\n",
    "3. Pass the parameter values in the model and call the functions."
   ]
  },
  {
   "cell_type": "code",
   "execution_count": null,
   "metadata": {
    "id": "Zo0ZCw6ETgG6"
   },
   "outputs": [],
   "source": [
    "def cal_score(model, x1,y1,x2,y2):\n",
    "  model.fit(x1,y1)\n",
    "  p = model.predict(x1)\n",
    "  f1 = f1_score(y1, p)\n",
    "  p1 = model.predict(x2)\n",
    "  f2 = f1_score(y2,p1)\n",
    "  return f1,f2"
   ]
  },
  {
   "cell_type": "code",
   "execution_count": null,
   "metadata": {
    "id": "qi3SAMdl0CuM"
   },
   "outputs": [],
   "source": [
    "def effect(train, test, x_axis, title):\n",
    "  plt.figure(figsize = (12,10), dpi = 100)\n",
    "  plt.plot(x_axis, train, color = 'red', label = 'train_score')\n",
    "  plt.plot(x_axis, test, color = 'blue', label = 'test_score')\n",
    "  plt.legend()\n",
    "  plt.show()"
   ]
  },
  {
   "cell_type": "code",
   "execution_count": null,
   "metadata": {
    "colab": {
     "base_uri": "https://localhost:8080/",
     "height": 526
    },
    "id": "bQYH4a8z0Cxr",
    "outputId": "ca7807a0-a516-4a06-91bf-e2addd1de94a"
   },
   "outputs": [],
   "source": [
    "max_depth = [i for i in range(1,50)]\n",
    "train = []\n",
    "test = []\n",
    "for i in max_depth:\n",
    "  model =DecisionTreeClassifier(max_depth=i, random_state=50)\n",
    "  f1,f2 = cal_score(model, x_train, y_train, x_test, y_test)\n",
    "  train.append(f1)\n",
    "  test.append(f2)\n",
    "effect(train,test, range(1,50), 'Max_Depth')"
   ]
  },
  {
   "cell_type": "code",
   "execution_count": null,
   "metadata": {
    "colab": {
     "base_uri": "https://localhost:8080/",
     "height": 523
    },
    "id": "fiD7W2P90C2s",
    "outputId": "1c25c906-48d0-4c91-a312-8a74ddcfc480"
   },
   "outputs": [],
   "source": [
    "min_samples = [i for i in range(2,5000,25)]\n",
    "train = []\n",
    "test = []\n",
    "for i in min_samples:\n",
    "  model =DecisionTreeClassifier(max_depth=20, random_state=50, min_samples_split=i)\n",
    "  f1,f2 = cal_score(model, x_train, y_train, x_test, y_test)\n",
    "  train.append(f1)\n",
    "  test.append(f2)\n",
    "effect(train,test, range(2,5000,25), 'Min_Samples_Split')"
   ]
  },
  {
   "cell_type": "code",
   "execution_count": null,
   "metadata": {
    "colab": {
     "base_uri": "https://localhost:8080/",
     "height": 524
    },
    "id": "1W2efX204Yyw",
    "outputId": "514d461d-a829-4857-88d0-5b1767b6b395"
   },
   "outputs": [],
   "source": [
    "max_leaf = [i for i in range(2,200,10)]\n",
    "train = []\n",
    "test = []\n",
    "for i in max_leaf:\n",
    "  model =DecisionTreeClassifier(max_depth=20,min_samples_split=4250,max_leaf_nodes=i, random_state=50)\n",
    "  f1,f2 = cal_score(model, x_train, y_train, x_test, y_test)\n",
    "  train.append(f1)\n",
    "  test.append(f2)\n",
    "effect(train,test, range(2,200,10), 'Max_Leaf_Nodes')"
   ]
  },
  {
   "cell_type": "code",
   "execution_count": null,
   "metadata": {
    "id": "2P2SQMJq4Y7E"
   },
   "outputs": [],
   "source": []
  },
  {
   "cell_type": "markdown",
   "metadata": {
    "id": "UROQcLy19WLn"
   },
   "source": [
    "#### **Hyper Parameter Tuning the model by using roc_auc_curve.**\n"
   ]
  },
  {
   "cell_type": "code",
   "execution_count": null,
   "metadata": {
    "id": "EAddhtgH4Y-r"
   },
   "outputs": [],
   "source": [
    "def cal_score1(model, x1,y1,x2,y2):\n",
    "  model.fit(x1,y1)\n",
    "  p = model.predict(x1)\n",
    "  false_positive_rate, true_positive_rate, thresholds = roc_curve(y1, p)\n",
    "  roc_auc_1 = auc(false_positive_rate, true_positive_rate)\n",
    "  p1 = model.predict(x2)\n",
    "  false_positive_rate, true_positive_rate, thresholds = roc_curve(y2, p1)\n",
    "  roc_auc_2 = auc(false_positive_rate, true_positive_rate)\n",
    "  return roc_auc_1,roc_auc_2"
   ]
  },
  {
   "cell_type": "code",
   "execution_count": null,
   "metadata": {
    "id": "wHH-7CmS0C6h"
   },
   "outputs": [],
   "source": [
    "def effect1(train, test, x_axis, title):\n",
    "  plt.figure(figsize = (12,10), dpi = 100)\n",
    "  plt.plot(x_axis, train, color = 'red', label = 'train_score')\n",
    "  plt.plot(x_axis, test, color = 'blue', label = 'test_score')\n",
    "  plt.legend()\n",
    "  plt.show()"
   ]
  },
  {
   "cell_type": "code",
   "execution_count": null,
   "metadata": {
    "colab": {
     "base_uri": "https://localhost:8080/",
     "height": 526
    },
    "id": "Pep1K7pr-sHy",
    "outputId": "51527157-f2d6-4b62-e1d5-593b42da3131"
   },
   "outputs": [],
   "source": [
    "max_depth = [i for i in range(1,100)]\n",
    "train = []\n",
    "test = []\n",
    "for i in max_depth:\n",
    "  model =DecisionTreeClassifier(max_depth=i, random_state=50)\n",
    "  roc_auc_1,roc_auc_2 = cal_score1(model, x_train, y_train, x_test, y_test)\n",
    "  train.append(roc_auc_1)\n",
    "  test.append(roc_auc_2)\n",
    "effect1(train,test, range(1,100), 'Max_Depth')"
   ]
  },
  {
   "cell_type": "code",
   "execution_count": null,
   "metadata": {
    "colab": {
     "base_uri": "https://localhost:8080/",
     "height": 523
    },
    "id": "11qZTJqw-sLe",
    "outputId": "8840af32-96ce-4d5a-8ed5-3d3e6e21f9de"
   },
   "outputs": [],
   "source": [
    "min_sample_leaff = [i for i in range(25,4000,25)]\n",
    "train = []\n",
    "test = []\n",
    "for i in min_sample_leaff:\n",
    "  model =DecisionTreeClassifier(max_depth=20, min_samples_leaf=i, random_state=50)\n",
    "  roc_auc_1,roc_auc_2 = cal_score1(model, x_train, y_train, x_test, y_test)\n",
    "  train.append(roc_auc_1)\n",
    "  test.append(roc_auc_2)\n",
    "effect1(train,test, range(25,4000,25), 'Min_Samples_Leaf')"
   ]
  },
  {
   "cell_type": "code",
   "execution_count": null,
   "metadata": {
    "colab": {
     "base_uri": "https://localhost:8080/",
     "height": 520
    },
    "id": "u8WirR3I-sPv",
    "outputId": "8aec60bb-8d84-4cca-d7ca-959aee2c22fd"
   },
   "outputs": [],
   "source": [
    "max_leaf_node = [i for i in range(2,200,10)]\n",
    "train = []\n",
    "test = []\n",
    "for i in max_leaf_node:\n",
    "  model =DecisionTreeClassifier(max_depth=20,max_leaf_nodes=i, min_samples_leaf=3700, random_state=50)\n",
    "  roc_auc_1,roc_auc_2 = cal_score1(model, x_train, y_train, x_test, y_test)\n",
    "  train.append(roc_auc_1)\n",
    "  test.append(roc_auc_2)\n",
    "effect1(train,test, range(2,200,10), 'Max_Leaf_Nodes')"
   ]
  },
  {
   "cell_type": "code",
   "execution_count": null,
   "metadata": {
    "id": "1M5_OgTNLPGN"
   },
   "outputs": [],
   "source": []
  },
  {
   "cell_type": "markdown",
   "metadata": {
    "id": "fd_oUmrbO4_w"
   },
   "source": [
    "#### **Hyper parameter Tuning the model using ccp(cost complexity pruning) which helps us to select the best values for max_depth and max_samples_leaf parameter for Decision Tree.**"
   ]
  },
  {
   "cell_type": "code",
   "execution_count": null,
   "metadata": {
    "id": "Sh-tJQJcLRHL"
   },
   "outputs": [],
   "source": [
    "path = model.cost_complexity_pruning_path(x_train_ss,y_train)\n",
    "ccp_alphas, impurities = path.ccp_alphas, path.impurities"
   ]
  },
  {
   "cell_type": "code",
   "execution_count": null,
   "metadata": {
    "colab": {
     "base_uri": "https://localhost:8080/"
    },
    "id": "iLhK2MzYR4FY",
    "outputId": "d8b1bbb7-04ce-43e8-e285-00c415d6fb15"
   },
   "outputs": [],
   "source": [
    "ccp_alphas"
   ]
  },
  {
   "cell_type": "code",
   "execution_count": null,
   "metadata": {
    "colab": {
     "base_uri": "https://localhost:8080/"
    },
    "id": "zFmfKWTOLRM9",
    "outputId": "14ac0549-f765-44dc-e84a-8b8b0d022e9e"
   },
   "outputs": [],
   "source": [
    "clfs = []\n",
    "for i in ccp_alphas:\n",
    "  clf = DecisionTreeClassifier(random_state = 0, ccp_alpha=i)\n",
    "  clf.fit(x_train_ss,y_train)\n",
    "  clfs.append(clf)\n",
    "  print('Number of Nodes in the Last Tree is: {} with ccp_alpha: {}'.format(clfs[-1].tree_.node_count, ccp_alphas[-1]))"
   ]
  },
  {
   "cell_type": "markdown",
   "metadata": {
    "id": "dCQhxxpORq5p"
   },
   "source": [
    "Plotting a graph with Respect to Accuracy score and various clfs(classifiers)"
   ]
  },
  {
   "cell_type": "code",
   "execution_count": null,
   "metadata": {
    "colab": {
     "base_uri": "https://localhost:8080/",
     "height": 417
    },
    "id": "yvpFW2XfRkI2",
    "outputId": "085669a3-73f6-497f-8ed0-3189f4a7a99f"
   },
   "outputs": [],
   "source": [
    "train_set = [model.score(x_train_ss,y_train) for model in clfs]\n",
    "test_set = [model.score(x_test_ss,y_test) for model in clfs]\n",
    "\n",
    "plt.figure(figsize = (12,10), dpi = 100)\n",
    "fig,ax = plt.subplots()\n",
    "ax.plot(ccp_alphas, train_set, marker = 'o', label = 'Train', drawstyle = 'steps-post')\n",
    "ax.plot(ccp_alphas, test_set, marker = 'o', label = 'Test', drawstyle = 'steps-post')\n",
    "ax.set_xlabel('ccp_alphas')\n",
    "ax.set_ylabel('Accuracy')\n",
    "ax.set_title(\"Accuracy and ccp_alphas Distribution\")\n",
    "ax.legend()\n",
    "plt.show()"
   ]
  },
  {
   "cell_type": "code",
   "execution_count": null,
   "metadata": {
    "id": "Czdmk-8qRkT7"
   },
   "outputs": [],
   "source": []
  },
  {
   "cell_type": "markdown",
   "metadata": {
    "id": "Gvr8MyvH-Ayq"
   },
   "source": [
    "So, After applying Hyper Parameter Tuning **With Respect to Evaluation Metrics**, our model has successfully overcomed the problem of overfitting which has occured earlier."
   ]
  },
  {
   "cell_type": "code",
   "execution_count": null,
   "metadata": {
    "id": "OVnmsQaQ-sbi"
   },
   "outputs": [],
   "source": [
    "modified_model = DecisionTreeClassifier(max_depth = 18, min_samples_split=4250, min_samples_leaf=3700, max_leaf_nodes=21)\n",
    "modified_model.fit(x_train_ss, y_train)\n",
    "pr = modified_model.predict(x_test_ss)"
   ]
  },
  {
   "cell_type": "code",
   "execution_count": null,
   "metadata": {
    "colab": {
     "base_uri": "https://localhost:8080/"
    },
    "id": "bNjYNGkE-seg",
    "outputId": "36f7191b-ed7d-45ab-a448-8b39df5123fc"
   },
   "outputs": [],
   "source": [
    "print(modified_model.score(x_train_ss,y_train))\n",
    "print(modified_model.score(x_test_ss, y_test))\n",
    "print(accuracy_score(pr,y_test))"
   ]
  },
  {
   "cell_type": "markdown",
   "metadata": {
    "id": "pp-oP6tO-tsO"
   },
   "source": [
    "**Tree Plot With Respect to Modified Model**"
   ]
  },
  {
   "cell_type": "code",
   "execution_count": null,
   "metadata": {
    "colab": {
     "base_uri": "https://localhost:8080/",
     "height": 926
    },
    "id": "oFZqeVduZRzR",
    "outputId": "c9032098-bfd6-4fa7-97e7-d190bedb8054"
   },
   "outputs": [],
   "source": [
    "plt.figure(figsize = (15,10))\n",
    "tree.plot_tree(modified_model, filled = True)"
   ]
  },
  {
   "cell_type": "code",
   "execution_count": null,
   "metadata": {
    "id": "O5K_17UXVBq5"
   },
   "outputs": [],
   "source": []
  },
  {
   "cell_type": "markdown",
   "metadata": {
    "id": "30hGU4AP-920"
   },
   "source": [
    "#### **Logistic Regression**"
   ]
  },
  {
   "cell_type": "code",
   "execution_count": null,
   "metadata": {
    "id": "FfQ8AdA9TgJb"
   },
   "outputs": [],
   "source": [
    "## Logistic Regression()"
   ]
  },
  {
   "cell_type": "code",
   "execution_count": null,
   "metadata": {
    "id": "AnUurakSRsSF"
   },
   "outputs": [],
   "source": [
    "from sklearn.linear_model import LogisticRegression\n",
    "lg = LogisticRegression()\n",
    "model1 = lg.fit(x_train_ss, y_train)\n",
    "y_predict = model1.predict(x_test_ss)\n",
    "predicted_values = model1.predict_proba(x_test_ss)"
   ]
  },
  {
   "cell_type": "code",
   "execution_count": null,
   "metadata": {
    "colab": {
     "base_uri": "https://localhost:8080/"
    },
    "id": "zLqNTCulmbO8",
    "outputId": "54ebd725-540d-4e30-82cb-ff4dcfa560d0"
   },
   "outputs": [],
   "source": [
    "recall_score(y_test, y_predict)"
   ]
  },
  {
   "cell_type": "code",
   "execution_count": null,
   "metadata": {
    "colab": {
     "base_uri": "https://localhost:8080/"
    },
    "id": "z0MzAw9LmxnH",
    "outputId": "29243468-5505-4795-fa0a-932b6886af72"
   },
   "outputs": [],
   "source": [
    "precision_score(y_test,y_predict)"
   ]
  },
  {
   "cell_type": "code",
   "execution_count": null,
   "metadata": {
    "colab": {
     "base_uri": "https://localhost:8080/"
    },
    "id": "mQemKkwvmxqF",
    "outputId": "faa26392-2ffe-4f71-e3a1-aa44a85c6997"
   },
   "outputs": [],
   "source": [
    "f1_score(y_test,y_predict)"
   ]
  },
  {
   "cell_type": "code",
   "execution_count": null,
   "metadata": {
    "id": "spqDPl6upuqU"
   },
   "outputs": [],
   "source": [
    "y_testt = y_test.squeeze()"
   ]
  },
  {
   "cell_type": "code",
   "execution_count": null,
   "metadata": {
    "id": "Fpt-_FpVoCuu"
   },
   "outputs": [],
   "source": [
    "precision_points, recall_points, threshold_points = precision_recall_curve(y_testt, predicted_values[:,1]) "
   ]
  },
  {
   "cell_type": "code",
   "execution_count": null,
   "metadata": {
    "colab": {
     "base_uri": "https://localhost:8080/"
    },
    "id": "xVYPwEm_rCTh",
    "outputId": "3dc0adc3-c5ee-4dec-9598-2b385fa334b9"
   },
   "outputs": [],
   "source": [
    "precision_points.shape, recall_points.shape, threshold_points.shape"
   ]
  },
  {
   "cell_type": "code",
   "execution_count": null,
   "metadata": {
    "colab": {
     "base_uri": "https://localhost:8080/"
    },
    "id": "uMYjxe_4sWYR",
    "outputId": "e0bab033-9dcd-4508-b24e-ed1544041c73"
   },
   "outputs": [],
   "source": [
    "precision_points"
   ]
  },
  {
   "cell_type": "code",
   "execution_count": null,
   "metadata": {
    "colab": {
     "base_uri": "https://localhost:8080/"
    },
    "id": "4pWwPKxUsWcA",
    "outputId": "97f9b20e-caa3-4e66-87fe-0f46c34db9c7"
   },
   "outputs": [],
   "source": [
    "recall_points"
   ]
  },
  {
   "cell_type": "code",
   "execution_count": null,
   "metadata": {
    "colab": {
     "base_uri": "https://localhost:8080/"
    },
    "id": "2GGC6iIZsWfn",
    "outputId": "e021bcdf-799d-4db2-9f67-6dca3aa90e0a"
   },
   "outputs": [],
   "source": [
    "threshold_points"
   ]
  },
  {
   "cell_type": "code",
   "execution_count": null,
   "metadata": {
    "colab": {
     "base_uri": "https://localhost:8080/",
     "height": 815
    },
    "id": "HJgbP4ueonZn",
    "outputId": "5c87c6e4-61b2-48c3-8258-ac5cc05f09f4"
   },
   "outputs": [],
   "source": [
    "plt.figure(figsize = (12,10), dpi = 100)\n",
    "plt.plot(threshold_points, recall_points[:-1], color = 'red')\n",
    "plt.plot(threshold_points, precision_points[:-1], color = 'blue')\n",
    "plt.show()"
   ]
  },
  {
   "cell_type": "code",
   "execution_count": null,
   "metadata": {
    "colab": {
     "base_uri": "https://localhost:8080/"
    },
    "id": "I2iTYcj5ongU",
    "outputId": "f5f47c90-3579-4e8d-8267-b773275fb78a"
   },
   "outputs": [],
   "source": [
    "tpr,fpr, threshold = roc_curve(y_testt, predicted_values[:,1])\n",
    "tpr.shape, fpr.shape, threshold.shape"
   ]
  },
  {
   "cell_type": "code",
   "execution_count": null,
   "metadata": {
    "colab": {
     "base_uri": "https://localhost:8080/",
     "height": 852
    },
    "id": "l77NAgnoonj2",
    "outputId": "a27ca77c-e565-43a1-bbc0-6c5cff92dcee"
   },
   "outputs": [],
   "source": [
    "plt.figure(figsize = (12,10), dpi = 100)\n",
    "plt.plot(tpr,fpr, color = 'red')\n",
    "plt.plot([0,1],[0,1], color = 'blue')\n",
    "plt.title(\"roc_curve\")\n",
    "plt.show()\n",
    "\n",
    "print(roc_auc_score(y_test, predicted_values[:,1]))"
   ]
  },
  {
   "cell_type": "code",
   "execution_count": null,
   "metadata": {
    "colab": {
     "base_uri": "https://localhost:8080/"
    },
    "id": "F5wBt-C6RsV2",
    "outputId": "f21e3fb3-d3c9-4383-dba2-dbd86973d63c"
   },
   "outputs": [],
   "source": [
    "print(\"Training Accuracy \", model1.score(x_train_ss,y_train))\n",
    "print(\"Testing Accuracy \", model1.score(x_test_ss,y_test))"
   ]
  },
  {
   "cell_type": "code",
   "execution_count": null,
   "metadata": {
    "colab": {
     "base_uri": "https://localhost:8080/"
    },
    "id": "ZYmTuvH1RsZD",
    "outputId": "26c778ec-9972-4344-f91d-2defb659da2a"
   },
   "outputs": [],
   "source": [
    "print(classification_report(y_predict, y_test))"
   ]
  },
  {
   "cell_type": "code",
   "execution_count": null,
   "metadata": {
    "colab": {
     "base_uri": "https://localhost:8080/"
    },
    "id": "k4BFP3JLRsbg",
    "outputId": "3b60a740-d8a8-410b-b439-8b7c1de262e9"
   },
   "outputs": [],
   "source": [
    "print(confusion_matrix(y_predict, y_test))"
   ]
  },
  {
   "cell_type": "code",
   "execution_count": null,
   "metadata": {
    "colab": {
     "base_uri": "https://localhost:8080/"
    },
    "id": "AVbkBKAFS_Gr",
    "outputId": "75ac48d3-1982-4153-cb72-5ce96ca2bf59"
   },
   "outputs": [],
   "source": [
    "print(accuracy_score(y_predict,y_test))"
   ]
  },
  {
   "cell_type": "code",
   "execution_count": null,
   "metadata": {
    "colab": {
     "base_uri": "https://localhost:8080/"
    },
    "id": "leln-h0wZKm3",
    "outputId": "1188e2aa-f831-4b79-aa86-7333f2f59625"
   },
   "outputs": [],
   "source": [
    "x = pd.DataFrame(data = x_train_ss, columns = inde_vars.columns)\n",
    "y = y_train\n",
    "from sklearn.model_selection import  StratifiedKFold\n",
    "accuracy1 = []\n",
    "skf = StratifiedKFold(n_splits = 10, random_state = None)\n",
    "skf.get_n_splits(x,y)\n",
    "for train_index, test_index in skf.split(x,y):\n",
    "  print('Train:', train_index, 'Validation',test_index)\n",
    "  x1_train,x1_test = x.iloc[train_index],x.iloc[test_index]\n",
    "  y1_train,y1_test = y.iloc[train_index],y.iloc[test_index]\n",
    "  model1.fit(x1_train,y1_train)\n",
    "  pred = model1.predict(x1_test)\n",
    "  score = accuracy_score(pred,y1_test)\n",
    "  accuracy1.append(score)\n",
    "print(accuracy1)"
   ]
  },
  {
   "cell_type": "code",
   "execution_count": null,
   "metadata": {
    "id": "KH6ivQh2lQDH"
   },
   "outputs": [],
   "source": []
  },
  {
   "cell_type": "markdown",
   "metadata": {
    "id": "IdXAyrW6JEfG"
   },
   "source": [
    "#### **Hyper Parameter Tuning Logistic Regression by using roc_auc_curve() metric**"
   ]
  },
  {
   "cell_type": "code",
   "execution_count": null,
   "metadata": {
    "colab": {
     "base_uri": "https://localhost:8080/"
    },
    "id": "MBfAxsvMJDjH",
    "outputId": "3ffb4079-ec4a-4db9-c718-a4bd035079fe"
   },
   "outputs": [],
   "source": [
    "lo = LogisticRegression()\n",
    "lo"
   ]
  },
  {
   "cell_type": "code",
   "execution_count": null,
   "metadata": {
    "id": "F3RdWDAAJDvA"
   },
   "outputs": [],
   "source": [
    "parameters = {'penalty':['l1','l2','elasticnet','none'],\n",
    "              'solver':['newton-cg','lbfgs','sag','saga'],\n",
    "              'max_iter':[i for i in range(100,2000,100)], \n",
    "              'warm_start':['True','False']}\n"
   ]
  },
  {
   "cell_type": "code",
   "execution_count": null,
   "metadata": {
    "colab": {
     "base_uri": "https://localhost:8080/"
    },
    "id": "bjYRRxiTLGfn",
    "outputId": "b7c502d7-4d94-493b-99ba-f4560d47e563"
   },
   "outputs": [],
   "source": [
    "print(parameters)"
   ]
  },
  {
   "cell_type": "code",
   "execution_count": null,
   "metadata": {
    "id": "5rGwJ9lkLGkz"
   },
   "outputs": [],
   "source": [
    "random_search = RandomizedSearchCV(estimator=lo, param_distributions = parameters, scoring='accuracy', n_jobs = -1, cv = 10, n_iter = 10, verbose = 2, random_state = 50)"
   ]
  },
  {
   "cell_type": "code",
   "execution_count": null,
   "metadata": {
    "colab": {
     "base_uri": "https://localhost:8080/"
    },
    "id": "ZiJBi7bJLGpy",
    "outputId": "eecae298-88dd-4638-a88d-4057b7fac683"
   },
   "outputs": [],
   "source": [
    "random_search.fit(x_train_ss,y_train)"
   ]
  },
  {
   "cell_type": "code",
   "execution_count": null,
   "metadata": {
    "colab": {
     "base_uri": "https://localhost:8080/"
    },
    "id": "2mtLadUkJDyg",
    "outputId": "9520b5e1-4ad2-4b24-cf74-95029b379102"
   },
   "outputs": [],
   "source": [
    "random_search.best_params_"
   ]
  },
  {
   "cell_type": "code",
   "execution_count": null,
   "metadata": {
    "colab": {
     "base_uri": "https://localhost:8080/"
    },
    "id": "w9wtNAuVJD5U",
    "outputId": "6264eb81-06cb-4915-9b13-dab867061f17"
   },
   "outputs": [],
   "source": [
    "random_search.get_params"
   ]
  },
  {
   "cell_type": "code",
   "execution_count": null,
   "metadata": {
    "colab": {
     "base_uri": "https://localhost:8080/"
    },
    "id": "ScbR4vEIKnNL",
    "outputId": "ba30dc20-ef2e-4c2a-cb5e-a1035442cbac"
   },
   "outputs": [],
   "source": [
    "random_search.best_score_"
   ]
  },
  {
   "cell_type": "markdown",
   "metadata": {
    "id": "W1pn12qWQvOQ"
   },
   "source": [
    "Executing with best params_."
   ]
  },
  {
   "cell_type": "code",
   "execution_count": null,
   "metadata": {
    "colab": {
     "base_uri": "https://localhost:8080/"
    },
    "id": "GQcUO8hDKnTM",
    "outputId": "0fee70e6-22a4-464f-8476-fdb37125b9ea"
   },
   "outputs": [],
   "source": [
    "lr = LogisticRegression(max_iter = 1300,\n",
    "                        penalty='l2',\n",
    "                        solver= 'newton-cg',\n",
    "                        warm_start=True)\n",
    "lr.fit(x_train_ss,y_train)"
   ]
  },
  {
   "cell_type": "code",
   "execution_count": null,
   "metadata": {
    "colab": {
     "base_uri": "https://localhost:8080/"
    },
    "id": "ZeMOLzBSKneX",
    "outputId": "9f9dd7f3-1643-4dda-9b4b-a6955aa65236"
   },
   "outputs": [],
   "source": [
    "pre = lr.predict(x_test_ss)\n",
    "print(accuracy_score(pre,y_test))"
   ]
  },
  {
   "cell_type": "markdown",
   "metadata": {
    "id": "MdcU66h5SieL"
   },
   "source": [
    "#### **Random Forest Classifier**"
   ]
  },
  {
   "cell_type": "code",
   "execution_count": null,
   "metadata": {
    "id": "XYyHUzPJxoDn"
   },
   "outputs": [],
   "source": [
    "from sklearn.ensemble import RandomForestClassifier\n",
    "rf = RandomForestClassifier()\n",
    "model3 = rf.fit(x_train_ss, y_train)\n",
    "re_pred = model3.predict(x_test_ss)"
   ]
  },
  {
   "cell_type": "code",
   "execution_count": null,
   "metadata": {
    "colab": {
     "base_uri": "https://localhost:8080/"
    },
    "id": "P4R4A47BxoHY",
    "outputId": "df02fbd8-4875-493d-990a-338f0314008d"
   },
   "outputs": [],
   "source": [
    "print(\"trianing accuracy is\", model3.score(x_train_ss, y_train))\n",
    "print('Testing Accuracy is', model3.score(x_test_ss, y_test))\n",
    "print(accuracy_score(y_test, re_pred))"
   ]
  },
  {
   "cell_type": "code",
   "execution_count": null,
   "metadata": {
    "colab": {
     "base_uri": "https://localhost:8080/"
    },
    "id": "jNE4aioIxoLi",
    "outputId": "ade17f92-6d2a-4382-94d5-d6e68cde0893"
   },
   "outputs": [],
   "source": [
    "print(confusion_matrix(y_test, re_pred))"
   ]
  },
  {
   "cell_type": "code",
   "execution_count": null,
   "metadata": {
    "colab": {
     "base_uri": "https://localhost:8080/"
    },
    "id": "H2yL0qQNxoPD",
    "outputId": "d281da2e-42bf-4822-9d61-03f32aaf813d"
   },
   "outputs": [],
   "source": [
    "print(classification_report(y_test, re_pred))"
   ]
  },
  {
   "cell_type": "code",
   "execution_count": null,
   "metadata": {
    "colab": {
     "base_uri": "https://localhost:8080/"
    },
    "id": "4lHOUyXQxoSF",
    "outputId": "c7d2a413-2545-4ced-cbdf-3763a590f63f"
   },
   "outputs": [],
   "source": [
    "recall_score(y_test, re_pred)"
   ]
  },
  {
   "cell_type": "code",
   "execution_count": null,
   "metadata": {
    "colab": {
     "base_uri": "https://localhost:8080/"
    },
    "id": "YhozV8bcxoVJ",
    "outputId": "730be924-66ab-4afc-d763-eeef220e8d3a"
   },
   "outputs": [],
   "source": [
    "precision_score(y_test, re_pred)"
   ]
  },
  {
   "cell_type": "code",
   "execution_count": null,
   "metadata": {
    "colab": {
     "base_uri": "https://localhost:8080/"
    },
    "id": "YuEPmUmbxoYH",
    "outputId": "1f5c6395-9c48-4796-e9c1-32396c70077b"
   },
   "outputs": [],
   "source": [
    "f1_score(y_test, re_pred)"
   ]
  },
  {
   "cell_type": "code",
   "execution_count": null,
   "metadata": {
    "colab": {
     "base_uri": "https://localhost:8080/"
    },
    "id": "2qzcKEhgxobp",
    "outputId": "62ef50b3-c564-42d4-c7ab-2bd1b0c1756c"
   },
   "outputs": [],
   "source": [
    "x = pd.DataFrame(data = x_train_ss, columns = inde_vars.columns)\n",
    "y = y_train\n",
    "from sklearn.model_selection import  StratifiedKFold\n",
    "accuracy2 = []\n",
    "skf = StratifiedKFold(n_splits = 10, random_state = None)\n",
    "skf.get_n_splits(x,y)\n",
    "for train_index, test_index in skf.split(x,y):\n",
    "  print('Train:', train_index, 'Validation',test_index)\n",
    "  x1_train,x1_test = x.iloc[train_index],x.iloc[test_index]\n",
    "  y1_train,y1_test = y.iloc[train_index],y.iloc[test_index]\n",
    "  model3.fit(x1_train,y1_train)\n",
    "  pred = model3.predict(x1_test)\n",
    "  score = accuracy_score(pred,y1_test)\n",
    "  accuracy2.append(score)\n",
    "print(accuracy2)"
   ]
  },
  {
   "cell_type": "code",
   "execution_count": null,
   "metadata": {
    "id": "L_itOt58xoed"
   },
   "outputs": [],
   "source": []
  },
  {
   "cell_type": "code",
   "execution_count": null,
   "metadata": {
    "id": "jv5bLXZ9Tiuj"
   },
   "outputs": [],
   "source": []
  },
  {
   "cell_type": "markdown",
   "metadata": {
    "id": "3g59_e2zTj6X"
   },
   "source": [
    "#### **Hyper Parameter Tuning Random Forest Model Using RandomizedSearchCV**"
   ]
  },
  {
   "cell_type": "code",
   "execution_count": null,
   "metadata": {
    "colab": {
     "base_uri": "https://localhost:8080/"
    },
    "id": "PnM8MiD5TyVS",
    "outputId": "d7b6f7bd-ca16-40d5-eb75-a48e9b8a3cfd"
   },
   "outputs": [],
   "source": [
    "rfc = RandomForestClassifier()\n",
    "rfc"
   ]
  },
  {
   "cell_type": "code",
   "execution_count": null,
   "metadata": {
    "colab": {
     "base_uri": "https://localhost:8080/"
    },
    "id": "u-EjemLqTi0g",
    "outputId": "42e62043-64c7-4be1-8f91-52bdb169d376"
   },
   "outputs": [],
   "source": [
    "param = {'n_estimators' : [i for i in range(100,1500,100)],\n",
    "         'max_depth' : [i for i in range(10,100,10)],\n",
    "         'max_features' : ['auto','sqrt','log2'],\n",
    "         'min_samples_split' :  np.linspace(0.1,1.0,10, endpoint = True),\n",
    "         'min_samples_leaf' : np.linspace(0.1,0.5,5, endpoint =True),\n",
    "         'warm_start' : ['True', 'False']\n",
    "}\n",
    "\n",
    "param"
   ]
  },
  {
   "cell_type": "code",
   "execution_count": null,
   "metadata": {
    "id": "ZxojTEUfTi44"
   },
   "outputs": [],
   "source": [
    "rf_grid = RandomizedSearchCV(estimator =rfc, param_distributions=param, scoring = 'roc_auc', verbose = 2, n_jobs = -1, random_state = 50)"
   ]
  },
  {
   "cell_type": "code",
   "execution_count": null,
   "metadata": {
    "colab": {
     "base_uri": "https://localhost:8080/"
    },
    "id": "r9hzXdfZTi8v",
    "outputId": "e04c668f-84d8-4c16-d08d-be5ab690a6e0"
   },
   "outputs": [],
   "source": [
    "rf_grid.fit(x_train_ss,y_train)"
   ]
  },
  {
   "cell_type": "code",
   "execution_count": null,
   "metadata": {
    "colab": {
     "base_uri": "https://localhost:8080/"
    },
    "id": "GrmEDxApjhqH",
    "outputId": "3cd2ab78-9e06-4bfc-bfbb-75cee50a50e2"
   },
   "outputs": [],
   "source": [
    "rf_grid.best_score_"
   ]
  },
  {
   "cell_type": "code",
   "execution_count": null,
   "metadata": {
    "colab": {
     "base_uri": "https://localhost:8080/"
    },
    "id": "fnWjXVtPGqbB",
    "outputId": "a3d157b8-ca3e-43c8-bfb3-5e05a7c6bc91"
   },
   "outputs": [],
   "source": [
    "rf_grid.get_params"
   ]
  },
  {
   "cell_type": "code",
   "execution_count": null,
   "metadata": {
    "colab": {
     "base_uri": "https://localhost:8080/"
    },
    "id": "kHJNIwOHGqgC",
    "outputId": "05e70568-830e-4dfd-c4b7-0c7381cfcdcf"
   },
   "outputs": [],
   "source": [
    "rf_grid.best_estimator_"
   ]
  },
  {
   "cell_type": "code",
   "execution_count": null,
   "metadata": {
    "id": "5D_428teG-pB"
   },
   "outputs": [],
   "source": []
  },
  {
   "cell_type": "code",
   "execution_count": null,
   "metadata": {
    "id": "k_B9YiLxG-0t"
   },
   "outputs": [],
   "source": []
  },
  {
   "cell_type": "markdown",
   "metadata": {
    "id": "-WFo2vuikX2D"
   },
   "source": [
    "### **Testing the Model**"
   ]
  },
  {
   "cell_type": "code",
   "execution_count": null,
   "metadata": {
    "id": "U1hNCR8ajhug"
   },
   "outputs": [],
   "source": [
    "ford = pd.read_csv(\"healthcare-dataset-stroke-data.csv\")"
   ]
  },
  {
   "cell_type": "code",
   "execution_count": null,
   "metadata": {
    "colab": {
     "base_uri": "https://localhost:8080/",
     "height": 250
    },
    "id": "ODb6JpaJjhzz",
    "outputId": "ab1b7b7c-7bc0-4925-9716-2497331e3faf"
   },
   "outputs": [],
   "source": [
    "ford.head()"
   ]
  },
  {
   "cell_type": "code",
   "execution_count": null,
   "metadata": {
    "colab": {
     "base_uri": "https://localhost:8080/"
    },
    "id": "-Mi1tktwzS0S",
    "outputId": "f464fbf1-7d25-4692-c7a3-7bad0b2791e4"
   },
   "outputs": [],
   "source": [
    "ford.info()"
   ]
  },
  {
   "cell_type": "code",
   "execution_count": null,
   "metadata": {
    "id": "vntqRpBdjh3q"
   },
   "outputs": [],
   "source": [
    "ford.drop(index = ford[(ford.age > 1.0) & (ford.age < 2.0)].index, axis = 0, inplace = True)"
   ]
  },
  {
   "cell_type": "code",
   "execution_count": null,
   "metadata": {
    "colab": {
     "base_uri": "https://localhost:8080/"
    },
    "id": "Whw-dqe_mI8e",
    "outputId": "9f7c78b4-84a4-4e26-a627-e3266b5f8fb6"
   },
   "outputs": [],
   "source": [
    "ford.shape"
   ]
  },
  {
   "cell_type": "code",
   "execution_count": null,
   "metadata": {
    "id": "u6JCO_4Fzzne"
   },
   "outputs": [],
   "source": [
    "anamolies = []\n",
    "def outliers(data):\n",
    "  random_state_mean = np.mean(data)\n",
    "  random_state_std = np.std(data)\n",
    "  anamoly = random_state_std * 3\n",
    "\n",
    "  upper_limit = random_state_mean + anamoly\n",
    "  lower_limit = random_state_mean - anamoly\n",
    "  uu =  max(ford['avg_glucose_level'])\n",
    "  ll = min(ford['avg_glucose_level'])\n",
    "\n",
    "  print(upper_limit)\n",
    "  print(lower_limit)\n",
    "  for i in data:\n",
    "    if i < ll or i > uu:\n",
    "      anamolies.append(i)"
   ]
  },
  {
   "cell_type": "code",
   "execution_count": null,
   "metadata": {
    "colab": {
     "base_uri": "https://localhost:8080/"
    },
    "id": "dgPO1LfkzzrH",
    "outputId": "6c284b2f-4840-4a27-c690-87a06d29ae47"
   },
   "outputs": [],
   "source": [
    "outliers(ford['avg_glucose_level'])\n",
    "print(len(anamolies))"
   ]
  },
  {
   "cell_type": "code",
   "execution_count": null,
   "metadata": {
    "colab": {
     "base_uri": "https://localhost:8080/"
    },
    "id": "hrh4XqIOzzu5",
    "outputId": "fb4bc725-6412-42f2-bad8-64f537f8c149"
   },
   "outputs": [],
   "source": [
    "dodge['avg_glucose_level'].describe()"
   ]
  },
  {
   "cell_type": "code",
   "execution_count": null,
   "metadata": {
    "id": "gkwn8mGXzzze"
   },
   "outputs": [],
   "source": [
    "anamolies = []\n",
    "def outliers(data):\n",
    "  random_state_mean = np.mean(data)\n",
    "  random_state_std = np.std(data)\n",
    "  anamoly = random_state_std * 3\n",
    "\n",
    "  upper_limit = random_state_mean + anamoly\n",
    "  lower_limit = random_state_mean - anamoly\n",
    "  ll = min(ford['bmi'])\n",
    "\n",
    "  print(upper_limit)\n",
    "  print(lower_limit)\n",
    "  for i in data:\n",
    "    if i < ll or i > upper_limit:\n",
    "      anamolies.append(i)"
   ]
  },
  {
   "cell_type": "code",
   "execution_count": null,
   "metadata": {
    "colab": {
     "base_uri": "https://localhost:8080/"
    },
    "id": "XbwOeBxd4MkY",
    "outputId": "63ec4d0a-05ec-4178-99c0-41af6a5c2479"
   },
   "outputs": [],
   "source": [
    "outliers(ford['bmi'])\n",
    "print(len(anamolies))"
   ]
  },
  {
   "cell_type": "code",
   "execution_count": null,
   "metadata": {
    "colab": {
     "base_uri": "https://localhost:8080/",
     "height": 1000
    },
    "id": "eVa1-3cL7czG",
    "outputId": "875f0755-cef4-415c-98bf-e3b18b35f968"
   },
   "outputs": [],
   "source": [
    "ford[ford['bmi'] > 52.45615973942819]"
   ]
  },
  {
   "cell_type": "code",
   "execution_count": null,
   "metadata": {
    "id": "y0mZJd9l8B01"
   },
   "outputs": [],
   "source": [
    "ford.drop(index = ford[ford['bmi'] > 52.45615973942819].index, axis = 0, inplace = True)"
   ]
  },
  {
   "cell_type": "code",
   "execution_count": null,
   "metadata": {
    "colab": {
     "base_uri": "https://localhost:8080/"
    },
    "id": "mvKhk-V885CZ",
    "outputId": "96a983cb-0ecf-4410-dc92-37e07371baf9"
   },
   "outputs": [],
   "source": [
    "ford.shape"
   ]
  },
  {
   "cell_type": "code",
   "execution_count": null,
   "metadata": {
    "colab": {
     "base_uri": "https://localhost:8080/"
    },
    "id": "Uly4rpo185Fn",
    "outputId": "02ef10f6-f781-4688-f1a8-647fe5432f76"
   },
   "outputs": [],
   "source": [
    "ford.isnull().sum()"
   ]
  },
  {
   "cell_type": "code",
   "execution_count": null,
   "metadata": {
    "colab": {
     "base_uri": "https://localhost:8080/"
    },
    "id": "46lL3JSx85I5",
    "outputId": "37bb3e3d-c621-44e1-98d3-6d2042488090"
   },
   "outputs": [],
   "source": [
    "ford['bmi'].mean()"
   ]
  },
  {
   "cell_type": "code",
   "execution_count": null,
   "metadata": {
    "id": "G_SNe4ec85Nq"
   },
   "outputs": [],
   "source": [
    "ford['bmi'].fillna(ford['bmi'].mean(), inplace = True)"
   ]
  },
  {
   "cell_type": "code",
   "execution_count": null,
   "metadata": {
    "colab": {
     "base_uri": "https://localhost:8080/"
    },
    "id": "jGrTDqYH85Qu",
    "outputId": "b329074b-2698-4c1d-c042-502d79f5661d"
   },
   "outputs": [],
   "source": [
    "ford['bmi'].isnull().sum()"
   ]
  },
  {
   "cell_type": "code",
   "execution_count": null,
   "metadata": {
    "colab": {
     "base_uri": "https://localhost:8080/"
    },
    "id": "9-1JVgQZ_iK7",
    "outputId": "a200e484-ffc3-479d-c0c5-bc471687e8b1"
   },
   "outputs": [],
   "source": [
    "ford['smoking_status'].replace('Unknown', 'never smoked')"
   ]
  },
  {
   "cell_type": "code",
   "execution_count": null,
   "metadata": {
    "colab": {
     "base_uri": "https://localhost:8080/"
    },
    "id": "3Ogn9mJM9nxt",
    "outputId": "b774a193-92c4-4d7f-ea81-08c0b25f9812"
   },
   "outputs": [],
   "source": [
    "ford.info()"
   ]
  },
  {
   "cell_type": "code",
   "execution_count": null,
   "metadata": {
    "id": "BZA96yUR85TD"
   },
   "outputs": [],
   "source": [
    "ford.drop(columns = ['id'], axis=1, inplace = True)"
   ]
  },
  {
   "cell_type": "code",
   "execution_count": null,
   "metadata": {
    "id": "XFQYI0gu85Z1"
   },
   "outputs": [],
   "source": [
    "ford['smoking_status'].replace({'Unknown':'never smoked'}, inplace = True)"
   ]
  },
  {
   "cell_type": "code",
   "execution_count": null,
   "metadata": {
    "id": "ZRxTSJE-AChQ"
   },
   "outputs": [],
   "source": [
    "ford['gender'] = ford['gender'].map(mapping)"
   ]
  },
  {
   "cell_type": "code",
   "execution_count": null,
   "metadata": {
    "id": "2heRvW25AsLf"
   },
   "outputs": [],
   "source": [
    "ford['ever_married'] = ford['ever_married'].map(mapping1)"
   ]
  },
  {
   "cell_type": "code",
   "execution_count": null,
   "metadata": {
    "id": "_3tQvd30AsOu"
   },
   "outputs": [],
   "source": [
    "ford['smoking_status'] = ford['smoking_status'].map(mapping2)"
   ]
  },
  {
   "cell_type": "code",
   "execution_count": null,
   "metadata": {
    "colab": {
     "base_uri": "https://localhost:8080/",
     "height": 196
    },
    "id": "H6lgV4LdAsSB",
    "outputId": "6c18cf89-e65a-4538-e13c-5584d8f6b21b"
   },
   "outputs": [],
   "source": [
    "ford[['gender', 'smoking_status', 'ever_married']].head()"
   ]
  },
  {
   "cell_type": "code",
   "execution_count": null,
   "metadata": {
    "colab": {
     "base_uri": "https://localhost:8080/"
    },
    "id": "NLe35XC5AsW1",
    "outputId": "02e424fc-5de6-42a6-fafa-4451bb3fad04"
   },
   "outputs": [],
   "source": [
    "ford['work_type'].unique()"
   ]
  },
  {
   "cell_type": "code",
   "execution_count": null,
   "metadata": {
    "colab": {
     "base_uri": "https://localhost:8080/"
    },
    "id": "VM3401BkAsai",
    "outputId": "ee566ef9-7b65-484b-e27f-2d68755c0e5d"
   },
   "outputs": [],
   "source": [
    "ford['Residence_type'].unique()"
   ]
  },
  {
   "cell_type": "code",
   "execution_count": null,
   "metadata": {
    "id": "9IcBNrz2Asd1"
   },
   "outputs": [],
   "source": [
    "ford['home_town'] = pd.get_dummies(ford['Residence_type'], drop_first = True)"
   ]
  },
  {
   "cell_type": "code",
   "execution_count": null,
   "metadata": {
    "id": "Hw2qlgWIBnbU"
   },
   "outputs": [],
   "source": [
    "rap = pd.get_dummies(ford['work_type'], drop_first = True)"
   ]
  },
  {
   "cell_type": "code",
   "execution_count": null,
   "metadata": {
    "id": "ySFHY0QtBneu"
   },
   "outputs": [],
   "source": [
    "cam = pd.concat([ford,rap], axis = 1)"
   ]
  },
  {
   "cell_type": "code",
   "execution_count": null,
   "metadata": {
    "colab": {
     "base_uri": "https://localhost:8080/",
     "height": 266
    },
    "id": "zKVUGR5YBnjy",
    "outputId": "6515d45f-539c-4295-c485-24966f499051"
   },
   "outputs": [],
   "source": [
    "cam.head()"
   ]
  },
  {
   "cell_type": "code",
   "execution_count": null,
   "metadata": {
    "id": "3RJ4LHD1B6-9"
   },
   "outputs": [],
   "source": [
    "cam.rename(columns = {'Never_worked':'w_t_n_w', 'Private':'w_t_p', 'Self-employed':'w_t_s_e', 'children':'w_t_c'}, inplace = True)"
   ]
  },
  {
   "cell_type": "code",
   "execution_count": null,
   "metadata": {
    "id": "lfUr67ZPB7DD"
   },
   "outputs": [],
   "source": [
    "cam.drop(columns = ['work_type','Residence_type'], inplace = True)"
   ]
  },
  {
   "cell_type": "code",
   "execution_count": null,
   "metadata": {
    "colab": {
     "base_uri": "https://localhost:8080/",
     "height": 216
    },
    "id": "7jjkdE-PB7G0",
    "outputId": "88429ead-18cb-440a-c3a8-35dcbbeb127c"
   },
   "outputs": [],
   "source": [
    "cam.head()"
   ]
  },
  {
   "cell_type": "code",
   "execution_count": null,
   "metadata": {
    "id": "JqOW47-aJ--3"
   },
   "outputs": [],
   "source": []
  },
  {
   "cell_type": "code",
   "execution_count": null,
   "metadata": {
    "id": "ZKhf4BgGB7K7"
   },
   "outputs": [],
   "source": [
    "target = cam['stroke']\n",
    "original = cam.drop(columns = ['stroke'])"
   ]
  },
  {
   "cell_type": "code",
   "execution_count": null,
   "metadata": {
    "id": "MwPnVsI7J6xt"
   },
   "outputs": [],
   "source": [
    "resampled_x,resampled_y = so.fit_resample(original,target.values.ravel())\n",
    "pitt = pd.DataFrame(data = resampled_x, columns=original.columns)"
   ]
  },
  {
   "cell_type": "code",
   "execution_count": null,
   "metadata": {
    "colab": {
     "base_uri": "https://localhost:8080/"
    },
    "id": "YSoF4RupKTMy",
    "outputId": "cae063c4-85a0-48b4-b76c-efc83c3cf3fd"
   },
   "outputs": [],
   "source": [
    "#Before resampling\n",
    "print(\"Before Resampling Target_Variable: \")\n",
    "print(target.value_counts())\n",
    "\n",
    "# After resampling\n",
    "resampled_y = pd.DataFrame(resampled_y)\n",
    "print(\"After Resampling Target_Variable:\")\n",
    "print(resampled_y[0].value_counts())"
   ]
  },
  {
   "cell_type": "code",
   "execution_count": null,
   "metadata": {
    "id": "CgXFAV9yKTQF"
   },
   "outputs": [],
   "source": []
  },
  {
   "cell_type": "code",
   "execution_count": null,
   "metadata": {
    "id": "C9WPS1D-DCj8"
   },
   "outputs": [],
   "source": [
    "fish = se.fit_transform(resampled_x)\n",
    "lucas = pd.DataFrame(data = fish, columns = original.columns)"
   ]
  },
  {
   "cell_type": "code",
   "execution_count": null,
   "metadata": {
    "colab": {
     "base_uri": "https://localhost:8080/",
     "height": 216
    },
    "id": "3LcYqxVBDCnZ",
    "outputId": "1d9234d8-8d76-4051-ac25-32e77cbda401"
   },
   "outputs": [],
   "source": [
    "lucas.head()"
   ]
  },
  {
   "cell_type": "code",
   "execution_count": null,
   "metadata": {
    "colab": {
     "base_uri": "https://localhost:8080/"
    },
    "id": "rDOtgDSADCsY",
    "outputId": "470a6cad-320d-4114-fa57-48774f70f8dd"
   },
   "outputs": [],
   "source": [
    "lucas.info()"
   ]
  },
  {
   "cell_type": "code",
   "execution_count": null,
   "metadata": {
    "id": "nqJCPDcLDCwG"
   },
   "outputs": [],
   "source": [
    "hash = modified_model.predict(lucas)"
   ]
  },
  {
   "cell_type": "code",
   "execution_count": null,
   "metadata": {
    "colab": {
     "base_uri": "https://localhost:8080/"
    },
    "id": "Z0s5rvFwJscr",
    "outputId": "ad0e688e-aee6-41e1-8d7d-ae56ee75a5d7"
   },
   "outputs": [],
   "source": [
    "print(accuracy_score(hash,resampled_y))"
   ]
  },
  {
   "cell_type": "code",
   "execution_count": null,
   "metadata": {
    "colab": {
     "base_uri": "https://localhost:8080/"
    },
    "id": "nm7JE0LSJfCl",
    "outputId": "a9ceceb5-7d8d-46a5-80e6-88fcdcf12f16"
   },
   "outputs": [],
   "source": [
    "print(classification_report(hash,resampled_y))"
   ]
  },
  {
   "cell_type": "code",
   "execution_count": null,
   "metadata": {
    "colab": {
     "base_uri": "https://localhost:8080/"
    },
    "id": "aEVAtbYlJfGW",
    "outputId": "b64e6824-3385-41a9-ee82-d2db4a9bdd6d"
   },
   "outputs": [],
   "source": [
    "print(confusion_matrix(hash,resampled_y))"
   ]
  },
  {
   "cell_type": "code",
   "execution_count": null,
   "metadata": {
    "id": "NLDTnmfqoUm-"
   },
   "outputs": [],
   "source": []
  },
  {
   "cell_type": "code",
   "execution_count": null,
   "metadata": {
    "id": "KhFOdXQfoUr1"
   },
   "outputs": [],
   "source": [
    "pathh = model.cost_complexity_pruning_path(x_train_ss,y_train)\n",
    "ccp_alphass, impurities = path.ccp_alphas, path.impurities"
   ]
  },
  {
   "cell_type": "code",
   "execution_count": null,
   "metadata": {
    "colab": {
     "base_uri": "https://localhost:8080/"
    },
    "id": "5r1CoZcEoUxI",
    "outputId": "e1d25712-bc6d-47e7-d6fa-91e6c741db2c"
   },
   "outputs": [],
   "source": [
    "clfss = []\n",
    "for i in ccp_alphass:\n",
    "  clff = DecisionTreeClassifier(max_depth = 18, min_samples_split=4250, min_samples_leaf=3700, max_leaf_nodes=21, random_state = 0, ccp_alpha=i)\n",
    "  clff.fit(x_train_ss,y_train)\n",
    "  clfss.append(clf)\n",
    "  print('Number of Nodes in the Last Tree is: {} with ccp_alpha: {}'.format(clfs[-1].tree_.node_count, ccp_alphas[-1]))"
   ]
  },
  {
   "cell_type": "code",
   "execution_count": null,
   "metadata": {
    "id": "bJ-25QcfoU2o"
   },
   "outputs": [],
   "source": []
  },
  {
   "cell_type": "code",
   "execution_count": null,
   "metadata": {
    "colab": {
     "base_uri": "https://localhost:8080/",
     "height": 417
    },
    "id": "kNG6PL10Jx4-",
    "outputId": "1daea11a-47a3-4e3d-8645-e4a367400896"
   },
   "outputs": [],
   "source": [
    "train_sett = [model.score(x_train_ss,y_train) for model in clfs]\n",
    "test_sett = [model.score(lucas,resampled_y) for model in clfs]\n",
    "\n",
    "plt.figure(figsize = (12,10), dpi = 100)\n",
    "fig,ax = plt.subplots()\n",
    "ax.plot(ccp_alphass, train_sett, marker = '*', label = 'Train', drawstyle = 'steps-post')\n",
    "ax.plot(ccp_alphass, test_sett, marker = '*', label = 'Test', drawstyle = 'steps-post')\n",
    "ax.set_xlabel('ccp_alphas')\n",
    "ax.set_ylabel('Accuracy')\n",
    "ax.set_title(\"Accuracy and ccp_alphas Distribution\")\n",
    "ax.legend()\n",
    "plt.show()"
   ]
  },
  {
   "cell_type": "code",
   "execution_count": null,
   "metadata": {
    "colab": {
     "base_uri": "https://localhost:8080/"
    },
    "id": "B46P8We-neCj",
    "outputId": "52f9b79b-2d74-4e92-8230-3b0319f03d4a"
   },
   "outputs": [],
   "source": [
    "mod_model = DecisionTreeClassifier(random_state = 0, ccp_alpha = 0.04)\n",
    "mod_model.fit(x_train_ss,y_train)"
   ]
  },
  {
   "cell_type": "code",
   "execution_count": null,
   "metadata": {
    "id": "foMuiHQTrV73"
   },
   "outputs": [],
   "source": [
    "predicate = mod_model.predict(lucas)"
   ]
  },
  {
   "cell_type": "code",
   "execution_count": null,
   "metadata": {
    "colab": {
     "base_uri": "https://localhost:8080/"
    },
    "id": "nRTZCL1Tryf8",
    "outputId": "2ced1714-caae-4b84-e042-bd829f15f885"
   },
   "outputs": [],
   "source": [
    "print(accuracy_score(predicate,resampled_y))"
   ]
  },
  {
   "cell_type": "code",
   "execution_count": null,
   "metadata": {
    "colab": {
     "base_uri": "https://localhost:8080/",
     "height": 602
    },
    "id": "JgNkvhMNrzxb",
    "outputId": "cfbcae8e-32a0-45e2-fb40-52264fe215a5"
   },
   "outputs": [],
   "source": [
    "plt.figure(figsize = (12,10))\n",
    "tree.plot_tree(mod_model, filled=True)"
   ]
  },
  {
   "cell_type": "code",
   "execution_count": null,
   "metadata": {
    "id": "87qHVdy7sG-e"
   },
   "outputs": [],
   "source": []
  },
  {
   "cell_type": "markdown",
   "metadata": {
    "id": "LWhhnp_QR-2x"
   },
   "source": [
    "Verifying Testing Data using Hyper tuned Logistic Regression."
   ]
  },
  {
   "cell_type": "code",
   "execution_count": null,
   "metadata": {
    "colab": {
     "base_uri": "https://localhost:8080/"
    },
    "id": "EFAFNegJR3vR",
    "outputId": "37aef363-8493-42e5-ab7f-2ad6a80c38b3"
   },
   "outputs": [],
   "source": [
    "jim = lr.predict(lucas)\n",
    "print(accuracy_score(jim, resampled_y))"
   ]
  },
  {
   "cell_type": "code",
   "execution_count": null,
   "metadata": {
    "id": "_PRacIjfSZX6"
   },
   "outputs": [],
   "source": []
  },
  {
   "cell_type": "markdown",
   "metadata": {
    "id": "xZLDiNTxS3sr"
   },
   "source": [
    "Testing Using Random Forest Classifier\n",
    "\n",
    "\n"
   ]
  },
  {
   "cell_type": "code",
   "execution_count": null,
   "metadata": {
    "id": "m_6Ky69YTXSj"
   },
   "outputs": [],
   "source": []
  },
  {
   "cell_type": "markdown",
   "metadata": {
    "id": "JWjHDbw1TYJF"
   },
   "source": [
    "Before Tuning the Random Forest Model."
   ]
  },
  {
   "cell_type": "code",
   "execution_count": null,
   "metadata": {
    "colab": {
     "base_uri": "https://localhost:8080/"
    },
    "id": "dq-zmmjaS7vp",
    "outputId": "8debd9b7-e566-4e89-ea76-bf620ff8ee25"
   },
   "outputs": [],
   "source": [
    "dwight = model3.predict(lucas)\n",
    "print(accuracy_score(dwight, resampled_y))"
   ]
  },
  {
   "cell_type": "code",
   "execution_count": null,
   "metadata": {},
   "outputs": [],
   "source": [
    "print(roc_auc_score(dwight,resampled_y))"
   ]
  },
  {
   "cell_type": "code",
   "execution_count": null,
   "metadata": {},
   "outputs": [],
   "source": [
    "print(f1_score(dwight, resampled_y))"
   ]
  },
  {
   "cell_type": "markdown",
   "metadata": {
    "id": "CkX0W1GqTcwq"
   },
   "source": [
    "After tuning the Model."
   ]
  },
  {
   "cell_type": "code",
   "execution_count": null,
   "metadata": {
    "id": "RrA4_aIBTecC"
   },
   "outputs": [],
   "source": [
    "model4 = RandomForestClassifier(bootstrap=True, ccp_alpha=0.0, class_weight=None,\n",
    "                       criterion='gini', max_depth=40, max_features='sqrt',\n",
    "                       max_leaf_nodes=None, max_samples=None,\n",
    "                       min_impurity_decrease=0.0, min_impurity_split=None,\n",
    "                       min_samples_leaf=0.1, min_samples_split=0.1,\n",
    "                       min_weight_fraction_leaf=0.0, n_estimators=100,\n",
    "                       n_jobs=None, oob_score=False, random_state=None,\n",
    "                       verbose=0, warm_start='True')"
   ]
  },
  {
   "cell_type": "code",
   "execution_count": null,
   "metadata": {},
   "outputs": [],
   "source": [
    "model4.fit(x_train_ss,y_train)\n",
    "lion = model4.predict(lucas)"
   ]
  },
  {
   "cell_type": "code",
   "execution_count": null,
   "metadata": {},
   "outputs": [],
   "source": [
    "print(accuracy_score(lion,resampled_y))"
   ]
  },
  {
   "cell_type": "code",
   "execution_count": null,
   "metadata": {},
   "outputs": [],
   "source": [
    "print(roc_auc_score(dwight,resampled_y))"
   ]
  },
  {
   "cell_type": "code",
   "execution_count": null,
   "metadata": {},
   "outputs": [],
   "source": [
    "print(f1_score(dwight, resampled_y))"
   ]
  },
  {
   "cell_type": "code",
   "execution_count": null,
   "metadata": {},
   "outputs": [],
   "source": []
  },
  {
   "cell_type": "code",
   "execution_count": null,
   "metadata": {},
   "outputs": [],
   "source": []
  }
 ],
 "metadata": {
  "colab": {
   "collapsed_sections": [],
   "name": "Brain Stroke.ipynb",
   "provenance": []
  },
  "kernelspec": {
   "display_name": "Python 3",
   "language": "python",
   "name": "python3"
  },
  "language_info": {
   "codemirror_mode": {
    "name": "ipython",
    "version": 3
   },
   "file_extension": ".py",
   "mimetype": "text/x-python",
   "name": "python",
   "nbconvert_exporter": "python",
   "pygments_lexer": "ipython3",
   "version": "3.8.5"
  },
  "widgets": {
   "application/vnd.jupyter.widget-state+json": {
    "080814b3dbb943bbac76effbb278c18d": {
     "model_module": "@jupyter-widgets/controls",
     "model_name": "VBoxModel",
     "state": {
      "_dom_classes": [
       "widget-interact"
      ],
      "_model_module": "@jupyter-widgets/controls",
      "_model_module_version": "1.5.0",
      "_model_name": "VBoxModel",
      "_view_count": null,
      "_view_module": "@jupyter-widgets/controls",
      "_view_module_version": "1.5.0",
      "_view_name": "VBoxView",
      "box_style": "",
      "children": [
       "IPY_MODEL_4db1563313db4050aa8ee72667bfd441",
       "IPY_MODEL_d571424507114dfcb3328ca44daf2ea0",
       "IPY_MODEL_af292204c2a04df09c4d5978c4d8a222",
       "IPY_MODEL_b35c3e2e3c5b40069c9c6919cacd4557"
      ],
      "layout": "IPY_MODEL_bf64e4218d58401cb8fecda96bb2a6e6"
     }
    },
    "0d0c7792f18a4dc78b16899b8ba1e836": {
     "model_module": "@jupyter-widgets/controls",
     "model_name": "VBoxModel",
     "state": {
      "_dom_classes": [
       "widget-interact"
      ],
      "_model_module": "@jupyter-widgets/controls",
      "_model_module_version": "1.5.0",
      "_model_name": "VBoxModel",
      "_view_count": null,
      "_view_module": "@jupyter-widgets/controls",
      "_view_module_version": "1.5.0",
      "_view_name": "VBoxView",
      "box_style": "",
      "children": [
       "IPY_MODEL_f1276eabed6442e78e4da7bf11e30ae3",
       "IPY_MODEL_1eda3ae4cac34a66a9c8aff3a581f2c7",
       "IPY_MODEL_ae0ab557cfef4baca8262cfbb23ac127"
      ],
      "layout": "IPY_MODEL_e9c134cfdb1e44c0b8a29193c1b8345a"
     }
    },
    "11280940cb0a44f8a7ca49d36a7cf7bc": {
     "model_module": "@jupyter-widgets/base",
     "model_name": "LayoutModel",
     "state": {
      "_model_module": "@jupyter-widgets/base",
      "_model_module_version": "1.2.0",
      "_model_name": "LayoutModel",
      "_view_count": null,
      "_view_module": "@jupyter-widgets/base",
      "_view_module_version": "1.2.0",
      "_view_name": "LayoutView",
      "align_content": null,
      "align_items": null,
      "align_self": null,
      "border": null,
      "bottom": null,
      "display": null,
      "flex": null,
      "flex_flow": null,
      "grid_area": null,
      "grid_auto_columns": null,
      "grid_auto_flow": null,
      "grid_auto_rows": null,
      "grid_column": null,
      "grid_gap": null,
      "grid_row": null,
      "grid_template_areas": null,
      "grid_template_columns": null,
      "grid_template_rows": null,
      "height": null,
      "justify_content": null,
      "justify_items": null,
      "left": null,
      "margin": null,
      "max_height": null,
      "max_width": null,
      "min_height": null,
      "min_width": null,
      "object_fit": null,
      "object_position": null,
      "order": null,
      "overflow": null,
      "overflow_x": null,
      "overflow_y": null,
      "padding": null,
      "right": null,
      "top": null,
      "visibility": null,
      "width": null
     }
    },
    "1eda3ae4cac34a66a9c8aff3a581f2c7": {
     "model_module": "@jupyter-widgets/controls",
     "model_name": "IntSliderModel",
     "state": {
      "_dom_classes": [],
      "_model_module": "@jupyter-widgets/controls",
      "_model_module_version": "1.5.0",
      "_model_name": "IntSliderModel",
      "_view_count": null,
      "_view_module": "@jupyter-widgets/controls",
      "_view_module_version": "1.5.0",
      "_view_name": "IntSliderView",
      "continuous_update": true,
      "description": "y",
      "description_tooltip": null,
      "disabled": false,
      "layout": "IPY_MODEL_3096c62d00c7451581dc6a687cde6f87",
      "max": 1,
      "min": 0,
      "orientation": "horizontal",
      "readout": true,
      "readout_format": "d",
      "step": 1,
      "style": "IPY_MODEL_cfe50982ad3148a7942139d5e24f2657",
      "value": 0
     }
    },
    "22b071299c634ab0bca153fab8566cf3": {
     "model_module": "@jupyter-widgets/output",
     "model_name": "OutputModel",
     "state": {
      "_dom_classes": [],
      "_model_module": "@jupyter-widgets/output",
      "_model_module_version": "1.0.0",
      "_model_name": "OutputModel",
      "_view_count": null,
      "_view_module": "@jupyter-widgets/output",
      "_view_module_version": "1.0.0",
      "_view_name": "OutputView",
      "layout": "IPY_MODEL_feb417b7116c49c5ab164b548d0fa5db",
      "msg_id": "",
      "outputs": [
       {
        "metadata": {
         "tags": []
        },
        "output_type": "display_data",
        "text/plain": "0    40517\n1      744\nName: stroke, dtype: int64"
       }
      ]
     }
    },
    "24f0802dc17a4a71a0f38964e696c77b": {
     "model_module": "@jupyter-widgets/controls",
     "model_name": "IntSliderModel",
     "state": {
      "_dom_classes": [],
      "_model_module": "@jupyter-widgets/controls",
      "_model_module_version": "1.5.0",
      "_model_name": "IntSliderModel",
      "_view_count": null,
      "_view_module": "@jupyter-widgets/controls",
      "_view_module_version": "1.5.0",
      "_view_name": "IntSliderView",
      "continuous_update": true,
      "description": "x",
      "description_tooltip": null,
      "disabled": false,
      "layout": "IPY_MODEL_11280940cb0a44f8a7ca49d36a7cf7bc",
      "max": 150,
      "min": -50,
      "orientation": "horizontal",
      "readout": true,
      "readout_format": "d",
      "step": 1,
      "style": "IPY_MODEL_a099d674f608490593239135153116dc",
      "value": 50
     }
    },
    "24f83a56e5534315ace24ad0690b2d1f": {
     "model_module": "@jupyter-widgets/base",
     "model_name": "LayoutModel",
     "state": {
      "_model_module": "@jupyter-widgets/base",
      "_model_module_version": "1.2.0",
      "_model_name": "LayoutModel",
      "_view_count": null,
      "_view_module": "@jupyter-widgets/base",
      "_view_module_version": "1.2.0",
      "_view_name": "LayoutView",
      "align_content": null,
      "align_items": null,
      "align_self": null,
      "border": null,
      "bottom": null,
      "display": null,
      "flex": null,
      "flex_flow": null,
      "grid_area": null,
      "grid_auto_columns": null,
      "grid_auto_flow": null,
      "grid_auto_rows": null,
      "grid_column": null,
      "grid_gap": null,
      "grid_row": null,
      "grid_template_areas": null,
      "grid_template_columns": null,
      "grid_template_rows": null,
      "height": null,
      "justify_content": null,
      "justify_items": null,
      "left": null,
      "margin": null,
      "max_height": null,
      "max_width": null,
      "min_height": null,
      "min_width": null,
      "object_fit": null,
      "object_position": null,
      "order": null,
      "overflow": null,
      "overflow_x": null,
      "overflow_y": null,
      "padding": null,
      "right": null,
      "top": null,
      "visibility": null,
      "width": null
     }
    },
    "2a28bfabe36241adbf5ce9f0131efb77": {
     "model_module": "@jupyter-widgets/controls",
     "model_name": "SliderStyleModel",
     "state": {
      "_model_module": "@jupyter-widgets/controls",
      "_model_module_version": "1.5.0",
      "_model_name": "SliderStyleModel",
      "_view_count": null,
      "_view_module": "@jupyter-widgets/base",
      "_view_module_version": "1.2.0",
      "_view_name": "StyleView",
      "description_width": "",
      "handle_color": null
     }
    },
    "3096c62d00c7451581dc6a687cde6f87": {
     "model_module": "@jupyter-widgets/base",
     "model_name": "LayoutModel",
     "state": {
      "_model_module": "@jupyter-widgets/base",
      "_model_module_version": "1.2.0",
      "_model_name": "LayoutModel",
      "_view_count": null,
      "_view_module": "@jupyter-widgets/base",
      "_view_module_version": "1.2.0",
      "_view_name": "LayoutView",
      "align_content": null,
      "align_items": null,
      "align_self": null,
      "border": null,
      "bottom": null,
      "display": null,
      "flex": null,
      "flex_flow": null,
      "grid_area": null,
      "grid_auto_columns": null,
      "grid_auto_flow": null,
      "grid_auto_rows": null,
      "grid_column": null,
      "grid_gap": null,
      "grid_row": null,
      "grid_template_areas": null,
      "grid_template_columns": null,
      "grid_template_rows": null,
      "height": null,
      "justify_content": null,
      "justify_items": null,
      "left": null,
      "margin": null,
      "max_height": null,
      "max_width": null,
      "min_height": null,
      "min_width": null,
      "object_fit": null,
      "object_position": null,
      "order": null,
      "overflow": null,
      "overflow_x": null,
      "overflow_y": null,
      "padding": null,
      "right": null,
      "top": null,
      "visibility": null,
      "width": null
     }
    },
    "340e7330d72c45dbb4470f6908f75009": {
     "model_module": "@jupyter-widgets/controls",
     "model_name": "SliderStyleModel",
     "state": {
      "_model_module": "@jupyter-widgets/controls",
      "_model_module_version": "1.5.0",
      "_model_name": "SliderStyleModel",
      "_view_count": null,
      "_view_module": "@jupyter-widgets/base",
      "_view_module_version": "1.2.0",
      "_view_name": "StyleView",
      "description_width": "",
      "handle_color": null
     }
    },
    "475e7c81d52948be80e6154de06f28a4": {
     "model_module": "@jupyter-widgets/base",
     "model_name": "LayoutModel",
     "state": {
      "_model_module": "@jupyter-widgets/base",
      "_model_module_version": "1.2.0",
      "_model_name": "LayoutModel",
      "_view_count": null,
      "_view_module": "@jupyter-widgets/base",
      "_view_module_version": "1.2.0",
      "_view_name": "LayoutView",
      "align_content": null,
      "align_items": null,
      "align_self": null,
      "border": null,
      "bottom": null,
      "display": null,
      "flex": null,
      "flex_flow": null,
      "grid_area": null,
      "grid_auto_columns": null,
      "grid_auto_flow": null,
      "grid_auto_rows": null,
      "grid_column": null,
      "grid_gap": null,
      "grid_row": null,
      "grid_template_areas": null,
      "grid_template_columns": null,
      "grid_template_rows": null,
      "height": null,
      "justify_content": null,
      "justify_items": null,
      "left": null,
      "margin": null,
      "max_height": null,
      "max_width": null,
      "min_height": null,
      "min_width": null,
      "object_fit": null,
      "object_position": null,
      "order": null,
      "overflow": null,
      "overflow_x": null,
      "overflow_y": null,
      "padding": null,
      "right": null,
      "top": null,
      "visibility": null,
      "width": null
     }
    },
    "4db1563313db4050aa8ee72667bfd441": {
     "model_module": "@jupyter-widgets/controls",
     "model_name": "IntSliderModel",
     "state": {
      "_dom_classes": [],
      "_model_module": "@jupyter-widgets/controls",
      "_model_module_version": "1.5.0",
      "_model_name": "IntSliderModel",
      "_view_count": null,
      "_view_module": "@jupyter-widgets/controls",
      "_view_module_version": "1.5.0",
      "_view_name": "IntSliderView",
      "continuous_update": true,
      "description": "x",
      "description_tooltip": null,
      "disabled": false,
      "layout": "IPY_MODEL_b1162eec5afe42bca3336ae121563766",
      "max": 1,
      "min": 0,
      "orientation": "horizontal",
      "readout": true,
      "readout_format": "d",
      "step": 1,
      "style": "IPY_MODEL_2a28bfabe36241adbf5ce9f0131efb77",
      "value": 0
     }
    },
    "50f0fe8585654963b06f3db317d5e397": {
     "model_module": "@jupyter-widgets/base",
     "model_name": "LayoutModel",
     "state": {
      "_model_module": "@jupyter-widgets/base",
      "_model_module_version": "1.2.0",
      "_model_name": "LayoutModel",
      "_view_count": null,
      "_view_module": "@jupyter-widgets/base",
      "_view_module_version": "1.2.0",
      "_view_name": "LayoutView",
      "align_content": null,
      "align_items": null,
      "align_self": null,
      "border": null,
      "bottom": null,
      "display": null,
      "flex": null,
      "flex_flow": null,
      "grid_area": null,
      "grid_auto_columns": null,
      "grid_auto_flow": null,
      "grid_auto_rows": null,
      "grid_column": null,
      "grid_gap": null,
      "grid_row": null,
      "grid_template_areas": null,
      "grid_template_columns": null,
      "grid_template_rows": null,
      "height": null,
      "justify_content": null,
      "justify_items": null,
      "left": null,
      "margin": null,
      "max_height": null,
      "max_width": null,
      "min_height": null,
      "min_width": null,
      "object_fit": null,
      "object_position": null,
      "order": null,
      "overflow": null,
      "overflow_x": null,
      "overflow_y": null,
      "padding": null,
      "right": null,
      "top": null,
      "visibility": null,
      "width": null
     }
    },
    "64a489bb0aa0435c959ebb58afb6d200": {
     "model_module": "@jupyter-widgets/base",
     "model_name": "LayoutModel",
     "state": {
      "_model_module": "@jupyter-widgets/base",
      "_model_module_version": "1.2.0",
      "_model_name": "LayoutModel",
      "_view_count": null,
      "_view_module": "@jupyter-widgets/base",
      "_view_module_version": "1.2.0",
      "_view_name": "LayoutView",
      "align_content": null,
      "align_items": null,
      "align_self": null,
      "border": null,
      "bottom": null,
      "display": null,
      "flex": null,
      "flex_flow": null,
      "grid_area": null,
      "grid_auto_columns": null,
      "grid_auto_flow": null,
      "grid_auto_rows": null,
      "grid_column": null,
      "grid_gap": null,
      "grid_row": null,
      "grid_template_areas": null,
      "grid_template_columns": null,
      "grid_template_rows": null,
      "height": null,
      "justify_content": null,
      "justify_items": null,
      "left": null,
      "margin": null,
      "max_height": null,
      "max_width": null,
      "min_height": null,
      "min_width": null,
      "object_fit": null,
      "object_position": null,
      "order": null,
      "overflow": null,
      "overflow_x": null,
      "overflow_y": null,
      "padding": null,
      "right": null,
      "top": null,
      "visibility": null,
      "width": null
     }
    },
    "6f5e0f79e43d48b5949674fb727708b8": {
     "model_module": "@jupyter-widgets/controls",
     "model_name": "SliderStyleModel",
     "state": {
      "_model_module": "@jupyter-widgets/controls",
      "_model_module_version": "1.5.0",
      "_model_name": "SliderStyleModel",
      "_view_count": null,
      "_view_module": "@jupyter-widgets/base",
      "_view_module_version": "1.2.0",
      "_view_name": "StyleView",
      "description_width": "",
      "handle_color": null
     }
    },
    "9b69f8b31d614c82acfc44c3bbf15990": {
     "model_module": "@jupyter-widgets/controls",
     "model_name": "DescriptionStyleModel",
     "state": {
      "_model_module": "@jupyter-widgets/controls",
      "_model_module_version": "1.5.0",
      "_model_name": "DescriptionStyleModel",
      "_view_count": null,
      "_view_module": "@jupyter-widgets/base",
      "_view_module_version": "1.2.0",
      "_view_name": "StyleView",
      "description_width": ""
     }
    },
    "a099d674f608490593239135153116dc": {
     "model_module": "@jupyter-widgets/controls",
     "model_name": "SliderStyleModel",
     "state": {
      "_model_module": "@jupyter-widgets/controls",
      "_model_module_version": "1.5.0",
      "_model_name": "SliderStyleModel",
      "_view_count": null,
      "_view_module": "@jupyter-widgets/base",
      "_view_module_version": "1.2.0",
      "_view_name": "StyleView",
      "description_width": "",
      "handle_color": null
     }
    },
    "ae0ab557cfef4baca8262cfbb23ac127": {
     "model_module": "@jupyter-widgets/output",
     "model_name": "OutputModel",
     "state": {
      "_dom_classes": [],
      "_model_module": "@jupyter-widgets/output",
      "_model_module_version": "1.0.0",
      "_model_name": "OutputModel",
      "_view_count": null,
      "_view_module": "@jupyter-widgets/output",
      "_view_module_version": "1.0.0",
      "_view_name": "OutputView",
      "layout": "IPY_MODEL_50f0fe8585654963b06f3db317d5e397",
      "msg_id": "",
      "outputs": [
       {
        "metadata": {
         "tags": []
        },
        "output_type": "display_data",
        "text/plain": "0    35541\n1      443\nName: stroke, dtype: int64"
       }
      ]
     }
    },
    "af292204c2a04df09c4d5978c4d8a222": {
     "model_module": "@jupyter-widgets/controls",
     "model_name": "TextModel",
     "state": {
      "_dom_classes": [],
      "_model_module": "@jupyter-widgets/controls",
      "_model_module_version": "1.5.0",
      "_model_name": "TextModel",
      "_view_count": null,
      "_view_module": "@jupyter-widgets/controls",
      "_view_module_version": "1.5.0",
      "_view_name": "TextView",
      "continuous_update": true,
      "description": "z",
      "description_tooltip": null,
      "disabled": false,
      "layout": "IPY_MODEL_64a489bb0aa0435c959ebb58afb6d200",
      "placeholder": "​",
      "style": "IPY_MODEL_9b69f8b31d614c82acfc44c3bbf15990",
      "value": "No"
     }
    },
    "b1162eec5afe42bca3336ae121563766": {
     "model_module": "@jupyter-widgets/base",
     "model_name": "LayoutModel",
     "state": {
      "_model_module": "@jupyter-widgets/base",
      "_model_module_version": "1.2.0",
      "_model_name": "LayoutModel",
      "_view_count": null,
      "_view_module": "@jupyter-widgets/base",
      "_view_module_version": "1.2.0",
      "_view_name": "LayoutView",
      "align_content": null,
      "align_items": null,
      "align_self": null,
      "border": null,
      "bottom": null,
      "display": null,
      "flex": null,
      "flex_flow": null,
      "grid_area": null,
      "grid_auto_columns": null,
      "grid_auto_flow": null,
      "grid_auto_rows": null,
      "grid_column": null,
      "grid_gap": null,
      "grid_row": null,
      "grid_template_areas": null,
      "grid_template_columns": null,
      "grid_template_rows": null,
      "height": null,
      "justify_content": null,
      "justify_items": null,
      "left": null,
      "margin": null,
      "max_height": null,
      "max_width": null,
      "min_height": null,
      "min_width": null,
      "object_fit": null,
      "object_position": null,
      "order": null,
      "overflow": null,
      "overflow_x": null,
      "overflow_y": null,
      "padding": null,
      "right": null,
      "top": null,
      "visibility": null,
      "width": null
     }
    },
    "b35c3e2e3c5b40069c9c6919cacd4557": {
     "model_module": "@jupyter-widgets/output",
     "model_name": "OutputModel",
     "state": {
      "_dom_classes": [],
      "_model_module": "@jupyter-widgets/output",
      "_model_module_version": "1.0.0",
      "_model_name": "OutputModel",
      "_view_count": null,
      "_view_module": "@jupyter-widgets/output",
      "_view_module_version": "1.0.0",
      "_view_name": "OutputView",
      "layout": "IPY_MODEL_475e7c81d52948be80e6154de06f28a4",
      "msg_id": "",
      "outputs": [
       {
        "metadata": {
         "tags": []
        },
        "output_type": "display_data",
        "text/plain": "(0    13690\n 1       44\n Name: stroke, dtype: int64, never smoked       11124\n smokes              1437\n formerly smoked     1173\n Name: smoking_status, dtype: int64)"
       }
      ]
     }
    },
    "b4a3461284c149dd9821abf4254a32bb": {
     "model_module": "@jupyter-widgets/controls",
     "model_name": "VBoxModel",
     "state": {
      "_dom_classes": [
       "widget-interact"
      ],
      "_model_module": "@jupyter-widgets/controls",
      "_model_module_version": "1.5.0",
      "_model_name": "VBoxModel",
      "_view_count": null,
      "_view_module": "@jupyter-widgets/controls",
      "_view_module_version": "1.5.0",
      "_view_name": "VBoxView",
      "box_style": "",
      "children": [
       "IPY_MODEL_24f0802dc17a4a71a0f38964e696c77b",
       "IPY_MODEL_22b071299c634ab0bca153fab8566cf3"
      ],
      "layout": "IPY_MODEL_24f83a56e5534315ace24ad0690b2d1f"
     }
    },
    "bf64e4218d58401cb8fecda96bb2a6e6": {
     "model_module": "@jupyter-widgets/base",
     "model_name": "LayoutModel",
     "state": {
      "_model_module": "@jupyter-widgets/base",
      "_model_module_version": "1.2.0",
      "_model_name": "LayoutModel",
      "_view_count": null,
      "_view_module": "@jupyter-widgets/base",
      "_view_module_version": "1.2.0",
      "_view_name": "LayoutView",
      "align_content": null,
      "align_items": null,
      "align_self": null,
      "border": null,
      "bottom": null,
      "display": null,
      "flex": null,
      "flex_flow": null,
      "grid_area": null,
      "grid_auto_columns": null,
      "grid_auto_flow": null,
      "grid_auto_rows": null,
      "grid_column": null,
      "grid_gap": null,
      "grid_row": null,
      "grid_template_areas": null,
      "grid_template_columns": null,
      "grid_template_rows": null,
      "height": null,
      "justify_content": null,
      "justify_items": null,
      "left": null,
      "margin": null,
      "max_height": null,
      "max_width": null,
      "min_height": null,
      "min_width": null,
      "object_fit": null,
      "object_position": null,
      "order": null,
      "overflow": null,
      "overflow_x": null,
      "overflow_y": null,
      "padding": null,
      "right": null,
      "top": null,
      "visibility": null,
      "width": null
     }
    },
    "cfe50982ad3148a7942139d5e24f2657": {
     "model_module": "@jupyter-widgets/controls",
     "model_name": "SliderStyleModel",
     "state": {
      "_model_module": "@jupyter-widgets/controls",
      "_model_module_version": "1.5.0",
      "_model_name": "SliderStyleModel",
      "_view_count": null,
      "_view_module": "@jupyter-widgets/base",
      "_view_module_version": "1.2.0",
      "_view_name": "StyleView",
      "description_width": "",
      "handle_color": null
     }
    },
    "d571424507114dfcb3328ca44daf2ea0": {
     "model_module": "@jupyter-widgets/controls",
     "model_name": "IntSliderModel",
     "state": {
      "_dom_classes": [],
      "_model_module": "@jupyter-widgets/controls",
      "_model_module_version": "1.5.0",
      "_model_name": "IntSliderModel",
      "_view_count": null,
      "_view_module": "@jupyter-widgets/controls",
      "_view_module_version": "1.5.0",
      "_view_name": "IntSliderView",
      "continuous_update": true,
      "description": "y",
      "description_tooltip": null,
      "disabled": false,
      "layout": "IPY_MODEL_fe02b2671fa54e2e990aced02dda32e6",
      "max": 1,
      "min": 0,
      "orientation": "horizontal",
      "readout": true,
      "readout_format": "d",
      "step": 1,
      "style": "IPY_MODEL_6f5e0f79e43d48b5949674fb727708b8",
      "value": 0
     }
    },
    "e9c134cfdb1e44c0b8a29193c1b8345a": {
     "model_module": "@jupyter-widgets/base",
     "model_name": "LayoutModel",
     "state": {
      "_model_module": "@jupyter-widgets/base",
      "_model_module_version": "1.2.0",
      "_model_name": "LayoutModel",
      "_view_count": null,
      "_view_module": "@jupyter-widgets/base",
      "_view_module_version": "1.2.0",
      "_view_name": "LayoutView",
      "align_content": null,
      "align_items": null,
      "align_self": null,
      "border": null,
      "bottom": null,
      "display": null,
      "flex": null,
      "flex_flow": null,
      "grid_area": null,
      "grid_auto_columns": null,
      "grid_auto_flow": null,
      "grid_auto_rows": null,
      "grid_column": null,
      "grid_gap": null,
      "grid_row": null,
      "grid_template_areas": null,
      "grid_template_columns": null,
      "grid_template_rows": null,
      "height": null,
      "justify_content": null,
      "justify_items": null,
      "left": null,
      "margin": null,
      "max_height": null,
      "max_width": null,
      "min_height": null,
      "min_width": null,
      "object_fit": null,
      "object_position": null,
      "order": null,
      "overflow": null,
      "overflow_x": null,
      "overflow_y": null,
      "padding": null,
      "right": null,
      "top": null,
      "visibility": null,
      "width": null
     }
    },
    "f1276eabed6442e78e4da7bf11e30ae3": {
     "model_module": "@jupyter-widgets/controls",
     "model_name": "IntSliderModel",
     "state": {
      "_dom_classes": [],
      "_model_module": "@jupyter-widgets/controls",
      "_model_module_version": "1.5.0",
      "_model_name": "IntSliderModel",
      "_view_count": null,
      "_view_module": "@jupyter-widgets/controls",
      "_view_module_version": "1.5.0",
      "_view_name": "IntSliderView",
      "continuous_update": true,
      "description": "x",
      "description_tooltip": null,
      "disabled": false,
      "layout": "IPY_MODEL_f30bad1aecfe4b8eb404d3ea983bc5f1",
      "max": 1,
      "min": 0,
      "orientation": "horizontal",
      "readout": true,
      "readout_format": "d",
      "step": 1,
      "style": "IPY_MODEL_340e7330d72c45dbb4470f6908f75009",
      "value": 0
     }
    },
    "f30bad1aecfe4b8eb404d3ea983bc5f1": {
     "model_module": "@jupyter-widgets/base",
     "model_name": "LayoutModel",
     "state": {
      "_model_module": "@jupyter-widgets/base",
      "_model_module_version": "1.2.0",
      "_model_name": "LayoutModel",
      "_view_count": null,
      "_view_module": "@jupyter-widgets/base",
      "_view_module_version": "1.2.0",
      "_view_name": "LayoutView",
      "align_content": null,
      "align_items": null,
      "align_self": null,
      "border": null,
      "bottom": null,
      "display": null,
      "flex": null,
      "flex_flow": null,
      "grid_area": null,
      "grid_auto_columns": null,
      "grid_auto_flow": null,
      "grid_auto_rows": null,
      "grid_column": null,
      "grid_gap": null,
      "grid_row": null,
      "grid_template_areas": null,
      "grid_template_columns": null,
      "grid_template_rows": null,
      "height": null,
      "justify_content": null,
      "justify_items": null,
      "left": null,
      "margin": null,
      "max_height": null,
      "max_width": null,
      "min_height": null,
      "min_width": null,
      "object_fit": null,
      "object_position": null,
      "order": null,
      "overflow": null,
      "overflow_x": null,
      "overflow_y": null,
      "padding": null,
      "right": null,
      "top": null,
      "visibility": null,
      "width": null
     }
    },
    "fe02b2671fa54e2e990aced02dda32e6": {
     "model_module": "@jupyter-widgets/base",
     "model_name": "LayoutModel",
     "state": {
      "_model_module": "@jupyter-widgets/base",
      "_model_module_version": "1.2.0",
      "_model_name": "LayoutModel",
      "_view_count": null,
      "_view_module": "@jupyter-widgets/base",
      "_view_module_version": "1.2.0",
      "_view_name": "LayoutView",
      "align_content": null,
      "align_items": null,
      "align_self": null,
      "border": null,
      "bottom": null,
      "display": null,
      "flex": null,
      "flex_flow": null,
      "grid_area": null,
      "grid_auto_columns": null,
      "grid_auto_flow": null,
      "grid_auto_rows": null,
      "grid_column": null,
      "grid_gap": null,
      "grid_row": null,
      "grid_template_areas": null,
      "grid_template_columns": null,
      "grid_template_rows": null,
      "height": null,
      "justify_content": null,
      "justify_items": null,
      "left": null,
      "margin": null,
      "max_height": null,
      "max_width": null,
      "min_height": null,
      "min_width": null,
      "object_fit": null,
      "object_position": null,
      "order": null,
      "overflow": null,
      "overflow_x": null,
      "overflow_y": null,
      "padding": null,
      "right": null,
      "top": null,
      "visibility": null,
      "width": null
     }
    },
    "feb417b7116c49c5ab164b548d0fa5db": {
     "model_module": "@jupyter-widgets/base",
     "model_name": "LayoutModel",
     "state": {
      "_model_module": "@jupyter-widgets/base",
      "_model_module_version": "1.2.0",
      "_model_name": "LayoutModel",
      "_view_count": null,
      "_view_module": "@jupyter-widgets/base",
      "_view_module_version": "1.2.0",
      "_view_name": "LayoutView",
      "align_content": null,
      "align_items": null,
      "align_self": null,
      "border": null,
      "bottom": null,
      "display": null,
      "flex": null,
      "flex_flow": null,
      "grid_area": null,
      "grid_auto_columns": null,
      "grid_auto_flow": null,
      "grid_auto_rows": null,
      "grid_column": null,
      "grid_gap": null,
      "grid_row": null,
      "grid_template_areas": null,
      "grid_template_columns": null,
      "grid_template_rows": null,
      "height": null,
      "justify_content": null,
      "justify_items": null,
      "left": null,
      "margin": null,
      "max_height": null,
      "max_width": null,
      "min_height": null,
      "min_width": null,
      "object_fit": null,
      "object_position": null,
      "order": null,
      "overflow": null,
      "overflow_x": null,
      "overflow_y": null,
      "padding": null,
      "right": null,
      "top": null,
      "visibility": null,
      "width": null
     }
    }
   }
  }
 },
 "nbformat": 4,
 "nbformat_minor": 1
}
