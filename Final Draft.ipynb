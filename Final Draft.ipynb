{
 "cells": [
  {
   "cell_type": "markdown",
   "metadata": {
    "id": "q-n9h7SpUQoI"
   },
   "source": [
    "# **Brain Stroke Prediction Using Machine Learning and Data Science.**\n",
    "\n"
   ]
  },
  {
   "cell_type": "markdown",
   "metadata": {
    "id": "Rdctd9COUGWU"
   },
   "source": [
    "### **Importing Necessary Libraries.**"
   ]
  },
  {
   "cell_type": "code",
   "execution_count": null,
   "metadata": {
    "colab": {
     "base_uri": "https://localhost:8080/"
    },
    "id": "NWZpxXQN9kU9",
    "outputId": "0ffd2c55-5720-411d-808f-d05d5c2f88a9"
   },
   "outputs": [],
   "source": [
    "#pip install autoviz"
   ]
  },
  {
   "cell_type": "code",
   "execution_count": null,
   "metadata": {
    "id": "Lat5MI180U34"
   },
   "outputs": [],
   "source": [
    "import pandas as pd\n",
    "import matplotlib.pyplot as plt\n",
    "%matplotlib inline\n",
    "plt.style.use('dark_background')\n",
    "import seaborn as sns\n",
    "import numpy as np\n",
    "from sklearn.model_selection import train_test_split\n",
    "from sklearn.metrics import confusion_matrix,classification_report, accuracy_score, precision_recall_curve,precision_score,recall_score,f1_score, roc_auc_score, roc_curve, auc\n",
    "from sklearn.preprocessing import StandardScaler\n",
    "from statsmodels.stats.outliers_influence import variance_inflation_factor\n",
    "from imblearn.over_sampling import RandomOverSampler,SMOTE\n",
    "from imblearn.combine import SMOTETomek\n",
    "from collections import Counter\n",
    "from sklearn.model_selection import GridSearchCV, RandomizedSearchCV\n",
    "import warnings\n",
    "warnings.filterwarnings(action='ignore')\n",
    "from sklearn import tree\n",
    "import autoviz\n",
    "from autoviz.AutoViz_Class import AutoViz_Class\n",
    "#for interactive console\n",
    "import ipywidgets\n",
    "import ipywidgets as widgets\n",
    "from ipywidgets import interact\n",
    "from ipywidgets import interact_manual"
   ]
  },
  {
   "cell_type": "code",
   "execution_count": null,
   "metadata": {
    "id": "5ZQNVa6DUi_d"
   },
   "outputs": [],
   "source": [
    "### **Importing and Skimming the Data Set.**\n",
    "The Data set consists of 40000+ entries of Patients Regarding Brain Stroke symptoms.\n",
    "There are total of 12 columns including target_column.\n",
    "1. id\n",
    "2. gender\n",
    "3. age\n",
    "4. hypertension\n",
    "5. heart_disease\n",
    "6. ever_married\n",
    "7. work_type\n",
    "8. Residence_type\n",
    "9. avg_glucose_level\n",
    "10. bmi\n",
    "11. smoking_status\n",
    "12. stroke(target_column)"
   ]
  },
  {
   "cell_type": "code",
   "execution_count": null,
   "metadata": {
    "id": "5sxg86wUzSUB"
   },
   "outputs": [],
   "source": [
    "dodge = pd.read_csv('/content/drive/MyDrive/MAIN PROJECT/Brain Stroke Prediction/strokes.csv')"
   ]
  },
  {
   "cell_type": "code",
   "execution_count": null,
   "metadata": {
    "cellView": "code",
    "colab": {
     "base_uri": "https://localhost:8080/",
     "height": 216
    },
    "id": "7wVWTBTo0Zyb",
    "outputId": "f437c3e5-6b0d-4c73-99d8-be95e69678fb"
   },
   "outputs": [],
   "source": [
    "# head() helps us to view the first 5 entries in our dataset.\n",
    "\n",
    "dodge.head()"
   ]
  },
  {
   "cell_type": "code",
   "execution_count": null,
   "metadata": {
    "colab": {
     "base_uri": "https://localhost:8080/"
    },
    "id": "92vIqC6Y21mY",
    "outputId": "dfefad7c-c3a6-4ea3-c34a-b8a9e8fe2e97"
   },
   "outputs": [],
   "source": [
    "# info() gives us the count and dtype, also helps us to identify whether there are any null values or not.\n",
    "\n",
    "dodge.info()"
   ]
  },
  {
   "cell_type": "code",
   "execution_count": null,
   "metadata": {
    "colab": {
     "base_uri": "https://localhost:8080/",
     "height": 306
    },
    "id": "LjcqNnr2bH9o",
    "outputId": "ed55a7b6-434c-4bc3-8376-8a5f87f73bf4"
   },
   "outputs": [],
   "source": [
    "# describe() gives us a breif description about the columns(count, min, max, mean, median etc)\n",
    "\n",
    "dodge.describe()"
   ]
  },
  {
   "cell_type": "code",
   "execution_count": null,
   "metadata": {
    "colab": {
     "base_uri": "https://localhost:8080/",
     "height": 166
    },
    "id": "qP5f83YmbLPG",
    "outputId": "921d09b6-6e89-43bb-bf29-8b114020be68"
   },
   "outputs": [],
   "source": [
    "# In the case of object columns we get(count, unique values, top, freq)\n",
    "dodge.describe(include = 'object')"
   ]
  },
  {
   "cell_type": "code",
   "execution_count": null,
   "metadata": {
    "id": "45KVCn1vZZeP"
   },
   "outputs": [],
   "source": [
    "### **Exploring Target Variable.**"
   ]
  },
  {
   "cell_type": "code",
   "execution_count": null,
   "metadata": {
    "colab": {
     "base_uri": "https://localhost:8080/"
    },
    "id": "D5-6klAL21qr",
    "outputId": "cf7586d1-ac05-4f5d-ed9d-7d9db56570b8"
   },
   "outputs": [],
   "source": [
    "dodge['stroke'].value_counts()"
   ]
  },
  {
   "cell_type": "code",
   "execution_count": null,
   "metadata": {
    "colab": {
     "base_uri": "https://localhost:8080/"
    },
    "id": "a5UlarOk21s4",
    "outputId": "b30a8f1c-20d0-4d04-bcdb-b184a8908ad2"
   },
   "outputs": [],
   "source": [
    "# There arent any null values, but\n",
    "dodge['stroke'].isnull().sum()"
   ]
  },
  {
   "cell_type": "code",
   "execution_count": null,
   "metadata": {
    "colab": {
     "base_uri": "https://localhost:8080/",
     "height": 402
    },
    "id": "9wJoDnOHW-5y",
    "outputId": "d3788e5b-1adc-438e-e17f-f63b9cb4c928"
   },
   "outputs": [],
   "source": [
    "# This plot tell's about, how the distribution of target class is spreaded.\n",
    "# we can see that the target classes are highly imbalanced with 0->42617, 1->783, so we need to balance these target classes which we will see in the later part.\n",
    "# countplot() helps us to visualize the count the classes.\n",
    "\n",
    "plt.figure(figsize = (6,4), dpi = 100)\n",
    "sns.countplot(dodge['stroke'])\n",
    "plt.xlabel('Stroke Status')\n",
    "plt.ylabel('Count')\n",
    "plt.title('Distribution of Target Classes')\n",
    "plt.show()"
   ]
  },
  {
   "cell_type": "code",
   "execution_count": null,
   "metadata": {
    "id": "0n1F9JPmcw3v"
   },
   "outputs": [],
   "source": [
    "### **Exploring Independent Numerical Columns.**\n",
    "\n",
    "\n",
    "1. Cleaning\n",
    "2. Treating Missing values\n",
    "3. Anamoly Detection and Reduction\n",
    "\n"
   ]
  },
  {
   "cell_type": "code",
   "execution_count": null,
   "metadata": {
    "id": "mQ2IVVuy21xi"
   },
   "outputs": [],
   "source": [
    "numerical = ['age', 'hypertension', 'heart_disease', 'avg_glucose_level', 'bmi']\n",
    "#dodge[numerical[0]]"
   ]
  },
  {
   "cell_type": "code",
   "execution_count": null,
   "metadata": {
    "id": "-WBhg97JeEsl"
   },
   "outputs": [],
   "source": [
    "#### Treating missing values present in the column dodge['bmi'], no other numerical columns has missing values.\n",
    "\n",
    "\n",
    "\n"
   ]
  },
  {
   "cell_type": "code",
   "execution_count": null,
   "metadata": {
    "colab": {
     "base_uri": "https://localhost:8080/"
    },
    "id": "QkjoIr_9B78O",
    "outputId": "2f412d1e-7885-41a7-b6b5-11e231848617"
   },
   "outputs": [],
   "source": [
    "dodge['bmi'].isnull().sum()"
   ]
  },
  {
   "cell_type": "code",
   "execution_count": null,
   "metadata": {
    "id": "THe6d0DhB8A8"
   },
   "outputs": [],
   "source": [
    "dodge['bmi'] = dodge['bmi'].fillna(dodge['bmi'].mean())"
   ]
  },
  {
   "cell_type": "code",
   "execution_count": null,
   "metadata": {
    "colab": {
     "base_uri": "https://localhost:8080/"
    },
    "id": "uqHyJHD3B8DJ",
    "outputId": "096d191c-61ec-44d2-ade9-1029472d2630"
   },
   "outputs": [],
   "source": [
    "dodge['bmi'].isnull().sum()"
   ]
  },
  {
   "cell_type": "code",
   "execution_count": null,
   "metadata": {
    "id": "w1U9FJZodvFR"
   },
   "outputs": [],
   "source": [
    "#### Exploring each numerical column using describe()\n",
    "\n",
    "\n",
    "\n"
   ]
  },
  {
   "cell_type": "code",
   "execution_count": null,
   "metadata": {
    "colab": {
     "base_uri": "https://localhost:8080/"
    },
    "id": "BBT3p8-Rf8oK",
    "outputId": "b0c9af1f-b692-42a8-97ea-025b70d6bdf9"
   },
   "outputs": [],
   "source": [
    "for i in numerical:\n",
    "  print(dodge[i].describe())"
   ]
  },
  {
   "cell_type": "code",
   "execution_count": null,
   "metadata": {
    "id": "zP0eFAA8f8qw"
   },
   "outputs": [],
   "source": []
  },
  {
   "cell_type": "code",
   "execution_count": null,
   "metadata": {
    "id": "NrDX_1Cyegcp"
   },
   "outputs": [],
   "source": [
    "### **Anamoly Detection and Reduction in Numericals.** "
   ]
  },
  {
   "cell_type": "code",
   "execution_count": null,
   "metadata": {
    "id": "N7R0jZ0pexca"
   },
   "outputs": [],
   "source": [
    "#### 1. age"
   ]
  },
  {
   "cell_type": "code",
   "execution_count": null,
   "metadata": {
    "colab": {
     "base_uri": "https://localhost:8080/"
    },
    "id": "IATrGw72etry",
    "outputId": "45af87a5-d330-4520-fea8-3b71f70d7c97"
   },
   "outputs": [],
   "source": [
    "dodge['age'].describe()"
   ]
  },
  {
   "cell_type": "code",
   "execution_count": null,
   "metadata": {
    "colab": {
     "base_uri": "https://localhost:8080/"
    },
    "id": "56GDFvaUpxiy",
    "outputId": "5327616e-c2b9-401a-9af6-fb2e6166f9d6"
   },
   "outputs": [],
   "source": [
    "dodge['age'].value_counts()"
   ]
  },
  {
   "cell_type": "code",
   "execution_count": null,
   "metadata": {
    "id": "Fi7bMPXkfJIC"
   },
   "outputs": [],
   "source": [
    "Function to check the Anamolies in the column using upper_limit and lower_limit.\n",
    "\n",
    "\n",
    "1. If the upper_limit > max(df['col']), then we replace the upper_limit with the max value.\n",
    "2. Similarly, if the lower_limit < min(df['col']), we replace the lower_limit with the min value.\n",
    "\n"
   ]
  },
  {
   "cell_type": "code",
   "execution_count": null,
   "metadata": {
    "id": "sHfx5ZRZfYAw"
   },
   "outputs": [],
   "source": [
    "anamolies = []\n",
    "def outliers(data):\n",
    "  random_state_mean = np.mean(data)\n",
    "  random_state_std = np.std(data)\n",
    "  anamoly = random_state_std * 3\n",
    "\n",
    "  upper_limit = random_state_mean + anamoly\n",
    "  lower_limit = random_state_mean - anamoly\n",
    "  lp_lower_limit = 1.00\n",
    "  up_upper_limit = max(dodge['age'])\n",
    "  print(upper_limit)\n",
    "  print(lower_limit)\n",
    "\n",
    "  print(lp_lower_limit)\n",
    "  print(up_upper_limit)\n",
    "\n",
    "  for i in data:\n",
    "      if i < lp_lower_limit or i > up_upper_limit:\n",
    "        anamolies.append(i)"
   ]
  },
  {
   "cell_type": "code",
   "execution_count": null,
   "metadata": {
    "colab": {
     "base_uri": "https://localhost:8080/"
    },
    "id": "3L7esL2si3_z",
    "outputId": "16266e8a-b1dd-4841-c656-5d019119756e"
   },
   "outputs": [],
   "source": [
    "outliers(dodge['age'])\n",
    "print(len(anamolies))"
   ]
  },
  {
   "cell_type": "code",
   "execution_count": null,
   "metadata": {
    "colab": {
     "base_uri": "https://localhost:8080/"
    },
    "id": "-wh-bNeRrcVr",
    "outputId": "35e19f8a-0eb6-4250-b777-230339347571"
   },
   "outputs": [],
   "source": [
    "dodge.shape"
   ]
  },
  {
   "cell_type": "code",
   "execution_count": null,
   "metadata": {
    "id": "oAQWTc2IgHYB"
   },
   "outputs": [],
   "source": [
    "Here all the values below 1 are termed as outliers, although in rarest of cases Intrauterine stroke occur to unborn childre in the womb.\n",
    "\n",
    "But in this project we drop those values, but in future we can even work on these values.\n",
    "\n"
   ]
  },
  {
   "cell_type": "code",
   "execution_count": null,
   "metadata": {
    "colab": {
     "base_uri": "https://localhost:8080/",
     "height": 424
    },
    "id": "y-XD5xyLVhRq",
    "outputId": "6e6c0797-2e72-48c4-8182-1b1a4e5450a9"
   },
   "outputs": [],
   "source": [
    "dodge[dodge['age'] < 1.00]"
   ]
  },
  {
   "cell_type": "code",
   "execution_count": null,
   "metadata": {
    "colab": {
     "base_uri": "https://localhost:8080/"
    },
    "id": "xUlW2odDF3cN",
    "outputId": "44113545-5863-4b9a-8f57-957b7e64a6a7"
   },
   "outputs": [],
   "source": [
    "dodge[dodge['age'] < 1.00].index"
   ]
  },
  {
   "cell_type": "code",
   "execution_count": null,
   "metadata": {
    "id": "3y07HnH9F3dv"
   },
   "outputs": [],
   "source": [
    "chevy = dodge.drop(index = dodge[dodge['age'] < 1.00].index, axis = 0, inplace=True)"
   ]
  },
  {
   "cell_type": "code",
   "execution_count": null,
   "metadata": {
    "id": "CAKu20dBBfyV"
   },
   "outputs": [],
   "source": [
    "dodge.drop(index = dodge[(dodge.age > 1.0) & (dodge.age < 2.0)].index, axis = 0, inplace = True)"
   ]
  },
  {
   "cell_type": "code",
   "execution_count": null,
   "metadata": {
    "colab": {
     "base_uri": "https://localhost:8080/"
    },
    "id": "bppkMXn2F38U",
    "outputId": "bf5eb295-5453-4ef4-a16b-3211c4a9812a"
   },
   "outputs": [],
   "source": [
    "dodge.shape"
   ]
  },
  {
   "cell_type": "code",
   "execution_count": null,
   "metadata": {
    "id": "Nd8790bAhlzU"
   },
   "outputs": [],
   "source": [
    "#### 2. avg_glucose_level(Average Glucose Level)"
   ]
  },
  {
   "cell_type": "code",
   "execution_count": null,
   "metadata": {
    "id": "yp80lcHGWDq1"
   },
   "outputs": [],
   "source": [
    "anamolies = []\n",
    "def outliers(data):\n",
    "  random_state_mean = np.mean(data)\n",
    "  random_state_std = np.std(data)\n",
    "  anamoly = random_state_std * 3\n",
    "\n",
    "  upper_limit = random_state_mean + anamoly\n",
    "  lower_limit = random_state_mean - anamoly\n",
    "  ll_p = min(dodge['avg_glucose_level'])\n",
    "\n",
    "  print(upper_limit)\n",
    "  print(lower_limit)\n",
    "  print(ll_p)\n",
    "  for i in data:\n",
    "    if i < ll_p or i > upper_limit:\n",
    "      anamolies.append(i)"
   ]
  },
  {
   "cell_type": "code",
   "execution_count": null,
   "metadata": {
    "colab": {
     "base_uri": "https://localhost:8080/"
    },
    "id": "BmPeNQp4WIEW",
    "outputId": "61723e0c-b136-4b63-8999-a68981bf3b02"
   },
   "outputs": [],
   "source": [
    "outliers(dodge['avg_glucose_level'])\n",
    "print(len(anamolies))"
   ]
  },
  {
   "cell_type": "code",
   "execution_count": null,
   "metadata": {
    "colab": {
     "base_uri": "https://localhost:8080/"
    },
    "id": "-AeG7IZxgBCr",
    "outputId": "9eef64b9-31ab-4a30-c666-6efb7f90b736"
   },
   "outputs": [],
   "source": [
    "dodge['avg_glucose_level'].describe()"
   ]
  },
  {
   "cell_type": "code",
   "execution_count": null,
   "metadata": {
    "colab": {
     "base_uri": "https://localhost:8080/",
     "height": 491
    },
    "id": "mOqmjbCoirDT",
    "outputId": "8f756545-ad61-4bbb-c57d-5dd4be478410"
   },
   "outputs": [],
   "source": [
    "dodge[dodge['avg_glucose_level'] > 234.40827023316058 ]"
   ]
  },
  {
   "cell_type": "code",
   "execution_count": null,
   "metadata": {
    "colab": {
     "base_uri": "https://localhost:8080/"
    },
    "id": "uBoAEwQrkJcq",
    "outputId": "ef9ffbd3-6770-4132-af5d-6ac55333e311"
   },
   "outputs": [],
   "source": [
    "dodge[dodge['avg_glucose_level'] > 234.40827023316058].index"
   ]
  },
  {
   "cell_type": "code",
   "execution_count": null,
   "metadata": {
    "id": "oJtOTle6lCBp"
   },
   "outputs": [],
   "source": [
    "dodge.drop(index = dodge[dodge['avg_glucose_level'] > 234.40827023316058].index, axis = 0, inplace = True)"
   ]
  },
  {
   "cell_type": "code",
   "execution_count": null,
   "metadata": {
    "colab": {
     "base_uri": "https://localhost:8080/"
    },
    "id": "Qnb2gdsWlPsJ",
    "outputId": "8ada14eb-fafb-4864-8102-eea2c208e6d6"
   },
   "outputs": [],
   "source": [
    "dodge.shape"
   ]
  },
  {
   "cell_type": "code",
   "execution_count": null,
   "metadata": {
    "id": "rVGAMPJfh-lO"
   },
   "outputs": [],
   "source": [
    "#### 3. bmi(Body Mass Index)"
   ]
  },
  {
   "cell_type": "code",
   "execution_count": null,
   "metadata": {
    "id": "zvr7-sJ6lPub"
   },
   "outputs": [],
   "source": [
    "anamolies = []\n",
    "def outliers(data):\n",
    "  random_state_mean = np.mean(data)\n",
    "  random_state_std = np.std(data)\n",
    "  anamoly = random_state_std * 3\n",
    "\n",
    "  upper_limit = random_state_mean + anamoly\n",
    "  lower_limit = random_state_mean - anamoly\n",
    "  lll_p = min(dodge['bmi'])\n",
    "\n",
    "  print(upper_limit)\n",
    "  print(lower_limit)\n",
    "  print(lll_p)\n",
    "  for i in data:\n",
    "    if i < lll_p or i > upper_limit:\n",
    "      anamolies.append(i)"
   ]
  },
  {
   "cell_type": "code",
   "execution_count": null,
   "metadata": {
    "colab": {
     "base_uri": "https://localhost:8080/"
    },
    "id": "TarKzxc2luUA",
    "outputId": "b4933c74-0da9-44bb-eef9-88c529cf70f3"
   },
   "outputs": [],
   "source": [
    "outliers(dodge['bmi'])\n",
    "print(len(anamolies))"
   ]
  },
  {
   "cell_type": "code",
   "execution_count": null,
   "metadata": {
    "colab": {
     "base_uri": "https://localhost:8080/"
    },
    "id": "qMD4YPuxm3cV",
    "outputId": "6f6dc39e-16a4-4184-f8a2-92504ea476f4"
   },
   "outputs": [],
   "source": [
    "dodge['bmi'].describe()"
   ]
  },
  {
   "cell_type": "code",
   "execution_count": null,
   "metadata": {
    "colab": {
     "base_uri": "https://localhost:8080/",
     "height": 458
    },
    "id": "rCrXgiKXmZG4",
    "outputId": "45691fd5-6c58-4dfb-d4e3-f72228793c53"
   },
   "outputs": [],
   "source": [
    "dodge[dodge['bmi'] > 51.35486554902225]"
   ]
  },
  {
   "cell_type": "code",
   "execution_count": null,
   "metadata": {
    "colab": {
     "base_uri": "https://localhost:8080/"
    },
    "id": "dwjwFv6XmZJQ",
    "outputId": "9669f88e-c36f-4a83-9322-e92dafed093e"
   },
   "outputs": [],
   "source": [
    "dodge[dodge['bmi'] > 51.35486554902225].index"
   ]
  },
  {
   "cell_type": "code",
   "execution_count": null,
   "metadata": {
    "id": "Ys016jdgl92u"
   },
   "outputs": [],
   "source": [
    "dodge.drop(index = dodge[dodge['bmi'] > 51.35486554902225].index, axis = 0, inplace = True)"
   ]
  },
  {
   "cell_type": "code",
   "execution_count": null,
   "metadata": {
    "colab": {
     "base_uri": "https://localhost:8080/"
    },
    "id": "-_CMR2A9luYY",
    "outputId": "2e459388-a690-414f-e98f-3b9d0518d118"
   },
   "outputs": [],
   "source": [
    "dodge.shape"
   ]
  },
  {
   "cell_type": "code",
   "execution_count": null,
   "metadata": {
    "id": "-cSBf4YwnvBu"
   },
   "outputs": [],
   "source": [
    "### **Exploring Independent Categorical(Object/String) Columns.**\n",
    "\n",
    "\n",
    "1. Cleaning\n",
    "2. Treating Missing values\n",
    "\n"
   ]
  },
  {
   "cell_type": "code",
   "execution_count": null,
   "metadata": {
    "id": "Hh__J1l-xVfc"
   },
   "outputs": [],
   "source": [
    "dodge.isnull().sum()"
   ]
  },
  {
   "cell_type": "code",
   "execution_count": null,
   "metadata": {
    "id": "HGXf3Su7nuZs"
   },
   "outputs": [],
   "source": [
    "categorical = ['gender', 'ever_married', 'work_type', 'Residence_type', 'smoking_status']"
   ]
  },
  {
   "cell_type": "code",
   "execution_count": null,
   "metadata": {
    "colab": {
     "base_uri": "https://localhost:8080/"
    },
    "id": "W3y0R9mOnuc6",
    "outputId": "c1ea0c68-e438-491d-fc8e-75f420b5a6ef"
   },
   "outputs": [],
   "source": [
    "for i in categorical:\n",
    "  print(dodge[i].describe())"
   ]
  },
  {
   "cell_type": "code",
   "execution_count": null,
   "metadata": {
    "colab": {
     "base_uri": "https://localhost:8080/",
     "height": 166
    },
    "id": "K13hUli7nuen",
    "outputId": "17f58471-5f89-4712-c492-f0a109030ac0"
   },
   "outputs": [],
   "source": [
    "dodge.describe(include = 'object')"
   ]
  },
  {
   "cell_type": "code",
   "execution_count": null,
   "metadata": {
    "colab": {
     "base_uri": "https://localhost:8080/"
    },
    "id": "27nC7WH1nugY",
    "outputId": "3ad7717d-0f9c-4436-adac-c754d3f287ca"
   },
   "outputs": [],
   "source": [
    "dodge['smoking_status'].value_counts()"
   ]
  },
  {
   "cell_type": "code",
   "execution_count": null,
   "metadata": {
    "colab": {
     "base_uri": "https://localhost:8080/",
     "height": 395
    },
    "id": "psP3_ncRNOpk",
    "outputId": "0d19cd41-666f-4bff-8f60-fcd6c1716065"
   },
   "outputs": [],
   "source": [
    "dodge.describe(include = 'all')"
   ]
  },
  {
   "cell_type": "code",
   "execution_count": null,
   "metadata": {
    "id": "SHoWSl3cjO4l"
   },
   "outputs": [],
   "source": [
    "#### Treating Missing values in Object columns using,\n",
    "1. mean/median/mode\n",
    "2. Based on frequency Distribution."
   ]
  },
  {
   "cell_type": "code",
   "execution_count": null,
   "metadata": {
    "colab": {
     "base_uri": "https://localhost:8080/"
    },
    "id": "osFJYlwLQEqu",
    "outputId": "18e9e0be-2b58-455f-de7c-0fd48aefdd62"
   },
   "outputs": [],
   "source": [
    "dodge['smoking_status'].mode()"
   ]
  },
  {
   "cell_type": "code",
   "execution_count": null,
   "metadata": {
    "id": "9uM-Lf-QN9CV"
   },
   "outputs": [],
   "source": [
    "dodge['smoking_status'].fillna('never smoked',inplace = True)"
   ]
  },
  {
   "cell_type": "code",
   "execution_count": null,
   "metadata": {
    "colab": {
     "base_uri": "https://localhost:8080/"
    },
    "id": "sxj4l6-RQdQa",
    "outputId": "d8406f85-f830-4356-944a-ff94e41d1d3a"
   },
   "outputs": [],
   "source": [
    "dodge['smoking_status'].isnull().sum()"
   ]
  },
  {
   "cell_type": "code",
   "execution_count": null,
   "metadata": {
    "colab": {
     "base_uri": "https://localhost:8080/"
    },
    "id": "tiu0AHhRSLV2",
    "outputId": "9fda6389-cd17-4e11-fa27-f70cc5b7a667"
   },
   "outputs": [],
   "source": [
    "dodge.info()"
   ]
  },
  {
   "cell_type": "code",
   "execution_count": null,
   "metadata": {
    "colab": {
     "base_uri": "https://localhost:8080/",
     "height": 216
    },
    "id": "OIvfO7MDVxXs",
    "outputId": "b518b59d-583c-4788-e9aa-ccf0728603aa"
   },
   "outputs": [],
   "source": [
    "dodge.head()"
   ]
  },
  {
   "cell_type": "code",
   "execution_count": null,
   "metadata": {
    "id": "wE_5g8IreE72"
   },
   "outputs": [],
   "source": [
    "### **Exploratory Data Analysis.** \n",
    "Exploratory Data Analysis helps us the understand the insights and extract the patterns from the dataset, which might be helpful to explain about the problem statement given to our clients.\n",
    "This can also be done by using traditional python code, But Visualizing the data looks more eye catching than looking at some numbers and letters.\n",
    "so, hence we are going to use various plots and graphs to visualize, which comes from the libraries such as,\n",
    "seaborn and matplotlib.pyplot.\n",
    "1. bar\n",
    "2. countplot\n",
    "3. piechart\n",
    "4. hist\n",
    "5. box\n",
    "6. scatterplot\n",
    "7. pairplot\n",
    "\n",
    "Apart from this we have also used and auto visualization tool, \"autoviz\""
   ]
  },
  {
   "cell_type": "code",
   "execution_count": null,
   "metadata": {
    "colab": {
     "base_uri": "https://localhost:8080/"
    },
    "id": "Y71bYAbgd2Dt",
    "outputId": "2371374d-5c95-4cf9-e0c0-b177163b39bb"
   },
   "outputs": [],
   "source": [
    "dodge.isnull().sum()"
   ]
  },
  {
   "cell_type": "code",
   "execution_count": null,
   "metadata": {
    "id": "DTMkT1TGd2GT"
   },
   "outputs": [],
   "source": [
    "dodge.drop(columns = 'id', inplace=True)"
   ]
  },
  {
   "cell_type": "code",
   "execution_count": null,
   "metadata": {
    "colab": {
     "base_uri": "https://localhost:8080/",
     "height": 216
    },
    "id": "dYFFs6g5d2I6",
    "outputId": "a4645a71-e3b1-47fc-d247-389cfea9b8cd"
   },
   "outputs": [],
   "source": [
    "dodge.head()"
   ]
  },
  {
   "cell_type": "code",
   "execution_count": null,
   "metadata": {
    "id": "VxqgbITHsiJK"
   },
   "outputs": [],
   "source": [
    "\n",
    "-> pd.crosstab() function is a very useful and most advanced fuction in the python dataframe, it helps us to compare 2 variables, due to which we can plot the distribution of thsoe variables. "
   ]
  },
  {
   "cell_type": "code",
   "execution_count": null,
   "metadata": {
    "id": "GrifN6S5yXa0"
   },
   "outputs": [],
   "source": [
    "#### 1. Bar plot for crosstab distribution between gender and stroke."
   ]
  },
  {
   "cell_type": "code",
   "execution_count": null,
   "metadata": {
    "colab": {
     "base_uri": "https://localhost:8080/",
     "height": 334
    },
    "id": "b2sm0taZrnP5",
    "outputId": "c0778895-9835-4de8-f9eb-36e2f449b476"
   },
   "outputs": [],
   "source": [
    "plt.figure(figsize = (8,6))\n",
    "x = pd.crosstab(dodge['gender'], dodge['stroke'])\n",
    "x.plot(kind = 'bar')\n",
    "#x.div(x.sum(1).astype(float), axis = 0).plot(kind='bar', stacked = False)\n",
    "plt.xlabel('Gender_distribution')\n",
    "plt.ylabel('Count')\n",
    "plt.title('Gender Distribution over Target Class')\n",
    "plt.show()\n",
    "\n"
   ]
  },
  {
   "cell_type": "code",
   "execution_count": null,
   "metadata": {
    "id": "BBK9Sf_fykpB"
   },
   "outputs": [],
   "source": [
    "#### 2. Pie Chart for distribution of gender."
   ]
  },
  {
   "cell_type": "code",
   "execution_count": null,
   "metadata": {
    "colab": {
     "base_uri": "https://localhost:8080/",
     "height": 461
    },
    "id": "F2Q8OaWFlrfY",
    "outputId": "5ab699b6-846f-4700-c30c-3e7a232e0420"
   },
   "outputs": [],
   "source": [
    "# PIE CHART for dodge['gender'] column.\n",
    "\n",
    "plt.figure(figsize = (8,6), dpi = 90)\n",
    "labels = dodge['gender'].value_counts().index\n",
    "sizes = dodge['gender'].value_counts()\n",
    "explode = [0,0,0.1]\n",
    "colors = plt.cm.autumn(np.linspace(0,1,3))\n",
    "plt.pie(sizes, colors=colors, labels=labels, explode=explode, shadow =True, startangle=90, autopct = '%.2f%%' )\n",
    "plt.title('Gender',fontsize=12)\n",
    "plt.legend()\n",
    "plt.show()"
   ]
  },
  {
   "cell_type": "code",
   "execution_count": null,
   "metadata": {
    "id": "wNuxuhqDzcZi"
   },
   "outputs": [],
   "source": [
    "#### 3. Bar chart for gender-hypertentsion distribution."
   ]
  },
  {
   "cell_type": "code",
   "execution_count": null,
   "metadata": {
    "colab": {
     "base_uri": "https://localhost:8080/",
     "height": 334
    },
    "id": "0_e78ocWxRlu",
    "outputId": "9ad866f7-940e-426d-f3e4-4b2a532d47ea"
   },
   "outputs": [],
   "source": [
    "plt.figure(figsize = (8,6), dpi = 90)\n",
    "x = pd.crosstab(dodge['gender'],dodge['hypertension'])\n",
    "x.plot(kind = 'bar')\n",
    "plt.xlabel('Gender')\n",
    "plt.ylabel('Hypertension')\n",
    "plt.title(\"Gender_Hypertension_Distribution\")\n",
    "plt.show()"
   ]
  },
  {
   "cell_type": "code",
   "execution_count": null,
   "metadata": {
    "id": "M9cbaGyszziD"
   },
   "outputs": [],
   "source": [
    " #### 4. Bar Chart for age-hypertension distribution "
   ]
  },
  {
   "cell_type": "code",
   "execution_count": null,
   "metadata": {
    "colab": {
     "base_uri": "https://localhost:8080/",
     "height": 620
    },
    "id": "tacg0Y7qz0PP",
    "outputId": "014362b6-094f-4f50-bf72-dc99f65322a2"
   },
   "outputs": [],
   "source": [
    "plt.rcParams['figure.figsize'] = (20,12)\n",
    "x = pd.crosstab(dodge['age'], dodge['hypertension'])\n",
    "x.plot(kind = 'bar')\n",
    "plt.xlabel('Age')\n",
    "plt.ylabel('Count')\n",
    "plt.title(\"Age Hypertension Distrubition\")\n",
    "plt.show()"
   ]
  },
  {
   "cell_type": "code",
   "execution_count": null,
   "metadata": {
    "id": "fezMx25F0QIl"
   },
   "outputs": [],
   "source": [
    "#### 5. Bar Chart for gender-heart_disease distribution"
   ]
  },
  {
   "cell_type": "code",
   "execution_count": null,
   "metadata": {
    "colab": {
     "base_uri": "https://localhost:8080/",
     "height": 637
    },
    "id": "rs5Z5Waj1PUm",
    "outputId": "d9e5a5cc-8871-485a-99f4-ca6e01f526bd"
   },
   "outputs": [],
   "source": [
    "plt.figure(figsize=(12,10))\n",
    "ab = pd.crosstab(dodge['gender'], dodge['heart_disease'])\n",
    "ab.plot(kind = 'bar')\n",
    "plt.show()"
   ]
  },
  {
   "cell_type": "code",
   "execution_count": null,
   "metadata": {
    "id": "QCPEoAIE0hpA"
   },
   "outputs": [],
   "source": [
    "#### 6. age-stroke distribution"
   ]
  },
  {
   "cell_type": "code",
   "execution_count": null,
   "metadata": {
    "colab": {
     "base_uri": "https://localhost:8080/",
     "height": 620
    },
    "id": "eiH2VYlO-802",
    "outputId": "345f752f-2e56-46be-d037-e3cf674838b7"
   },
   "outputs": [],
   "source": [
    "plt.rcParams['figure.figsize'] = (20,12)\n",
    "x = pd.crosstab(dodge['age'], dodge['stroke'])\n",
    "x.plot(kind = 'bar')\n",
    "plt.xlabel('Age')\n",
    "plt.ylabel('Count')\n",
    "plt.title(\"Age_Stroke Distrubition\")\n",
    "plt.show()"
   ]
  },
  {
   "cell_type": "code",
   "execution_count": null,
   "metadata": {
    "id": "JmqNHTDa0xDK"
   },
   "outputs": [],
   "source": [
    "#### 7. age-heart_disease distribution."
   ]
  },
  {
   "cell_type": "code",
   "execution_count": null,
   "metadata": {
    "colab": {
     "base_uri": "https://localhost:8080/",
     "height": 620
    },
    "id": "yFQ1d18A-84e",
    "outputId": "8f45e35f-e2b1-4873-8304-637cb0a16c67"
   },
   "outputs": [],
   "source": [
    "plt.rcParams['figure.figsize'] = (20,12)\n",
    "#plt.figure(figsize =(13,6))\n",
    "x = pd.crosstab(dodge['age'], dodge['heart_disease'])\n",
    "x.plot(kind = 'bar')\n",
    "plt.xlabel('Age')\n",
    "plt.ylabel('Count')\n",
    "plt.title(\"Age Heart_Disease Distrubition\")\n",
    "plt.show()"
   ]
  },
  {
   "cell_type": "code",
   "execution_count": null,
   "metadata": {
    "id": "RLxn-neN2q0k"
   },
   "outputs": [],
   "source": [
    "#### 8. Distribution of people getting stroke with respect to whether they are married or not."
   ]
  },
  {
   "cell_type": "code",
   "execution_count": null,
   "metadata": {
    "colab": {
     "base_uri": "https://localhost:8080/",
     "height": 394
    },
    "id": "trgCZCTE2lip",
    "outputId": "17ec436a-47a2-44dd-81c2-e60236dea758"
   },
   "outputs": [],
   "source": [
    "plt.rcParams['figure.figsize'] = (8,6)\n",
    "h = pd.crosstab(dodge['ever_married'], dodge['stroke'])\n",
    "h.plot(kind ='bar')\n",
    "plt.show()"
   ]
  },
  {
   "cell_type": "code",
   "execution_count": null,
   "metadata": {
    "id": "uvgnvhT631ZG"
   },
   "outputs": [],
   "source": [
    "#### 9. Scatterplot for avg_glucose level and bmi with hue as stroke, hue is an additional parameter which seperates the classes using different colors."
   ]
  },
  {
   "cell_type": "code",
   "execution_count": null,
   "metadata": {
    "colab": {
     "base_uri": "https://localhost:8080/",
     "height": 383
    },
    "id": "YVh-EIvU30Gk",
    "outputId": "43df26b3-b58b-4ebd-8547-01a7e1dd05ce"
   },
   "outputs": [],
   "source": [
    "plt.rcParams['figure.figsize'] = (20,12)\n",
    "sns.relplot(dodge['avg_glucose_level'], dodge['bmi'], hue = dodge['stroke'], kind = 'scatter')\n",
    "plt.xlabel('Avg_Glucose_Level')\n",
    "plt.ylabel('BMI')\n",
    "plt.show()"
   ]
  },
  {
   "cell_type": "code",
   "execution_count": null,
   "metadata": {
    "id": "ThA5G1yc59O_"
   },
   "outputs": [],
   "source": [
    "#### 10. Countplot() for checking distribution of work_type."
   ]
  },
  {
   "cell_type": "code",
   "execution_count": null,
   "metadata": {
    "colab": {
     "base_uri": "https://localhost:8080/",
     "height": 620
    },
    "id": "sO8NMhvG58P2",
    "outputId": "4b445886-cf24-486b-8aae-b61b7beded96"
   },
   "outputs": [],
   "source": [
    "plt.figure(figsize = (12,10))\n",
    "sns.countplot(dodge['work_type'], color ='red')\n",
    "plt.xlabel(\"Work Type\")\n",
    "plt.ylabel('Count')\n",
    "plt.title(\"Distribution of Work_type\")\n",
    "plt.show()"
   ]
  },
  {
   "cell_type": "code",
   "execution_count": null,
   "metadata": {
    "id": "ab3AoEdp6c1X"
   },
   "outputs": [],
   "source": [
    "#### 11. Distribution of work_type with respect to stroke occurence."
   ]
  },
  {
   "cell_type": "code",
   "execution_count": null,
   "metadata": {
    "colab": {
     "base_uri": "https://localhost:8080/",
     "height": 458
    },
    "id": "Mh6syn2Z58Ux",
    "outputId": "f6a72624-60eb-4241-9f23-804abe396549"
   },
   "outputs": [],
   "source": [
    "plt.rcParams['figure.figsize'] = (8,6)\n",
    "h = pd.crosstab(dodge['work_type'], dodge['stroke'])\n",
    "h.plot(kind ='bar')\n",
    "plt.xlabel(\"Work_type\")\n",
    "plt.ylabel(\"Count\")\n",
    "plt.title(\"Distribution of Work_type and stroke\")\n",
    "plt.show()"
   ]
  },
  {
   "cell_type": "code",
   "execution_count": null,
   "metadata": {
    "id": "_UEt1wD-yqT3"
   },
   "outputs": [],
   "source": []
  },
  {
   "cell_type": "code",
   "execution_count": null,
   "metadata": {
    "id": "4N8U4Jk4yrK0"
   },
   "outputs": [],
   "source": [
    "#### autoviz -> An AutoVisualization tool, which helps to visualize the features in the dataset more in depth."
   ]
  },
  {
   "cell_type": "code",
   "execution_count": null,
   "metadata": {
    "colab": {
     "base_uri": "https://localhost:8080/",
     "height": 1000
    },
    "id": "vpkREgk784CJ",
    "outputId": "3289b017-1062-4d4a-cb1b-6b6855232acc"
   },
   "outputs": [],
   "source": [
    "AV = AutoViz_Class()\n",
    "autovis = AV.AutoViz(filename = '/content/drive/MyDrive/MAIN PROJECT/Brain Stroke Prediction/strokes.csv', sep=',', depVar='', dfte=None, header=0, verbose=2,\n",
    "                            lowess=False,chart_format='svg',max_rows_analyzed=150000,max_cols_analyzed=30)\n",
    "autovis"
   ]
  },
  {
   "cell_type": "code",
   "execution_count": null,
   "metadata": {
    "id": "QJUxZMJ81M6H"
   },
   "outputs": [],
   "source": [
    "### **Exploring data using Traditional python code, with the help of interactive widgets.**"
   ]
  },
  {
   "cell_type": "code",
   "execution_count": null,
   "metadata": {
    "id": "1VHcpPMiDz65"
   },
   "outputs": [],
   "source": [
    "abg = dodge[['hypertension', 'heart_disease']].groupby(['hypertension']).count().style.background_gradient(cmap = 'viridis')"
   ]
  },
  {
   "cell_type": "code",
   "execution_count": null,
   "metadata": {
    "id": "_mP6byDW4-ge"
   },
   "outputs": [],
   "source": [
    "Sum of Heart Disease values with respect to hypertension, This can be easily eaxplained by crosstab()"
   ]
  },
  {
   "cell_type": "code",
   "execution_count": null,
   "metadata": {
    "colab": {
     "base_uri": "https://localhost:8080/",
     "height": 97
    },
    "id": "W3NHDefzekoh",
    "outputId": "28ba8eaa-9f2d-4dbc-d2e8-7895856778d3"
   },
   "outputs": [],
   "source": [
    "abg"
   ]
  },
  {
   "cell_type": "code",
   "execution_count": null,
   "metadata": {
    "colab": {
     "base_uri": "https://localhost:8080/",
     "height": 137
    },
    "id": "pK9y-6Az5eyC",
    "outputId": "fd6ed8ef-0126-4aa5-a12f-85a77015d502"
   },
   "outputs": [],
   "source": [
    "dre = pd.crosstab(dodge['hypertension'], dodge['heart_disease'])\n",
    "dre"
   ]
  },
  {
   "cell_type": "code",
   "execution_count": null,
   "metadata": {
    "id": "DaXKeGXQ3SwN"
   },
   "outputs": [],
   "source": [
    "#### @interact:\n",
    "The interact function (ipywidgets.interact) automatically creates user interface (UI) controls for exploring code and data interactively.\n",
    "\n",
    "The function gets called each time the slider is moved."
   ]
  },
  {
   "cell_type": "code",
   "execution_count": null,
   "metadata": {
    "colab": {
     "base_uri": "https://localhost:8080/",
     "height": 149,
     "referenced_widgets": [
      "3e8fc55cdcd043b29eb6d8c311bc969b",
      "f0a214a1e1ab4cc08814d638a5b222b2",
      "7e84494302294dfe9641c1b49d4ac280",
      "3d5fa49917f04784a9c111ca7e2a2c60",
      "c29dbfda02d84bffa8df9f1003c98143",
      "d6795f0af2e9423e8673540337e281da",
      "b21e5c76002c4dc7b7bdc5577524bbc1"
     ]
    },
    "id": "z-ZYa1axephy",
    "outputId": "87d77d48-9bda-456d-9fe7-c1a2b4a080ee"
   },
   "outputs": [],
   "source": [
    "@interact\n",
    "def abc(x = 50):\n",
    "  y = dodge[dodge['avg_glucose_level'] > x]\n",
    "  return y['stroke'].value_counts()\n",
    "abc()"
   ]
  },
  {
   "cell_type": "code",
   "execution_count": null,
   "metadata": {
    "colab": {
     "base_uri": "https://localhost:8080/",
     "height": 181,
     "referenced_widgets": [
      "8fefd90daac94b438041e24a870b91ca",
      "4dabe853471f4308839a12bd810605df",
      "b46e6c524e8248c3ac658c7958f1e96d",
      "24424e941f674b4dba03739f448d265f",
      "1b4d6d7b2c724f229ee067e841e5613a",
      "72c58c253222450abf33e5724081f3cc",
      "96add429c5d341dab987c04bce5dbe22",
      "30bf48c05d664ad79995b81fb489e522",
      "cf3948d73b804fc786a11f59c1817948",
      "120ddc49db614d059d4aebabb364a8b7"
     ]
    },
    "id": "WCQ_KEUli-VT",
    "outputId": "ded89597-3a75-4ef9-a2e8-e306319f7043"
   },
   "outputs": [],
   "source": [
    "@interact\n",
    "def hyp_heart(x=0, y=0):\n",
    "  g = dodge[(dodge['hypertension'] == x) & (dodge['heart_disease'] == y)]\n",
    "  return g['stroke'].value_counts()\n",
    "hyp_heart()"
   ]
  },
  {
   "cell_type": "code",
   "execution_count": null,
   "metadata": {
    "colab": {
     "base_uri": "https://localhost:8080/",
     "height": 314,
     "referenced_widgets": [
      "7ce89d6ec9374f58a8a7b7433aec261b",
      "f27bba82de8f4edea11e6e2ddb8dd034",
      "ce837874c7224caf92babf437a431c3e",
      "dcc172a21cb542888adb872af40be17b",
      "4b2f21dbb5ce411d99eebecbaccb23e7",
      "22c2d791a08b49679fd06d9bb1bbc67b",
      "fc4856117af94f53b1d7ba720b66b008",
      "579fcb38e47e48519bcf61627b67a8b6",
      "5e5c36f16c2942a393f0e6d37376c64b",
      "e255f78455014f8a8854c85c98b3cdc4",
      "e12cf225896344e2965c23ad675511fc",
      "be0e66c75a92424ba8cbe08913509ad5",
      "8b379af0bcbc4cab8e18e9d6bb1ba828"
     ]
    },
    "id": "BswjgwLIltF-",
    "outputId": "df673181-e862-4880-a805-a4b56e8a1252"
   },
   "outputs": [],
   "source": [
    "@interact\n",
    "def hy_he_eve(x=0,y=0,z='No'):\n",
    "  j = dodge[(dodge['hypertension'] == x) & (dodge['heart_disease'] == y) & (dodge['ever_married'] == z)]\n",
    "  return j['stroke'].value_counts(), j['smoking_status'].value_counts()\n",
    "hy_he_eve()"
   ]
  },
  {
   "cell_type": "code",
   "execution_count": null,
   "metadata": {
    "id": "KsMqqA7XD4gs"
   },
   "outputs": [],
   "source": [
    "### **Feature Transformation.**\n",
    "Feature Transformation is the technique of transforming the variable into other form like Strings -> Numeric, splitting the Date Column in to pieces etc.\n",
    "\n",
    " Types of encoding.\n",
    "#### 1. Nominal Encoding.\n",
    "  *   one hot encoding -> Creating Dummy variables.\n",
    "  *   one hot encoding with multi categories(more than 20 categories)\n",
    "  *   mean encoding\n",
    "\n",
    "\n",
    "#### 2. Ordinal Encoding.\n",
    "  * Label Encoder\n",
    "  * target_guided_encoding\n",
    "\n",
    "-> For the columns with less than 5 categories we can manually perform encoding, usinf map().\n",
    "\n",
    "-> For Columns with more than 20 Categories we can perform one hot encoding with multi categories, where we tend to select the top categories based on their value_counts().\n"
   ]
  },
  {
   "cell_type": "code",
   "execution_count": null,
   "metadata": {
    "colab": {
     "base_uri": "https://localhost:8080/",
     "height": 216
    },
    "id": "k6k27EbjD01-",
    "outputId": "0241e2a7-af49-4bff-c39a-606e3cb751cf"
   },
   "outputs": [],
   "source": [
    "dodge.head()"
   ]
  },
  {
   "cell_type": "code",
   "execution_count": null,
   "metadata": {
    "colab": {
     "base_uri": "https://localhost:8080/"
    },
    "id": "AAorvzLrD1Ha",
    "outputId": "71a06a7e-cfd9-4401-f89c-c81c3fcaaac5"
   },
   "outputs": [],
   "source": [
    "dodge['smoking_status'].unique()"
   ]
  },
  {
   "cell_type": "code",
   "execution_count": null,
   "metadata": {
    "id": "aQPOEtgJI8BE"
   },
   "outputs": [],
   "source": [
    "mapping = {'Male':2, 'Female':1, 'Other':0}\n",
    "mapping1 = {'No':0, 'Yes':1}\n",
    "mapping2 = {'never smoked':0, 'formerly smoked':1, 'smokes':2}"
   ]
  },
  {
   "cell_type": "code",
   "execution_count": null,
   "metadata": {
    "id": "zVZ0M4STOFLX"
   },
   "outputs": [],
   "source": [
    "dodge['gender'] = dodge['gender'].map(mapping)"
   ]
  },
  {
   "cell_type": "code",
   "execution_count": null,
   "metadata": {
    "id": "ok6zw5p7OGLY"
   },
   "outputs": [],
   "source": [
    "dodge['ever_married'] = dodge['ever_married'].map(mapping1)"
   ]
  },
  {
   "cell_type": "code",
   "execution_count": null,
   "metadata": {
    "id": "A3brqipEOL69"
   },
   "outputs": [],
   "source": [
    "dodge['smoking_status'] = dodge['smoking_status'].map(mapping2)"
   ]
  },
  {
   "cell_type": "code",
   "execution_count": null,
   "metadata": {
    "colab": {
     "base_uri": "https://localhost:8080/",
     "height": 196
    },
    "id": "xwzVDZKWORKn",
    "outputId": "c5f428a2-991c-4bf2-c21f-eb018de20d26"
   },
   "outputs": [],
   "source": [
    "dodge[['gender', 'smoking_status', 'ever_married']].head()"
   ]
  },
  {
   "cell_type": "code",
   "execution_count": null,
   "metadata": {
    "colab": {
     "base_uri": "https://localhost:8080/"
    },
    "id": "KPFLdb7JOjiM",
    "outputId": "edfd6e91-5951-4cbd-92f5-170bbab7662b"
   },
   "outputs": [],
   "source": [
    "dodge['work_type'].unique()"
   ]
  },
  {
   "cell_type": "code",
   "execution_count": null,
   "metadata": {
    "colab": {
     "base_uri": "https://localhost:8080/"
    },
    "id": "wxERE6j_QX1A",
    "outputId": "18c750e6-ec50-43c1-ce20-5574ec33aa21"
   },
   "outputs": [],
   "source": [
    "dodge['Residence_type'].unique()"
   ]
  },
  {
   "cell_type": "code",
   "execution_count": null,
   "metadata": {
    "id": "Bn7QsHUDmEYN"
   },
   "outputs": [],
   "source": [
    "dodge['home_town'] = pd.get_dummies(dodge['Residence_type'], drop_first = True)"
   ]
  },
  {
   "cell_type": "code",
   "execution_count": null,
   "metadata": {
    "id": "1gZVWWkrCYaZ"
   },
   "outputs": [],
   "source": [
    "Creating a new dataframe with respect to work_type."
   ]
  },
  {
   "cell_type": "code",
   "execution_count": null,
   "metadata": {
    "id": "e5DFnKUUq-H2"
   },
   "outputs": [],
   "source": [
    "f150 = pd.get_dummies(dodge['work_type'], drop_first = True)"
   ]
  },
  {
   "cell_type": "code",
   "execution_count": null,
   "metadata": {
    "id": "kP4NFanIChNs"
   },
   "outputs": [],
   "source": [
    "Merging 2 DataFrames(dodge,f150) with the default join."
   ]
  },
  {
   "cell_type": "code",
   "execution_count": null,
   "metadata": {
    "id": "-sRQa44grQoR"
   },
   "outputs": [],
   "source": [
    "camero = pd.concat([dodge,f150], axis = 1)"
   ]
  },
  {
   "cell_type": "code",
   "execution_count": null,
   "metadata": {
    "colab": {
     "base_uri": "https://localhost:8080/",
     "height": 233
    },
    "id": "uXm9hQo5sddh",
    "outputId": "4f5f25d1-cded-4e5f-b6f8-827658877da6"
   },
   "outputs": [],
   "source": [
    "camero.head()"
   ]
  },
  {
   "cell_type": "code",
   "execution_count": null,
   "metadata": {
    "id": "ehoSoi1NstpQ"
   },
   "outputs": [],
   "source": [
    "camero.rename(columns = {'Never_worked':'w_t_n_w', 'Private':'w_t_p', 'Self-employed':'w_t_s_e', 'children':'w_t_c'}, inplace = True)"
   ]
  },
  {
   "cell_type": "code",
   "execution_count": null,
   "metadata": {
    "id": "JBt8JP3aCyn3"
   },
   "outputs": [],
   "source": [
    "Droping the columns ['work_type', 'Residence_type'], as we have already created dummy variables for them."
   ]
  },
  {
   "cell_type": "code",
   "execution_count": null,
   "metadata": {
    "id": "B3OSy6jkuA_a"
   },
   "outputs": [],
   "source": [
    "camero.drop(columns = ['work_type','Residence_type'], inplace = True)"
   ]
  },
  {
   "cell_type": "code",
   "execution_count": null,
   "metadata": {
    "colab": {
     "base_uri": "https://localhost:8080/",
     "height": 216
    },
    "id": "DMh2nncSuiXg",
    "outputId": "02aa5d01-c303-4d39-adfb-42c8085a1048"
   },
   "outputs": [],
   "source": [
    "camero.head()"
   ]
  },
  {
   "cell_type": "code",
   "execution_count": null,
   "metadata": {
    "colab": {
     "base_uri": "https://localhost:8080/"
    },
    "id": "YkJGUMrAu7xz",
    "outputId": "8836d741-b303-4f7b-a817-36080f09eb7e"
   },
   "outputs": [],
   "source": [
    "camero.info()"
   ]
  },
  {
   "cell_type": "code",
   "execution_count": null,
   "metadata": {
    "id": "uUhM_InUFUNL"
   },
   "outputs": [],
   "source": [
    "### **Feature Scaling**\n",
    "Feature Scaling is the technique to scale down all the values in the datset to same level, so that there will be no partiality while we train the model like bmi -> 56 getting high priority than heart_disease -> 0, so in order to remove this error, feature scaling is done.\n",
    "\n",
    "Feature Scaling Tools.\n",
    "1. Standardisation (values are centered around the mean with unit standard deviation.)\n",
    "2. Normalisation/min_max scaling.(values range from 0 to 1)"
   ]
  },
  {
   "cell_type": "code",
   "execution_count": null,
   "metadata": {
    "id": "V7xWNXrTFTSZ"
   },
   "outputs": [],
   "source": [
    "#### StandardScaler()"
   ]
  },
  {
   "cell_type": "code",
   "execution_count": null,
   "metadata": {
    "colab": {
     "base_uri": "https://localhost:8080/",
     "height": 216
    },
    "id": "vLndohHECAvy",
    "outputId": "49e3f690-ae8e-4a0c-f931-3fea1326140d"
   },
   "outputs": [],
   "source": [
    "se = StandardScaler()\n",
    "abh = se.fit_transform(camero.drop(columns=['stroke']))\n",
    "mercury = pd.DataFrame(data = abh, columns = camero.drop(columns = ['stroke']).columns)\n",
    "mercury.head()"
   ]
  },
  {
   "cell_type": "code",
   "execution_count": null,
   "metadata": {
    "id": "OZYRO7c1FwzY"
   },
   "outputs": [],
   "source": [
    "### **Feature Selection**\n",
    "Selecting the best features which best contribute to our model."
   ]
  },
  {
   "cell_type": "code",
   "execution_count": null,
   "metadata": {
    "id": "ICzwWJIh0GQA"
   },
   "outputs": [],
   "source": [
    "#### Correlation Diagram."
   ]
  },
  {
   "cell_type": "code",
   "execution_count": null,
   "metadata": {
    "colab": {
     "base_uri": "https://localhost:8080/",
     "height": 684
    },
    "id": "UtfUucrLFaqu",
    "outputId": "a28fb4e5-e83a-4286-a251-911242793827"
   },
   "outputs": [],
   "source": [
    "plt.rcParams['figure.figsize'] = (20,12)\n",
    "corr = mercury.corr()\n",
    "sns.heatmap(corr, annot=True, cmap='autumn')\n",
    "plt.show()"
   ]
  },
  {
   "cell_type": "code",
   "execution_count": null,
   "metadata": {
    "id": "fe32aVCgGbJW"
   },
   "outputs": [],
   "source": [
    "Function to select the best features with some threshold value."
   ]
  },
  {
   "cell_type": "code",
   "execution_count": null,
   "metadata": {
    "colab": {
     "base_uri": "https://localhost:8080/"
    },
    "id": "ZUtU7oJDFavH",
    "outputId": "197a8c07-a3b6-4d9a-e68e-0c4f2e74a033"
   },
   "outputs": [],
   "source": [
    "def correlation(dataset,threshold):\n",
    "    corr_list = []\n",
    "    corr_matrix = dataset.corr()\n",
    "    for i in range(len(corr_matrix.columns)):\n",
    "        for j in range(i):\n",
    "            if abs(corr_matrix.iloc[i,j] > threshold):\n",
    "                column = corr_matrix.columns[[i,j]]\n",
    "                corr_list.append(column)\n",
    "    print(len(corr_list))\n",
    "    return corr_list\n",
    "correlation(mercury,0.6)"
   ]
  },
  {
   "cell_type": "code",
   "execution_count": null,
   "metadata": {
    "id": "oKS9IWhAGqNS"
   },
   "outputs": [],
   "source": [
    "Although, we can see ['ever_married', 'age'] are somewhat correlated, but where as if we use 'Variance Inflation Factor\", we ended up with fixing the Multicollinearirty.\n",
    "\n",
    "variance_inflation_factor -> it is used to remove multicollinearity between variables by removing as few variables as possible."
   ]
  },
  {
   "cell_type": "code",
   "execution_count": null,
   "metadata": {
    "id": "Qm1hpjKl0Qg5"
   },
   "outputs": [],
   "source": [
    "#### VIF->Variance Inflation Factor"
   ]
  },
  {
   "cell_type": "code",
   "execution_count": null,
   "metadata": {
    "colab": {
     "base_uri": "https://localhost:8080/"
    },
    "id": "HIOv31frEDkL",
    "outputId": "2ebf596d-c7c4-420a-dfce-5308a8814212"
   },
   "outputs": [],
   "source": [
    "vif = variance_inflation_factor \n",
    "earth1 = pd.Series([vif(mercury.values, i) for i in range(mercury.shape[1])], index = mercury.columns)\n",
    "earth1"
   ]
  },
  {
   "cell_type": "code",
   "execution_count": null,
   "metadata": {
    "id": "E2WSZ11xIFom"
   },
   "outputs": [],
   "source": [
    "Function to check and remove multicollinearity between independent variables."
   ]
  },
  {
   "cell_type": "code",
   "execution_count": null,
   "metadata": {
    "id": "GFoh54qeAPm-"
   },
   "outputs": [],
   "source": [
    "def mc(data):\n",
    "  earth = pd.Series([vif(data.values, i) for i in range(data.shape[1])], index = data.columns)\n",
    "  if earth.max() > 6:\n",
    "    print(earth[earth == earth.max()].index[0], 'Has Been Removed.')\n",
    "    data = data.drop(columns = earth[earth == earth.max()].index[0])\n",
    "  else:\n",
    "    print(\"MultiCollinearity Has Been Removed.\")\n",
    "    return data"
   ]
  },
  {
   "cell_type": "code",
   "execution_count": null,
   "metadata": {
    "colab": {
     "base_uri": "https://localhost:8080/",
     "height": 300
    },
    "id": "3W_kefk3APqq",
    "outputId": "dd64b4aa-37b9-4c26-c02f-3290b7f777dc"
   },
   "outputs": [],
   "source": [
    "for i in range(5):\n",
    "  mercury = mc(mercury)\n",
    "mercury.head()"
   ]
  },
  {
   "cell_type": "code",
   "execution_count": null,
   "metadata": {
    "id": "F4Z58wPwPRxp"
   },
   "outputs": [],
   "source": [
    "### **Splitting Data**\n",
    "Splitting the dataset \n",
    "\n",
    "1. target_var\n",
    "2. Independent_var"
   ]
  },
  {
   "cell_type": "code",
   "execution_count": null,
   "metadata": {
    "id": "4KOeQyFrPQj4"
   },
   "outputs": [],
   "source": [
    "target_var = camero['stroke']\n",
    "inde_vars = camero.drop(columns=['stroke'], axis = 1)"
   ]
  },
  {
   "cell_type": "code",
   "execution_count": null,
   "metadata": {
    "colab": {
     "base_uri": "https://localhost:8080/"
    },
    "id": "eBlZ68ck9J_X",
    "outputId": "1fb3d5c7-78e9-4ff4-96ab-67bab0a7631a"
   },
   "outputs": [],
   "source": [
    "target_var"
   ]
  },
  {
   "cell_type": "code",
   "execution_count": null,
   "metadata": {
    "colab": {
     "base_uri": "https://localhost:8080/",
     "height": 216
    },
    "id": "SfbIc_775UVq",
    "outputId": "6d08d5fa-d74b-4e93-82db-19073ae5d0e6"
   },
   "outputs": [],
   "source": [
    "inde_vars.head()"
   ]
  },
  {
   "cell_type": "code",
   "execution_count": null,
   "metadata": {
    "id": "JaZsSI4aKf-l"
   },
   "outputs": [],
   "source": [
    "### **Handling Imbalanced Dataset.**\n",
    "As we saw the target_calss was highly imbalanced, so we try to balance the target_class using Oversampling method, using \"SMOTETomek\" tool."
   ]
  },
  {
   "cell_type": "code",
   "execution_count": null,
   "metadata": {
    "colab": {
     "base_uri": "https://localhost:8080/",
     "height": 216
    },
    "id": "sscKjAaaKe-7",
    "outputId": "1ea6d61d-d662-41a7-e888-c99c1dd0f322"
   },
   "outputs": [],
   "source": [
    "camero.head()"
   ]
  },
  {
   "cell_type": "code",
   "execution_count": null,
   "metadata": {
    "id": "s0f8moi-0g2k"
   },
   "outputs": [],
   "source": [
    "#### SMOTETomek Tool"
   ]
  },
  {
   "cell_type": "code",
   "execution_count": null,
   "metadata": {
    "id": "K-wdn1vtTa8A"
   },
   "outputs": [],
   "source": [
    "so = SMOTETomek()\n",
    "x_resample,y_resample = so.fit_sample(inde_vars, target_var.values.ravel())\n",
    "brad = pd.DataFrame(data=x_resample, columns = inde_vars.columns)"
   ]
  },
  {
   "cell_type": "code",
   "execution_count": null,
   "metadata": {
    "colab": {
     "base_uri": "https://localhost:8080/"
    },
    "id": "EfJX8BRUTbkR",
    "outputId": "fc13bc2c-6298-46a8-e324-1d33f77e7d0e"
   },
   "outputs": [],
   "source": [
    "#Before resampling\n",
    "print(\"Before Resampling Target_Variable: \")\n",
    "print(target_var.value_counts())\n",
    "\n",
    "# After resampling\n",
    "y_resample = pd.DataFrame(y_resample)\n",
    "print(\"After Resampling Target_Variable:\")\n",
    "print(y_resample[0].value_counts())"
   ]
  },
  {
   "cell_type": "code",
   "execution_count": null,
   "metadata": {
    "id": "Rcz4mz4SVJXn"
   },
   "outputs": [],
   "source": [
    "### **Train Test Split.**\n",
    "Splitting the data into train and test datasets."
   ]
  },
  {
   "cell_type": "code",
   "execution_count": null,
   "metadata": {
    "colab": {
     "base_uri": "https://localhost:8080/"
    },
    "id": "yQUinilwVIfD",
    "outputId": "cb92b810-5504-4dcb-8186-54df6fa2bad7"
   },
   "outputs": [],
   "source": [
    "x_train,x_test,y_train,y_test = train_test_split(x_resample, y_resample, test_size = 0.3, random_state = 50)\n",
    "print(x_train.shape)\n",
    "print(y_train.shape)\n",
    "print(x_test.shape)\n",
    "print(y_test.shape)"
   ]
  },
  {
   "cell_type": "code",
   "execution_count": null,
   "metadata": {
    "id": "TLPl73LeUzwR"
   },
   "outputs": [],
   "source": [
    "### **Feature Scaling Balanced Data.**\n",
    "Now, as we have balanced our data, we need to perform feature scaling to the banlanced data.\n"
   ]
  },
  {
   "cell_type": "code",
   "execution_count": null,
   "metadata": {
    "id": "jlGrjXWvUyfF"
   },
   "outputs": [],
   "source": [
    "x_train_ss = se.fit_transform(x_train)\n",
    "x_test_ss = se.transform(x_test)"
   ]
  },
  {
   "cell_type": "code",
   "execution_count": null,
   "metadata": {
    "id": "7YWh2B37gsCg"
   },
   "outputs": [],
   "source": [
    "## **Creating Test Data.**"
   ]
  },
  {
   "cell_type": "code",
   "execution_count": null,
   "metadata": {
    "id": "_0gbJer3g8Zx"
   },
   "outputs": [],
   "source": [
    "ford = pd.read_csv(\"/content/drive/MyDrive/MAIN PROJECT/Brain Stroke Prediction/healthcare-dataset-stroke-data.csv\")"
   ]
  },
  {
   "cell_type": "code",
   "execution_count": null,
   "metadata": {
    "id": "mULIcgD5g8hM"
   },
   "outputs": [],
   "source": [
    "ford.head()"
   ]
  },
  {
   "cell_type": "code",
   "execution_count": null,
   "metadata": {
    "id": "RquPFv3xg8nn"
   },
   "outputs": [],
   "source": [
    "ford.info()"
   ]
  },
  {
   "cell_type": "code",
   "execution_count": null,
   "metadata": {
    "id": "j15l-sEJg8tj"
   },
   "outputs": [],
   "source": [
    "ford.drop(index = ford[(ford.age > 1.0) & (ford.age < 2.0)].index, axis = 0, inplace = True)"
   ]
  },
  {
   "cell_type": "code",
   "execution_count": null,
   "metadata": {
    "id": "7WI455Clhv8B"
   },
   "outputs": [],
   "source": [
    "ford.info()"
   ]
  },
  {
   "cell_type": "code",
   "execution_count": null,
   "metadata": {
    "id": "LaxooU0tg81q"
   },
   "outputs": [],
   "source": [
    "ford.shape"
   ]
  },
  {
   "cell_type": "code",
   "execution_count": null,
   "metadata": {
    "id": "1yauoANhhyK0"
   },
   "outputs": [],
   "source": [
    "anamolies = []\n",
    "def outliers(data):\n",
    "  random_state_mean = np.mean(data)\n",
    "  random_state_std = np.std(data)\n",
    "  anamoly = random_state_std * 3\n",
    "\n",
    "  upper_limit = random_state_mean + anamoly\n",
    "  lower_limit = random_state_mean - anamoly\n",
    "  uu =  max(ford['avg_glucose_level'])\n",
    "  ll = min(ford['avg_glucose_level'])\n",
    "\n",
    "  print(upper_limit)\n",
    "  print(lower_limit)\n",
    "  for i in data:\n",
    "    if i < ll or i > uu:\n",
    "      anamolies.append(i)"
   ]
  },
  {
   "cell_type": "code",
   "execution_count": null,
   "metadata": {
    "id": "41pTuhaAhyRZ"
   },
   "outputs": [],
   "source": [
    "outliers(ford['avg_glucose_level'])\n",
    "print(len(anamolies))"
   ]
  },
  {
   "cell_type": "code",
   "execution_count": null,
   "metadata": {
    "id": "OBWzH5NKhyXn"
   },
   "outputs": [],
   "source": [
    "dodge['avg_glucose_level'].describe()"
   ]
  },
  {
   "cell_type": "code",
   "execution_count": null,
   "metadata": {
    "id": "1UwK3uGPhyfr"
   },
   "outputs": [],
   "source": [
    "anamolies = []\n",
    "def outliers(data):\n",
    "  random_state_mean = np.mean(data)\n",
    "  random_state_std = np.std(data)\n",
    "  anamoly = random_state_std * 3\n",
    "\n",
    "  upper_limit = random_state_mean + anamoly\n",
    "  lower_limit = random_state_mean - anamoly\n",
    "  ll = min(ford['bmi'])\n",
    "\n",
    "  print(upper_limit)\n",
    "  print(lower_limit)\n",
    "  for i in data:\n",
    "    if i < ll or i > upper_limit:\n",
    "      anamolies.append(i)"
   ]
  },
  {
   "cell_type": "code",
   "execution_count": null,
   "metadata": {
    "id": "yaLEE5SJhymY"
   },
   "outputs": [],
   "source": [
    "outliers(ford['bmi'])\n",
    "print(len(anamolies))"
   ]
  },
  {
   "cell_type": "code",
   "execution_count": null,
   "metadata": {
    "id": "FlB4UWX9hysF"
   },
   "outputs": [],
   "source": [
    "ford[ford['bmi'] > 52.45615973942819]"
   ]
  },
  {
   "cell_type": "code",
   "execution_count": null,
   "metadata": {
    "id": "g_X1XVBShyyw"
   },
   "outputs": [],
   "source": [
    "ford.drop(index = ford[ford['bmi'] > 52.45615973942819].index, axis = 0, inplace = True)"
   ]
  },
  {
   "cell_type": "code",
   "execution_count": null,
   "metadata": {
    "id": "OUIWYnpoiLGc"
   },
   "outputs": [],
   "source": [
    "ford.shape"
   ]
  },
  {
   "cell_type": "code",
   "execution_count": null,
   "metadata": {
    "id": "GQHQ8TJtiLOP"
   },
   "outputs": [],
   "source": [
    "ford.isnull().sum()"
   ]
  },
  {
   "cell_type": "code",
   "execution_count": null,
   "metadata": {
    "id": "nrdt1IMMiLUn"
   },
   "outputs": [],
   "source": [
    "ford['bmi'].mean()"
   ]
  },
  {
   "cell_type": "code",
   "execution_count": null,
   "metadata": {
    "id": "Qls2fLsniLa8"
   },
   "outputs": [],
   "source": [
    "ford['bmi'].fillna(ford['bmi'].mean(), inplace = True)"
   ]
  },
  {
   "cell_type": "code",
   "execution_count": null,
   "metadata": {
    "id": "yHKYYU7YieIs"
   },
   "outputs": [],
   "source": [
    "ford['bmi'].isnull().sum()"
   ]
  },
  {
   "cell_type": "code",
   "execution_count": null,
   "metadata": {
    "id": "66S19Pw-ieOS"
   },
   "outputs": [],
   "source": [
    "ford['smoking_status'].replace('Unknown', 'never smoked')"
   ]
  },
  {
   "cell_type": "code",
   "execution_count": null,
   "metadata": {
    "id": "ICcQ_o9rieWJ"
   },
   "outputs": [],
   "source": [
    "ford.info()"
   ]
  },
  {
   "cell_type": "code",
   "execution_count": null,
   "metadata": {
    "id": "fClgGU1gied9"
   },
   "outputs": [],
   "source": [
    "ford.drop(columns = ['id'], axis=1, inplace = True)"
   ]
  },
  {
   "cell_type": "code",
   "execution_count": null,
   "metadata": {
    "id": "iSIS6EHYi5a4"
   },
   "outputs": [],
   "source": [
    "ford['smoking_status'].replace({'Unknown':'never smoked'}, inplace = True)"
   ]
  },
  {
   "cell_type": "code",
   "execution_count": null,
   "metadata": {
    "id": "yUMA2d0di5hS"
   },
   "outputs": [],
   "source": [
    "ford['gender'] = ford['gender'].map(mapping)"
   ]
  },
  {
   "cell_type": "code",
   "execution_count": null,
   "metadata": {
    "id": "OWw5lu7Ci5nW"
   },
   "outputs": [],
   "source": [
    "ford['ever_married'] = ford['ever_married'].map(mapping1)"
   ]
  },
  {
   "cell_type": "code",
   "execution_count": null,
   "metadata": {
    "id": "fL6nH9WBi5vb"
   },
   "outputs": [],
   "source": [
    "ford['smoking_status'] = ford['smoking_status'].map(mapping2)"
   ]
  },
  {
   "cell_type": "code",
   "execution_count": null,
   "metadata": {
    "id": "Zda7dN2ni52C"
   },
   "outputs": [],
   "source": [
    "ford[['gender', 'smoking_status', 'ever_married']].head()"
   ]
  },
  {
   "cell_type": "code",
   "execution_count": null,
   "metadata": {
    "id": "kBQZPEcCi578"
   },
   "outputs": [],
   "source": [
    "ford['work_type'].unique()"
   ]
  },
  {
   "cell_type": "code",
   "execution_count": null,
   "metadata": {
    "id": "DiRQC6Wri6Bu"
   },
   "outputs": [],
   "source": [
    "ford['Residence_type'].unique()"
   ]
  },
  {
   "cell_type": "code",
   "execution_count": null,
   "metadata": {
    "id": "-EW7vMq9jUXu"
   },
   "outputs": [],
   "source": [
    "ford['home_town'] = pd.get_dummies(ford['Residence_type'], drop_first = True)"
   ]
  },
  {
   "cell_type": "code",
   "execution_count": null,
   "metadata": {
    "id": "QeF_uR5ljUdo"
   },
   "outputs": [],
   "source": [
    "rap = pd.get_dummies(ford['work_type'], drop_first = True)"
   ]
  },
  {
   "cell_type": "code",
   "execution_count": null,
   "metadata": {
    "id": "YHEPUkHOjUlr"
   },
   "outputs": [],
   "source": [
    "cam = pd.concat([ford,rap], axis = 1)"
   ]
  },
  {
   "cell_type": "code",
   "execution_count": null,
   "metadata": {
    "id": "8Bac178hjUs_"
   },
   "outputs": [],
   "source": [
    "cam.head()"
   ]
  },
  {
   "cell_type": "code",
   "execution_count": null,
   "metadata": {
    "id": "-Cf_cOHVjUzA"
   },
   "outputs": [],
   "source": [
    "cam.rename(columns = {'Never_worked':'w_t_n_w', 'Private':'w_t_p', 'Self-employed':'w_t_s_e', 'children':'w_t_c'}, inplace = True)"
   ]
  },
  {
   "cell_type": "code",
   "execution_count": null,
   "metadata": {
    "id": "-AVX1--xjnyM"
   },
   "outputs": [],
   "source": [
    "cam.drop(columns = ['work_type','Residence_type'], inplace = True)"
   ]
  },
  {
   "cell_type": "code",
   "execution_count": null,
   "metadata": {
    "id": "Uz4jn_5Mjn5L"
   },
   "outputs": [],
   "source": [
    "target = cam['stroke']\n",
    "original = cam.drop(columns = ['stroke'])"
   ]
  },
  {
   "cell_type": "code",
   "execution_count": null,
   "metadata": {
    "id": "p9MTYD2YjoAX"
   },
   "outputs": [],
   "source": [
    "resampled_x,resampled_y = so.fit_resample(original,target.values.ravel())\n",
    "pitt = pd.DataFrame(data = resampled_x, columns=original.columns)"
   ]
  },
  {
   "cell_type": "code",
   "execution_count": null,
   "metadata": {
    "id": "ebmG6WfZjoJd"
   },
   "outputs": [],
   "source": [
    "#Before resampling\n",
    "print(\"Before Resampling Target_Variable: \")\n",
    "print(target.value_counts())\n",
    "\n",
    "# After resampling\n",
    "resampled_y = pd.DataFrame(resampled_y)\n",
    "print(\"After Resampling Target_Variable:\")\n",
    "print(resampled_y[0].value_counts())"
   ]
  },
  {
   "cell_type": "code",
   "execution_count": null,
   "metadata": {
    "id": "DbkWgKrXjoPt"
   },
   "outputs": [],
   "source": [
    "fish = se.fit_transform(resampled_x)\n",
    "lucas = pd.DataFrame(data = fish, columns = original.columns)"
   ]
  },
  {
   "cell_type": "code",
   "execution_count": null,
   "metadata": {
    "id": "vAR1uWAGkAbx"
   },
   "outputs": [],
   "source": [
    "lucas.head()"
   ]
  },
  {
   "cell_type": "code",
   "execution_count": null,
   "metadata": {
    "id": "fluvf987kAhT"
   },
   "outputs": [],
   "source": [
    "lucas.info()"
   ]
  },
  {
   "cell_type": "code",
   "execution_count": null,
   "metadata": {
    "id": "-pUY-XfvYnbl"
   },
   "outputs": [],
   "source": [
    "## **Building Predictive Models.**\n",
    "1. Decision Tree\n",
    "2. Random Forest\n",
    "3. Logistic Regression"
   ]
  },
  {
   "cell_type": "code",
   "execution_count": null,
   "metadata": {
    "id": "UQrZl11k49Lg"
   },
   "outputs": [],
   "source": [
    "## **Decision Tree Classifier**"
   ]
  },
  {
   "cell_type": "code",
   "execution_count": null,
   "metadata": {
    "colab": {
     "base_uri": "https://localhost:8080/"
    },
    "id": "oawIuwhSYtzS",
    "outputId": "bd235eec-86a8-4b9e-9b79-03960a5565b9"
   },
   "outputs": [],
   "source": [
    "from sklearn.tree import DecisionTreeClassifier\n",
    "dt = DecisionTreeClassifier()\n",
    "dt.fit(x_train_ss,y_train)\n",
    "predictions = dt.predict(x_test_ss)\n",
    "\n",
    "print('The Training Accuracy of x_train and y_train is', dt.score(x_train_ss,y_train))\n",
    "print(\"The Testing Accuracy of x_test and y_test is\", dt.score(x_test_ss,y_test))"
   ]
  },
  {
   "cell_type": "code",
   "execution_count": null,
   "metadata": {
    "colab": {
     "base_uri": "https://localhost:8080/"
    },
    "id": "-tGsvMyWA4lj",
    "outputId": "289525bf-c9a8-43a3-f9e9-86ab8c0be60e"
   },
   "outputs": [],
   "source": [
    "print(confusion_matrix(predictions,y_test))"
   ]
  },
  {
   "cell_type": "code",
   "execution_count": null,
   "metadata": {
    "colab": {
     "base_uri": "https://localhost:8080/"
    },
    "id": "boXcjWMsPnMf",
    "outputId": "d6453c5a-109e-49a0-8a8a-3bc47ee73f05"
   },
   "outputs": [],
   "source": [
    "print(classification_report(predictions,y_test))"
   ]
  },
  {
   "cell_type": "code",
   "execution_count": null,
   "metadata": {
    "colab": {
     "base_uri": "https://localhost:8080/"
    },
    "id": "fizpqTFORsO_",
    "outputId": "cb1155d0-239a-457f-d523-f12b6b16c7ef"
   },
   "outputs": [],
   "source": [
    "print(accuracy_score(predictions, y_test))"
   ]
  },
  {
   "cell_type": "code",
   "execution_count": null,
   "metadata": {
    "id": "jQeaxFcX1Y5t"
   },
   "outputs": [],
   "source": [
    "### **Tree Plot.**"
   ]
  },
  {
   "cell_type": "code",
   "execution_count": null,
   "metadata": {
    "colab": {
     "base_uri": "https://localhost:8080/",
     "height": 1000
    },
    "id": "2CYxyMXy6-9-",
    "outputId": "79a509cc-75de-424d-e2c7-b259b761f29c"
   },
   "outputs": [],
   "source": [
    "plt.figure(figsize = (15,10))\n",
    "tree.plot_tree(model, filled = True)"
   ]
  },
  {
   "cell_type": "code",
   "execution_count": null,
   "metadata": {
    "id": "Ve_lW3_O6_bG"
   },
   "outputs": [],
   "source": [
    "### Performing Cross Validation on DT Model.\n",
    "Performing cross validation on the dataset using StratifiedKFold and calculating the mean Accuracy that can be achieved by the model."
   ]
  },
  {
   "cell_type": "code",
   "execution_count": null,
   "metadata": {
    "colab": {
     "base_uri": "https://localhost:8080/"
    },
    "id": "1rWC4p-YTf6n",
    "outputId": "252fa573-53e5-4066-8987-9d9eaf1fb616"
   },
   "outputs": [],
   "source": [
    "x = pd.DataFrame(data = x_train_ss, columns = inde_vars.columns)\n",
    "y = y_train\n",
    "from sklearn.model_selection import  StratifiedKFold\n",
    "accuracy = []\n",
    "skf = StratifiedKFold(n_splits = 10, random_state = None)\n",
    "skf.get_n_splits(x,y)\n",
    "for train_index, test_index in skf.split(x,y):\n",
    "  print('Train:', train_index, 'Validation',test_index)\n",
    "  x1_train,x1_test = x.iloc[train_index],x.iloc[test_index]\n",
    "  y1_train,y1_test = y.iloc[train_index],y.iloc[test_index]\n",
    "  dt.fit(x1_train,y1_train)\n",
    "  pred = dt.predict(x1_test)\n",
    "  score = accuracy_score(pred,y1_test)\n",
    "  accuracy.append(score)\n",
    "print(accuracy)"
   ]
  },
  {
   "cell_type": "code",
   "execution_count": null,
   "metadata": {
    "id": "gpe9_dSRTgBV"
   },
   "outputs": [],
   "source": [
    "arr = np.array(accuracy)"
   ]
  },
  {
   "cell_type": "code",
   "execution_count": null,
   "metadata": {
    "colab": {
     "base_uri": "https://localhost:8080/"
    },
    "id": "i_pY23Y7TgEf",
    "outputId": "ec99b943-b2cb-48fe-f70a-e200dcb80fc8"
   },
   "outputs": [],
   "source": [
    "np.mean(arr)"
   ]
  },
  {
   "cell_type": "code",
   "execution_count": null,
   "metadata": {
    "id": "76gWzz4x8M_P"
   },
   "outputs": [],
   "source": [
    "### Hyper Parameter Tuning the model to overcome Overfitting model.\n",
    "Determining the parameters by plotting f1_score metrics.\n",
    "1. Function to calculate f1_score.\n",
    "2. Function to plot the f1_score that we have calculated.\n",
    "3. Pass the parameter values in the model and call the functions."
   ]
  },
  {
   "cell_type": "code",
   "execution_count": null,
   "metadata": {
    "id": "Zo0ZCw6ETgG6"
   },
   "outputs": [],
   "source": [
    "def cal_score(model, x1,y1,x2,y2):\n",
    "  model.fit(x1,y1)\n",
    "  p = model.predict(x1)\n",
    "  f1 = f1_score(y1, p)\n",
    "  p1 = model.predict(x2)\n",
    "  f2 = f1_score(y2,p1)\n",
    "  return f1,f2"
   ]
  },
  {
   "cell_type": "code",
   "execution_count": null,
   "metadata": {
    "id": "qi3SAMdl0CuM"
   },
   "outputs": [],
   "source": [
    "def effect(train, test, x_axis, title):\n",
    "  plt.figure(figsize = (12,10), dpi = 100)\n",
    "  plt.plot(x_axis, train, color = 'red', label = 'train_score')\n",
    "  plt.plot(x_axis, test, color = 'blue', label = 'test_score')\n",
    "  plt.legend()\n",
    "  plt.show()"
   ]
  },
  {
   "cell_type": "code",
   "execution_count": null,
   "metadata": {
    "colab": {
     "base_uri": "https://localhost:8080/",
     "height": 806
    },
    "id": "bQYH4a8z0Cxr",
    "outputId": "98b35d20-dfa2-4a0b-9018-06b52a730dc6"
   },
   "outputs": [],
   "source": [
    "max_depth = [i for i in range(1,50)]\n",
    "train = []\n",
    "test = []\n",
    "for i in max_depth:\n",
    "  model =DecisionTreeClassifier(max_depth=i, random_state=50)\n",
    "  f1,f2 = cal_score(model, x_train, y_train, x_test, y_test)\n",
    "  train.append(f1)\n",
    "  test.append(f2)\n",
    "effect(train,test, range(1,50), 'Max_Depth')"
   ]
  },
  {
   "cell_type": "code",
   "execution_count": null,
   "metadata": {
    "colab": {
     "base_uri": "https://localhost:8080/",
     "height": 799
    },
    "id": "fiD7W2P90C2s",
    "outputId": "f4a6e5ce-6a05-41f3-852c-b0c3255e85a0"
   },
   "outputs": [],
   "source": [
    "min_samples = [i for i in range(2,5000,25)]\n",
    "train = []\n",
    "test = []\n",
    "for i in min_samples:\n",
    "  model =DecisionTreeClassifier(max_depth=20, random_state=50, min_samples_split=i)\n",
    "  f1,f2 = cal_score(model, x_train, y_train, x_test, y_test)\n",
    "  train.append(f1)\n",
    "  test.append(f2)\n",
    "effect(train,test, range(2,5000,25), 'Min_Samples_Split')"
   ]
  },
  {
   "cell_type": "code",
   "execution_count": null,
   "metadata": {
    "colab": {
     "base_uri": "https://localhost:8080/",
     "height": 802
    },
    "id": "1W2efX204Yyw",
    "outputId": "bc9fc2f4-cb90-458a-deb7-d0ea37de0085"
   },
   "outputs": [],
   "source": [
    "max_leaf = [i for i in range(2,200,10)]\n",
    "train = []\n",
    "test = []\n",
    "for i in max_leaf:\n",
    "  model =DecisionTreeClassifier(max_depth=20,min_samples_split=4250,max_leaf_nodes=i, random_state=50)\n",
    "  f1,f2 = cal_score(model, x_train, y_train, x_test, y_test)\n",
    "  train.append(f1)\n",
    "  test.append(f2)\n",
    "effect(train,test, range(2,200,10), 'Max_Leaf_Nodes')"
   ]
  },
  {
   "cell_type": "code",
   "execution_count": null,
   "metadata": {
    "id": "UROQcLy19WLn"
   },
   "outputs": [],
   "source": [
    "### Hyper Parameter Tuning the model by using roc_auc_curve.\n"
   ]
  },
  {
   "cell_type": "code",
   "execution_count": null,
   "metadata": {
    "id": "EAddhtgH4Y-r"
   },
   "outputs": [],
   "source": [
    "def cal_score1(model, x1,y1,x2,y2):\n",
    "  model.fit(x1,y1)\n",
    "  p = model.predict(x1)\n",
    "  false_positive_rate, true_positive_rate, thresholds = roc_curve(y1, p)\n",
    "  roc_auc_1 = auc(false_positive_rate, true_positive_rate)\n",
    "  p1 = model.predict(x2)\n",
    "  false_positive_rate, true_positive_rate, thresholds = roc_curve(y2, p1)\n",
    "  roc_auc_2 = auc(false_positive_rate, true_positive_rate)\n",
    "  return roc_auc_1,roc_auc_2"
   ]
  },
  {
   "cell_type": "code",
   "execution_count": null,
   "metadata": {
    "id": "wHH-7CmS0C6h"
   },
   "outputs": [],
   "source": [
    "def effect1(train, test, x_axis, title):\n",
    "  plt.figure(figsize = (12,10), dpi = 100)\n",
    "  plt.plot(x_axis, train, color = 'red', label = 'train_score')\n",
    "  plt.plot(x_axis, test, color = 'blue', label = 'test_score')\n",
    "  plt.legend()\n",
    "  plt.show()"
   ]
  },
  {
   "cell_type": "code",
   "execution_count": null,
   "metadata": {
    "colab": {
     "base_uri": "https://localhost:8080/",
     "height": 806
    },
    "id": "Pep1K7pr-sHy",
    "outputId": "8c5ee3b8-0cf5-473a-ffe2-11ee22632ead"
   },
   "outputs": [],
   "source": [
    "max_depth = [i for i in range(1,100)]\n",
    "train = []\n",
    "test = []\n",
    "for i in max_depth:\n",
    "  model =DecisionTreeClassifier(max_depth=i, random_state=50)\n",
    "  roc_auc_1,roc_auc_2 = cal_score1(model, x_train, y_train, x_test, y_test)\n",
    "  train.append(roc_auc_1)\n",
    "  test.append(roc_auc_2)\n",
    "effect1(train,test, range(1,100), 'Max_Depth')"
   ]
  },
  {
   "cell_type": "code",
   "execution_count": null,
   "metadata": {
    "colab": {
     "base_uri": "https://localhost:8080/",
     "height": 799
    },
    "id": "11qZTJqw-sLe",
    "outputId": "71133c39-f8a2-46b6-fa74-4709c95c8b13"
   },
   "outputs": [],
   "source": [
    "min_sample_leaff = [i for i in range(25,4000,25)]\n",
    "train = []\n",
    "test = []\n",
    "for i in min_sample_leaff:\n",
    "  model =DecisionTreeClassifier(max_depth=20, min_samples_leaf=i, random_state=50)\n",
    "  roc_auc_1,roc_auc_2 = cal_score1(model, x_train, y_train, x_test, y_test)\n",
    "  train.append(roc_auc_1)\n",
    "  test.append(roc_auc_2)\n",
    "effect1(train,test, range(25,4000,25), 'Min_Samples_Leaf')"
   ]
  },
  {
   "cell_type": "code",
   "execution_count": null,
   "metadata": {
    "colab": {
     "base_uri": "https://localhost:8080/",
     "height": 802
    },
    "id": "u8WirR3I-sPv",
    "outputId": "80f610f7-2d8c-4916-de4c-7be6bfc66501"
   },
   "outputs": [],
   "source": [
    "max_leaf_node = [i for i in range(2,200,10)]\n",
    "train = []\n",
    "test = []\n",
    "for i in max_leaf_node:\n",
    "  model =DecisionTreeClassifier(max_depth=20,max_leaf_nodes=i, min_samples_leaf=3700, random_state=50)\n",
    "  roc_auc_1,roc_auc_2 = cal_score1(model, x_train, y_train, x_test, y_test)\n",
    "  train.append(roc_auc_1)\n",
    "  test.append(roc_auc_2)\n",
    "effect1(train,test, range(2,200,10), 'Max_Leaf_Nodes')"
   ]
  },
  {
   "cell_type": "code",
   "execution_count": null,
   "metadata": {
    "id": "1M5_OgTNLPGN"
   },
   "outputs": [],
   "source": []
  },
  {
   "cell_type": "code",
   "execution_count": null,
   "metadata": {
    "id": "fd_oUmrbO4_w"
   },
   "outputs": [],
   "source": [
    "### Hyper parameter Tuning the model using ccp(cost complexity pruning)\n",
    "which helps us to select the best values for max_depth and max_samples_leaf parameter for Decision Tree."
   ]
  },
  {
   "cell_type": "code",
   "execution_count": null,
   "metadata": {
    "id": "Sh-tJQJcLRHL"
   },
   "outputs": [],
   "source": [
    "path = model.cost_complexity_pruning_path(x_train_ss,y_train)\n",
    "ccp_alphas, impurities = path.ccp_alphas, path.impurities"
   ]
  },
  {
   "cell_type": "code",
   "execution_count": null,
   "metadata": {
    "colab": {
     "base_uri": "https://localhost:8080/"
    },
    "id": "iLhK2MzYR4FY",
    "outputId": "5f5f788c-63df-4e86-c06f-1d31e31f7e9e"
   },
   "outputs": [],
   "source": [
    "ccp_alphas"
   ]
  },
  {
   "cell_type": "code",
   "execution_count": null,
   "metadata": {
    "colab": {
     "base_uri": "https://localhost:8080/"
    },
    "id": "zFmfKWTOLRM9",
    "outputId": "dc011560-6e29-4177-bd05-fdd18c18e490"
   },
   "outputs": [],
   "source": [
    "clfs = []\n",
    "for i in ccp_alphas:\n",
    "  clf = DecisionTreeClassifier(random_state = 0, ccp_alpha=i)\n",
    "  clf.fit(x_train_ss,y_train)\n",
    "  clfs.append(clf)\n",
    "  print('Number of Nodes in the Last Tree is: {} with ccp_alpha: {}'.format(clfs[-1].tree_.node_count, ccp_alphas[-1]))"
   ]
  },
  {
   "cell_type": "code",
   "execution_count": null,
   "metadata": {
    "id": "dCQhxxpORq5p"
   },
   "outputs": [],
   "source": [
    "Plotting a graph with Respect to Accuracy score and various clfs(classifiers)"
   ]
  },
  {
   "cell_type": "code",
   "execution_count": null,
   "metadata": {
    "colab": {
     "base_uri": "https://localhost:8080/",
     "height": 626
    },
    "id": "yvpFW2XfRkI2",
    "outputId": "0597b9d2-dfe9-486a-c0c6-4f1d7380a97b"
   },
   "outputs": [],
   "source": [
    "train_set = [model.score(x_train_ss,y_train) for model in clfs]\n",
    "test_set = [model.score(x_test_ss,y_test) for model in clfs]\n",
    "\n",
    "plt.figure(figsize = (12,10), dpi = 100)\n",
    "fig,ax = plt.subplots()\n",
    "ax.plot(ccp_alphas, train_set, marker = 'o', label = 'Train', drawstyle = 'steps-post')\n",
    "ax.plot(ccp_alphas, test_set, marker = 'o', label = 'Test', drawstyle = 'steps-post')\n",
    "ax.set_xlabel('ccp_alphas')\n",
    "ax.set_ylabel('Accuracy')\n",
    "ax.set_title(\"Accuracy and ccp_alphas Distribution\")\n",
    "ax.legend()\n",
    "plt.show()"
   ]
  },
  {
   "cell_type": "code",
   "execution_count": null,
   "metadata": {
    "id": "Czdmk-8qRkT7"
   },
   "outputs": [],
   "source": []
  },
  {
   "cell_type": "code",
   "execution_count": null,
   "metadata": {
    "id": "Gvr8MyvH-Ayq"
   },
   "outputs": [],
   "source": [
    "So, After applying Hyper Parameter Tuning **With Respect to Evaluation Metrics**, our model has successfully overcomed the problem of overfitting which has occured earlier."
   ]
  },
  {
   "cell_type": "code",
   "execution_count": null,
   "metadata": {
    "id": "OVnmsQaQ-sbi"
   },
   "outputs": [],
   "source": [
    "modified_model = DecisionTreeClassifier(max_depth = 18, min_samples_split=4250, min_samples_leaf=3700, max_leaf_nodes=21)\n",
    "modified_model.fit(x_train_ss, y_train)\n",
    "pr = modified_model.predict(x_test_ss)"
   ]
  },
  {
   "cell_type": "code",
   "execution_count": null,
   "metadata": {
    "colab": {
     "base_uri": "https://localhost:8080/"
    },
    "id": "bNjYNGkE-seg",
    "outputId": "2109a3a2-6e83-443e-fa60-f102a00ac406"
   },
   "outputs": [],
   "source": [
    "print(modified_model.score(x_train_ss,y_train))\n",
    "print(modified_model.score(x_test_ss, y_test))\n",
    "print(accuracy_score(pr,y_test))"
   ]
  },
  {
   "cell_type": "code",
   "execution_count": null,
   "metadata": {
    "id": "pp-oP6tO-tsO"
   },
   "outputs": [],
   "source": [
    "### Tree Plot With Respect to Modified Model."
   ]
  },
  {
   "cell_type": "code",
   "execution_count": null,
   "metadata": {
    "colab": {
     "base_uri": "https://localhost:8080/",
     "height": 960
    },
    "id": "oFZqeVduZRzR",
    "outputId": "a1c9dfa7-b57a-4a87-ca14-5838dca6519a"
   },
   "outputs": [],
   "source": [
    "plt.figure(figsize = (15,10))\n",
    "tree.plot_tree(modified_model, filled = True)"
   ]
  },
  {
   "cell_type": "code",
   "execution_count": null,
   "metadata": {
    "id": "B-FMHEuZk2P0"
   },
   "outputs": [],
   "source": [
    "### **Evaluating Tuned Model on Test Data.**"
   ]
  },
  {
   "cell_type": "code",
   "execution_count": null,
   "metadata": {
    "id": "SA77kZcnlAxt"
   },
   "outputs": [],
   "source": [
    "hash = modified_model.predict(lucas)"
   ]
  },
  {
   "cell_type": "code",
   "execution_count": null,
   "metadata": {
    "id": "lpxXOQlFlA3F"
   },
   "outputs": [],
   "source": [
    "print(accuracy_score(hash,resampled_y))"
   ]
  },
  {
   "cell_type": "code",
   "execution_count": null,
   "metadata": {
    "id": "GIHECYPHlA9w"
   },
   "outputs": [],
   "source": [
    "print(classification_report(hash,resampled_y))"
   ]
  },
  {
   "cell_type": "code",
   "execution_count": null,
   "metadata": {
    "id": "dCSm7vVplPEs"
   },
   "outputs": [],
   "source": [
    "print(confusion_matrix(hash,resampled_y))"
   ]
  },
  {
   "cell_type": "code",
   "execution_count": null,
   "metadata": {
    "id": "HeLftmDe2DEc"
   },
   "outputs": [],
   "source": [
    "### Verifying With Respect to ccp_alpha value."
   ]
  },
  {
   "cell_type": "code",
   "execution_count": null,
   "metadata": {
    "id": "I4_H6szzlPJq"
   },
   "outputs": [],
   "source": [
    "pathh = df.cost_complexity_pruning_path(x_train_ss,y_train)\n",
    "ccp_alphass, impurities = path.ccp_alphas, path.impurities"
   ]
  },
  {
   "cell_type": "code",
   "execution_count": null,
   "metadata": {
    "id": "cEL4ow4elPQ_"
   },
   "outputs": [],
   "source": [
    "clfss = []\n",
    "for i in ccp_alphass:\n",
    "  clff = DecisionTreeClassifier(max_depth = 18, min_samples_split=4250, min_samples_leaf=3700, max_leaf_nodes=21, random_state = 0, ccp_alpha=i)\n",
    "  clff.fit(x_train_ss,y_train)\n",
    "  clfss.append(clf)\n",
    "  print('Number of Nodes in the Last Tree is: {} with ccp_alpha: {}'.format(clfs[-1].tree_.node_count, ccp_alphas[-1]))"
   ]
  },
  {
   "cell_type": "code",
   "execution_count": null,
   "metadata": {
    "id": "MIoJNyjFlahV"
   },
   "outputs": [],
   "source": [
    "train_sett = [model.score(x_train_ss,y_train) for model in clfs]\n",
    "test_sett = [model.score(lucas,resampled_y) for model in clfs]\n",
    "\n",
    "plt.figure(figsize = (12,10), dpi = 100)\n",
    "fig,ax = plt.subplots()\n",
    "ax.plot(ccp_alphass, train_sett, marker = '*', label = 'Train', drawstyle = 'steps-post')\n",
    "ax.plot(ccp_alphass, test_sett, marker = '*', label = 'Test', drawstyle = 'steps-post')\n",
    "ax.set_xlabel('ccp_alphas')\n",
    "ax.set_ylabel('Accuracy')\n",
    "ax.set_title(\"Accuracy and ccp_alphas Distribution\")\n",
    "ax.legend()\n",
    "plt.show()"
   ]
  },
  {
   "cell_type": "code",
   "execution_count": null,
   "metadata": {
    "id": "Iw17nxcGlamj"
   },
   "outputs": [],
   "source": [
    "mod_model = DecisionTreeClassifier(random_state = 0, ccp_alpha = 0.04)\n",
    "mod_model.fit(x_train_ss,y_train)"
   ]
  },
  {
   "cell_type": "code",
   "execution_count": null,
   "metadata": {
    "id": "cy4TYrirlasx"
   },
   "outputs": [],
   "source": [
    "predicate = mod_model.predict(lucas)"
   ]
  },
  {
   "cell_type": "code",
   "execution_count": null,
   "metadata": {
    "id": "4s8wxdmplay7"
   },
   "outputs": [],
   "source": [
    "print(accuracy_score(predicate,resampled_y))"
   ]
  },
  {
   "cell_type": "code",
   "execution_count": null,
   "metadata": {
    "id": "Le7q5PlK2OIS"
   },
   "outputs": [],
   "source": [
    "### Tree plot with respect to modified_model"
   ]
  },
  {
   "cell_type": "code",
   "execution_count": null,
   "metadata": {
    "id": "un0Z0nhalwWx"
   },
   "outputs": [],
   "source": [
    "plt.figure(figsize = (12,10))\n",
    "tree.plot_tree(mod_model, filled=True)"
   ]
  },
  {
   "cell_type": "code",
   "execution_count": null,
   "metadata": {
    "id": "30hGU4AP-920"
   },
   "outputs": [],
   "source": [
    "## **Logistic Regression**"
   ]
  },
  {
   "cell_type": "code",
   "execution_count": null,
   "metadata": {
    "id": "AnUurakSRsSF"
   },
   "outputs": [],
   "source": [
    "from sklearn.linear_model import LogisticRegression\n",
    "lg = LogisticRegression()\n",
    "lg.fit(x_train_ss, y_train)\n",
    "lg_pred = lg.predict(x_test_ss)\n",
    "predicted_values = lg.predict_proba(x_test_ss)"
   ]
  },
  {
   "cell_type": "code",
   "execution_count": null,
   "metadata": {
    "colab": {
     "base_uri": "https://localhost:8080/"
    },
    "id": "zLqNTCulmbO8",
    "outputId": "38ad2133-afc7-435a-ad1a-88b541911508"
   },
   "outputs": [],
   "source": [
    "recall_score(y_test, lg_pred)"
   ]
  },
  {
   "cell_type": "code",
   "execution_count": null,
   "metadata": {
    "colab": {
     "base_uri": "https://localhost:8080/"
    },
    "id": "z0MzAw9LmxnH",
    "outputId": "7ff205e3-6108-4ff6-90f9-11ae0e1c5a44"
   },
   "outputs": [],
   "source": [
    "precision_score(y_test,lg_pred)"
   ]
  },
  {
   "cell_type": "code",
   "execution_count": null,
   "metadata": {
    "colab": {
     "base_uri": "https://localhost:8080/"
    },
    "id": "mQemKkwvmxqF",
    "outputId": "6fd2ec7c-8941-4429-c845-e075981331e6"
   },
   "outputs": [],
   "source": [
    "f1_score(y_test,lg_pred)"
   ]
  },
  {
   "cell_type": "code",
   "execution_count": null,
   "metadata": {
    "id": "spqDPl6upuqU"
   },
   "outputs": [],
   "source": [
    "y_testt = y_test.squeeze()"
   ]
  },
  {
   "cell_type": "code",
   "execution_count": null,
   "metadata": {
    "id": "Fpt-_FpVoCuu"
   },
   "outputs": [],
   "source": [
    "precision_points, recall_points, threshold_points = precision_recall_curve(y_testt, predicted_values[:,1]) "
   ]
  },
  {
   "cell_type": "code",
   "execution_count": null,
   "metadata": {
    "colab": {
     "base_uri": "https://localhost:8080/"
    },
    "id": "xVYPwEm_rCTh",
    "outputId": "38699dcf-241d-4b74-cffd-2ed6645c89b7"
   },
   "outputs": [],
   "source": [
    "precision_points.shape, recall_points.shape, threshold_points.shape"
   ]
  },
  {
   "cell_type": "code",
   "execution_count": null,
   "metadata": {
    "colab": {
     "base_uri": "https://localhost:8080/"
    },
    "id": "uMYjxe_4sWYR",
    "outputId": "12dd9f00-a882-487a-ad53-7f0a9a7fe27f"
   },
   "outputs": [],
   "source": [
    "precision_points"
   ]
  },
  {
   "cell_type": "code",
   "execution_count": null,
   "metadata": {
    "colab": {
     "base_uri": "https://localhost:8080/"
    },
    "id": "4pWwPKxUsWcA",
    "outputId": "5a9b4217-aa61-4c35-a2bc-0250c21c6323"
   },
   "outputs": [],
   "source": [
    "recall_points"
   ]
  },
  {
   "cell_type": "code",
   "execution_count": null,
   "metadata": {
    "colab": {
     "base_uri": "https://localhost:8080/"
    },
    "id": "2GGC6iIZsWfn",
    "outputId": "1adbf6eb-4324-4d8a-8311-48e4ea66d68c"
   },
   "outputs": [],
   "source": [
    "threshold_points"
   ]
  },
  {
   "cell_type": "code",
   "execution_count": null,
   "metadata": {
    "colab": {
     "base_uri": "https://localhost:8080/",
     "height": 812
    },
    "id": "HJgbP4ueonZn",
    "outputId": "00d18703-a0fa-4106-9a65-894797db1c78"
   },
   "outputs": [],
   "source": [
    "plt.figure(figsize = (12,10), dpi = 100)\n",
    "plt.plot(threshold_points, recall_points[:-1], color = 'red')\n",
    "plt.plot(threshold_points, precision_points[:-1], color = 'blue')\n",
    "plt.show()"
   ]
  },
  {
   "cell_type": "code",
   "execution_count": null,
   "metadata": {
    "id": "_WZl9Aadoe9R"
   },
   "outputs": [],
   "source": [
    "### Evaluating LogisticRegresssion using roc_auc_score metric."
   ]
  },
  {
   "cell_type": "code",
   "execution_count": null,
   "metadata": {
    "colab": {
     "base_uri": "https://localhost:8080/"
    },
    "id": "I2iTYcj5ongU",
    "outputId": "650d03a7-b02a-4701-d3b9-2f224e36d283"
   },
   "outputs": [],
   "source": [
    "tpr,fpr, threshold = roc_curve(y_testt, predicted_values[:,1])\n",
    "tpr.shape, fpr.shape, threshold.shape"
   ]
  },
  {
   "cell_type": "code",
   "execution_count": null,
   "metadata": {
    "colab": {
     "base_uri": "https://localhost:8080/",
     "height": 848
    },
    "id": "l77NAgnoonj2",
    "outputId": "af3f1707-5d1a-4328-d3ef-503634090a52"
   },
   "outputs": [],
   "source": [
    "plt.figure(figsize = (12,10), dpi = 100)\n",
    "plt.plot(tpr,fpr, color = 'red')\n",
    "plt.plot([0,1],[0,1], color = 'blue')\n",
    "plt.title(\"roc_curve\")\n",
    "plt.show()\n",
    "\n",
    "print(roc_auc_score(y_test, predicted_values[:,1]))"
   ]
  },
  {
   "cell_type": "code",
   "execution_count": null,
   "metadata": {
    "colab": {
     "base_uri": "https://localhost:8080/"
    },
    "id": "F5wBt-C6RsV2",
    "outputId": "42e29e2e-e4fe-4906-a9e7-6aa21717a59d"
   },
   "outputs": [],
   "source": [
    "print(\"Training Accuracy \", lg.score(x_train_ss,y_train))\n",
    "print(\"Testing Accuracy \", lg.score(x_test_ss,y_test))"
   ]
  },
  {
   "cell_type": "code",
   "execution_count": null,
   "metadata": {
    "colab": {
     "base_uri": "https://localhost:8080/"
    },
    "id": "ZYmTuvH1RsZD",
    "outputId": "e4425ecb-a50c-4def-c459-075da54a5e28"
   },
   "outputs": [],
   "source": [
    "print(classification_report(lg_pred, y_test))"
   ]
  },
  {
   "cell_type": "code",
   "execution_count": null,
   "metadata": {
    "colab": {
     "base_uri": "https://localhost:8080/"
    },
    "id": "k4BFP3JLRsbg",
    "outputId": "e6e10469-9901-4717-89d2-ddf6e2cd9fcd"
   },
   "outputs": [],
   "source": [
    "print(confusion_matrix(lg_pred, y_test))"
   ]
  },
  {
   "cell_type": "code",
   "execution_count": null,
   "metadata": {
    "colab": {
     "base_uri": "https://localhost:8080/"
    },
    "id": "AVbkBKAFS_Gr",
    "outputId": "e3f2be6d-b2cd-4cf4-cc97-2a045ee071e9"
   },
   "outputs": [],
   "source": [
    "print(accuracy_score(lg_pred,y_test))"
   ]
  },
  {
   "cell_type": "code",
   "execution_count": null,
   "metadata": {
    "id": "-zYjk6TZpZDI"
   },
   "outputs": [],
   "source": [
    "### Performing Cross Validating LR Model."
   ]
  },
  {
   "cell_type": "code",
   "execution_count": null,
   "metadata": {
    "colab": {
     "base_uri": "https://localhost:8080/"
    },
    "id": "leln-h0wZKm3",
    "outputId": "df2d99e3-5876-4680-a400-835de25a5798"
   },
   "outputs": [],
   "source": [
    "x = pd.DataFrame(data = x_train_ss, columns = inde_vars.columns)\n",
    "y = y_train\n",
    "from sklearn.model_selection import  StratifiedKFold\n",
    "accuracy1 = []\n",
    "skf = StratifiedKFold(n_splits = 10, random_state = None)\n",
    "skf.get_n_splits(x,y)\n",
    "for train_index, test_index in skf.split(x,y):\n",
    "  print('Train:', train_index, 'Validation',test_index)\n",
    "  x1_train,x1_test = x.iloc[train_index],x.iloc[test_index]\n",
    "  y1_train,y1_test = y.iloc[train_index],y.iloc[test_index]\n",
    "  lg.fit(x1_train,y1_train)\n",
    "  pred = lg.predict(x1_test)\n",
    "  score = accuracy_score(pred,y1_test)\n",
    "  accuracy1.append(score)\n",
    "print(accuracy1)"
   ]
  },
  {
   "cell_type": "code",
   "execution_count": null,
   "metadata": {
    "id": "4cxrVstQpkKv"
   },
   "outputs": [],
   "source": [
    "### Hyper Parameter Tuning Logistic regression model, using RandomizedSearchCV tool."
   ]
  },
  {
   "cell_type": "code",
   "execution_count": null,
   "metadata": {
    "colab": {
     "base_uri": "https://localhost:8080/"
    },
    "id": "MBfAxsvMJDjH",
    "outputId": "fb882cd3-32ee-474b-f842-6c1786c26d38"
   },
   "outputs": [],
   "source": [
    "lo = LogisticRegression()\n",
    "lo"
   ]
  },
  {
   "cell_type": "code",
   "execution_count": null,
   "metadata": {
    "id": "F3RdWDAAJDvA"
   },
   "outputs": [],
   "source": [
    "parameters = {'penalty':['l1','l2','elasticnet','none'],\n",
    "              'solver':['newton-cg','lbfgs','sag','saga'],\n",
    "              'max_iter':[i for i in range(100,2000,100)], \n",
    "              'warm_start':['True','False']}\n"
   ]
  },
  {
   "cell_type": "code",
   "execution_count": null,
   "metadata": {
    "colab": {
     "base_uri": "https://localhost:8080/"
    },
    "id": "bjYRRxiTLGfn",
    "outputId": "069c4711-17f3-473f-a5a5-ee7e2b213477"
   },
   "outputs": [],
   "source": [
    "print(parameters)"
   ]
  },
  {
   "cell_type": "code",
   "execution_count": null,
   "metadata": {
    "id": "5rGwJ9lkLGkz"
   },
   "outputs": [],
   "source": [
    "lg_tuned_model = RandomizedSearchCV(estimator=lo, param_distributions = parameters, scoring='accuracy', n_jobs = -1, cv = 10, n_iter = 10, verbose = 2, random_state = 50)"
   ]
  },
  {
   "cell_type": "code",
   "execution_count": null,
   "metadata": {
    "colab": {
     "base_uri": "https://localhost:8080/"
    },
    "id": "ZiJBi7bJLGpy",
    "outputId": "df438715-3302-4bfe-d80d-34d7c160f076"
   },
   "outputs": [],
   "source": [
    "lg_tuned_model.fit(x_train_ss,y_train)"
   ]
  },
  {
   "cell_type": "code",
   "execution_count": null,
   "metadata": {
    "colab": {
     "base_uri": "https://localhost:8080/"
    },
    "id": "2mtLadUkJDyg",
    "outputId": "00676120-0f0a-4b7d-9297-4d7573b97115"
   },
   "outputs": [],
   "source": [
    "lg_tuned_model.best_params_"
   ]
  },
  {
   "cell_type": "code",
   "execution_count": null,
   "metadata": {
    "colab": {
     "base_uri": "https://localhost:8080/"
    },
    "id": "w9wtNAuVJD5U",
    "outputId": "953bb705-1186-45ab-887b-a47d55000ab1"
   },
   "outputs": [],
   "source": [
    "lg_tuned_model.get_params"
   ]
  },
  {
   "cell_type": "code",
   "execution_count": null,
   "metadata": {
    "colab": {
     "base_uri": "https://localhost:8080/"
    },
    "id": "ScbR4vEIKnNL",
    "outputId": "6c13c5ac-cb3a-40ae-b2f2-95461aa03151"
   },
   "outputs": [],
   "source": [
    "lg_tuned_model.best_score_"
   ]
  },
  {
   "cell_type": "code",
   "execution_count": null,
   "metadata": {
    "id": "W1pn12qWQvOQ"
   },
   "outputs": [],
   "source": [
    "### Testing the Accuracy using Tuned LR Model."
   ]
  },
  {
   "cell_type": "code",
   "execution_count": null,
   "metadata": {
    "colab": {
     "base_uri": "https://localhost:8080/"
    },
    "id": "GQcUO8hDKnTM",
    "outputId": "664f56d6-46e0-4d43-a035-abc9ffa3d3ac"
   },
   "outputs": [],
   "source": [
    "lr = LogisticRegression(max_iter = 1300,\n",
    "                        penalty='l2',\n",
    "                        solver= 'newton-cg',\n",
    "                        warm_start=True)\n",
    "lr.fit(x_train_ss,y_train)"
   ]
  },
  {
   "cell_type": "code",
   "execution_count": null,
   "metadata": {
    "colab": {
     "base_uri": "https://localhost:8080/"
    },
    "id": "ZeMOLzBSKneX",
    "outputId": "6cdeb71d-9ff0-48a7-e247-5b57c19aedcc"
   },
   "outputs": [],
   "source": [
    "tuned_pred = lr.predict(x_test_ss)\n",
    "print(accuracy_score(tuned_pred,y_test))"
   ]
  },
  {
   "cell_type": "code",
   "execution_count": null,
   "metadata": {
    "id": "iph6h78IrULH"
   },
   "outputs": [],
   "source": [
    "### **Evaluating Tuned Model on Test Data.**"
   ]
  },
  {
   "cell_type": "code",
   "execution_count": null,
   "metadata": {
    "id": "R5ofOZ4qrSaV"
   },
   "outputs": [],
   "source": [
    "jim = lr.predict(lucas)\n",
    "print(accuracy_score(jim, resampled_y))"
   ]
  },
  {
   "cell_type": "code",
   "execution_count": null,
   "metadata": {
    "id": "ax7LHeb2rShQ"
   },
   "outputs": [],
   "source": [
    "print(roc_auc_score(jim, resampled_y))"
   ]
  },
  {
   "cell_type": "code",
   "execution_count": null,
   "metadata": {
    "id": "MdcU66h5SieL"
   },
   "outputs": [],
   "source": [
    "## **Random Forest Classifier**"
   ]
  },
  {
   "cell_type": "code",
   "execution_count": null,
   "metadata": {
    "id": "XYyHUzPJxoDn"
   },
   "outputs": [],
   "source": [
    "from sklearn.ensemble import RandomForestClassifier\n",
    "rf = RandomForestClassifier()\n",
    "rf.fit(x_train_ss, y_train)\n",
    "rf_pred = rf.predict(x_test_ss)"
   ]
  },
  {
   "cell_type": "code",
   "execution_count": null,
   "metadata": {
    "colab": {
     "base_uri": "https://localhost:8080/"
    },
    "id": "P4R4A47BxoHY",
    "outputId": "75797506-37e5-4d66-df7a-c12d2fb1bb3e"
   },
   "outputs": [],
   "source": [
    "print(\"Training accuracy is\", rf.score(x_train_ss, y_train))\n",
    "print('Testing Accuracy is', rf.score(x_test_ss, y_test))\n",
    "print(accuracy_score(y_test, re_pred))"
   ]
  },
  {
   "cell_type": "code",
   "execution_count": null,
   "metadata": {
    "colab": {
     "base_uri": "https://localhost:8080/"
    },
    "id": "jNE4aioIxoLi",
    "outputId": "48b78bcc-61ce-4fbe-f08b-16c83ca3818b"
   },
   "outputs": [],
   "source": [
    "print(confusion_matrix(y_test, rf_pred))"
   ]
  },
  {
   "cell_type": "code",
   "execution_count": null,
   "metadata": {
    "colab": {
     "base_uri": "https://localhost:8080/"
    },
    "id": "H2yL0qQNxoPD",
    "outputId": "f6ea993e-d9a7-4773-bb44-6580fea506d3"
   },
   "outputs": [],
   "source": [
    "print(classification_report(y_test, rf_pred))"
   ]
  },
  {
   "cell_type": "code",
   "execution_count": null,
   "metadata": {
    "colab": {
     "base_uri": "https://localhost:8080/"
    },
    "id": "4lHOUyXQxoSF",
    "outputId": "5136980f-3fef-4197-99cf-281e27080da0"
   },
   "outputs": [],
   "source": [
    "recall_score(y_test, rf_pred)"
   ]
  },
  {
   "cell_type": "code",
   "execution_count": null,
   "metadata": {
    "colab": {
     "base_uri": "https://localhost:8080/"
    },
    "id": "YhozV8bcxoVJ",
    "outputId": "710eec63-f41a-4b4e-dec5-355558d2c3eb"
   },
   "outputs": [],
   "source": [
    "precision_score(y_test, rf_pred)"
   ]
  },
  {
   "cell_type": "code",
   "execution_count": null,
   "metadata": {
    "colab": {
     "base_uri": "https://localhost:8080/"
    },
    "id": "YuEPmUmbxoYH",
    "outputId": "fe69bf43-b4d8-4429-9ae8-27533b698a67"
   },
   "outputs": [],
   "source": [
    "f1_score(y_test, rf_pred)"
   ]
  },
  {
   "cell_type": "code",
   "execution_count": null,
   "metadata": {
    "id": "hxwliN363PS0"
   },
   "outputs": [],
   "source": [
    "### Performing Cross Validation on RFC Model."
   ]
  },
  {
   "cell_type": "code",
   "execution_count": null,
   "metadata": {
    "colab": {
     "base_uri": "https://localhost:8080/"
    },
    "id": "2qzcKEhgxobp",
    "outputId": "ebd4d056-80a1-4e08-ca08-d5e4b9dd860e"
   },
   "outputs": [],
   "source": [
    "x = pd.DataFrame(data = x_train_ss, columns = inde_vars.columns)\n",
    "y = y_train\n",
    "from sklearn.model_selection import  StratifiedKFold\n",
    "accuracy2 = []\n",
    "skf = StratifiedKFold(n_splits = 10, random_state = None)\n",
    "skf.get_n_splits(x,y)\n",
    "for train_index, test_index in skf.split(x,y):\n",
    "  print('Train:', train_index, 'Validation',test_index)\n",
    "  x1_train,x1_test = x.iloc[train_index],x.iloc[test_index]\n",
    "  y1_train,y1_test = y.iloc[train_index],y.iloc[test_index]\n",
    "  model3.fit(x1_train,y1_train)\n",
    "  pred = model3.predict(x1_test)\n",
    "  score = accuracy_score(pred,y1_test)\n",
    "  accuracy2.append(score)\n",
    "print(accuracy2)"
   ]
  },
  {
   "cell_type": "code",
   "execution_count": null,
   "metadata": {
    "id": "3g59_e2zTj6X"
   },
   "outputs": [],
   "source": [
    "### Hyper Parameter Tuning Random Forest Model Using RandomizedSearchCV."
   ]
  },
  {
   "cell_type": "code",
   "execution_count": null,
   "metadata": {
    "colab": {
     "base_uri": "https://localhost:8080/"
    },
    "id": "PnM8MiD5TyVS",
    "outputId": "5f3ba054-6393-418a-e43a-ba6d81b73656"
   },
   "outputs": [],
   "source": [
    "rfc = RandomForestClassifier()\n",
    "rfc"
   ]
  },
  {
   "cell_type": "code",
   "execution_count": null,
   "metadata": {
    "colab": {
     "base_uri": "https://localhost:8080/"
    },
    "id": "u-EjemLqTi0g",
    "outputId": "a1cb20a7-afea-42d5-bb2c-162d8c38d1ca"
   },
   "outputs": [],
   "source": [
    "param = {'n_estimators' : [i for i in range(100,1500,100)],\n",
    "         'max_depth' : [i for i in range(10,100,10)],\n",
    "         'max_features' : ['auto','sqrt','log2'],\n",
    "         'min_samples_split' :  np.linspace(0.1,1.0,10, endpoint = True),\n",
    "         'min_samples_leaf' : np.linspace(0.1,0.5,5, endpoint =True),\n",
    "         'warm_start' : ['True', 'False']\n",
    "}\n",
    "\n",
    "param"
   ]
  },
  {
   "cell_type": "code",
   "execution_count": null,
   "metadata": {
    "id": "ZxojTEUfTi44"
   },
   "outputs": [],
   "source": [
    "rf_tuned_model = RandomizedSearchCV(estimator =rfc, param_distributions=param, scoring = 'roc_auc', verbose = 2, n_jobs = -1, random_state = 50)"
   ]
  },
  {
   "cell_type": "code",
   "execution_count": null,
   "metadata": {
    "colab": {
     "base_uri": "https://localhost:8080/"
    },
    "id": "r9hzXdfZTi8v",
    "outputId": "58f13639-d8e1-4be1-afe5-2415a74d8aa4"
   },
   "outputs": [],
   "source": [
    "rf_tuned_model.fit(x_train_ss,y_train)"
   ]
  },
  {
   "cell_type": "code",
   "execution_count": null,
   "metadata": {
    "colab": {
     "base_uri": "https://localhost:8080/"
    },
    "id": "GrmEDxApjhqH",
    "outputId": "3cbd785b-bef6-468b-aa42-9a72f0b6d67d"
   },
   "outputs": [],
   "source": [
    "rf_tuned_model.best_score_"
   ]
  },
  {
   "cell_type": "code",
   "execution_count": null,
   "metadata": {
    "colab": {
     "base_uri": "https://localhost:8080/"
    },
    "id": "fnWjXVtPGqbB",
    "outputId": "d6664ce3-46c5-4b89-ee5f-d747758e616a"
   },
   "outputs": [],
   "source": [
    "rf_tuned_model.get_params"
   ]
  },
  {
   "cell_type": "code",
   "execution_count": null,
   "metadata": {
    "colab": {
     "base_uri": "https://localhost:8080/"
    },
    "id": "kHJNIwOHGqgC",
    "outputId": "261d6915-b8e0-41d0-87b1-88c6e6070d0c"
   },
   "outputs": [],
   "source": [
    "rf_tuned_model.best_estimator_"
   ]
  },
  {
   "cell_type": "code",
   "execution_count": null,
   "metadata": {
    "id": "JWjHDbw1TYJF"
   },
   "outputs": [],
   "source": [
    "Before Tuning the Random Forest Model."
   ]
  },
  {
   "cell_type": "code",
   "execution_count": null,
   "metadata": {
    "colab": {
     "base_uri": "https://localhost:8080/"
    },
    "id": "dq-zmmjaS7vp",
    "outputId": "61876085-10a6-4277-93c8-8712f15466f0"
   },
   "outputs": [],
   "source": [
    "dwight = rf.predict(lucas)\n",
    "print(accuracy_score(dwight, resampled_y))"
   ]
  },
  {
   "cell_type": "code",
   "execution_count": null,
   "metadata": {
    "id": "CkX0W1GqTcwq"
   },
   "outputs": [],
   "source": [
    "### **Evaluating Tuned Model on Test Data.**"
   ]
  },
  {
   "cell_type": "code",
   "execution_count": null,
   "metadata": {
    "id": "RrA4_aIBTecC"
   },
   "outputs": [],
   "source": [
    "kite = RandomForestClassifier(bootstrap=True, ccp_alpha=0.0, class_weight=None,\n",
    "                       criterion='gini', max_depth=40, max_features='sqrt',\n",
    "                       max_leaf_nodes=None, max_samples=None,\n",
    "                       min_impurity_decrease=0.0, min_impurity_split=None,\n",
    "                       min_samples_leaf=0.1, min_samples_split=0.1,\n",
    "                       min_weight_fraction_leaf=0.0, n_estimators=100,\n",
    "                       n_jobs=None, oob_score=False, random_state=None,\n",
    "                       verbose=0, warm_start='True')"
   ]
  },
  {
   "cell_type": "code",
   "execution_count": null,
   "metadata": {
    "colab": {
     "base_uri": "https://localhost:8080/"
    },
    "id": "QWDUceghMEgk",
    "outputId": "e7b11046-e154-4685-c89c-1f8e2f5bca9f"
   },
   "outputs": [],
   "source": [
    "kite.fit(x_train_ss,y_train)"
   ]
  },
  {
   "cell_type": "code",
   "execution_count": null,
   "metadata": {
    "colab": {
     "base_uri": "https://localhost:8080/"
    },
    "id": "ZrxjPYtWME7g",
    "outputId": "3da893f2-d999-4e82-8675-1ac5798207ec"
   },
   "outputs": [],
   "source": [
    "lion = kite.predict(lucas)\n",
    "print(accuracy_score(lion,resampled_y))"
   ]
  },
  {
   "cell_type": "code",
   "execution_count": null,
   "metadata": {
    "id": "MLMBnS5mMm4L"
   },
   "outputs": [],
   "source": []
  }
 ],
 "metadata": {
  "colab": {
   "collapsed_sections": [],
   "name": "Brain Stroke.ipynb",
   "provenance": [],
   "toc_visible": true
  },
  "kernelspec": {
   "display_name": "Python 3",
   "language": "python",
   "name": "python3"
  },
  "language_info": {
   "codemirror_mode": {
    "name": "ipython",
    "version": 3
   },
   "file_extension": ".py",
   "mimetype": "text/x-python",
   "name": "python",
   "nbconvert_exporter": "python",
   "pygments_lexer": "ipython3",
   "version": "3.8.5"
  },
  "widgets": {
   "application/vnd.jupyter.widget-state+json": {
    "120ddc49db614d059d4aebabb364a8b7": {
     "model_module": "@jupyter-widgets/base",
     "model_name": "LayoutModel",
     "state": {
      "_model_module": "@jupyter-widgets/base",
      "_model_module_version": "1.2.0",
      "_model_name": "LayoutModel",
      "_view_count": null,
      "_view_module": "@jupyter-widgets/base",
      "_view_module_version": "1.2.0",
      "_view_name": "LayoutView",
      "align_content": null,
      "align_items": null,
      "align_self": null,
      "border": null,
      "bottom": null,
      "display": null,
      "flex": null,
      "flex_flow": null,
      "grid_area": null,
      "grid_auto_columns": null,
      "grid_auto_flow": null,
      "grid_auto_rows": null,
      "grid_column": null,
      "grid_gap": null,
      "grid_row": null,
      "grid_template_areas": null,
      "grid_template_columns": null,
      "grid_template_rows": null,
      "height": null,
      "justify_content": null,
      "justify_items": null,
      "left": null,
      "margin": null,
      "max_height": null,
      "max_width": null,
      "min_height": null,
      "min_width": null,
      "object_fit": null,
      "object_position": null,
      "order": null,
      "overflow": null,
      "overflow_x": null,
      "overflow_y": null,
      "padding": null,
      "right": null,
      "top": null,
      "visibility": null,
      "width": null
     }
    },
    "1b4d6d7b2c724f229ee067e841e5613a": {
     "model_module": "@jupyter-widgets/output",
     "model_name": "OutputModel",
     "state": {
      "_dom_classes": [],
      "_model_module": "@jupyter-widgets/output",
      "_model_module_version": "1.0.0",
      "_model_name": "OutputModel",
      "_view_count": null,
      "_view_module": "@jupyter-widgets/output",
      "_view_module_version": "1.0.0",
      "_view_name": "OutputView",
      "layout": "IPY_MODEL_120ddc49db614d059d4aebabb364a8b7",
      "msg_id": "",
      "outputs": [
       {
        "metadata": {
         "tags": []
        },
        "output_type": "display_data",
        "text/plain": "0    35541\n1      443\nName: stroke, dtype: int64"
       }
      ]
     }
    },
    "22c2d791a08b49679fd06d9bb1bbc67b": {
     "model_module": "@jupyter-widgets/output",
     "model_name": "OutputModel",
     "state": {
      "_dom_classes": [],
      "_model_module": "@jupyter-widgets/output",
      "_model_module_version": "1.0.0",
      "_model_name": "OutputModel",
      "_view_count": null,
      "_view_module": "@jupyter-widgets/output",
      "_view_module_version": "1.0.0",
      "_view_name": "OutputView",
      "layout": "IPY_MODEL_8b379af0bcbc4cab8e18e9d6bb1ba828",
      "msg_id": "",
      "outputs": [
       {
        "metadata": {
         "tags": []
        },
        "output_type": "display_data",
        "text/plain": "(0    13690\n 1       44\n Name: stroke, dtype: int64, never smoked       11124\n smokes              1437\n formerly smoked     1173\n Name: smoking_status, dtype: int64)"
       }
      ]
     }
    },
    "24424e941f674b4dba03739f448d265f": {
     "model_module": "@jupyter-widgets/controls",
     "model_name": "IntSliderModel",
     "state": {
      "_dom_classes": [],
      "_model_module": "@jupyter-widgets/controls",
      "_model_module_version": "1.5.0",
      "_model_name": "IntSliderModel",
      "_view_count": null,
      "_view_module": "@jupyter-widgets/controls",
      "_view_module_version": "1.5.0",
      "_view_name": "IntSliderView",
      "continuous_update": true,
      "description": "y",
      "description_tooltip": null,
      "disabled": false,
      "layout": "IPY_MODEL_cf3948d73b804fc786a11f59c1817948",
      "max": 1,
      "min": 0,
      "orientation": "horizontal",
      "readout": true,
      "readout_format": "d",
      "step": 1,
      "style": "IPY_MODEL_30bf48c05d664ad79995b81fb489e522",
      "value": 0
     }
    },
    "30bf48c05d664ad79995b81fb489e522": {
     "model_module": "@jupyter-widgets/controls",
     "model_name": "SliderStyleModel",
     "state": {
      "_model_module": "@jupyter-widgets/controls",
      "_model_module_version": "1.5.0",
      "_model_name": "SliderStyleModel",
      "_view_count": null,
      "_view_module": "@jupyter-widgets/base",
      "_view_module_version": "1.2.0",
      "_view_name": "StyleView",
      "description_width": "",
      "handle_color": null
     }
    },
    "3d5fa49917f04784a9c111ca7e2a2c60": {
     "model_module": "@jupyter-widgets/output",
     "model_name": "OutputModel",
     "state": {
      "_dom_classes": [],
      "_model_module": "@jupyter-widgets/output",
      "_model_module_version": "1.0.0",
      "_model_name": "OutputModel",
      "_view_count": null,
      "_view_module": "@jupyter-widgets/output",
      "_view_module_version": "1.0.0",
      "_view_name": "OutputView",
      "layout": "IPY_MODEL_b21e5c76002c4dc7b7bdc5577524bbc1",
      "msg_id": "",
      "outputs": [
       {
        "metadata": {
         "tags": []
        },
        "output_type": "display_data",
        "text/plain": "0    40517\n1      744\nName: stroke, dtype: int64"
       }
      ]
     }
    },
    "3e8fc55cdcd043b29eb6d8c311bc969b": {
     "model_module": "@jupyter-widgets/controls",
     "model_name": "VBoxModel",
     "state": {
      "_dom_classes": [
       "widget-interact"
      ],
      "_model_module": "@jupyter-widgets/controls",
      "_model_module_version": "1.5.0",
      "_model_name": "VBoxModel",
      "_view_count": null,
      "_view_module": "@jupyter-widgets/controls",
      "_view_module_version": "1.5.0",
      "_view_name": "VBoxView",
      "box_style": "",
      "children": [
       "IPY_MODEL_7e84494302294dfe9641c1b49d4ac280",
       "IPY_MODEL_3d5fa49917f04784a9c111ca7e2a2c60"
      ],
      "layout": "IPY_MODEL_f0a214a1e1ab4cc08814d638a5b222b2"
     }
    },
    "4b2f21dbb5ce411d99eebecbaccb23e7": {
     "model_module": "@jupyter-widgets/controls",
     "model_name": "TextModel",
     "state": {
      "_dom_classes": [],
      "_model_module": "@jupyter-widgets/controls",
      "_model_module_version": "1.5.0",
      "_model_name": "TextModel",
      "_view_count": null,
      "_view_module": "@jupyter-widgets/controls",
      "_view_module_version": "1.5.0",
      "_view_name": "TextView",
      "continuous_update": true,
      "description": "z",
      "description_tooltip": null,
      "disabled": false,
      "layout": "IPY_MODEL_be0e66c75a92424ba8cbe08913509ad5",
      "placeholder": "​",
      "style": "IPY_MODEL_e12cf225896344e2965c23ad675511fc",
      "value": "No"
     }
    },
    "4dabe853471f4308839a12bd810605df": {
     "model_module": "@jupyter-widgets/base",
     "model_name": "LayoutModel",
     "state": {
      "_model_module": "@jupyter-widgets/base",
      "_model_module_version": "1.2.0",
      "_model_name": "LayoutModel",
      "_view_count": null,
      "_view_module": "@jupyter-widgets/base",
      "_view_module_version": "1.2.0",
      "_view_name": "LayoutView",
      "align_content": null,
      "align_items": null,
      "align_self": null,
      "border": null,
      "bottom": null,
      "display": null,
      "flex": null,
      "flex_flow": null,
      "grid_area": null,
      "grid_auto_columns": null,
      "grid_auto_flow": null,
      "grid_auto_rows": null,
      "grid_column": null,
      "grid_gap": null,
      "grid_row": null,
      "grid_template_areas": null,
      "grid_template_columns": null,
      "grid_template_rows": null,
      "height": null,
      "justify_content": null,
      "justify_items": null,
      "left": null,
      "margin": null,
      "max_height": null,
      "max_width": null,
      "min_height": null,
      "min_width": null,
      "object_fit": null,
      "object_position": null,
      "order": null,
      "overflow": null,
      "overflow_x": null,
      "overflow_y": null,
      "padding": null,
      "right": null,
      "top": null,
      "visibility": null,
      "width": null
     }
    },
    "579fcb38e47e48519bcf61627b67a8b6": {
     "model_module": "@jupyter-widgets/base",
     "model_name": "LayoutModel",
     "state": {
      "_model_module": "@jupyter-widgets/base",
      "_model_module_version": "1.2.0",
      "_model_name": "LayoutModel",
      "_view_count": null,
      "_view_module": "@jupyter-widgets/base",
      "_view_module_version": "1.2.0",
      "_view_name": "LayoutView",
      "align_content": null,
      "align_items": null,
      "align_self": null,
      "border": null,
      "bottom": null,
      "display": null,
      "flex": null,
      "flex_flow": null,
      "grid_area": null,
      "grid_auto_columns": null,
      "grid_auto_flow": null,
      "grid_auto_rows": null,
      "grid_column": null,
      "grid_gap": null,
      "grid_row": null,
      "grid_template_areas": null,
      "grid_template_columns": null,
      "grid_template_rows": null,
      "height": null,
      "justify_content": null,
      "justify_items": null,
      "left": null,
      "margin": null,
      "max_height": null,
      "max_width": null,
      "min_height": null,
      "min_width": null,
      "object_fit": null,
      "object_position": null,
      "order": null,
      "overflow": null,
      "overflow_x": null,
      "overflow_y": null,
      "padding": null,
      "right": null,
      "top": null,
      "visibility": null,
      "width": null
     }
    },
    "5e5c36f16c2942a393f0e6d37376c64b": {
     "model_module": "@jupyter-widgets/controls",
     "model_name": "SliderStyleModel",
     "state": {
      "_model_module": "@jupyter-widgets/controls",
      "_model_module_version": "1.5.0",
      "_model_name": "SliderStyleModel",
      "_view_count": null,
      "_view_module": "@jupyter-widgets/base",
      "_view_module_version": "1.2.0",
      "_view_name": "StyleView",
      "description_width": "",
      "handle_color": null
     }
    },
    "72c58c253222450abf33e5724081f3cc": {
     "model_module": "@jupyter-widgets/controls",
     "model_name": "SliderStyleModel",
     "state": {
      "_model_module": "@jupyter-widgets/controls",
      "_model_module_version": "1.5.0",
      "_model_name": "SliderStyleModel",
      "_view_count": null,
      "_view_module": "@jupyter-widgets/base",
      "_view_module_version": "1.2.0",
      "_view_name": "StyleView",
      "description_width": "",
      "handle_color": null
     }
    },
    "7ce89d6ec9374f58a8a7b7433aec261b": {
     "model_module": "@jupyter-widgets/controls",
     "model_name": "VBoxModel",
     "state": {
      "_dom_classes": [
       "widget-interact"
      ],
      "_model_module": "@jupyter-widgets/controls",
      "_model_module_version": "1.5.0",
      "_model_name": "VBoxModel",
      "_view_count": null,
      "_view_module": "@jupyter-widgets/controls",
      "_view_module_version": "1.5.0",
      "_view_name": "VBoxView",
      "box_style": "",
      "children": [
       "IPY_MODEL_ce837874c7224caf92babf437a431c3e",
       "IPY_MODEL_dcc172a21cb542888adb872af40be17b",
       "IPY_MODEL_4b2f21dbb5ce411d99eebecbaccb23e7",
       "IPY_MODEL_22c2d791a08b49679fd06d9bb1bbc67b"
      ],
      "layout": "IPY_MODEL_f27bba82de8f4edea11e6e2ddb8dd034"
     }
    },
    "7e84494302294dfe9641c1b49d4ac280": {
     "model_module": "@jupyter-widgets/controls",
     "model_name": "IntSliderModel",
     "state": {
      "_dom_classes": [],
      "_model_module": "@jupyter-widgets/controls",
      "_model_module_version": "1.5.0",
      "_model_name": "IntSliderModel",
      "_view_count": null,
      "_view_module": "@jupyter-widgets/controls",
      "_view_module_version": "1.5.0",
      "_view_name": "IntSliderView",
      "continuous_update": true,
      "description": "x",
      "description_tooltip": null,
      "disabled": false,
      "layout": "IPY_MODEL_d6795f0af2e9423e8673540337e281da",
      "max": 150,
      "min": -50,
      "orientation": "horizontal",
      "readout": true,
      "readout_format": "d",
      "step": 1,
      "style": "IPY_MODEL_c29dbfda02d84bffa8df9f1003c98143",
      "value": 50
     }
    },
    "8b379af0bcbc4cab8e18e9d6bb1ba828": {
     "model_module": "@jupyter-widgets/base",
     "model_name": "LayoutModel",
     "state": {
      "_model_module": "@jupyter-widgets/base",
      "_model_module_version": "1.2.0",
      "_model_name": "LayoutModel",
      "_view_count": null,
      "_view_module": "@jupyter-widgets/base",
      "_view_module_version": "1.2.0",
      "_view_name": "LayoutView",
      "align_content": null,
      "align_items": null,
      "align_self": null,
      "border": null,
      "bottom": null,
      "display": null,
      "flex": null,
      "flex_flow": null,
      "grid_area": null,
      "grid_auto_columns": null,
      "grid_auto_flow": null,
      "grid_auto_rows": null,
      "grid_column": null,
      "grid_gap": null,
      "grid_row": null,
      "grid_template_areas": null,
      "grid_template_columns": null,
      "grid_template_rows": null,
      "height": null,
      "justify_content": null,
      "justify_items": null,
      "left": null,
      "margin": null,
      "max_height": null,
      "max_width": null,
      "min_height": null,
      "min_width": null,
      "object_fit": null,
      "object_position": null,
      "order": null,
      "overflow": null,
      "overflow_x": null,
      "overflow_y": null,
      "padding": null,
      "right": null,
      "top": null,
      "visibility": null,
      "width": null
     }
    },
    "8fefd90daac94b438041e24a870b91ca": {
     "model_module": "@jupyter-widgets/controls",
     "model_name": "VBoxModel",
     "state": {
      "_dom_classes": [
       "widget-interact"
      ],
      "_model_module": "@jupyter-widgets/controls",
      "_model_module_version": "1.5.0",
      "_model_name": "VBoxModel",
      "_view_count": null,
      "_view_module": "@jupyter-widgets/controls",
      "_view_module_version": "1.5.0",
      "_view_name": "VBoxView",
      "box_style": "",
      "children": [
       "IPY_MODEL_b46e6c524e8248c3ac658c7958f1e96d",
       "IPY_MODEL_24424e941f674b4dba03739f448d265f",
       "IPY_MODEL_1b4d6d7b2c724f229ee067e841e5613a"
      ],
      "layout": "IPY_MODEL_4dabe853471f4308839a12bd810605df"
     }
    },
    "96add429c5d341dab987c04bce5dbe22": {
     "model_module": "@jupyter-widgets/base",
     "model_name": "LayoutModel",
     "state": {
      "_model_module": "@jupyter-widgets/base",
      "_model_module_version": "1.2.0",
      "_model_name": "LayoutModel",
      "_view_count": null,
      "_view_module": "@jupyter-widgets/base",
      "_view_module_version": "1.2.0",
      "_view_name": "LayoutView",
      "align_content": null,
      "align_items": null,
      "align_self": null,
      "border": null,
      "bottom": null,
      "display": null,
      "flex": null,
      "flex_flow": null,
      "grid_area": null,
      "grid_auto_columns": null,
      "grid_auto_flow": null,
      "grid_auto_rows": null,
      "grid_column": null,
      "grid_gap": null,
      "grid_row": null,
      "grid_template_areas": null,
      "grid_template_columns": null,
      "grid_template_rows": null,
      "height": null,
      "justify_content": null,
      "justify_items": null,
      "left": null,
      "margin": null,
      "max_height": null,
      "max_width": null,
      "min_height": null,
      "min_width": null,
      "object_fit": null,
      "object_position": null,
      "order": null,
      "overflow": null,
      "overflow_x": null,
      "overflow_y": null,
      "padding": null,
      "right": null,
      "top": null,
      "visibility": null,
      "width": null
     }
    },
    "b21e5c76002c4dc7b7bdc5577524bbc1": {
     "model_module": "@jupyter-widgets/base",
     "model_name": "LayoutModel",
     "state": {
      "_model_module": "@jupyter-widgets/base",
      "_model_module_version": "1.2.0",
      "_model_name": "LayoutModel",
      "_view_count": null,
      "_view_module": "@jupyter-widgets/base",
      "_view_module_version": "1.2.0",
      "_view_name": "LayoutView",
      "align_content": null,
      "align_items": null,
      "align_self": null,
      "border": null,
      "bottom": null,
      "display": null,
      "flex": null,
      "flex_flow": null,
      "grid_area": null,
      "grid_auto_columns": null,
      "grid_auto_flow": null,
      "grid_auto_rows": null,
      "grid_column": null,
      "grid_gap": null,
      "grid_row": null,
      "grid_template_areas": null,
      "grid_template_columns": null,
      "grid_template_rows": null,
      "height": null,
      "justify_content": null,
      "justify_items": null,
      "left": null,
      "margin": null,
      "max_height": null,
      "max_width": null,
      "min_height": null,
      "min_width": null,
      "object_fit": null,
      "object_position": null,
      "order": null,
      "overflow": null,
      "overflow_x": null,
      "overflow_y": null,
      "padding": null,
      "right": null,
      "top": null,
      "visibility": null,
      "width": null
     }
    },
    "b46e6c524e8248c3ac658c7958f1e96d": {
     "model_module": "@jupyter-widgets/controls",
     "model_name": "IntSliderModel",
     "state": {
      "_dom_classes": [],
      "_model_module": "@jupyter-widgets/controls",
      "_model_module_version": "1.5.0",
      "_model_name": "IntSliderModel",
      "_view_count": null,
      "_view_module": "@jupyter-widgets/controls",
      "_view_module_version": "1.5.0",
      "_view_name": "IntSliderView",
      "continuous_update": true,
      "description": "x",
      "description_tooltip": null,
      "disabled": false,
      "layout": "IPY_MODEL_96add429c5d341dab987c04bce5dbe22",
      "max": 1,
      "min": 0,
      "orientation": "horizontal",
      "readout": true,
      "readout_format": "d",
      "step": 1,
      "style": "IPY_MODEL_72c58c253222450abf33e5724081f3cc",
      "value": 0
     }
    },
    "be0e66c75a92424ba8cbe08913509ad5": {
     "model_module": "@jupyter-widgets/base",
     "model_name": "LayoutModel",
     "state": {
      "_model_module": "@jupyter-widgets/base",
      "_model_module_version": "1.2.0",
      "_model_name": "LayoutModel",
      "_view_count": null,
      "_view_module": "@jupyter-widgets/base",
      "_view_module_version": "1.2.0",
      "_view_name": "LayoutView",
      "align_content": null,
      "align_items": null,
      "align_self": null,
      "border": null,
      "bottom": null,
      "display": null,
      "flex": null,
      "flex_flow": null,
      "grid_area": null,
      "grid_auto_columns": null,
      "grid_auto_flow": null,
      "grid_auto_rows": null,
      "grid_column": null,
      "grid_gap": null,
      "grid_row": null,
      "grid_template_areas": null,
      "grid_template_columns": null,
      "grid_template_rows": null,
      "height": null,
      "justify_content": null,
      "justify_items": null,
      "left": null,
      "margin": null,
      "max_height": null,
      "max_width": null,
      "min_height": null,
      "min_width": null,
      "object_fit": null,
      "object_position": null,
      "order": null,
      "overflow": null,
      "overflow_x": null,
      "overflow_y": null,
      "padding": null,
      "right": null,
      "top": null,
      "visibility": null,
      "width": null
     }
    },
    "c29dbfda02d84bffa8df9f1003c98143": {
     "model_module": "@jupyter-widgets/controls",
     "model_name": "SliderStyleModel",
     "state": {
      "_model_module": "@jupyter-widgets/controls",
      "_model_module_version": "1.5.0",
      "_model_name": "SliderStyleModel",
      "_view_count": null,
      "_view_module": "@jupyter-widgets/base",
      "_view_module_version": "1.2.0",
      "_view_name": "StyleView",
      "description_width": "",
      "handle_color": null
     }
    },
    "ce837874c7224caf92babf437a431c3e": {
     "model_module": "@jupyter-widgets/controls",
     "model_name": "IntSliderModel",
     "state": {
      "_dom_classes": [],
      "_model_module": "@jupyter-widgets/controls",
      "_model_module_version": "1.5.0",
      "_model_name": "IntSliderModel",
      "_view_count": null,
      "_view_module": "@jupyter-widgets/controls",
      "_view_module_version": "1.5.0",
      "_view_name": "IntSliderView",
      "continuous_update": true,
      "description": "x",
      "description_tooltip": null,
      "disabled": false,
      "layout": "IPY_MODEL_579fcb38e47e48519bcf61627b67a8b6",
      "max": 1,
      "min": 0,
      "orientation": "horizontal",
      "readout": true,
      "readout_format": "d",
      "step": 1,
      "style": "IPY_MODEL_fc4856117af94f53b1d7ba720b66b008",
      "value": 0
     }
    },
    "cf3948d73b804fc786a11f59c1817948": {
     "model_module": "@jupyter-widgets/base",
     "model_name": "LayoutModel",
     "state": {
      "_model_module": "@jupyter-widgets/base",
      "_model_module_version": "1.2.0",
      "_model_name": "LayoutModel",
      "_view_count": null,
      "_view_module": "@jupyter-widgets/base",
      "_view_module_version": "1.2.0",
      "_view_name": "LayoutView",
      "align_content": null,
      "align_items": null,
      "align_self": null,
      "border": null,
      "bottom": null,
      "display": null,
      "flex": null,
      "flex_flow": null,
      "grid_area": null,
      "grid_auto_columns": null,
      "grid_auto_flow": null,
      "grid_auto_rows": null,
      "grid_column": null,
      "grid_gap": null,
      "grid_row": null,
      "grid_template_areas": null,
      "grid_template_columns": null,
      "grid_template_rows": null,
      "height": null,
      "justify_content": null,
      "justify_items": null,
      "left": null,
      "margin": null,
      "max_height": null,
      "max_width": null,
      "min_height": null,
      "min_width": null,
      "object_fit": null,
      "object_position": null,
      "order": null,
      "overflow": null,
      "overflow_x": null,
      "overflow_y": null,
      "padding": null,
      "right": null,
      "top": null,
      "visibility": null,
      "width": null
     }
    },
    "d6795f0af2e9423e8673540337e281da": {
     "model_module": "@jupyter-widgets/base",
     "model_name": "LayoutModel",
     "state": {
      "_model_module": "@jupyter-widgets/base",
      "_model_module_version": "1.2.0",
      "_model_name": "LayoutModel",
      "_view_count": null,
      "_view_module": "@jupyter-widgets/base",
      "_view_module_version": "1.2.0",
      "_view_name": "LayoutView",
      "align_content": null,
      "align_items": null,
      "align_self": null,
      "border": null,
      "bottom": null,
      "display": null,
      "flex": null,
      "flex_flow": null,
      "grid_area": null,
      "grid_auto_columns": null,
      "grid_auto_flow": null,
      "grid_auto_rows": null,
      "grid_column": null,
      "grid_gap": null,
      "grid_row": null,
      "grid_template_areas": null,
      "grid_template_columns": null,
      "grid_template_rows": null,
      "height": null,
      "justify_content": null,
      "justify_items": null,
      "left": null,
      "margin": null,
      "max_height": null,
      "max_width": null,
      "min_height": null,
      "min_width": null,
      "object_fit": null,
      "object_position": null,
      "order": null,
      "overflow": null,
      "overflow_x": null,
      "overflow_y": null,
      "padding": null,
      "right": null,
      "top": null,
      "visibility": null,
      "width": null
     }
    },
    "dcc172a21cb542888adb872af40be17b": {
     "model_module": "@jupyter-widgets/controls",
     "model_name": "IntSliderModel",
     "state": {
      "_dom_classes": [],
      "_model_module": "@jupyter-widgets/controls",
      "_model_module_version": "1.5.0",
      "_model_name": "IntSliderModel",
      "_view_count": null,
      "_view_module": "@jupyter-widgets/controls",
      "_view_module_version": "1.5.0",
      "_view_name": "IntSliderView",
      "continuous_update": true,
      "description": "y",
      "description_tooltip": null,
      "disabled": false,
      "layout": "IPY_MODEL_e255f78455014f8a8854c85c98b3cdc4",
      "max": 1,
      "min": 0,
      "orientation": "horizontal",
      "readout": true,
      "readout_format": "d",
      "step": 1,
      "style": "IPY_MODEL_5e5c36f16c2942a393f0e6d37376c64b",
      "value": 0
     }
    },
    "e12cf225896344e2965c23ad675511fc": {
     "model_module": "@jupyter-widgets/controls",
     "model_name": "DescriptionStyleModel",
     "state": {
      "_model_module": "@jupyter-widgets/controls",
      "_model_module_version": "1.5.0",
      "_model_name": "DescriptionStyleModel",
      "_view_count": null,
      "_view_module": "@jupyter-widgets/base",
      "_view_module_version": "1.2.0",
      "_view_name": "StyleView",
      "description_width": ""
     }
    },
    "e255f78455014f8a8854c85c98b3cdc4": {
     "model_module": "@jupyter-widgets/base",
     "model_name": "LayoutModel",
     "state": {
      "_model_module": "@jupyter-widgets/base",
      "_model_module_version": "1.2.0",
      "_model_name": "LayoutModel",
      "_view_count": null,
      "_view_module": "@jupyter-widgets/base",
      "_view_module_version": "1.2.0",
      "_view_name": "LayoutView",
      "align_content": null,
      "align_items": null,
      "align_self": null,
      "border": null,
      "bottom": null,
      "display": null,
      "flex": null,
      "flex_flow": null,
      "grid_area": null,
      "grid_auto_columns": null,
      "grid_auto_flow": null,
      "grid_auto_rows": null,
      "grid_column": null,
      "grid_gap": null,
      "grid_row": null,
      "grid_template_areas": null,
      "grid_template_columns": null,
      "grid_template_rows": null,
      "height": null,
      "justify_content": null,
      "justify_items": null,
      "left": null,
      "margin": null,
      "max_height": null,
      "max_width": null,
      "min_height": null,
      "min_width": null,
      "object_fit": null,
      "object_position": null,
      "order": null,
      "overflow": null,
      "overflow_x": null,
      "overflow_y": null,
      "padding": null,
      "right": null,
      "top": null,
      "visibility": null,
      "width": null
     }
    },
    "f0a214a1e1ab4cc08814d638a5b222b2": {
     "model_module": "@jupyter-widgets/base",
     "model_name": "LayoutModel",
     "state": {
      "_model_module": "@jupyter-widgets/base",
      "_model_module_version": "1.2.0",
      "_model_name": "LayoutModel",
      "_view_count": null,
      "_view_module": "@jupyter-widgets/base",
      "_view_module_version": "1.2.0",
      "_view_name": "LayoutView",
      "align_content": null,
      "align_items": null,
      "align_self": null,
      "border": null,
      "bottom": null,
      "display": null,
      "flex": null,
      "flex_flow": null,
      "grid_area": null,
      "grid_auto_columns": null,
      "grid_auto_flow": null,
      "grid_auto_rows": null,
      "grid_column": null,
      "grid_gap": null,
      "grid_row": null,
      "grid_template_areas": null,
      "grid_template_columns": null,
      "grid_template_rows": null,
      "height": null,
      "justify_content": null,
      "justify_items": null,
      "left": null,
      "margin": null,
      "max_height": null,
      "max_width": null,
      "min_height": null,
      "min_width": null,
      "object_fit": null,
      "object_position": null,
      "order": null,
      "overflow": null,
      "overflow_x": null,
      "overflow_y": null,
      "padding": null,
      "right": null,
      "top": null,
      "visibility": null,
      "width": null
     }
    },
    "f27bba82de8f4edea11e6e2ddb8dd034": {
     "model_module": "@jupyter-widgets/base",
     "model_name": "LayoutModel",
     "state": {
      "_model_module": "@jupyter-widgets/base",
      "_model_module_version": "1.2.0",
      "_model_name": "LayoutModel",
      "_view_count": null,
      "_view_module": "@jupyter-widgets/base",
      "_view_module_version": "1.2.0",
      "_view_name": "LayoutView",
      "align_content": null,
      "align_items": null,
      "align_self": null,
      "border": null,
      "bottom": null,
      "display": null,
      "flex": null,
      "flex_flow": null,
      "grid_area": null,
      "grid_auto_columns": null,
      "grid_auto_flow": null,
      "grid_auto_rows": null,
      "grid_column": null,
      "grid_gap": null,
      "grid_row": null,
      "grid_template_areas": null,
      "grid_template_columns": null,
      "grid_template_rows": null,
      "height": null,
      "justify_content": null,
      "justify_items": null,
      "left": null,
      "margin": null,
      "max_height": null,
      "max_width": null,
      "min_height": null,
      "min_width": null,
      "object_fit": null,
      "object_position": null,
      "order": null,
      "overflow": null,
      "overflow_x": null,
      "overflow_y": null,
      "padding": null,
      "right": null,
      "top": null,
      "visibility": null,
      "width": null
     }
    },
    "fc4856117af94f53b1d7ba720b66b008": {
     "model_module": "@jupyter-widgets/controls",
     "model_name": "SliderStyleModel",
     "state": {
      "_model_module": "@jupyter-widgets/controls",
      "_model_module_version": "1.5.0",
      "_model_name": "SliderStyleModel",
      "_view_count": null,
      "_view_module": "@jupyter-widgets/base",
      "_view_module_version": "1.2.0",
      "_view_name": "StyleView",
      "description_width": "",
      "handle_color": null
     }
    }
   }
  }
 },
 "nbformat": 4,
 "nbformat_minor": 1
}
