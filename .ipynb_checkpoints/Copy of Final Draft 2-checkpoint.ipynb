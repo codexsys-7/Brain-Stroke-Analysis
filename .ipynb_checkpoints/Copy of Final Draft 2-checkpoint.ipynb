{
 "cells": [
  {
   "cell_type": "markdown",
   "metadata": {
    "id": "q-n9h7SpUQoI"
   },
   "source": [
    "# **Brain Stroke Prediction Using Machine Learning and Data Science.**\n",
    "\n"
   ]
  },
  {
   "cell_type": "markdown",
   "metadata": {
    "id": "Rdctd9COUGWU"
   },
   "source": [
    "### **Importing Necessary Libraries.**"
   ]
  },
  {
   "cell_type": "markdown",
   "metadata": {
    "colab": {
     "base_uri": "https://localhost:8080/"
    },
    "id": "NWZpxXQN9kU9",
    "outputId": "cdfff82d-be1e-4a09-8cea-298f0c62afd1"
   },
   "source": [
    "!pip install autoviz\n",
    "\n",
    "#pip install pandas\n",
    "#pip install matplotlib.pyplot\n",
    "#pip install seaborn\n",
    "#pip install numpy\n",
    "#pip install sklearn\n",
    "#pip install collections\n",
    "#pip install ipywidgets\n",
    "#pip install imblearn\n",
    "#pip install statsmodels\n",
    "#pip install warnings"
   ]
  },
  {
   "cell_type": "markdown",
   "metadata": {
    "id": "Lat5MI180U34"
   },
   "source": [
    "import pandas as pd\n",
    "import matplotlib.pyplot as plt\n",
    "%matplotlib inline\n",
    "plt.style.use('dark_background')\n",
    "import seaborn as sns\n",
    "import numpy as np\n",
    "from sklearn.model_selection import train_test_split\n",
    "from sklearn.metrics import confusion_matrix,classification_report, accuracy_score, precision_recall_curve,precision_score,recall_score,f1_score, roc_auc_score, roc_curve, auc\n",
    "from sklearn.preprocessing import StandardScaler\n",
    "from statsmodels.stats.outliers_influence import variance_inflation_factor\n",
    "from imblearn.over_sampling import RandomOverSampler,SMOTE\n",
    "from imblearn.combine import SMOTETomek\n",
    "from collections import Counter\n",
    "from sklearn.model_selection import GridSearchCV, RandomizedSearchCV\n",
    "import warnings\n",
    "warnings.filterwarnings(action='ignore')\n",
    "from sklearn import tree\n",
    "import autoviz\n",
    "from autoviz.AutoViz_Class import AutoViz_Class\n",
    "#for interactive console\n",
    "import ipywidgets\n",
    "import ipywidgets as widgets\n",
    "from ipywidgets import interact\n",
    "from ipywidgets import interact_manual"
   ]
  },
  {
   "cell_type": "markdown",
   "metadata": {
    "id": "5ZQNVa6DUi_d"
   },
   "source": [
    "### **Importing and Skimming the Data Set.**\n",
    "The Data set consists of 40000+ entries of Patients Regarding Brain Stroke symptoms.\n",
    "There are total of 12 columns including target_column.\n",
    "1. id\n",
    "2. gender\n",
    "3. age\n",
    "4. hypertension\n",
    "5. heart_disease\n",
    "6. ever_married\n",
    "7. work_type\n",
    "8. Residence_type\n",
    "9. avg_glucose_level\n",
    "10. bmi\n",
    "11. smoking_status\n",
    "12. stroke(target_column)"
   ]
  },
  {
   "cell_type": "markdown",
   "metadata": {
    "id": "5sxg86wUzSUB"
   },
   "source": [
    "dodge = pd.read_csv('train_strokes.csv')"
   ]
  },
  {
   "cell_type": "markdown",
   "metadata": {
    "cellView": "code",
    "colab": {
     "base_uri": "https://localhost:8080/",
     "height": 196
    },
    "id": "7wVWTBTo0Zyb",
    "outputId": "9f73a102-eea9-46f5-f31e-02b21c706e0c"
   },
   "source": [
    "# head() helps us to view the first 5 entries in our dataset.\n",
    "\n",
    "dodge.head()"
   ]
  },
  {
   "cell_type": "markdown",
   "metadata": {
    "colab": {
     "base_uri": "https://localhost:8080/"
    },
    "id": "92vIqC6Y21mY",
    "outputId": "876c106e-df08-4519-9eb6-086f4c9021e2"
   },
   "source": [
    "# info() gives us the count and dtype, also helps us to identify whether there are any null values or not.\n",
    "\n",
    "dodge.info()"
   ]
  },
  {
   "cell_type": "markdown",
   "metadata": {
    "colab": {
     "base_uri": "https://localhost:8080/",
     "height": 286
    },
    "id": "LjcqNnr2bH9o",
    "outputId": "f159acd3-7e9c-4078-a9eb-65f6fc9ee0b0"
   },
   "source": [
    "# describe() gives us a breif description about the columns(count, min, max, mean, median etc)\n",
    "\n",
    "dodge.describe()"
   ]
  },
  {
   "cell_type": "markdown",
   "metadata": {
    "colab": {
     "base_uri": "https://localhost:8080/",
     "height": 166
    },
    "id": "qP5f83YmbLPG",
    "outputId": "cfb259e6-4883-4036-de77-2ce2cfda08b6"
   },
   "source": [
    "# In the case of object columns we get(count, unique values, top, freq)\n",
    "dodge.describe(include = 'object')"
   ]
  },
  {
   "cell_type": "markdown",
   "metadata": {
    "id": "45KVCn1vZZeP"
   },
   "source": [
    "### **Exploring Target Variable.**"
   ]
  },
  {
   "cell_type": "markdown",
   "metadata": {
    "colab": {
     "base_uri": "https://localhost:8080/"
    },
    "id": "D5-6klAL21qr",
    "outputId": "e47b50a1-1290-4021-b9b6-52b3deff3943"
   },
   "source": [
    "dodge['stroke'].value_counts()"
   ]
  },
  {
   "cell_type": "markdown",
   "metadata": {
    "colab": {
     "base_uri": "https://localhost:8080/"
    },
    "id": "a5UlarOk21s4",
    "outputId": "ff55ec49-88fd-4fe0-d0cc-025e704cd676"
   },
   "source": [
    "# There arent any null values, but\n",
    "dodge['stroke'].isnull().sum()"
   ]
  },
  {
   "cell_type": "markdown",
   "metadata": {
    "colab": {
     "base_uri": "https://localhost:8080/",
     "height": 402
    },
    "id": "9wJoDnOHW-5y",
    "outputId": "2537585a-dc32-4fb1-aa5f-c5bfca4d638d"
   },
   "source": [
    "# This plot tell's about, how the distribution of target class is spreaded.\n",
    "# we can see that the target classes are highly imbalanced with 0->42617, 1->783, so we need to balance these target classes which we will see in the later part.\n",
    "# countplot() helps us to visualize the count the classes.\n",
    "\n",
    "plt.figure(figsize = (6,4), dpi = 100)\n",
    "sns.countplot(dodge['stroke'])\n",
    "plt.xlabel('Stroke Status')\n",
    "plt.ylabel('Count')\n",
    "plt.title('Distribution of Target Classes')\n",
    "plt.show()"
   ]
  },
  {
   "cell_type": "markdown",
   "metadata": {
    "id": "0n1F9JPmcw3v"
   },
   "source": [
    "### **Exploring Independent Numerical Columns.**\n",
    "\n",
    "\n",
    "1. Cleaning\n",
    "2. Treating Missing values\n",
    "3. Anamoly Detection and Reduction\n",
    "\n"
   ]
  },
  {
   "cell_type": "markdown",
   "metadata": {
    "id": "mQ2IVVuy21xi"
   },
   "source": [
    "numerical = ['age', 'hypertension', 'heart_disease', 'avg_glucose_level', 'bmi']\n",
    "#dodge[numerical[0]]"
   ]
  },
  {
   "cell_type": "markdown",
   "metadata": {
    "id": "-WBhg97JeEsl"
   },
   "source": [
    "#### Treating missing values present in the column dodge['bmi'], no other numerical columns has missing values.\n",
    "\n",
    "\n",
    "\n"
   ]
  },
  {
   "cell_type": "markdown",
   "metadata": {
    "colab": {
     "base_uri": "https://localhost:8080/"
    },
    "id": "QkjoIr_9B78O",
    "outputId": "a06f93e6-6bd4-4587-ad30-b9ddc73f4cc0"
   },
   "source": [
    "dodge['bmi'].isnull().sum()"
   ]
  },
  {
   "cell_type": "markdown",
   "metadata": {
    "id": "THe6d0DhB8A8"
   },
   "source": [
    "dodge['bmi'] = dodge['bmi'].fillna(dodge['bmi'].mean())"
   ]
  },
  {
   "cell_type": "markdown",
   "metadata": {
    "colab": {
     "base_uri": "https://localhost:8080/"
    },
    "id": "uqHyJHD3B8DJ",
    "outputId": "54a729f5-94cb-408a-9dc6-ec4625e893cf"
   },
   "source": [
    "dodge['bmi'].isnull().sum()"
   ]
  },
  {
   "cell_type": "markdown",
   "metadata": {
    "id": "w1U9FJZodvFR"
   },
   "source": [
    "#### Exploring each numerical column using describe()\n",
    "\n",
    "\n",
    "\n"
   ]
  },
  {
   "cell_type": "markdown",
   "metadata": {
    "colab": {
     "base_uri": "https://localhost:8080/"
    },
    "id": "BBT3p8-Rf8oK",
    "outputId": "cea5bb10-e66d-483f-bd55-b064f10b9d48"
   },
   "source": [
    "for i in numerical:\n",
    "  print(dodge[i].describe())"
   ]
  },
  {
   "cell_type": "markdown",
   "metadata": {
    "id": "zP0eFAA8f8qw"
   },
   "source": []
  },
  {
   "cell_type": "markdown",
   "metadata": {
    "id": "NrDX_1Cyegcp"
   },
   "source": [
    "### **Anomaly Detection and Reduction in Numericals.** "
   ]
  },
  {
   "cell_type": "markdown",
   "metadata": {
    "id": "N7R0jZ0pexca"
   },
   "source": [
    "#### 1. age"
   ]
  },
  {
   "cell_type": "markdown",
   "metadata": {
    "colab": {
     "base_uri": "https://localhost:8080/"
    },
    "id": "IATrGw72etry",
    "outputId": "902ccfa6-1536-484e-bca2-8936b0ec9770"
   },
   "source": [
    "dodge['age'].describe()"
   ]
  },
  {
   "cell_type": "markdown",
   "metadata": {
    "colab": {
     "base_uri": "https://localhost:8080/"
    },
    "id": "56GDFvaUpxiy",
    "outputId": "6d6bda63-e25a-4659-bc68-8543fbac8cac"
   },
   "source": [
    "dodge['age'].value_counts()"
   ]
  },
  {
   "cell_type": "markdown",
   "metadata": {
    "id": "Fi7bMPXkfJIC"
   },
   "source": [
    "Function to check the Anamolies in the column using upper_limit and lower_limit.\n",
    "\n",
    "\n",
    "1. If the upper_limit > max(df['col']), then we replace the upper_limit with the max value.\n",
    "2. Similarly, if the lower_limit < min(df['col']), we replace the lower_limit with the min value.\n",
    "\n"
   ]
  },
  {
   "cell_type": "markdown",
   "metadata": {
    "id": "sHfx5ZRZfYAw"
   },
   "source": [
    "anamolies = []\n",
    "def outliers(data):\n",
    "  random_state_mean = np.mean(data)\n",
    "  random_state_std = np.std(data)\n",
    "  anamoly = random_state_std * 3\n",
    "\n",
    "  upper_limit = random_state_mean + anamoly\n",
    "  lower_limit = random_state_mean - anamoly\n",
    "  lp_lower_limit = 1.00\n",
    "  up_upper_limit = max(dodge['age'])\n",
    "  print(upper_limit)\n",
    "  print(lower_limit)\n",
    "\n",
    "  print(lp_lower_limit)\n",
    "  print(up_upper_limit)\n",
    "\n",
    "  for i in data:\n",
    "      if i < lp_lower_limit or i > up_upper_limit:\n",
    "        anamolies.append(i)"
   ]
  },
  {
   "cell_type": "markdown",
   "metadata": {
    "colab": {
     "base_uri": "https://localhost:8080/"
    },
    "id": "3L7esL2si3_z",
    "outputId": "f1b5e9a2-a806-4b76-825d-b2c35031f754"
   },
   "source": [
    "outliers(dodge['age'])\n",
    "print(len(anamolies))"
   ]
  },
  {
   "cell_type": "markdown",
   "metadata": {
    "colab": {
     "base_uri": "https://localhost:8080/"
    },
    "id": "-wh-bNeRrcVr",
    "outputId": "7f9b58cf-8adb-4426-ed42-488172f425f7"
   },
   "source": [
    "dodge.shape"
   ]
  },
  {
   "cell_type": "markdown",
   "metadata": {
    "id": "oAQWTc2IgHYB"
   },
   "source": [
    "Here all the values below 1 are termed as outliers, although in rarest of cases Intrauterine stroke occur to unborn childre in the womb.\n",
    "\n",
    "But in this project we drop those values, but in future we can even work on these values.\n",
    "\n"
   ]
  },
  {
   "cell_type": "markdown",
   "metadata": {
    "colab": {
     "base_uri": "https://localhost:8080/",
     "height": 404
    },
    "id": "y-XD5xyLVhRq",
    "outputId": "a373efc2-c3c6-44bf-f2be-bd60119d3099"
   },
   "source": [
    "dodge[dodge['age'] < 1.00]"
   ]
  },
  {
   "cell_type": "markdown",
   "metadata": {
    "colab": {
     "base_uri": "https://localhost:8080/"
    },
    "id": "xUlW2odDF3cN",
    "outputId": "7ac1fd5e-33e9-4ab0-94ea-b20432385f28"
   },
   "source": [
    "dodge[dodge['age'] < 1.00].index"
   ]
  },
  {
   "cell_type": "markdown",
   "metadata": {
    "id": "3y07HnH9F3dv"
   },
   "source": [
    "chevy = dodge.drop(index = dodge[dodge['age'] < 1.00].index, axis = 0, inplace=True)"
   ]
  },
  {
   "cell_type": "markdown",
   "metadata": {
    "id": "CAKu20dBBfyV"
   },
   "source": [
    "dodge.drop(index = dodge[(dodge.age > 1.0) & (dodge.age < 2.0)].index, axis = 0, inplace = True)"
   ]
  },
  {
   "cell_type": "markdown",
   "metadata": {
    "colab": {
     "base_uri": "https://localhost:8080/"
    },
    "id": "bppkMXn2F38U",
    "outputId": "98b542f7-d2aa-48bc-d407-d57b2319c02c"
   },
   "source": [
    "dodge.shape"
   ]
  },
  {
   "cell_type": "markdown",
   "metadata": {
    "id": "Nd8790bAhlzU"
   },
   "source": [
    "#### 2. avg_glucose_level(Average Glucose Level)"
   ]
  },
  {
   "cell_type": "markdown",
   "metadata": {
    "id": "yp80lcHGWDq1"
   },
   "source": [
    "anamolies = []\n",
    "def outliers(data):\n",
    "  random_state_mean = np.mean(data)\n",
    "  random_state_std = np.std(data)\n",
    "  anamoly = random_state_std * 3\n",
    "\n",
    "  upper_limit = random_state_mean + anamoly\n",
    "  lower_limit = random_state_mean - anamoly\n",
    "  ll_p = min(dodge['avg_glucose_level'])\n",
    "\n",
    "  print(upper_limit)\n",
    "  print(lower_limit)\n",
    "  print(ll_p)\n",
    "  for i in data:\n",
    "    if i < ll_p or i > upper_limit:\n",
    "      anamolies.append(i)"
   ]
  },
  {
   "cell_type": "markdown",
   "metadata": {
    "colab": {
     "base_uri": "https://localhost:8080/"
    },
    "id": "BmPeNQp4WIEW",
    "outputId": "8ca9874d-4d62-4cd0-a8a1-a1cf204ba3fb"
   },
   "source": [
    "outliers(dodge['avg_glucose_level'])\n",
    "print(len(anamolies))"
   ]
  },
  {
   "cell_type": "markdown",
   "metadata": {
    "colab": {
     "base_uri": "https://localhost:8080/"
    },
    "id": "-AeG7IZxgBCr",
    "outputId": "1839b292-764d-41d1-d00f-b2204f2beedb"
   },
   "source": [
    "dodge['avg_glucose_level'].describe()"
   ]
  },
  {
   "cell_type": "markdown",
   "metadata": {
    "colab": {
     "base_uri": "https://localhost:8080/",
     "height": 404
    },
    "id": "mOqmjbCoirDT",
    "outputId": "609c344e-f01d-45fe-a586-81e4ec0d559a"
   },
   "source": [
    "dodge[dodge['avg_glucose_level'] > 234.40827023316058 ]"
   ]
  },
  {
   "cell_type": "markdown",
   "metadata": {
    "colab": {
     "base_uri": "https://localhost:8080/"
    },
    "id": "uBoAEwQrkJcq",
    "outputId": "2acddca4-483f-4af5-cdd5-a06b12ae409e"
   },
   "source": [
    "dodge[dodge['avg_glucose_level'] > 234.40827023316058].index"
   ]
  },
  {
   "cell_type": "markdown",
   "metadata": {
    "id": "oJtOTle6lCBp"
   },
   "source": [
    "dodge.drop(index = dodge[dodge['avg_glucose_level'] > 234.40827023316058].index, axis = 0, inplace = True)"
   ]
  },
  {
   "cell_type": "markdown",
   "metadata": {
    "colab": {
     "base_uri": "https://localhost:8080/"
    },
    "id": "Qnb2gdsWlPsJ",
    "outputId": "f75782f2-4e81-4bf8-ad36-b76d871559c0"
   },
   "source": [
    "dodge.shape"
   ]
  },
  {
   "cell_type": "markdown",
   "metadata": {
    "id": "rVGAMPJfh-lO"
   },
   "source": [
    "#### 3. bmi(Body Mass Index)"
   ]
  },
  {
   "cell_type": "markdown",
   "metadata": {
    "id": "zvr7-sJ6lPub"
   },
   "source": [
    "anamolies = []\n",
    "def outliers(data):\n",
    "  random_state_mean = np.mean(data)\n",
    "  random_state_std = np.std(data)\n",
    "  anamoly = random_state_std * 3\n",
    "\n",
    "  upper_limit = random_state_mean + anamoly\n",
    "  lower_limit = random_state_mean - anamoly\n",
    "  lll_p = min(dodge['bmi'])\n",
    "\n",
    "  print(upper_limit)\n",
    "  print(lower_limit)\n",
    "  print(lll_p)\n",
    "  for i in data:\n",
    "    if i < lll_p or i > upper_limit:\n",
    "      anamolies.append(i)"
   ]
  },
  {
   "cell_type": "markdown",
   "metadata": {
    "colab": {
     "base_uri": "https://localhost:8080/"
    },
    "id": "TarKzxc2luUA",
    "outputId": "497c7561-7b07-4eba-afda-9b403560c881"
   },
   "source": [
    "outliers(dodge['bmi'])\n",
    "print(len(anamolies))"
   ]
  },
  {
   "cell_type": "markdown",
   "metadata": {
    "colab": {
     "base_uri": "https://localhost:8080/"
    },
    "id": "qMD4YPuxm3cV",
    "outputId": "d48921d3-f0eb-4900-e71a-e24826981867"
   },
   "source": [
    "dodge['bmi'].describe()"
   ]
  },
  {
   "cell_type": "markdown",
   "metadata": {
    "colab": {
     "base_uri": "https://localhost:8080/",
     "height": 404
    },
    "id": "rCrXgiKXmZG4",
    "outputId": "5b30bfa3-8f38-484c-bff3-b1d22fe321c4"
   },
   "source": [
    "dodge[dodge['bmi'] > 51.35486554902225]"
   ]
  },
  {
   "cell_type": "markdown",
   "metadata": {
    "colab": {
     "base_uri": "https://localhost:8080/"
    },
    "id": "dwjwFv6XmZJQ",
    "outputId": "c34d0280-e1b0-4861-e51e-b153cd1062a6"
   },
   "source": [
    "dodge[dodge['bmi'] > 51.35486554902225].index"
   ]
  },
  {
   "cell_type": "markdown",
   "metadata": {
    "id": "Ys016jdgl92u"
   },
   "source": [
    "dodge.drop(index = dodge[dodge['bmi'] > 51.35486554902225].index, axis = 0, inplace = True)"
   ]
  },
  {
   "cell_type": "markdown",
   "metadata": {
    "colab": {
     "base_uri": "https://localhost:8080/"
    },
    "id": "-_CMR2A9luYY",
    "outputId": "4836ebf5-5a45-421f-8720-d5f9a8ffb666"
   },
   "source": [
    "dodge.shape"
   ]
  },
  {
   "cell_type": "markdown",
   "metadata": {
    "id": "-cSBf4YwnvBu"
   },
   "source": [
    "### **Exploring Independent Categorical(Object/String) Columns.**\n",
    "\n",
    "\n",
    "1. Cleaning\n",
    "2. Treating Missing values\n",
    "\n"
   ]
  },
  {
   "cell_type": "markdown",
   "metadata": {
    "colab": {
     "base_uri": "https://localhost:8080/"
    },
    "id": "Hh__J1l-xVfc",
    "outputId": "9c9532ed-7297-4151-8ef5-7f4b2931a7c5"
   },
   "source": [
    "dodge.isnull().sum()"
   ]
  },
  {
   "cell_type": "markdown",
   "metadata": {
    "id": "HGXf3Su7nuZs"
   },
   "source": [
    "categorical = ['gender', 'ever_married', 'work_type', 'Residence_type', 'smoking_status']"
   ]
  },
  {
   "cell_type": "markdown",
   "metadata": {
    "colab": {
     "base_uri": "https://localhost:8080/"
    },
    "id": "W3y0R9mOnuc6",
    "outputId": "5babb473-07d9-4605-924b-d90e90fe8552"
   },
   "source": [
    "for i in categorical:\n",
    "  print(dodge[i].describe())"
   ]
  },
  {
   "cell_type": "markdown",
   "metadata": {
    "colab": {
     "base_uri": "https://localhost:8080/",
     "height": 166
    },
    "id": "K13hUli7nuen",
    "outputId": "d4d08f8a-d73b-47d9-9867-7ed22f1dcaa4"
   },
   "source": [
    "dodge.describe(include = 'object')"
   ]
  },
  {
   "cell_type": "markdown",
   "metadata": {
    "colab": {
     "base_uri": "https://localhost:8080/"
    },
    "id": "27nC7WH1nugY",
    "outputId": "40ffd257-6c6c-42c9-857c-1e6e2f4a63d5"
   },
   "source": [
    "dodge['smoking_status'].value_counts()"
   ]
  },
  {
   "cell_type": "markdown",
   "metadata": {
    "colab": {
     "base_uri": "https://localhost:8080/",
     "height": 395
    },
    "id": "psP3_ncRNOpk",
    "outputId": "86d72385-e707-4591-f8ff-62e65b0cb42d"
   },
   "source": [
    "dodge.describe(include = 'all')"
   ]
  },
  {
   "cell_type": "markdown",
   "metadata": {
    "id": "SHoWSl3cjO4l"
   },
   "source": [
    "#### Treating Missing values in Object columns using,\n",
    "1. mean/median/mode\n",
    "2. Based on frequency Distribution."
   ]
  },
  {
   "cell_type": "markdown",
   "metadata": {
    "colab": {
     "base_uri": "https://localhost:8080/"
    },
    "id": "osFJYlwLQEqu",
    "outputId": "08eeafe4-1491-4756-adc0-b1cdbcbdf83d"
   },
   "source": [
    "dodge['smoking_status'].mode()"
   ]
  },
  {
   "cell_type": "markdown",
   "metadata": {
    "id": "9uM-Lf-QN9CV"
   },
   "source": [
    "dodge['smoking_status'].fillna('never smoked',inplace = True)"
   ]
  },
  {
   "cell_type": "markdown",
   "metadata": {
    "colab": {
     "base_uri": "https://localhost:8080/"
    },
    "id": "sxj4l6-RQdQa",
    "outputId": "562287be-b80d-4b7f-fc58-07f51e0cbcb2"
   },
   "source": [
    "dodge['smoking_status'].isnull().sum()"
   ]
  },
  {
   "cell_type": "markdown",
   "metadata": {
    "colab": {
     "base_uri": "https://localhost:8080/"
    },
    "id": "tiu0AHhRSLV2",
    "outputId": "135ed92a-c83e-44c9-b7bb-b5ec415d4ba2"
   },
   "source": [
    "dodge.info()"
   ]
  },
  {
   "cell_type": "markdown",
   "metadata": {
    "colab": {
     "base_uri": "https://localhost:8080/",
     "height": 196
    },
    "id": "OIvfO7MDVxXs",
    "outputId": "06681912-dc85-46f2-db35-d54b435ea903"
   },
   "source": [
    "dodge.head()"
   ]
  },
  {
   "cell_type": "markdown",
   "metadata": {
    "id": "wE_5g8IreE72"
   },
   "source": [
    "### **Exploratory Data Analysis.** \n",
    "Exploratory Data Analysis helps us the understand the insights and extract the patterns from the dataset, which might be helpful to explain about the problem statement given to our clients.\n",
    "This can also be done by using traditional python code, But Visualizing the data looks more eye catching than looking at some numbers and letters.\n",
    "so, hence we are going to use various plots and graphs to visualize, which comes from the libraries such as,\n",
    "seaborn and matplotlib.pyplot.\n",
    "1. bar\n",
    "2. countplot\n",
    "3. piechart\n",
    "4. hist\n",
    "5. box\n",
    "6. scatterplot\n",
    "7. pairplot\n",
    "\n",
    "Apart from this we have also used and auto visualization tool, \"autoviz\""
   ]
  },
  {
   "cell_type": "markdown",
   "metadata": {
    "colab": {
     "base_uri": "https://localhost:8080/"
    },
    "id": "Y71bYAbgd2Dt",
    "outputId": "d2a49b57-e378-422f-c982-9bd73c6c554a"
   },
   "source": [
    "dodge.isnull().sum()"
   ]
  },
  {
   "cell_type": "markdown",
   "metadata": {
    "id": "DTMkT1TGd2GT"
   },
   "source": [
    "dodge.drop(columns = 'id', inplace=True)"
   ]
  },
  {
   "cell_type": "markdown",
   "metadata": {
    "colab": {
     "base_uri": "https://localhost:8080/",
     "height": 196
    },
    "id": "dYFFs6g5d2I6",
    "outputId": "075bad21-2ca0-4b02-d053-dac15c539962"
   },
   "source": [
    "dodge.head()"
   ]
  },
  {
   "cell_type": "markdown",
   "metadata": {
    "id": "VxqgbITHsiJK"
   },
   "source": [
    "\n",
    "-> pd.crosstab() function is a very useful and most advanced fuction in the python dataframe, it helps us to compare 2 variables, due to which we can plot the distribution of thsoe variables. "
   ]
  },
  {
   "cell_type": "markdown",
   "metadata": {
    "id": "GrifN6S5yXa0"
   },
   "source": [
    "#### 1. Bar plot for crosstab distribution between gender and stroke."
   ]
  },
  {
   "cell_type": "markdown",
   "metadata": {
    "colab": {
     "base_uri": "https://localhost:8080/",
     "height": 334
    },
    "id": "b2sm0taZrnP5",
    "outputId": "6e4c5c64-8b34-4bcf-a5bb-536f61fb4312"
   },
   "source": [
    "plt.figure(figsize = (8,6))\n",
    "x = pd.crosstab(dodge['gender'], dodge['stroke'])\n",
    "x.plot(kind = 'bar')\n",
    "#x.div(x.sum(1).astype(float), axis = 0).plot(kind='bar', stacked = False)\n",
    "plt.xlabel('Gender_distribution')\n",
    "plt.ylabel('Count')\n",
    "plt.title('Gender Distribution over Target Class')\n",
    "plt.show()\n",
    "\n"
   ]
  },
  {
   "cell_type": "markdown",
   "metadata": {
    "id": "BBK9Sf_fykpB"
   },
   "source": [
    "#### 2. Pie Chart for distribution of gender."
   ]
  },
  {
   "cell_type": "markdown",
   "metadata": {
    "colab": {
     "base_uri": "https://localhost:8080/",
     "height": 461
    },
    "id": "F2Q8OaWFlrfY",
    "outputId": "23f3c589-b9db-4e31-e910-0a05f57e5470"
   },
   "source": [
    "# PIE CHART for dodge['gender'] column.\n",
    "\n",
    "plt.figure(figsize = (8,6), dpi = 90)\n",
    "labels = dodge['gender'].value_counts().index\n",
    "sizes = dodge['gender'].value_counts()\n",
    "explode = [0,0,0.1]\n",
    "colors = plt.cm.autumn(np.linspace(0,1,3))\n",
    "plt.pie(sizes, colors=colors, labels=labels, explode=explode, shadow =True, startangle=90, autopct = '%.2f%%' )\n",
    "plt.title('Gender',fontsize=12)\n",
    "plt.legend()\n",
    "plt.show()"
   ]
  },
  {
   "cell_type": "markdown",
   "metadata": {
    "id": "wNuxuhqDzcZi"
   },
   "source": [
    "#### 3. Bar chart for gender-hypertentsion distribution."
   ]
  },
  {
   "cell_type": "markdown",
   "metadata": {
    "colab": {
     "base_uri": "https://localhost:8080/",
     "height": 334
    },
    "id": "0_e78ocWxRlu",
    "outputId": "65280804-0510-4542-8fad-0f73ddfeadd1"
   },
   "source": [
    "plt.figure(figsize = (8,6), dpi = 90)\n",
    "x = pd.crosstab(dodge['gender'],dodge['hypertension'])\n",
    "x.plot(kind = 'bar')\n",
    "plt.xlabel('Gender')\n",
    "plt.ylabel('Hypertension')\n",
    "plt.title(\"Gender_Hypertension_Distribution\")\n",
    "plt.show()"
   ]
  },
  {
   "cell_type": "markdown",
   "metadata": {
    "id": "M9cbaGyszziD"
   },
   "source": [
    " #### 4. Bar Chart for age-hypertension distribution "
   ]
  },
  {
   "cell_type": "markdown",
   "metadata": {
    "colab": {
     "base_uri": "https://localhost:8080/",
     "height": 739
    },
    "id": "tacg0Y7qz0PP",
    "outputId": "f443ad4d-f0b3-4246-d9f1-c5b69597d305"
   },
   "source": [
    "plt.rcParams['figure.figsize'] = (20,12)\n",
    "x = pd.crosstab(dodge['age'], dodge['hypertension'])\n",
    "x.plot(kind = 'bar')\n",
    "plt.xlabel('Age')\n",
    "plt.ylabel('Count')\n",
    "plt.title(\"Age Hypertension Distrubition\")\n",
    "plt.show()"
   ]
  },
  {
   "cell_type": "markdown",
   "metadata": {
    "id": "fezMx25F0QIl"
   },
   "source": [
    "#### 5. Bar Chart for gender-heart_disease distribution"
   ]
  },
  {
   "cell_type": "markdown",
   "metadata": {
    "colab": {
     "base_uri": "https://localhost:8080/",
     "height": 755
    },
    "id": "rs5Z5Waj1PUm",
    "outputId": "52d9b881-2dc7-4914-ccae-c7b786a7de8b"
   },
   "source": [
    "plt.figure(figsize=(12,10))\n",
    "ab = pd.crosstab(dodge['gender'], dodge['heart_disease'])\n",
    "ab.plot(kind = 'bar')\n",
    "plt.xlabel('Gender')\n",
    "plt.ylabel('Count')\n",
    "plt.show()"
   ]
  },
  {
   "cell_type": "markdown",
   "metadata": {
    "id": "QCPEoAIE0hpA"
   },
   "source": [
    "#### 6. age-stroke distribution"
   ]
  },
  {
   "cell_type": "markdown",
   "metadata": {
    "colab": {
     "base_uri": "https://localhost:8080/",
     "height": 739
    },
    "id": "eiH2VYlO-802",
    "outputId": "07204985-ee58-48f8-c8aa-cb14c2902f06"
   },
   "source": [
    "plt.rcParams['figure.figsize'] = (20,12)\n",
    "x = pd.crosstab(dodge['age'], dodge['stroke'])\n",
    "x.plot(kind = 'bar')\n",
    "plt.xlabel('Age')\n",
    "plt.ylabel('Count')\n",
    "plt.title(\"Age_Stroke Distrubition\")\n",
    "plt.show()"
   ]
  },
  {
   "cell_type": "markdown",
   "metadata": {
    "id": "JmqNHTDa0xDK"
   },
   "source": [
    "#### 7. age-heart_disease distribution."
   ]
  },
  {
   "cell_type": "markdown",
   "metadata": {
    "colab": {
     "base_uri": "https://localhost:8080/",
     "height": 739
    },
    "id": "yFQ1d18A-84e",
    "outputId": "6e39aef0-25e3-459a-83d2-eb414a86a20e"
   },
   "source": [
    "plt.rcParams['figure.figsize'] = (20,12)\n",
    "#plt.figure(figsize =(13,6))\n",
    "x = pd.crosstab(dodge['age'], dodge['heart_disease'])\n",
    "x.plot(kind = 'bar')\n",
    "plt.xlabel('Age')\n",
    "plt.ylabel('Count')\n",
    "plt.title(\"Age Heart_Disease Distrubition\")\n",
    "plt.show()"
   ]
  },
  {
   "cell_type": "markdown",
   "metadata": {
    "id": "RLxn-neN2q0k"
   },
   "source": [
    "#### 8. Distribution of people getting stroke with respect to whether they are married or not."
   ]
  },
  {
   "cell_type": "markdown",
   "metadata": {
    "colab": {
     "base_uri": "https://localhost:8080/",
     "height": 394
    },
    "id": "trgCZCTE2lip",
    "outputId": "55b4a216-8669-4273-9336-0c084112c7c4"
   },
   "source": [
    "plt.rcParams['figure.figsize'] = (8,6)\n",
    "h = pd.crosstab(dodge['ever_married'], dodge['stroke'])\n",
    "h.plot(kind ='bar')\n",
    "plt.show()"
   ]
  },
  {
   "cell_type": "markdown",
   "metadata": {
    "id": "uvgnvhT631ZG"
   },
   "source": [
    "#### 9. Scatterplot for avg_glucose level and bmi with hue as stroke, hue is an additional parameter which seperates the classes using different colors."
   ]
  },
  {
   "cell_type": "markdown",
   "metadata": {
    "colab": {
     "base_uri": "https://localhost:8080/",
     "height": 383
    },
    "id": "YVh-EIvU30Gk",
    "outputId": "06767115-c03c-45be-d12f-fede1fd6b05d"
   },
   "source": [
    "plt.rcParams['figure.figsize'] = (20,12)\n",
    "sns.relplot(dodge['avg_glucose_level'], dodge['bmi'], hue = dodge['stroke'], kind = 'scatter')\n",
    "plt.xlabel('Avg_Glucose_Level')\n",
    "plt.ylabel('BMI')\n",
    "plt.show()"
   ]
  },
  {
   "cell_type": "markdown",
   "metadata": {
    "id": "ThA5G1yc59O_"
   },
   "source": [
    "#### 10. Countplot() for checking distribution of work_type."
   ]
  },
  {
   "cell_type": "markdown",
   "metadata": {
    "colab": {
     "base_uri": "https://localhost:8080/",
     "height": 620
    },
    "id": "sO8NMhvG58P2",
    "outputId": "c94c1217-be10-4af5-f1b2-baee870eb8d8"
   },
   "source": [
    "plt.figure(figsize = (12,10))\n",
    "sns.countplot(dodge['work_type'], color ='red')\n",
    "plt.xlabel(\"Work Type\")\n",
    "plt.ylabel('Count')\n",
    "plt.title(\"Distribution of Work_type\")\n",
    "plt.show()"
   ]
  },
  {
   "cell_type": "markdown",
   "metadata": {
    "id": "ab3AoEdp6c1X"
   },
   "source": [
    "#### 11. Distribution of work_type with respect to stroke occurence."
   ]
  },
  {
   "cell_type": "markdown",
   "metadata": {
    "colab": {
     "base_uri": "https://localhost:8080/",
     "height": 458
    },
    "id": "Mh6syn2Z58Ux",
    "outputId": "d78735b1-95b3-4b43-ad7d-b0fe56aff8ff"
   },
   "source": [
    "plt.rcParams['figure.figsize'] = (8,6)\n",
    "h = pd.crosstab(dodge['work_type'], dodge['stroke'])\n",
    "h.plot(kind ='bar')\n",
    "plt.xlabel(\"Work_type\")\n",
    "plt.ylabel(\"Count\")\n",
    "plt.title(\"Distribution of Work_type and stroke\")\n",
    "plt.show()"
   ]
  },
  {
   "cell_type": "markdown",
   "metadata": {
    "id": "4N8U4Jk4yrK0"
   },
   "source": [
    "#### autoviz -> An AutoVisualization tool, which helps to visualize the features in the dataset more in depth."
   ]
  },
  {
   "cell_type": "markdown",
   "metadata": {
    "colab": {
     "base_uri": "https://localhost:8080/",
     "height": 1000
    },
    "id": "vpkREgk784CJ",
    "outputId": "60fa6d5b-3b3d-4ce9-b668-c9225dfa7f85"
   },
   "source": [
    "AV = AutoViz_Class()\n",
    "autovis = AV.AutoViz(filename = 'train_strokes.csv', sep=',', depVar='', dfte=None, header=0, verbose=2,\n",
    "                            lowess=False,chart_format='svg',max_rows_analyzed=150000,max_cols_analyzed=30)\n",
    "autovis"
   ]
  },
  {
   "cell_type": "markdown",
   "metadata": {
    "id": "QJUxZMJ81M6H"
   },
   "source": [
    "### **Exploring data using Traditional python code, with the help of interactive widgets.**"
   ]
  },
  {
   "cell_type": "markdown",
   "metadata": {
    "id": "1VHcpPMiDz65"
   },
   "source": [
    "abg = dodge[['hypertension', 'heart_disease']].groupby(['hypertension']).count().style.background_gradient(cmap = 'viridis')"
   ]
  },
  {
   "cell_type": "markdown",
   "metadata": {
    "id": "_mP6byDW4-ge"
   },
   "source": [
    "Sum of Heart Disease values with respect to hypertension, This can be easily eaxplained by crosstab()"
   ]
  },
  {
   "cell_type": "markdown",
   "metadata": {
    "colab": {
     "base_uri": "https://localhost:8080/",
     "height": 97
    },
    "id": "W3NHDefzekoh",
    "outputId": "b6dfd14b-b158-4efd-daa5-506b73dbf538"
   },
   "source": [
    "abg"
   ]
  },
  {
   "cell_type": "markdown",
   "metadata": {
    "colab": {
     "base_uri": "https://localhost:8080/",
     "height": 137
    },
    "id": "pK9y-6Az5eyC",
    "outputId": "524c184e-1554-4fd3-ae73-95b188c71c28"
   },
   "source": [
    "dre = pd.crosstab(dodge['hypertension'], dodge['heart_disease'])\n",
    "dre"
   ]
  },
  {
   "cell_type": "markdown",
   "metadata": {
    "id": "DaXKeGXQ3SwN"
   },
   "source": [
    "#### @interact:\n",
    "The interact function (ipywidgets.interact) automatically creates user interface (UI) controls for exploring code and data interactively.\n",
    "\n",
    "The function gets called each time the slider is moved."
   ]
  },
  {
   "cell_type": "markdown",
   "metadata": {
    "colab": {
     "base_uri": "https://localhost:8080/",
     "height": 149,
     "referenced_widgets": [
      "3c7eda20dd9841c4a5aef322839d300e",
      "bfb9e41752ca4433b2631d25fabc942d",
      "4f27565831074e4abb4656992166e123",
      "5beba712068a4cada5fbea8befcab779",
      "d1023734fa5f45f781900668eb9e68b7",
      "791b51e0b46a453093ece02a77a53dc9",
      "c7f81185c2514e5a9351fd8af90d553e"
     ]
    },
    "id": "z-ZYa1axephy",
    "outputId": "812bbecb-9a89-4cb8-c415-f2485274ecc5"
   },
   "source": [
    "@interact\n",
    "def abc(x = 50):\n",
    "  y = dodge[dodge['avg_glucose_level'] > x]\n",
    "  return y['stroke'].value_counts()\n",
    "abc()"
   ]
  },
  {
   "cell_type": "markdown",
   "metadata": {
    "colab": {
     "base_uri": "https://localhost:8080/",
     "height": 181,
     "referenced_widgets": [
      "23295bed14484c488864ffd58ff96c62",
      "2e597e9e561245cfb7086ba4d1ebdb37",
      "73f47712fe494cfabfc1f423274dc62c",
      "d2a10f189174495e9e531f0202079662",
      "683628a4be864deb886e010fc2329a47",
      "c0531ac10d3349098e4d25b672c7eed9",
      "7ab5533716f54bda9cab8388617c9d3b",
      "dd6b3400cbe644faba26bbbe848acbc9",
      "a4ddd932c0224c77bdff80bd3613098a",
      "602c24cdba194626863b021f2a97002e"
     ]
    },
    "id": "WCQ_KEUli-VT",
    "outputId": "c021a7f2-2476-4d75-8c97-0f46fa2478af"
   },
   "source": [
    "@interact\n",
    "def hyp_heart(x=0, y=0):\n",
    "  g = dodge[(dodge['hypertension'] == x) & (dodge['heart_disease'] == y)]\n",
    "  return g['stroke'].value_counts()\n",
    "hyp_heart()"
   ]
  },
  {
   "cell_type": "markdown",
   "metadata": {
    "colab": {
     "base_uri": "https://localhost:8080/",
     "height": 314,
     "referenced_widgets": [
      "3e85f2606d954ccc91cee709f38ff6ed",
      "2bc10dcb97d64784a4f9fe11d09c2bfd",
      "fbae4c8fc8dc42e39ff9918e53e31382",
      "561ee7ae2f5646cd820e8f377297ad5e",
      "29a5e7a3eff543e6af95ba9586108ce2",
      "599e40ad08024af1a28cb0a46f202925",
      "df5415f739654713b3c7282a0325f00f",
      "a2cafa9c66b5477b888ccabd8fc35ee6",
      "6bbca91babd947ee846aae27fe16a968",
      "0dd85a7ec77343248c717ab177284649",
      "fe699560af824ceb87403da6bf09ec93",
      "68e5b04bf14e4c14bcedb2b831618c09",
      "7c79962128bf49b388ca771a132755d4"
     ]
    },
    "id": "BswjgwLIltF-",
    "outputId": "28e866b6-b623-4788-b8ad-a32aaddc675a"
   },
   "source": [
    "@interact\n",
    "def hy_he_eve(x=0,y=0,z='No'):\n",
    "  j = dodge[(dodge['hypertension'] == x) & (dodge['heart_disease'] == y) & (dodge['ever_married'] == z)]\n",
    "  return j['stroke'].value_counts(), j['smoking_status'].value_counts()\n",
    "hy_he_eve()"
   ]
  },
  {
   "cell_type": "markdown",
   "metadata": {
    "id": "KsMqqA7XD4gs"
   },
   "source": [
    "### **Feature Transformation.**\n",
    "Feature Transformation is the technique of transforming the variable into other form like Strings -> Numeric, splitting the Date Column in to pieces etc.\n",
    "\n",
    " Types of encoding.\n",
    "#### 1. Nominal Encoding.\n",
    "  *   one hot encoding -> Creating Dummy variables.\n",
    "  *   one hot encoding with multi categories(more than 20 categories)\n",
    "  *   mean encoding\n",
    "\n",
    "\n",
    "#### 2. Ordinal Encoding.\n",
    "  * Label Encoder\n",
    "  * target_guided_encoding\n",
    "\n",
    "-> For the columns with less than 5 categories we can manually perform encoding, usinf map().\n",
    "\n",
    "-> For Columns with more than 20 Categories we can perform one hot encoding with multi categories, where we tend to select the top categories based on their value_counts().\n"
   ]
  },
  {
   "cell_type": "markdown",
   "metadata": {
    "colab": {
     "base_uri": "https://localhost:8080/",
     "height": 196
    },
    "id": "k6k27EbjD01-",
    "outputId": "ca8740eb-1481-466b-afe3-95fcc3b15a1d"
   },
   "source": [
    "dodge.head()"
   ]
  },
  {
   "cell_type": "markdown",
   "metadata": {
    "colab": {
     "base_uri": "https://localhost:8080/"
    },
    "id": "AAorvzLrD1Ha",
    "outputId": "46e55b24-0bf0-42d1-dcec-4f681cfab893"
   },
   "source": [
    "dodge['smoking_status'].unique()"
   ]
  },
  {
   "cell_type": "markdown",
   "metadata": {
    "id": "aQPOEtgJI8BE"
   },
   "source": [
    "mapping = {'Male':2, 'Female':1, 'Other':0}\n",
    "mapping1 = {'No':0, 'Yes':1}\n",
    "mapping2 = {'never smoked':0, 'formerly smoked':1, 'smokes':2}"
   ]
  },
  {
   "cell_type": "markdown",
   "metadata": {
    "id": "zVZ0M4STOFLX"
   },
   "source": [
    "dodge['gender'] = dodge['gender'].map(mapping)"
   ]
  },
  {
   "cell_type": "markdown",
   "metadata": {
    "id": "ok6zw5p7OGLY"
   },
   "source": [
    "dodge['ever_married'] = dodge['ever_married'].map(mapping1)"
   ]
  },
  {
   "cell_type": "markdown",
   "metadata": {
    "id": "A3brqipEOL69"
   },
   "source": [
    "dodge['smoking_status'] = dodge['smoking_status'].map(mapping2)"
   ]
  },
  {
   "cell_type": "markdown",
   "metadata": {
    "colab": {
     "base_uri": "https://localhost:8080/",
     "height": 196
    },
    "id": "xwzVDZKWORKn",
    "outputId": "dac0044a-ae26-4a0f-d955-fc74e7d30bf5"
   },
   "source": [
    "dodge[['gender', 'smoking_status', 'ever_married']].head()"
   ]
  },
  {
   "cell_type": "markdown",
   "metadata": {
    "colab": {
     "base_uri": "https://localhost:8080/"
    },
    "id": "KPFLdb7JOjiM",
    "outputId": "0a8d0013-a8d7-4d85-8f29-a22ab99c874b"
   },
   "source": [
    "dodge['work_type'].unique()"
   ]
  },
  {
   "cell_type": "markdown",
   "metadata": {
    "colab": {
     "base_uri": "https://localhost:8080/"
    },
    "id": "wxERE6j_QX1A",
    "outputId": "6b86f3c0-9660-42b4-a5d5-213c1042c727"
   },
   "source": [
    "dodge['Residence_type'].unique()"
   ]
  },
  {
   "cell_type": "markdown",
   "metadata": {
    "id": "Bn7QsHUDmEYN"
   },
   "source": [
    "dodge['home_town'] = pd.get_dummies(dodge['Residence_type'], drop_first = True)"
   ]
  },
  {
   "cell_type": "markdown",
   "metadata": {
    "id": "1gZVWWkrCYaZ"
   },
   "source": [
    "Creating a new dataframe with respect to work_type."
   ]
  },
  {
   "cell_type": "markdown",
   "metadata": {
    "id": "e5DFnKUUq-H2"
   },
   "source": [
    "f150 = pd.get_dummies(dodge['work_type'], drop_first = True)"
   ]
  },
  {
   "cell_type": "markdown",
   "metadata": {
    "id": "kP4NFanIChNs"
   },
   "source": [
    "Merging 2 DataFrames(dodge,f150) with the default join."
   ]
  },
  {
   "cell_type": "markdown",
   "metadata": {
    "id": "-sRQa44grQoR"
   },
   "source": [
    "camero = pd.concat([dodge,f150], axis = 1)"
   ]
  },
  {
   "cell_type": "markdown",
   "metadata": {
    "colab": {
     "base_uri": "https://localhost:8080/",
     "height": 233
    },
    "id": "uXm9hQo5sddh",
    "outputId": "5852c319-4282-4307-909e-db9b3548a774"
   },
   "source": [
    "camero.head()"
   ]
  },
  {
   "cell_type": "markdown",
   "metadata": {
    "id": "ehoSoi1NstpQ"
   },
   "source": [
    "camero.rename(columns = {'Never_worked':'w_t_n_w', 'Private':'w_t_p', 'Self-employed':'w_t_s_e', 'children':'w_t_c'}, inplace = True)"
   ]
  },
  {
   "cell_type": "markdown",
   "metadata": {
    "id": "JBt8JP3aCyn3"
   },
   "source": [
    "Droping the columns ['work_type', 'Residence_type'], as we have already created dummy variables for them."
   ]
  },
  {
   "cell_type": "markdown",
   "metadata": {
    "id": "B3OSy6jkuA_a"
   },
   "source": [
    "camero.drop(columns = ['work_type','Residence_type'], inplace = True)"
   ]
  },
  {
   "cell_type": "markdown",
   "metadata": {
    "colab": {
     "base_uri": "https://localhost:8080/",
     "height": 196
    },
    "id": "DMh2nncSuiXg",
    "outputId": "6f501243-bd42-4999-dbb2-9d3b0bb53e20"
   },
   "source": [
    "camero.head()"
   ]
  },
  {
   "cell_type": "markdown",
   "metadata": {
    "colab": {
     "base_uri": "https://localhost:8080/"
    },
    "id": "YkJGUMrAu7xz",
    "outputId": "203e69ad-1be2-489a-cf1e-96d7a899de21"
   },
   "source": [
    "camero.info()"
   ]
  },
  {
   "cell_type": "markdown",
   "metadata": {
    "id": "uUhM_InUFUNL"
   },
   "source": [
    "### **Feature Scaling**\n",
    "Feature Scaling is the technique to scale down all the values in the datset to same level, so that there will be no partiality while we train the model like bmi -> 56 getting high priority than heart_disease -> 0, so in order to remove this error, feature scaling is done.\n",
    "\n",
    "Feature Scaling Tools.\n",
    "1. Standardisation (values are centered around the mean with unit standard deviation.)\n",
    "2. Normalisation/min_max scaling.(values range from 0 to 1)"
   ]
  },
  {
   "cell_type": "markdown",
   "metadata": {
    "id": "V7xWNXrTFTSZ"
   },
   "source": [
    "#### StandardScaler()"
   ]
  },
  {
   "cell_type": "markdown",
   "metadata": {
    "colab": {
     "base_uri": "https://localhost:8080/",
     "height": 196
    },
    "id": "vLndohHECAvy",
    "outputId": "50a50652-32b0-4718-f199-7255cbdb5dd1"
   },
   "source": [
    "se = StandardScaler()\n",
    "abh = se.fit_transform(camero.drop(columns=['stroke']))\n",
    "mercury = pd.DataFrame(data = abh, columns = camero.drop(columns = ['stroke']).columns)\n",
    "mercury.head()"
   ]
  },
  {
   "cell_type": "markdown",
   "metadata": {
    "id": "OZYRO7c1FwzY"
   },
   "source": [
    "### **Feature Selection**\n",
    "Selecting the best features which best contribute to our model."
   ]
  },
  {
   "cell_type": "markdown",
   "metadata": {
    "id": "ICzwWJIh0GQA"
   },
   "source": [
    "#### Correlation Diagram."
   ]
  },
  {
   "cell_type": "markdown",
   "metadata": {
    "colab": {
     "base_uri": "https://localhost:8080/",
     "height": 777
    },
    "id": "UtfUucrLFaqu",
    "outputId": "f6b8be53-2d22-44e9-8b9f-86507f1a9911"
   },
   "source": [
    "plt.rcParams['figure.figsize'] = (20,12)\n",
    "corr = mercury.corr()\n",
    "sns.heatmap(corr, annot=True, cmap='autumn')\n",
    "plt.show()"
   ]
  },
  {
   "cell_type": "markdown",
   "metadata": {
    "id": "fe32aVCgGbJW"
   },
   "source": [
    "Function to select the best features with some threshold value."
   ]
  },
  {
   "cell_type": "markdown",
   "metadata": {
    "colab": {
     "base_uri": "https://localhost:8080/"
    },
    "id": "ZUtU7oJDFavH",
    "outputId": "1b75aa8a-230f-4d0b-d382-418cf6338971"
   },
   "source": [
    "def correlation(dataset,threshold):\n",
    "    corr_list = []\n",
    "    corr_matrix = dataset.corr()\n",
    "    for i in range(len(corr_matrix.columns)):\n",
    "        for j in range(i):\n",
    "            if abs(corr_matrix.iloc[i,j] > threshold):\n",
    "                column = corr_matrix.columns[[i,j]]\n",
    "                corr_list.append(column)\n",
    "    print(len(corr_list))\n",
    "    return corr_list\n",
    "correlation(mercury,0.6)"
   ]
  },
  {
   "cell_type": "markdown",
   "metadata": {
    "id": "oKS9IWhAGqNS"
   },
   "source": [
    "Although, we can see ['ever_married', 'age'] are somewhat correlated, but where as if we use 'Variance Inflation Factor\", we ended up with fixing the Multicollinearirty.\n",
    "\n",
    "variance_inflation_factor -> it is used to remove multicollinearity between variables by removing as few variables as possible."
   ]
  },
  {
   "cell_type": "markdown",
   "metadata": {
    "id": "Qm1hpjKl0Qg5"
   },
   "source": [
    "#### VIF->Variance Inflation Factor"
   ]
  },
  {
   "cell_type": "markdown",
   "metadata": {
    "colab": {
     "base_uri": "https://localhost:8080/"
    },
    "id": "HIOv31frEDkL",
    "outputId": "a57401cd-aeaf-4c16-e0f6-eee89254d2d3"
   },
   "source": [
    "vif = variance_inflation_factor \n",
    "earth1 = pd.Series([vif(mercury.values, i) for i in range(mercury.shape[1])], index = mercury.columns)\n",
    "earth1"
   ]
  },
  {
   "cell_type": "markdown",
   "metadata": {
    "id": "E2WSZ11xIFom"
   },
   "source": [
    "Function to check and remove multicollinearity between independent variables."
   ]
  },
  {
   "cell_type": "markdown",
   "metadata": {
    "id": "GFoh54qeAPm-"
   },
   "source": [
    "def mc(data):\n",
    "  earth = pd.Series([vif(data.values, i) for i in range(data.shape[1])], index = data.columns)\n",
    "  if earth.max() > 6:\n",
    "    print(earth[earth == earth.max()].index[0], 'Has Been Removed.')\n",
    "    data = data.drop(columns = earth[earth == earth.max()].index[0])\n",
    "  else:\n",
    "    print(\"MultiCollinearity Has Been Removed.\")\n",
    "    return data"
   ]
  },
  {
   "cell_type": "markdown",
   "metadata": {
    "colab": {
     "base_uri": "https://localhost:8080/",
     "height": 280
    },
    "id": "3W_kefk3APqq",
    "outputId": "1fe17604-eb05-4c58-9572-01439a83f1d4"
   },
   "source": [
    "for i in range(5):\n",
    "  mercury = mc(mercury)\n",
    "mercury.head()"
   ]
  },
  {
   "cell_type": "markdown",
   "metadata": {
    "id": "F4Z58wPwPRxp"
   },
   "source": [
    "### **Splitting Data**\n",
    "Splitting the dataset \n",
    "\n",
    "1. target_var\n",
    "2. Independent_var"
   ]
  },
  {
   "cell_type": "markdown",
   "metadata": {
    "id": "4KOeQyFrPQj4"
   },
   "source": [
    "target_var = camero['stroke']\n",
    "inde_vars = camero.drop(columns=['stroke'], axis = 1)"
   ]
  },
  {
   "cell_type": "markdown",
   "metadata": {
    "colab": {
     "base_uri": "https://localhost:8080/"
    },
    "id": "eBlZ68ck9J_X",
    "outputId": "c1fd2480-791c-4b25-b017-e13d7f4e48c1"
   },
   "source": [
    "target_var"
   ]
  },
  {
   "cell_type": "markdown",
   "metadata": {
    "colab": {
     "base_uri": "https://localhost:8080/",
     "height": 196
    },
    "id": "SfbIc_775UVq",
    "outputId": "91ea584d-8be9-4853-cea9-a7b4ed80a1ab"
   },
   "source": [
    "inde_vars.head()"
   ]
  },
  {
   "cell_type": "markdown",
   "metadata": {
    "id": "JaZsSI4aKf-l"
   },
   "source": [
    "### **Handling Imbalanced Dataset.**\n",
    "As we saw the target_calss was highly imbalanced, so we try to balance the target_class using Oversampling method, using \"SMOTETomek\" tool."
   ]
  },
  {
   "cell_type": "markdown",
   "metadata": {
    "colab": {
     "base_uri": "https://localhost:8080/",
     "height": 196
    },
    "id": "sscKjAaaKe-7",
    "outputId": "b87e3e7c-a007-4b29-aa77-fc9c2d9fbd36"
   },
   "source": [
    "camero.head()"
   ]
  },
  {
   "cell_type": "markdown",
   "metadata": {
    "id": "s0f8moi-0g2k"
   },
   "source": [
    "#### SMOTETomek Tool"
   ]
  },
  {
   "cell_type": "markdown",
   "metadata": {
    "id": "K-wdn1vtTa8A"
   },
   "source": [
    "so = SMOTETomek()\n",
    "x_resample,y_resample = so.fit_sample(inde_vars, target_var.values.ravel())\n",
    "brad = pd.DataFrame(data=x_resample, columns = inde_vars.columns)"
   ]
  },
  {
   "cell_type": "markdown",
   "metadata": {
    "colab": {
     "base_uri": "https://localhost:8080/"
    },
    "id": "EfJX8BRUTbkR",
    "outputId": "88042101-5623-4b0c-ee10-754446fed27e"
   },
   "source": [
    "#Before resampling\n",
    "print(\"Before Resampling Target_Variable: \")\n",
    "print(target_var.value_counts())\n",
    "\n",
    "# After resampling\n",
    "y_resample = pd.DataFrame(y_resample)\n",
    "print(\"After Resampling Target_Variable:\")\n",
    "print(y_resample[0].value_counts())"
   ]
  },
  {
   "cell_type": "markdown",
   "metadata": {
    "id": "Rcz4mz4SVJXn"
   },
   "source": [
    "### **Train Test Split.**\n",
    "Splitting the data into train and test datasets."
   ]
  },
  {
   "cell_type": "markdown",
   "metadata": {
    "colab": {
     "base_uri": "https://localhost:8080/"
    },
    "id": "yQUinilwVIfD",
    "outputId": "c18a98f8-5e27-4f3d-9c62-277b788f9fef"
   },
   "source": [
    "x_train,x_test,y_train,y_test = train_test_split(x_resample, y_resample, test_size = 0.3, random_state = 50)\n",
    "print(x_train.shape)\n",
    "print(y_train.shape)\n",
    "print(x_test.shape)\n",
    "print(y_test.shape)"
   ]
  },
  {
   "cell_type": "markdown",
   "metadata": {
    "id": "TLPl73LeUzwR"
   },
   "source": [
    "### **Feature Scaling Balanced Data.**\n",
    "Now, as we have balanced our data, we need to perform feature scaling to the banlanced data.\n"
   ]
  },
  {
   "cell_type": "markdown",
   "metadata": {
    "id": "jlGrjXWvUyfF"
   },
   "source": [
    "x_train_ss = se.fit_transform(x_train)\n",
    "x_test_ss = se.transform(x_test)"
   ]
  },
  {
   "cell_type": "markdown",
   "metadata": {
    "id": "7YWh2B37gsCg"
   },
   "source": [
    "## **Creating Test Data.**"
   ]
  },
  {
   "cell_type": "markdown",
   "metadata": {
    "id": "_0gbJer3g8Zx"
   },
   "source": [
    "ford = pd.read_csv(\"healthcare-dataset-stroke-data.csv\")"
   ]
  },
  {
   "cell_type": "markdown",
   "metadata": {
    "colab": {
     "base_uri": "https://localhost:8080/",
     "height": 196
    },
    "id": "mULIcgD5g8hM",
    "outputId": "6871b0ef-a6c3-4324-b72d-ece3e9f2a254"
   },
   "source": [
    "ford.head()"
   ]
  },
  {
   "cell_type": "markdown",
   "metadata": {
    "colab": {
     "base_uri": "https://localhost:8080/"
    },
    "id": "RquPFv3xg8nn",
    "outputId": "00549227-e3b3-4f0b-edd9-6476e0202ddf"
   },
   "source": [
    "ford.info()"
   ]
  },
  {
   "cell_type": "markdown",
   "metadata": {
    "id": "j15l-sEJg8tj"
   },
   "source": [
    "ford.drop(index = ford[(ford.age > 1.0) & (ford.age < 2.0)].index, axis = 0, inplace = True)"
   ]
  },
  {
   "cell_type": "markdown",
   "metadata": {
    "colab": {
     "base_uri": "https://localhost:8080/"
    },
    "id": "7WI455Clhv8B",
    "outputId": "70ecf9d0-bfdb-478c-bb96-96da1027473d"
   },
   "source": [
    "ford.info()"
   ]
  },
  {
   "cell_type": "markdown",
   "metadata": {
    "colab": {
     "base_uri": "https://localhost:8080/"
    },
    "id": "LaxooU0tg81q",
    "outputId": "62353b07-7b62-49c3-87bf-97b5ced3aa9a"
   },
   "source": [
    "ford.shape"
   ]
  },
  {
   "cell_type": "markdown",
   "metadata": {
    "id": "1yauoANhhyK0"
   },
   "source": [
    "anamolies = []\n",
    "def outliers(data):\n",
    "  random_state_mean = np.mean(data)\n",
    "  random_state_std = np.std(data)\n",
    "  anamoly = random_state_std * 3\n",
    "\n",
    "  upper_limit = random_state_mean + anamoly\n",
    "  lower_limit = random_state_mean - anamoly\n",
    "  uu =  max(ford['avg_glucose_level'])\n",
    "  ll = min(ford['avg_glucose_level'])\n",
    "\n",
    "  print(upper_limit)\n",
    "  print(lower_limit)\n",
    "  for i in data:\n",
    "    if i < ll or i > uu:\n",
    "      anamolies.append(i)"
   ]
  },
  {
   "cell_type": "markdown",
   "metadata": {
    "colab": {
     "base_uri": "https://localhost:8080/"
    },
    "id": "41pTuhaAhyRZ",
    "outputId": "7fd6be13-3f58-4a7c-88c5-45ef36f8814f"
   },
   "source": [
    "outliers(ford['avg_glucose_level'])\n",
    "print(len(anamolies))"
   ]
  },
  {
   "cell_type": "markdown",
   "metadata": {
    "colab": {
     "base_uri": "https://localhost:8080/"
    },
    "id": "OBWzH5NKhyXn",
    "outputId": "497088d7-77c9-49d0-bdd8-4da8f442b331"
   },
   "source": [
    "dodge['avg_glucose_level'].describe()"
   ]
  },
  {
   "cell_type": "markdown",
   "metadata": {
    "id": "1UwK3uGPhyfr"
   },
   "source": [
    "anamolies = []\n",
    "def outliers(data):\n",
    "  random_state_mean = np.mean(data)\n",
    "  random_state_std = np.std(data)\n",
    "  anamoly = random_state_std * 3\n",
    "\n",
    "  upper_limit = random_state_mean + anamoly\n",
    "  lower_limit = random_state_mean - anamoly\n",
    "  ll = min(ford['bmi'])\n",
    "\n",
    "  print(upper_limit)\n",
    "  print(lower_limit)\n",
    "  for i in data:\n",
    "    if i < ll or i > upper_limit:\n",
    "      anamolies.append(i)"
   ]
  },
  {
   "cell_type": "markdown",
   "metadata": {
    "colab": {
     "base_uri": "https://localhost:8080/"
    },
    "id": "yaLEE5SJhymY",
    "outputId": "291eebed-a35c-4f0e-b9b2-4ec623e1e2e2"
   },
   "source": [
    "outliers(ford['bmi'])\n",
    "print(len(anamolies))"
   ]
  },
  {
   "cell_type": "markdown",
   "metadata": {
    "colab": {
     "base_uri": "https://localhost:8080/",
     "height": 1000
    },
    "id": "FlB4UWX9hysF",
    "outputId": "c96362cb-b335-43da-8a5c-45f3f2dbb0d5"
   },
   "source": [
    "ford[ford['bmi'] > 52.45615973942819]"
   ]
  },
  {
   "cell_type": "markdown",
   "metadata": {
    "id": "g_X1XVBShyyw"
   },
   "source": [
    "ford.drop(index = ford[ford['bmi'] > 52.45615973942819].index, axis = 0, inplace = True)"
   ]
  },
  {
   "cell_type": "markdown",
   "metadata": {
    "colab": {
     "base_uri": "https://localhost:8080/"
    },
    "id": "OUIWYnpoiLGc",
    "outputId": "6493833c-a71e-4c2f-9576-35224dcb2b2e"
   },
   "source": [
    "ford.shape"
   ]
  },
  {
   "cell_type": "markdown",
   "metadata": {
    "colab": {
     "base_uri": "https://localhost:8080/"
    },
    "id": "GQHQ8TJtiLOP",
    "outputId": "5eb74fb7-d836-4299-d726-7c7e17367047"
   },
   "source": [
    "ford.isnull().sum()"
   ]
  },
  {
   "cell_type": "markdown",
   "metadata": {
    "colab": {
     "base_uri": "https://localhost:8080/"
    },
    "id": "nrdt1IMMiLUn",
    "outputId": "3ff61ab0-5838-460c-927f-78e275469600"
   },
   "source": [
    "ford['bmi'].mean()"
   ]
  },
  {
   "cell_type": "markdown",
   "metadata": {
    "id": "Qls2fLsniLa8"
   },
   "source": [
    "ford['bmi'].fillna(ford['bmi'].mean(), inplace = True)"
   ]
  },
  {
   "cell_type": "markdown",
   "metadata": {
    "colab": {
     "base_uri": "https://localhost:8080/"
    },
    "id": "yHKYYU7YieIs",
    "outputId": "81d0ad7a-eaf0-474f-dde6-73056aef7812"
   },
   "source": [
    "ford['bmi'].isnull().sum()"
   ]
  },
  {
   "cell_type": "markdown",
   "metadata": {
    "colab": {
     "base_uri": "https://localhost:8080/"
    },
    "id": "66S19Pw-ieOS",
    "outputId": "e40173a6-2949-4ad5-b1a7-5ffbafba8f20"
   },
   "source": [
    "ford['smoking_status'].replace('Unknown', 'never smoked')"
   ]
  },
  {
   "cell_type": "markdown",
   "metadata": {
    "colab": {
     "base_uri": "https://localhost:8080/"
    },
    "id": "ICcQ_o9rieWJ",
    "outputId": "a30b8099-e53b-47ba-939f-7507ba6eb745"
   },
   "source": [
    "ford.info()"
   ]
  },
  {
   "cell_type": "markdown",
   "metadata": {
    "id": "fClgGU1gied9"
   },
   "source": [
    "ford.drop(columns = ['id'], axis=1, inplace = True)"
   ]
  },
  {
   "cell_type": "markdown",
   "metadata": {
    "id": "iSIS6EHYi5a4"
   },
   "source": [
    "ford['smoking_status'].replace({'Unknown':'never smoked'}, inplace = True)"
   ]
  },
  {
   "cell_type": "markdown",
   "metadata": {
    "id": "yUMA2d0di5hS"
   },
   "source": [
    "ford['gender'] = ford['gender'].map(mapping)"
   ]
  },
  {
   "cell_type": "markdown",
   "metadata": {
    "id": "OWw5lu7Ci5nW"
   },
   "source": [
    "ford['ever_married'] = ford['ever_married'].map(mapping1)"
   ]
  },
  {
   "cell_type": "markdown",
   "metadata": {
    "id": "fL6nH9WBi5vb"
   },
   "source": [
    "ford['smoking_status'] = ford['smoking_status'].map(mapping2)"
   ]
  },
  {
   "cell_type": "markdown",
   "metadata": {
    "colab": {
     "base_uri": "https://localhost:8080/",
     "height": 196
    },
    "id": "Zda7dN2ni52C",
    "outputId": "988ec52f-b962-4795-a7f5-ad0cb7214d6e"
   },
   "source": [
    "ford[['gender', 'smoking_status', 'ever_married']].head()"
   ]
  },
  {
   "cell_type": "markdown",
   "metadata": {
    "colab": {
     "base_uri": "https://localhost:8080/"
    },
    "id": "kBQZPEcCi578",
    "outputId": "8f2edf6a-db74-47b0-bd54-bfb05a99acf7"
   },
   "source": [
    "ford['work_type'].unique()"
   ]
  },
  {
   "cell_type": "markdown",
   "metadata": {
    "colab": {
     "base_uri": "https://localhost:8080/"
    },
    "id": "DiRQC6Wri6Bu",
    "outputId": "574f585d-7190-4e29-995c-7aec02602971"
   },
   "source": [
    "ford['Residence_type'].unique()"
   ]
  },
  {
   "cell_type": "markdown",
   "metadata": {
    "id": "-EW7vMq9jUXu"
   },
   "source": [
    "ford['home_town'] = pd.get_dummies(ford['Residence_type'], drop_first = True)"
   ]
  },
  {
   "cell_type": "markdown",
   "metadata": {
    "id": "QeF_uR5ljUdo"
   },
   "source": [
    "rap = pd.get_dummies(ford['work_type'], drop_first = True)"
   ]
  },
  {
   "cell_type": "markdown",
   "metadata": {
    "id": "YHEPUkHOjUlr"
   },
   "source": [
    "cam = pd.concat([ford,rap], axis = 1)"
   ]
  },
  {
   "cell_type": "markdown",
   "metadata": {
    "colab": {
     "base_uri": "https://localhost:8080/",
     "height": 266
    },
    "id": "8Bac178hjUs_",
    "outputId": "7c54905b-c966-4ffe-dcc4-140928344ae1"
   },
   "source": [
    "cam.head()"
   ]
  },
  {
   "cell_type": "markdown",
   "metadata": {
    "id": "-Cf_cOHVjUzA"
   },
   "source": [
    "cam.rename(columns = {'Never_worked':'w_t_n_w', 'Private':'w_t_p', 'Self-employed':'w_t_s_e', 'children':'w_t_c'}, inplace = True)"
   ]
  },
  {
   "cell_type": "markdown",
   "metadata": {
    "id": "-AVX1--xjnyM"
   },
   "source": [
    "cam.drop(columns = ['work_type','Residence_type'], inplace = True)"
   ]
  },
  {
   "cell_type": "markdown",
   "metadata": {
    "id": "Uz4jn_5Mjn5L"
   },
   "source": [
    "target = cam['stroke']\n",
    "original = cam.drop(columns = ['stroke'])"
   ]
  },
  {
   "cell_type": "markdown",
   "metadata": {
    "id": "p9MTYD2YjoAX"
   },
   "source": [
    "resampled_x,resampled_y = so.fit_resample(original,target.values.ravel())\n",
    "pitt = pd.DataFrame(data = resampled_x, columns=original.columns)"
   ]
  },
  {
   "cell_type": "markdown",
   "metadata": {
    "colab": {
     "base_uri": "https://localhost:8080/"
    },
    "id": "ebmG6WfZjoJd",
    "outputId": "535b4af4-6e2b-4dc7-b632-16c40f6ecfd0"
   },
   "source": [
    "#Before resampling\n",
    "print(\"Before Resampling Target_Variable: \")\n",
    "print(target.value_counts())\n",
    "\n",
    "# After resampling\n",
    "resampled_y = pd.DataFrame(resampled_y)\n",
    "print(\"After Resampling Target_Variable:\")\n",
    "print(resampled_y[0].value_counts())"
   ]
  },
  {
   "cell_type": "markdown",
   "metadata": {
    "id": "DbkWgKrXjoPt"
   },
   "source": [
    "fish = se.fit_transform(resampled_x)\n",
    "lucas = pd.DataFrame(data = fish, columns = original.columns)"
   ]
  },
  {
   "cell_type": "markdown",
   "metadata": {
    "colab": {
     "base_uri": "https://localhost:8080/",
     "height": 196
    },
    "id": "vAR1uWAGkAbx",
    "outputId": "625a6194-735a-4315-87d8-cc601c4c636c"
   },
   "source": [
    "lucas.head()"
   ]
  },
  {
   "cell_type": "markdown",
   "metadata": {
    "colab": {
     "base_uri": "https://localhost:8080/"
    },
    "id": "fluvf987kAhT",
    "outputId": "61a4bbbf-40fe-446d-caf1-ec77a568a7c5"
   },
   "source": [
    "lucas.info()"
   ]
  },
  {
   "cell_type": "markdown",
   "metadata": {
    "id": "-pUY-XfvYnbl"
   },
   "source": [
    "## **Building Predictive Models.**\n",
    "1. Decision Tree\n",
    "2. Random Forest\n",
    "3. Logistic Regression"
   ]
  },
  {
   "cell_type": "markdown",
   "metadata": {
    "id": "UQrZl11k49Lg"
   },
   "source": [
    "## **Decision Tree Classifier**"
   ]
  },
  {
   "cell_type": "markdown",
   "metadata": {
    "colab": {
     "base_uri": "https://localhost:8080/"
    },
    "id": "oawIuwhSYtzS",
    "outputId": "36661c61-b6d4-4b74-ac9d-40782b7596a2"
   },
   "source": [
    "from sklearn.tree import DecisionTreeClassifier\n",
    "dt = DecisionTreeClassifier()\n",
    "dt.fit(x_train_ss,y_train)\n",
    "predictions = dt.predict(x_test_ss)\n",
    "\n",
    "print('The Training Accuracy of x_train and y_train is', dt.score(x_train_ss,y_train))\n",
    "print(\"The Testing Accuracy of x_test and y_test is\", dt.score(x_test_ss,y_test))"
   ]
  },
  {
   "cell_type": "markdown",
   "metadata": {
    "colab": {
     "base_uri": "https://localhost:8080/"
    },
    "id": "-tGsvMyWA4lj",
    "outputId": "9784768e-e015-4de9-d97c-af3f13df227e"
   },
   "source": [
    "print(confusion_matrix(predictions,y_test))"
   ]
  },
  {
   "cell_type": "markdown",
   "metadata": {
    "colab": {
     "base_uri": "https://localhost:8080/"
    },
    "id": "boXcjWMsPnMf",
    "outputId": "e5cbbba9-0466-4383-eb4e-28df108cf48c"
   },
   "source": [
    "print(classification_report(predictions,y_test))"
   ]
  },
  {
   "cell_type": "markdown",
   "metadata": {
    "colab": {
     "base_uri": "https://localhost:8080/"
    },
    "id": "fizpqTFORsO_",
    "outputId": "e4998f9d-f68e-4823-ecc8-a391b56f94a4"
   },
   "source": [
    "print(accuracy_score(predictions, y_test))"
   ]
  },
  {
   "cell_type": "markdown",
   "metadata": {
    "id": "jQeaxFcX1Y5t"
   },
   "source": [
    "### **Tree Plot.**"
   ]
  },
  {
   "cell_type": "markdown",
   "metadata": {
    "colab": {
     "base_uri": "https://localhost:8080/",
     "height": 1000
    },
    "id": "2CYxyMXy6-9-",
    "outputId": "b367cae8-ac82-4d11-a952-13ed93e7a0e6"
   },
   "source": [
    "plt.figure(figsize = (15,10))\n",
    "tree.plot_tree(dt, filled = True)"
   ]
  },
  {
   "cell_type": "markdown",
   "metadata": {
    "id": "Ve_lW3_O6_bG"
   },
   "source": [
    "### Performing Cross Validation on DT Model.\n",
    "Performing cross validation on the dataset using StratifiedKFold and calculating the mean Accuracy that can be achieved by the model."
   ]
  },
  {
   "cell_type": "markdown",
   "metadata": {
    "colab": {
     "base_uri": "https://localhost:8080/"
    },
    "id": "1rWC4p-YTf6n",
    "outputId": "67a9241e-44fb-47e7-a7eb-3f19e4b3b47d"
   },
   "source": [
    "x = pd.DataFrame(data = x_train_ss, columns = inde_vars.columns)\n",
    "y = y_train\n",
    "from sklearn.model_selection import  StratifiedKFold\n",
    "accuracy = []\n",
    "skf = StratifiedKFold(n_splits = 10, random_state = None)\n",
    "skf.get_n_splits(x,y)\n",
    "for train_index, test_index in skf.split(x,y):\n",
    "  print('Train:', train_index, 'Validation',test_index)\n",
    "  x1_train,x1_test = x.iloc[train_index],x.iloc[test_index]\n",
    "  y1_train,y1_test = y.iloc[train_index],y.iloc[test_index]\n",
    "  dt.fit(x1_train,y1_train)\n",
    "  pred = dt.predict(x1_test)\n",
    "  score = accuracy_score(pred,y1_test)\n",
    "  accuracy.append(score)\n",
    "print(accuracy)"
   ]
  },
  {
   "cell_type": "markdown",
   "metadata": {
    "id": "gpe9_dSRTgBV"
   },
   "source": [
    "arr = np.array(accuracy)"
   ]
  },
  {
   "cell_type": "markdown",
   "metadata": {
    "colab": {
     "base_uri": "https://localhost:8080/"
    },
    "id": "i_pY23Y7TgEf",
    "outputId": "28cde41d-4b8b-40a6-9fcc-4443fc636fd1"
   },
   "source": [
    "np.mean(arr)"
   ]
  },
  {
   "cell_type": "markdown",
   "metadata": {
    "id": "76gWzz4x8M_P"
   },
   "source": [
    "### Hyper Parameter Tuning the model to overcome Overfitting model.\n",
    "Determining the parameters by plotting f1_score metrics.\n",
    "1. Function to calculate f1_score.\n",
    "2. Function to plot the f1_score that we have calculated.\n",
    "3. Pass the parameter values in the model and call the functions."
   ]
  },
  {
   "cell_type": "markdown",
   "metadata": {
    "id": "Zo0ZCw6ETgG6"
   },
   "source": [
    "def cal_score(model, x1,y1,x2,y2):\n",
    "  model.fit(x1,y1)\n",
    "  p = model.predict(x1)\n",
    "  f1 = f1_score(y1, p)\n",
    "  p1 = model.predict(x2)\n",
    "  f2 = f1_score(y2,p1)\n",
    "  return f1,f2"
   ]
  },
  {
   "cell_type": "markdown",
   "metadata": {
    "id": "qi3SAMdl0CuM"
   },
   "source": [
    "def effect(train, test, x_axis, title):\n",
    "  plt.figure(figsize = (12,10), dpi = 100)\n",
    "  plt.plot(x_axis, train, color = 'red', label = 'train_score')\n",
    "  plt.plot(x_axis, test, color = 'blue', label = 'test_score')\n",
    "  plt.legend()\n",
    "  plt.show()"
   ]
  },
  {
   "cell_type": "markdown",
   "metadata": {
    "colab": {
     "base_uri": "https://localhost:8080/",
     "height": 815
    },
    "id": "bQYH4a8z0Cxr",
    "outputId": "27612819-3787-447d-fe93-73dd105ad0b4"
   },
   "source": [
    "max_depth = [i for i in range(1,50)]\n",
    "train = []\n",
    "test = []\n",
    "for i in max_depth:\n",
    "  model =DecisionTreeClassifier(max_depth=i, random_state=50)\n",
    "  f1,f2 = cal_score(model, x_train, y_train, x_test, y_test)\n",
    "  train.append(f1)\n",
    "  test.append(f2)\n",
    "effect(train,test, range(1,50), 'Max_Depth')"
   ]
  },
  {
   "cell_type": "markdown",
   "metadata": {
    "colab": {
     "base_uri": "https://localhost:8080/",
     "height": 815
    },
    "id": "fiD7W2P90C2s",
    "outputId": "67f81b77-af90-44b1-eaa5-53bd81ab4f1f"
   },
   "source": [
    "min_samples = [i for i in range(2,5000,25)]\n",
    "train = []\n",
    "test = []\n",
    "for i in min_samples:\n",
    "  model =DecisionTreeClassifier(max_depth=20, random_state=50, min_samples_split=i)\n",
    "  f1,f2 = cal_score(model, x_train, y_train, x_test, y_test)\n",
    "  train.append(f1)\n",
    "  test.append(f2)\n",
    "effect(train,test, range(2,5000,25), 'Min_Samples_Split')"
   ]
  },
  {
   "cell_type": "markdown",
   "metadata": {
    "colab": {
     "base_uri": "https://localhost:8080/",
     "height": 815
    },
    "id": "1W2efX204Yyw",
    "outputId": "9d419508-52bb-4cf7-e105-10ca2884f9ef"
   },
   "source": [
    "max_leaf = [i for i in range(2,200,10)]\n",
    "train = []\n",
    "test = []\n",
    "for i in max_leaf:\n",
    "  model =DecisionTreeClassifier(max_depth=20,min_samples_split=4250,max_leaf_nodes=i, random_state=50)\n",
    "  f1,f2 = cal_score(model, x_train, y_train, x_test, y_test)\n",
    "  train.append(f1)\n",
    "  test.append(f2)\n",
    "effect(train,test, range(2,200,10), 'Max_Leaf_Nodes')"
   ]
  },
  {
   "cell_type": "markdown",
   "metadata": {
    "id": "UROQcLy19WLn"
   },
   "source": [
    "### Hyper Parameter Tuning the model by using roc_auc_curve.\n"
   ]
  },
  {
   "cell_type": "markdown",
   "metadata": {
    "id": "EAddhtgH4Y-r"
   },
   "source": [
    "def cal_score1(model, x1,y1,x2,y2):\n",
    "  model.fit(x1,y1)\n",
    "  p = model.predict(x1)\n",
    "  false_positive_rate, true_positive_rate, thresholds = roc_curve(y1, p)\n",
    "  roc_auc_1 = auc(false_positive_rate, true_positive_rate)\n",
    "  p1 = model.predict(x2)\n",
    "  false_positive_rate, true_positive_rate, thresholds = roc_curve(y2, p1)\n",
    "  roc_auc_2 = auc(false_positive_rate, true_positive_rate)\n",
    "  return roc_auc_1,roc_auc_2"
   ]
  },
  {
   "cell_type": "markdown",
   "metadata": {
    "id": "wHH-7CmS0C6h"
   },
   "source": [
    "def effect1(train, test, x_axis, title):\n",
    "  plt.figure(figsize = (12,10), dpi = 100)\n",
    "  plt.plot(x_axis, train, color = 'red', label = 'train_score')\n",
    "  plt.plot(x_axis, test, color = 'blue', label = 'test_score')\n",
    "  plt.legend()\n",
    "  plt.show()"
   ]
  },
  {
   "cell_type": "markdown",
   "metadata": {
    "colab": {
     "base_uri": "https://localhost:8080/",
     "height": 815
    },
    "id": "Pep1K7pr-sHy",
    "outputId": "ab3b5cc2-cd89-4d2a-974a-f4a433fd0f9a"
   },
   "source": [
    "max_depth = [i for i in range(1,100)]\n",
    "train = []\n",
    "test = []\n",
    "for i in max_depth:\n",
    "  roc_auc_model =DecisionTreeClassifier(max_depth=i, random_state=50)\n",
    "  roc_auc_1,roc_auc_2 = cal_score1(roc_auc_model, x_train, y_train, x_test, y_test)\n",
    "  train.append(roc_auc_1)\n",
    "  test.append(roc_auc_2)\n",
    "effect1(train,test, range(1,100), 'Max_Depth')"
   ]
  },
  {
   "cell_type": "markdown",
   "metadata": {
    "colab": {
     "base_uri": "https://localhost:8080/",
     "height": 815
    },
    "id": "11qZTJqw-sLe",
    "outputId": "21bbf427-aa2f-4136-adff-bcf3f98041c5"
   },
   "source": [
    "min_sample_leaff = [i for i in range(25,4000,25)]\n",
    "train = []\n",
    "test = []\n",
    "for i in min_sample_leaff:\n",
    "  roc_auc_model =DecisionTreeClassifier(max_depth=20, min_samples_leaf=i, random_state=50)\n",
    "  roc_auc_1,roc_auc_2 = cal_score1(roc_auc_model, x_train, y_train, x_test, y_test)\n",
    "  train.append(roc_auc_1)\n",
    "  test.append(roc_auc_2)\n",
    "effect1(train,test, range(25,4000,25), 'Min_Samples_Leaf')"
   ]
  },
  {
   "cell_type": "markdown",
   "metadata": {
    "colab": {
     "base_uri": "https://localhost:8080/",
     "height": 815
    },
    "id": "u8WirR3I-sPv",
    "outputId": "fe2e7a07-3cf1-4e5c-fbfc-073ad153c69e"
   },
   "source": [
    "max_leaf_node = [i for i in range(2,200,10)]\n",
    "train = []\n",
    "test = []\n",
    "for i in max_leaf_node:\n",
    "  roc_auc_model =DecisionTreeClassifier(max_depth=20,max_leaf_nodes=i, min_samples_leaf=3700, random_state=50)\n",
    "  roc_auc_1,roc_auc_2 = cal_score1(roc_auc_model, x_train, y_train, x_test, y_test)\n",
    "  train.append(roc_auc_1)\n",
    "  test.append(roc_auc_2)\n",
    "effect1(train,test, range(2,200,10), 'Max_Leaf_Nodes')"
   ]
  },
  {
   "cell_type": "markdown",
   "metadata": {
    "id": "1M5_OgTNLPGN"
   },
   "source": []
  },
  {
   "cell_type": "markdown",
   "metadata": {
    "id": "fd_oUmrbO4_w"
   },
   "source": [
    "### Hyper parameter Tuning the model using ccp(cost complexity pruning)\n",
    "which helps us to select the best values for max_depth and max_samples_leaf parameter for Decision Tree."
   ]
  },
  {
   "cell_type": "markdown",
   "metadata": {
    "id": "Sh-tJQJcLRHL"
   },
   "source": [
    "path = dt.cost_complexity_pruning_path(x_train_ss,y_train)\n",
    "ccp_alphas, impurities = path.ccp_alphas, path.impurities"
   ]
  },
  {
   "cell_type": "markdown",
   "metadata": {
    "colab": {
     "base_uri": "https://localhost:8080/"
    },
    "id": "iLhK2MzYR4FY",
    "outputId": "1b296087-21f4-4506-e59b-caf0160146fb"
   },
   "source": [
    "ccp_alphas"
   ]
  },
  {
   "cell_type": "markdown",
   "metadata": {
    "colab": {
     "base_uri": "https://localhost:8080/"
    },
    "id": "zFmfKWTOLRM9",
    "outputId": "83889d23-6a48-4118-e0ce-9e5e1019b778"
   },
   "source": [
    "clfs = []\n",
    "for i in ccp_alphas:\n",
    "  dt = DecisionTreeClassifier(random_state = 0, ccp_alpha=i)\n",
    "  dt.fit(x_train_ss,y_train)\n",
    "  clfs.append(dt)\n",
    "  print('Number of Nodes in the Last Tree is: {} with ccp_alpha: {}'.format(clfs[-1].tree_.node_count, ccp_alphas[-1]))"
   ]
  },
  {
   "cell_type": "markdown",
   "metadata": {
    "id": "dCQhxxpORq5p"
   },
   "source": [
    "Plotting a graph with Respect to Accuracy score and various clfs(classifiers)"
   ]
  },
  {
   "cell_type": "markdown",
   "metadata": {
    "colab": {
     "base_uri": "https://localhost:8080/",
     "height": 745
    },
    "id": "yvpFW2XfRkI2",
    "outputId": "b10a8d5a-257f-418a-f7a6-220b70fac6b9"
   },
   "source": [
    "train_set = [dt.score(x_train_ss,y_train) for dt in clfs]\n",
    "test_set = [dt.score(x_test_ss,y_test) for dt in clfs]\n",
    "\n",
    "plt.figure(figsize = (12,10), dpi = 100)\n",
    "fig,ax = plt.subplots()\n",
    "ax.plot(ccp_alphas, train_set, marker = 'o', label = 'Train', drawstyle = 'steps-post')\n",
    "ax.plot(ccp_alphas, test_set, marker = 'o', label = 'Test', drawstyle = 'steps-post')\n",
    "ax.set_xlabel('ccp_alphas')\n",
    "ax.set_ylabel('Accuracy')\n",
    "ax.set_title(\"Accuracy and ccp_alphas Distribution\")\n",
    "ax.legend()\n",
    "plt.show()"
   ]
  },
  {
   "cell_type": "markdown",
   "metadata": {
    "id": "Czdmk-8qRkT7"
   },
   "source": []
  },
  {
   "cell_type": "markdown",
   "metadata": {
    "id": "Gvr8MyvH-Ayq"
   },
   "source": [
    "So, After applying Hyper Parameter Tuning **With Respect to Evaluation Metrics**, our model has successfully overcomed the problem of overfitting which has occured earlier."
   ]
  },
  {
   "cell_type": "markdown",
   "metadata": {
    "id": "OVnmsQaQ-sbi"
   },
   "source": [
    "modified_model = DecisionTreeClassifier(max_depth = 18, min_samples_split=4250, min_samples_leaf=3700, max_leaf_nodes=21)\n",
    "modified_model.fit(x_train_ss, y_train)\n",
    "pr = modified_model.predict(x_test_ss)"
   ]
  },
  {
   "cell_type": "markdown",
   "metadata": {
    "colab": {
     "base_uri": "https://localhost:8080/"
    },
    "id": "bNjYNGkE-seg",
    "outputId": "8b11a742-bdba-4535-f740-d860d013c0e1"
   },
   "source": [
    "print(modified_model.score(x_train_ss,y_train))\n",
    "print(modified_model.score(x_test_ss, y_test))\n",
    "print(accuracy_score(pr,y_test))"
   ]
  },
  {
   "cell_type": "markdown",
   "metadata": {
    "id": "pp-oP6tO-tsO"
   },
   "source": [
    "### Tree Plot With Respect to Modified Model."
   ]
  },
  {
   "cell_type": "markdown",
   "metadata": {
    "colab": {
     "base_uri": "https://localhost:8080/",
     "height": 960
    },
    "id": "oFZqeVduZRzR",
    "outputId": "9ddc95ee-46ad-4ad4-c98e-1d0a176e21bd"
   },
   "source": [
    "plt.figure(figsize = (15,10))\n",
    "tree.plot_tree(modified_model, filled = True)"
   ]
  },
  {
   "cell_type": "markdown",
   "metadata": {
    "id": "B-FMHEuZk2P0"
   },
   "source": [
    "### **Evaluating Tuned Model on Test Data.**"
   ]
  },
  {
   "cell_type": "markdown",
   "metadata": {
    "id": "SA77kZcnlAxt"
   },
   "source": [
    "hash = modified_model.predict(lucas)"
   ]
  },
  {
   "cell_type": "markdown",
   "metadata": {
    "colab": {
     "base_uri": "https://localhost:8080/"
    },
    "id": "lpxXOQlFlA3F",
    "outputId": "862cc020-3697-4fea-f01f-13d6ba691815"
   },
   "source": [
    "print(accuracy_score(hash,resampled_y))"
   ]
  },
  {
   "cell_type": "markdown",
   "metadata": {
    "colab": {
     "base_uri": "https://localhost:8080/"
    },
    "id": "GIHECYPHlA9w",
    "outputId": "a2cd262a-7baf-4c01-acf0-ba81b74cd823"
   },
   "source": [
    "print(classification_report(hash,resampled_y))"
   ]
  },
  {
   "cell_type": "markdown",
   "metadata": {
    "colab": {
     "base_uri": "https://localhost:8080/"
    },
    "id": "dCSm7vVplPEs",
    "outputId": "57f73b53-c779-4636-e431-6e4d0f74b488"
   },
   "source": [
    "print(confusion_matrix(hash,resampled_y))"
   ]
  },
  {
   "cell_type": "markdown",
   "metadata": {
    "id": "HeLftmDe2DEc"
   },
   "source": [
    "### Verifying With Respect to ccp_alpha value."
   ]
  },
  {
   "cell_type": "markdown",
   "metadata": {
    "id": "I4_H6szzlPJq"
   },
   "source": [
    "pathh = dt.cost_complexity_pruning_path(x_train_ss,y_train)\n",
    "ccp_alphass, impurities = path.ccp_alphas, path.impurities"
   ]
  },
  {
   "cell_type": "markdown",
   "metadata": {
    "colab": {
     "base_uri": "https://localhost:8080/"
    },
    "id": "cEL4ow4elPQ_",
    "outputId": "5bf71b97-1c3d-404d-c673-d7526447e290"
   },
   "source": [
    "clfss = []\n",
    "for i in ccp_alphass:\n",
    "  dt = DecisionTreeClassifier(max_depth = 18, min_samples_split=4250, min_samples_leaf=3700, max_leaf_nodes=21, random_state = 0, ccp_alpha=i)\n",
    "  dt.fit(x_train_ss,y_train)\n",
    "  clfss.append(dt)\n",
    "print('Number of Nodes in the Last Tree is: {} with ccp_alpha: {}'.format(clfs[-1].tree_.node_count, ccp_alphas[-1]))"
   ]
  },
  {
   "cell_type": "markdown",
   "metadata": {
    "colab": {
     "base_uri": "https://localhost:8080/",
     "height": 745
    },
    "id": "MIoJNyjFlahV",
    "outputId": "c15ff06d-c956-4322-afa5-6d46b1443a19"
   },
   "source": [
    "train_sett = [dt.score(x_train_ss,y_train) for dt in clfss]\n",
    "test_sett = [dt.score(lucas,resampled_y) for dt in clfss]\n",
    "\n",
    "plt.figure(figsize = (12,10), dpi = 100)\n",
    "fig,ax = plt.subplots()\n",
    "ax.plot(ccp_alphass, train_sett, marker = '*', label = 'Train', drawstyle = 'steps-post')\n",
    "ax.plot(ccp_alphass, test_sett, marker = '*', label = 'Test', drawstyle = 'steps-post')\n",
    "ax.set_xlabel('ccp_alphas')\n",
    "ax.set_ylabel('Accuracy')\n",
    "ax.set_title(\"Accuracy and ccp_alphas Distribution\")\n",
    "ax.legend()\n",
    "plt.show()"
   ]
  },
  {
   "cell_type": "markdown",
   "metadata": {
    "colab": {
     "base_uri": "https://localhost:8080/"
    },
    "id": "Iw17nxcGlamj",
    "outputId": "f7a4fb08-167b-4898-d4f6-a11799dc86e0"
   },
   "source": [
    "mod_model_ccp = DecisionTreeClassifier(random_state = 0, ccp_alpha = 0.04)\n",
    "mod_model_ccp.fit(x_train_ss,y_train)"
   ]
  },
  {
   "cell_type": "markdown",
   "metadata": {
    "id": "cy4TYrirlasx"
   },
   "source": [
    "predicate = mod_model_ccp.predict(lucas)"
   ]
  },
  {
   "cell_type": "markdown",
   "metadata": {
    "colab": {
     "base_uri": "https://localhost:8080/"
    },
    "id": "4s8wxdmplay7",
    "outputId": "45fa376f-c841-495b-b8a1-2166d36d9cef"
   },
   "source": [
    "print(accuracy_score(predicate,resampled_y))"
   ]
  },
  {
   "cell_type": "markdown",
   "metadata": {
    "id": "Le7q5PlK2OIS"
   },
   "source": [
    "### Tree plot with respect to ccp_modified_model"
   ]
  },
  {
   "cell_type": "markdown",
   "metadata": {
    "colab": {
     "base_uri": "https://localhost:8080/",
     "height": 625
    },
    "id": "un0Z0nhalwWx",
    "outputId": "f0fa20cc-2b3c-41b0-bc38-e04c00d1c9a6"
   },
   "source": [
    "plt.figure(figsize = (12,10))\n",
    "tree.plot_tree(mod_model_ccp, filled=True)"
   ]
  },
  {
   "cell_type": "markdown",
   "metadata": {
    "id": "30hGU4AP-920"
   },
   "source": [
    "## **Logistic Regression**"
   ]
  },
  {
   "cell_type": "markdown",
   "metadata": {
    "id": "AnUurakSRsSF"
   },
   "source": [
    "from sklearn.linear_model import LogisticRegression\n",
    "lg = LogisticRegression()\n",
    "lg.fit(x_train_ss, y_train)\n",
    "lg_pred = lg.predict(x_test_ss)\n",
    "predicted_values = lg.predict_proba(x_test_ss)"
   ]
  },
  {
   "cell_type": "markdown",
   "metadata": {
    "colab": {
     "base_uri": "https://localhost:8080/"
    },
    "id": "zLqNTCulmbO8",
    "outputId": "9a2e5be8-a033-47a5-e385-d1650d5d86c6"
   },
   "source": [
    "recall_score(y_test, lg_pred)"
   ]
  },
  {
   "cell_type": "markdown",
   "metadata": {
    "colab": {
     "base_uri": "https://localhost:8080/"
    },
    "id": "z0MzAw9LmxnH",
    "outputId": "1fa211c2-d4e9-4fa6-90f6-5ea500d2ef3e"
   },
   "source": [
    "precision_score(y_test,lg_pred)"
   ]
  },
  {
   "cell_type": "markdown",
   "metadata": {
    "colab": {
     "base_uri": "https://localhost:8080/"
    },
    "id": "mQemKkwvmxqF",
    "outputId": "03fd0b1a-f7ef-4d51-fb68-8d6a47ae8954"
   },
   "source": [
    "f1_score(y_test,lg_pred)"
   ]
  },
  {
   "cell_type": "markdown",
   "metadata": {
    "id": "spqDPl6upuqU"
   },
   "source": [
    "y_testt = y_test.squeeze()"
   ]
  },
  {
   "cell_type": "markdown",
   "metadata": {
    "id": "Fpt-_FpVoCuu"
   },
   "source": [
    "precision_points, recall_points, threshold_points = precision_recall_curve(y_testt, predicted_values[:,1]) "
   ]
  },
  {
   "cell_type": "markdown",
   "metadata": {
    "colab": {
     "base_uri": "https://localhost:8080/"
    },
    "id": "xVYPwEm_rCTh",
    "outputId": "cf7e3b14-5a83-4904-b5e5-2fa78940b438"
   },
   "source": [
    "precision_points.shape, recall_points.shape, threshold_points.shape"
   ]
  },
  {
   "cell_type": "markdown",
   "metadata": {
    "colab": {
     "base_uri": "https://localhost:8080/"
    },
    "id": "uMYjxe_4sWYR",
    "outputId": "a1f9fcbe-ea1a-4bfb-dbad-c2bd5f2aba76"
   },
   "source": [
    "precision_points"
   ]
  },
  {
   "cell_type": "markdown",
   "metadata": {
    "colab": {
     "base_uri": "https://localhost:8080/"
    },
    "id": "4pWwPKxUsWcA",
    "outputId": "7ff3a340-92cb-4ab1-98e0-bb3e2af1f18a"
   },
   "source": [
    "recall_points"
   ]
  },
  {
   "cell_type": "markdown",
   "metadata": {
    "colab": {
     "base_uri": "https://localhost:8080/"
    },
    "id": "2GGC6iIZsWfn",
    "outputId": "27cf46b9-941b-44c5-95bd-b1f259d87b92"
   },
   "source": [
    "threshold_points"
   ]
  },
  {
   "cell_type": "markdown",
   "metadata": {
    "colab": {
     "base_uri": "https://localhost:8080/",
     "height": 815
    },
    "id": "HJgbP4ueonZn",
    "outputId": "111ab18e-73e6-481d-ec24-e5cf01332d68"
   },
   "source": [
    "plt.figure(figsize = (12,10), dpi = 100)\n",
    "plt.plot(threshold_points, recall_points[:-1], color = 'red')\n",
    "plt.plot(threshold_points, precision_points[:-1], color = 'blue')\n",
    "plt.show()"
   ]
  },
  {
   "cell_type": "markdown",
   "metadata": {},
   "source": [
    "### Feature Importance "
   ]
  },
  {
   "cell_type": "markdown",
   "metadata": {},
   "source": [
    "lg.coef_"
   ]
  },
  {
   "cell_type": "markdown",
   "metadata": {},
   "source": [
    "f_imp = lg.coef_[0]\n",
    "print(f_imp)\n",
    "for i,v in enumerate(f_imp):\n",
    "   print('Feature: %0d, Score: %.5f' % (i,v))"
   ]
  },
  {
   "cell_type": "markdown",
   "metadata": {},
   "source": [
    "plt.figure(figsize =(8,6), dpi = 100)\n",
    "plt.bar([i for i in range(len(f_imp))], f_imp)\n",
    "plt.xlabel('len(f_imp)')\n",
    "plt.ylabel('f_importances')\n",
    "plt.title('LR Feature Importances')\n",
    "plt.show()"
   ]
  },
  {
   "cell_type": "markdown",
   "metadata": {
    "id": "_WZl9Aadoe9R"
   },
   "source": [
    "### Evaluating LogisticRegresssion using roc_auc_score metric."
   ]
  },
  {
   "cell_type": "markdown",
   "metadata": {
    "colab": {
     "base_uri": "https://localhost:8080/"
    },
    "id": "I2iTYcj5ongU",
    "outputId": "76bbfd68-0335-4c49-a80d-bb8ad3122266"
   },
   "source": [
    "tpr,fpr, threshold = roc_curve(y_testt, predicted_values[:,1])\n",
    "tpr.shape, fpr.shape, threshold.shape"
   ]
  },
  {
   "cell_type": "markdown",
   "metadata": {
    "colab": {
     "base_uri": "https://localhost:8080/",
     "height": 852
    },
    "id": "l77NAgnoonj2",
    "outputId": "a5c915f5-9def-48bc-b647-6a0215ecd218"
   },
   "source": [
    "plt.figure(figsize = (12,10), dpi = 100)\n",
    "plt.plot(tpr,fpr, color = 'red')\n",
    "plt.plot([0,1],[0,1], color = 'blue')\n",
    "plt.title(\"roc_curve\")\n",
    "plt.show()\n",
    "\n",
    "print(roc_auc_score(y_test, predicted_values[:,1]))"
   ]
  },
  {
   "cell_type": "markdown",
   "metadata": {
    "colab": {
     "base_uri": "https://localhost:8080/"
    },
    "id": "F5wBt-C6RsV2",
    "outputId": "bf70c4eb-4cc7-4d37-eb93-6d2b2dcca9bb"
   },
   "source": [
    "print(\"Training Accuracy \", lg.score(x_train_ss,y_train))\n",
    "print(\"Testing Accuracy \", lg.score(x_test_ss,y_test))"
   ]
  },
  {
   "cell_type": "markdown",
   "metadata": {
    "colab": {
     "base_uri": "https://localhost:8080/"
    },
    "id": "ZYmTuvH1RsZD",
    "outputId": "aba6720e-ab4f-492d-fcaf-d20e668e679e"
   },
   "source": [
    "print(classification_report(lg_pred, y_test))"
   ]
  },
  {
   "cell_type": "markdown",
   "metadata": {
    "colab": {
     "base_uri": "https://localhost:8080/"
    },
    "id": "k4BFP3JLRsbg",
    "outputId": "e2d17d50-a154-4274-8347-f03416d80c8a"
   },
   "source": [
    "print(confusion_matrix(lg_pred, y_test))"
   ]
  },
  {
   "cell_type": "markdown",
   "metadata": {
    "colab": {
     "base_uri": "https://localhost:8080/"
    },
    "id": "AVbkBKAFS_Gr",
    "outputId": "947540d1-9885-4afe-c950-99eaa577f2a8"
   },
   "source": [
    "print(accuracy_score(lg_pred,y_test))"
   ]
  },
  {
   "cell_type": "markdown",
   "metadata": {
    "id": "-zYjk6TZpZDI"
   },
   "source": [
    "### Performing Cross Validating LR Model."
   ]
  },
  {
   "cell_type": "markdown",
   "metadata": {
    "colab": {
     "base_uri": "https://localhost:8080/"
    },
    "id": "leln-h0wZKm3",
    "outputId": "b482df24-1afd-4133-cdcf-ee1201de22df"
   },
   "source": [
    "x = pd.DataFrame(data = x_train_ss, columns = inde_vars.columns)\n",
    "y = y_train\n",
    "from sklearn.model_selection import  StratifiedKFold\n",
    "accuracy1 = []\n",
    "skf = StratifiedKFold(n_splits = 10, random_state = None)\n",
    "skf.get_n_splits(x,y)\n",
    "for train_index, test_index in skf.split(x,y):\n",
    "  print('Train:', train_index, 'Validation',test_index)\n",
    "  x1_train,x1_test = x.iloc[train_index],x.iloc[test_index]\n",
    "  y1_train,y1_test = y.iloc[train_index],y.iloc[test_index]\n",
    "  lg.fit(x1_train,y1_train)\n",
    "  pred = lg.predict(x1_test)\n",
    "  score = accuracy_score(pred,y1_test)\n",
    "  accuracy1.append(score)\n",
    "print(accuracy1)"
   ]
  },
  {
   "cell_type": "markdown",
   "metadata": {
    "id": "4cxrVstQpkKv"
   },
   "source": [
    "### Hyper Parameter Tuning Logistic regression model, using RandomizedSearchCV tool."
   ]
  },
  {
   "cell_type": "markdown",
   "metadata": {
    "colab": {
     "base_uri": "https://localhost:8080/"
    },
    "id": "MBfAxsvMJDjH",
    "outputId": "31b766c0-77d8-4fba-89c1-84be605c4c2f"
   },
   "source": [
    "lo = LogisticRegression()\n"
   ]
  },
  {
   "cell_type": "markdown",
   "metadata": {
    "id": "F3RdWDAAJDvA"
   },
   "source": [
    "parameters = {'penalty':['l1','l2','elasticnet','none'],\n",
    "              'solver':['newton-cg','lbfgs','sag','saga'],\n",
    "              'max_iter':[i for i in range(100,2000,100)], \n",
    "              'warm_start':['True','False']}\n"
   ]
  },
  {
   "cell_type": "markdown",
   "metadata": {
    "colab": {
     "base_uri": "https://localhost:8080/"
    },
    "id": "bjYRRxiTLGfn",
    "outputId": "88fa7bed-157b-48e7-9484-2417e01adaf7"
   },
   "source": [
    "print(parameters)"
   ]
  },
  {
   "cell_type": "markdown",
   "metadata": {
    "id": "5rGwJ9lkLGkz"
   },
   "source": [
    "lg_tuned_model = RandomizedSearchCV(estimator=lo, param_distributions = parameters, scoring='accuracy', n_jobs = -1, cv = 10, n_iter = 10, verbose = 2, random_state = 50)"
   ]
  },
  {
   "cell_type": "markdown",
   "metadata": {
    "colab": {
     "base_uri": "https://localhost:8080/"
    },
    "id": "ZiJBi7bJLGpy",
    "outputId": "89bf9dc6-16f2-4897-d766-5475dc792346"
   },
   "source": [
    "lg_tuned_model.fit(x_train_ss,y_train)"
   ]
  },
  {
   "cell_type": "markdown",
   "metadata": {
    "colab": {
     "base_uri": "https://localhost:8080/"
    },
    "id": "2mtLadUkJDyg",
    "outputId": "acca8c4b-68ba-4376-fe6b-c08ec1fcbe88"
   },
   "source": [
    "lg_tuned_model.best_params_"
   ]
  },
  {
   "cell_type": "markdown",
   "metadata": {
    "colab": {
     "base_uri": "https://localhost:8080/"
    },
    "id": "w9wtNAuVJD5U",
    "outputId": "261e05fc-4c74-48f3-e536-537f15130f32"
   },
   "source": [
    "lg_tuned_model.get_params"
   ]
  },
  {
   "cell_type": "markdown",
   "metadata": {
    "colab": {
     "base_uri": "https://localhost:8080/"
    },
    "id": "ScbR4vEIKnNL",
    "outputId": "e7af0c64-96c8-400f-8a6c-51437672dc77"
   },
   "source": [
    "lg_tuned_model.best_score_"
   ]
  },
  {
   "cell_type": "markdown",
   "metadata": {
    "id": "W1pn12qWQvOQ"
   },
   "source": [
    "### Testing the Accuracy using Tuned LR Model."
   ]
  },
  {
   "cell_type": "markdown",
   "metadata": {
    "colab": {
     "base_uri": "https://localhost:8080/"
    },
    "id": "GQcUO8hDKnTM",
    "outputId": "d1cfe6ac-2ba6-4bc9-d673-188700a7e03c"
   },
   "source": [
    "lr = LogisticRegression(max_iter = 1300,\n",
    "                        penalty='l2',\n",
    "                        solver= 'newton-cg',\n",
    "                        warm_start=True)\n",
    "lr.fit(x_train_ss,y_train)"
   ]
  },
  {
   "cell_type": "markdown",
   "metadata": {
    "colab": {
     "base_uri": "https://localhost:8080/"
    },
    "id": "ZeMOLzBSKneX",
    "outputId": "926a9bed-fb17-4e01-a767-a7bb210f6236"
   },
   "source": [
    "tuned_pred = lr.predict(x_test_ss)\n",
    "print(accuracy_score(tuned_pred,y_test))"
   ]
  },
  {
   "cell_type": "markdown",
   "metadata": {
    "id": "iph6h78IrULH"
   },
   "source": [
    "### **Evaluating Tuned Model on Test Data.**"
   ]
  },
  {
   "cell_type": "markdown",
   "metadata": {
    "colab": {
     "base_uri": "https://localhost:8080/"
    },
    "id": "R5ofOZ4qrSaV",
    "outputId": "cb6fcfbc-d63f-4ce5-a6d7-0940a768d740"
   },
   "source": [
    "jim = lr.predict(lucas)\n",
    "print(accuracy_score(jim, resampled_y))"
   ]
  },
  {
   "cell_type": "markdown",
   "metadata": {
    "colab": {
     "base_uri": "https://localhost:8080/"
    },
    "id": "ax7LHeb2rShQ",
    "outputId": "155a16c1-9eef-45d6-b2a0-cc49b0e266e1"
   },
   "source": [
    "print(roc_auc_score(jim, resampled_y))"
   ]
  },
  {
   "cell_type": "markdown",
   "metadata": {
    "id": "MdcU66h5SieL"
   },
   "source": [
    "## **Random Forest Classifier**"
   ]
  },
  {
   "cell_type": "markdown",
   "metadata": {
    "id": "XYyHUzPJxoDn"
   },
   "source": [
    "from sklearn.ensemble import RandomForestClassifier\n",
    "rf = RandomForestClassifier()\n",
    "rf.fit(x_train_ss, y_train)\n",
    "rf_pred = rf.predict(x_test_ss)"
   ]
  },
  {
   "cell_type": "markdown",
   "metadata": {
    "colab": {
     "base_uri": "https://localhost:8080/"
    },
    "id": "P4R4A47BxoHY",
    "outputId": "a04b0042-f481-4bec-8b23-98e44fea683f"
   },
   "source": [
    "print(\"Training accuracy is\", rf.score(x_train_ss, y_train))\n",
    "print('Testing Accuracy is', rf.score(x_test_ss, y_test))\n",
    "print(accuracy_score(y_test, rf_pred))"
   ]
  },
  {
   "cell_type": "markdown",
   "metadata": {
    "colab": {
     "base_uri": "https://localhost:8080/"
    },
    "id": "jNE4aioIxoLi",
    "outputId": "9add43f4-3dee-45ed-e960-203e4883a4de"
   },
   "source": [
    "print(confusion_matrix(y_test, rf_pred))"
   ]
  },
  {
   "cell_type": "markdown",
   "metadata": {
    "colab": {
     "base_uri": "https://localhost:8080/"
    },
    "id": "H2yL0qQNxoPD",
    "outputId": "a18f911a-e0e2-48f2-af57-85616f16f5af"
   },
   "source": [
    "print(classification_report(y_test, rf_pred))"
   ]
  },
  {
   "cell_type": "markdown",
   "metadata": {
    "colab": {
     "base_uri": "https://localhost:8080/"
    },
    "id": "4lHOUyXQxoSF",
    "outputId": "025faf66-1c5c-48b4-8aab-d32a80d49402"
   },
   "source": [
    "recall_score(y_test, rf_pred)"
   ]
  },
  {
   "cell_type": "markdown",
   "metadata": {
    "colab": {
     "base_uri": "https://localhost:8080/"
    },
    "id": "YhozV8bcxoVJ",
    "outputId": "6f76044b-93b4-489c-8d35-e557ebbecaf7"
   },
   "source": [
    "precision_score(y_test, rf_pred)"
   ]
  },
  {
   "cell_type": "markdown",
   "metadata": {
    "colab": {
     "base_uri": "https://localhost:8080/"
    },
    "id": "YuEPmUmbxoYH",
    "outputId": "03a66160-f77e-4d35-9fe5-4ac5a371315c"
   },
   "source": [
    "f1_score(y_test, rf_pred)"
   ]
  },
  {
   "cell_type": "markdown",
   "metadata": {},
   "source": [
    "### Feature Importance  "
   ]
  },
  {
   "cell_type": "markdown",
   "metadata": {},
   "source": [
    "rf.feature_importances_"
   ]
  },
  {
   "cell_type": "markdown",
   "metadata": {},
   "source": [
    "fe_imp = rf.feature_importances_\n",
    "for i,v in enumerate(fe_imp):\n",
    "  print('Feature: %0d, Score: %.5f' % (i,v))"
   ]
  },
  {
   "cell_type": "markdown",
   "metadata": {},
   "source": [
    "plt.figure(figsize =(8,6), dpi = 100)\n",
    "plt.bar([i for i in range(len(fe_imp))], fe_imp)\n",
    "plt.xlabel('len(f_imp)')\n",
    "plt.ylabel('f_importances')\n",
    "plt.title('RF Feature Importances')\n",
    "plt.show()"
   ]
  },
  {
   "cell_type": "markdown",
   "metadata": {
    "id": "hxwliN363PS0"
   },
   "source": [
    "### Performing Cross Validation on RFC Model."
   ]
  },
  {
   "cell_type": "markdown",
   "metadata": {
    "colab": {
     "base_uri": "https://localhost:8080/"
    },
    "id": "2qzcKEhgxobp",
    "outputId": "a0406056-c695-4772-c87d-db99c4db2769"
   },
   "source": [
    "x = pd.DataFrame(data = x_train_ss, columns = inde_vars.columns)\n",
    "y = y_train\n",
    "from sklearn.model_selection import  StratifiedKFold\n",
    "accuracy2 = []\n",
    "skf = StratifiedKFold(n_splits = 10, random_state = None)\n",
    "skf.get_n_splits(x,y)\n",
    "for train_index, test_index in skf.split(x,y):\n",
    "  print('Train:', train_index, 'Validation',test_index)\n",
    "  x1_train,x1_test = x.iloc[train_index],x.iloc[test_index]\n",
    "  y1_train,y1_test = y.iloc[train_index],y.iloc[test_index]\n",
    "  rf.fit(x1_train,y1_train)\n",
    "  pred = rf.predict(x1_test)\n",
    "  score = accuracy_score(pred,y1_test)\n",
    "  accuracy2.append(score)\n",
    "print(accuracy2)"
   ]
  },
  {
   "cell_type": "markdown",
   "metadata": {
    "id": "3g59_e2zTj6X"
   },
   "source": [
    "### Hyper Parameter Tuning Random Forest Model Using RandomizedSearchCV."
   ]
  },
  {
   "cell_type": "markdown",
   "metadata": {
    "colab": {
     "base_uri": "https://localhost:8080/"
    },
    "id": "PnM8MiD5TyVS",
    "outputId": "e9183de8-179b-4a3a-a07a-f60baf6bf2fe"
   },
   "source": [
    "rfc = RandomForestClassifier()\n",
    "#rfc"
   ]
  },
  {
   "cell_type": "markdown",
   "metadata": {
    "colab": {
     "base_uri": "https://localhost:8080/"
    },
    "id": "u-EjemLqTi0g",
    "outputId": "b9c4a79c-3d4e-49c0-c766-df7cb0d89952"
   },
   "source": [
    "param = {'n_estimators' : [i for i in range(100,1500,100)],\n",
    "         'max_depth' : [i for i in range(10,100,10)],\n",
    "         'max_features' : ['auto','sqrt','log2'],\n",
    "         'min_samples_split' :  np.linspace(0.1,1.0,10, endpoint = True),\n",
    "         'min_samples_leaf' : np.linspace(0.1,0.5,5, endpoint =True),\n",
    "         'warm_start' : ['True', 'False']\n",
    "}\n",
    "\n",
    "#param"
   ]
  },
  {
   "cell_type": "markdown",
   "metadata": {
    "id": "ZxojTEUfTi44"
   },
   "source": [
    "rf_tuned_model = RandomizedSearchCV(estimator =rfc, param_distributions=param, scoring = 'roc_auc', verbose = 2, n_jobs = -1, random_state = 50)"
   ]
  },
  {
   "cell_type": "markdown",
   "metadata": {
    "colab": {
     "base_uri": "https://localhost:8080/"
    },
    "id": "r9hzXdfZTi8v",
    "outputId": "e9e0e44c-8d79-421f-a08f-bb93d72861e4"
   },
   "source": [
    "rf_tuned_model.fit(x_train_ss,y_train)"
   ]
  },
  {
   "cell_type": "markdown",
   "metadata": {
    "colab": {
     "base_uri": "https://localhost:8080/"
    },
    "id": "GrmEDxApjhqH",
    "outputId": "78e0894a-d879-4d69-97ef-3b1832bd08c8"
   },
   "source": [
    "rf_tuned_model.best_score_"
   ]
  },
  {
   "cell_type": "markdown",
   "metadata": {
    "colab": {
     "base_uri": "https://localhost:8080/"
    },
    "id": "fnWjXVtPGqbB",
    "outputId": "01037465-6172-4462-9873-3393952f62ed"
   },
   "source": [
    "rf_tuned_model.get_params"
   ]
  },
  {
   "cell_type": "markdown",
   "metadata": {
    "colab": {
     "base_uri": "https://localhost:8080/"
    },
    "id": "kHJNIwOHGqgC",
    "outputId": "26d737b7-18c7-4786-ccfe-94ce8316536d"
   },
   "source": [
    "rf_tuned_model.best_estimator_"
   ]
  },
  {
   "cell_type": "markdown",
   "metadata": {
    "id": "JWjHDbw1TYJF"
   },
   "source": [
    "Before Tuning the Random Forest Model."
   ]
  },
  {
   "cell_type": "markdown",
   "metadata": {
    "colab": {
     "base_uri": "https://localhost:8080/"
    },
    "id": "dq-zmmjaS7vp",
    "outputId": "bbc0aa12-b03c-48b6-d7dd-0be6c7b87fb6"
   },
   "source": [
    "dwight = rf.predict(lucas)\n",
    "print(accuracy_score(dwight, resampled_y))"
   ]
  },
  {
   "cell_type": "markdown",
   "metadata": {
    "id": "CkX0W1GqTcwq"
   },
   "source": [
    "### **Evaluating Tuned Model on Test Data.**"
   ]
  },
  {
   "cell_type": "markdown",
   "metadata": {
    "id": "RrA4_aIBTecC"
   },
   "source": [
    "kite = RandomForestClassifier(bootstrap=True, ccp_alpha=0.0, class_weight=None,\n",
    "                       criterion='gini', max_depth=40, max_features='sqrt',\n",
    "                       max_leaf_nodes=None, max_samples=None,\n",
    "                       min_impurity_decrease=0.0, min_impurity_split=None,\n",
    "                       min_samples_leaf=0.1, min_samples_split=0.1,\n",
    "                       min_weight_fraction_leaf=0.0, n_estimators=100,\n",
    "                       n_jobs=None, oob_score=False, random_state=None,\n",
    "                       verbose=0, warm_start='True')"
   ]
  },
  {
   "cell_type": "markdown",
   "metadata": {
    "colab": {
     "base_uri": "https://localhost:8080/"
    },
    "id": "QWDUceghMEgk",
    "outputId": "a2cdb5d5-4866-47ea-f19d-cd21429d6349"
   },
   "source": [
    "kite.fit(x_train_ss,y_train)"
   ]
  },
  {
   "cell_type": "markdown",
   "metadata": {
    "colab": {
     "base_uri": "https://localhost:8080/"
    },
    "id": "ZrxjPYtWME7g",
    "outputId": "e90faa01-0616-4c09-c66c-2d9f0a26dcfc"
   },
   "source": [
    "lion = kite.predict(lucas)\n",
    "print(accuracy_score(lion,resampled_y))"
   ]
  },
  {
   "cell_type": "markdown",
   "metadata": {},
   "source": []
  }
 ],
 "metadata": {
  "colab": {
   "collapsed_sections": [],
   "name": "Brain Stroke.ipynb",
   "provenance": []
  },
  "kernelspec": {
   "display_name": "Python 3",
   "language": "python",
   "name": "python3"
  },
  "language_info": {
   "codemirror_mode": {
    "name": "ipython",
    "version": 3
   },
   "file_extension": ".py",
   "mimetype": "text/x-python",
   "name": "python",
   "nbconvert_exporter": "python",
   "pygments_lexer": "ipython3",
   "version": "3.8.5"
  },
  "widgets": {
   "application/vnd.jupyter.widget-state+json": {
    "0dd85a7ec77343248c717ab177284649": {
     "model_module": "@jupyter-widgets/base",
     "model_name": "LayoutModel",
     "state": {
      "_model_module": "@jupyter-widgets/base",
      "_model_module_version": "1.2.0",
      "_model_name": "LayoutModel",
      "_view_count": null,
      "_view_module": "@jupyter-widgets/base",
      "_view_module_version": "1.2.0",
      "_view_name": "LayoutView",
      "align_content": null,
      "align_items": null,
      "align_self": null,
      "border": null,
      "bottom": null,
      "display": null,
      "flex": null,
      "flex_flow": null,
      "grid_area": null,
      "grid_auto_columns": null,
      "grid_auto_flow": null,
      "grid_auto_rows": null,
      "grid_column": null,
      "grid_gap": null,
      "grid_row": null,
      "grid_template_areas": null,
      "grid_template_columns": null,
      "grid_template_rows": null,
      "height": null,
      "justify_content": null,
      "justify_items": null,
      "left": null,
      "margin": null,
      "max_height": null,
      "max_width": null,
      "min_height": null,
      "min_width": null,
      "object_fit": null,
      "object_position": null,
      "order": null,
      "overflow": null,
      "overflow_x": null,
      "overflow_y": null,
      "padding": null,
      "right": null,
      "top": null,
      "visibility": null,
      "width": null
     }
    },
    "23295bed14484c488864ffd58ff96c62": {
     "model_module": "@jupyter-widgets/controls",
     "model_name": "VBoxModel",
     "state": {
      "_dom_classes": [
       "widget-interact"
      ],
      "_model_module": "@jupyter-widgets/controls",
      "_model_module_version": "1.5.0",
      "_model_name": "VBoxModel",
      "_view_count": null,
      "_view_module": "@jupyter-widgets/controls",
      "_view_module_version": "1.5.0",
      "_view_name": "VBoxView",
      "box_style": "",
      "children": [
       "IPY_MODEL_73f47712fe494cfabfc1f423274dc62c",
       "IPY_MODEL_d2a10f189174495e9e531f0202079662",
       "IPY_MODEL_683628a4be864deb886e010fc2329a47"
      ],
      "layout": "IPY_MODEL_2e597e9e561245cfb7086ba4d1ebdb37"
     }
    },
    "29a5e7a3eff543e6af95ba9586108ce2": {
     "model_module": "@jupyter-widgets/controls",
     "model_name": "TextModel",
     "state": {
      "_dom_classes": [],
      "_model_module": "@jupyter-widgets/controls",
      "_model_module_version": "1.5.0",
      "_model_name": "TextModel",
      "_view_count": null,
      "_view_module": "@jupyter-widgets/controls",
      "_view_module_version": "1.5.0",
      "_view_name": "TextView",
      "continuous_update": true,
      "description": "z",
      "description_tooltip": null,
      "disabled": false,
      "layout": "IPY_MODEL_68e5b04bf14e4c14bcedb2b831618c09",
      "placeholder": "​",
      "style": "IPY_MODEL_fe699560af824ceb87403da6bf09ec93",
      "value": "No"
     }
    },
    "2bc10dcb97d64784a4f9fe11d09c2bfd": {
     "model_module": "@jupyter-widgets/base",
     "model_name": "LayoutModel",
     "state": {
      "_model_module": "@jupyter-widgets/base",
      "_model_module_version": "1.2.0",
      "_model_name": "LayoutModel",
      "_view_count": null,
      "_view_module": "@jupyter-widgets/base",
      "_view_module_version": "1.2.0",
      "_view_name": "LayoutView",
      "align_content": null,
      "align_items": null,
      "align_self": null,
      "border": null,
      "bottom": null,
      "display": null,
      "flex": null,
      "flex_flow": null,
      "grid_area": null,
      "grid_auto_columns": null,
      "grid_auto_flow": null,
      "grid_auto_rows": null,
      "grid_column": null,
      "grid_gap": null,
      "grid_row": null,
      "grid_template_areas": null,
      "grid_template_columns": null,
      "grid_template_rows": null,
      "height": null,
      "justify_content": null,
      "justify_items": null,
      "left": null,
      "margin": null,
      "max_height": null,
      "max_width": null,
      "min_height": null,
      "min_width": null,
      "object_fit": null,
      "object_position": null,
      "order": null,
      "overflow": null,
      "overflow_x": null,
      "overflow_y": null,
      "padding": null,
      "right": null,
      "top": null,
      "visibility": null,
      "width": null
     }
    },
    "2e597e9e561245cfb7086ba4d1ebdb37": {
     "model_module": "@jupyter-widgets/base",
     "model_name": "LayoutModel",
     "state": {
      "_model_module": "@jupyter-widgets/base",
      "_model_module_version": "1.2.0",
      "_model_name": "LayoutModel",
      "_view_count": null,
      "_view_module": "@jupyter-widgets/base",
      "_view_module_version": "1.2.0",
      "_view_name": "LayoutView",
      "align_content": null,
      "align_items": null,
      "align_self": null,
      "border": null,
      "bottom": null,
      "display": null,
      "flex": null,
      "flex_flow": null,
      "grid_area": null,
      "grid_auto_columns": null,
      "grid_auto_flow": null,
      "grid_auto_rows": null,
      "grid_column": null,
      "grid_gap": null,
      "grid_row": null,
      "grid_template_areas": null,
      "grid_template_columns": null,
      "grid_template_rows": null,
      "height": null,
      "justify_content": null,
      "justify_items": null,
      "left": null,
      "margin": null,
      "max_height": null,
      "max_width": null,
      "min_height": null,
      "min_width": null,
      "object_fit": null,
      "object_position": null,
      "order": null,
      "overflow": null,
      "overflow_x": null,
      "overflow_y": null,
      "padding": null,
      "right": null,
      "top": null,
      "visibility": null,
      "width": null
     }
    },
    "3c7eda20dd9841c4a5aef322839d300e": {
     "model_module": "@jupyter-widgets/controls",
     "model_name": "VBoxModel",
     "state": {
      "_dom_classes": [
       "widget-interact"
      ],
      "_model_module": "@jupyter-widgets/controls",
      "_model_module_version": "1.5.0",
      "_model_name": "VBoxModel",
      "_view_count": null,
      "_view_module": "@jupyter-widgets/controls",
      "_view_module_version": "1.5.0",
      "_view_name": "VBoxView",
      "box_style": "",
      "children": [
       "IPY_MODEL_4f27565831074e4abb4656992166e123",
       "IPY_MODEL_5beba712068a4cada5fbea8befcab779"
      ],
      "layout": "IPY_MODEL_bfb9e41752ca4433b2631d25fabc942d"
     }
    },
    "3e85f2606d954ccc91cee709f38ff6ed": {
     "model_module": "@jupyter-widgets/controls",
     "model_name": "VBoxModel",
     "state": {
      "_dom_classes": [
       "widget-interact"
      ],
      "_model_module": "@jupyter-widgets/controls",
      "_model_module_version": "1.5.0",
      "_model_name": "VBoxModel",
      "_view_count": null,
      "_view_module": "@jupyter-widgets/controls",
      "_view_module_version": "1.5.0",
      "_view_name": "VBoxView",
      "box_style": "",
      "children": [
       "IPY_MODEL_fbae4c8fc8dc42e39ff9918e53e31382",
       "IPY_MODEL_561ee7ae2f5646cd820e8f377297ad5e",
       "IPY_MODEL_29a5e7a3eff543e6af95ba9586108ce2",
       "IPY_MODEL_599e40ad08024af1a28cb0a46f202925"
      ],
      "layout": "IPY_MODEL_2bc10dcb97d64784a4f9fe11d09c2bfd"
     }
    },
    "4f27565831074e4abb4656992166e123": {
     "model_module": "@jupyter-widgets/controls",
     "model_name": "IntSliderModel",
     "state": {
      "_dom_classes": [],
      "_model_module": "@jupyter-widgets/controls",
      "_model_module_version": "1.5.0",
      "_model_name": "IntSliderModel",
      "_view_count": null,
      "_view_module": "@jupyter-widgets/controls",
      "_view_module_version": "1.5.0",
      "_view_name": "IntSliderView",
      "continuous_update": true,
      "description": "x",
      "description_tooltip": null,
      "disabled": false,
      "layout": "IPY_MODEL_791b51e0b46a453093ece02a77a53dc9",
      "max": 150,
      "min": -50,
      "orientation": "horizontal",
      "readout": true,
      "readout_format": "d",
      "step": 1,
      "style": "IPY_MODEL_d1023734fa5f45f781900668eb9e68b7",
      "value": 50
     }
    },
    "561ee7ae2f5646cd820e8f377297ad5e": {
     "model_module": "@jupyter-widgets/controls",
     "model_name": "IntSliderModel",
     "state": {
      "_dom_classes": [],
      "_model_module": "@jupyter-widgets/controls",
      "_model_module_version": "1.5.0",
      "_model_name": "IntSliderModel",
      "_view_count": null,
      "_view_module": "@jupyter-widgets/controls",
      "_view_module_version": "1.5.0",
      "_view_name": "IntSliderView",
      "continuous_update": true,
      "description": "y",
      "description_tooltip": null,
      "disabled": false,
      "layout": "IPY_MODEL_0dd85a7ec77343248c717ab177284649",
      "max": 1,
      "min": 0,
      "orientation": "horizontal",
      "readout": true,
      "readout_format": "d",
      "step": 1,
      "style": "IPY_MODEL_6bbca91babd947ee846aae27fe16a968",
      "value": 0
     }
    },
    "599e40ad08024af1a28cb0a46f202925": {
     "model_module": "@jupyter-widgets/output",
     "model_name": "OutputModel",
     "state": {
      "_dom_classes": [],
      "_model_module": "@jupyter-widgets/output",
      "_model_module_version": "1.0.0",
      "_model_name": "OutputModel",
      "_view_count": null,
      "_view_module": "@jupyter-widgets/output",
      "_view_module_version": "1.0.0",
      "_view_name": "OutputView",
      "layout": "IPY_MODEL_7c79962128bf49b388ca771a132755d4",
      "msg_id": "",
      "outputs": [
       {
        "metadata": {
         "tags": []
        },
        "output_type": "display_data",
        "text/plain": "(0    13690\n 1       44\n Name: stroke, dtype: int64, never smoked       11124\n smokes              1437\n formerly smoked     1173\n Name: smoking_status, dtype: int64)"
       }
      ]
     }
    },
    "5beba712068a4cada5fbea8befcab779": {
     "model_module": "@jupyter-widgets/output",
     "model_name": "OutputModel",
     "state": {
      "_dom_classes": [],
      "_model_module": "@jupyter-widgets/output",
      "_model_module_version": "1.0.0",
      "_model_name": "OutputModel",
      "_view_count": null,
      "_view_module": "@jupyter-widgets/output",
      "_view_module_version": "1.0.0",
      "_view_name": "OutputView",
      "layout": "IPY_MODEL_c7f81185c2514e5a9351fd8af90d553e",
      "msg_id": "",
      "outputs": [
       {
        "metadata": {
         "tags": []
        },
        "output_type": "display_data",
        "text/plain": "0    40517\n1      744\nName: stroke, dtype: int64"
       }
      ]
     }
    },
    "602c24cdba194626863b021f2a97002e": {
     "model_module": "@jupyter-widgets/base",
     "model_name": "LayoutModel",
     "state": {
      "_model_module": "@jupyter-widgets/base",
      "_model_module_version": "1.2.0",
      "_model_name": "LayoutModel",
      "_view_count": null,
      "_view_module": "@jupyter-widgets/base",
      "_view_module_version": "1.2.0",
      "_view_name": "LayoutView",
      "align_content": null,
      "align_items": null,
      "align_self": null,
      "border": null,
      "bottom": null,
      "display": null,
      "flex": null,
      "flex_flow": null,
      "grid_area": null,
      "grid_auto_columns": null,
      "grid_auto_flow": null,
      "grid_auto_rows": null,
      "grid_column": null,
      "grid_gap": null,
      "grid_row": null,
      "grid_template_areas": null,
      "grid_template_columns": null,
      "grid_template_rows": null,
      "height": null,
      "justify_content": null,
      "justify_items": null,
      "left": null,
      "margin": null,
      "max_height": null,
      "max_width": null,
      "min_height": null,
      "min_width": null,
      "object_fit": null,
      "object_position": null,
      "order": null,
      "overflow": null,
      "overflow_x": null,
      "overflow_y": null,
      "padding": null,
      "right": null,
      "top": null,
      "visibility": null,
      "width": null
     }
    },
    "683628a4be864deb886e010fc2329a47": {
     "model_module": "@jupyter-widgets/output",
     "model_name": "OutputModel",
     "state": {
      "_dom_classes": [],
      "_model_module": "@jupyter-widgets/output",
      "_model_module_version": "1.0.0",
      "_model_name": "OutputModel",
      "_view_count": null,
      "_view_module": "@jupyter-widgets/output",
      "_view_module_version": "1.0.0",
      "_view_name": "OutputView",
      "layout": "IPY_MODEL_602c24cdba194626863b021f2a97002e",
      "msg_id": "",
      "outputs": [
       {
        "metadata": {
         "tags": []
        },
        "output_type": "display_data",
        "text/plain": "0    35541\n1      443\nName: stroke, dtype: int64"
       }
      ]
     }
    },
    "68e5b04bf14e4c14bcedb2b831618c09": {
     "model_module": "@jupyter-widgets/base",
     "model_name": "LayoutModel",
     "state": {
      "_model_module": "@jupyter-widgets/base",
      "_model_module_version": "1.2.0",
      "_model_name": "LayoutModel",
      "_view_count": null,
      "_view_module": "@jupyter-widgets/base",
      "_view_module_version": "1.2.0",
      "_view_name": "LayoutView",
      "align_content": null,
      "align_items": null,
      "align_self": null,
      "border": null,
      "bottom": null,
      "display": null,
      "flex": null,
      "flex_flow": null,
      "grid_area": null,
      "grid_auto_columns": null,
      "grid_auto_flow": null,
      "grid_auto_rows": null,
      "grid_column": null,
      "grid_gap": null,
      "grid_row": null,
      "grid_template_areas": null,
      "grid_template_columns": null,
      "grid_template_rows": null,
      "height": null,
      "justify_content": null,
      "justify_items": null,
      "left": null,
      "margin": null,
      "max_height": null,
      "max_width": null,
      "min_height": null,
      "min_width": null,
      "object_fit": null,
      "object_position": null,
      "order": null,
      "overflow": null,
      "overflow_x": null,
      "overflow_y": null,
      "padding": null,
      "right": null,
      "top": null,
      "visibility": null,
      "width": null
     }
    },
    "6bbca91babd947ee846aae27fe16a968": {
     "model_module": "@jupyter-widgets/controls",
     "model_name": "SliderStyleModel",
     "state": {
      "_model_module": "@jupyter-widgets/controls",
      "_model_module_version": "1.5.0",
      "_model_name": "SliderStyleModel",
      "_view_count": null,
      "_view_module": "@jupyter-widgets/base",
      "_view_module_version": "1.2.0",
      "_view_name": "StyleView",
      "description_width": "",
      "handle_color": null
     }
    },
    "73f47712fe494cfabfc1f423274dc62c": {
     "model_module": "@jupyter-widgets/controls",
     "model_name": "IntSliderModel",
     "state": {
      "_dom_classes": [],
      "_model_module": "@jupyter-widgets/controls",
      "_model_module_version": "1.5.0",
      "_model_name": "IntSliderModel",
      "_view_count": null,
      "_view_module": "@jupyter-widgets/controls",
      "_view_module_version": "1.5.0",
      "_view_name": "IntSliderView",
      "continuous_update": true,
      "description": "x",
      "description_tooltip": null,
      "disabled": false,
      "layout": "IPY_MODEL_7ab5533716f54bda9cab8388617c9d3b",
      "max": 1,
      "min": 0,
      "orientation": "horizontal",
      "readout": true,
      "readout_format": "d",
      "step": 1,
      "style": "IPY_MODEL_c0531ac10d3349098e4d25b672c7eed9",
      "value": 0
     }
    },
    "791b51e0b46a453093ece02a77a53dc9": {
     "model_module": "@jupyter-widgets/base",
     "model_name": "LayoutModel",
     "state": {
      "_model_module": "@jupyter-widgets/base",
      "_model_module_version": "1.2.0",
      "_model_name": "LayoutModel",
      "_view_count": null,
      "_view_module": "@jupyter-widgets/base",
      "_view_module_version": "1.2.0",
      "_view_name": "LayoutView",
      "align_content": null,
      "align_items": null,
      "align_self": null,
      "border": null,
      "bottom": null,
      "display": null,
      "flex": null,
      "flex_flow": null,
      "grid_area": null,
      "grid_auto_columns": null,
      "grid_auto_flow": null,
      "grid_auto_rows": null,
      "grid_column": null,
      "grid_gap": null,
      "grid_row": null,
      "grid_template_areas": null,
      "grid_template_columns": null,
      "grid_template_rows": null,
      "height": null,
      "justify_content": null,
      "justify_items": null,
      "left": null,
      "margin": null,
      "max_height": null,
      "max_width": null,
      "min_height": null,
      "min_width": null,
      "object_fit": null,
      "object_position": null,
      "order": null,
      "overflow": null,
      "overflow_x": null,
      "overflow_y": null,
      "padding": null,
      "right": null,
      "top": null,
      "visibility": null,
      "width": null
     }
    },
    "7ab5533716f54bda9cab8388617c9d3b": {
     "model_module": "@jupyter-widgets/base",
     "model_name": "LayoutModel",
     "state": {
      "_model_module": "@jupyter-widgets/base",
      "_model_module_version": "1.2.0",
      "_model_name": "LayoutModel",
      "_view_count": null,
      "_view_module": "@jupyter-widgets/base",
      "_view_module_version": "1.2.0",
      "_view_name": "LayoutView",
      "align_content": null,
      "align_items": null,
      "align_self": null,
      "border": null,
      "bottom": null,
      "display": null,
      "flex": null,
      "flex_flow": null,
      "grid_area": null,
      "grid_auto_columns": null,
      "grid_auto_flow": null,
      "grid_auto_rows": null,
      "grid_column": null,
      "grid_gap": null,
      "grid_row": null,
      "grid_template_areas": null,
      "grid_template_columns": null,
      "grid_template_rows": null,
      "height": null,
      "justify_content": null,
      "justify_items": null,
      "left": null,
      "margin": null,
      "max_height": null,
      "max_width": null,
      "min_height": null,
      "min_width": null,
      "object_fit": null,
      "object_position": null,
      "order": null,
      "overflow": null,
      "overflow_x": null,
      "overflow_y": null,
      "padding": null,
      "right": null,
      "top": null,
      "visibility": null,
      "width": null
     }
    },
    "7c79962128bf49b388ca771a132755d4": {
     "model_module": "@jupyter-widgets/base",
     "model_name": "LayoutModel",
     "state": {
      "_model_module": "@jupyter-widgets/base",
      "_model_module_version": "1.2.0",
      "_model_name": "LayoutModel",
      "_view_count": null,
      "_view_module": "@jupyter-widgets/base",
      "_view_module_version": "1.2.0",
      "_view_name": "LayoutView",
      "align_content": null,
      "align_items": null,
      "align_self": null,
      "border": null,
      "bottom": null,
      "display": null,
      "flex": null,
      "flex_flow": null,
      "grid_area": null,
      "grid_auto_columns": null,
      "grid_auto_flow": null,
      "grid_auto_rows": null,
      "grid_column": null,
      "grid_gap": null,
      "grid_row": null,
      "grid_template_areas": null,
      "grid_template_columns": null,
      "grid_template_rows": null,
      "height": null,
      "justify_content": null,
      "justify_items": null,
      "left": null,
      "margin": null,
      "max_height": null,
      "max_width": null,
      "min_height": null,
      "min_width": null,
      "object_fit": null,
      "object_position": null,
      "order": null,
      "overflow": null,
      "overflow_x": null,
      "overflow_y": null,
      "padding": null,
      "right": null,
      "top": null,
      "visibility": null,
      "width": null
     }
    },
    "a2cafa9c66b5477b888ccabd8fc35ee6": {
     "model_module": "@jupyter-widgets/base",
     "model_name": "LayoutModel",
     "state": {
      "_model_module": "@jupyter-widgets/base",
      "_model_module_version": "1.2.0",
      "_model_name": "LayoutModel",
      "_view_count": null,
      "_view_module": "@jupyter-widgets/base",
      "_view_module_version": "1.2.0",
      "_view_name": "LayoutView",
      "align_content": null,
      "align_items": null,
      "align_self": null,
      "border": null,
      "bottom": null,
      "display": null,
      "flex": null,
      "flex_flow": null,
      "grid_area": null,
      "grid_auto_columns": null,
      "grid_auto_flow": null,
      "grid_auto_rows": null,
      "grid_column": null,
      "grid_gap": null,
      "grid_row": null,
      "grid_template_areas": null,
      "grid_template_columns": null,
      "grid_template_rows": null,
      "height": null,
      "justify_content": null,
      "justify_items": null,
      "left": null,
      "margin": null,
      "max_height": null,
      "max_width": null,
      "min_height": null,
      "min_width": null,
      "object_fit": null,
      "object_position": null,
      "order": null,
      "overflow": null,
      "overflow_x": null,
      "overflow_y": null,
      "padding": null,
      "right": null,
      "top": null,
      "visibility": null,
      "width": null
     }
    },
    "a4ddd932c0224c77bdff80bd3613098a": {
     "model_module": "@jupyter-widgets/base",
     "model_name": "LayoutModel",
     "state": {
      "_model_module": "@jupyter-widgets/base",
      "_model_module_version": "1.2.0",
      "_model_name": "LayoutModel",
      "_view_count": null,
      "_view_module": "@jupyter-widgets/base",
      "_view_module_version": "1.2.0",
      "_view_name": "LayoutView",
      "align_content": null,
      "align_items": null,
      "align_self": null,
      "border": null,
      "bottom": null,
      "display": null,
      "flex": null,
      "flex_flow": null,
      "grid_area": null,
      "grid_auto_columns": null,
      "grid_auto_flow": null,
      "grid_auto_rows": null,
      "grid_column": null,
      "grid_gap": null,
      "grid_row": null,
      "grid_template_areas": null,
      "grid_template_columns": null,
      "grid_template_rows": null,
      "height": null,
      "justify_content": null,
      "justify_items": null,
      "left": null,
      "margin": null,
      "max_height": null,
      "max_width": null,
      "min_height": null,
      "min_width": null,
      "object_fit": null,
      "object_position": null,
      "order": null,
      "overflow": null,
      "overflow_x": null,
      "overflow_y": null,
      "padding": null,
      "right": null,
      "top": null,
      "visibility": null,
      "width": null
     }
    },
    "bfb9e41752ca4433b2631d25fabc942d": {
     "model_module": "@jupyter-widgets/base",
     "model_name": "LayoutModel",
     "state": {
      "_model_module": "@jupyter-widgets/base",
      "_model_module_version": "1.2.0",
      "_model_name": "LayoutModel",
      "_view_count": null,
      "_view_module": "@jupyter-widgets/base",
      "_view_module_version": "1.2.0",
      "_view_name": "LayoutView",
      "align_content": null,
      "align_items": null,
      "align_self": null,
      "border": null,
      "bottom": null,
      "display": null,
      "flex": null,
      "flex_flow": null,
      "grid_area": null,
      "grid_auto_columns": null,
      "grid_auto_flow": null,
      "grid_auto_rows": null,
      "grid_column": null,
      "grid_gap": null,
      "grid_row": null,
      "grid_template_areas": null,
      "grid_template_columns": null,
      "grid_template_rows": null,
      "height": null,
      "justify_content": null,
      "justify_items": null,
      "left": null,
      "margin": null,
      "max_height": null,
      "max_width": null,
      "min_height": null,
      "min_width": null,
      "object_fit": null,
      "object_position": null,
      "order": null,
      "overflow": null,
      "overflow_x": null,
      "overflow_y": null,
      "padding": null,
      "right": null,
      "top": null,
      "visibility": null,
      "width": null
     }
    },
    "c0531ac10d3349098e4d25b672c7eed9": {
     "model_module": "@jupyter-widgets/controls",
     "model_name": "SliderStyleModel",
     "state": {
      "_model_module": "@jupyter-widgets/controls",
      "_model_module_version": "1.5.0",
      "_model_name": "SliderStyleModel",
      "_view_count": null,
      "_view_module": "@jupyter-widgets/base",
      "_view_module_version": "1.2.0",
      "_view_name": "StyleView",
      "description_width": "",
      "handle_color": null
     }
    },
    "c7f81185c2514e5a9351fd8af90d553e": {
     "model_module": "@jupyter-widgets/base",
     "model_name": "LayoutModel",
     "state": {
      "_model_module": "@jupyter-widgets/base",
      "_model_module_version": "1.2.0",
      "_model_name": "LayoutModel",
      "_view_count": null,
      "_view_module": "@jupyter-widgets/base",
      "_view_module_version": "1.2.0",
      "_view_name": "LayoutView",
      "align_content": null,
      "align_items": null,
      "align_self": null,
      "border": null,
      "bottom": null,
      "display": null,
      "flex": null,
      "flex_flow": null,
      "grid_area": null,
      "grid_auto_columns": null,
      "grid_auto_flow": null,
      "grid_auto_rows": null,
      "grid_column": null,
      "grid_gap": null,
      "grid_row": null,
      "grid_template_areas": null,
      "grid_template_columns": null,
      "grid_template_rows": null,
      "height": null,
      "justify_content": null,
      "justify_items": null,
      "left": null,
      "margin": null,
      "max_height": null,
      "max_width": null,
      "min_height": null,
      "min_width": null,
      "object_fit": null,
      "object_position": null,
      "order": null,
      "overflow": null,
      "overflow_x": null,
      "overflow_y": null,
      "padding": null,
      "right": null,
      "top": null,
      "visibility": null,
      "width": null
     }
    },
    "d1023734fa5f45f781900668eb9e68b7": {
     "model_module": "@jupyter-widgets/controls",
     "model_name": "SliderStyleModel",
     "state": {
      "_model_module": "@jupyter-widgets/controls",
      "_model_module_version": "1.5.0",
      "_model_name": "SliderStyleModel",
      "_view_count": null,
      "_view_module": "@jupyter-widgets/base",
      "_view_module_version": "1.2.0",
      "_view_name": "StyleView",
      "description_width": "",
      "handle_color": null
     }
    },
    "d2a10f189174495e9e531f0202079662": {
     "model_module": "@jupyter-widgets/controls",
     "model_name": "IntSliderModel",
     "state": {
      "_dom_classes": [],
      "_model_module": "@jupyter-widgets/controls",
      "_model_module_version": "1.5.0",
      "_model_name": "IntSliderModel",
      "_view_count": null,
      "_view_module": "@jupyter-widgets/controls",
      "_view_module_version": "1.5.0",
      "_view_name": "IntSliderView",
      "continuous_update": true,
      "description": "y",
      "description_tooltip": null,
      "disabled": false,
      "layout": "IPY_MODEL_a4ddd932c0224c77bdff80bd3613098a",
      "max": 1,
      "min": 0,
      "orientation": "horizontal",
      "readout": true,
      "readout_format": "d",
      "step": 1,
      "style": "IPY_MODEL_dd6b3400cbe644faba26bbbe848acbc9",
      "value": 0
     }
    },
    "dd6b3400cbe644faba26bbbe848acbc9": {
     "model_module": "@jupyter-widgets/controls",
     "model_name": "SliderStyleModel",
     "state": {
      "_model_module": "@jupyter-widgets/controls",
      "_model_module_version": "1.5.0",
      "_model_name": "SliderStyleModel",
      "_view_count": null,
      "_view_module": "@jupyter-widgets/base",
      "_view_module_version": "1.2.0",
      "_view_name": "StyleView",
      "description_width": "",
      "handle_color": null
     }
    },
    "df5415f739654713b3c7282a0325f00f": {
     "model_module": "@jupyter-widgets/controls",
     "model_name": "SliderStyleModel",
     "state": {
      "_model_module": "@jupyter-widgets/controls",
      "_model_module_version": "1.5.0",
      "_model_name": "SliderStyleModel",
      "_view_count": null,
      "_view_module": "@jupyter-widgets/base",
      "_view_module_version": "1.2.0",
      "_view_name": "StyleView",
      "description_width": "",
      "handle_color": null
     }
    },
    "fbae4c8fc8dc42e39ff9918e53e31382": {
     "model_module": "@jupyter-widgets/controls",
     "model_name": "IntSliderModel",
     "state": {
      "_dom_classes": [],
      "_model_module": "@jupyter-widgets/controls",
      "_model_module_version": "1.5.0",
      "_model_name": "IntSliderModel",
      "_view_count": null,
      "_view_module": "@jupyter-widgets/controls",
      "_view_module_version": "1.5.0",
      "_view_name": "IntSliderView",
      "continuous_update": true,
      "description": "x",
      "description_tooltip": null,
      "disabled": false,
      "layout": "IPY_MODEL_a2cafa9c66b5477b888ccabd8fc35ee6",
      "max": 1,
      "min": 0,
      "orientation": "horizontal",
      "readout": true,
      "readout_format": "d",
      "step": 1,
      "style": "IPY_MODEL_df5415f739654713b3c7282a0325f00f",
      "value": 0
     }
    },
    "fe699560af824ceb87403da6bf09ec93": {
     "model_module": "@jupyter-widgets/controls",
     "model_name": "DescriptionStyleModel",
     "state": {
      "_model_module": "@jupyter-widgets/controls",
      "_model_module_version": "1.5.0",
      "_model_name": "DescriptionStyleModel",
      "_view_count": null,
      "_view_module": "@jupyter-widgets/base",
      "_view_module_version": "1.2.0",
      "_view_name": "StyleView",
      "description_width": ""
     }
    }
   }
  }
 },
 "nbformat": 4,
 "nbformat_minor": 1
}
